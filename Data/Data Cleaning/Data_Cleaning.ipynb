{
 "cells": [
  {
   "cell_type": "markdown",
   "metadata": {
    "id": "PkrvP4IAh4xs"
   },
   "source": [
    "## Initializing and Loading Data"
   ]
  },
  {
   "cell_type": "code",
   "metadata": {
    "id": "SsL291wiX-Z7",
    "ExecuteTime": {
     "end_time": "2024-11-30T03:21:20.513945Z",
     "start_time": "2024-11-30T03:21:20.503282Z"
    }
   },
   "source": "file_location = \"../Datasets/TMDB_movie_dataset_v11.csv\"",
   "outputs": [],
   "execution_count": 138
  },
  {
   "cell_type": "code",
   "metadata": {
    "id": "7GfpLylDT_ZF",
    "ExecuteTime": {
     "end_time": "2024-11-30T03:21:20.529380Z",
     "start_time": "2024-11-30T03:21:20.519193Z"
    }
   },
   "source": [
    "import pandas as pd\n",
    "import numpy as np"
   ],
   "outputs": [],
   "execution_count": 139
  },
  {
   "cell_type": "code",
   "metadata": {
    "id": "-BJXygPDWWO2",
    "ExecuteTime": {
     "end_time": "2024-11-30T03:22:01.214734Z",
     "start_time": "2024-11-30T03:21:20.529380Z"
    }
   },
   "source": [
    "backup = pd.read_csv(file_location)"
   ],
   "outputs": [],
   "execution_count": 140
  },
  {
   "cell_type": "markdown",
   "metadata": {
    "id": "LiK8vvP2HOw1"
   },
   "source": [
    "### Backup"
   ]
  },
  {
   "cell_type": "code",
   "metadata": {
    "id": "f-djdyGkwB5L",
    "ExecuteTime": {
     "end_time": "2024-11-30T03:22:18.175312Z",
     "start_time": "2024-11-30T03:22:01.398571Z"
    }
   },
   "source": [
    "data = backup.copy(deep=True)"
   ],
   "outputs": [],
   "execution_count": 141
  },
  {
   "cell_type": "markdown",
   "metadata": {
    "id": "O68yA50_h2su"
   },
   "source": [
    "## Initial Data Cleaning"
   ]
  },
  {
   "cell_type": "code",
   "metadata": {
    "colab": {
     "base_uri": "https://localhost:8080/"
    },
    "id": "vrKXPmywfkPh",
    "outputId": "253bc195-ab35-4993-8c3f-1a54169c83d9",
    "ExecuteTime": {
     "end_time": "2024-11-30T03:22:18.362541Z",
     "start_time": "2024-11-30T03:22:18.318893Z"
    }
   },
   "source": [
    "initial = len(data)\n",
    "before = initial\n",
    "initial"
   ],
   "outputs": [
    {
     "data": {
      "text/plain": [
       "1104439"
      ]
     },
     "execution_count": 142,
     "metadata": {},
     "output_type": "execute_result"
    }
   ],
   "execution_count": 142
  },
  {
   "cell_type": "markdown",
   "metadata": {
    "id": "S7TwafyOdQPI"
   },
   "source": [
    "### Getting rid of duplicate rows"
   ]
  },
  {
   "cell_type": "code",
   "metadata": {
    "colab": {
     "base_uri": "https://localhost:8080/"
    },
    "id": "NOM2iEK5e7BX",
    "outputId": "67afb7b2-e53d-4151-9791-b2c02338fdea",
    "ExecuteTime": {
     "end_time": "2024-11-30T03:22:32.873042Z",
     "start_time": "2024-11-30T03:22:18.585899Z"
    }
   },
   "source": [
    "data = data.drop_duplicates()\n",
    "after = len(data)\n",
    "print(f\"Removed {(before - after)} duplicate rows. {after} rows left.\")\n",
    "before = after"
   ],
   "outputs": [
    {
     "name": "stdout",
     "output_type": "stream",
     "text": [
      "Removed 366 duplicate rows. 1104073 rows left.\n"
     ]
    }
   ],
   "execution_count": 143
  },
  {
   "cell_type": "markdown",
   "metadata": {
    "id": "6zjf8Aewlh7N"
   },
   "source": [
    "### Removing unreleased movies"
   ]
  },
  {
   "cell_type": "markdown",
   "metadata": {
    "id": "T-oR35rLcGry"
   },
   "source": [
    "The status column shows what stage of production the movie is in. We are only concerned with movies that have been released."
   ]
  },
  {
   "cell_type": "code",
   "metadata": {
    "colab": {
     "base_uri": "https://localhost:8080/",
     "height": 304
    },
    "id": "CTNplgQkac4o",
    "outputId": "0b1d861f-4558-4cc7-db4d-01875c4990ed",
    "ExecuteTime": {
     "end_time": "2024-11-30T03:22:33.426890Z",
     "start_time": "2024-11-30T03:22:33.123032Z"
    }
   },
   "source": [
    "data.status.value_counts()"
   ],
   "outputs": [
    {
     "data": {
      "text/plain": [
       "status\n",
       "Released           1080967\n",
       "In Production         8753\n",
       "Post Production       7412\n",
       "Planned               6321\n",
       "Rumored                323\n",
       "Canceled               297\n",
       "Name: count, dtype: int64"
      ]
     },
     "execution_count": 144,
     "metadata": {},
     "output_type": "execute_result"
    }
   ],
   "execution_count": 144
  },
  {
   "cell_type": "markdown",
   "metadata": {
    "id": "HQPWrd44cbco"
   },
   "source": [
    "Getting rid of unreleased movies:"
   ]
  },
  {
   "cell_type": "code",
   "metadata": {
    "colab": {
     "base_uri": "https://localhost:8080/"
    },
    "id": "fypwz5XPca3E",
    "outputId": "37d7ab49-f080-4fb3-f4bb-01b4de77e28f",
    "ExecuteTime": {
     "end_time": "2024-11-30T03:22:34.324540Z",
     "start_time": "2024-11-30T03:22:33.452965Z"
    }
   },
   "source": [
    "data = data[data['status'] == \"Released\"]\n",
    "after = len(data)\n",
    "print(f\"Removed {before - after} unreleased movies. {after} rows left.\")\n",
    "before = after"
   ],
   "outputs": [
    {
     "name": "stdout",
     "output_type": "stream",
     "text": [
      "Removed 23106 unreleased movies. 1080967 rows left.\n"
     ]
    }
   ],
   "execution_count": 145
  },
  {
   "cell_type": "markdown",
   "metadata": {
    "id": "Dv5D7aiQ_nda"
   },
   "source": [
    "\n",
    "The release date of some rows are in the future, even though they are marked as `'Released'`. `release_date` is currently an `object` type and needs to be converted to a `datetime` type to be handled."
   ]
  },
  {
   "cell_type": "code",
   "metadata": {
    "colab": {
     "base_uri": "https://localhost:8080/",
     "height": 304
    },
    "id": "9jZj25Gl_w9c",
    "outputId": "413b66ea-1401-40ef-91d9-6e65377246ea",
    "ExecuteTime": {
     "end_time": "2024-11-30T03:22:36.750255Z",
     "start_time": "2024-11-30T03:22:34.595167Z"
    }
   },
   "source": [
    "data['release_date'] = pd.to_datetime(data['release_date'])\n",
    "data.release_date.describe()"
   ],
   "outputs": [
    {
     "data": {
      "text/plain": [
       "count                           924375\n",
       "mean     1999-11-03 19:22:06.237079040\n",
       "min                1800-01-01 00:00:00\n",
       "25%                1989-01-01 00:00:00\n",
       "50%                2010-07-30 00:00:00\n",
       "75%                2018-10-15 00:00:00\n",
       "max                2061-12-07 00:00:00\n",
       "Name: release_date, dtype: object"
      ]
     },
     "execution_count": 146,
     "metadata": {},
     "output_type": "execute_result"
    }
   ],
   "execution_count": 146
  },
  {
   "cell_type": "markdown",
   "metadata": {
    "id": "souXVtBJAOid"
   },
   "source": [
    "Dropping all movies with a release date in the future:"
   ]
  },
  {
   "cell_type": "code",
   "metadata": {
    "colab": {
     "base_uri": "https://localhost:8080/"
    },
    "id": "DBGiXIFBAEza",
    "outputId": "659e3a48-fa9b-4a7c-af9a-fc28bf320e4b",
    "ExecuteTime": {
     "end_time": "2024-11-30T03:22:38.336227Z",
     "start_time": "2024-11-30T03:22:36.883739Z"
    }
   },
   "source": [
    "from datetime import date\n",
    "today = pd.to_datetime(date.today())\n",
    "data = data[data['release_date'] < today]\n",
    "after = len(data)\n",
    "print(f\"Removed {before - after} future movies. {after} rows left.\")\n",
    "before = after"
   ],
   "outputs": [
    {
     "name": "stdout",
     "output_type": "stream",
     "text": [
      "Removed 156673 future movies. 924294 rows left.\n"
     ]
    }
   ],
   "execution_count": 147
  },
  {
   "cell_type": "code",
   "metadata": {
    "colab": {
     "base_uri": "https://localhost:8080/",
     "height": 304
    },
    "id": "IlOgUKMuI1qW",
    "outputId": "55912bc6-25a4-49f6-aca2-b4dda7037eb5",
    "ExecuteTime": {
     "end_time": "2024-11-30T03:22:38.890960Z",
     "start_time": "2024-11-30T03:22:38.491824Z"
    }
   },
   "source": [
    "data.release_date.describe()"
   ],
   "outputs": [
    {
     "data": {
      "text/plain": [
       "count                           924294\n",
       "mean     1999-11-02 22:36:37.311245184\n",
       "min                1800-01-01 00:00:00\n",
       "25%                1989-01-01 00:00:00\n",
       "50%                2010-07-30 00:00:00\n",
       "75%                2018-10-14 00:00:00\n",
       "max                2024-11-21 00:00:00\n",
       "Name: release_date, dtype: object"
      ]
     },
     "execution_count": 148,
     "metadata": {},
     "output_type": "execute_result"
    }
   ],
   "execution_count": 148
  },
  {
   "cell_type": "markdown",
   "metadata": {
    "id": "gmxcZYRI4p6G"
   },
   "source": [
    "Now the status column can be dropped."
   ]
  },
  {
   "cell_type": "code",
   "metadata": {
    "colab": {
     "base_uri": "https://localhost:8080/"
    },
    "id": "0Z4mO4Gi43eg",
    "outputId": "26c0c49f-e6d2-43cd-b4d2-51926d3b9f9d",
    "ExecuteTime": {
     "end_time": "2024-11-30T03:22:39.871300Z",
     "start_time": "2024-11-30T03:22:39.001398Z"
    }
   },
   "source": [
    "data = data.drop(columns='status')\n",
    "data.columns"
   ],
   "outputs": [
    {
     "data": {
      "text/plain": [
       "Index(['id', 'title', 'vote_average', 'vote_count', 'release_date', 'revenue',\n",
       "       'runtime', 'adult', 'backdrop_path', 'budget', 'homepage', 'imdb_id',\n",
       "       'original_language', 'original_title', 'overview', 'popularity',\n",
       "       'poster_path', 'tagline', 'genres', 'production_companies',\n",
       "       'production_countries', 'spoken_languages', 'keywords'],\n",
       "      dtype='object')"
      ]
     },
     "execution_count": 149,
     "metadata": {},
     "output_type": "execute_result"
    }
   ],
   "execution_count": 149
  },
  {
   "cell_type": "markdown",
   "metadata": {
    "id": "RXdjGGwSpg09"
   },
   "source": [
    "### Removing porn"
   ]
  },
  {
   "cell_type": "markdown",
   "metadata": {
    "id": "Hj02tFlkpqdk"
   },
   "source": [
    "The `adult` column designates if a row is an adult film. These will be dropped:"
   ]
  },
  {
   "cell_type": "code",
   "metadata": {
    "colab": {
     "base_uri": "https://localhost:8080/"
    },
    "id": "3-8MfdrupqGQ",
    "outputId": "f0d3d2db-89cd-4ffc-bfbb-4b1c9cbe54eb",
    "ExecuteTime": {
     "end_time": "2024-11-30T03:22:40.311835Z",
     "start_time": "2024-11-30T03:22:39.921201Z"
    }
   },
   "source": [
    "data = data[data['adult'] == False]\n",
    "after = len(data)\n",
    "print(f\"Removed {before - after} adult films. {after} rows left.\")\n",
    "before = after"
   ],
   "outputs": [
    {
     "name": "stdout",
     "output_type": "stream",
     "text": [
      "Removed 91414 adult films. 832880 rows left.\n"
     ]
    }
   ],
   "execution_count": 150
  },
  {
   "cell_type": "markdown",
   "metadata": {
    "id": "KoqhwPIliJKd"
   },
   "source": [
    "### Getting rid of duplicate IDs"
   ]
  },
  {
   "cell_type": "code",
   "metadata": {
    "colab": {
     "base_uri": "https://localhost:8080/"
    },
    "id": "GCvIP2Bohbo1",
    "outputId": "39d30191-a1f4-47e2-ace5-6ece78b5ce1d",
    "ExecuteTime": {
     "end_time": "2024-11-30T03:22:40.489497Z",
     "start_time": "2024-11-30T03:22:40.404381Z"
    }
   },
   "source": [
    "print(f\"There are {before - data.id.nunique()} rows with a repeated id.\")"
   ],
   "outputs": [
    {
     "name": "stdout",
     "output_type": "stream",
     "text": [
      "There are 7 rows with a repeated id.\n"
     ]
    }
   ],
   "execution_count": 151
  },
  {
   "cell_type": "markdown",
   "metadata": {
    "id": "OIoEBeYOnNWo"
   },
   "source": [
    "Lower indexed entries are more up-to-date and more complete. Removing rows with duplicated IDs, only keeping the first occurance."
   ]
  },
  {
   "cell_type": "code",
   "metadata": {
    "colab": {
     "base_uri": "https://localhost:8080/"
    },
    "id": "36b_zQUNnjNF",
    "outputId": "0e423bba-5dc4-4a58-feba-058e459686a8",
    "ExecuteTime": {
     "end_time": "2024-11-30T03:22:40.971030Z",
     "start_time": "2024-11-30T03:22:40.513191Z"
    }
   },
   "source": [
    "data = data.drop_duplicates(subset=['id'], keep='first')\n",
    "after = len(data)\n",
    "print(f\"Removed {before - after} duplicate IDs. {after} rows left.\")\n",
    "before = after"
   ],
   "outputs": [
    {
     "name": "stdout",
     "output_type": "stream",
     "text": [
      "Removed 7 duplicate IDs. 832873 rows left.\n"
     ]
    }
   ],
   "execution_count": 152
  },
  {
   "cell_type": "code",
   "metadata": {
    "colab": {
     "base_uri": "https://localhost:8080/"
    },
    "id": "N3tjUth2pOsc",
    "outputId": "dadc3022-cae2-4027-b707-cdc808d12778",
    "ExecuteTime": {
     "end_time": "2024-11-30T03:22:41.049273Z",
     "start_time": "2024-11-30T03:22:40.985138Z"
    }
   },
   "source": [
    "data.id.nunique()"
   ],
   "outputs": [
    {
     "data": {
      "text/plain": [
       "832873"
      ]
     },
     "execution_count": 153,
     "metadata": {},
     "output_type": "execute_result"
    }
   ],
   "execution_count": 153
  },
  {
   "cell_type": "markdown",
   "metadata": {
    "id": "iYvLzDqwioCF"
   },
   "source": [
    "### Dropping unusable columns"
   ]
  },
  {
   "cell_type": "markdown",
   "metadata": {
    "id": "FAbNKzrjk6u7"
   },
   "source": [
    "Checking columns:"
   ]
  },
  {
   "cell_type": "code",
   "metadata": {
    "colab": {
     "base_uri": "https://localhost:8080/"
    },
    "id": "8hNPR-jgXKCj",
    "outputId": "d6aeb63b-70e1-4fc5-9536-2ecfe61262f3",
    "ExecuteTime": {
     "end_time": "2024-11-30T03:22:41.079127Z",
     "start_time": "2024-11-30T03:22:41.053904Z"
    }
   },
   "source": [
    "data.columns"
   ],
   "outputs": [
    {
     "data": {
      "text/plain": [
       "Index(['id', 'title', 'vote_average', 'vote_count', 'release_date', 'revenue',\n",
       "       'runtime', 'adult', 'backdrop_path', 'budget', 'homepage', 'imdb_id',\n",
       "       'original_language', 'original_title', 'overview', 'popularity',\n",
       "       'poster_path', 'tagline', 'genres', 'production_companies',\n",
       "       'production_countries', 'spoken_languages', 'keywords'],\n",
       "      dtype='object')"
      ]
     },
     "execution_count": 154,
     "metadata": {},
     "output_type": "execute_result"
    }
   ],
   "execution_count": 154
  },
  {
   "cell_type": "code",
   "metadata": {
    "colab": {
     "base_uri": "https://localhost:8080/",
     "height": 175
    },
    "id": "ykMq5YTNtBqe",
    "outputId": "fc6d7bc2-2f83-43bf-ed72-d8144900e800",
    "ExecuteTime": {
     "end_time": "2024-11-30T03:22:42.979952Z",
     "start_time": "2024-11-30T03:22:41.126026Z"
    }
   },
   "source": [
    "data[['backdrop_path', 'homepage', 'poster_path']].describe()"
   ],
   "outputs": [
    {
     "data": {
      "text/plain": [
       "                           backdrop_path                        homepage  \\\n",
       "count                             256526                          100465   \n",
       "unique                            254413                           94839   \n",
       "top     /3CxwYgqGtJ6UEGfWUT0gMYCIlFP.jpg  https://animation.geidai.ac.jp   \n",
       "freq                                 157                             147   \n",
       "\n",
       "                             poster_path  \n",
       "count                             626314  \n",
       "unique                            622922  \n",
       "top     /wtoKLMm4UvkwvcSwO3XWcs1gJuF.jpg  \n",
       "freq                                  54  "
      ],
      "text/html": [
       "<div>\n",
       "<style scoped>\n",
       "    .dataframe tbody tr th:only-of-type {\n",
       "        vertical-align: middle;\n",
       "    }\n",
       "\n",
       "    .dataframe tbody tr th {\n",
       "        vertical-align: top;\n",
       "    }\n",
       "\n",
       "    .dataframe thead th {\n",
       "        text-align: right;\n",
       "    }\n",
       "</style>\n",
       "<table border=\"1\" class=\"dataframe\">\n",
       "  <thead>\n",
       "    <tr style=\"text-align: right;\">\n",
       "      <th></th>\n",
       "      <th>backdrop_path</th>\n",
       "      <th>homepage</th>\n",
       "      <th>poster_path</th>\n",
       "    </tr>\n",
       "  </thead>\n",
       "  <tbody>\n",
       "    <tr>\n",
       "      <th>count</th>\n",
       "      <td>256526</td>\n",
       "      <td>100465</td>\n",
       "      <td>626314</td>\n",
       "    </tr>\n",
       "    <tr>\n",
       "      <th>unique</th>\n",
       "      <td>254413</td>\n",
       "      <td>94839</td>\n",
       "      <td>622922</td>\n",
       "    </tr>\n",
       "    <tr>\n",
       "      <th>top</th>\n",
       "      <td>/3CxwYgqGtJ6UEGfWUT0gMYCIlFP.jpg</td>\n",
       "      <td>https://animation.geidai.ac.jp</td>\n",
       "      <td>/wtoKLMm4UvkwvcSwO3XWcs1gJuF.jpg</td>\n",
       "    </tr>\n",
       "    <tr>\n",
       "      <th>freq</th>\n",
       "      <td>157</td>\n",
       "      <td>147</td>\n",
       "      <td>54</td>\n",
       "    </tr>\n",
       "  </tbody>\n",
       "</table>\n",
       "</div>"
      ]
     },
     "execution_count": 155,
     "metadata": {},
     "output_type": "execute_result"
    }
   ],
   "execution_count": 155
  },
  {
   "cell_type": "markdown",
   "metadata": {
    "id": "RSa_2HdUryQp"
   },
   "source": [
    "The `backdrop_path`, `homepage`, and `poster_path` columns do not contain any useful data. These can be dropped."
   ]
  },
  {
   "cell_type": "code",
   "metadata": {
    "colab": {
     "base_uri": "https://localhost:8080/"
    },
    "id": "qi-xkEZCrxkm",
    "outputId": "1f687bbe-b5b3-4b6a-ba33-08e7a330e88b",
    "ExecuteTime": {
     "end_time": "2024-11-30T03:22:43.455644Z",
     "start_time": "2024-11-30T03:22:42.999634Z"
    }
   },
   "source": [
    "data = data.drop(columns=['backdrop_path', 'homepage', 'poster_path'])\n",
    "data.columns"
   ],
   "outputs": [
    {
     "data": {
      "text/plain": [
       "Index(['id', 'title', 'vote_average', 'vote_count', 'release_date', 'revenue',\n",
       "       'runtime', 'adult', 'budget', 'imdb_id', 'original_language',\n",
       "       'original_title', 'overview', 'popularity', 'tagline', 'genres',\n",
       "       'production_companies', 'production_countries', 'spoken_languages',\n",
       "       'keywords'],\n",
       "      dtype='object')"
      ]
     },
     "execution_count": 156,
     "metadata": {},
     "output_type": "execute_result"
    }
   ],
   "execution_count": 156
  },
  {
   "cell_type": "markdown",
   "metadata": {
    "id": "RU3gFXnT9bL6"
   },
   "source": [
    "## Analyzing Columns"
   ]
  },
  {
   "cell_type": "code",
   "metadata": {
    "colab": {
     "base_uri": "https://localhost:8080/"
    },
    "id": "3lTsvmrlFW-2",
    "outputId": "9a687f08-4aaa-4a5a-d083-6d56656e7a24",
    "ExecuteTime": {
     "end_time": "2024-11-30T03:22:43.559920Z",
     "start_time": "2024-11-30T03:22:43.550765Z"
    }
   },
   "source": [
    "data.columns"
   ],
   "outputs": [
    {
     "data": {
      "text/plain": [
       "Index(['id', 'title', 'vote_average', 'vote_count', 'release_date', 'revenue',\n",
       "       'runtime', 'adult', 'budget', 'imdb_id', 'original_language',\n",
       "       'original_title', 'overview', 'popularity', 'tagline', 'genres',\n",
       "       'production_companies', 'production_countries', 'spoken_languages',\n",
       "       'keywords'],\n",
       "      dtype='object')"
      ]
     },
     "execution_count": 157,
     "metadata": {},
     "output_type": "execute_result"
    }
   ],
   "execution_count": 157
  },
  {
   "cell_type": "markdown",
   "metadata": {
    "id": "4P8GfQoE9QeZ"
   },
   "source": [
    "### `title`"
   ]
  },
  {
   "cell_type": "code",
   "metadata": {
    "colab": {
     "base_uri": "https://localhost:8080/",
     "height": 210
    },
    "id": "yvGNigDn9bsy",
    "outputId": "a10a48e7-1d48-4f83-9bc5-d1af5d0e20f7",
    "ExecuteTime": {
     "end_time": "2024-11-30T03:22:45.492909Z",
     "start_time": "2024-11-30T03:22:43.770591Z"
    }
   },
   "source": [
    "data.title.describe()"
   ],
   "outputs": [
    {
     "data": {
      "text/plain": [
       "count     832869\n",
       "unique    717071\n",
       "top         Home\n",
       "freq         124\n",
       "Name: title, dtype: object"
      ]
     },
     "execution_count": 158,
     "metadata": {},
     "output_type": "execute_result"
    }
   ],
   "execution_count": 158
  },
  {
   "cell_type": "code",
   "metadata": {
    "colab": {
     "base_uri": "https://localhost:8080/",
     "height": 241
    },
    "id": "mHMk-c7HFb9p",
    "outputId": "1ff60b5a-a8fd-4104-b902-99c1723ee558",
    "ExecuteTime": {
     "end_time": "2024-11-30T03:22:45.601288Z",
     "start_time": "2024-11-30T03:22:45.547410Z"
    }
   },
   "source": [
    "data['title'].sample(5)"
   ],
   "outputs": [
    {
     "data": {
      "text/plain": [
       "803622                                Listen\n",
       "1064944                                 1987\n",
       "409687                            Desajonado\n",
       "401752                             The Wound\n",
       "514660     Dream Boy or the Pursuit of Being\n",
       "Name: title, dtype: object"
      ]
     },
     "execution_count": 159,
     "metadata": {},
     "output_type": "execute_result"
    }
   ],
   "execution_count": 159
  },
  {
   "cell_type": "markdown",
   "metadata": {
    "id": "GqOTx371IofS"
   },
   "source": [
    "### `vote_average`"
   ]
  },
  {
   "cell_type": "code",
   "metadata": {
    "colab": {
     "base_uri": "https://localhost:8080/",
     "height": 335
    },
    "id": "SSmnp8YeT6Xm",
    "outputId": "aba9d9f9-19f7-4f68-b9dc-471663e10ecf",
    "ExecuteTime": {
     "end_time": "2024-11-30T03:22:46.395931Z",
     "start_time": "2024-11-30T03:22:45.987012Z"
    }
   },
   "source": [
    "data.vote_average.describe()"
   ],
   "outputs": [
    {
     "data": {
      "text/plain": [
       "count    832873.000000\n",
       "mean          2.320314\n",
       "std           3.148997\n",
       "min           0.000000\n",
       "25%           0.000000\n",
       "50%           0.000000\n",
       "75%           5.400000\n",
       "max          10.000000\n",
       "Name: vote_average, dtype: float64"
      ]
     },
     "execution_count": 160,
     "metadata": {},
     "output_type": "execute_result"
    }
   ],
   "execution_count": 160
  },
  {
   "cell_type": "code",
   "metadata": {
    "colab": {
     "base_uri": "https://localhost:8080/",
     "height": 447
    },
    "id": "xq2he24LIrMA",
    "outputId": "1a4125bd-4cee-4586-9fb2-f8e480e2133a",
    "ExecuteTime": {
     "end_time": "2024-11-30T03:22:48.790596Z",
     "start_time": "2024-11-30T03:22:47.107016Z"
    }
   },
   "source": [
    "data.vote_average.plot.hist(bins=100)"
   ],
   "outputs": [
    {
     "data": {
      "text/plain": [
       "<Axes: ylabel='Frequency'>"
      ]
     },
     "execution_count": 161,
     "metadata": {},
     "output_type": "execute_result"
    },
    {
     "data": {
      "text/plain": [
       "<Figure size 640x480 with 1 Axes>"
      ],
      "image/png": "[encoded data removed]"
     },
     "metadata": {},
     "output_type": "display_data"
    }
   ],
   "execution_count": 161
  },
  {
   "cell_type": "markdown",
   "metadata": {
    "id": "39GMMj-oI7co"
   },
   "source": [
    "There are an overwhelmingly large amount of $0.0$ vote averages. This is because they have $0$ `vote_count`. It's inappropriate to consider a movie with no votes to be $0.0$ on a $1\\text{-}10$ scale that does not permit $0$. These should be replaced with `NaN`."
   ]
  },
  {
   "cell_type": "code",
   "metadata": {
    "colab": {
     "base_uri": "https://localhost:8080/",
     "height": 447
    },
    "id": "qzggfHGiKk17",
    "outputId": "b2a91f11-39ff-48f7-b4b6-f0ca34baab01",
    "ExecuteTime": {
     "end_time": "2024-11-30T03:22:49.579274Z",
     "start_time": "2024-11-30T03:22:48.873703Z"
    }
   },
   "source": [
    "data.vote_average.replace(0, np.nan, inplace=True)\n",
    "data.vote_average.plot.hist(bins=90)"
   ],
   "outputs": [
    {
     "data": {
      "text/plain": [
       "<Axes: ylabel='Frequency'>"
      ]
     },
     "execution_count": 162,
     "metadata": {},
     "output_type": "execute_result"
    },
    {
     "data": {
      "text/plain": [
       "<Figure size 640x480 with 1 Axes>"
      ],
      "image/png": "[encoded data removed]"
     },
     "metadata": {},
     "output_type": "display_data"
    }
   ],
   "execution_count": 162
  },
  {
   "cell_type": "code",
   "metadata": {
    "colab": {
     "base_uri": "https://localhost:8080/",
     "height": 205
    },
    "id": "-TLXtq1fKuWg",
    "outputId": "ea422c17-ba2e-46c1-d13b-5fa562ec4798",
    "ExecuteTime": {
     "end_time": "2024-11-30T03:22:53.331335Z",
     "start_time": "2024-11-30T03:22:49.588284Z"
    }
   },
   "source": [
    "scoredNoVotes = data.query('vote_count == 0 and vote_average != 0')\n",
    "print(f\"Amount of movies with no votes but have a vote average anyway: {len(scoredNoVotes)}\")\n",
    "scoredNoVotes.sample()"
   ],
   "outputs": [
    {
     "name": "stdout",
     "output_type": "stream",
     "text": [
      "Amount of movies with no votes but have a vote average anyway: 509676\n"
     ]
    },
    {
     "data": {
      "text/plain": [
       "             id                    title  vote_average  vote_count  \\\n",
       "1044783  639594  Sida d'ici et de là-bas           NaN           0   \n",
       "\n",
       "        release_date  revenue  runtime  adult  budget    imdb_id  \\\n",
       "1044783   1998-01-01        0       52  False       0  tt0176138   \n",
       "\n",
       "        original_language           original_title overview  popularity  \\\n",
       "1044783                fr  Sida d'ici et de là-bas      NaN         0.6   \n",
       "\n",
       "        tagline       genres production_companies production_countries  \\\n",
       "1044783     NaN  Documentary                  NaN              Belgium   \n",
       "\n",
       "        spoken_languages keywords  \n",
       "1044783           French      NaN  "
      ],
      "text/html": [
       "<div>\n",
       "<style scoped>\n",
       "    .dataframe tbody tr th:only-of-type {\n",
       "        vertical-align: middle;\n",
       "    }\n",
       "\n",
       "    .dataframe tbody tr th {\n",
       "        vertical-align: top;\n",
       "    }\n",
       "\n",
       "    .dataframe thead th {\n",
       "        text-align: right;\n",
       "    }\n",
       "</style>\n",
       "<table border=\"1\" class=\"dataframe\">\n",
       "  <thead>\n",
       "    <tr style=\"text-align: right;\">\n",
       "      <th></th>\n",
       "      <th>id</th>\n",
       "      <th>title</th>\n",
       "      <th>vote_average</th>\n",
       "      <th>vote_count</th>\n",
       "      <th>release_date</th>\n",
       "      <th>revenue</th>\n",
       "      <th>runtime</th>\n",
       "      <th>adult</th>\n",
       "      <th>budget</th>\n",
       "      <th>imdb_id</th>\n",
       "      <th>original_language</th>\n",
       "      <th>original_title</th>\n",
       "      <th>overview</th>\n",
       "      <th>popularity</th>\n",
       "      <th>tagline</th>\n",
       "      <th>genres</th>\n",
       "      <th>production_companies</th>\n",
       "      <th>production_countries</th>\n",
       "      <th>spoken_languages</th>\n",
       "      <th>keywords</th>\n",
       "    </tr>\n",
       "  </thead>\n",
       "  <tbody>\n",
       "    <tr>\n",
       "      <th>1044783</th>\n",
       "      <td>639594</td>\n",
       "      <td>Sida d'ici et de là-bas</td>\n",
       "      <td>NaN</td>\n",
       "      <td>0</td>\n",
       "      <td>1998-01-01</td>\n",
       "      <td>0</td>\n",
       "      <td>52</td>\n",
       "      <td>False</td>\n",
       "      <td>0</td>\n",
       "      <td>tt0176138</td>\n",
       "      <td>fr</td>\n",
       "      <td>Sida d'ici et de là-bas</td>\n",
       "      <td>NaN</td>\n",
       "      <td>0.6</td>\n",
       "      <td>NaN</td>\n",
       "      <td>Documentary</td>\n",
       "      <td>NaN</td>\n",
       "      <td>Belgium</td>\n",
       "      <td>French</td>\n",
       "      <td>NaN</td>\n",
       "    </tr>\n",
       "  </tbody>\n",
       "</table>\n",
       "</div>"
      ]
     },
     "execution_count": 163,
     "metadata": {},
     "output_type": "execute_result"
    }
   ],
   "execution_count": 163
  },
  {
   "cell_type": "markdown",
   "metadata": {
    "id": "QGceXn0YHPpL"
   },
   "source": [
    "There are some movies with $0$ `vote_count` but with a real `vote_average`."
   ]
  },
  {
   "cell_type": "markdown",
   "metadata": {
    "id": "ozPu0gAi-IM5"
   },
   "source": [
    "### `vote_count`"
   ]
  },
  {
   "cell_type": "code",
   "metadata": {
    "colab": {
     "base_uri": "https://localhost:8080/",
     "height": 335
    },
    "id": "VdzmKetP-LiH",
    "outputId": "334f66ac-e0d3-427a-f2ce-054eaa821d76",
    "ExecuteTime": {
     "end_time": "2024-11-30T03:22:53.518471Z",
     "start_time": "2024-11-30T03:22:53.348845Z"
    }
   },
   "source": [
    "data.vote_count.describe()"
   ],
   "outputs": [
    {
     "data": {
      "text/plain": [
       "count    832873.000000\n",
       "mean         25.700116\n",
       "std         371.852551\n",
       "min           0.000000\n",
       "25%           0.000000\n",
       "50%           0.000000\n",
       "75%           2.000000\n",
       "max       34495.000000\n",
       "Name: vote_count, dtype: float64"
      ]
     },
     "execution_count": 164,
     "metadata": {},
     "output_type": "execute_result"
    }
   ],
   "execution_count": 164
  },
  {
   "cell_type": "code",
   "metadata": {
    "colab": {
     "base_uri": "https://localhost:8080/",
     "height": 447
    },
    "id": "JQGjQAFe-7PV",
    "outputId": "f647eb30-6b6a-4743-f2a1-b9e39f794ecf",
    "ExecuteTime": {
     "end_time": "2024-11-30T03:22:54.656108Z",
     "start_time": "2024-11-30T03:22:53.657064Z"
    }
   },
   "source": [
    "data.vote_count.plot.hist()"
   ],
   "outputs": [
    {
     "data": {
      "text/plain": [
       "<Axes: ylabel='Frequency'>"
      ]
     },
     "execution_count": 165,
     "metadata": {},
     "output_type": "execute_result"
    },
    {
     "data": {
      "text/plain": [
       "<Figure size 640x480 with 1 Axes>"
      ],
      "image/png": "[encoded data removed]"
     },
     "metadata": {},
     "output_type": "display_data"
    }
   ],
   "execution_count": 165
  },
  {
   "cell_type": "markdown",
   "metadata": {
    "id": "gx_Ql5B7IRM3"
   },
   "source": [
    "Most movies only have a handful of votes, while others can have tens of thousands."
   ]
  },
  {
   "cell_type": "markdown",
   "metadata": {
    "id": "e3SU-doe_DBn"
   },
   "source": [
    "### `release_date`"
   ]
  },
  {
   "cell_type": "code",
   "metadata": {
    "colab": {
     "base_uri": "https://localhost:8080/"
    },
    "id": "pUTU7MThlJNw",
    "outputId": "dba4b109-ac61-41be-c728-78111a5d0c01",
    "ExecuteTime": {
     "end_time": "2024-11-30T03:22:55.147259Z",
     "start_time": "2024-11-30T03:22:54.878458Z"
    }
   },
   "source": [
    "type(data['release_date'][0])"
   ],
   "outputs": [
    {
     "data": {
      "text/plain": [
       "pandas._libs.tslibs.timestamps.Timestamp"
      ]
     },
     "execution_count": 166,
     "metadata": {},
     "output_type": "execute_result"
    }
   ],
   "execution_count": 166
  },
  {
   "cell_type": "code",
   "metadata": {
    "colab": {
     "base_uri": "https://localhost:8080/",
     "height": 465
    },
    "id": "mGNjpMUeKp3Z",
    "outputId": "23bc918f-107e-4326-f0b8-76a9ea09484a",
    "ExecuteTime": {
     "end_time": "2024-11-30T03:22:56.632798Z",
     "start_time": "2024-11-30T03:22:55.776614Z"
    }
   },
   "source": [
    "pd.to_numeric(data['release_date']).hist()"
   ],
   "outputs": [
    {
     "data": {
      "text/plain": [
       "<Axes: >"
      ]
     },
     "execution_count": 167,
     "metadata": {},
     "output_type": "execute_result"
    },
    {
     "data": {
      "text/plain": [
       "<Figure size 640x480 with 1 Axes>"
      ],
      "image/png": "[encoded data removed]"
     },
     "metadata": {},
     "output_type": "display_data"
    }
   ],
   "execution_count": 167
  },
  {
   "cell_type": "markdown",
   "metadata": {
    "id": "w5wQhCRiKNSb"
   },
   "source": [
    "As expected the majority of movies are recent."
   ]
  },
  {
   "cell_type": "code",
   "metadata": {
    "colab": {
     "base_uri": "https://localhost:8080/",
     "height": 170
    },
    "id": "8_spcK_T_J6H",
    "outputId": "69dfa3b2-b940-423f-d046-50f046eeda63",
    "ExecuteTime": {
     "end_time": "2024-11-30T03:22:56.678593Z",
     "start_time": "2024-11-30T03:22:56.638304Z"
    }
   },
   "source": [
    "data[data['release_date'] == data['release_date'].min()]"
   ],
   "outputs": [
    {
     "data": {
      "text/plain": [
       "             id                                title  vote_average  \\\n",
       "702570  1294302  בראול סטארס בחיים האמיתיים-אלון קאט           NaN   \n",
       "\n",
       "        vote_count release_date    revenue  runtime  adult  budget imdb_id  \\\n",
       "702570           0   1800-01-01  100000000        0  False       0     NaN   \n",
       "\n",
       "       original_language                       original_title overview  \\\n",
       "702570                he  בראול סטארס בחיים האמיתיים-אלון קאט      NaN   \n",
       "\n",
       "        popularity tagline                                 genres  \\\n",
       "702570         0.6     NaN  Horror, Drama, Thriller, Mystery, War   \n",
       "\n",
       "       production_companies production_countries spoken_languages keywords  \n",
       "702570           Salty Fish                  NaN              NaN      NaN  "
      ],
      "text/html": [
       "<div>\n",
       "<style scoped>\n",
       "    .dataframe tbody tr th:only-of-type {\n",
       "        vertical-align: middle;\n",
       "    }\n",
       "\n",
       "    .dataframe tbody tr th {\n",
       "        vertical-align: top;\n",
       "    }\n",
       "\n",
       "    .dataframe thead th {\n",
       "        text-align: right;\n",
       "    }\n",
       "</style>\n",
       "<table border=\"1\" class=\"dataframe\">\n",
       "  <thead>\n",
       "    <tr style=\"text-align: right;\">\n",
       "      <th></th>\n",
       "      <th>id</th>\n",
       "      <th>title</th>\n",
       "      <th>vote_average</th>\n",
       "      <th>vote_count</th>\n",
       "      <th>release_date</th>\n",
       "      <th>revenue</th>\n",
       "      <th>runtime</th>\n",
       "      <th>adult</th>\n",
       "      <th>budget</th>\n",
       "      <th>imdb_id</th>\n",
       "      <th>original_language</th>\n",
       "      <th>original_title</th>\n",
       "      <th>overview</th>\n",
       "      <th>popularity</th>\n",
       "      <th>tagline</th>\n",
       "      <th>genres</th>\n",
       "      <th>production_companies</th>\n",
       "      <th>production_countries</th>\n",
       "      <th>spoken_languages</th>\n",
       "      <th>keywords</th>\n",
       "    </tr>\n",
       "  </thead>\n",
       "  <tbody>\n",
       "    <tr>\n",
       "      <th>702570</th>\n",
       "      <td>1294302</td>\n",
       "      <td>בראול סטארס בחיים האמיתיים-אלון קאט</td>\n",
       "      <td>NaN</td>\n",
       "      <td>0</td>\n",
       "      <td>1800-01-01</td>\n",
       "      <td>100000000</td>\n",
       "      <td>0</td>\n",
       "      <td>False</td>\n",
       "      <td>0</td>\n",
       "      <td>NaN</td>\n",
       "      <td>he</td>\n",
       "      <td>בראול סטארס בחיים האמיתיים-אלון קאט</td>\n",
       "      <td>NaN</td>\n",
       "      <td>0.6</td>\n",
       "      <td>NaN</td>\n",
       "      <td>Horror, Drama, Thriller, Mystery, War</td>\n",
       "      <td>Salty Fish</td>\n",
       "      <td>NaN</td>\n",
       "      <td>NaN</td>\n",
       "      <td>NaN</td>\n",
       "    </tr>\n",
       "  </tbody>\n",
       "</table>\n",
       "</div>"
      ]
     },
     "execution_count": 168,
     "metadata": {},
     "output_type": "execute_result"
    }
   ],
   "execution_count": 168
  },
  {
   "cell_type": "markdown",
   "metadata": {
    "id": "NQtu0dXeJo_m"
   },
   "source": [
    "There are movies with improperly recorded dates."
   ]
  },
  {
   "cell_type": "code",
   "metadata": {
    "colab": {
     "base_uri": "https://localhost:8080/",
     "height": 487
    },
    "id": "Q24M87H0cPwh",
    "outputId": "ddc73f69-f710-4334-bd04-69aa5e6fadad",
    "ExecuteTime": {
     "end_time": "2024-11-30T03:22:56.809970Z",
     "start_time": "2024-11-30T03:22:56.750872Z"
    }
   },
   "source": [
    "data[data['release_date'] < pd.to_datetime('1900-01-01')].sort_values('release_date').head()"
   ],
   "outputs": [
    {
     "data": {
      "text/plain": [
       "             id                                title  vote_average  \\\n",
       "702570  1294302  בראול סטארס בחיים האמיתיים-אלון קאט           NaN   \n",
       "605145  1233885              A Farsa de Inês Pereira           NaN   \n",
       "640928  1314804                    Kaskisavun mailta           NaN   \n",
       "289005  1181748    Felix Nadar Spinning in his Chair          10.0   \n",
       "585283  1256924    Felix Nadar Spinning in his Chair           NaN   \n",
       "\n",
       "        vote_count release_date    revenue  runtime  adult  budget imdb_id  \\\n",
       "702570           0   1800-01-01  100000000        0  False       0     NaN   \n",
       "605145           0   1800-09-11          0       56  False       0     NaN   \n",
       "640928           0   1837-10-29          0       14  False       0     NaN   \n",
       "289005           1   1865-01-01          0        1  False       0     NaN   \n",
       "585283           0   1865-01-01          0        1  False       0     NaN   \n",
       "\n",
       "       original_language                       original_title  \\\n",
       "702570                he  בראול סטארס בחיים האמיתיים-אלון קאט   \n",
       "605145                pt              A Farsa de Inês Pereira   \n",
       "640928                en                    Kaskisavun mailta   \n",
       "289005                en    Felix Nadar Spinning in his Chair   \n",
       "585283                en    Felix Nadar Spinning in his Chair   \n",
       "\n",
       "                                                 overview  popularity  \\\n",
       "702570                                                NaN       0.600   \n",
       "605145  The farsades of ines pereira by the goat of my...       0.600   \n",
       "640928                          Finnish short documentary       0.651   \n",
       "289005  Revolving portrait of French photographer Feli...       1.162   \n",
       "585283                  Felix Nadar Spinning in his Chair       0.000   \n",
       "\n",
       "                      tagline                                 genres  \\\n",
       "702570                    NaN  Horror, Drama, Thriller, Mystery, War   \n",
       "605145                    NaN                                    NaN   \n",
       "640928                    NaN                                    NaN   \n",
       "289005                    NaN                            Documentary   \n",
       "585283  The frames that spun!                                    NaN   \n",
       "\n",
       "       production_companies production_countries spoken_languages keywords  \n",
       "702570           Salty Fish                  NaN              NaN      NaN  \n",
       "605145                  NaN                  NaN       Portuguese      NaN  \n",
       "640928                  NaN              Finland          Finnish      NaN  \n",
       "289005                  NaN               France              NaN      NaN  \n",
       "585283                  NaN                  NaN              NaN      NaN  "
      ],
      "text/html": [
       "<div>\n",
       "<style scoped>\n",
       "    .dataframe tbody tr th:only-of-type {\n",
       "        vertical-align: middle;\n",
       "    }\n",
       "\n",
       "    .dataframe tbody tr th {\n",
       "        vertical-align: top;\n",
       "    }\n",
       "\n",
       "    .dataframe thead th {\n",
       "        text-align: right;\n",
       "    }\n",
       "</style>\n",
       "<table border=\"1\" class=\"dataframe\">\n",
       "  <thead>\n",
       "    <tr style=\"text-align: right;\">\n",
       "      <th></th>\n",
       "      <th>id</th>\n",
       "      <th>title</th>\n",
       "      <th>vote_average</th>\n",
       "      <th>vote_count</th>\n",
       "      <th>release_date</th>\n",
       "      <th>revenue</th>\n",
       "      <th>runtime</th>\n",
       "      <th>adult</th>\n",
       "      <th>budget</th>\n",
       "      <th>imdb_id</th>\n",
       "      <th>original_language</th>\n",
       "      <th>original_title</th>\n",
       "      <th>overview</th>\n",
       "      <th>popularity</th>\n",
       "      <th>tagline</th>\n",
       "      <th>genres</th>\n",
       "      <th>production_companies</th>\n",
       "      <th>production_countries</th>\n",
       "      <th>spoken_languages</th>\n",
       "      <th>keywords</th>\n",
       "    </tr>\n",
       "  </thead>\n",
       "  <tbody>\n",
       "    <tr>\n",
       "      <th>702570</th>\n",
       "      <td>1294302</td>\n",
       "      <td>בראול סטארס בחיים האמיתיים-אלון קאט</td>\n",
       "      <td>NaN</td>\n",
       "      <td>0</td>\n",
       "      <td>1800-01-01</td>\n",
       "      <td>100000000</td>\n",
       "      <td>0</td>\n",
       "      <td>False</td>\n",
       "      <td>0</td>\n",
       "      <td>NaN</td>\n",
       "      <td>he</td>\n",
       "      <td>בראול סטארס בחיים האמיתיים-אלון קאט</td>\n",
       "      <td>NaN</td>\n",
       "      <td>0.600</td>\n",
       "      <td>NaN</td>\n",
       "      <td>Horror, Drama, Thriller, Mystery, War</td>\n",
       "      <td>Salty Fish</td>\n",
       "      <td>NaN</td>\n",
       "      <td>NaN</td>\n",
       "      <td>NaN</td>\n",
       "    </tr>\n",
       "    <tr>\n",
       "      <th>605145</th>\n",
       "      <td>1233885</td>\n",
       "      <td>A Farsa de Inês Pereira</td>\n",
       "      <td>NaN</td>\n",
       "      <td>0</td>\n",
       "      <td>1800-09-11</td>\n",
       "      <td>0</td>\n",
       "      <td>56</td>\n",
       "      <td>False</td>\n",
       "      <td>0</td>\n",
       "      <td>NaN</td>\n",
       "      <td>pt</td>\n",
       "      <td>A Farsa de Inês Pereira</td>\n",
       "      <td>The farsades of ines pereira by the goat of my...</td>\n",
       "      <td>0.600</td>\n",
       "      <td>NaN</td>\n",
       "      <td>NaN</td>\n",
       "      <td>NaN</td>\n",
       "      <td>NaN</td>\n",
       "      <td>Portuguese</td>\n",
       "      <td>NaN</td>\n",
       "    </tr>\n",
       "    <tr>\n",
       "      <th>640928</th>\n",
       "      <td>1314804</td>\n",
       "      <td>Kaskisavun mailta</td>\n",
       "      <td>NaN</td>\n",
       "      <td>0</td>\n",
       "      <td>1837-10-29</td>\n",
       "      <td>0</td>\n",
       "      <td>14</td>\n",
       "      <td>False</td>\n",
       "      <td>0</td>\n",
       "      <td>NaN</td>\n",
       "      <td>en</td>\n",
       "      <td>Kaskisavun mailta</td>\n",
       "      <td>Finnish short documentary</td>\n",
       "      <td>0.651</td>\n",
       "      <td>NaN</td>\n",
       "      <td>NaN</td>\n",
       "      <td>NaN</td>\n",
       "      <td>Finland</td>\n",
       "      <td>Finnish</td>\n",
       "      <td>NaN</td>\n",
       "    </tr>\n",
       "    <tr>\n",
       "      <th>289005</th>\n",
       "      <td>1181748</td>\n",
       "      <td>Felix Nadar Spinning in his Chair</td>\n",
       "      <td>10.0</td>\n",
       "      <td>1</td>\n",
       "      <td>1865-01-01</td>\n",
       "      <td>0</td>\n",
       "      <td>1</td>\n",
       "      <td>False</td>\n",
       "      <td>0</td>\n",
       "      <td>NaN</td>\n",
       "      <td>en</td>\n",
       "      <td>Felix Nadar Spinning in his Chair</td>\n",
       "      <td>Revolving portrait of French photographer Feli...</td>\n",
       "      <td>1.162</td>\n",
       "      <td>NaN</td>\n",
       "      <td>Documentary</td>\n",
       "      <td>NaN</td>\n",
       "      <td>France</td>\n",
       "      <td>NaN</td>\n",
       "      <td>NaN</td>\n",
       "    </tr>\n",
       "    <tr>\n",
       "      <th>585283</th>\n",
       "      <td>1256924</td>\n",
       "      <td>Felix Nadar Spinning in his Chair</td>\n",
       "      <td>NaN</td>\n",
       "      <td>0</td>\n",
       "      <td>1865-01-01</td>\n",
       "      <td>0</td>\n",
       "      <td>1</td>\n",
       "      <td>False</td>\n",
       "      <td>0</td>\n",
       "      <td>NaN</td>\n",
       "      <td>en</td>\n",
       "      <td>Felix Nadar Spinning in his Chair</td>\n",
       "      <td>Felix Nadar Spinning in his Chair</td>\n",
       "      <td>0.000</td>\n",
       "      <td>The frames that spun!</td>\n",
       "      <td>NaN</td>\n",
       "      <td>NaN</td>\n",
       "      <td>NaN</td>\n",
       "      <td>NaN</td>\n",
       "      <td>NaN</td>\n",
       "    </tr>\n",
       "  </tbody>\n",
       "</table>\n",
       "</div>"
      ]
     },
     "execution_count": 169,
     "metadata": {},
     "output_type": "execute_result"
    }
   ],
   "execution_count": 169
  },
  {
   "cell_type": "markdown",
   "metadata": {
    "id": "Uy9bZeGtJyEg"
   },
   "source": [
    "Luckily there are only a handful of these. The first legitimate film is in 1865, anything claiming to be older will be removed."
   ]
  },
  {
   "cell_type": "code",
   "metadata": {
    "id": "b3601kBzLCOe",
    "ExecuteTime": {
     "end_time": "2024-11-30T03:22:59.703510Z",
     "start_time": "2024-11-30T03:22:56.936915Z"
    }
   },
   "source": [
    "data = data[data['release_date'] >= pd.to_datetime('1865-01-01')]"
   ],
   "outputs": [],
   "execution_count": 170
  },
  {
   "cell_type": "markdown",
   "metadata": {
    "id": "KQxoiq5hLnnL"
   },
   "source": [
    "### `revenue`"
   ]
  },
  {
   "cell_type": "code",
   "metadata": {
    "colab": {
     "base_uri": "https://localhost:8080/",
     "height": 335
    },
    "id": "4kCO1PjNLyxZ",
    "outputId": "a589649a-e367-463b-d634-b0421c757369",
    "ExecuteTime": {
     "end_time": "2024-11-30T03:22:59.868679Z",
     "start_time": "2024-11-30T03:22:59.804916Z"
    }
   },
   "source": [
    "data.revenue.describe()"
   ],
   "outputs": [
    {
     "data": {
      "text/plain": [
       "count    8.328700e+05\n",
       "mean     8.841882e+05\n",
       "std      1.966081e+07\n",
       "min     -1.200000e+01\n",
       "25%      0.000000e+00\n",
       "50%      0.000000e+00\n",
       "75%      0.000000e+00\n",
       "max      3.000000e+09\n",
       "Name: revenue, dtype: float64"
      ]
     },
     "execution_count": 171,
     "metadata": {},
     "output_type": "execute_result"
    }
   ],
   "execution_count": 171
  },
  {
   "cell_type": "code",
   "metadata": {
    "colab": {
     "base_uri": "https://localhost:8080/"
    },
    "id": "WgAr-H9hNNET",
    "outputId": "01c44ae5-347a-4767-baf8-bdc2e0f49158",
    "ExecuteTime": {
     "end_time": "2024-11-30T03:23:00.009563Z",
     "start_time": "2024-11-30T03:22:59.953757Z"
    }
   },
   "source": [
    "data.revenue.info()"
   ],
   "outputs": [
    {
     "name": "stdout",
     "output_type": "stream",
     "text": [
      "<class 'pandas.core.series.Series'>\n",
      "Index: 832870 entries, 0 to 1104437\n",
      "Series name: revenue\n",
      "Non-Null Count   Dtype\n",
      "--------------   -----\n",
      "832870 non-null  int64\n",
      "dtypes: int64(1)\n",
      "memory usage: 12.7 MB\n"
     ]
    }
   ],
   "execution_count": 172
  },
  {
   "cell_type": "code",
   "metadata": {
    "colab": {
     "base_uri": "https://localhost:8080/",
     "height": 573
    },
    "id": "6Mt5l8DGL4Mb",
    "outputId": "ad6c5708-6cc4-486a-8ecb-e0a60af3289c",
    "ExecuteTime": {
     "end_time": "2024-11-30T03:23:00.616873Z",
     "start_time": "2024-11-30T03:23:00.126657Z"
    }
   },
   "source": [
    "revenue_sorted = data.sort_values('revenue')\n",
    "revenue_sorted.head()"
   ],
   "outputs": [
    {
     "data": {
      "text/plain": [
       "             id                                              title  \\\n",
       "181816   339294                                         Some Bears   \n",
       "104592   200862                                 Vigil in the Night   \n",
       "1083636  708698  The Sky's the Limit - The Eclipse of Star Trek...   \n",
       "1083637  708699                                             Amunet   \n",
       "1083638  708701                    Respect: A Felix Dexter Special   \n",
       "\n",
       "         vote_average  vote_count release_date  revenue  runtime  adult  \\\n",
       "181816            7.0           2   2013-05-15      -12        8  False   \n",
       "104592            6.8           6   1940-02-05        0      102  False   \n",
       "1083636           NaN           0   2014-12-02        0       87  False   \n",
       "1083637           NaN           0   2019-11-13        0       20  False   \n",
       "1083638           NaN           0   2013-11-17        0       30  False   \n",
       "\n",
       "         budget     imdb_id original_language  \\\n",
       "181816       12         NaN                en   \n",
       "104592        0   tt0033221                en   \n",
       "1083636       0   tt4225298                en   \n",
       "1083637   30000  tt11374282                en   \n",
       "1083638       0   tt3338098                en   \n",
       "\n",
       "                                            original_title  \\\n",
       "181816                                          Some Bears   \n",
       "104592                                  Vigil in the Night   \n",
       "1083636  The Sky's the Limit - The Eclipse of Star Trek...   \n",
       "1083637                                             Amunet   \n",
       "1083638                    Respect: A Felix Dexter Special   \n",
       "\n",
       "                                                  overview  popularity  \\\n",
       "181816   A young man slips into a world of delusion aft...       0.600   \n",
       "104592   A good nurse ruins her career by covering up f...       2.494   \n",
       "1083636  Newly-produced feature-length documentary expl...       0.849   \n",
       "1083637  A young working girl, Ayesha, moves in to anot...       0.602   \n",
       "1083638  A special programme celebrating the life in co...       0.617   \n",
       "\n",
       "                                                   tagline       genres  \\\n",
       "181816       Bears, known in the wild for their cuddliness          NaN   \n",
       "104592   \"IT TAKES A LOT TO MAKE ME LOVE A MAN In The F...        Drama   \n",
       "1083636                                                NaN  Documentary   \n",
       "1083637                                                NaN       Horror   \n",
       "1083638                                                NaN  Documentary   \n",
       "\n",
       "        production_companies      production_countries spoken_languages  \\\n",
       "181816                   NaN  United States of America          English   \n",
       "104592    RKO Radio Pictures  United States of America          English   \n",
       "1083636                  NaN                       NaN              NaN   \n",
       "1083637                  NaN      United Arab Emirates          English   \n",
       "1083638                  BBC            United Kingdom          English   \n",
       "\n",
       "                                                  keywords  \n",
       "181816                                                 NaN  \n",
       "104592   night shift, self sacrifice, nurse, isolation,...  \n",
       "1083636                                                NaN  \n",
       "1083637                                                NaN  \n",
       "1083638                                                NaN  "
      ],
      "text/html": [
       "<div>\n",
       "<style scoped>\n",
       "    .dataframe tbody tr th:only-of-type {\n",
       "        vertical-align: middle;\n",
       "    }\n",
       "\n",
       "    .dataframe tbody tr th {\n",
       "        vertical-align: top;\n",
       "    }\n",
       "\n",
       "    .dataframe thead th {\n",
       "        text-align: right;\n",
       "    }\n",
       "</style>\n",
       "<table border=\"1\" class=\"dataframe\">\n",
       "  <thead>\n",
       "    <tr style=\"text-align: right;\">\n",
       "      <th></th>\n",
       "      <th>id</th>\n",
       "      <th>title</th>\n",
       "      <th>vote_average</th>\n",
       "      <th>vote_count</th>\n",
       "      <th>release_date</th>\n",
       "      <th>revenue</th>\n",
       "      <th>runtime</th>\n",
       "      <th>adult</th>\n",
       "      <th>budget</th>\n",
       "      <th>imdb_id</th>\n",
       "      <th>original_language</th>\n",
       "      <th>original_title</th>\n",
       "      <th>overview</th>\n",
       "      <th>popularity</th>\n",
       "      <th>tagline</th>\n",
       "      <th>genres</th>\n",
       "      <th>production_companies</th>\n",
       "      <th>production_countries</th>\n",
       "      <th>spoken_languages</th>\n",
       "      <th>keywords</th>\n",
       "    </tr>\n",
       "  </thead>\n",
       "  <tbody>\n",
       "    <tr>\n",
       "      <th>181816</th>\n",
       "      <td>339294</td>\n",
       "      <td>Some Bears</td>\n",
       "      <td>7.0</td>\n",
       "      <td>2</td>\n",
       "      <td>2013-05-15</td>\n",
       "      <td>-12</td>\n",
       "      <td>8</td>\n",
       "      <td>False</td>\n",
       "      <td>12</td>\n",
       "      <td>NaN</td>\n",
       "      <td>en</td>\n",
       "      <td>Some Bears</td>\n",
       "      <td>A young man slips into a world of delusion aft...</td>\n",
       "      <td>0.600</td>\n",
       "      <td>Bears, known in the wild for their cuddliness</td>\n",
       "      <td>NaN</td>\n",
       "      <td>NaN</td>\n",
       "      <td>United States of America</td>\n",
       "      <td>English</td>\n",
       "      <td>NaN</td>\n",
       "    </tr>\n",
       "    <tr>\n",
       "      <th>104592</th>\n",
       "      <td>200862</td>\n",
       "      <td>Vigil in the Night</td>\n",
       "      <td>6.8</td>\n",
       "      <td>6</td>\n",
       "      <td>1940-02-05</td>\n",
       "      <td>0</td>\n",
       "      <td>102</td>\n",
       "      <td>False</td>\n",
       "      <td>0</td>\n",
       "      <td>tt0033221</td>\n",
       "      <td>en</td>\n",
       "      <td>Vigil in the Night</td>\n",
       "      <td>A good nurse ruins her career by covering up f...</td>\n",
       "      <td>2.494</td>\n",
       "      <td>\"IT TAKES A LOT TO MAKE ME LOVE A MAN In The F...</td>\n",
       "      <td>Drama</td>\n",
       "      <td>RKO Radio Pictures</td>\n",
       "      <td>United States of America</td>\n",
       "      <td>English</td>\n",
       "      <td>night shift, self sacrifice, nurse, isolation,...</td>\n",
       "    </tr>\n",
       "    <tr>\n",
       "      <th>1083636</th>\n",
       "      <td>708698</td>\n",
       "      <td>The Sky's the Limit - The Eclipse of Star Trek...</td>\n",
       "      <td>NaN</td>\n",
       "      <td>0</td>\n",
       "      <td>2014-12-02</td>\n",
       "      <td>0</td>\n",
       "      <td>87</td>\n",
       "      <td>False</td>\n",
       "      <td>0</td>\n",
       "      <td>tt4225298</td>\n",
       "      <td>en</td>\n",
       "      <td>The Sky's the Limit - The Eclipse of Star Trek...</td>\n",
       "      <td>Newly-produced feature-length documentary expl...</td>\n",
       "      <td>0.849</td>\n",
       "      <td>NaN</td>\n",
       "      <td>Documentary</td>\n",
       "      <td>NaN</td>\n",
       "      <td>NaN</td>\n",
       "      <td>NaN</td>\n",
       "      <td>NaN</td>\n",
       "    </tr>\n",
       "    <tr>\n",
       "      <th>1083637</th>\n",
       "      <td>708699</td>\n",
       "      <td>Amunet</td>\n",
       "      <td>NaN</td>\n",
       "      <td>0</td>\n",
       "      <td>2019-11-13</td>\n",
       "      <td>0</td>\n",
       "      <td>20</td>\n",
       "      <td>False</td>\n",
       "      <td>30000</td>\n",
       "      <td>tt11374282</td>\n",
       "      <td>en</td>\n",
       "      <td>Amunet</td>\n",
       "      <td>A young working girl, Ayesha, moves in to anot...</td>\n",
       "      <td>0.602</td>\n",
       "      <td>NaN</td>\n",
       "      <td>Horror</td>\n",
       "      <td>NaN</td>\n",
       "      <td>United Arab Emirates</td>\n",
       "      <td>English</td>\n",
       "      <td>NaN</td>\n",
       "    </tr>\n",
       "    <tr>\n",
       "      <th>1083638</th>\n",
       "      <td>708701</td>\n",
       "      <td>Respect: A Felix Dexter Special</td>\n",
       "      <td>NaN</td>\n",
       "      <td>0</td>\n",
       "      <td>2013-11-17</td>\n",
       "      <td>0</td>\n",
       "      <td>30</td>\n",
       "      <td>False</td>\n",
       "      <td>0</td>\n",
       "      <td>tt3338098</td>\n",
       "      <td>en</td>\n",
       "      <td>Respect: A Felix Dexter Special</td>\n",
       "      <td>A special programme celebrating the life in co...</td>\n",
       "      <td>0.617</td>\n",
       "      <td>NaN</td>\n",
       "      <td>Documentary</td>\n",
       "      <td>BBC</td>\n",
       "      <td>United Kingdom</td>\n",
       "      <td>English</td>\n",
       "      <td>NaN</td>\n",
       "    </tr>\n",
       "  </tbody>\n",
       "</table>\n",
       "</div>"
      ]
     },
     "execution_count": 173,
     "metadata": {},
     "output_type": "execute_result"
    }
   ],
   "execution_count": 173
  },
  {
   "cell_type": "code",
   "metadata": {
    "colab": {
     "base_uri": "https://localhost:8080/",
     "height": 625
    },
    "id": "RzkkhpwbNoRF",
    "outputId": "f825fbd9-d189-43e8-b0cf-8f26086f196f",
    "ExecuteTime": {
     "end_time": "2024-11-30T03:23:00.718806Z",
     "start_time": "2024-11-30T03:23:00.692728Z"
    }
   },
   "source": [
    "revenue_sorted.tail()"
   ],
   "outputs": [
    {
     "data": {
      "text/plain": [
       "             id                     title  vote_average  vote_count  \\\n",
       "282       76600  Avatar: The Way of Water         7.654        9830   \n",
       "15       299534         Avengers: Endgame         8.263       23857   \n",
       "3         19995                    Avatar         7.573       29815   \n",
       "600516  1224207   Adventures in Bora Bora           NaN           0   \n",
       "337620  1270893         TikTok Rizz Party        10.000           1   \n",
       "\n",
       "       release_date     revenue  runtime  adult     budget    imdb_id  \\\n",
       "282      2022-12-14  2320250281      192  False  460000000  tt1630029   \n",
       "15       2019-04-24  2800000000      181  False  356000000  tt4154796   \n",
       "3        2009-12-15  2923706026      162  False  237000000  tt0499549   \n",
       "600516   2023-08-23  3000000000        5  False  800000000        NaN   \n",
       "337620   2024-04-01  3000000000      180  False  250000000        NaN   \n",
       "\n",
       "       original_language            original_title  \\\n",
       "282                   en  Avatar: The Way of Water   \n",
       "15                    en         Avengers: Endgame   \n",
       "3                     en                    Avatar   \n",
       "600516                en   Adventures in Bora Bora   \n",
       "337620                en         TikTok Rizz Party   \n",
       "\n",
       "                                                 overview  popularity  \\\n",
       "282     Set more than a decade after the events of the...     241.285   \n",
       "15      After the devastating events of Avengers: Infi...      91.756   \n",
       "3       In the 22nd century, a paraplegic Marine is di...      79.932   \n",
       "600516  The adventures in Bora Bora, is an astonishing...       0.000   \n",
       "337620  a band of brothers, torn apart by the constant...       0.000   \n",
       "\n",
       "                            tagline  \\\n",
       "282              Return to Pandora.   \n",
       "15               Avenge the fallen.   \n",
       "3       Enter the world of Pandora.   \n",
       "600516                    (English)   \n",
       "337620                          NaN   \n",
       "\n",
       "                                             genres  \\\n",
       "282              Science Fiction, Adventure, Action   \n",
       "15               Adventure, Science Fiction, Action   \n",
       "3       Action, Adventure, Fantasy, Science Fiction   \n",
       "600516                                  Horror, War   \n",
       "337620                                Drama, Comedy   \n",
       "\n",
       "                                     production_companies  \\\n",
       "282        20th Century Studios, Lightstorm Entertainment   \n",
       "15                                         Marvel Studios   \n",
       "3       Dune Entertainment, Lightstorm Entertainment, ...   \n",
       "600516                                                NaN   \n",
       "337620                                       Warner Bros.   \n",
       "\n",
       "                            production_countries          spoken_languages  \\\n",
       "282                     United States of America                   English   \n",
       "15                      United States of America  English, Japanese, Xhosa   \n",
       "3       United States of America, United Kingdom          English, Spanish   \n",
       "600516                                       NaN                   English   \n",
       "337620                  United States of America                       NaN   \n",
       "\n",
       "                                                 keywords  \n",
       "282     dying and death, loss of loved one, alien life...  \n",
       "15      superhero, time travel, space travel, time mac...  \n",
       "3       future, society, culture clash, space travel, ...  \n",
       "600516                                                NaN  \n",
       "337620                                party, tiktok, rizz  "
      ],
      "text/html": [
       "<div>\n",
       "<style scoped>\n",
       "    .dataframe tbody tr th:only-of-type {\n",
       "        vertical-align: middle;\n",
       "    }\n",
       "\n",
       "    .dataframe tbody tr th {\n",
       "        vertical-align: top;\n",
       "    }\n",
       "\n",
       "    .dataframe thead th {\n",
       "        text-align: right;\n",
       "    }\n",
       "</style>\n",
       "<table border=\"1\" class=\"dataframe\">\n",
       "  <thead>\n",
       "    <tr style=\"text-align: right;\">\n",
       "      <th></th>\n",
       "      <th>id</th>\n",
       "      <th>title</th>\n",
       "      <th>vote_average</th>\n",
       "      <th>vote_count</th>\n",
       "      <th>release_date</th>\n",
       "      <th>revenue</th>\n",
       "      <th>runtime</th>\n",
       "      <th>adult</th>\n",
       "      <th>budget</th>\n",
       "      <th>imdb_id</th>\n",
       "      <th>original_language</th>\n",
       "      <th>original_title</th>\n",
       "      <th>overview</th>\n",
       "      <th>popularity</th>\n",
       "      <th>tagline</th>\n",
       "      <th>genres</th>\n",
       "      <th>production_companies</th>\n",
       "      <th>production_countries</th>\n",
       "      <th>spoken_languages</th>\n",
       "      <th>keywords</th>\n",
       "    </tr>\n",
       "  </thead>\n",
       "  <tbody>\n",
       "    <tr>\n",
       "      <th>282</th>\n",
       "      <td>76600</td>\n",
       "      <td>Avatar: The Way of Water</td>\n",
       "      <td>7.654</td>\n",
       "      <td>9830</td>\n",
       "      <td>2022-12-14</td>\n",
       "      <td>2320250281</td>\n",
       "      <td>192</td>\n",
       "      <td>False</td>\n",
       "      <td>460000000</td>\n",
       "      <td>tt1630029</td>\n",
       "      <td>en</td>\n",
       "      <td>Avatar: The Way of Water</td>\n",
       "      <td>Set more than a decade after the events of the...</td>\n",
       "      <td>241.285</td>\n",
       "      <td>Return to Pandora.</td>\n",
       "      <td>Science Fiction, Adventure, Action</td>\n",
       "      <td>20th Century Studios, Lightstorm Entertainment</td>\n",
       "      <td>United States of America</td>\n",
       "      <td>English</td>\n",
       "      <td>dying and death, loss of loved one, alien life...</td>\n",
       "    </tr>\n",
       "    <tr>\n",
       "      <th>15</th>\n",
       "      <td>299534</td>\n",
       "      <td>Avengers: Endgame</td>\n",
       "      <td>8.263</td>\n",
       "      <td>23857</td>\n",
       "      <td>2019-04-24</td>\n",
       "      <td>2800000000</td>\n",
       "      <td>181</td>\n",
       "      <td>False</td>\n",
       "      <td>356000000</td>\n",
       "      <td>tt4154796</td>\n",
       "      <td>en</td>\n",
       "      <td>Avengers: Endgame</td>\n",
       "      <td>After the devastating events of Avengers: Infi...</td>\n",
       "      <td>91.756</td>\n",
       "      <td>Avenge the fallen.</td>\n",
       "      <td>Adventure, Science Fiction, Action</td>\n",
       "      <td>Marvel Studios</td>\n",
       "      <td>United States of America</td>\n",
       "      <td>English, Japanese, Xhosa</td>\n",
       "      <td>superhero, time travel, space travel, time mac...</td>\n",
       "    </tr>\n",
       "    <tr>\n",
       "      <th>3</th>\n",
       "      <td>19995</td>\n",
       "      <td>Avatar</td>\n",
       "      <td>7.573</td>\n",
       "      <td>29815</td>\n",
       "      <td>2009-12-15</td>\n",
       "      <td>2923706026</td>\n",
       "      <td>162</td>\n",
       "      <td>False</td>\n",
       "      <td>237000000</td>\n",
       "      <td>tt0499549</td>\n",
       "      <td>en</td>\n",
       "      <td>Avatar</td>\n",
       "      <td>In the 22nd century, a paraplegic Marine is di...</td>\n",
       "      <td>79.932</td>\n",
       "      <td>Enter the world of Pandora.</td>\n",
       "      <td>Action, Adventure, Fantasy, Science Fiction</td>\n",
       "      <td>Dune Entertainment, Lightstorm Entertainment, ...</td>\n",
       "      <td>United States of America, United Kingdom</td>\n",
       "      <td>English, Spanish</td>\n",
       "      <td>future, society, culture clash, space travel, ...</td>\n",
       "    </tr>\n",
       "    <tr>\n",
       "      <th>600516</th>\n",
       "      <td>1224207</td>\n",
       "      <td>Adventures in Bora Bora</td>\n",
       "      <td>NaN</td>\n",
       "      <td>0</td>\n",
       "      <td>2023-08-23</td>\n",
       "      <td>3000000000</td>\n",
       "      <td>5</td>\n",
       "      <td>False</td>\n",
       "      <td>800000000</td>\n",
       "      <td>NaN</td>\n",
       "      <td>en</td>\n",
       "      <td>Adventures in Bora Bora</td>\n",
       "      <td>The adventures in Bora Bora, is an astonishing...</td>\n",
       "      <td>0.000</td>\n",
       "      <td>(English)</td>\n",
       "      <td>Horror, War</td>\n",
       "      <td>NaN</td>\n",
       "      <td>NaN</td>\n",
       "      <td>English</td>\n",
       "      <td>NaN</td>\n",
       "    </tr>\n",
       "    <tr>\n",
       "      <th>337620</th>\n",
       "      <td>1270893</td>\n",
       "      <td>TikTok Rizz Party</td>\n",
       "      <td>10.000</td>\n",
       "      <td>1</td>\n",
       "      <td>2024-04-01</td>\n",
       "      <td>3000000000</td>\n",
       "      <td>180</td>\n",
       "      <td>False</td>\n",
       "      <td>250000000</td>\n",
       "      <td>NaN</td>\n",
       "      <td>en</td>\n",
       "      <td>TikTok Rizz Party</td>\n",
       "      <td>a band of brothers, torn apart by the constant...</td>\n",
       "      <td>0.000</td>\n",
       "      <td>NaN</td>\n",
       "      <td>Drama, Comedy</td>\n",
       "      <td>Warner Bros.</td>\n",
       "      <td>United States of America</td>\n",
       "      <td>NaN</td>\n",
       "      <td>party, tiktok, rizz</td>\n",
       "    </tr>\n",
       "  </tbody>\n",
       "</table>\n",
       "</div>"
      ]
     },
     "execution_count": 174,
     "metadata": {},
     "output_type": "execute_result"
    }
   ],
   "execution_count": 174
  },
  {
   "cell_type": "markdown",
   "metadata": {
    "id": "7W-c6HjYNGFw"
   },
   "source": [
    "Most films have no revenue, but there are many highly grossing films."
   ]
  },
  {
   "cell_type": "markdown",
   "metadata": {
    "id": "CF66UABTOLYs"
   },
   "source": [
    "### `runtime`"
   ]
  },
  {
   "cell_type": "code",
   "metadata": {
    "colab": {
     "base_uri": "https://localhost:8080/",
     "height": 335
    },
    "id": "9KPo_wYlNFmz",
    "outputId": "39235d12-f910-41e4-84b6-505ca1495657",
    "ExecuteTime": {
     "end_time": "2024-11-30T03:23:00.955951Z",
     "start_time": "2024-11-30T03:23:00.897156Z"
    }
   },
   "source": [
    "data.runtime.describe()"
   ],
   "outputs": [
    {
     "data": {
      "text/plain": [
       "count    832870.000000\n",
       "mean         48.500552\n",
       "std          59.492516\n",
       "min           0.000000\n",
       "25%           3.000000\n",
       "50%          30.000000\n",
       "75%          89.000000\n",
       "max       14400.000000\n",
       "Name: runtime, dtype: float64"
      ]
     },
     "execution_count": 175,
     "metadata": {},
     "output_type": "execute_result"
    }
   ],
   "execution_count": 175
  },
  {
   "cell_type": "code",
   "metadata": {
    "colab": {
     "base_uri": "https://localhost:8080/"
    },
    "id": "TztdJ09_OYh3",
    "outputId": "68a48dac-00b2-453e-c729-3148d17bbfa6",
    "ExecuteTime": {
     "end_time": "2024-11-30T03:23:01.205830Z",
     "start_time": "2024-11-30T03:23:01.184202Z"
    }
   },
   "source": [
    "data.runtime.info()"
   ],
   "outputs": [
    {
     "name": "stdout",
     "output_type": "stream",
     "text": [
      "<class 'pandas.core.series.Series'>\n",
      "Index: 832870 entries, 0 to 1104437\n",
      "Series name: runtime\n",
      "Non-Null Count   Dtype\n",
      "--------------   -----\n",
      "832870 non-null  int64\n",
      "dtypes: int64(1)\n",
      "memory usage: 12.7 MB\n"
     ]
    }
   ],
   "execution_count": 176
  },
  {
   "cell_type": "code",
   "metadata": {
    "colab": {
     "base_uri": "https://localhost:8080/"
    },
    "id": "crmfKTzNTreC",
    "outputId": "7c308519-dc16-47ca-974d-194f4c4a2ba5",
    "ExecuteTime": {
     "end_time": "2024-11-30T03:23:07.219687Z",
     "start_time": "2024-11-30T03:23:01.557636Z"
    }
   },
   "source": [
    "zero_runtime = data[data['runtime'] == 0]\n",
    "print(f\"There are {len(zero_runtime)} movies with zero runtime.\")"
   ],
   "outputs": [
    {
     "name": "stdout",
     "output_type": "stream",
     "text": [
      "There are 180696 movies with zero runtime.\n"
     ]
    }
   ],
   "execution_count": 177
  },
  {
   "cell_type": "markdown",
   "metadata": {
    "id": "5m-QUrX_UqLH"
   },
   "source": [
    "Many movies have their runtime listed as zero. These will be considered missing data."
   ]
  },
  {
   "cell_type": "code",
   "metadata": {
    "colab": {
     "base_uri": "https://localhost:8080/"
    },
    "id": "snYvGgdMVDG4",
    "outputId": "ad52bffb-932a-4464-a98c-1710ca108558",
    "ExecuteTime": {
     "end_time": "2024-11-30T03:23:07.268037Z",
     "start_time": "2024-11-30T03:23:07.225520Z"
    }
   },
   "source": "data.runtime = data.runtime.replace(0, np.nan)",
   "outputs": [],
   "execution_count": 178
  },
  {
   "cell_type": "code",
   "metadata": {
    "colab": {
     "base_uri": "https://localhost:8080/",
     "height": 447
    },
    "id": "TLF0qykrOdb6",
    "outputId": "81742735-1833-45c0-9a48-bb2df622dd93",
    "ExecuteTime": {
     "end_time": "2024-11-30T03:23:08.201557Z",
     "start_time": "2024-11-30T03:23:07.320842Z"
    }
   },
   "source": [
    "data.runtime.plot.hist(bins=100)"
   ],
   "outputs": [
    {
     "data": {
      "text/plain": [
       "<Axes: ylabel='Frequency'>"
      ]
     },
     "execution_count": 179,
     "metadata": {},
     "output_type": "execute_result"
    },
    {
     "data": {
      "text/plain": [
       "<Figure size 640x480 with 1 Axes>"
      ],
      "image/png": "[encoded data removed]"
     },
     "metadata": {},
     "output_type": "display_data"
    }
   ],
   "execution_count": 179
  },
  {
   "cell_type": "markdown",
   "metadata": {
    "id": "H_Yg5h2UX_Vp"
   },
   "source": [
    "There are a few strong outliers."
   ]
  },
  {
   "cell_type": "code",
   "metadata": {
    "colab": {
     "base_uri": "https://localhost:8080/",
     "height": 447
    },
    "id": "YpnN-MBxXF8S",
    "outputId": "a537ceb3-8158-482a-fe3c-1f2919f19d3b",
    "ExecuteTime": {
     "end_time": "2024-11-30T03:23:17.410468Z",
     "start_time": "2024-11-30T03:23:08.284882Z"
    }
   },
   "source": [
    "data.runtime.plot.hist(bins=1000, xlim=(0, 360))"
   ],
   "outputs": [
    {
     "data": {
      "text/plain": [
       "<Axes: ylabel='Frequency'>"
      ]
     },
     "execution_count": 180,
     "metadata": {},
     "output_type": "execute_result"
    },
    {
     "data": {
      "text/plain": [
       "<Figure size 640x480 with 1 Axes>"
      ],
      "image/png": "[encoded data removed]"
     },
     "metadata": {},
     "output_type": "display_data"
    }
   ],
   "execution_count": 180
  },
  {
   "cell_type": "markdown",
   "metadata": {
    "id": "aXLUq5QIZO8m"
   },
   "source": [
    "### `budget`"
   ]
  },
  {
   "cell_type": "code",
   "metadata": {
    "colab": {
     "base_uri": "https://localhost:8080/",
     "height": 335
    },
    "id": "A_yoXdtjZN0_",
    "outputId": "93fb6125-81e8-45cd-f201-f9f51283e1cf",
    "ExecuteTime": {
     "end_time": "2024-11-30T03:23:17.491014Z",
     "start_time": "2024-11-30T03:23:17.420068Z"
    }
   },
   "source": [
    "data.budget.describe()"
   ],
   "outputs": [
    {
     "data": {
      "text/plain": [
       "count    8.328700e+05\n",
       "mean     3.369057e+05\n",
       "std      5.246749e+06\n",
       "min      0.000000e+00\n",
       "25%      0.000000e+00\n",
       "50%      0.000000e+00\n",
       "75%      0.000000e+00\n",
       "max      8.880000e+08\n",
       "Name: budget, dtype: float64"
      ]
     },
     "execution_count": 181,
     "metadata": {},
     "output_type": "execute_result"
    }
   ],
   "execution_count": 181
  },
  {
   "cell_type": "code",
   "metadata": {
    "colab": {
     "base_uri": "https://localhost:8080/"
    },
    "id": "h-_4HUr_Zq2F",
    "outputId": "9bebf87e-4c30-4e92-c658-95a63f9ccffe",
    "ExecuteTime": {
     "end_time": "2024-11-30T03:23:17.577672Z",
     "start_time": "2024-11-30T03:23:17.530253Z"
    }
   },
   "source": [
    "data.budget.info()"
   ],
   "outputs": [
    {
     "name": "stdout",
     "output_type": "stream",
     "text": [
      "<class 'pandas.core.series.Series'>\n",
      "Index: 832870 entries, 0 to 1104437\n",
      "Series name: budget\n",
      "Non-Null Count   Dtype\n",
      "--------------   -----\n",
      "832870 non-null  int64\n",
      "dtypes: int64(1)\n",
      "memory usage: 12.7 MB\n"
     ]
    }
   ],
   "execution_count": 182
  },
  {
   "cell_type": "markdown",
   "metadata": {
    "id": "HOOGZ92xuVp-"
   },
   "source": [
    "## Exporting"
   ]
  },
  {
   "cell_type": "code",
   "metadata": {
    "id": "AOr0MiJouo-U",
    "ExecuteTime": {
     "end_time": "2024-11-30T03:23:39.745132Z",
     "start_time": "2024-11-30T03:23:17.612898Z"
    }
   },
   "source": "data.to_csv('../Datasets/clean.csv')",
   "outputs": [],
   "execution_count": 183
  }
 ],
 "metadata": {
  "colab": {
   "provenance": []
  },
  "kernelspec": {
   "display_name": "Python 3 (ipykernel)",
   "name": "python3",
   "language": "python"
  },
  "language_info": {
   "name": "python"
  }
 },
 "nbformat": 4,
 "nbformat_minor": 0
}
