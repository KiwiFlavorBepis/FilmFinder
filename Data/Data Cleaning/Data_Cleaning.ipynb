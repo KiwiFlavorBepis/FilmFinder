{
 "cells": [
  {
   "cell_type": "markdown",
   "metadata": {
    "id": "PkrvP4IAh4xs"
   },
   "source": [
    "## Initializing and Loading Data"
   ]
  },
  {
   "cell_type": "code",
   "metadata": {
    "id": "SsL291wiX-Z7",
    "ExecuteTime": {
     "end_time": "2024-11-30T23:23:36.756692Z",
     "start_time": "2024-11-30T23:23:36.751440Z"
    }
   },
   "source": "file_location = \"../Datasets/TMDB_movie_dataset_v11.csv\"",
   "outputs": [],
   "execution_count": 1
  },
  {
   "cell_type": "code",
   "metadata": {
    "id": "7GfpLylDT_ZF",
    "ExecuteTime": {
     "end_time": "2024-11-30T23:23:37.543841Z",
     "start_time": "2024-11-30T23:23:36.986067Z"
    }
   },
   "source": [
    "import pandas as pd\n",
    "import numpy as np"
   ],
   "outputs": [],
   "execution_count": 2
  },
  {
   "cell_type": "code",
   "metadata": {
    "id": "-BJXygPDWWO2",
    "ExecuteTime": {
     "end_time": "2024-11-30T23:23:44.908475Z",
     "start_time": "2024-11-30T23:23:37.548445Z"
    }
   },
   "source": [
    "backup = pd.read_csv(file_location)"
   ],
   "outputs": [],
   "execution_count": 3
  },
  {
   "cell_type": "markdown",
   "metadata": {
    "id": "LiK8vvP2HOw1"
   },
   "source": [
    "### Backup"
   ]
  },
  {
   "cell_type": "code",
   "metadata": {
    "id": "f-djdyGkwB5L",
    "ExecuteTime": {
     "end_time": "2024-11-30T23:23:45.032819Z",
     "start_time": "2024-11-30T23:23:44.921490Z"
    }
   },
   "source": [
    "data = backup.copy(deep=True)"
   ],
   "outputs": [],
   "execution_count": 4
  },
  {
   "cell_type": "markdown",
   "metadata": {
    "id": "O68yA50_h2su"
   },
   "source": [
    "## Initial Data Cleaning"
   ]
  },
  {
   "cell_type": "code",
   "metadata": {
    "colab": {
     "base_uri": "https://localhost:8080/"
    },
    "id": "vrKXPmywfkPh",
    "outputId": "253bc195-ab35-4993-8c3f-1a54169c83d9",
    "ExecuteTime": {
     "end_time": "2024-11-30T23:23:45.053390Z",
     "start_time": "2024-11-30T23:23:45.047938Z"
    }
   },
   "source": [
    "initial = len(data)\n",
    "before = initial\n",
    "initial"
   ],
   "outputs": [
    {
     "data": {
      "text/plain": [
       "1140108"
      ]
     },
     "execution_count": 5,
     "metadata": {},
     "output_type": "execute_result"
    }
   ],
   "execution_count": 5
  },
  {
   "cell_type": "markdown",
   "metadata": {
    "id": "S7TwafyOdQPI"
   },
   "source": [
    "### Getting rid of duplicate rows"
   ]
  },
  {
   "cell_type": "code",
   "metadata": {
    "colab": {
     "base_uri": "https://localhost:8080/"
    },
    "id": "NOM2iEK5e7BX",
    "outputId": "67afb7b2-e53d-4151-9791-b2c02338fdea",
    "ExecuteTime": {
     "end_time": "2024-11-30T23:23:49.077373Z",
     "start_time": "2024-11-30T23:23:45.070469Z"
    }
   },
   "source": [
    "data = data.drop_duplicates()\n",
    "after = len(data)\n",
    "print(f\"Removed {(before - after)} duplicate rows. {after} rows left.\")\n",
    "before = after"
   ],
   "outputs": [
    {
     "name": "stdout",
     "output_type": "stream",
     "text": [
      "Removed 368 duplicate rows. 1139740 rows left.\n"
     ]
    }
   ],
   "execution_count": 6
  },
  {
   "cell_type": "markdown",
   "metadata": {
    "id": "6zjf8Aewlh7N"
   },
   "source": [
    "### Removing unreleased movies"
   ]
  },
  {
   "cell_type": "markdown",
   "metadata": {
    "id": "T-oR35rLcGry"
   },
   "source": [
    "The status column shows what stage of production the movie is in. We are only concerned with movies that have been released."
   ]
  },
  {
   "cell_type": "code",
   "metadata": {
    "colab": {
     "base_uri": "https://localhost:8080/",
     "height": 304
    },
    "id": "CTNplgQkac4o",
    "outputId": "0b1d861f-4558-4cc7-db4d-01875c4990ed",
    "ExecuteTime": {
     "end_time": "2024-11-30T23:23:49.159547Z",
     "start_time": "2024-11-30T23:23:49.091160Z"
    }
   },
   "source": [
    "data.status.value_counts()"
   ],
   "outputs": [
    {
     "data": {
      "text/plain": [
       "status\n",
       "Released           1113554\n",
       "In Production        10491\n",
       "Post Production       8218\n",
       "Planned               6812\n",
       "Rumored                361\n",
       "Canceled               304\n",
       "Name: count, dtype: int64"
      ]
     },
     "execution_count": 7,
     "metadata": {},
     "output_type": "execute_result"
    }
   ],
   "execution_count": 7
  },
  {
   "cell_type": "markdown",
   "metadata": {
    "id": "HQPWrd44cbco"
   },
   "source": [
    "Getting rid of unreleased movies:"
   ]
  },
  {
   "cell_type": "code",
   "metadata": {
    "colab": {
     "base_uri": "https://localhost:8080/"
    },
    "id": "fypwz5XPca3E",
    "outputId": "37d7ab49-f080-4fb3-f4bb-01b4de77e28f",
    "ExecuteTime": {
     "end_time": "2024-11-30T23:23:49.550467Z",
     "start_time": "2024-11-30T23:23:49.203373Z"
    }
   },
   "source": [
    "data = data[data['status'] == \"Released\"]\n",
    "after = len(data)\n",
    "print(f\"Removed {before - after} unreleased movies. {after} rows left.\")\n",
    "before = after"
   ],
   "outputs": [
    {
     "name": "stdout",
     "output_type": "stream",
     "text": [
      "Removed 26186 unreleased movies. 1113554 rows left.\n"
     ]
    }
   ],
   "execution_count": 8
  },
  {
   "cell_type": "markdown",
   "metadata": {
    "id": "Dv5D7aiQ_nda"
   },
   "source": [
    "\n",
    "The release date of some rows are in the future, even though they are marked as `'Released'`. `release_date` is currently an `object` type and needs to be converted to a `datetime` type to be handled."
   ]
  },
  {
   "cell_type": "code",
   "metadata": {
    "colab": {
     "base_uri": "https://localhost:8080/",
     "height": 304
    },
    "id": "9jZj25Gl_w9c",
    "outputId": "413b66ea-1401-40ef-91d9-6e65377246ea",
    "ExecuteTime": {
     "end_time": "2024-11-30T23:23:49.997146Z",
     "start_time": "2024-11-30T23:23:49.579481Z"
    }
   },
   "source": [
    "data['release_date'] = pd.to_datetime(data['release_date'])\n",
    "data.release_date.describe()"
   ],
   "outputs": [
    {
     "data": {
      "text/plain": [
       "count                           942709\n",
       "mean     1999-12-19 06:00:05.476133120\n",
       "min                1800-01-01 00:00:00\n",
       "25%                1989-02-01 00:00:00\n",
       "50%                2010-10-06 00:00:00\n",
       "75%                2018-11-29 00:00:00\n",
       "max                2061-12-07 00:00:00\n",
       "Name: release_date, dtype: object"
      ]
     },
     "execution_count": 9,
     "metadata": {},
     "output_type": "execute_result"
    }
   ],
   "execution_count": 9
  },
  {
   "cell_type": "markdown",
   "metadata": {
    "id": "souXVtBJAOid"
   },
   "source": [
    "Dropping all movies with a release date in the future:"
   ]
  },
  {
   "cell_type": "code",
   "metadata": {
    "colab": {
     "base_uri": "https://localhost:8080/"
    },
    "id": "DBGiXIFBAEza",
    "outputId": "659e3a48-fa9b-4a7c-af9a-fc28bf320e4b",
    "ExecuteTime": {
     "end_time": "2024-11-30T23:23:50.295675Z",
     "start_time": "2024-11-30T23:23:50.028501Z"
    }
   },
   "source": [
    "from datetime import date\n",
    "today = pd.to_datetime(date.today())\n",
    "data = data[data['release_date'] < today]\n",
    "after = len(data)\n",
    "print(f\"Removed {before - after} future movies. {after} rows left.\")\n",
    "before = after"
   ],
   "outputs": [
    {
     "name": "stdout",
     "output_type": "stream",
     "text": [
      "Removed 171022 future movies. 942532 rows left.\n"
     ]
    }
   ],
   "execution_count": 10
  },
  {
   "cell_type": "code",
   "metadata": {
    "colab": {
     "base_uri": "https://localhost:8080/",
     "height": 304
    },
    "id": "IlOgUKMuI1qW",
    "outputId": "55912bc6-25a4-49f6-aca2-b4dda7037eb5",
    "ExecuteTime": {
     "end_time": "2024-11-30T23:23:50.353819Z",
     "start_time": "2024-11-30T23:23:50.326314Z"
    }
   },
   "source": [
    "data.release_date.describe()"
   ],
   "outputs": [
    {
     "data": {
      "text/plain": [
       "count                           942532\n",
       "mean     1999-12-17 11:16:57.254798720\n",
       "min                1800-01-01 00:00:00\n",
       "25%                1989-01-29 00:00:00\n",
       "50%                2010-10-04 00:00:00\n",
       "75%                2018-11-28 00:00:00\n",
       "max                2024-11-29 00:00:00\n",
       "Name: release_date, dtype: object"
      ]
     },
     "execution_count": 11,
     "metadata": {},
     "output_type": "execute_result"
    }
   ],
   "execution_count": 11
  },
  {
   "cell_type": "markdown",
   "metadata": {
    "id": "gmxcZYRI4p6G"
   },
   "source": [
    "Now the status column can be dropped."
   ]
  },
  {
   "cell_type": "code",
   "metadata": {
    "colab": {
     "base_uri": "https://localhost:8080/"
    },
    "id": "0Z4mO4Gi43eg",
    "outputId": "26c0c49f-e6d2-43cd-b4d2-51926d3b9f9d",
    "ExecuteTime": {
     "end_time": "2024-11-30T23:23:50.634751Z",
     "start_time": "2024-11-30T23:23:50.393069Z"
    }
   },
   "source": [
    "data = data.drop(columns='status')\n",
    "data.columns"
   ],
   "outputs": [
    {
     "data": {
      "text/plain": [
       "Index(['id', 'title', 'vote_average', 'vote_count', 'release_date', 'revenue',\n",
       "       'runtime', 'adult', 'backdrop_path', 'budget', 'homepage', 'imdb_id',\n",
       "       'original_language', 'original_title', 'overview', 'popularity',\n",
       "       'poster_path', 'tagline', 'genres', 'production_companies',\n",
       "       'production_countries', 'spoken_languages', 'keywords'],\n",
       "      dtype='object')"
      ]
     },
     "execution_count": 12,
     "metadata": {},
     "output_type": "execute_result"
    }
   ],
   "execution_count": 12
  },
  {
   "cell_type": "markdown",
   "metadata": {
    "id": "RXdjGGwSpg09"
   },
   "source": [
    "### Removing porn"
   ]
  },
  {
   "cell_type": "markdown",
   "metadata": {
    "id": "Hj02tFlkpqdk"
   },
   "source": [
    "The `adult` column designates if a row is an adult film. These will be dropped:"
   ]
  },
  {
   "cell_type": "code",
   "metadata": {
    "colab": {
     "base_uri": "https://localhost:8080/"
    },
    "id": "3-8MfdrupqGQ",
    "outputId": "f0d3d2db-89cd-4ffc-bfbb-4b1c9cbe54eb",
    "ExecuteTime": {
     "end_time": "2024-11-30T23:23:50.911849Z",
     "start_time": "2024-11-30T23:23:50.664206Z"
    }
   },
   "source": [
    "data = data[data['adult'] == False]\n",
    "after = len(data)\n",
    "print(f\"Removed {before - after} adult films. {after} rows left.\")\n",
    "before = after"
   ],
   "outputs": [
    {
     "name": "stdout",
     "output_type": "stream",
     "text": [
      "Removed 94597 adult films. 847935 rows left.\n"
     ]
    }
   ],
   "execution_count": 13
  },
  {
   "cell_type": "markdown",
   "metadata": {
    "id": "KoqhwPIliJKd"
   },
   "source": [
    "### Getting rid of duplicate IDs"
   ]
  },
  {
   "cell_type": "code",
   "metadata": {
    "colab": {
     "base_uri": "https://localhost:8080/"
    },
    "id": "GCvIP2Bohbo1",
    "outputId": "39d30191-a1f4-47e2-ace5-6ece78b5ce1d",
    "ExecuteTime": {
     "end_time": "2024-11-30T23:23:50.961896Z",
     "start_time": "2024-11-30T23:23:50.919582Z"
    }
   },
   "source": [
    "print(f\"There are {before - data.id.nunique()} rows with a repeated id.\")"
   ],
   "outputs": [
    {
     "name": "stdout",
     "output_type": "stream",
     "text": [
      "There are 7 rows with a repeated id.\n"
     ]
    }
   ],
   "execution_count": 14
  },
  {
   "cell_type": "markdown",
   "metadata": {
    "id": "OIoEBeYOnNWo"
   },
   "source": [
    "Lower indexed entries are more up-to-date and more complete. Removing rows with duplicated IDs, only keeping the first occurance."
   ]
  },
  {
   "cell_type": "code",
   "metadata": {
    "colab": {
     "base_uri": "https://localhost:8080/"
    },
    "id": "36b_zQUNnjNF",
    "outputId": "0e423bba-5dc4-4a58-feba-058e459686a8",
    "ExecuteTime": {
     "end_time": "2024-11-30T23:23:51.244436Z",
     "start_time": "2024-11-30T23:23:50.988974Z"
    }
   },
   "source": [
    "data = data.drop_duplicates(subset=['id'], keep='first')\n",
    "after = len(data)\n",
    "print(f\"Removed {before - after} duplicate IDs. {after} rows left.\")\n",
    "before = after"
   ],
   "outputs": [
    {
     "name": "stdout",
     "output_type": "stream",
     "text": [
      "Removed 7 duplicate IDs. 847928 rows left.\n"
     ]
    }
   ],
   "execution_count": 15
  },
  {
   "cell_type": "code",
   "metadata": {
    "colab": {
     "base_uri": "https://localhost:8080/"
    },
    "id": "N3tjUth2pOsc",
    "outputId": "dadc3022-cae2-4027-b707-cdc808d12778",
    "ExecuteTime": {
     "end_time": "2024-11-30T23:23:51.303424Z",
     "start_time": "2024-11-30T23:23:51.259261Z"
    }
   },
   "source": [
    "data.id.nunique()"
   ],
   "outputs": [
    {
     "data": {
      "text/plain": [
       "847928"
      ]
     },
     "execution_count": 16,
     "metadata": {},
     "output_type": "execute_result"
    }
   ],
   "execution_count": 16
  },
  {
   "cell_type": "markdown",
   "metadata": {
    "id": "iYvLzDqwioCF"
   },
   "source": [
    "### Dropping unusable columns"
   ]
  },
  {
   "cell_type": "markdown",
   "metadata": {
    "id": "FAbNKzrjk6u7"
   },
   "source": [
    "Checking columns:"
   ]
  },
  {
   "cell_type": "code",
   "metadata": {
    "colab": {
     "base_uri": "https://localhost:8080/"
    },
    "id": "8hNPR-jgXKCj",
    "outputId": "d6aeb63b-70e1-4fc5-9536-2ecfe61262f3",
    "ExecuteTime": {
     "end_time": "2024-11-30T23:23:51.323624Z",
     "start_time": "2024-11-30T23:23:51.318420Z"
    }
   },
   "source": [
    "data.columns"
   ],
   "outputs": [
    {
     "data": {
      "text/plain": [
       "Index(['id', 'title', 'vote_average', 'vote_count', 'release_date', 'revenue',\n",
       "       'runtime', 'adult', 'backdrop_path', 'budget', 'homepage', 'imdb_id',\n",
       "       'original_language', 'original_title', 'overview', 'popularity',\n",
       "       'poster_path', 'tagline', 'genres', 'production_companies',\n",
       "       'production_countries', 'spoken_languages', 'keywords'],\n",
       "      dtype='object')"
      ]
     },
     "execution_count": 17,
     "metadata": {},
     "output_type": "execute_result"
    }
   ],
   "execution_count": 17
  },
  {
   "cell_type": "code",
   "metadata": {
    "colab": {
     "base_uri": "https://localhost:8080/",
     "height": 175
    },
    "id": "ykMq5YTNtBqe",
    "outputId": "fc6d7bc2-2f83-43bf-ed72-d8144900e800",
    "ExecuteTime": {
     "end_time": "2024-11-30T23:23:52.260483Z",
     "start_time": "2024-11-30T23:23:51.378686Z"
    }
   },
   "source": [
    "data[['backdrop_path', 'homepage', 'poster_path']].describe()"
   ],
   "outputs": [
    {
     "data": {
      "text/plain": [
       "                           backdrop_path                        homepage  \\\n",
       "count                             259844                          102245   \n",
       "unique                            257685                           96471   \n",
       "top     /3CxwYgqGtJ6UEGfWUT0gMYCIlFP.jpg  https://animation.geidai.ac.jp   \n",
       "freq                                 157                             147   \n",
       "\n",
       "                             poster_path  \n",
       "count                             635043  \n",
       "unique                            631487  \n",
       "top     /wtoKLMm4UvkwvcSwO3XWcs1gJuF.jpg  \n",
       "freq                                  54  "
      ],
      "text/html": [
       "<div>\n",
       "<style scoped>\n",
       "    .dataframe tbody tr th:only-of-type {\n",
       "        vertical-align: middle;\n",
       "    }\n",
       "\n",
       "    .dataframe tbody tr th {\n",
       "        vertical-align: top;\n",
       "    }\n",
       "\n",
       "    .dataframe thead th {\n",
       "        text-align: right;\n",
       "    }\n",
       "</style>\n",
       "<table border=\"1\" class=\"dataframe\">\n",
       "  <thead>\n",
       "    <tr style=\"text-align: right;\">\n",
       "      <th></th>\n",
       "      <th>backdrop_path</th>\n",
       "      <th>homepage</th>\n",
       "      <th>poster_path</th>\n",
       "    </tr>\n",
       "  </thead>\n",
       "  <tbody>\n",
       "    <tr>\n",
       "      <th>count</th>\n",
       "      <td>259844</td>\n",
       "      <td>102245</td>\n",
       "      <td>635043</td>\n",
       "    </tr>\n",
       "    <tr>\n",
       "      <th>unique</th>\n",
       "      <td>257685</td>\n",
       "      <td>96471</td>\n",
       "      <td>631487</td>\n",
       "    </tr>\n",
       "    <tr>\n",
       "      <th>top</th>\n",
       "      <td>/3CxwYgqGtJ6UEGfWUT0gMYCIlFP.jpg</td>\n",
       "      <td>https://animation.geidai.ac.jp</td>\n",
       "      <td>/wtoKLMm4UvkwvcSwO3XWcs1gJuF.jpg</td>\n",
       "    </tr>\n",
       "    <tr>\n",
       "      <th>freq</th>\n",
       "      <td>157</td>\n",
       "      <td>147</td>\n",
       "      <td>54</td>\n",
       "    </tr>\n",
       "  </tbody>\n",
       "</table>\n",
       "</div>"
      ]
     },
     "execution_count": 18,
     "metadata": {},
     "output_type": "execute_result"
    }
   ],
   "execution_count": 18
  },
  {
   "cell_type": "markdown",
   "metadata": {
    "id": "RSa_2HdUryQp"
   },
   "source": [
    "The `backdrop_path`, `homepage`, and `poster_path` columns do not contain any useful data. These can be dropped."
   ]
  },
  {
   "cell_type": "code",
   "metadata": {
    "colab": {
     "base_uri": "https://localhost:8080/"
    },
    "id": "qi-xkEZCrxkm",
    "outputId": "1f687bbe-b5b3-4b6a-ba33-08e7a330e88b",
    "ExecuteTime": {
     "end_time": "2024-11-30T23:23:52.484747Z",
     "start_time": "2024-11-30T23:23:52.301220Z"
    }
   },
   "source": [
    "data = data.drop(columns=['backdrop_path', 'homepage', 'poster_path'])\n",
    "data.columns"
   ],
   "outputs": [
    {
     "data": {
      "text/plain": [
       "Index(['id', 'title', 'vote_average', 'vote_count', 'release_date', 'revenue',\n",
       "       'runtime', 'adult', 'budget', 'imdb_id', 'original_language',\n",
       "       'original_title', 'overview', 'popularity', 'tagline', 'genres',\n",
       "       'production_companies', 'production_countries', 'spoken_languages',\n",
       "       'keywords'],\n",
       "      dtype='object')"
      ]
     },
     "execution_count": 19,
     "metadata": {},
     "output_type": "execute_result"
    }
   ],
   "execution_count": 19
  },
  {
   "cell_type": "markdown",
   "metadata": {
    "id": "RU3gFXnT9bL6"
   },
   "source": [
    "## Analyzing Columns"
   ]
  },
  {
   "cell_type": "code",
   "metadata": {
    "colab": {
     "base_uri": "https://localhost:8080/"
    },
    "id": "3lTsvmrlFW-2",
    "outputId": "9a687f08-4aaa-4a5a-d083-6d56656e7a24",
    "ExecuteTime": {
     "end_time": "2024-11-30T23:23:52.519718Z",
     "start_time": "2024-11-30T23:23:52.514973Z"
    }
   },
   "source": [
    "data.columns"
   ],
   "outputs": [
    {
     "data": {
      "text/plain": [
       "Index(['id', 'title', 'vote_average', 'vote_count', 'release_date', 'revenue',\n",
       "       'runtime', 'adult', 'budget', 'imdb_id', 'original_language',\n",
       "       'original_title', 'overview', 'popularity', 'tagline', 'genres',\n",
       "       'production_companies', 'production_countries', 'spoken_languages',\n",
       "       'keywords'],\n",
       "      dtype='object')"
      ]
     },
     "execution_count": 20,
     "metadata": {},
     "output_type": "execute_result"
    }
   ],
   "execution_count": 20
  },
  {
   "cell_type": "markdown",
   "metadata": {
    "id": "4P8GfQoE9QeZ"
   },
   "source": [
    "### `title`"
   ]
  },
  {
   "cell_type": "code",
   "metadata": {
    "colab": {
     "base_uri": "https://localhost:8080/",
     "height": 210
    },
    "id": "yvGNigDn9bsy",
    "outputId": "a10a48e7-1d48-4f83-9bc5-d1af5d0e20f7",
    "ExecuteTime": {
     "end_time": "2024-11-30T23:23:53.323137Z",
     "start_time": "2024-11-30T23:23:52.550535Z"
    }
   },
   "source": [
    "data.title.describe()"
   ],
   "outputs": [
    {
     "data": {
      "text/plain": [
       "count     847924\n",
       "unique    729266\n",
       "top         Home\n",
       "freq         130\n",
       "Name: title, dtype: object"
      ]
     },
     "execution_count": 21,
     "metadata": {},
     "output_type": "execute_result"
    }
   ],
   "execution_count": 21
  },
  {
   "cell_type": "code",
   "metadata": {
    "colab": {
     "base_uri": "https://localhost:8080/",
     "height": 241
    },
    "id": "mHMk-c7HFb9p",
    "outputId": "1ff60b5a-a8fd-4104-b902-99c1723ee558",
    "ExecuteTime": {
     "end_time": "2024-11-30T23:23:53.384227Z",
     "start_time": "2024-11-30T23:23:53.361820Z"
    }
   },
   "source": [
    "data['title'].sample(5)"
   ],
   "outputs": [
    {
     "data": {
      "text/plain": [
       "63464     Paleri Manikyam: Oru Pathirakolapathakathinte ...\n",
       "636180                                          排球少年：陆 VS 空\n",
       "397006                                                Roach\n",
       "573132                                House On Haunted Hill\n",
       "148310                                          Accelerator\n",
       "Name: title, dtype: object"
      ]
     },
     "execution_count": 22,
     "metadata": {},
     "output_type": "execute_result"
    }
   ],
   "execution_count": 22
  },
  {
   "cell_type": "markdown",
   "metadata": {
    "id": "GqOTx371IofS"
   },
   "source": [
    "### `vote_average`"
   ]
  },
  {
   "cell_type": "code",
   "metadata": {
    "colab": {
     "base_uri": "https://localhost:8080/",
     "height": 335
    },
    "id": "SSmnp8YeT6Xm",
    "outputId": "aba9d9f9-19f7-4f68-b9dc-471663e10ecf",
    "ExecuteTime": {
     "end_time": "2024-11-30T23:23:53.512195Z",
     "start_time": "2024-11-30T23:23:53.481085Z"
    }
   },
   "source": [
    "data.vote_average.describe()"
   ],
   "outputs": [
    {
     "data": {
      "text/plain": [
       "count    847928.000000\n",
       "mean          2.286612\n",
       "std           3.141303\n",
       "min           0.000000\n",
       "25%           0.000000\n",
       "50%           0.000000\n",
       "75%           5.342250\n",
       "max          10.000000\n",
       "Name: vote_average, dtype: float64"
      ]
     },
     "execution_count": 23,
     "metadata": {},
     "output_type": "execute_result"
    }
   ],
   "execution_count": 23
  },
  {
   "cell_type": "code",
   "metadata": {
    "colab": {
     "base_uri": "https://localhost:8080/",
     "height": 447
    },
    "id": "xq2he24LIrMA",
    "outputId": "1a4125bd-4cee-4586-9fb2-f8e480e2133a",
    "ExecuteTime": {
     "end_time": "2024-11-30T23:23:54.356994Z",
     "start_time": "2024-11-30T23:23:53.703560Z"
    }
   },
   "source": "data.vote_average.plot.hist(bins=100)",
   "outputs": [
    {
     "data": {
      "text/plain": [
       "<Axes: ylabel='Frequency'>"
      ]
     },
     "execution_count": 24,
     "metadata": {},
     "output_type": "execute_result"
    },
    {
     "data": {
      "text/plain": [
       "<Figure size 640x480 with 1 Axes>"
      ],
      "image/png": "[encoded data removed]"
     },
     "metadata": {},
     "output_type": "display_data"
    }
   ],
   "execution_count": 24
  },
  {
   "cell_type": "markdown",
   "metadata": {
    "id": "39GMMj-oI7co"
   },
   "source": [
    "There are an overwhelmingly large amount of $0.0$ vote averages. This is because they have $0$ `vote_count`. It's inappropriate to consider a movie with no votes to be $0.0$ on a $1\\text{-}10$ scale that does not permit $0$. These should be replaced with `NaN`."
   ]
  },
  {
   "cell_type": "code",
   "metadata": {
    "colab": {
     "base_uri": "https://localhost:8080/",
     "height": 447
    },
    "id": "qzggfHGiKk17",
    "outputId": "b2a91f11-39ff-48f7-b4b6-f0ca34baab01",
    "ExecuteTime": {
     "end_time": "2024-11-30T23:23:54.651622Z",
     "start_time": "2024-11-30T23:23:54.479246Z"
    }
   },
   "source": [
    "data.vote_average.replace(0, np.nan, inplace=True)\n",
    "data.vote_average.plot.hist(bins=90)"
   ],
   "outputs": [
    {
     "data": {
      "text/plain": [
       "<Axes: ylabel='Frequency'>"
      ]
     },
     "execution_count": 25,
     "metadata": {},
     "output_type": "execute_result"
    },
    {
     "data": {
      "text/plain": [
       "<Figure size 640x480 with 1 Axes>"
      ],
      "image/png": "[encoded data removed]"
     },
     "metadata": {},
     "output_type": "display_data"
    }
   ],
   "execution_count": 25
  },
  {
   "cell_type": "code",
   "metadata": {
    "colab": {
     "base_uri": "https://localhost:8080/",
     "height": 205
    },
    "id": "-TLXtq1fKuWg",
    "outputId": "ea422c17-ba2e-46c1-d13b-5fa562ec4798",
    "ExecuteTime": {
     "end_time": "2024-11-30T23:23:54.792478Z",
     "start_time": "2024-11-30T23:23:54.680193Z"
    }
   },
   "source": [
    "scoredNoVotes = data.query('vote_count == 0 and vote_average != 0')\n",
    "print(f\"Amount of movies with no votes but have a vote average anyway: {len(scoredNoVotes)}\")\n",
    "scoredNoVotes.sample()"
   ],
   "outputs": [
    {
     "name": "stdout",
     "output_type": "stream",
     "text": [
      "Amount of movies with no votes but have a vote average anyway: 524003\n"
     ]
    },
    {
     "data": {
      "text/plain": [
       "            id     title  vote_average  vote_count release_date  revenue  \\\n",
       "453432  995314  Dance #6           NaN           0   1971-07-03        0   \n",
       "\n",
       "        runtime  adult  budget imdb_id original_language original_title  \\\n",
       "453432        8  False       0     NaN                en       Dance #6   \n",
       "\n",
       "                                                 overview  popularity tagline  \\\n",
       "453432  Based on a construction by Alice Shaddle about...         0.6     NaN   \n",
       "\n",
       "       genres production_companies production_countries spoken_languages  \\\n",
       "453432    NaN                  NaN                  NaN              NaN   \n",
       "\n",
       "       keywords  \n",
       "453432      NaN  "
      ],
      "text/html": [
       "<div>\n",
       "<style scoped>\n",
       "    .dataframe tbody tr th:only-of-type {\n",
       "        vertical-align: middle;\n",
       "    }\n",
       "\n",
       "    .dataframe tbody tr th {\n",
       "        vertical-align: top;\n",
       "    }\n",
       "\n",
       "    .dataframe thead th {\n",
       "        text-align: right;\n",
       "    }\n",
       "</style>\n",
       "<table border=\"1\" class=\"dataframe\">\n",
       "  <thead>\n",
       "    <tr style=\"text-align: right;\">\n",
       "      <th></th>\n",
       "      <th>id</th>\n",
       "      <th>title</th>\n",
       "      <th>vote_average</th>\n",
       "      <th>vote_count</th>\n",
       "      <th>release_date</th>\n",
       "      <th>revenue</th>\n",
       "      <th>runtime</th>\n",
       "      <th>adult</th>\n",
       "      <th>budget</th>\n",
       "      <th>imdb_id</th>\n",
       "      <th>original_language</th>\n",
       "      <th>original_title</th>\n",
       "      <th>overview</th>\n",
       "      <th>popularity</th>\n",
       "      <th>tagline</th>\n",
       "      <th>genres</th>\n",
       "      <th>production_companies</th>\n",
       "      <th>production_countries</th>\n",
       "      <th>spoken_languages</th>\n",
       "      <th>keywords</th>\n",
       "    </tr>\n",
       "  </thead>\n",
       "  <tbody>\n",
       "    <tr>\n",
       "      <th>453432</th>\n",
       "      <td>995314</td>\n",
       "      <td>Dance #6</td>\n",
       "      <td>NaN</td>\n",
       "      <td>0</td>\n",
       "      <td>1971-07-03</td>\n",
       "      <td>0</td>\n",
       "      <td>8</td>\n",
       "      <td>False</td>\n",
       "      <td>0</td>\n",
       "      <td>NaN</td>\n",
       "      <td>en</td>\n",
       "      <td>Dance #6</td>\n",
       "      <td>Based on a construction by Alice Shaddle about...</td>\n",
       "      <td>0.6</td>\n",
       "      <td>NaN</td>\n",
       "      <td>NaN</td>\n",
       "      <td>NaN</td>\n",
       "      <td>NaN</td>\n",
       "      <td>NaN</td>\n",
       "      <td>NaN</td>\n",
       "    </tr>\n",
       "  </tbody>\n",
       "</table>\n",
       "</div>"
      ]
     },
     "execution_count": 26,
     "metadata": {},
     "output_type": "execute_result"
    }
   ],
   "execution_count": 26
  },
  {
   "cell_type": "markdown",
   "metadata": {
    "id": "QGceXn0YHPpL"
   },
   "source": [
    "There are some movies with $0$ `vote_count` but with a real `vote_average`."
   ]
  },
  {
   "cell_type": "markdown",
   "metadata": {
    "id": "ozPu0gAi-IM5"
   },
   "source": [
    "### `vote_count`"
   ]
  },
  {
   "cell_type": "code",
   "metadata": {
    "colab": {
     "base_uri": "https://localhost:8080/",
     "height": 335
    },
    "id": "VdzmKetP-LiH",
    "outputId": "334f66ac-e0d3-427a-f2ce-054eaa821d76",
    "ExecuteTime": {
     "end_time": "2024-11-30T23:23:54.853069Z",
     "start_time": "2024-11-30T23:23:54.826911Z"
    }
   },
   "source": [
    "data.vote_count.describe()"
   ],
   "outputs": [
    {
     "data": {
      "text/plain": [
       "count    847928.000000\n",
       "mean         25.244708\n",
       "std         368.552200\n",
       "min           0.000000\n",
       "25%           0.000000\n",
       "50%           0.000000\n",
       "75%           2.000000\n",
       "max       34495.000000\n",
       "Name: vote_count, dtype: float64"
      ]
     },
     "execution_count": 27,
     "metadata": {},
     "output_type": "execute_result"
    }
   ],
   "execution_count": 27
  },
  {
   "cell_type": "code",
   "metadata": {
    "colab": {
     "base_uri": "https://localhost:8080/",
     "height": 447
    },
    "id": "JQGjQAFe-7PV",
    "outputId": "f647eb30-6b6a-4743-f2a1-b9e39f794ecf",
    "ExecuteTime": {
     "end_time": "2024-11-30T23:23:55.071614Z",
     "start_time": "2024-11-30T23:23:54.909669Z"
    }
   },
   "source": "data.vote_count.plot.hist()",
   "outputs": [
    {
     "data": {
      "text/plain": [
       "<Axes: ylabel='Frequency'>"
      ]
     },
     "execution_count": 28,
     "metadata": {},
     "output_type": "execute_result"
    },
    {
     "data": {
      "text/plain": [
       "<Figure size 640x480 with 1 Axes>"
      ],
      "image/png": "[encoded data removed]"
     },
     "metadata": {},
     "output_type": "display_data"
    }
   ],
   "execution_count": 28
  },
  {
   "cell_type": "markdown",
   "metadata": {
    "id": "gx_Ql5B7IRM3"
   },
   "source": [
    "Most movies only have a handful of votes, while others can have tens of thousands."
   ]
  },
  {
   "cell_type": "markdown",
   "metadata": {
    "id": "e3SU-doe_DBn"
   },
   "source": [
    "### `release_date`"
   ]
  },
  {
   "cell_type": "code",
   "metadata": {
    "colab": {
     "base_uri": "https://localhost:8080/"
    },
    "id": "pUTU7MThlJNw",
    "outputId": "dba4b109-ac61-41be-c728-78111a5d0c01",
    "ExecuteTime": {
     "end_time": "2024-11-30T23:23:55.245240Z",
     "start_time": "2024-11-30T23:23:55.218378Z"
    }
   },
   "source": [
    "type(data['release_date'][0])"
   ],
   "outputs": [
    {
     "data": {
      "text/plain": [
       "pandas._libs.tslibs.timestamps.Timestamp"
      ]
     },
     "execution_count": 29,
     "metadata": {},
     "output_type": "execute_result"
    }
   ],
   "execution_count": 29
  },
  {
   "cell_type": "code",
   "metadata": {
    "colab": {
     "base_uri": "https://localhost:8080/",
     "height": 465
    },
    "id": "mGNjpMUeKp3Z",
    "outputId": "23bc918f-107e-4326-f0b8-76a9ea09484a",
    "ExecuteTime": {
     "end_time": "2024-11-30T23:23:55.582921Z",
     "start_time": "2024-11-30T23:23:55.437986Z"
    }
   },
   "source": [
    "pd.to_numeric(data['release_date']).hist()"
   ],
   "outputs": [
    {
     "data": {
      "text/plain": [
       "<Axes: >"
      ]
     },
     "execution_count": 30,
     "metadata": {},
     "output_type": "execute_result"
    },
    {
     "data": {
      "text/plain": [
       "<Figure size 640x480 with 1 Axes>"
      ],
      "image/png": "[encoded data removed]"
     },
     "metadata": {},
     "output_type": "display_data"
    }
   ],
   "execution_count": 30
  },
  {
   "cell_type": "markdown",
   "metadata": {
    "id": "w5wQhCRiKNSb"
   },
   "source": [
    "As expected the majority of movies are recent."
   ]
  },
  {
   "cell_type": "code",
   "metadata": {
    "colab": {
     "base_uri": "https://localhost:8080/",
     "height": 170
    },
    "id": "8_spcK_T_J6H",
    "outputId": "69dfa3b2-b940-423f-d046-50f046eeda63",
    "ExecuteTime": {
     "end_time": "2024-11-30T23:23:55.643757Z",
     "start_time": "2024-11-30T23:23:55.629228Z"
    }
   },
   "source": [
    "data[data['release_date'] == data['release_date'].min()]"
   ],
   "outputs": [
    {
     "data": {
      "text/plain": [
       "             id                                title  vote_average  \\\n",
       "583141  1294302  בראול סטארס בחיים האמיתיים-אלון קאט           NaN   \n",
       "\n",
       "        vote_count release_date    revenue  runtime  adult  budget imdb_id  \\\n",
       "583141           0   1800-01-01  100000000        0  False       0     NaN   \n",
       "\n",
       "       original_language                       original_title overview  \\\n",
       "583141                he  בראול סטארס בחיים האמיתיים-אלון קאט      NaN   \n",
       "\n",
       "        popularity tagline                                 genres  \\\n",
       "583141         0.6     NaN  Horror, Drama, Thriller, Mystery, War   \n",
       "\n",
       "       production_companies production_countries spoken_languages keywords  \n",
       "583141           Salty Fish                  NaN              NaN      NaN  "
      ],
      "text/html": [
       "<div>\n",
       "<style scoped>\n",
       "    .dataframe tbody tr th:only-of-type {\n",
       "        vertical-align: middle;\n",
       "    }\n",
       "\n",
       "    .dataframe tbody tr th {\n",
       "        vertical-align: top;\n",
       "    }\n",
       "\n",
       "    .dataframe thead th {\n",
       "        text-align: right;\n",
       "    }\n",
       "</style>\n",
       "<table border=\"1\" class=\"dataframe\">\n",
       "  <thead>\n",
       "    <tr style=\"text-align: right;\">\n",
       "      <th></th>\n",
       "      <th>id</th>\n",
       "      <th>title</th>\n",
       "      <th>vote_average</th>\n",
       "      <th>vote_count</th>\n",
       "      <th>release_date</th>\n",
       "      <th>revenue</th>\n",
       "      <th>runtime</th>\n",
       "      <th>adult</th>\n",
       "      <th>budget</th>\n",
       "      <th>imdb_id</th>\n",
       "      <th>original_language</th>\n",
       "      <th>original_title</th>\n",
       "      <th>overview</th>\n",
       "      <th>popularity</th>\n",
       "      <th>tagline</th>\n",
       "      <th>genres</th>\n",
       "      <th>production_companies</th>\n",
       "      <th>production_countries</th>\n",
       "      <th>spoken_languages</th>\n",
       "      <th>keywords</th>\n",
       "    </tr>\n",
       "  </thead>\n",
       "  <tbody>\n",
       "    <tr>\n",
       "      <th>583141</th>\n",
       "      <td>1294302</td>\n",
       "      <td>בראול סטארס בחיים האמיתיים-אלון קאט</td>\n",
       "      <td>NaN</td>\n",
       "      <td>0</td>\n",
       "      <td>1800-01-01</td>\n",
       "      <td>100000000</td>\n",
       "      <td>0</td>\n",
       "      <td>False</td>\n",
       "      <td>0</td>\n",
       "      <td>NaN</td>\n",
       "      <td>he</td>\n",
       "      <td>בראול סטארס בחיים האמיתיים-אלון קאט</td>\n",
       "      <td>NaN</td>\n",
       "      <td>0.6</td>\n",
       "      <td>NaN</td>\n",
       "      <td>Horror, Drama, Thriller, Mystery, War</td>\n",
       "      <td>Salty Fish</td>\n",
       "      <td>NaN</td>\n",
       "      <td>NaN</td>\n",
       "      <td>NaN</td>\n",
       "    </tr>\n",
       "  </tbody>\n",
       "</table>\n",
       "</div>"
      ]
     },
     "execution_count": 31,
     "metadata": {},
     "output_type": "execute_result"
    }
   ],
   "execution_count": 31
  },
  {
   "cell_type": "markdown",
   "metadata": {
    "id": "NQtu0dXeJo_m"
   },
   "source": [
    "There are movies with improperly recorded dates."
   ]
  },
  {
   "cell_type": "code",
   "metadata": {
    "colab": {
     "base_uri": "https://localhost:8080/",
     "height": 487
    },
    "id": "Q24M87H0cPwh",
    "outputId": "ddc73f69-f710-4334-bd04-69aa5e6fadad",
    "ExecuteTime": {
     "end_time": "2024-11-30T23:23:55.745580Z",
     "start_time": "2024-11-30T23:23:55.725998Z"
    }
   },
   "source": [
    "data[data['release_date'] < pd.to_datetime('1900-01-01')].sort_values('release_date').head()"
   ],
   "outputs": [
    {
     "data": {
      "text/plain": [
       "             id                                title  vote_average  \\\n",
       "583141  1294302  בראול סטארס בחיים האמיתיים-אלון קאט           NaN   \n",
       "567812  1233885              A Farsa de Inês Pereira           NaN   \n",
       "540414  1314804                    Kaskisavun mailta           NaN   \n",
       "611979  1256924    Felix Nadar Spinning in his Chair           NaN   \n",
       "534500  1244969    Felix Nadar Spinning in his Chair           NaN   \n",
       "\n",
       "        vote_count release_date    revenue  runtime  adult  budget  \\\n",
       "583141           0   1800-01-01  100000000        0  False       0   \n",
       "567812           0   1800-09-11          0       56  False       0   \n",
       "540414           0   1837-10-29          0       14  False       0   \n",
       "611979           0   1865-01-01          0        1  False       0   \n",
       "534500           0   1865-01-01          0        1  False       0   \n",
       "\n",
       "           imdb_id original_language                       original_title  \\\n",
       "583141         NaN                he  בראול סטארס בחיים האמיתיים-אלון קאט   \n",
       "567812         NaN                pt              A Farsa de Inês Pereira   \n",
       "540414         NaN                en                    Kaskisavun mailta   \n",
       "611979         NaN                en    Felix Nadar Spinning in his Chair   \n",
       "534500  tt31150469                fr    Felix Nadar Spinning in his Chair   \n",
       "\n",
       "                                                 overview  popularity  \\\n",
       "583141                                                NaN       0.600   \n",
       "567812  The farsades of ines pereira by the goat of my...       0.600   \n",
       "540414                          Finnish short documentary       0.651   \n",
       "611979                  Felix Nadar Spinning in his Chair       0.000   \n",
       "534500                  Felix Nadar Spinning in his Chair       0.600   \n",
       "\n",
       "                      tagline                                 genres  \\\n",
       "583141                    NaN  Horror, Drama, Thriller, Mystery, War   \n",
       "567812                    NaN                                    NaN   \n",
       "540414                    NaN                                    NaN   \n",
       "611979  The frames that spun!                                    NaN   \n",
       "534500                    NaN                            Documentary   \n",
       "\n",
       "       production_companies production_countries spoken_languages keywords  \n",
       "583141           Salty Fish                  NaN              NaN      NaN  \n",
       "567812                  NaN                  NaN       Portuguese      NaN  \n",
       "540414                  NaN              Finland          Finnish      NaN  \n",
       "611979                  NaN                  NaN              NaN      NaN  \n",
       "534500   Paris Nadar Studio                  NaN      No Language      NaN  "
      ],
      "text/html": [
       "<div>\n",
       "<style scoped>\n",
       "    .dataframe tbody tr th:only-of-type {\n",
       "        vertical-align: middle;\n",
       "    }\n",
       "\n",
       "    .dataframe tbody tr th {\n",
       "        vertical-align: top;\n",
       "    }\n",
       "\n",
       "    .dataframe thead th {\n",
       "        text-align: right;\n",
       "    }\n",
       "</style>\n",
       "<table border=\"1\" class=\"dataframe\">\n",
       "  <thead>\n",
       "    <tr style=\"text-align: right;\">\n",
       "      <th></th>\n",
       "      <th>id</th>\n",
       "      <th>title</th>\n",
       "      <th>vote_average</th>\n",
       "      <th>vote_count</th>\n",
       "      <th>release_date</th>\n",
       "      <th>revenue</th>\n",
       "      <th>runtime</th>\n",
       "      <th>adult</th>\n",
       "      <th>budget</th>\n",
       "      <th>imdb_id</th>\n",
       "      <th>original_language</th>\n",
       "      <th>original_title</th>\n",
       "      <th>overview</th>\n",
       "      <th>popularity</th>\n",
       "      <th>tagline</th>\n",
       "      <th>genres</th>\n",
       "      <th>production_companies</th>\n",
       "      <th>production_countries</th>\n",
       "      <th>spoken_languages</th>\n",
       "      <th>keywords</th>\n",
       "    </tr>\n",
       "  </thead>\n",
       "  <tbody>\n",
       "    <tr>\n",
       "      <th>583141</th>\n",
       "      <td>1294302</td>\n",
       "      <td>בראול סטארס בחיים האמיתיים-אלון קאט</td>\n",
       "      <td>NaN</td>\n",
       "      <td>0</td>\n",
       "      <td>1800-01-01</td>\n",
       "      <td>100000000</td>\n",
       "      <td>0</td>\n",
       "      <td>False</td>\n",
       "      <td>0</td>\n",
       "      <td>NaN</td>\n",
       "      <td>he</td>\n",
       "      <td>בראול סטארס בחיים האמיתיים-אלון קאט</td>\n",
       "      <td>NaN</td>\n",
       "      <td>0.600</td>\n",
       "      <td>NaN</td>\n",
       "      <td>Horror, Drama, Thriller, Mystery, War</td>\n",
       "      <td>Salty Fish</td>\n",
       "      <td>NaN</td>\n",
       "      <td>NaN</td>\n",
       "      <td>NaN</td>\n",
       "    </tr>\n",
       "    <tr>\n",
       "      <th>567812</th>\n",
       "      <td>1233885</td>\n",
       "      <td>A Farsa de Inês Pereira</td>\n",
       "      <td>NaN</td>\n",
       "      <td>0</td>\n",
       "      <td>1800-09-11</td>\n",
       "      <td>0</td>\n",
       "      <td>56</td>\n",
       "      <td>False</td>\n",
       "      <td>0</td>\n",
       "      <td>NaN</td>\n",
       "      <td>pt</td>\n",
       "      <td>A Farsa de Inês Pereira</td>\n",
       "      <td>The farsades of ines pereira by the goat of my...</td>\n",
       "      <td>0.600</td>\n",
       "      <td>NaN</td>\n",
       "      <td>NaN</td>\n",
       "      <td>NaN</td>\n",
       "      <td>NaN</td>\n",
       "      <td>Portuguese</td>\n",
       "      <td>NaN</td>\n",
       "    </tr>\n",
       "    <tr>\n",
       "      <th>540414</th>\n",
       "      <td>1314804</td>\n",
       "      <td>Kaskisavun mailta</td>\n",
       "      <td>NaN</td>\n",
       "      <td>0</td>\n",
       "      <td>1837-10-29</td>\n",
       "      <td>0</td>\n",
       "      <td>14</td>\n",
       "      <td>False</td>\n",
       "      <td>0</td>\n",
       "      <td>NaN</td>\n",
       "      <td>en</td>\n",
       "      <td>Kaskisavun mailta</td>\n",
       "      <td>Finnish short documentary</td>\n",
       "      <td>0.651</td>\n",
       "      <td>NaN</td>\n",
       "      <td>NaN</td>\n",
       "      <td>NaN</td>\n",
       "      <td>Finland</td>\n",
       "      <td>Finnish</td>\n",
       "      <td>NaN</td>\n",
       "    </tr>\n",
       "    <tr>\n",
       "      <th>611979</th>\n",
       "      <td>1256924</td>\n",
       "      <td>Felix Nadar Spinning in his Chair</td>\n",
       "      <td>NaN</td>\n",
       "      <td>0</td>\n",
       "      <td>1865-01-01</td>\n",
       "      <td>0</td>\n",
       "      <td>1</td>\n",
       "      <td>False</td>\n",
       "      <td>0</td>\n",
       "      <td>NaN</td>\n",
       "      <td>en</td>\n",
       "      <td>Felix Nadar Spinning in his Chair</td>\n",
       "      <td>Felix Nadar Spinning in his Chair</td>\n",
       "      <td>0.000</td>\n",
       "      <td>The frames that spun!</td>\n",
       "      <td>NaN</td>\n",
       "      <td>NaN</td>\n",
       "      <td>NaN</td>\n",
       "      <td>NaN</td>\n",
       "      <td>NaN</td>\n",
       "    </tr>\n",
       "    <tr>\n",
       "      <th>534500</th>\n",
       "      <td>1244969</td>\n",
       "      <td>Felix Nadar Spinning in his Chair</td>\n",
       "      <td>NaN</td>\n",
       "      <td>0</td>\n",
       "      <td>1865-01-01</td>\n",
       "      <td>0</td>\n",
       "      <td>1</td>\n",
       "      <td>False</td>\n",
       "      <td>0</td>\n",
       "      <td>tt31150469</td>\n",
       "      <td>fr</td>\n",
       "      <td>Felix Nadar Spinning in his Chair</td>\n",
       "      <td>Felix Nadar Spinning in his Chair</td>\n",
       "      <td>0.600</td>\n",
       "      <td>NaN</td>\n",
       "      <td>Documentary</td>\n",
       "      <td>Paris Nadar Studio</td>\n",
       "      <td>NaN</td>\n",
       "      <td>No Language</td>\n",
       "      <td>NaN</td>\n",
       "    </tr>\n",
       "  </tbody>\n",
       "</table>\n",
       "</div>"
      ]
     },
     "execution_count": 32,
     "metadata": {},
     "output_type": "execute_result"
    }
   ],
   "execution_count": 32
  },
  {
   "cell_type": "markdown",
   "metadata": {
    "id": "Uy9bZeGtJyEg"
   },
   "source": [
    "Luckily there are only a handful of these. The first legitimate film is in 1865, anything claiming to be older will be removed."
   ]
  },
  {
   "cell_type": "code",
   "metadata": {
    "id": "b3601kBzLCOe",
    "ExecuteTime": {
     "end_time": "2024-11-30T23:23:56.012552Z",
     "start_time": "2024-11-30T23:23:55.810209Z"
    }
   },
   "source": [
    "data = data[data['release_date'] >= pd.to_datetime('1865-01-01')]"
   ],
   "outputs": [],
   "execution_count": 33
  },
  {
   "cell_type": "markdown",
   "metadata": {
    "id": "KQxoiq5hLnnL"
   },
   "source": [
    "### `revenue`"
   ]
  },
  {
   "cell_type": "code",
   "metadata": {
    "colab": {
     "base_uri": "https://localhost:8080/",
     "height": 335
    },
    "id": "4kCO1PjNLyxZ",
    "outputId": "a589649a-e367-463b-d634-b0421c757369",
    "ExecuteTime": {
     "end_time": "2024-11-30T23:23:56.287642Z",
     "start_time": "2024-11-30T23:23:56.263512Z"
    }
   },
   "source": [
    "data.revenue.describe()"
   ],
   "outputs": [
    {
     "data": {
      "text/plain": [
       "count    8.479250e+05\n",
       "mean     8.733779e+05\n",
       "std      1.958273e+07\n",
       "min     -1.200000e+01\n",
       "25%      0.000000e+00\n",
       "50%      0.000000e+00\n",
       "75%      0.000000e+00\n",
       "max      3.000000e+09\n",
       "Name: revenue, dtype: float64"
      ]
     },
     "execution_count": 34,
     "metadata": {},
     "output_type": "execute_result"
    }
   ],
   "execution_count": 34
  },
  {
   "cell_type": "code",
   "metadata": {
    "colab": {
     "base_uri": "https://localhost:8080/"
    },
    "id": "WgAr-H9hNNET",
    "outputId": "01c44ae5-347a-4767-baf8-bdc2e0f49158",
    "ExecuteTime": {
     "end_time": "2024-11-30T23:23:56.388941Z",
     "start_time": "2024-11-30T23:23:56.378505Z"
    }
   },
   "source": [
    "data.revenue.info()"
   ],
   "outputs": [
    {
     "name": "stdout",
     "output_type": "stream",
     "text": [
      "<class 'pandas.core.series.Series'>\n",
      "Index: 847925 entries, 0 to 1140105\n",
      "Series name: revenue\n",
      "Non-Null Count   Dtype\n",
      "--------------   -----\n",
      "847925 non-null  int64\n",
      "dtypes: int64(1)\n",
      "memory usage: 12.9 MB\n"
     ]
    }
   ],
   "execution_count": 35
  },
  {
   "cell_type": "code",
   "metadata": {
    "colab": {
     "base_uri": "https://localhost:8080/",
     "height": 573
    },
    "id": "6Mt5l8DGL4Mb",
    "outputId": "ad6c5708-6cc4-486a-8ecb-e0a60af3289c",
    "ExecuteTime": {
     "end_time": "2024-11-30T23:23:56.803502Z",
     "start_time": "2024-11-30T23:23:56.590125Z"
    }
   },
   "source": [
    "revenue_sorted = data.sort_values('revenue')\n",
    "revenue_sorted.head()"
   ],
   "outputs": [
    {
     "data": {
      "text/plain": [
       "             id                        title  vote_average  vote_count  \\\n",
       "196266   339294                   Some Bears           7.0           2   \n",
       "1140104  734804               Studio Moments           NaN           0   \n",
       "1118602  727492          The Bronze Horseman           NaN           0   \n",
       "1118603  727493  The Little Humpbacked Horse           NaN           0   \n",
       "1118605  727496                        Teeth           NaN           0   \n",
       "\n",
       "        release_date  revenue  runtime  adult  budget    imdb_id  \\\n",
       "196266    2013-05-15      -12        8  False      12        NaN   \n",
       "1140104   2020-01-01        0        8  False       0        NaN   \n",
       "1118602   2016-03-31        0        0  False       0        NaN   \n",
       "1118603   2014-08-05        0        0  False       0        NaN   \n",
       "1118605   2017-10-07        0       71  False       0  tt7535280   \n",
       "\n",
       "        original_language               original_title  \\\n",
       "196266                 en                   Some Bears   \n",
       "1140104                en               Studio Moments   \n",
       "1118602                en          The Bronze Horseman   \n",
       "1118603                en  The Little Humpbacked Horse   \n",
       "1118605                ro                       Dintii   \n",
       "\n",
       "                                                  overview  popularity  \\\n",
       "196266   A young man slips into a world of delusion aft...         0.6   \n",
       "1140104  A \"moving image\" work by Richard Garet with mu...         0.6   \n",
       "1118602  This fantasy ballet is based on Pushkin’s poem...         0.6   \n",
       "1118603  The Little Humpbacked Horse is based on a Russ...         0.6   \n",
       "1118605  A couple of thiefs from a battlefield have a s...         0.6   \n",
       "\n",
       "                                               tagline genres  \\\n",
       "196266   Bears, known in the wild for their cuddliness    NaN   \n",
       "1140104                                            NaN    NaN   \n",
       "1118602                                            NaN    NaN   \n",
       "1118603                                            NaN    NaN   \n",
       "1118605                                            NaN  Drama   \n",
       "\n",
       "        production_companies      production_countries spoken_languages  \\\n",
       "196266                   NaN  United States of America          English   \n",
       "1140104                  NaN                       NaN              NaN   \n",
       "1118602    Mariinsky Theatre                       NaN              NaN   \n",
       "1118603    Mariinsky Theatre                       NaN              NaN   \n",
       "1118605                  NaN                   Romania         Romanian   \n",
       "\n",
       "        keywords  \n",
       "196266       NaN  \n",
       "1140104      NaN  \n",
       "1118602      NaN  \n",
       "1118603      NaN  \n",
       "1118605      NaN  "
      ],
      "text/html": [
       "<div>\n",
       "<style scoped>\n",
       "    .dataframe tbody tr th:only-of-type {\n",
       "        vertical-align: middle;\n",
       "    }\n",
       "\n",
       "    .dataframe tbody tr th {\n",
       "        vertical-align: top;\n",
       "    }\n",
       "\n",
       "    .dataframe thead th {\n",
       "        text-align: right;\n",
       "    }\n",
       "</style>\n",
       "<table border=\"1\" class=\"dataframe\">\n",
       "  <thead>\n",
       "    <tr style=\"text-align: right;\">\n",
       "      <th></th>\n",
       "      <th>id</th>\n",
       "      <th>title</th>\n",
       "      <th>vote_average</th>\n",
       "      <th>vote_count</th>\n",
       "      <th>release_date</th>\n",
       "      <th>revenue</th>\n",
       "      <th>runtime</th>\n",
       "      <th>adult</th>\n",
       "      <th>budget</th>\n",
       "      <th>imdb_id</th>\n",
       "      <th>original_language</th>\n",
       "      <th>original_title</th>\n",
       "      <th>overview</th>\n",
       "      <th>popularity</th>\n",
       "      <th>tagline</th>\n",
       "      <th>genres</th>\n",
       "      <th>production_companies</th>\n",
       "      <th>production_countries</th>\n",
       "      <th>spoken_languages</th>\n",
       "      <th>keywords</th>\n",
       "    </tr>\n",
       "  </thead>\n",
       "  <tbody>\n",
       "    <tr>\n",
       "      <th>196266</th>\n",
       "      <td>339294</td>\n",
       "      <td>Some Bears</td>\n",
       "      <td>7.0</td>\n",
       "      <td>2</td>\n",
       "      <td>2013-05-15</td>\n",
       "      <td>-12</td>\n",
       "      <td>8</td>\n",
       "      <td>False</td>\n",
       "      <td>12</td>\n",
       "      <td>NaN</td>\n",
       "      <td>en</td>\n",
       "      <td>Some Bears</td>\n",
       "      <td>A young man slips into a world of delusion aft...</td>\n",
       "      <td>0.6</td>\n",
       "      <td>Bears, known in the wild for their cuddliness</td>\n",
       "      <td>NaN</td>\n",
       "      <td>NaN</td>\n",
       "      <td>United States of America</td>\n",
       "      <td>English</td>\n",
       "      <td>NaN</td>\n",
       "    </tr>\n",
       "    <tr>\n",
       "      <th>1140104</th>\n",
       "      <td>734804</td>\n",
       "      <td>Studio Moments</td>\n",
       "      <td>NaN</td>\n",
       "      <td>0</td>\n",
       "      <td>2020-01-01</td>\n",
       "      <td>0</td>\n",
       "      <td>8</td>\n",
       "      <td>False</td>\n",
       "      <td>0</td>\n",
       "      <td>NaN</td>\n",
       "      <td>en</td>\n",
       "      <td>Studio Moments</td>\n",
       "      <td>A \"moving image\" work by Richard Garet with mu...</td>\n",
       "      <td>0.6</td>\n",
       "      <td>NaN</td>\n",
       "      <td>NaN</td>\n",
       "      <td>NaN</td>\n",
       "      <td>NaN</td>\n",
       "      <td>NaN</td>\n",
       "      <td>NaN</td>\n",
       "    </tr>\n",
       "    <tr>\n",
       "      <th>1118602</th>\n",
       "      <td>727492</td>\n",
       "      <td>The Bronze Horseman</td>\n",
       "      <td>NaN</td>\n",
       "      <td>0</td>\n",
       "      <td>2016-03-31</td>\n",
       "      <td>0</td>\n",
       "      <td>0</td>\n",
       "      <td>False</td>\n",
       "      <td>0</td>\n",
       "      <td>NaN</td>\n",
       "      <td>en</td>\n",
       "      <td>The Bronze Horseman</td>\n",
       "      <td>This fantasy ballet is based on Pushkin’s poem...</td>\n",
       "      <td>0.6</td>\n",
       "      <td>NaN</td>\n",
       "      <td>NaN</td>\n",
       "      <td>Mariinsky Theatre</td>\n",
       "      <td>NaN</td>\n",
       "      <td>NaN</td>\n",
       "      <td>NaN</td>\n",
       "    </tr>\n",
       "    <tr>\n",
       "      <th>1118603</th>\n",
       "      <td>727493</td>\n",
       "      <td>The Little Humpbacked Horse</td>\n",
       "      <td>NaN</td>\n",
       "      <td>0</td>\n",
       "      <td>2014-08-05</td>\n",
       "      <td>0</td>\n",
       "      <td>0</td>\n",
       "      <td>False</td>\n",
       "      <td>0</td>\n",
       "      <td>NaN</td>\n",
       "      <td>en</td>\n",
       "      <td>The Little Humpbacked Horse</td>\n",
       "      <td>The Little Humpbacked Horse is based on a Russ...</td>\n",
       "      <td>0.6</td>\n",
       "      <td>NaN</td>\n",
       "      <td>NaN</td>\n",
       "      <td>Mariinsky Theatre</td>\n",
       "      <td>NaN</td>\n",
       "      <td>NaN</td>\n",
       "      <td>NaN</td>\n",
       "    </tr>\n",
       "    <tr>\n",
       "      <th>1118605</th>\n",
       "      <td>727496</td>\n",
       "      <td>Teeth</td>\n",
       "      <td>NaN</td>\n",
       "      <td>0</td>\n",
       "      <td>2017-10-07</td>\n",
       "      <td>0</td>\n",
       "      <td>71</td>\n",
       "      <td>False</td>\n",
       "      <td>0</td>\n",
       "      <td>tt7535280</td>\n",
       "      <td>ro</td>\n",
       "      <td>Dintii</td>\n",
       "      <td>A couple of thiefs from a battlefield have a s...</td>\n",
       "      <td>0.6</td>\n",
       "      <td>NaN</td>\n",
       "      <td>Drama</td>\n",
       "      <td>NaN</td>\n",
       "      <td>Romania</td>\n",
       "      <td>Romanian</td>\n",
       "      <td>NaN</td>\n",
       "    </tr>\n",
       "  </tbody>\n",
       "</table>\n",
       "</div>"
      ]
     },
     "execution_count": 36,
     "metadata": {},
     "output_type": "execute_result"
    }
   ],
   "execution_count": 36
  },
  {
   "cell_type": "code",
   "metadata": {
    "colab": {
     "base_uri": "https://localhost:8080/",
     "height": 625
    },
    "id": "RzkkhpwbNoRF",
    "outputId": "f825fbd9-d189-43e8-b0cf-8f26086f196f",
    "ExecuteTime": {
     "end_time": "2024-11-30T23:23:56.855279Z",
     "start_time": "2024-11-30T23:23:56.842861Z"
    }
   },
   "source": [
    "revenue_sorted.tail()"
   ],
   "outputs": [
    {
     "data": {
      "text/plain": [
       "             id                     title  vote_average  vote_count  \\\n",
       "282       76600  Avatar: The Way of Water         7.654        9830   \n",
       "15       299534         Avengers: Endgame         8.263       23857   \n",
       "3         19995                    Avatar         7.573       29815   \n",
       "554324  1224207   Adventures in Bora Bora           NaN           0   \n",
       "230038  1270893         TikTok Rizz Party        10.000           1   \n",
       "\n",
       "       release_date     revenue  runtime  adult     budget    imdb_id  \\\n",
       "282      2022-12-14  2320250281      192  False  460000000  tt1630029   \n",
       "15       2019-04-24  2800000000      181  False  356000000  tt4154796   \n",
       "3        2009-12-15  2923706026      162  False  237000000  tt0499549   \n",
       "554324   2023-08-23  3000000000        5  False  800000000        NaN   \n",
       "230038   2024-04-01  3000000000      180  False  250000000        NaN   \n",
       "\n",
       "       original_language            original_title  \\\n",
       "282                   en  Avatar: The Way of Water   \n",
       "15                    en         Avengers: Endgame   \n",
       "3                     en                    Avatar   \n",
       "554324                en   Adventures in Bora Bora   \n",
       "230038                en         TikTok Rizz Party   \n",
       "\n",
       "                                                 overview  popularity  \\\n",
       "282     Set more than a decade after the events of the...     241.285   \n",
       "15      After the devastating events of Avengers: Infi...      91.756   \n",
       "3       In the 22nd century, a paraplegic Marine is di...      79.932   \n",
       "554324  The adventures in Bora Bora, is an astonishing...       0.000   \n",
       "230038  a band of brothers, torn apart by the constant...       0.000   \n",
       "\n",
       "                            tagline  \\\n",
       "282              Return to Pandora.   \n",
       "15               Avenge the fallen.   \n",
       "3       Enter the world of Pandora.   \n",
       "554324                    (English)   \n",
       "230038                          NaN   \n",
       "\n",
       "                                             genres  \\\n",
       "282              Science Fiction, Adventure, Action   \n",
       "15               Adventure, Science Fiction, Action   \n",
       "3       Action, Adventure, Fantasy, Science Fiction   \n",
       "554324                                  Horror, War   \n",
       "230038                                Drama, Comedy   \n",
       "\n",
       "                                     production_companies  \\\n",
       "282        20th Century Studios, Lightstorm Entertainment   \n",
       "15                                         Marvel Studios   \n",
       "3       Dune Entertainment, Lightstorm Entertainment, ...   \n",
       "554324                                                NaN   \n",
       "230038                                       Warner Bros.   \n",
       "\n",
       "                            production_countries          spoken_languages  \\\n",
       "282                     United States of America                   English   \n",
       "15                      United States of America  English, Japanese, Xhosa   \n",
       "3       United States of America, United Kingdom          English, Spanish   \n",
       "554324                                       NaN                   English   \n",
       "230038                  United States of America                       NaN   \n",
       "\n",
       "                                                 keywords  \n",
       "282     dying and death, loss of loved one, alien life...  \n",
       "15      superhero, time travel, space travel, time mac...  \n",
       "3       future, society, culture clash, space travel, ...  \n",
       "554324                                                NaN  \n",
       "230038                                party, tiktok, rizz  "
      ],
      "text/html": [
       "<div>\n",
       "<style scoped>\n",
       "    .dataframe tbody tr th:only-of-type {\n",
       "        vertical-align: middle;\n",
       "    }\n",
       "\n",
       "    .dataframe tbody tr th {\n",
       "        vertical-align: top;\n",
       "    }\n",
       "\n",
       "    .dataframe thead th {\n",
       "        text-align: right;\n",
       "    }\n",
       "</style>\n",
       "<table border=\"1\" class=\"dataframe\">\n",
       "  <thead>\n",
       "    <tr style=\"text-align: right;\">\n",
       "      <th></th>\n",
       "      <th>id</th>\n",
       "      <th>title</th>\n",
       "      <th>vote_average</th>\n",
       "      <th>vote_count</th>\n",
       "      <th>release_date</th>\n",
       "      <th>revenue</th>\n",
       "      <th>runtime</th>\n",
       "      <th>adult</th>\n",
       "      <th>budget</th>\n",
       "      <th>imdb_id</th>\n",
       "      <th>original_language</th>\n",
       "      <th>original_title</th>\n",
       "      <th>overview</th>\n",
       "      <th>popularity</th>\n",
       "      <th>tagline</th>\n",
       "      <th>genres</th>\n",
       "      <th>production_companies</th>\n",
       "      <th>production_countries</th>\n",
       "      <th>spoken_languages</th>\n",
       "      <th>keywords</th>\n",
       "    </tr>\n",
       "  </thead>\n",
       "  <tbody>\n",
       "    <tr>\n",
       "      <th>282</th>\n",
       "      <td>76600</td>\n",
       "      <td>Avatar: The Way of Water</td>\n",
       "      <td>7.654</td>\n",
       "      <td>9830</td>\n",
       "      <td>2022-12-14</td>\n",
       "      <td>2320250281</td>\n",
       "      <td>192</td>\n",
       "      <td>False</td>\n",
       "      <td>460000000</td>\n",
       "      <td>tt1630029</td>\n",
       "      <td>en</td>\n",
       "      <td>Avatar: The Way of Water</td>\n",
       "      <td>Set more than a decade after the events of the...</td>\n",
       "      <td>241.285</td>\n",
       "      <td>Return to Pandora.</td>\n",
       "      <td>Science Fiction, Adventure, Action</td>\n",
       "      <td>20th Century Studios, Lightstorm Entertainment</td>\n",
       "      <td>United States of America</td>\n",
       "      <td>English</td>\n",
       "      <td>dying and death, loss of loved one, alien life...</td>\n",
       "    </tr>\n",
       "    <tr>\n",
       "      <th>15</th>\n",
       "      <td>299534</td>\n",
       "      <td>Avengers: Endgame</td>\n",
       "      <td>8.263</td>\n",
       "      <td>23857</td>\n",
       "      <td>2019-04-24</td>\n",
       "      <td>2800000000</td>\n",
       "      <td>181</td>\n",
       "      <td>False</td>\n",
       "      <td>356000000</td>\n",
       "      <td>tt4154796</td>\n",
       "      <td>en</td>\n",
       "      <td>Avengers: Endgame</td>\n",
       "      <td>After the devastating events of Avengers: Infi...</td>\n",
       "      <td>91.756</td>\n",
       "      <td>Avenge the fallen.</td>\n",
       "      <td>Adventure, Science Fiction, Action</td>\n",
       "      <td>Marvel Studios</td>\n",
       "      <td>United States of America</td>\n",
       "      <td>English, Japanese, Xhosa</td>\n",
       "      <td>superhero, time travel, space travel, time mac...</td>\n",
       "    </tr>\n",
       "    <tr>\n",
       "      <th>3</th>\n",
       "      <td>19995</td>\n",
       "      <td>Avatar</td>\n",
       "      <td>7.573</td>\n",
       "      <td>29815</td>\n",
       "      <td>2009-12-15</td>\n",
       "      <td>2923706026</td>\n",
       "      <td>162</td>\n",
       "      <td>False</td>\n",
       "      <td>237000000</td>\n",
       "      <td>tt0499549</td>\n",
       "      <td>en</td>\n",
       "      <td>Avatar</td>\n",
       "      <td>In the 22nd century, a paraplegic Marine is di...</td>\n",
       "      <td>79.932</td>\n",
       "      <td>Enter the world of Pandora.</td>\n",
       "      <td>Action, Adventure, Fantasy, Science Fiction</td>\n",
       "      <td>Dune Entertainment, Lightstorm Entertainment, ...</td>\n",
       "      <td>United States of America, United Kingdom</td>\n",
       "      <td>English, Spanish</td>\n",
       "      <td>future, society, culture clash, space travel, ...</td>\n",
       "    </tr>\n",
       "    <tr>\n",
       "      <th>554324</th>\n",
       "      <td>1224207</td>\n",
       "      <td>Adventures in Bora Bora</td>\n",
       "      <td>NaN</td>\n",
       "      <td>0</td>\n",
       "      <td>2023-08-23</td>\n",
       "      <td>3000000000</td>\n",
       "      <td>5</td>\n",
       "      <td>False</td>\n",
       "      <td>800000000</td>\n",
       "      <td>NaN</td>\n",
       "      <td>en</td>\n",
       "      <td>Adventures in Bora Bora</td>\n",
       "      <td>The adventures in Bora Bora, is an astonishing...</td>\n",
       "      <td>0.000</td>\n",
       "      <td>(English)</td>\n",
       "      <td>Horror, War</td>\n",
       "      <td>NaN</td>\n",
       "      <td>NaN</td>\n",
       "      <td>English</td>\n",
       "      <td>NaN</td>\n",
       "    </tr>\n",
       "    <tr>\n",
       "      <th>230038</th>\n",
       "      <td>1270893</td>\n",
       "      <td>TikTok Rizz Party</td>\n",
       "      <td>10.000</td>\n",
       "      <td>1</td>\n",
       "      <td>2024-04-01</td>\n",
       "      <td>3000000000</td>\n",
       "      <td>180</td>\n",
       "      <td>False</td>\n",
       "      <td>250000000</td>\n",
       "      <td>NaN</td>\n",
       "      <td>en</td>\n",
       "      <td>TikTok Rizz Party</td>\n",
       "      <td>a band of brothers, torn apart by the constant...</td>\n",
       "      <td>0.000</td>\n",
       "      <td>NaN</td>\n",
       "      <td>Drama, Comedy</td>\n",
       "      <td>Warner Bros.</td>\n",
       "      <td>United States of America</td>\n",
       "      <td>NaN</td>\n",
       "      <td>party, tiktok, rizz</td>\n",
       "    </tr>\n",
       "  </tbody>\n",
       "</table>\n",
       "</div>"
      ]
     },
     "execution_count": 37,
     "metadata": {},
     "output_type": "execute_result"
    }
   ],
   "execution_count": 37
  },
  {
   "cell_type": "markdown",
   "metadata": {
    "id": "7W-c6HjYNGFw"
   },
   "source": [
    "Most films have no revenue, but there are many highly grossing films."
   ]
  },
  {
   "cell_type": "markdown",
   "metadata": {
    "id": "CF66UABTOLYs"
   },
   "source": [
    "### `runtime`"
   ]
  },
  {
   "cell_type": "code",
   "metadata": {
    "colab": {
     "base_uri": "https://localhost:8080/",
     "height": 335
    },
    "id": "9KPo_wYlNFmz",
    "outputId": "39235d12-f910-41e4-84b6-505ca1495657",
    "ExecuteTime": {
     "end_time": "2024-11-30T23:23:57.104924Z",
     "start_time": "2024-11-30T23:23:57.075370Z"
    }
   },
   "source": [
    "data.runtime.describe()"
   ],
   "outputs": [
    {
     "data": {
      "text/plain": [
       "count    847925.000000\n",
       "mean         48.082085\n",
       "std          59.384246\n",
       "min           0.000000\n",
       "25%           3.000000\n",
       "50%          30.000000\n",
       "75%          88.000000\n",
       "max       14400.000000\n",
       "Name: runtime, dtype: float64"
      ]
     },
     "execution_count": 38,
     "metadata": {},
     "output_type": "execute_result"
    }
   ],
   "execution_count": 38
  },
  {
   "cell_type": "code",
   "metadata": {
    "colab": {
     "base_uri": "https://localhost:8080/"
    },
    "id": "TztdJ09_OYh3",
    "outputId": "68a48dac-00b2-453e-c729-3148d17bbfa6",
    "ExecuteTime": {
     "end_time": "2024-11-30T23:23:57.199247Z",
     "start_time": "2024-11-30T23:23:57.189444Z"
    }
   },
   "source": [
    "data.runtime.info()"
   ],
   "outputs": [
    {
     "name": "stdout",
     "output_type": "stream",
     "text": [
      "<class 'pandas.core.series.Series'>\n",
      "Index: 847925 entries, 0 to 1140105\n",
      "Series name: runtime\n",
      "Non-Null Count   Dtype\n",
      "--------------   -----\n",
      "847925 non-null  int64\n",
      "dtypes: int64(1)\n",
      "memory usage: 12.9 MB\n"
     ]
    }
   ],
   "execution_count": 39
  },
  {
   "cell_type": "code",
   "metadata": {
    "colab": {
     "base_uri": "https://localhost:8080/"
    },
    "id": "crmfKTzNTreC",
    "outputId": "7c308519-dc16-47ca-974d-194f4c4a2ba5",
    "ExecuteTime": {
     "end_time": "2024-11-30T23:23:57.578523Z",
     "start_time": "2024-11-30T23:23:57.513144Z"
    }
   },
   "source": [
    "zero_runtime = data[data['runtime'] == 0]\n",
    "print(f\"There are {len(zero_runtime)} movies with zero runtime.\")"
   ],
   "outputs": [
    {
     "name": "stdout",
     "output_type": "stream",
     "text": [
      "There are 185996 movies with zero runtime.\n"
     ]
    }
   ],
   "execution_count": 40
  },
  {
   "cell_type": "markdown",
   "metadata": {
    "id": "5m-QUrX_UqLH"
   },
   "source": [
    "Many movies have their runtime listed as zero. These will be considered missing data."
   ]
  },
  {
   "cell_type": "code",
   "metadata": {
    "colab": {
     "base_uri": "https://localhost:8080/"
    },
    "id": "snYvGgdMVDG4",
    "outputId": "ad52bffb-932a-4464-a98c-1710ca108558",
    "ExecuteTime": {
     "end_time": "2024-11-30T23:23:57.758883Z",
     "start_time": "2024-11-30T23:23:57.746541Z"
    }
   },
   "source": "data.runtime = data.runtime.replace(0, np.nan)",
   "outputs": [],
   "execution_count": 41
  },
  {
   "cell_type": "code",
   "metadata": {
    "colab": {
     "base_uri": "https://localhost:8080/",
     "height": 447
    },
    "id": "TLF0qykrOdb6",
    "outputId": "81742735-1833-45c0-9a48-bb2df622dd93",
    "ExecuteTime": {
     "end_time": "2024-11-30T23:23:57.998323Z",
     "start_time": "2024-11-30T23:23:57.804517Z"
    }
   },
   "source": [
    "data.runtime.plot.hist(bins=100)"
   ],
   "outputs": [
    {
     "data": {
      "text/plain": [
       "<Axes: ylabel='Frequency'>"
      ]
     },
     "execution_count": 42,
     "metadata": {},
     "output_type": "execute_result"
    },
    {
     "data": {
      "text/plain": [
       "<Figure size 640x480 with 1 Axes>"
      ],
      "image/png": "[encoded data removed]"
     },
     "metadata": {},
     "output_type": "display_data"
    }
   ],
   "execution_count": 42
  },
  {
   "cell_type": "markdown",
   "metadata": {
    "id": "H_Yg5h2UX_Vp"
   },
   "source": [
    "There are a few strong outliers."
   ]
  },
  {
   "cell_type": "code",
   "metadata": {
    "colab": {
     "base_uri": "https://localhost:8080/",
     "height": 447
    },
    "id": "YpnN-MBxXF8S",
    "outputId": "a537ceb3-8158-482a-fe3c-1f2919f19d3b",
    "ExecuteTime": {
     "end_time": "2024-11-30T23:23:58.930314Z",
     "start_time": "2024-11-30T23:23:58.021703Z"
    }
   },
   "source": [
    "data.runtime.plot.hist(bins=1000, xlim=(0, 360))"
   ],
   "outputs": [
    {
     "data": {
      "text/plain": [
       "<Axes: ylabel='Frequency'>"
      ]
     },
     "execution_count": 43,
     "metadata": {},
     "output_type": "execute_result"
    },
    {
     "data": {
      "text/plain": [
       "<Figure size 640x480 with 1 Axes>"
      ],
      "image/png": "[encoded data removed]"
     },
     "metadata": {},
     "output_type": "display_data"
    }
   ],
   "execution_count": 43
  },
  {
   "cell_type": "markdown",
   "metadata": {
    "id": "aXLUq5QIZO8m"
   },
   "source": [
    "### `budget`"
   ]
  },
  {
   "cell_type": "code",
   "metadata": {
    "colab": {
     "base_uri": "https://localhost:8080/",
     "height": 335
    },
    "id": "A_yoXdtjZN0_",
    "outputId": "93fb6125-81e8-45cd-f201-f9f51283e1cf",
    "ExecuteTime": {
     "end_time": "2024-11-30T23:23:58.984830Z",
     "start_time": "2024-11-30T23:23:58.961847Z"
    }
   },
   "source": [
    "data.budget.describe()"
   ],
   "outputs": [
    {
     "data": {
      "text/plain": [
       "count    8.479250e+05\n",
       "mean     3.324472e+05\n",
       "std      5.222808e+06\n",
       "min      0.000000e+00\n",
       "25%      0.000000e+00\n",
       "50%      0.000000e+00\n",
       "75%      0.000000e+00\n",
       "max      8.880000e+08\n",
       "Name: budget, dtype: float64"
      ]
     },
     "execution_count": 44,
     "metadata": {},
     "output_type": "execute_result"
    }
   ],
   "execution_count": 44
  },
  {
   "cell_type": "code",
   "metadata": {
    "colab": {
     "base_uri": "https://localhost:8080/"
    },
    "id": "h-_4HUr_Zq2F",
    "outputId": "9bebf87e-4c30-4e92-c658-95a63f9ccffe",
    "ExecuteTime": {
     "end_time": "2024-11-30T23:23:59.045771Z",
     "start_time": "2024-11-30T23:23:59.035398Z"
    }
   },
   "source": [
    "data.budget.info()"
   ],
   "outputs": [
    {
     "name": "stdout",
     "output_type": "stream",
     "text": [
      "<class 'pandas.core.series.Series'>\n",
      "Index: 847925 entries, 0 to 1140105\n",
      "Series name: budget\n",
      "Non-Null Count   Dtype\n",
      "--------------   -----\n",
      "847925 non-null  int64\n",
      "dtypes: int64(1)\n",
      "memory usage: 12.9 MB\n"
     ]
    }
   ],
   "execution_count": 45
  },
  {
   "metadata": {
    "ExecuteTime": {
     "end_time": "2024-11-30T23:23:59.303144Z",
     "start_time": "2024-11-30T23:23:59.123297Z"
    }
   },
   "cell_type": "code",
   "source": "data.budget.plot()",
   "outputs": [
    {
     "data": {
      "text/plain": [
       "<Axes: >"
      ]
     },
     "execution_count": 46,
     "metadata": {},
     "output_type": "execute_result"
    },
    {
     "data": {
      "text/plain": [
       "<Figure size 640x480 with 1 Axes>"
      ],
      "image/png": "[encoded data removed]"
     },
     "metadata": {},
     "output_type": "display_data"
    }
   ],
   "execution_count": 46
  },
  {
   "metadata": {},
   "cell_type": "markdown",
   "source": "## `imdb_id`"
  },
  {
   "metadata": {
    "ExecuteTime": {
     "end_time": "2024-11-30T23:23:59.828691Z",
     "start_time": "2024-11-30T23:23:59.324619Z"
    }
   },
   "cell_type": "code",
   "source": "data.imdb_id.describe()",
   "outputs": [
    {
     "data": {
      "text/plain": [
       "count         526557\n",
       "unique        526234\n",
       "top       tt32094375\n",
       "freq              22\n",
       "Name: imdb_id, dtype: object"
      ]
     },
     "execution_count": 47,
     "metadata": {},
     "output_type": "execute_result"
    }
   ],
   "execution_count": 47
  },
  {
   "metadata": {},
   "cell_type": "markdown",
   "source": "There are some rows with duplicate IMDB IDs."
  },
  {
   "metadata": {
    "ExecuteTime": {
     "end_time": "2024-11-30T23:24:00.033546Z",
     "start_time": "2024-11-30T23:23:59.879487Z"
    }
   },
   "cell_type": "code",
   "source": "data[data.imdb_id.duplicated()]",
   "outputs": [
    {
     "data": {
      "text/plain": [
       "              id                                          title  vote_average  \\\n",
       "5531      836466                                         Return         6.291   \n",
       "7425     1040330              Black Adam: Saviour or Destroyer?         6.998   \n",
       "8870      665399  BTS World Tour: Love Yourself - Japan Edition         9.172   \n",
       "11155    1086372                                         Return         6.599   \n",
       "11301      15257                             Hulk vs. Wolverine         7.099   \n",
       "...          ...                                            ...           ...   \n",
       "1140100   734797      Yui Ogura 1st Live Tour High-Touch☆Summer           NaN   \n",
       "1140101   734799                                  Girls' School           NaN   \n",
       "1140103   734803                                          Lines           NaN   \n",
       "1140104   734804                                 Studio Moments           NaN   \n",
       "1140105   734806                          I Still Want to Drown           NaN   \n",
       "\n",
       "         vote_count release_date  revenue  runtime  adult  budget imdb_id  \\\n",
       "5531            619   2020-06-10        0     12.0  False       0     NaN   \n",
       "7425            404   2022-10-15        0     22.0  False       0     NaN   \n",
       "8870            306   2019-10-09        0    231.0  False       0     NaN   \n",
       "11155           217   1972-07-02        0     82.0  False       0     NaN   \n",
       "11301           213   2009-01-27        0     38.0  False       0     NaN   \n",
       "...             ...          ...      ...      ...    ...     ...     ...   \n",
       "1140100           0   2017-02-08        0    136.0  False       0     NaN   \n",
       "1140101           0   1982-01-01        0     91.0  False       0     NaN   \n",
       "1140103           0   2017-01-01        0     10.0  False       0     NaN   \n",
       "1140104           0   2020-01-01        0      8.0  False       0     NaN   \n",
       "1140105           0   2010-02-09        0      3.0  False       0     NaN   \n",
       "\n",
       "        original_language                                 original_title  \\\n",
       "5531                   en                                         Return   \n",
       "7425                   en              Black Adam: Saviour or Destroyer?   \n",
       "8870                   ko  BTS World Tour: Love Yourself - Japan Edition   \n",
       "11155                  hy                                         Return   \n",
       "11301                  en                             Hulk vs. Wolverine   \n",
       "...                   ...                                            ...   \n",
       "1140100                en      Yui Ogura 1st Live Tour High-Touch☆Summer   \n",
       "1140101                zh                                 Nu zi xue jiao   \n",
       "1140103                en                                          Lines   \n",
       "1140104                en                                 Studio Moments   \n",
       "1140105                en                          I Still Want to Drown   \n",
       "\n",
       "                                                  overview  popularity  \\\n",
       "5531     A single man has worked most of his life in a ...       7.915   \n",
       "7425     Ahead of the release of upcoming fantasy film ...      10.918   \n",
       "8870     BTS perform their Japan concert at Tokyo Dome ...       4.892   \n",
       "11155    The main character of the film is an outstandi...       4.835   \n",
       "11301    Department H sends in Wolverine to track down ...      14.562   \n",
       "...                                                    ...         ...   \n",
       "1140100  This is the first solo live tour for popular v...       0.600   \n",
       "1140101                       Also known as Girls' School.       0.840   \n",
       "1140103  Richard Garet’s moving image work is character...       0.600   \n",
       "1140104  A \"moving image\" work by Richard Garet with mu...       0.600   \n",
       "1140105  The piece is a short lament and meditation on ...       0.600   \n",
       "\n",
       "                         tagline  \\\n",
       "5531                         NaN   \n",
       "7425                         NaN   \n",
       "8870                         NaN   \n",
       "11155                        NaN   \n",
       "11301                        NaN   \n",
       "...                          ...   \n",
       "1140100  Yui Ogura 1st Live Tour   \n",
       "1140101                      NaN   \n",
       "1140103                      NaN   \n",
       "1140104                      NaN   \n",
       "1140105                      NaN   \n",
       "\n",
       "                                                    genres  \\\n",
       "5531                                             Animation   \n",
       "7425                                           Documentary   \n",
       "8870                                    Music, Documentary   \n",
       "11155                                                  NaN   \n",
       "11301    Animation, Action, Science Fiction, Adventure,...   \n",
       "...                                                    ...   \n",
       "1140100                                                NaN   \n",
       "1140101                                                NaN   \n",
       "1140103                                                NaN   \n",
       "1140104                                                NaN   \n",
       "1140105                                                NaN   \n",
       "\n",
       "                production_companies      production_countries  \\\n",
       "5531                             NaN                       NaN   \n",
       "7425                             NaN                       NaN   \n",
       "8870           Big Hit Entertainment               South Korea   \n",
       "11155                            NaN                       NaN   \n",
       "11301    Lionsgate, Marvel Animation  United States of America   \n",
       "...                              ...                       ...   \n",
       "1140100                          NaN                       NaN   \n",
       "1140101                          NaN                       NaN   \n",
       "1140103                          NaN                       NaN   \n",
       "1140104                          NaN                       NaN   \n",
       "1140105                          NaN                       NaN   \n",
       "\n",
       "        spoken_languages                                           keywords  \n",
       "5531                 NaN                                                NaN  \n",
       "7425             English                                  behind the scenes  \n",
       "8870              Korean              making of, concert film, choreography  \n",
       "11155                NaN                                                NaN  \n",
       "11301            English  superhero, mutant, based on comic, norse mytho...  \n",
       "...                  ...                                                ...  \n",
       "1140100         Japanese                                                NaN  \n",
       "1140101              NaN  teen movie, relationship, female sexuality, queer  \n",
       "1140103              NaN                                                NaN  \n",
       "1140104              NaN                                                NaN  \n",
       "1140105              NaN                                                NaN  \n",
       "\n",
       "[321690 rows x 20 columns]"
      ],
      "text/html": [
       "<div>\n",
       "<style scoped>\n",
       "    .dataframe tbody tr th:only-of-type {\n",
       "        vertical-align: middle;\n",
       "    }\n",
       "\n",
       "    .dataframe tbody tr th {\n",
       "        vertical-align: top;\n",
       "    }\n",
       "\n",
       "    .dataframe thead th {\n",
       "        text-align: right;\n",
       "    }\n",
       "</style>\n",
       "<table border=\"1\" class=\"dataframe\">\n",
       "  <thead>\n",
       "    <tr style=\"text-align: right;\">\n",
       "      <th></th>\n",
       "      <th>id</th>\n",
       "      <th>title</th>\n",
       "      <th>vote_average</th>\n",
       "      <th>vote_count</th>\n",
       "      <th>release_date</th>\n",
       "      <th>revenue</th>\n",
       "      <th>runtime</th>\n",
       "      <th>adult</th>\n",
       "      <th>budget</th>\n",
       "      <th>imdb_id</th>\n",
       "      <th>original_language</th>\n",
       "      <th>original_title</th>\n",
       "      <th>overview</th>\n",
       "      <th>popularity</th>\n",
       "      <th>tagline</th>\n",
       "      <th>genres</th>\n",
       "      <th>production_companies</th>\n",
       "      <th>production_countries</th>\n",
       "      <th>spoken_languages</th>\n",
       "      <th>keywords</th>\n",
       "    </tr>\n",
       "  </thead>\n",
       "  <tbody>\n",
       "    <tr>\n",
       "      <th>5531</th>\n",
       "      <td>836466</td>\n",
       "      <td>Return</td>\n",
       "      <td>6.291</td>\n",
       "      <td>619</td>\n",
       "      <td>2020-06-10</td>\n",
       "      <td>0</td>\n",
       "      <td>12.0</td>\n",
       "      <td>False</td>\n",
       "      <td>0</td>\n",
       "      <td>NaN</td>\n",
       "      <td>en</td>\n",
       "      <td>Return</td>\n",
       "      <td>A single man has worked most of his life in a ...</td>\n",
       "      <td>7.915</td>\n",
       "      <td>NaN</td>\n",
       "      <td>Animation</td>\n",
       "      <td>NaN</td>\n",
       "      <td>NaN</td>\n",
       "      <td>NaN</td>\n",
       "      <td>NaN</td>\n",
       "    </tr>\n",
       "    <tr>\n",
       "      <th>7425</th>\n",
       "      <td>1040330</td>\n",
       "      <td>Black Adam: Saviour or Destroyer?</td>\n",
       "      <td>6.998</td>\n",
       "      <td>404</td>\n",
       "      <td>2022-10-15</td>\n",
       "      <td>0</td>\n",
       "      <td>22.0</td>\n",
       "      <td>False</td>\n",
       "      <td>0</td>\n",
       "      <td>NaN</td>\n",
       "      <td>en</td>\n",
       "      <td>Black Adam: Saviour or Destroyer?</td>\n",
       "      <td>Ahead of the release of upcoming fantasy film ...</td>\n",
       "      <td>10.918</td>\n",
       "      <td>NaN</td>\n",
       "      <td>Documentary</td>\n",
       "      <td>NaN</td>\n",
       "      <td>NaN</td>\n",
       "      <td>English</td>\n",
       "      <td>behind the scenes</td>\n",
       "    </tr>\n",
       "    <tr>\n",
       "      <th>8870</th>\n",
       "      <td>665399</td>\n",
       "      <td>BTS World Tour: Love Yourself - Japan Edition</td>\n",
       "      <td>9.172</td>\n",
       "      <td>306</td>\n",
       "      <td>2019-10-09</td>\n",
       "      <td>0</td>\n",
       "      <td>231.0</td>\n",
       "      <td>False</td>\n",
       "      <td>0</td>\n",
       "      <td>NaN</td>\n",
       "      <td>ko</td>\n",
       "      <td>BTS World Tour: Love Yourself - Japan Edition</td>\n",
       "      <td>BTS perform their Japan concert at Tokyo Dome ...</td>\n",
       "      <td>4.892</td>\n",
       "      <td>NaN</td>\n",
       "      <td>Music, Documentary</td>\n",
       "      <td>Big Hit Entertainment</td>\n",
       "      <td>South Korea</td>\n",
       "      <td>Korean</td>\n",
       "      <td>making of, concert film, choreography</td>\n",
       "    </tr>\n",
       "    <tr>\n",
       "      <th>11155</th>\n",
       "      <td>1086372</td>\n",
       "      <td>Return</td>\n",
       "      <td>6.599</td>\n",
       "      <td>217</td>\n",
       "      <td>1972-07-02</td>\n",
       "      <td>0</td>\n",
       "      <td>82.0</td>\n",
       "      <td>False</td>\n",
       "      <td>0</td>\n",
       "      <td>NaN</td>\n",
       "      <td>hy</td>\n",
       "      <td>Return</td>\n",
       "      <td>The main character of the film is an outstandi...</td>\n",
       "      <td>4.835</td>\n",
       "      <td>NaN</td>\n",
       "      <td>NaN</td>\n",
       "      <td>NaN</td>\n",
       "      <td>NaN</td>\n",
       "      <td>NaN</td>\n",
       "      <td>NaN</td>\n",
       "    </tr>\n",
       "    <tr>\n",
       "      <th>11301</th>\n",
       "      <td>15257</td>\n",
       "      <td>Hulk vs. Wolverine</td>\n",
       "      <td>7.099</td>\n",
       "      <td>213</td>\n",
       "      <td>2009-01-27</td>\n",
       "      <td>0</td>\n",
       "      <td>38.0</td>\n",
       "      <td>False</td>\n",
       "      <td>0</td>\n",
       "      <td>NaN</td>\n",
       "      <td>en</td>\n",
       "      <td>Hulk vs. Wolverine</td>\n",
       "      <td>Department H sends in Wolverine to track down ...</td>\n",
       "      <td>14.562</td>\n",
       "      <td>NaN</td>\n",
       "      <td>Animation, Action, Science Fiction, Adventure,...</td>\n",
       "      <td>Lionsgate, Marvel Animation</td>\n",
       "      <td>United States of America</td>\n",
       "      <td>English</td>\n",
       "      <td>superhero, mutant, based on comic, norse mytho...</td>\n",
       "    </tr>\n",
       "    <tr>\n",
       "      <th>...</th>\n",
       "      <td>...</td>\n",
       "      <td>...</td>\n",
       "      <td>...</td>\n",
       "      <td>...</td>\n",
       "      <td>...</td>\n",
       "      <td>...</td>\n",
       "      <td>...</td>\n",
       "      <td>...</td>\n",
       "      <td>...</td>\n",
       "      <td>...</td>\n",
       "      <td>...</td>\n",
       "      <td>...</td>\n",
       "      <td>...</td>\n",
       "      <td>...</td>\n",
       "      <td>...</td>\n",
       "      <td>...</td>\n",
       "      <td>...</td>\n",
       "      <td>...</td>\n",
       "      <td>...</td>\n",
       "      <td>...</td>\n",
       "    </tr>\n",
       "    <tr>\n",
       "      <th>1140100</th>\n",
       "      <td>734797</td>\n",
       "      <td>Yui Ogura 1st Live Tour High-Touch☆Summer</td>\n",
       "      <td>NaN</td>\n",
       "      <td>0</td>\n",
       "      <td>2017-02-08</td>\n",
       "      <td>0</td>\n",
       "      <td>136.0</td>\n",
       "      <td>False</td>\n",
       "      <td>0</td>\n",
       "      <td>NaN</td>\n",
       "      <td>en</td>\n",
       "      <td>Yui Ogura 1st Live Tour High-Touch☆Summer</td>\n",
       "      <td>This is the first solo live tour for popular v...</td>\n",
       "      <td>0.600</td>\n",
       "      <td>Yui Ogura 1st Live Tour</td>\n",
       "      <td>NaN</td>\n",
       "      <td>NaN</td>\n",
       "      <td>NaN</td>\n",
       "      <td>Japanese</td>\n",
       "      <td>NaN</td>\n",
       "    </tr>\n",
       "    <tr>\n",
       "      <th>1140101</th>\n",
       "      <td>734799</td>\n",
       "      <td>Girls' School</td>\n",
       "      <td>NaN</td>\n",
       "      <td>0</td>\n",
       "      <td>1982-01-01</td>\n",
       "      <td>0</td>\n",
       "      <td>91.0</td>\n",
       "      <td>False</td>\n",
       "      <td>0</td>\n",
       "      <td>NaN</td>\n",
       "      <td>zh</td>\n",
       "      <td>Nu zi xue jiao</td>\n",
       "      <td>Also known as Girls' School.</td>\n",
       "      <td>0.840</td>\n",
       "      <td>NaN</td>\n",
       "      <td>NaN</td>\n",
       "      <td>NaN</td>\n",
       "      <td>NaN</td>\n",
       "      <td>NaN</td>\n",
       "      <td>teen movie, relationship, female sexuality, queer</td>\n",
       "    </tr>\n",
       "    <tr>\n",
       "      <th>1140103</th>\n",
       "      <td>734803</td>\n",
       "      <td>Lines</td>\n",
       "      <td>NaN</td>\n",
       "      <td>0</td>\n",
       "      <td>2017-01-01</td>\n",
       "      <td>0</td>\n",
       "      <td>10.0</td>\n",
       "      <td>False</td>\n",
       "      <td>0</td>\n",
       "      <td>NaN</td>\n",
       "      <td>en</td>\n",
       "      <td>Lines</td>\n",
       "      <td>Richard Garet’s moving image work is character...</td>\n",
       "      <td>0.600</td>\n",
       "      <td>NaN</td>\n",
       "      <td>NaN</td>\n",
       "      <td>NaN</td>\n",
       "      <td>NaN</td>\n",
       "      <td>NaN</td>\n",
       "      <td>NaN</td>\n",
       "    </tr>\n",
       "    <tr>\n",
       "      <th>1140104</th>\n",
       "      <td>734804</td>\n",
       "      <td>Studio Moments</td>\n",
       "      <td>NaN</td>\n",
       "      <td>0</td>\n",
       "      <td>2020-01-01</td>\n",
       "      <td>0</td>\n",
       "      <td>8.0</td>\n",
       "      <td>False</td>\n",
       "      <td>0</td>\n",
       "      <td>NaN</td>\n",
       "      <td>en</td>\n",
       "      <td>Studio Moments</td>\n",
       "      <td>A \"moving image\" work by Richard Garet with mu...</td>\n",
       "      <td>0.600</td>\n",
       "      <td>NaN</td>\n",
       "      <td>NaN</td>\n",
       "      <td>NaN</td>\n",
       "      <td>NaN</td>\n",
       "      <td>NaN</td>\n",
       "      <td>NaN</td>\n",
       "    </tr>\n",
       "    <tr>\n",
       "      <th>1140105</th>\n",
       "      <td>734806</td>\n",
       "      <td>I Still Want to Drown</td>\n",
       "      <td>NaN</td>\n",
       "      <td>0</td>\n",
       "      <td>2010-02-09</td>\n",
       "      <td>0</td>\n",
       "      <td>3.0</td>\n",
       "      <td>False</td>\n",
       "      <td>0</td>\n",
       "      <td>NaN</td>\n",
       "      <td>en</td>\n",
       "      <td>I Still Want to Drown</td>\n",
       "      <td>The piece is a short lament and meditation on ...</td>\n",
       "      <td>0.600</td>\n",
       "      <td>NaN</td>\n",
       "      <td>NaN</td>\n",
       "      <td>NaN</td>\n",
       "      <td>NaN</td>\n",
       "      <td>NaN</td>\n",
       "      <td>NaN</td>\n",
       "    </tr>\n",
       "  </tbody>\n",
       "</table>\n",
       "<p>321690 rows × 20 columns</p>\n",
       "</div>"
      ]
     },
     "execution_count": 48,
     "metadata": {},
     "output_type": "execute_result"
    }
   ],
   "execution_count": 48
  },
  {
   "metadata": {},
   "cell_type": "markdown",
   "source": "These are all rows with missing IMDB IDs. They will be dropped."
  },
  {
   "metadata": {
    "ExecuteTime": {
     "end_time": "2024-11-30T23:24:00.276432Z",
     "start_time": "2024-11-30T23:24:00.063153Z"
    }
   },
   "cell_type": "code",
   "source": "data = data.drop_duplicates(subset=['imdb_id'])",
   "outputs": [],
   "execution_count": 49
  },
  {
   "metadata": {
    "ExecuteTime": {
     "end_time": "2024-11-30T23:24:00.811945Z",
     "start_time": "2024-11-30T23:24:00.329552Z"
    }
   },
   "cell_type": "code",
   "source": "data.imdb_id.describe()",
   "outputs": [
    {
     "data": {
      "text/plain": [
       "count        526234\n",
       "unique       526234\n",
       "top       tt3281206\n",
       "freq              1\n",
       "Name: imdb_id, dtype: object"
      ]
     },
     "execution_count": 50,
     "metadata": {},
     "output_type": "execute_result"
    }
   ],
   "execution_count": 50
  },
  {
   "metadata": {
    "ExecuteTime": {
     "end_time": "2024-11-30T23:24:00.889655Z",
     "start_time": "2024-11-30T23:24:00.846430Z"
    }
   },
   "cell_type": "code",
   "source": "data.imdb_id.info()",
   "outputs": [
    {
     "name": "stdout",
     "output_type": "stream",
     "text": [
      "<class 'pandas.core.series.Series'>\n",
      "Index: 526235 entries, 0 to 1140091\n",
      "Series name: imdb_id\n",
      "Non-Null Count   Dtype \n",
      "--------------   ----- \n",
      "526234 non-null  object\n",
      "dtypes: object(1)\n",
      "memory usage: 8.0+ MB\n"
     ]
    }
   ],
   "execution_count": 51
  },
  {
   "metadata": {},
   "cell_type": "markdown",
   "source": "## `original_language`"
  },
  {
   "metadata": {
    "ExecuteTime": {
     "end_time": "2024-11-30T23:24:01.034373Z",
     "start_time": "2024-11-30T23:24:00.984783Z"
    }
   },
   "cell_type": "code",
   "source": "data.original_language.describe()",
   "outputs": [
    {
     "data": {
      "text/plain": [
       "count     526235\n",
       "unique       162\n",
       "top           en\n",
       "freq      268511\n",
       "Name: original_language, dtype: object"
      ]
     },
     "execution_count": 52,
     "metadata": {},
     "output_type": "execute_result"
    }
   ],
   "execution_count": 52
  },
  {
   "metadata": {
    "ExecuteTime": {
     "end_time": "2024-11-30T23:24:01.134689Z",
     "start_time": "2024-11-30T23:24:01.109260Z"
    }
   },
   "cell_type": "code",
   "source": "data.original_language.info()",
   "outputs": [
    {
     "name": "stdout",
     "output_type": "stream",
     "text": [
      "<class 'pandas.core.series.Series'>\n",
      "Index: 526235 entries, 0 to 1140091\n",
      "Series name: original_language\n",
      "Non-Null Count   Dtype \n",
      "--------------   ----- \n",
      "526235 non-null  object\n",
      "dtypes: object(1)\n",
      "memory usage: 8.0+ MB\n"
     ]
    }
   ],
   "execution_count": 53
  },
  {
   "metadata": {
    "ExecuteTime": {
     "end_time": "2024-11-30T23:24:01.817646Z",
     "start_time": "2024-11-30T23:24:01.242428Z"
    }
   },
   "cell_type": "code",
   "source": "data.original_language.value_counts().plot.pie()",
   "outputs": [
    {
     "data": {
      "text/plain": [
       "<Axes: ylabel='count'>"
      ]
     },
     "execution_count": 54,
     "metadata": {},
     "output_type": "execute_result"
    },
    {
     "data": {
      "text/plain": [
       "<Figure size 640x480 with 1 Axes>"
      ],
      "image/png": "[encoded data removed]"
     },
     "metadata": {},
     "output_type": "display_data"
    }
   ],
   "execution_count": 54
  },
  {
   "metadata": {},
   "cell_type": "markdown",
   "source": "## `original_title`"
  },
  {
   "metadata": {
    "ExecuteTime": {
     "end_time": "2024-11-30T23:24:02.317967Z",
     "start_time": "2024-11-30T23:24:01.845698Z"
    }
   },
   "cell_type": "code",
   "source": "data.original_title.describe()",
   "outputs": [
    {
     "data": {
      "text/plain": [
       "count     526235\n",
       "unique    474130\n",
       "top         Home\n",
       "freq          50\n",
       "Name: original_title, dtype: object"
      ]
     },
     "execution_count": 55,
     "metadata": {},
     "output_type": "execute_result"
    }
   ],
   "execution_count": 55
  },
  {
   "metadata": {
    "ExecuteTime": {
     "end_time": "2024-11-30T23:24:02.364035Z",
     "start_time": "2024-11-30T23:24:02.347952Z"
    }
   },
   "cell_type": "code",
   "source": "data.original_title.sample(5)",
   "outputs": [
    {
     "data": {
      "text/plain": [
       "503017             Du goût et des couleurs\n",
       "192819                     Las tres Elenas\n",
       "829833                      Le Cri du cœur\n",
       "49658                           The Intent\n",
       "12297     The Bugs Bunny/Road Runner Movie\n",
       "Name: original_title, dtype: object"
      ]
     },
     "execution_count": 56,
     "metadata": {},
     "output_type": "execute_result"
    }
   ],
   "execution_count": 56
  },
  {
   "metadata": {
    "ExecuteTime": {
     "end_time": "2024-11-30T23:24:02.489194Z",
     "start_time": "2024-11-30T23:24:02.429733Z"
    }
   },
   "cell_type": "code",
   "source": "data.original_title.info()",
   "outputs": [
    {
     "name": "stdout",
     "output_type": "stream",
     "text": [
      "<class 'pandas.core.series.Series'>\n",
      "Index: 526235 entries, 0 to 1140091\n",
      "Series name: original_title\n",
      "Non-Null Count   Dtype \n",
      "--------------   ----- \n",
      "526235 non-null  object\n",
      "dtypes: object(1)\n",
      "memory usage: 8.0+ MB\n"
     ]
    }
   ],
   "execution_count": 57
  },
  {
   "metadata": {},
   "cell_type": "markdown",
   "source": "## `overview`"
  },
  {
   "metadata": {
    "ExecuteTime": {
     "end_time": "2024-11-30T23:24:03.167483Z",
     "start_time": "2024-11-30T23:24:02.588527Z"
    }
   },
   "cell_type": "code",
   "source": "data.overview.describe()",
   "outputs": [
    {
     "data": {
      "text/plain": [
       "count                   462150\n",
       "unique                  456120\n",
       "top       Mexican feature film\n",
       "freq                       897\n",
       "Name: overview, dtype: object"
      ]
     },
     "execution_count": 58,
     "metadata": {},
     "output_type": "execute_result"
    }
   ],
   "execution_count": 58
  },
  {
   "metadata": {
    "ExecuteTime": {
     "end_time": "2024-11-30T23:24:03.216558Z",
     "start_time": "2024-11-30T23:24:03.195338Z"
    }
   },
   "cell_type": "code",
   "source": "data.overview.sample(5)",
   "outputs": [
    {
     "data": {
      "text/plain": [
       "1088038    Day after day, Mr. Jonas and Mr. Schmidt make ...\n",
       "1096216    Unfinished and lost film directed by Rustam Kh...\n",
       "6162       When the crew of an American tugboat boards an...\n",
       "197872     A man and a woman surrounded by the overwhelmi...\n",
       "143645     Billy is a bit of a masher. He meets a lady on...\n",
       "Name: overview, dtype: object"
      ]
     },
     "execution_count": 59,
     "metadata": {},
     "output_type": "execute_result"
    }
   ],
   "execution_count": 59
  },
  {
   "metadata": {
    "ExecuteTime": {
     "end_time": "2024-11-30T23:24:03.416389Z",
     "start_time": "2024-11-30T23:24:03.322114Z"
    }
   },
   "cell_type": "code",
   "source": "data.overview.info()",
   "outputs": [
    {
     "name": "stdout",
     "output_type": "stream",
     "text": [
      "<class 'pandas.core.series.Series'>\n",
      "Index: 526235 entries, 0 to 1140091\n",
      "Series name: overview\n",
      "Non-Null Count   Dtype \n",
      "--------------   ----- \n",
      "462150 non-null  object\n",
      "dtypes: object(1)\n",
      "memory usage: 8.0+ MB\n"
     ]
    }
   ],
   "execution_count": 60
  },
  {
   "metadata": {},
   "cell_type": "markdown",
   "source": "## `popularity`"
  },
  {
   "metadata": {
    "ExecuteTime": {
     "end_time": "2024-11-30T23:24:03.503759Z",
     "start_time": "2024-11-30T23:24:03.480592Z"
    }
   },
   "cell_type": "code",
   "source": "data.popularity.describe()",
   "outputs": [
    {
     "data": {
      "text/plain": [
       "count    526235.000000\n",
       "mean          1.935587\n",
       "std          10.313868\n",
       "min           0.000000\n",
       "25%           0.600000\n",
       "50%           0.710000\n",
       "75%           1.400000\n",
       "max        2994.357000\n",
       "Name: popularity, dtype: float64"
      ]
     },
     "execution_count": 61,
     "metadata": {},
     "output_type": "execute_result"
    }
   ],
   "execution_count": 61
  },
  {
   "metadata": {
    "ExecuteTime": {
     "end_time": "2024-11-30T23:24:03.612253Z",
     "start_time": "2024-11-30T23:24:03.602401Z"
    }
   },
   "cell_type": "code",
   "source": "data.popularity.info()",
   "outputs": [
    {
     "name": "stdout",
     "output_type": "stream",
     "text": [
      "<class 'pandas.core.series.Series'>\n",
      "Index: 526235 entries, 0 to 1140091\n",
      "Series name: popularity\n",
      "Non-Null Count   Dtype  \n",
      "--------------   -----  \n",
      "526235 non-null  float64\n",
      "dtypes: float64(1)\n",
      "memory usage: 8.0 MB\n"
     ]
    }
   ],
   "execution_count": 62
  },
  {
   "metadata": {
    "ExecuteTime": {
     "end_time": "2024-11-30T23:24:03.902350Z",
     "start_time": "2024-11-30T23:24:03.741930Z"
    }
   },
   "cell_type": "code",
   "source": "data.popularity.plot()",
   "outputs": [
    {
     "data": {
      "text/plain": [
       "<Axes: >"
      ]
     },
     "execution_count": 63,
     "metadata": {},
     "output_type": "execute_result"
    },
    {
     "data": {
      "text/plain": [
       "<Figure size 640x480 with 1 Axes>"
      ],
      "image/png": "[encoded data removed]"
     },
     "metadata": {},
     "output_type": "display_data"
    }
   ],
   "execution_count": 63
  },
  {
   "metadata": {},
   "cell_type": "markdown",
   "source": "## `tagline`"
  },
  {
   "metadata": {
    "ExecuteTime": {
     "end_time": "2024-11-30T23:24:04.031623Z",
     "start_time": "2024-11-30T23:24:03.942854Z"
    }
   },
   "cell_type": "code",
   "source": "data.tagline.describe()",
   "outputs": [
    {
     "data": {
      "text/plain": [
       "count                     94967\n",
       "unique                    93540\n",
       "top       Based on a true story\n",
       "freq                         24\n",
       "Name: tagline, dtype: object"
      ]
     },
     "execution_count": 64,
     "metadata": {},
     "output_type": "execute_result"
    }
   ],
   "execution_count": 64
  },
  {
   "metadata": {
    "ExecuteTime": {
     "end_time": "2024-11-30T23:24:04.096906Z",
     "start_time": "2024-11-30T23:24:04.081017Z"
    }
   },
   "cell_type": "code",
   "source": "data.tagline.sample(5)",
   "outputs": [
    {
     "data": {
      "text/plain": [
       "827616                               New York Murder Case\n",
       "24827              So Many Mr. Wrongs. So Few Mr. Rights.\n",
       "243517                                                NaN\n",
       "7508      Passion at ten. Envy at eleven. Murder at noon.\n",
       "871171                                    Getting Tighter\n",
       "Name: tagline, dtype: object"
      ]
     },
     "execution_count": 65,
     "metadata": {},
     "output_type": "execute_result"
    }
   ],
   "execution_count": 65
  },
  {
   "metadata": {
    "ExecuteTime": {
     "end_time": "2024-11-30T23:24:04.193974Z",
     "start_time": "2024-11-30T23:24:04.162960Z"
    }
   },
   "cell_type": "code",
   "source": "data.tagline.info()",
   "outputs": [
    {
     "name": "stdout",
     "output_type": "stream",
     "text": [
      "<class 'pandas.core.series.Series'>\n",
      "Index: 526235 entries, 0 to 1140091\n",
      "Series name: tagline\n",
      "Non-Null Count  Dtype \n",
      "--------------  ----- \n",
      "94967 non-null  object\n",
      "dtypes: object(1)\n",
      "memory usage: 8.0+ MB\n"
     ]
    }
   ],
   "execution_count": 66
  },
  {
   "metadata": {},
   "cell_type": "markdown",
   "source": "## `genres`"
  },
  {
   "metadata": {
    "ExecuteTime": {
     "end_time": "2024-11-30T23:24:04.355594Z",
     "start_time": "2024-11-30T23:24:04.299293Z"
    }
   },
   "cell_type": "code",
   "source": "data.genres.describe()",
   "outputs": [
    {
     "data": {
      "text/plain": [
       "count     429689\n",
       "unique     10916\n",
       "top        Drama\n",
       "freq       74730\n",
       "Name: genres, dtype: object"
      ]
     },
     "execution_count": 67,
     "metadata": {},
     "output_type": "execute_result"
    }
   ],
   "execution_count": 67
  },
  {
   "metadata": {},
   "cell_type": "markdown",
   "source": "The genres in the `genre` column are all in one string. They need to be split up to be own their own."
  },
  {
   "metadata": {
    "ExecuteTime": {
     "end_time": "2024-11-30T23:24:05.110278Z",
     "start_time": "2024-11-30T23:24:04.462060Z"
    }
   },
   "cell_type": "code",
   "source": "data.genres = data.genres.apply(lambda genres: [genre.strip() for genre in genres.split(',')] if isinstance(genres, str) else genres)",
   "outputs": [],
   "execution_count": 68
  },
  {
   "metadata": {},
   "cell_type": "markdown",
   "source": "Now the genres are lists."
  },
  {
   "metadata": {
    "ExecuteTime": {
     "end_time": "2024-11-30T23:24:17.070768Z",
     "start_time": "2024-11-30T23:24:05.140677Z"
    }
   },
   "cell_type": "code",
   "source": "data.genres.describe()",
   "outputs": [
    {
     "data": {
      "text/plain": [
       "count      429689\n",
       "unique      10916\n",
       "top       [Drama]\n",
       "freq        74730\n",
       "Name: genres, dtype: object"
      ]
     },
     "execution_count": 69,
     "metadata": {},
     "output_type": "execute_result"
    }
   ],
   "execution_count": 69
  },
  {
   "metadata": {
    "ExecuteTime": {
     "end_time": "2024-11-30T23:24:17.140730Z",
     "start_time": "2024-11-30T23:24:17.098968Z"
    }
   },
   "cell_type": "code",
   "source": "data.genres.info()",
   "outputs": [
    {
     "name": "stdout",
     "output_type": "stream",
     "text": [
      "<class 'pandas.core.series.Series'>\n",
      "Index: 526235 entries, 0 to 1140091\n",
      "Series name: genres\n",
      "Non-Null Count   Dtype \n",
      "--------------   ----- \n",
      "429689 non-null  object\n",
      "dtypes: object(1)\n",
      "memory usage: 8.0+ MB\n"
     ]
    }
   ],
   "execution_count": 70
  },
  {
   "metadata": {
    "ExecuteTime": {
     "end_time": "2024-11-30T23:24:17.264999Z",
     "start_time": "2024-11-30T23:24:17.182720Z"
    }
   },
   "cell_type": "code",
   "source": [
    "genre_list = data.genres.explode()\n",
    "genre_list.unique()"
   ],
   "outputs": [
    {
     "data": {
      "text/plain": [
       "array(['Action', 'Science Fiction', 'Adventure', 'Drama', 'Crime',\n",
       "       'Thriller', 'Fantasy', 'Comedy', 'Romance', 'Western', 'Mystery',\n",
       "       'War', 'Animation', 'Family', 'Horror', 'Music', 'History',\n",
       "       'TV Movie', 'Documentary', nan], dtype=object)"
      ]
     },
     "execution_count": 71,
     "metadata": {},
     "output_type": "execute_result"
    }
   ],
   "execution_count": 71
  },
  {
   "metadata": {
    "ExecuteTime": {
     "end_time": "2024-11-30T23:24:17.452538Z",
     "start_time": "2024-11-30T23:24:17.309345Z"
    }
   },
   "cell_type": "code",
   "source": "genre_list.value_counts().plot.pie()",
   "outputs": [
    {
     "data": {
      "text/plain": [
       "<Axes: ylabel='count'>"
      ]
     },
     "execution_count": 72,
     "metadata": {},
     "output_type": "execute_result"
    },
    {
     "data": {
      "text/plain": [
       "<Figure size 640x480 with 1 Axes>"
      ],
      "image/png": "[encoded data removed]"
     },
     "metadata": {},
     "output_type": "display_data"
    }
   ],
   "execution_count": 72
  },
  {
   "metadata": {},
   "cell_type": "markdown",
   "source": "## `production_companies`"
  },
  {
   "metadata": {
    "ExecuteTime": {
     "end_time": "2024-11-30T23:24:17.628733Z",
     "start_time": "2024-11-30T23:24:17.459314Z"
    }
   },
   "cell_type": "code",
   "source": "data.production_companies.describe()",
   "outputs": [
    {
     "data": {
      "text/plain": [
       "count                  303689\n",
       "unique                 151053\n",
       "top       Metro-Goldwyn-Mayer\n",
       "freq                     2025\n",
       "Name: production_companies, dtype: object"
      ]
     },
     "execution_count": 73,
     "metadata": {},
     "output_type": "execute_result"
    }
   ],
   "execution_count": 73
  },
  {
   "metadata": {
    "ExecuteTime": {
     "end_time": "2024-11-30T23:24:17.701539Z",
     "start_time": "2024-11-30T23:24:17.682022Z"
    }
   },
   "cell_type": "code",
   "source": "data.production_companies.sample(5)",
   "outputs": [
    {
     "data": {
      "text/plain": [
       "142191                                                  NaN\n",
       "760611                                            AVP Films\n",
       "782878                                  Vertigoheights Film\n",
       "14878     UK Film Council, EM Media, Screen Yorkshire, F...\n",
       "75020     Young America Productions Inc., Centron Corpor...\n",
       "Name: production_companies, dtype: object"
      ]
     },
     "execution_count": 74,
     "metadata": {},
     "output_type": "execute_result"
    }
   ],
   "execution_count": 74
  },
  {
   "metadata": {},
   "cell_type": "markdown",
   "source": "The production companies in the `production_companies` column are all in one string. They need to be split up to be own their own."
  },
  {
   "metadata": {
    "ExecuteTime": {
     "end_time": "2024-11-30T23:24:18.273437Z",
     "start_time": "2024-11-30T23:24:17.770489Z"
    }
   },
   "cell_type": "code",
   "source": "data.production_companies = data.production_companies.apply(lambda companies: [company.strip() for company in companies.split(',')] if isinstance(companies, str) else companies)\n",
   "outputs": [],
   "execution_count": 75
  },
  {
   "metadata": {},
   "cell_type": "markdown",
   "source": "Now the companies are in lists."
  },
  {
   "metadata": {
    "ExecuteTime": {
     "end_time": "2024-11-30T23:24:18.315872Z",
     "start_time": "2024-11-30T23:24:18.277022Z"
    }
   },
   "cell_type": "code",
   "source": "data.production_companies.info()",
   "outputs": [
    {
     "name": "stdout",
     "output_type": "stream",
     "text": [
      "<class 'pandas.core.series.Series'>\n",
      "Index: 526235 entries, 0 to 1140091\n",
      "Series name: production_companies\n",
      "Non-Null Count   Dtype \n",
      "--------------   ----- \n",
      "303689 non-null  object\n",
      "dtypes: object(1)\n",
      "memory usage: 8.0+ MB\n"
     ]
    }
   ],
   "execution_count": 76
  },
  {
   "metadata": {
    "ExecuteTime": {
     "end_time": "2024-11-30T23:24:18.544909Z",
     "start_time": "2024-11-30T23:24:18.407878Z"
    }
   },
   "cell_type": "code",
   "source": [
    "companies = data.production_companies.explode()\n",
    "companies.unique()"
   ],
   "outputs": [
    {
     "data": {
      "text/plain": [
       "array(['Legendary Pictures', 'Syncopy', 'Warner Bros. Pictures', ...,\n",
       "       'Encounter Studios', 'Sky Blue Productions',\n",
       "       \"Les Vues de l'Esprit\"], dtype=object)"
      ]
     },
     "execution_count": 77,
     "metadata": {},
     "output_type": "execute_result"
    }
   ],
   "execution_count": 77
  },
  {
   "metadata": {
    "ExecuteTime": {
     "end_time": "2024-11-30T23:29:38.705004Z",
     "start_time": "2024-11-30T23:29:38.631683Z"
    }
   },
   "cell_type": "code",
   "source": "len(companies.unique())",
   "outputs": [
    {
     "data": {
      "text/plain": [
       "120136"
      ]
     },
     "execution_count": 97,
     "metadata": {},
     "output_type": "execute_result"
    }
   ],
   "execution_count": 97
  },
  {
   "metadata": {},
   "cell_type": "markdown",
   "source": "## `production_countries`"
  },
  {
   "metadata": {
    "ExecuteTime": {
     "end_time": "2024-11-30T23:27:46.509872Z",
     "start_time": "2024-11-30T23:27:46.457056Z"
    }
   },
   "cell_type": "code",
   "source": "data.production_countries.describe()",
   "outputs": [
    {
     "data": {
      "text/plain": [
       "count                       386674\n",
       "unique                        8753\n",
       "top       United States of America\n",
       "freq                        107558\n",
       "Name: production_countries, dtype: object"
      ]
     },
     "execution_count": 79,
     "metadata": {},
     "output_type": "execute_result"
    }
   ],
   "execution_count": 79
  },
  {
   "metadata": {
    "ExecuteTime": {
     "end_time": "2024-11-30T23:30:14.458728Z",
     "start_time": "2024-11-30T23:30:14.442464Z"
    }
   },
   "cell_type": "code",
   "source": "data.production_countries.sample(5)",
   "outputs": [
    {
     "data": {
      "text/plain": [
       "200312               Poland, Italy\n",
       "55589     United States of America\n",
       "352129              Albania, Spain\n",
       "447314    United States of America\n",
       "851006                         NaN\n",
       "Name: production_countries, dtype: object"
      ]
     },
     "execution_count": 100,
     "metadata": {},
     "output_type": "execute_result"
    }
   ],
   "execution_count": 100
  },
  {
   "metadata": {},
   "cell_type": "markdown",
   "source": "The countries in the `production_countries` column are all in one string. They need to be split up on their own."
  },
  {
   "metadata": {
    "ExecuteTime": {
     "end_time": "2024-11-30T23:32:51.103467Z",
     "start_time": "2024-11-30T23:32:46.750397Z"
    }
   },
   "cell_type": "code",
   "source": "data.production_countries = data.production_countries.apply(lambda countries: [country.strip() for country in countries.split(',')] if isinstance(countries, str) else countries)",
   "outputs": [],
   "execution_count": 101
  },
  {
   "metadata": {},
   "cell_type": "markdown",
   "source": "Now the countries are in lists."
  },
  {
   "metadata": {
    "ExecuteTime": {
     "end_time": "2024-11-30T23:30:11.264355Z",
     "start_time": "2024-11-30T23:30:11.236640Z"
    }
   },
   "cell_type": "code",
   "source": "data.production_countries.info()",
   "outputs": [
    {
     "name": "stdout",
     "output_type": "stream",
     "text": [
      "<class 'pandas.core.series.Series'>\n",
      "Index: 526235 entries, 0 to 1140091\n",
      "Series name: production_countries\n",
      "Non-Null Count   Dtype \n",
      "--------------   ----- \n",
      "386674 non-null  object\n",
      "dtypes: object(1)\n",
      "memory usage: 8.0+ MB\n"
     ]
    }
   ],
   "execution_count": 99
  },
  {
   "metadata": {
    "ExecuteTime": {
     "end_time": "2024-11-30T23:46:50.514938Z",
     "start_time": "2024-11-30T23:46:50.443373Z"
    }
   },
   "cell_type": "code",
   "source": [
    "countries = data.production_countries.explode()\n",
    "countries.unique()"
   ],
   "outputs": [
    {
     "data": {
      "text/plain": [
       "array(['United Kingdom', 'United States of America', 'Canada',\n",
       "       'New Zealand', 'Australia', 'South Africa', 'France', 'Germany',\n",
       "       'Hong Kong', 'Taiwan', 'India', 'South Korea', 'Netherlands',\n",
       "       'Japan', 'China', 'Malta', 'Bulgaria', 'Hungary', 'Mexico',\n",
       "       'Spain', 'Italy', 'Brazil', 'Czech Republic',\n",
       "       'United Arab Emirates', 'Switzerland', 'Belgium', 'Ireland',\n",
       "       'Poland', 'Denmark', 'Russia', 'Norway', 'Sweden', 'Slovenia',\n",
       "       'Romania', 'Greece', nan, 'Colombia', 'Iceland', 'Turkey',\n",
       "       'Philippines', 'Luxembourg', 'Austria', 'Morocco', 'Finland',\n",
       "       'Israel', 'Portugal', 'Indonesia', 'Thailand', 'Argentina',\n",
       "       'Chile', 'Serbia', 'Solomon Islands', 'Dominican Republic',\n",
       "       'Guadaloupe', 'Peru', 'Soviet Union', 'Slovakia', 'Puerto Rico',\n",
       "       'Uruguay', 'Paraguay', 'Ghana', 'Iran', 'Cyprus', 'Lebanon',\n",
       "       'Qatar', 'Malawi', 'Singapore', 'Malaysia', 'Botswana',\n",
       "       'Venezuela', 'Czechoslovakia', 'Iraq', 'Yugoslavia', 'Macao',\n",
       "       'Algeria', 'Lithuania', 'Cambodia', 'Jordan', 'Vietnam',\n",
       "       'Kazakhstan', 'Egypt', 'Ethiopia', 'Namibia', 'Saudi Arabia',\n",
       "       'Ukraine', 'Ecuador', 'Kenya', 'Estonia', 'Georgia', 'Croatia',\n",
       "       'Bosnia and Herzegovina', 'Montenegro', 'Liechtenstein',\n",
       "       'Faeroe Islands', 'Panama', 'Belarus', 'Myanmar', 'Bahamas',\n",
       "       'Kuwait', 'Libyan Arab Jamahiriya', 'Bolivia', 'Aruba',\n",
       "       'Guatemala', 'Albania', 'Cuba', 'Monaco', 'East Germany',\n",
       "       'Tunisia', 'Nigeria', 'Jamaica', 'Macedonia',\n",
       "       'Syrian Arab Republic', 'Palestinian Territory', 'Senegal',\n",
       "       'Congo', 'Angola', 'Netherlands Antilles', 'Zimbabwe',\n",
       "       'Serbia and Montenegro', 'Rwanda', 'Bhutan', 'Cameroon', 'Latvia',\n",
       "       'Uganda', 'Mauritius', \"Cote D'Ivoire\", 'Burkina Faso', 'Zambia',\n",
       "       'Afghanistan', 'Mongolia', 'French Polynesia', 'Vanuatu',\n",
       "       'Cayman Islands', 'New Caledonia', 'Tanzania', 'Pakistan', 'Nepal',\n",
       "       'Sri Lanka', 'Azerbaijan', 'Nicaragua', 'Honduras', 'Costa Rica',\n",
       "       'Mali', 'Liberia', 'Armenia', \"Lao People's Democratic Republic\",\n",
       "       'St. Pierre and Miquelon', 'Mozambique', 'Haiti', 'North Korea',\n",
       "       'Uzbekistan', 'Bangladesh', 'Northern Ireland', 'El Salvador',\n",
       "       'Kosovo', 'Antarctica', 'Guinea', 'Timor-Leste', 'Barbados',\n",
       "       'Sudan', 'Tajikistan', 'Greenland', 'Swaziland',\n",
       "       'Turks and Caicos Islands', 'Chad', 'Martinique', 'Lesotho',\n",
       "       'Yemen', 'Andorra', 'Moldova', 'Mauritania', 'Palau', 'Madagascar',\n",
       "       'Belize', 'St. Kitts and Nevis', 'South Sudan', 'Oman', 'Djibouti',\n",
       "       'Somalia', 'Trinidad and Tobago', 'Niger', 'Holy See', 'Fiji',\n",
       "       'British Indian Ocean Territory', 'Kyrgyz Republic', 'Samoa',\n",
       "       'Benin', 'Kiribati', 'Suriname', 'Zaire', 'Anguilla',\n",
       "       'Central African Republic', 'Gibraltar', 'Papua New Guinea',\n",
       "       'Cape Verde', 'Equatorial Guinea', 'Togo', 'Antigua and Barbuda',\n",
       "       'Christmas Island', 'Bermuda', 'Gabon', 'Guinea-Bissau', 'Bahrain',\n",
       "       'Turkmenistan', 'Tuvalu', 'Brunei Darussalam',\n",
       "       'Svalbard & Jan Mayen Islands', 'Guyana', 'Falkland Islands',\n",
       "       'San Marino', 'Eritrea', 'Gambia', 'Sierra Leone',\n",
       "       'United States Minor Outlying Islands', 'St. Helena',\n",
       "       'French Guiana', 'Burundi', 'St. Lucia', 'Cook Islands',\n",
       "       'Western Sahara', 'Dominica', 'Grenada', 'Marshall Islands',\n",
       "       'Nauru', 'Tonga', 'Reunion', 'Comoros', 'American Samoa',\n",
       "       'Cocos  Islands', 'Seychelles', 'Norfolk Island', 'Maldives',\n",
       "       'Micronesia', 'British Virgin Islands', 'Guam',\n",
       "       'US Virgin Islands', 'Mayotte', 'Sao Tome and Principe',\n",
       "       'Northern Mariana Islands', 'East Timor', 'Pitcairn Island',\n",
       "       'Niue', 'St. Vincent and the Grenadines', 'Montserrat',\n",
       "       'South Georgia and the South Sandwich Islands'], dtype=object)"
      ]
     },
     "execution_count": 107,
     "metadata": {},
     "output_type": "execute_result"
    }
   ],
   "execution_count": 107
  },
  {
   "metadata": {
    "ExecuteTime": {
     "end_time": "2024-11-30T23:40:26.858102Z",
     "start_time": "2024-11-30T23:40:26.852361Z"
    }
   },
   "cell_type": "code",
   "source": "countries",
   "outputs": [
    {
     "data": {
      "text/plain": [
       "0                    United Kingdom\n",
       "0          United States of America\n",
       "1                    United Kingdom\n",
       "1          United States of America\n",
       "2                    United Kingdom\n",
       "                     ...           \n",
       "1140084                     Germany\n",
       "1140085                      Canada\n",
       "1140089                         NaN\n",
       "1140090                         NaN\n",
       "1140091                         NaN\n",
       "Name: production_countries, Length: 577381, dtype: object"
      ]
     },
     "execution_count": 106,
     "metadata": {},
     "output_type": "execute_result"
    }
   ],
   "execution_count": 106
  },
  {
   "metadata": {
    "ExecuteTime": {
     "end_time": "2024-11-30T23:48:51.301518Z",
     "start_time": "2024-11-30T23:48:50.396840Z"
    }
   },
   "cell_type": "code",
   "source": "countries.value_counts().plot.pie()",
   "outputs": [
    {
     "data": {
      "text/plain": [
       "<Axes: ylabel='count'>"
      ]
     },
     "execution_count": 114,
     "metadata": {},
     "output_type": "execute_result"
    },
    {
     "data": {
      "text/plain": [
       "<Figure size 640x480 with 1 Axes>"
      ],
      "image/png": "[encoded data removed]"
     },
     "metadata": {},
     "output_type": "display_data"
    }
   ],
   "execution_count": 114
  },
  {
   "metadata": {},
   "cell_type": "markdown",
   "source": "## `spoken_languages`"
  },
  {
   "metadata": {
    "ExecuteTime": {
     "end_time": "2024-11-30T23:27:46.804672Z",
     "start_time": "2024-11-30T23:27:46.754189Z"
    }
   },
   "cell_type": "code",
   "source": "data.spoken_languages.describe()",
   "outputs": [
    {
     "data": {
      "text/plain": [
       "count      387950\n",
       "unique       6207\n",
       "top       English\n",
       "freq       137336\n",
       "Name: spoken_languages, dtype: object"
      ]
     },
     "execution_count": 82,
     "metadata": {},
     "output_type": "execute_result"
    }
   ],
   "execution_count": 82
  },
  {
   "metadata": {
    "ExecuteTime": {
     "end_time": "2024-11-30T23:27:46.906878Z",
     "start_time": "2024-11-30T23:27:46.891426Z"
    }
   },
   "cell_type": "code",
   "source": "data.spoken_languages.sample(5)",
   "outputs": [
    {
     "data": {
      "text/plain": [
       "34900     English, French, Hungarian\n",
       "49678                    No Language\n",
       "89856                       Mandarin\n",
       "225508                       English\n",
       "898154                       English\n",
       "Name: spoken_languages, dtype: object"
      ]
     },
     "execution_count": 83,
     "metadata": {},
     "output_type": "execute_result"
    }
   ],
   "execution_count": 83
  },
  {
   "metadata": {},
   "cell_type": "markdown",
   "source": "The languages in the `spoken_languages` column are in strings. They need to be split up."
  },
  {
   "metadata": {
    "ExecuteTime": {
     "end_time": "2024-11-30T23:51:08.789943Z",
     "start_time": "2024-11-30T23:51:08.596531Z"
    }
   },
   "cell_type": "code",
   "source": "data.spoken_languages = data.spoken_languages.apply(lambda languages: [language.strip() for language in languages.split(',')] if isinstance(languages, str) else languages)",
   "outputs": [],
   "execution_count": 115
  },
  {
   "metadata": {
    "ExecuteTime": {
     "end_time": "2024-11-30T23:51:18.825964Z",
     "start_time": "2024-11-30T23:51:18.789768Z"
    }
   },
   "cell_type": "code",
   "source": "data.spoken_languages.info()",
   "outputs": [
    {
     "name": "stdout",
     "output_type": "stream",
     "text": [
      "<class 'pandas.core.series.Series'>\n",
      "Index: 526235 entries, 0 to 1140091\n",
      "Series name: spoken_languages\n",
      "Non-Null Count   Dtype \n",
      "--------------   ----- \n",
      "387950 non-null  object\n",
      "dtypes: object(1)\n",
      "memory usage: 8.0+ MB\n"
     ]
    }
   ],
   "execution_count": 116
  },
  {
   "metadata": {
    "ExecuteTime": {
     "end_time": "2024-11-30T23:51:52.899550Z",
     "start_time": "2024-11-30T23:51:52.826902Z"
    }
   },
   "cell_type": "code",
   "source": [
    "languages = data.spoken_languages.explode()\n",
    "languages.unique()"
   ],
   "outputs": [
    {
     "data": {
      "text/plain": [
       "array(['English', 'French', 'Japanese', 'Swahili', 'Mandarin', 'Spanish',\n",
       "       'Hindi', 'Russian', 'Xhosa', 'Persian', 'Urdu', 'Arabic', 'German',\n",
       "       'Swedish', 'Italian', 'Romanian', 'Korean', 'Norwegian', 'Latin',\n",
       "       'Tagalog', 'Hungarian', 'Cantonese', 'Turkish', 'Greek', 'Malay',\n",
       "       'Czech', 'Polish', 'Hebrew', 'Dutch', 'Vietnamese', 'Yiddish',\n",
       "       'Tamil', 'Finnish', 'Somali', 'Nepali', 'Tibetan', 'Portuguese',\n",
       "       'Gaelic', 'Albanian', 'Thai', 'Indonesian', 'Danish', 'Irish',\n",
       "       'Estonian', 'Afrikaans', 'Chichewa; Nyanja', 'Sotho', 'Zulu',\n",
       "       'Sinhalese', 'Khmer', 'Bulgarian', 'Icelandic', 'Samoan',\n",
       "       'Bengali', 'Esperanto', 'Haitian; Haitian Creole', 'Ukrainian',\n",
       "       'Breton', 'Croatian', 'Inuktitut', 'Armenian', 'Sanskrit',\n",
       "       'Georgian', 'Pushto', 'Burmese', 'Northern Sami', 'Slovak',\n",
       "       'Quechua', 'Navajo', 'No Language', 'Serbian', 'Serbo-Croatian',\n",
       "       'Welsh', 'Moldavian', nan, 'Cornish', 'Lithuanian', 'Fulah',\n",
       "       'Punjabi', 'Catalan', 'Akan', 'Maltese', 'Amharic', 'Ido', 'Cree',\n",
       "       'Corsican', 'Bambara', 'Marathi', 'Maori', 'Galician', 'Guarani',\n",
       "       'Belarusian', 'Basque', 'Telugu', 'Lingala', 'Tswana', 'Wolof',\n",
       "       'Bosnian', 'Mongolian', 'Tatar', 'Lao', 'Slovenian', 'Aragonese',\n",
       "       'Gujarati', 'Chechen', 'Latvian', 'Malayalam', 'Macedonian',\n",
       "       'Tahitian', 'Azerbaijani', 'Avaric', 'Uzbek', 'Kazakh', 'Occitan',\n",
       "       'Chuvash', 'Igbo', 'Kurdish', 'Hausa', 'Afar', 'Kannada',\n",
       "       'Javanese', 'Raeto-Romance', 'Kashmiri', 'Dzongkha', 'Ewe',\n",
       "       'Ganda', 'Sardinian', 'Letzeburgesch', 'Inupiaq', 'Bislama',\n",
       "       'Bashkir', 'Kinyarwanda', 'Abkhazian', 'Tonga', 'Aymara', 'Sango',\n",
       "       'Yoruba', 'Uighur', 'Assamese', 'Kirghiz', 'Pali', 'Frisian',\n",
       "       'Kongo', 'Tajik', 'Yi', 'Kalaallisut', 'Kikuyu',\n",
       "       'Ossetian; Ossetic', 'Norwegian Bokmål', 'Walloon', 'Malagasy',\n",
       "       'Rundi', 'Sundanese', 'Twi', 'Marshall', 'Shona', 'Limburgish',\n",
       "       'Faroese', 'Sindhi', 'Herero', 'Tigrinya', 'Nauru', 'Hiri Motu',\n",
       "       'Ndebele', 'Ojibwa', 'Turkmen', 'Norwegian Nynorsk', 'Oriya',\n",
       "       'Fijian', 'Slavic', 'Oromo', 'Venda', 'Interlingue', 'Divehi',\n",
       "       'Volapük', 'Interlingua', 'Tsonga', 'Swati', 'Chamorro', 'Ndonga'],\n",
       "      dtype=object)"
      ]
     },
     "execution_count": 117,
     "metadata": {},
     "output_type": "execute_result"
    }
   ],
   "execution_count": 117
  },
  {
   "metadata": {
    "ExecuteTime": {
     "end_time": "2024-11-30T23:52:04.469097Z",
     "start_time": "2024-11-30T23:52:03.831700Z"
    }
   },
   "cell_type": "code",
   "source": "languages.value_counts().plot.pie()",
   "outputs": [
    {
     "data": {
      "text/plain": [
       "<Axes: ylabel='count'>"
      ]
     },
     "execution_count": 118,
     "metadata": {},
     "output_type": "execute_result"
    },
    {
     "data": {
      "text/plain": [
       "<Figure size 640x480 with 1 Axes>"
      ],
      "image/png": "[encoded data removed]"
     },
     "metadata": {},
     "output_type": "display_data"
    }
   ],
   "execution_count": 118
  },
  {
   "metadata": {},
   "cell_type": "markdown",
   "source": "## `keywords`\n"
  },
  {
   "metadata": {
    "ExecuteTime": {
     "end_time": "2024-11-30T23:27:47.351993Z",
     "start_time": "2024-11-30T23:27:47.233817Z"
    }
   },
   "cell_type": "code",
   "source": "data.keywords.describe()",
   "outputs": [
    {
     "data": {
      "text/plain": [
       "count             187190\n",
       "unique            121866\n",
       "top       woman director\n",
       "freq                7301\n",
       "Name: keywords, dtype: object"
      ]
     },
     "execution_count": 85,
     "metadata": {},
     "output_type": "execute_result"
    }
   ],
   "execution_count": 85
  },
  {
   "metadata": {
    "ExecuteTime": {
     "end_time": "2024-12-01T00:16:32.255299Z",
     "start_time": "2024-12-01T00:16:32.240374Z"
    }
   },
   "cell_type": "code",
   "source": "data.keywords.sample(5)",
   "outputs": [
    {
     "data": {
      "text/plain": [
       "35839                                                   NaN\n",
       "891426    marriage crisis, murder, illicit affair, mind ...\n",
       "22836                                                viking\n",
       "10844     high school, teacher, misfit, teen movie, scho...\n",
       "176827          zebra, botswana, nature, nature documentary\n",
       "Name: keywords, dtype: object"
      ]
     },
     "execution_count": 119,
     "metadata": {},
     "output_type": "execute_result"
    }
   ],
   "execution_count": 119
  },
  {
   "metadata": {},
   "cell_type": "markdown",
   "source": "The keywords in the `keywords` column are all in one string. They need to be split up."
  },
  {
   "metadata": {
    "ExecuteTime": {
     "end_time": "2024-12-01T00:19:44.706273Z",
     "start_time": "2024-12-01T00:19:44.470652Z"
    }
   },
   "cell_type": "code",
   "source": "data.keywords = data.keywords.apply(lambda keywords: [keyword.strip() for keyword in keywords.split(',')] if isinstance(keywords, str) else keywords)",
   "outputs": [],
   "execution_count": 120
  },
  {
   "metadata": {
    "ExecuteTime": {
     "end_time": "2024-12-01T00:19:47.293899Z",
     "start_time": "2024-12-01T00:19:47.246127Z"
    }
   },
   "cell_type": "code",
   "source": "data.keywords.info()",
   "outputs": [
    {
     "name": "stdout",
     "output_type": "stream",
     "text": [
      "<class 'pandas.core.series.Series'>\n",
      "Index: 526235 entries, 0 to 1140091\n",
      "Series name: keywords\n",
      "Non-Null Count   Dtype \n",
      "--------------   ----- \n",
      "187190 non-null  object\n",
      "dtypes: object(1)\n",
      "memory usage: 8.0+ MB\n"
     ]
    }
   ],
   "execution_count": 121
  },
  {
   "metadata": {
    "ExecuteTime": {
     "end_time": "2024-12-01T00:20:08.430124Z",
     "start_time": "2024-12-01T00:20:08.285194Z"
    }
   },
   "cell_type": "code",
   "source": [
    "keywords = data.keywords.explode()\n",
    "keywords.unique()"
   ],
   "outputs": [
    {
     "data": {
      "text/plain": [
       "array(['rescue', 'mission', 'dream', ..., 'bhajarangi', 'tapalin',\n",
       "       'ice breaker'], dtype=object)"
      ]
     },
     "execution_count": 122,
     "metadata": {},
     "output_type": "execute_result"
    }
   ],
   "execution_count": 122
  },
  {
   "metadata": {
    "ExecuteTime": {
     "end_time": "2024-12-01T00:23:32.543152Z",
     "start_time": "2024-12-01T00:23:32.417235Z"
    }
   },
   "cell_type": "code",
   "source": "keywords.value_counts()",
   "outputs": [
    {
     "data": {
      "text/plain": [
       "keywords\n",
       "short film                18295\n",
       "woman director            13881\n",
       "based on novel or book     5632\n",
       "murder                     4410\n",
       "lgbt                       3958\n",
       "                          ...  \n",
       "seri indians                  1\n",
       "bhajarangi                    1\n",
       "ske48                         1\n",
       "edgewood                      1\n",
       "قاسم الملاك                   1\n",
       "Name: count, Length: 41986, dtype: int64"
      ]
     },
     "execution_count": 124,
     "metadata": {},
     "output_type": "execute_result"
    }
   ],
   "execution_count": 124
  },
  {
   "cell_type": "markdown",
   "metadata": {
    "id": "HOOGZ92xuVp-"
   },
   "source": [
    "## Exporting"
   ]
  },
  {
   "cell_type": "code",
   "metadata": {
    "id": "AOr0MiJouo-U",
    "ExecuteTime": {
     "end_time": "2024-11-30T23:27:54.040633Z",
     "start_time": "2024-11-30T23:27:47.654647Z"
    }
   },
   "source": "data.to_csv('../Datasets/clean.csv')",
   "outputs": [],
   "execution_count": 88
  }
 ],
 "metadata": {
  "colab": {
   "provenance": []
  },
  "kernelspec": {
   "display_name": "Python 3 (ipykernel)",
   "name": "python3",
   "language": "python"
  },
  "language_info": {
   "name": "python"
  }
 },
 "nbformat": 4,
 "nbformat_minor": 0
}
