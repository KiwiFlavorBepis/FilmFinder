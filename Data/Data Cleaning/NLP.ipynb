{
  {
   "cell_type": "markdown",
   "metadata": {
    "id": "LGiGgCFItRyk"
   },
   "source": []
  },
  {
   "cell_type": "markdown",
   "metadata": {
    "id": "vb4dfI8mjUyg"
   },
   "source": [
    "# NLP testing\n"
   ]
  },
  {
   "cell_type": "code",
   "execution_count": null,
   "metadata": {
    "colab": {
     "base_uri": "https://localhost:8080/"
    },
    "collapsed": true,
    "id": "OXF-t75vjc0G",
    "jupyter": {
     "outputs_hidden": true
    },
    "outputId": "bc842641-73bc-4d10-9c67-0ddd0ba9d43f"
   },
   "outputs": [
    {
     "name": "stdout",
     "output_type": "stream",
     "text": [
      "Requirement already satisfied: pip in /usr/local/lib/python3.10/dist-packages (24.2)\n",
      "Requirement already satisfied: setuptools in /usr/local/lib/python3.10/dist-packages (75.2.0)\n",
      "Requirement already satisfied: wheel in /usr/local/lib/python3.10/dist-packages (0.44.0)\n",
      "Requirement already satisfied: spacy in /usr/local/lib/python3.10/dist-packages (3.7.5)\n",
      "Collecting spacy\n",
      "  Downloading spacy-3.8.2-cp310-cp310-manylinux_2_17_x86_64.manylinux2014_x86_64.whl.metadata (27 kB)\n",
      "Requirement already satisfied: spacy-legacy<3.1.0,>=3.0.11 in /usr/local/lib/python3.10/dist-packages (from spacy) (3.0.12)\n",
      "Requirement already satisfied: spacy-loggers<2.0.0,>=1.0.0 in /usr/local/lib/python3.10/dist-packages (from spacy) (1.0.5)\n",
      "Requirement already satisfied: murmurhash<1.1.0,>=0.28.0 in /usr/local/lib/python3.10/dist-packages (from spacy) (1.0.10)\n",
      "Requirement already satisfied: cymem<2.1.0,>=2.0.2 in /usr/local/lib/python3.10/dist-packages (from spacy) (2.0.8)\n",
      "Requirement already satisfied: preshed<3.1.0,>=3.0.2 in /usr/local/lib/python3.10/dist-packages (from spacy) (3.0.9)\n",
      "Collecting thinc<8.4.0,>=8.3.0 (from spacy)\n",
      "  Downloading thinc-8.3.2-cp310-cp310-manylinux_2_17_x86_64.manylinux2014_x86_64.whl.metadata (15 kB)\n",
      "Requirement already satisfied: wasabi<1.2.0,>=0.9.1 in /usr/local/lib/python3.10/dist-packages (from spacy) (1.1.3)\n",
      "Requirement already satisfied: srsly<3.0.0,>=2.4.3 in /usr/local/lib/python3.10/dist-packages (from spacy) (2.4.8)\n",
      "Requirement already satisfied: catalogue<2.1.0,>=2.0.6 in /usr/local/lib/python3.10/dist-packages (from spacy) (2.0.10)\n",
      "Requirement already satisfied: weasel<0.5.0,>=0.1.0 in /usr/local/lib/python3.10/dist-packages (from spacy) (0.4.1)\n",
      "Requirement already satisfied: typer<1.0.0,>=0.3.0 in /usr/local/lib/python3.10/dist-packages (from spacy) (0.12.5)\n",
      "Requirement already satisfied: tqdm<5.0.0,>=4.38.0 in /usr/local/lib/python3.10/dist-packages (from spacy) (4.66.5)\n",
      "Requirement already satisfied: requests<3.0.0,>=2.13.0 in /usr/local/lib/python3.10/dist-packages (from spacy) (2.32.3)\n",
      "Requirement already satisfied: pydantic!=1.8,!=1.8.1,<3.0.0,>=1.7.4 in /usr/local/lib/python3.10/dist-packages (from spacy) (2.9.2)\n",
      "Requirement already satisfied: jinja2 in /usr/local/lib/python3.10/dist-packages (from spacy) (3.1.4)\n",
      "Requirement already satisfied: setuptools in /usr/local/lib/python3.10/dist-packages (from spacy) (75.2.0)\n",
      "Requirement already satisfied: packaging>=20.0 in /usr/local/lib/python3.10/dist-packages (from spacy) (24.1)\n",
      "Requirement already satisfied: langcodes<4.0.0,>=3.2.0 in /usr/local/lib/python3.10/dist-packages (from spacy) (3.4.1)\n",
      "Requirement already satisfied: numpy>=1.19.0 in /usr/local/lib/python3.10/dist-packages (from spacy) (1.26.4)\n",
      "Requirement already satisfied: language-data>=1.2 in /usr/local/lib/python3.10/dist-packages (from langcodes<4.0.0,>=3.2.0->spacy) (1.2.0)\n",
      "Requirement already satisfied: annotated-types>=0.6.0 in /usr/local/lib/python3.10/dist-packages (from pydantic!=1.8,!=1.8.1,<3.0.0,>=1.7.4->spacy) (0.7.0)\n",
      "Requirement already satisfied: pydantic-core==2.23.4 in /usr/local/lib/python3.10/dist-packages (from pydantic!=1.8,!=1.8.1,<3.0.0,>=1.7.4->spacy) (2.23.4)\n",
      "Requirement already satisfied: typing-extensions>=4.6.1 in /usr/local/lib/python3.10/dist-packages (from pydantic!=1.8,!=1.8.1,<3.0.0,>=1.7.4->spacy) (4.12.2)\n",
      "Requirement already satisfied: charset-normalizer<4,>=2 in /usr/local/lib/python3.10/dist-packages (from requests<3.0.0,>=2.13.0->spacy) (3.4.0)\n",
      "Requirement already satisfied: idna<4,>=2.5 in /usr/local/lib/python3.10/dist-packages (from requests<3.0.0,>=2.13.0->spacy) (3.10)\n",
      "Requirement already satisfied: urllib3<3,>=1.21.1 in /usr/local/lib/python3.10/dist-packages (from requests<3.0.0,>=2.13.0->spacy) (2.2.3)\n",
      "Requirement already satisfied: certifi>=2017.4.17 in /usr/local/lib/python3.10/dist-packages (from requests<3.0.0,>=2.13.0->spacy) (2024.8.30)\n",
      "Collecting blis<1.1.0,>=1.0.0 (from thinc<8.4.0,>=8.3.0->spacy)\n",
      "  Downloading blis-1.0.1-cp310-cp310-manylinux_2_17_x86_64.manylinux2014_x86_64.whl.metadata (7.6 kB)\n",
      "Requirement already satisfied: confection<1.0.0,>=0.0.1 in /usr/local/lib/python3.10/dist-packages (from thinc<8.4.0,>=8.3.0->spacy) (0.1.5)\n",
      "Collecting numpy>=1.19.0 (from spacy)\n",
      "  Downloading numpy-2.0.2-cp310-cp310-manylinux_2_17_x86_64.manylinux2014_x86_64.whl.metadata (60 kB)\n",
      "Requirement already satisfied: click>=8.0.0 in /usr/local/lib/python3.10/dist-packages (from typer<1.0.0,>=0.3.0->spacy) (8.1.7)\n",
      "Requirement already satisfied: shellingham>=1.3.0 in /usr/local/lib/python3.10/dist-packages (from typer<1.0.0,>=0.3.0->spacy) (1.5.4)\n",
      "Requirement already satisfied: rich>=10.11.0 in /usr/local/lib/python3.10/dist-packages (from typer<1.0.0,>=0.3.0->spacy) (13.9.2)\n",
      "Requirement already satisfied: cloudpathlib<1.0.0,>=0.7.0 in /usr/local/lib/python3.10/dist-packages (from weasel<0.5.0,>=0.1.0->spacy) (0.19.0)\n",
      "Requirement already satisfied: smart-open<8.0.0,>=5.2.1 in /usr/local/lib/python3.10/dist-packages (from weasel<0.5.0,>=0.1.0->spacy) (7.0.5)\n",
      "Requirement already satisfied: MarkupSafe>=2.0 in /usr/local/lib/python3.10/dist-packages (from jinja2->spacy) (3.0.2)\n",
      "Requirement already satisfied: marisa-trie>=0.7.7 in /usr/local/lib/python3.10/dist-packages (from language-data>=1.2->langcodes<4.0.0,>=3.2.0->spacy) (1.2.1)\n",
      "Requirement already satisfied: markdown-it-py>=2.2.0 in /usr/local/lib/python3.10/dist-packages (from rich>=10.11.0->typer<1.0.0,>=0.3.0->spacy) (3.0.0)\n",
      "Requirement already satisfied: pygments<3.0.0,>=2.13.0 in /usr/local/lib/python3.10/dist-packages (from rich>=10.11.0->typer<1.0.0,>=0.3.0->spacy) (2.18.0)\n",
      "Requirement already satisfied: wrapt in /usr/local/lib/python3.10/dist-packages (from smart-open<8.0.0,>=5.2.1->weasel<0.5.0,>=0.1.0->spacy) (1.16.0)\n",
      "Requirement already satisfied: mdurl~=0.1 in /usr/local/lib/python3.10/dist-packages (from markdown-it-py>=2.2.0->rich>=10.11.0->typer<1.0.0,>=0.3.0->spacy) (0.1.2)\n",
      "Downloading spacy-3.8.2-cp310-cp310-manylinux_2_17_x86_64.manylinux2014_x86_64.whl (29.1 MB)\n",
      "\u001b[2K   \u001b[90m━━━━━━━━━━━━━━━━━━━━━━━━━━━━━━━━━━━━━━━━\u001b[0m \u001b[32m29.1/29.1 MB\u001b[0m \u001b[31m104.8 MB/s\u001b[0m eta \u001b[36m0:00:00\u001b[0m\n",
      "\u001b[?25hDownloading thinc-8.3.2-cp310-cp310-manylinux_2_17_x86_64.manylinux2014_x86_64.whl (3.7 MB)\n",
      "\u001b[2K   \u001b[90m━━━━━━━━━━━━━━━━━━━━━━━━━━━━━━━━━━━━━━━━\u001b[0m \u001b[32m3.7/3.7 MB\u001b[0m \u001b[31m88.8 MB/s\u001b[0m eta \u001b[36m0:00:00\u001b[0m\n",
      "\u001b[?25hDownloading numpy-2.0.2-cp310-cp310-manylinux_2_17_x86_64.manylinux2014_x86_64.whl (19.5 MB)\n",
      "\u001b[2K   \u001b[90m━━━━━━━━━━━━━━━━━━━━━━━━━━━━━━━━━━━━━━━━\u001b[0m \u001b[32m19.5/19.5 MB\u001b[0m \u001b[31m101.9 MB/s\u001b[0m eta \u001b[36m0:00:00\u001b[0m\n",
      "\u001b[?25hDownloading blis-1.0.1-cp310-cp310-manylinux_2_17_x86_64.manylinux2014_x86_64.whl (9.2 MB)\n",
      "\u001b[2K   \u001b[90m━━━━━━━━━━━━━━━━━━━━━━━━━━━━━━━━━━━━━━━━\u001b[0m \u001b[32m9.2/9.2 MB\u001b[0m \u001b[31m104.2 MB/s\u001b[0m eta \u001b[36m0:00:00\u001b[0m\n",
      "\u001b[?25hInstalling collected packages: numpy, blis, thinc, spacy\n",
      "  Attempting uninstall: numpy\n",
      "    Found existing installation: numpy 1.26.4\n",
      "    Uninstalling numpy-1.26.4:\n",
      "      Successfully uninstalled numpy-1.26.4\n",
      "  Attempting uninstall: blis\n",
      "    Found existing installation: blis 0.7.11\n",
      "    Uninstalling blis-0.7.11:\n",
      "      Successfully uninstalled blis-0.7.11\n",
      "  Attempting uninstall: thinc\n",
      "    Found existing installation: thinc 8.2.5\n",
      "    Uninstalling thinc-8.2.5:\n",
      "      Successfully uninstalled thinc-8.2.5\n",
      "  Attempting uninstall: spacy\n",
      "    Found existing installation: spacy 3.7.5\n",
      "    Uninstalling spacy-3.7.5:\n",
      "      Successfully uninstalled spacy-3.7.5\n",
      "\u001b[31mERROR: pip's dependency resolver does not currently take into account all the packages that are installed. This behaviour is the source of the following dependency conflicts.\n",
      "cupy-cuda12x 12.2.0 requires numpy<1.27,>=1.20, but you have numpy 2.0.2 which is incompatible.\n",
      "en-core-web-sm 3.7.1 requires spacy<3.8.0,>=3.7.2, but you have spacy 3.8.2 which is incompatible.\n",
      "gensim 4.3.3 requires numpy<2.0,>=1.18.5, but you have numpy 2.0.2 which is incompatible.\n",
      "pytensor 2.25.5 requires numpy<2,>=1.17.0, but you have numpy 2.0.2 which is incompatible.\n",
      "tensorflow 2.17.0 requires numpy<2.0.0,>=1.23.5; python_version <= \"3.11\", but you have numpy 2.0.2 which is incompatible.\u001b[0m\u001b[31m\n",
      "\u001b[0mSuccessfully installed blis-1.0.1 numpy-2.0.2 spacy-3.8.2 thinc-8.3.2\n",
      "Collecting en-core-web-sm==3.8.0\n",
      "  Downloading https://github.com/explosion/spacy-models/releases/download/en_core_web_sm-3.8.0/en_core_web_sm-3.8.0-py3-none-any.whl (12.8 MB)\n",
      "\u001b[2K     \u001b[90m━━━━━━━━━━━━━━━━━━━━━━━━━━━━━━━━━━━━━━━━\u001b[0m \u001b[32m12.8/12.8 MB\u001b[0m \u001b[31m85.0 MB/s\u001b[0m eta \u001b[36m0:00:00\u001b[0m\n",
      "\u001b[?25hInstalling collected packages: en-core-web-sm\n",
      "  Attempting uninstall: en-core-web-sm\n",
      "    Found existing installation: en-core-web-sm 3.7.1\n",
      "    Uninstalling en-core-web-sm-3.7.1:\n",
      "      Successfully uninstalled en-core-web-sm-3.7.1\n",
      "Successfully installed en-core-web-sm-3.8.0\n",
      "\u001b[38;5;2m✔ Download and installation successful\u001b[0m\n",
      "You can now load the package via spacy.load('en_core_web_sm')\n",
      "\u001b[38;5;3m⚠ Restart to reload dependencies\u001b[0m\n",
      "If you are in a Jupyter or Colab notebook, you may need to restart Python in\n",
      "order to load all the package's dependencies. You can do this by selecting the\n",
      "'Restart kernel' or 'Restart runtime' option.\n"
     ]
    }
   ],
   "source": [
    "!pip install -U pip setuptools wheel\n",
    "!pip install -U spacy\n",
    "!python -m spacy download en_core_web_sm"
   ]
  },
  {
   "cell_type": "code",
   "execution_count": null,
   "metadata": {
    "colab": {
     "base_uri": "https://localhost:8080/"
    },
    "collapsed": true,
    "id": "nw3atsAuXqEm",
    "jupyter": {
     "outputs_hidden": true
    },
    "outputId": "0a51bfc3-890f-43c9-9ce2-092135f94c55"
   },
   "outputs": [
    {
     "name": "stdout",
     "output_type": "stream",
     "text": [
      "Requirement already satisfied: spacy in /usr/local/lib/python3.10/dist-packages (3.8.2)\n",
      "Requirement already satisfied: spacy-universal-sentence-encoder in /usr/local/lib/python3.10/dist-packages (0.4.6)\n",
      "Requirement already satisfied: spacy-legacy<3.1.0,>=3.0.11 in /usr/local/lib/python3.10/dist-packages (from spacy) (3.0.12)\n",
      "Requirement already satisfied: spacy-loggers<2.0.0,>=1.0.0 in /usr/local/lib/python3.10/dist-packages (from spacy) (1.0.5)\n",
      "Requirement already satisfied: murmurhash<1.1.0,>=0.28.0 in /usr/local/lib/python3.10/dist-packages (from spacy) (1.0.10)\n",
      "Requirement already satisfied: cymem<2.1.0,>=2.0.2 in /usr/local/lib/python3.10/dist-packages (from spacy) (2.0.8)\n",
      "Requirement already satisfied: preshed<3.1.0,>=3.0.2 in /usr/local/lib/python3.10/dist-packages (from spacy) (3.0.9)\n",
      "Requirement already satisfied: thinc<8.4.0,>=8.3.0 in /usr/local/lib/python3.10/dist-packages (from spacy) (8.3.2)\n",
      "Requirement already satisfied: wasabi<1.2.0,>=0.9.1 in /usr/local/lib/python3.10/dist-packages (from spacy) (1.1.3)\n",
      "Requirement already satisfied: srsly<3.0.0,>=2.4.3 in /usr/local/lib/python3.10/dist-packages (from spacy) (2.4.8)\n",
      "Requirement already satisfied: catalogue<2.1.0,>=2.0.6 in /usr/local/lib/python3.10/dist-packages (from spacy) (2.0.10)\n",
      "Requirement already satisfied: weasel<0.5.0,>=0.1.0 in /usr/local/lib/python3.10/dist-packages (from spacy) (0.4.1)\n",
      "Requirement already satisfied: typer<1.0.0,>=0.3.0 in /usr/local/lib/python3.10/dist-packages (from spacy) (0.12.5)\n",
      "Requirement already satisfied: tqdm<5.0.0,>=4.38.0 in /usr/local/lib/python3.10/dist-packages (from spacy) (4.66.5)\n",
      "Requirement already satisfied: requests<3.0.0,>=2.13.0 in /usr/local/lib/python3.10/dist-packages (from spacy) (2.32.3)\n",
      "Requirement already satisfied: pydantic!=1.8,!=1.8.1,<3.0.0,>=1.7.4 in /usr/local/lib/python3.10/dist-packages (from spacy) (2.9.2)\n",
      "Requirement already satisfied: jinja2 in /usr/local/lib/python3.10/dist-packages (from spacy) (3.1.4)\n",
      "Requirement already satisfied: setuptools in /usr/local/lib/python3.10/dist-packages (from spacy) (75.2.0)\n",
      "Requirement already satisfied: packaging>=20.0 in /usr/local/lib/python3.10/dist-packages (from spacy) (24.1)\n",
      "Requirement already satisfied: langcodes<4.0.0,>=3.2.0 in /usr/local/lib/python3.10/dist-packages (from spacy) (3.4.1)\n",
      "Requirement already satisfied: numpy>=1.19.0 in /usr/local/lib/python3.10/dist-packages (from spacy) (2.0.2)\n",
      "Requirement already satisfied: tensorflow<3.0.0,>=2.4.0 in /usr/local/lib/python3.10/dist-packages (from spacy-universal-sentence-encoder) (2.14.0)\n",
      "Requirement already satisfied: tensorflow-hub in /usr/local/lib/python3.10/dist-packages (from spacy-universal-sentence-encoder) (0.16.1)\n",
      "Requirement already satisfied: language-data>=1.2 in /usr/local/lib/python3.10/dist-packages (from langcodes<4.0.0,>=3.2.0->spacy) (1.2.0)\n",
      "Requirement already satisfied: annotated-types>=0.6.0 in /usr/local/lib/python3.10/dist-packages (from pydantic!=1.8,!=1.8.1,<3.0.0,>=1.7.4->spacy) (0.7.0)\n",
      "Requirement already satisfied: pydantic-core==2.23.4 in /usr/local/lib/python3.10/dist-packages (from pydantic!=1.8,!=1.8.1,<3.0.0,>=1.7.4->spacy) (2.23.4)\n",
      "Requirement already satisfied: typing-extensions>=4.6.1 in /usr/local/lib/python3.10/dist-packages (from pydantic!=1.8,!=1.8.1,<3.0.0,>=1.7.4->spacy) (4.12.2)\n",
      "Requirement already satisfied: charset-normalizer<4,>=2 in /usr/local/lib/python3.10/dist-packages (from requests<3.0.0,>=2.13.0->spacy) (3.4.0)\n",
      "Requirement already satisfied: idna<4,>=2.5 in /usr/local/lib/python3.10/dist-packages (from requests<3.0.0,>=2.13.0->spacy) (3.10)\n",
      "Requirement already satisfied: urllib3<3,>=1.21.1 in /usr/local/lib/python3.10/dist-packages (from requests<3.0.0,>=2.13.0->spacy) (2.2.3)\n",
      "Requirement already satisfied: certifi>=2017.4.17 in /usr/local/lib/python3.10/dist-packages (from requests<3.0.0,>=2.13.0->spacy) (2024.8.30)\n",
      "Requirement already satisfied: absl-py>=1.0.0 in /usr/local/lib/python3.10/dist-packages (from tensorflow<3.0.0,>=2.4.0->spacy-universal-sentence-encoder) (1.4.0)\n",
      "Requirement already satisfied: astunparse>=1.6.0 in /usr/local/lib/python3.10/dist-packages (from tensorflow<3.0.0,>=2.4.0->spacy-universal-sentence-encoder) (1.6.3)\n",
      "Requirement already satisfied: flatbuffers>=23.5.26 in /usr/local/lib/python3.10/dist-packages (from tensorflow<3.0.0,>=2.4.0->spacy-universal-sentence-encoder) (24.3.25)\n",
      "Requirement already satisfied: gast!=0.5.0,!=0.5.1,!=0.5.2,>=0.2.1 in /usr/local/lib/python3.10/dist-packages (from tensorflow<3.0.0,>=2.4.0->spacy-universal-sentence-encoder) (0.6.0)\n",
      "Requirement already satisfied: google-pasta>=0.1.1 in /usr/local/lib/python3.10/dist-packages (from tensorflow<3.0.0,>=2.4.0->spacy-universal-sentence-encoder) (0.2.0)\n",
      "Requirement already satisfied: h5py>=2.9.0 in /usr/local/lib/python3.10/dist-packages (from tensorflow<3.0.0,>=2.4.0->spacy-universal-sentence-encoder) (3.11.0)\n",
      "Requirement already satisfied: libclang>=13.0.0 in /usr/local/lib/python3.10/dist-packages (from tensorflow<3.0.0,>=2.4.0->spacy-universal-sentence-encoder) (18.1.1)\n",
      "Requirement already satisfied: ml-dtypes==0.2.0 in /usr/local/lib/python3.10/dist-packages (from tensorflow<3.0.0,>=2.4.0->spacy-universal-sentence-encoder) (0.2.0)\n",
      "Requirement already satisfied: opt-einsum>=2.3.2 in /usr/local/lib/python3.10/dist-packages (from tensorflow<3.0.0,>=2.4.0->spacy-universal-sentence-encoder) (3.4.0)\n",
      "Requirement already satisfied: protobuf!=4.21.0,!=4.21.1,!=4.21.2,!=4.21.3,!=4.21.4,!=4.21.5,<5.0.0dev,>=3.20.3 in /usr/local/lib/python3.10/dist-packages (from tensorflow<3.0.0,>=2.4.0->spacy-universal-sentence-encoder) (3.20.3)\n",
      "Requirement already satisfied: six>=1.12.0 in /usr/local/lib/python3.10/dist-packages (from tensorflow<3.0.0,>=2.4.0->spacy-universal-sentence-encoder) (1.16.0)\n",
      "Requirement already satisfied: termcolor>=1.1.0 in /usr/local/lib/python3.10/dist-packages (from tensorflow<3.0.0,>=2.4.0->spacy-universal-sentence-encoder) (2.5.0)\n",
      "Requirement already satisfied: wrapt<1.15,>=1.11.0 in /usr/local/lib/python3.10/dist-packages (from tensorflow<3.0.0,>=2.4.0->spacy-universal-sentence-encoder) (1.14.1)\n",
      "Requirement already satisfied: tensorflow-io-gcs-filesystem>=0.23.1 in /usr/local/lib/python3.10/dist-packages (from tensorflow<3.0.0,>=2.4.0->spacy-universal-sentence-encoder) (0.37.1)\n",
      "Requirement already satisfied: grpcio<2.0,>=1.24.3 in /usr/local/lib/python3.10/dist-packages (from tensorflow<3.0.0,>=2.4.0->spacy-universal-sentence-encoder) (1.64.1)\n",
      "Requirement already satisfied: tensorboard<2.15,>=2.14 in /usr/local/lib/python3.10/dist-packages (from tensorflow<3.0.0,>=2.4.0->spacy-universal-sentence-encoder) (2.14.1)\n",
      "Requirement already satisfied: tensorflow-estimator<2.15,>=2.14.0 in /usr/local/lib/python3.10/dist-packages (from tensorflow<3.0.0,>=2.4.0->spacy-universal-sentence-encoder) (2.14.0)\n",
      "Requirement already satisfied: keras<2.15,>=2.14.0 in /usr/local/lib/python3.10/dist-packages (from tensorflow<3.0.0,>=2.4.0->spacy-universal-sentence-encoder) (2.14.0)\n",
      "Requirement already satisfied: blis<1.1.0,>=1.0.0 in /usr/local/lib/python3.10/dist-packages (from thinc<8.4.0,>=8.3.0->spacy) (1.0.1)\n",
      "Requirement already satisfied: confection<1.0.0,>=0.0.1 in /usr/local/lib/python3.10/dist-packages (from thinc<8.4.0,>=8.3.0->spacy) (0.1.5)\n",
      "Requirement already satisfied: click>=8.0.0 in /usr/local/lib/python3.10/dist-packages (from typer<1.0.0,>=0.3.0->spacy) (8.1.7)\n",
      "Requirement already satisfied: shellingham>=1.3.0 in /usr/local/lib/python3.10/dist-packages (from typer<1.0.0,>=0.3.0->spacy) (1.5.4)\n",
      "Requirement already satisfied: rich>=10.11.0 in /usr/local/lib/python3.10/dist-packages (from typer<1.0.0,>=0.3.0->spacy) (13.9.2)\n",
      "Requirement already satisfied: cloudpathlib<1.0.0,>=0.7.0 in /usr/local/lib/python3.10/dist-packages (from weasel<0.5.0,>=0.1.0->spacy) (0.19.0)\n",
      "Requirement already satisfied: smart-open<8.0.0,>=5.2.1 in /usr/local/lib/python3.10/dist-packages (from weasel<0.5.0,>=0.1.0->spacy) (7.0.5)\n",
      "Requirement already satisfied: MarkupSafe>=2.0 in /usr/local/lib/python3.10/dist-packages (from jinja2->spacy) (3.0.2)\n",
      "Requirement already satisfied: tf-keras>=2.14.1 in /usr/local/lib/python3.10/dist-packages (from tensorflow-hub->spacy-universal-sentence-encoder) (2.15.0)\n",
      "Requirement already satisfied: wheel<1.0,>=0.23.0 in /usr/local/lib/python3.10/dist-packages (from astunparse>=1.6.0->tensorflow<3.0.0,>=2.4.0->spacy-universal-sentence-encoder) (0.44.0)\n",
      "Requirement already satisfied: marisa-trie>=0.7.7 in /usr/local/lib/python3.10/dist-packages (from language-data>=1.2->langcodes<4.0.0,>=3.2.0->spacy) (1.2.1)\n",
      "Requirement already satisfied: markdown-it-py>=2.2.0 in /usr/local/lib/python3.10/dist-packages (from rich>=10.11.0->typer<1.0.0,>=0.3.0->spacy) (3.0.0)\n",
      "Requirement already satisfied: pygments<3.0.0,>=2.13.0 in /usr/local/lib/python3.10/dist-packages (from rich>=10.11.0->typer<1.0.0,>=0.3.0->spacy) (2.18.0)\n",
      "Requirement already satisfied: google-auth<3,>=1.6.3 in /usr/local/lib/python3.10/dist-packages (from tensorboard<2.15,>=2.14->tensorflow<3.0.0,>=2.4.0->spacy-universal-sentence-encoder) (2.27.0)\n",
      "Requirement already satisfied: google-auth-oauthlib<1.1,>=0.5 in /usr/local/lib/python3.10/dist-packages (from tensorboard<2.15,>=2.14->tensorflow<3.0.0,>=2.4.0->spacy-universal-sentence-encoder) (1.0.0)\n",
      "Requirement already satisfied: markdown>=2.6.8 in /usr/local/lib/python3.10/dist-packages (from tensorboard<2.15,>=2.14->tensorflow<3.0.0,>=2.4.0->spacy-universal-sentence-encoder) (3.7)\n",
      "Requirement already satisfied: tensorboard-data-server<0.8.0,>=0.7.0 in /usr/local/lib/python3.10/dist-packages (from tensorboard<2.15,>=2.14->tensorflow<3.0.0,>=2.4.0->spacy-universal-sentence-encoder) (0.7.2)\n",
      "Requirement already satisfied: werkzeug>=1.0.1 in /usr/local/lib/python3.10/dist-packages (from tensorboard<2.15,>=2.14->tensorflow<3.0.0,>=2.4.0->spacy-universal-sentence-encoder) (3.0.4)\n",
      "Requirement already satisfied: cachetools<6.0,>=2.0.0 in /usr/local/lib/python3.10/dist-packages (from google-auth<3,>=1.6.3->tensorboard<2.15,>=2.14->tensorflow<3.0.0,>=2.4.0->spacy-universal-sentence-encoder) (5.5.0)\n",
      "Requirement already satisfied: pyasn1-modules>=0.2.1 in /usr/local/lib/python3.10/dist-packages (from google-auth<3,>=1.6.3->tensorboard<2.15,>=2.14->tensorflow<3.0.0,>=2.4.0->spacy-universal-sentence-encoder) (0.4.1)\n",
      "Requirement already satisfied: rsa<5,>=3.1.4 in /usr/local/lib/python3.10/dist-packages (from google-auth<3,>=1.6.3->tensorboard<2.15,>=2.14->tensorflow<3.0.0,>=2.4.0->spacy-universal-sentence-encoder) (4.9)\n",
      "Requirement already satisfied: requests-oauthlib>=0.7.0 in /usr/local/lib/python3.10/dist-packages (from google-auth-oauthlib<1.1,>=0.5->tensorboard<2.15,>=2.14->tensorflow<3.0.0,>=2.4.0->spacy-universal-sentence-encoder) (1.3.1)\n",
      "Requirement already satisfied: mdurl~=0.1 in /usr/local/lib/python3.10/dist-packages (from markdown-it-py>=2.2.0->rich>=10.11.0->typer<1.0.0,>=0.3.0->spacy) (0.1.2)\n",
      "Requirement already satisfied: pyasn1<0.7.0,>=0.4.6 in /usr/local/lib/python3.10/dist-packages (from pyasn1-modules>=0.2.1->google-auth<3,>=1.6.3->tensorboard<2.15,>=2.14->tensorflow<3.0.0,>=2.4.0->spacy-universal-sentence-encoder) (0.6.1)\n",
      "Requirement already satisfied: oauthlib>=3.0.0 in /usr/local/lib/python3.10/dist-packages (from requests-oauthlib>=0.7.0->google-auth-oauthlib<1.1,>=0.5->tensorboard<2.15,>=2.14->tensorflow<3.0.0,>=2.4.0->spacy-universal-sentence-encoder) (3.2.2)\n"
     ]
    }
   ],
   "source": [
    "!pip install spacy spacy-universal-sentence-encoder"
   ]
  },
  {
   "cell_type": "code",
   "execution_count": 41,
   "metadata": {
    "colab": {
     "base_uri": "https://localhost:8080/"
    },
    "id": "Bc9gu9kJj_Eq",
    "outputId": "5032f019-1bc3-47ee-9c02-10ec97d638e3",
    "scrolled": true
   },
   "outputs": [
    {
     "name": "stdout",
     "output_type": "stream",
     "text": [
      "Collecting https://github.com/MartinoMensio/spacy-universal-sentence-encoder/releases/download/v0.4.6/en_use_lg-0.4.6.tar.gz#en_use_lg-0.4.6\n",
      "  Downloading https://github.com/MartinoMensio/spacy-universal-sentence-encoder/releases/download/v0.4.6/en_use_lg-0.4.6.tar.gz (24 kB)\n",
      "  Preparing metadata (setup.py) ... \u001b[?25ldone\n",
      "\u001b[?25hCollecting spacy<4.0,>=3.0 (from en-use-lg==0.4.6)\n",
      "  Downloading spacy-3.8.2-cp310-cp310-macosx_11_0_arm64.whl.metadata (27 kB)\n",
      "Collecting spacy-universal-sentence-encoder>=0.4.6 (from en-use-lg==0.4.6)\n",
      "  Downloading spacy_universal_sentence_encoder-0.4.6.tar.gz (15 kB)\n",
      "  Preparing metadata (setup.py) ... \u001b[?25ldone\n",
      "\u001b[?25hCollecting spacy-legacy<3.1.0,>=3.0.11 (from spacy<4.0,>=3.0->en-use-lg==0.4.6)\n",
      "  Downloading spacy_legacy-3.0.12-py2.py3-none-any.whl.metadata (2.8 kB)\n",
      "Collecting spacy-loggers<2.0.0,>=1.0.0 (from spacy<4.0,>=3.0->en-use-lg==0.4.6)\n",
      "  Downloading spacy_loggers-1.0.5-py3-none-any.whl.metadata (23 kB)\n",
      "Collecting murmurhash<1.1.0,>=0.28.0 (from spacy<4.0,>=3.0->en-use-lg==0.4.6)\n",
      "  Downloading murmurhash-1.0.10-cp310-cp310-macosx_11_0_arm64.whl.metadata (2.0 kB)\n",
      "Collecting cymem<2.1.0,>=2.0.2 (from spacy<4.0,>=3.0->en-use-lg==0.4.6)\n",
      "  Downloading cymem-2.0.8-cp310-cp310-macosx_11_0_arm64.whl.metadata (8.4 kB)\n",
      "Collecting preshed<3.1.0,>=3.0.2 (from spacy<4.0,>=3.0->en-use-lg==0.4.6)\n",
      "  Downloading preshed-3.0.9-cp310-cp310-macosx_11_0_arm64.whl.metadata (2.2 kB)\n",
      "Collecting thinc<8.4.0,>=8.3.0 (from spacy<4.0,>=3.0->en-use-lg==0.4.6)\n",
      "  Downloading thinc-8.3.2-cp310-cp310-macosx_11_0_arm64.whl.metadata (15 kB)\n",
      "Collecting wasabi<1.2.0,>=0.9.1 (from spacy<4.0,>=3.0->en-use-lg==0.4.6)\n",
      "  Downloading wasabi-1.1.3-py3-none-any.whl.metadata (28 kB)\n",
      "Collecting srsly<3.0.0,>=2.4.3 (from spacy<4.0,>=3.0->en-use-lg==0.4.6)\n",
      "  Downloading srsly-2.4.8-cp310-cp310-macosx_11_0_arm64.whl.metadata (20 kB)\n",
      "Collecting catalogue<2.1.0,>=2.0.6 (from spacy<4.0,>=3.0->en-use-lg==0.4.6)\n",
      "  Downloading catalogue-2.0.10-py3-none-any.whl.metadata (14 kB)\n",
      "Collecting weasel<0.5.0,>=0.1.0 (from spacy<4.0,>=3.0->en-use-lg==0.4.6)\n",
      "  Downloading weasel-0.4.1-py3-none-any.whl.metadata (4.6 kB)\n",
      "Collecting typer<1.0.0,>=0.3.0 (from spacy<4.0,>=3.0->en-use-lg==0.4.6)\n",
      "  Downloading typer-0.12.5-py3-none-any.whl.metadata (15 kB)\n",
      "Requirement already satisfied: tqdm<5.0.0,>=4.38.0 in /Users/jxu/anaconda3/lib/python3.10/site-packages (from spacy<4.0,>=3.0->en-use-lg==0.4.6) (4.66.4)\n",
      "Requirement already satisfied: requests<3.0.0,>=2.13.0 in /Users/jxu/anaconda3/lib/python3.10/site-packages (from spacy<4.0,>=3.0->en-use-lg==0.4.6) (2.32.2)\n",
      "Requirement already satisfied: pydantic!=1.8,!=1.8.1,<3.0.0,>=1.7.4 in /Users/jxu/anaconda3/lib/python3.10/site-packages (from spacy<4.0,>=3.0->en-use-lg==0.4.6) (1.10.9)\n",
      "Requirement already satisfied: jinja2 in /Users/jxu/anaconda3/lib/python3.10/site-packages (from spacy<4.0,>=3.0->en-use-lg==0.4.6) (3.1.4)\n",
      "Requirement already satisfied: setuptools in /Users/jxu/anaconda3/lib/python3.10/site-packages (from spacy<4.0,>=3.0->en-use-lg==0.4.6) (65.6.3)\n",
      "Requirement already satisfied: packaging>=20.0 in /Users/jxu/anaconda3/lib/python3.10/site-packages (from spacy<4.0,>=3.0->en-use-lg==0.4.6) (24.1)\n",
      "Collecting langcodes<4.0.0,>=3.2.0 (from spacy<4.0,>=3.0->en-use-lg==0.4.6)\n",
      "  Downloading langcodes-3.4.1-py3-none-any.whl.metadata (29 kB)\n",
      "Requirement already satisfied: numpy>=1.19.0 in /Users/jxu/anaconda3/lib/python3.10/site-packages (from spacy<4.0,>=3.0->en-use-lg==0.4.6) (1.26.4)\n",
      "Requirement already satisfied: tensorflow<3.0.0,>=2.4.0 in /Users/jxu/anaconda3/lib/python3.10/site-packages (from spacy-universal-sentence-encoder>=0.4.6->en-use-lg==0.4.6) (2.13.0rc1)\n",
      "Collecting tensorflow-hub (from spacy-universal-sentence-encoder>=0.4.6->en-use-lg==0.4.6)\n",
      "  Downloading tensorflow_hub-0.16.1-py2.py3-none-any.whl.metadata (1.3 kB)\n",
      "Collecting language-data>=1.2 (from langcodes<4.0.0,>=3.2.0->spacy<4.0,>=3.0->en-use-lg==0.4.6)\n",
      "  Downloading language_data-1.2.0-py3-none-any.whl.metadata (4.3 kB)\n",
      "Requirement already satisfied: typing-extensions>=4.2.0 in /Users/jxu/anaconda3/lib/python3.10/site-packages (from pydantic!=1.8,!=1.8.1,<3.0.0,>=1.7.4->spacy<4.0,>=3.0->en-use-lg==0.4.6) (4.11.0)\n",
      "Requirement already satisfied: charset-normalizer<4,>=2 in /Users/jxu/anaconda3/lib/python3.10/site-packages (from requests<3.0.0,>=2.13.0->spacy<4.0,>=3.0->en-use-lg==0.4.6) (2.0.4)\n",
      "Requirement already satisfied: idna<4,>=2.5 in /Users/jxu/anaconda3/lib/python3.10/site-packages (from requests<3.0.0,>=2.13.0->spacy<4.0,>=3.0->en-use-lg==0.4.6) (3.7)\n",
      "Requirement already satisfied: urllib3<3,>=1.21.1 in /Users/jxu/anaconda3/lib/python3.10/site-packages (from requests<3.0.0,>=2.13.0->spacy<4.0,>=3.0->en-use-lg==0.4.6) (1.26.19)\n",
      "Requirement already satisfied: certifi>=2017.4.17 in /Users/jxu/anaconda3/lib/python3.10/site-packages (from requests<3.0.0,>=2.13.0->spacy<4.0,>=3.0->en-use-lg==0.4.6) (2024.7.4)\n",
      "Requirement already satisfied: tensorflow-macos==2.13.0-rc1 in /Users/jxu/anaconda3/lib/python3.10/site-packages (from tensorflow<3.0.0,>=2.4.0->spacy-universal-sentence-encoder>=0.4.6->en-use-lg==0.4.6) (2.13.0rc1)\n",
      "Requirement already satisfied: absl-py>=1.0.0 in /Users/jxu/anaconda3/lib/python3.10/site-packages (from tensorflow-macos==2.13.0-rc1->tensorflow<3.0.0,>=2.4.0->spacy-universal-sentence-encoder>=0.4.6->en-use-lg==0.4.6) (1.4.0)\n",
      "Requirement already satisfied: astunparse>=1.6.0 in /Users/jxu/anaconda3/lib/python3.10/site-packages (from tensorflow-macos==2.13.0-rc1->tensorflow<3.0.0,>=2.4.0->spacy-universal-sentence-encoder>=0.4.6->en-use-lg==0.4.6) (1.6.3)\n",
      "Requirement already satisfied: flatbuffers>=23.1.21 in /Users/jxu/anaconda3/lib/python3.10/site-packages (from tensorflow-macos==2.13.0-rc1->tensorflow<3.0.0,>=2.4.0->spacy-universal-sentence-encoder>=0.4.6->en-use-lg==0.4.6) (23.5.26)\n",
      "Requirement already satisfied: gast<=0.4.0,>=0.2.1 in /Users/jxu/anaconda3/lib/python3.10/site-packages (from tensorflow-macos==2.13.0-rc1->tensorflow<3.0.0,>=2.4.0->spacy-universal-sentence-encoder>=0.4.6->en-use-lg==0.4.6) (0.4.0)\n",
      "Requirement already satisfied: google-pasta>=0.1.1 in /Users/jxu/anaconda3/lib/python3.10/site-packages (from tensorflow-macos==2.13.0-rc1->tensorflow<3.0.0,>=2.4.0->spacy-universal-sentence-encoder>=0.4.6->en-use-lg==0.4.6) (0.2.0)\n",
      "Collecting h5py>=2.9.0 (from tensorflow-macos==2.13.0-rc1->tensorflow<3.0.0,>=2.4.0->spacy-universal-sentence-encoder>=0.4.6->en-use-lg==0.4.6)\n",
      "  Downloading h5py-3.12.1-cp310-cp310-macosx_11_0_arm64.whl.metadata (2.5 kB)\n",
      "Requirement already satisfied: libclang>=13.0.0 in /Users/jxu/anaconda3/lib/python3.10/site-packages (from tensorflow-macos==2.13.0-rc1->tensorflow<3.0.0,>=2.4.0->spacy-universal-sentence-encoder>=0.4.6->en-use-lg==0.4.6) (16.0.0)\n",
      "Requirement already satisfied: opt-einsum>=2.3.2 in /Users/jxu/anaconda3/lib/python3.10/site-packages (from tensorflow-macos==2.13.0-rc1->tensorflow<3.0.0,>=2.4.0->spacy-universal-sentence-encoder>=0.4.6->en-use-lg==0.4.6) (3.3.0)\n",
      "Requirement already satisfied: protobuf!=4.21.0,!=4.21.1,!=4.21.2,!=4.21.3,!=4.21.4,!=4.21.5,<5.0.0dev,>=3.20.3 in /Users/jxu/anaconda3/lib/python3.10/site-packages (from tensorflow-macos==2.13.0-rc1->tensorflow<3.0.0,>=2.4.0->spacy-universal-sentence-encoder>=0.4.6->en-use-lg==0.4.6) (3.20.3)\n",
      "Requirement already satisfied: six>=1.12.0 in /Users/jxu/anaconda3/lib/python3.10/site-packages (from tensorflow-macos==2.13.0-rc1->tensorflow<3.0.0,>=2.4.0->spacy-universal-sentence-encoder>=0.4.6->en-use-lg==0.4.6) (1.16.0)\n",
      "Requirement already satisfied: termcolor>=1.1.0 in /Users/jxu/anaconda3/lib/python3.10/site-packages (from tensorflow-macos==2.13.0-rc1->tensorflow<3.0.0,>=2.4.0->spacy-universal-sentence-encoder>=0.4.6->en-use-lg==0.4.6) (2.3.0)\n",
      "Collecting wrapt>=1.11.0 (from tensorflow-macos==2.13.0-rc1->tensorflow<3.0.0,>=2.4.0->spacy-universal-sentence-encoder>=0.4.6->en-use-lg==0.4.6)\n",
      "  Downloading wrapt-1.16.0-cp310-cp310-macosx_11_0_arm64.whl.metadata (6.6 kB)\n",
      "Requirement already satisfied: grpcio<2.0,>=1.24.3 in /Users/jxu/anaconda3/lib/python3.10/site-packages (from tensorflow-macos==2.13.0-rc1->tensorflow<3.0.0,>=2.4.0->spacy-universal-sentence-encoder>=0.4.6->en-use-lg==0.4.6) (1.49.1)\n",
      "Requirement already satisfied: tensorboard<2.14,>=2.13 in /Users/jxu/anaconda3/lib/python3.10/site-packages (from tensorflow-macos==2.13.0-rc1->tensorflow<3.0.0,>=2.4.0->spacy-universal-sentence-encoder>=0.4.6->en-use-lg==0.4.6) (2.13.0)\n",
      "Requirement already satisfied: tensorflow-estimator<2.14,>=2.13.0rc0 in /Users/jxu/anaconda3/lib/python3.10/site-packages (from tensorflow-macos==2.13.0-rc1->tensorflow<3.0.0,>=2.4.0->spacy-universal-sentence-encoder>=0.4.6->en-use-lg==0.4.6) (2.13.0rc0)\n",
      "Requirement already satisfied: keras<2.14,>=2.13.1rc0 in /Users/jxu/anaconda3/lib/python3.10/site-packages (from tensorflow-macos==2.13.0-rc1->tensorflow<3.0.0,>=2.4.0->spacy-universal-sentence-encoder>=0.4.6->en-use-lg==0.4.6) (2.13.1rc0)\n",
      "Collecting blis<1.1.0,>=1.0.0 (from thinc<8.4.0,>=8.3.0->spacy<4.0,>=3.0->en-use-lg==0.4.6)\n",
      "  Downloading blis-1.0.1-cp310-cp310-macosx_11_0_arm64.whl.metadata (7.6 kB)\n",
      "Collecting confection<1.0.0,>=0.0.1 (from thinc<8.4.0,>=8.3.0->spacy<4.0,>=3.0->en-use-lg==0.4.6)\n",
      "  Downloading confection-0.1.5-py3-none-any.whl.metadata (19 kB)\n",
      "Collecting numpy>=1.19.0 (from spacy<4.0,>=3.0->en-use-lg==0.4.6)\n",
      "  Downloading numpy-2.0.2-cp310-cp310-macosx_11_0_arm64.whl.metadata (114 kB)\n",
      "\u001b[2K     \u001b[90m━━━━━━━━━━━━━━━━━━━━━━━━━━━━━━━━━━━━━━━\u001b[0m \u001b[32m114.5/114.5 kB\u001b[0m \u001b[31m3.8 MB/s\u001b[0m eta \u001b[36m0:00:00\u001b[0m\n",
      "\u001b[?25hRequirement already satisfied: click>=8.0.0 in /Users/jxu/anaconda3/lib/python3.10/site-packages (from typer<1.0.0,>=0.3.0->spacy<4.0,>=3.0->en-use-lg==0.4.6) (8.1.7)\n",
      "Collecting shellingham>=1.3.0 (from typer<1.0.0,>=0.3.0->spacy<4.0,>=3.0->en-use-lg==0.4.6)\n",
      "  Downloading shellingham-1.5.4-py2.py3-none-any.whl.metadata (3.5 kB)\n",
      "Requirement already satisfied: rich>=10.11.0 in /Users/jxu/anaconda3/lib/python3.10/site-packages (from typer<1.0.0,>=0.3.0->spacy<4.0,>=3.0->en-use-lg==0.4.6) (13.4.2)\n",
      "Collecting cloudpathlib<1.0.0,>=0.7.0 (from weasel<0.5.0,>=0.1.0->spacy<4.0,>=3.0->en-use-lg==0.4.6)\n",
      "  Downloading cloudpathlib-0.20.0-py3-none-any.whl.metadata (14 kB)\n",
      "Collecting smart-open<8.0.0,>=5.2.1 (from weasel<0.5.0,>=0.1.0->spacy<4.0,>=3.0->en-use-lg==0.4.6)\n",
      "  Downloading smart_open-7.0.5-py3-none-any.whl.metadata (24 kB)\n",
      "Requirement already satisfied: MarkupSafe>=2.0 in /Users/jxu/anaconda3/lib/python3.10/site-packages (from jinja2->spacy<4.0,>=3.0->en-use-lg==0.4.6) (2.1.3)\n",
      "Collecting tf-keras>=2.14.1 (from tensorflow-hub->spacy-universal-sentence-encoder>=0.4.6->en-use-lg==0.4.6)\n",
      "  Downloading tf_keras-2.17.0-py3-none-any.whl.metadata (1.6 kB)\n",
      "Collecting marisa-trie>=0.7.7 (from language-data>=1.2->langcodes<4.0.0,>=3.2.0->spacy<4.0,>=3.0->en-use-lg==0.4.6)\n",
      "  Downloading marisa_trie-1.2.1-cp310-cp310-macosx_11_0_arm64.whl.metadata (9.0 kB)\n",
      "Requirement already satisfied: markdown-it-py>=2.2.0 in /Users/jxu/anaconda3/lib/python3.10/site-packages (from rich>=10.11.0->typer<1.0.0,>=0.3.0->spacy<4.0,>=3.0->en-use-lg==0.4.6) (3.0.0)\n",
      "Requirement already satisfied: pygments<3.0.0,>=2.13.0 in /Users/jxu/anaconda3/lib/python3.10/site-packages (from rich>=10.11.0->typer<1.0.0,>=0.3.0->spacy<4.0,>=3.0->en-use-lg==0.4.6) (2.15.1)\n",
      "Collecting tensorflow<3.0.0,>=2.4.0 (from spacy-universal-sentence-encoder>=0.4.6->en-use-lg==0.4.6)\n",
      "  Downloading tensorflow-2.17.0-cp310-cp310-macosx_12_0_arm64.whl.metadata (4.1 kB)\n",
      "Collecting flatbuffers>=23.1.21 (from tensorflow-macos==2.13.0-rc1->tensorflow<3.0.0,>=2.4.0->spacy-universal-sentence-encoder>=0.4.6->en-use-lg==0.4.6)\n",
      "  Downloading flatbuffers-24.3.25-py2.py3-none-any.whl.metadata (850 bytes)\n",
      "Collecting ml-dtypes<0.5.0,>=0.3.1 (from tensorflow<3.0.0,>=2.4.0->spacy-universal-sentence-encoder>=0.4.6->en-use-lg==0.4.6)\n",
      "  Downloading ml_dtypes-0.4.1-cp310-cp310-macosx_10_9_universal2.whl.metadata (20 kB)\n",
      "INFO: pip is looking at multiple versions of tensorflow to determine which version is compatible with other requirements. This could take a while.\n",
      "Collecting tf-keras>=2.14.1 (from tensorflow-hub->spacy-universal-sentence-encoder>=0.4.6->en-use-lg==0.4.6)\n",
      "  Downloading tf_keras-2.16.0-py3-none-any.whl.metadata (1.6 kB)\n",
      "Requirement already satisfied: google-auth<3,>=1.6.3 in /Users/jxu/anaconda3/lib/python3.10/site-packages (from tensorboard<2.14,>=2.13->tensorflow-macos==2.13.0-rc1->tensorflow<3.0.0,>=2.4.0->spacy-universal-sentence-encoder>=0.4.6->en-use-lg==0.4.6) (2.19.1)\n",
      "Requirement already satisfied: google-auth-oauthlib<1.1,>=0.5 in /Users/jxu/anaconda3/lib/python3.10/site-packages (from tensorboard<2.14,>=2.13->tensorflow-macos==2.13.0-rc1->tensorflow<3.0.0,>=2.4.0->spacy-universal-sentence-encoder>=0.4.6->en-use-lg==0.4.6) (1.0.0)\n",
      "Collecting markdown>=2.6.8 (from tensorboard<2.14,>=2.13->tensorflow-macos==2.13.0-rc1->tensorflow<3.0.0,>=2.4.0->spacy-universal-sentence-encoder>=0.4.6->en-use-lg==0.4.6)\n",
      "  Downloading Markdown-3.7-py3-none-any.whl.metadata (7.0 kB)\n",
      "Requirement already satisfied: tensorboard-data-server<0.8.0,>=0.7.0 in /Users/jxu/anaconda3/lib/python3.10/site-packages (from tensorboard<2.14,>=2.13->tensorflow-macos==2.13.0-rc1->tensorflow<3.0.0,>=2.4.0->spacy-universal-sentence-encoder>=0.4.6->en-use-lg==0.4.6) (0.7.0)\n",
      "Requirement already satisfied: werkzeug>=1.0.1 in /Users/jxu/anaconda3/lib/python3.10/site-packages (from tensorboard<2.14,>=2.13->tensorflow-macos==2.13.0-rc1->tensorflow<3.0.0,>=2.4.0->spacy-universal-sentence-encoder>=0.4.6->en-use-lg==0.4.6) (3.0.3)\n",
      "Requirement already satisfied: wheel>=0.26 in /Users/jxu/anaconda3/lib/python3.10/site-packages (from tensorboard<2.14,>=2.13->tensorflow-macos==2.13.0-rc1->tensorflow<3.0.0,>=2.4.0->spacy-universal-sentence-encoder>=0.4.6->en-use-lg==0.4.6) (0.38.4)\n",
      "Collecting tensorflow<3.0.0,>=2.4.0 (from spacy-universal-sentence-encoder>=0.4.6->en-use-lg==0.4.6)\n",
      "  Downloading tensorflow-2.16.2-cp310-cp310-macosx_12_0_arm64.whl.metadata (4.1 kB)\n",
      "Collecting ml-dtypes~=0.3.1 (from tensorflow<3.0.0,>=2.4.0->spacy-universal-sentence-encoder>=0.4.6->en-use-lg==0.4.6)\n",
      "  Downloading ml_dtypes-0.3.2-cp310-cp310-macosx_10_9_universal2.whl.metadata (20 kB)\n",
      "Collecting tensorflow<3.0.0,>=2.4.0 (from spacy-universal-sentence-encoder>=0.4.6->en-use-lg==0.4.6)\n",
      "  Downloading tensorflow-2.16.1-cp310-cp310-macosx_12_0_arm64.whl.metadata (4.1 kB)\n",
      "Collecting tf-keras>=2.14.1 (from tensorflow-hub->spacy-universal-sentence-encoder>=0.4.6->en-use-lg==0.4.6)\n",
      "  Downloading tf_keras-2.15.1-py3-none-any.whl.metadata (1.7 kB)\n",
      "Collecting tensorflow<3.0.0,>=2.4.0 (from spacy-universal-sentence-encoder>=0.4.6->en-use-lg==0.4.6)\n",
      "  Downloading tensorflow-2.15.1-cp310-cp310-macosx_12_0_arm64.whl.metadata (4.0 kB)\n",
      "  Downloading tensorflow-2.15.0-cp310-cp310-macosx_12_0_arm64.whl.metadata (3.6 kB)\n",
      "Collecting tensorflow-macos==2.15.0 (from tensorflow<3.0.0,>=2.4.0->spacy-universal-sentence-encoder>=0.4.6->en-use-lg==0.4.6)\n",
      "  Downloading tensorflow_macos-2.15.0-cp310-cp310-macosx_12_0_arm64.whl.metadata (4.2 kB)\n",
      "Collecting ml-dtypes~=0.2.0 (from tensorflow-macos==2.15.0->tensorflow<3.0.0,>=2.4.0->spacy-universal-sentence-encoder>=0.4.6->en-use-lg==0.4.6)\n",
      "  Downloading ml_dtypes-0.2.0-cp310-cp310-macosx_10_9_universal2.whl.metadata (20 kB)\n",
      "INFO: pip is looking at multiple versions of tensorflow-macos to determine which version is compatible with other requirements. This could take a while.\n",
      "Collecting tf-keras>=2.14.1 (from tensorflow-hub->spacy-universal-sentence-encoder>=0.4.6->en-use-lg==0.4.6)\n",
      "  Downloading tf_keras-2.15.0-py3-none-any.whl.metadata (1.6 kB)\n",
      "Requirement already satisfied: mdurl~=0.1 in /Users/jxu/anaconda3/lib/python3.10/site-packages (from markdown-it-py>=2.2.0->rich>=10.11.0->typer<1.0.0,>=0.3.0->spacy<4.0,>=3.0->en-use-lg==0.4.6) (0.1.2)\n",
      "Requirement already satisfied: cachetools<6.0,>=2.0.0 in /Users/jxu/anaconda3/lib/python3.10/site-packages (from google-auth<3,>=1.6.3->tensorboard<2.14,>=2.13->tensorflow-macos==2.13.0-rc1->tensorflow<3.0.0,>=2.4.0->spacy-universal-sentence-encoder>=0.4.6->en-use-lg==0.4.6) (5.3.1)\n",
      "Collecting pyasn1-modules>=0.2.1 (from google-auth<3,>=1.6.3->tensorboard<2.14,>=2.13->tensorflow-macos==2.13.0-rc1->tensorflow<3.0.0,>=2.4.0->spacy-universal-sentence-encoder>=0.4.6->en-use-lg==0.4.6)\n",
      "  Downloading pyasn1_modules-0.4.1-py3-none-any.whl.metadata (3.5 kB)\n",
      "Requirement already satisfied: rsa<5,>=3.1.4 in /Users/jxu/anaconda3/lib/python3.10/site-packages (from google-auth<3,>=1.6.3->tensorboard<2.14,>=2.13->tensorflow-macos==2.13.0-rc1->tensorflow<3.0.0,>=2.4.0->spacy-universal-sentence-encoder>=0.4.6->en-use-lg==0.4.6) (4.9)\n",
      "Requirement already satisfied: requests-oauthlib>=0.7.0 in /Users/jxu/anaconda3/lib/python3.10/site-packages (from google-auth-oauthlib<1.1,>=0.5->tensorboard<2.14,>=2.13->tensorflow-macos==2.13.0-rc1->tensorflow<3.0.0,>=2.4.0->spacy-universal-sentence-encoder>=0.4.6->en-use-lg==0.4.6) (1.3.1)\n",
      "Collecting pyasn1<0.7.0,>=0.4.6 (from pyasn1-modules>=0.2.1->google-auth<3,>=1.6.3->tensorboard<2.14,>=2.13->tensorflow-macos==2.13.0-rc1->tensorflow<3.0.0,>=2.4.0->spacy-universal-sentence-encoder>=0.4.6->en-use-lg==0.4.6)\n",
      "  Downloading pyasn1-0.6.1-py3-none-any.whl.metadata (8.4 kB)\n",
      "Requirement already satisfied: oauthlib>=3.0.0 in /Users/jxu/anaconda3/lib/python3.10/site-packages (from requests-oauthlib>=0.7.0->google-auth-oauthlib<1.1,>=0.5->tensorboard<2.14,>=2.13->tensorflow-macos==2.13.0-rc1->tensorflow<3.0.0,>=2.4.0->spacy-universal-sentence-encoder>=0.4.6->en-use-lg==0.4.6) (3.2.2)\n",
      "Downloading spacy-3.8.2-cp310-cp310-macosx_11_0_arm64.whl (6.3 MB)\n",
      "\u001b[2K   \u001b[90m━━━━━━━━━━━━━━━━━━━━━━━━━━━━━━━━━━━━━━━━\u001b[0m \u001b[32m6.3/6.3 MB\u001b[0m \u001b[31m28.1 MB/s\u001b[0m eta \u001b[36m0:00:00\u001b[0ma \u001b[36m0:00:01\u001b[0m\n",
      "\u001b[?25hDownloading catalogue-2.0.10-py3-none-any.whl (17 kB)\n",
      "Downloading cymem-2.0.8-cp310-cp310-macosx_11_0_arm64.whl (41 kB)\n",
      "\u001b[2K   \u001b[90m━━━━━━━━━━━━━━━━━━━━━━━━━━━━━━━━━━━━━━━━\u001b[0m \u001b[32m41.0/41.0 kB\u001b[0m \u001b[31m4.3 MB/s\u001b[0m eta \u001b[36m0:00:00\u001b[0m\n",
      "\u001b[?25hDownloading langcodes-3.4.1-py3-none-any.whl (182 kB)\n",
      "\u001b[2K   \u001b[90m━━━━━━━━━━━━━━━━━━━━━━━━━━━━━━━━━━━━━━━━\u001b[0m \u001b[32m182.4/182.4 kB\u001b[0m \u001b[31m3.3 MB/s\u001b[0m eta \u001b[36m0:00:00\u001b[0ma \u001b[36m0:00:01\u001b[0m\n",
      "\u001b[?25hDownloading murmurhash-1.0.10-cp310-cp310-macosx_11_0_arm64.whl (26 kB)\n",
      "Downloading preshed-3.0.9-cp310-cp310-macosx_11_0_arm64.whl (127 kB)\n",
      "\u001b[2K   \u001b[90m━━━━━━━━━━━━━━━━━━━━━━━━━━━━━━━━━━━━━━━━\u001b[0m \u001b[32m127.8/127.8 kB\u001b[0m \u001b[31m10.5 MB/s\u001b[0m eta \u001b[36m0:00:00\u001b[0m\n",
      "\u001b[?25hDownloading spacy_legacy-3.0.12-py2.py3-none-any.whl (29 kB)\n",
      "Downloading spacy_loggers-1.0.5-py3-none-any.whl (22 kB)\n",
      "Downloading srsly-2.4.8-cp310-cp310-macosx_11_0_arm64.whl (491 kB)\n",
      "\u001b[2K   \u001b[90m━━━━━━━━━━━━━━━━━━━━━━━━━━━━━━━━━━━━━━━━\u001b[0m \u001b[32m491.2/491.2 kB\u001b[0m \u001b[31m20.4 MB/s\u001b[0m eta \u001b[36m0:00:00\u001b[0m\n",
      "\u001b[?25hDownloading thinc-8.3.2-cp310-cp310-macosx_11_0_arm64.whl (779 kB)\n",
      "\u001b[2K   \u001b[90m━━━━━━━━━━━━━━━━━━━━━━━━━━━━━━━━━━━━━━━━\u001b[0m \u001b[32m779.4/779.4 kB\u001b[0m \u001b[31m49.4 MB/s\u001b[0m eta \u001b[36m0:00:00\u001b[0m\n",
      "\u001b[?25hDownloading numpy-2.0.2-cp310-cp310-macosx_11_0_arm64.whl (13.7 MB)\n",
      "\u001b[2K   \u001b[90m━━━━━━━━━━━━━━━━━━━━━━━━━━━━━━━━━━━━━━━━\u001b[0m \u001b[32m13.7/13.7 MB\u001b[0m \u001b[31m29.9 MB/s\u001b[0m eta \u001b[36m0:00:00\u001b[0m00:01\u001b[0m00:01\u001b[0m\n",
      "\u001b[?25hDownloading typer-0.12.5-py3-none-any.whl (47 kB)\n",
      "\u001b[2K   \u001b[90m━━━━━━━━━━━━━━━━━━━━━━━━━━━━━━━━━━━━━━━━\u001b[0m \u001b[32m47.3/47.3 kB\u001b[0m \u001b[31m5.1 MB/s\u001b[0m eta \u001b[36m0:00:00\u001b[0m\n",
      "\u001b[?25hDownloading wasabi-1.1.3-py3-none-any.whl (27 kB)\n",
      "Downloading weasel-0.4.1-py3-none-any.whl (50 kB)\n",
      "\u001b[2K   \u001b[90m━━━━━━━━━━━━━━━━━━━━━━━━━━━━━━━━━━━━━━━━\u001b[0m \u001b[32m50.3/50.3 kB\u001b[0m \u001b[31m7.3 MB/s\u001b[0m eta \u001b[36m0:00:00\u001b[0m\n",
      "\u001b[?25hDownloading tensorflow_hub-0.16.1-py2.py3-none-any.whl (30 kB)\n",
      "Downloading blis-1.0.1-cp310-cp310-macosx_11_0_arm64.whl (1.1 MB)\n",
      "\u001b[2K   \u001b[90m━━━━━━━━━━━━━━━━━━━━━━━━━━━━━━━━━━━━━━━━\u001b[0m \u001b[32m1.1/1.1 MB\u001b[0m \u001b[31m39.9 MB/s\u001b[0m eta \u001b[36m0:00:00\u001b[0m\n",
      "\u001b[?25hDownloading cloudpathlib-0.20.0-py3-none-any.whl (52 kB)\n",
      "\u001b[2K   \u001b[90m━━━━━━━━━━━━━━━━━━━━━━━━━━━━━━━━━━━━━━━━\u001b[0m \u001b[32m52.5/52.5 kB\u001b[0m \u001b[31m5.2 MB/s\u001b[0m eta \u001b[36m0:00:00\u001b[0m\n",
      "\u001b[?25hDownloading confection-0.1.5-py3-none-any.whl (35 kB)\n",
      "Downloading language_data-1.2.0-py3-none-any.whl (5.4 MB)\n",
      "\u001b[2K   \u001b[90m━━━━━━━━━━━━━━━━━━━━━━━━━━━━━━━━━━━━━━━━\u001b[0m \u001b[32m5.4/5.4 MB\u001b[0m \u001b[31m58.3 MB/s\u001b[0m eta \u001b[36m0:00:00\u001b[0ma \u001b[36m0:00:01\u001b[0m\n",
      "\u001b[?25hDownloading shellingham-1.5.4-py2.py3-none-any.whl (9.8 kB)\n",
      "Downloading smart_open-7.0.5-py3-none-any.whl (61 kB)\n",
      "\u001b[2K   \u001b[90m━━━━━━━━━━━━━━━━━━━━━━━━━━━━━━━━━━━━━━━━\u001b[0m \u001b[32m61.4/61.4 kB\u001b[0m \u001b[31m5.1 MB/s\u001b[0m eta \u001b[36m0:00:00\u001b[0m\n",
      "\u001b[?25hDownloading tf_keras-2.15.0-py3-none-any.whl (1.7 MB)\n",
      "\u001b[2K   \u001b[90m━━━━━━━━━━━━━━━━━━━━━━━━━━━━━━━━━━━━━━━━\u001b[0m \u001b[32m1.7/1.7 MB\u001b[0m \u001b[31m55.1 MB/s\u001b[0m eta \u001b[36m0:00:00\u001b[0m\n",
      "\u001b[?25hDownloading h5py-3.12.1-cp310-cp310-macosx_11_0_arm64.whl (2.9 MB)\n",
      "\u001b[2K   \u001b[90m━━━━━━━━━━━━━━━━━━━━━━━━━━━━━━━━━━━━━━━━\u001b[0m \u001b[32m2.9/2.9 MB\u001b[0m \u001b[31m53.9 MB/s\u001b[0m eta \u001b[36m0:00:00\u001b[0ma \u001b[36m0:00:01\u001b[0m\n",
      "\u001b[?25hDownloading marisa_trie-1.2.1-cp310-cp310-macosx_11_0_arm64.whl (174 kB)\n",
      "\u001b[2K   \u001b[90m━━━━━━━━━━━━━━━━━━━━━━━━━━━━━━━━━━━━━━━━\u001b[0m \u001b[32m174.7/174.7 kB\u001b[0m \u001b[31m16.9 MB/s\u001b[0m eta \u001b[36m0:00:00\u001b[0m\n",
      "\u001b[?25hDownloading wrapt-1.16.0-cp310-cp310-macosx_11_0_arm64.whl (38 kB)\n",
      "Downloading Markdown-3.7-py3-none-any.whl (106 kB)\n",
      "\u001b[2K   \u001b[90m━━━━━━━━━━━━━━━━━━━━━━━━━━━━━━━━━━━━━━━━\u001b[0m \u001b[32m106.3/106.3 kB\u001b[0m \u001b[31m13.0 MB/s\u001b[0m eta \u001b[36m0:00:00\u001b[0m\n",
      "\u001b[?25hDownloading pyasn1_modules-0.4.1-py3-none-any.whl (181 kB)\n",
      "\u001b[2K   \u001b[90m━━━━━━━━━━━━━━━━━━━━━━━━━━━━━━━━━━━━━━━━\u001b[0m \u001b[32m181.5/181.5 kB\u001b[0m \u001b[31m18.3 MB/s\u001b[0m eta \u001b[36m0:00:00\u001b[0m\n",
      "\u001b[?25hDownloading pyasn1-0.6.1-py3-none-any.whl (83 kB)\n",
      "\u001b[2K   \u001b[90m━━━━━━━━━━━━━━━━━━━━━━━━━━━━━━━━━━━━━━━━\u001b[0m \u001b[32m83.1/83.1 kB\u001b[0m \u001b[31m7.6 MB/s\u001b[0m eta \u001b[36m0:00:00\u001b[0m\n",
      "\u001b[?25hBuilding wheels for collected packages: en-use-lg, spacy-universal-sentence-encoder\n",
      "  Building wheel for en-use-lg (setup.py) ... \u001b[?25ldone\n",
      "\u001b[?25h  Created wheel for en-use-lg: filename=en_use_lg-0.4.6-py3-none-any.whl size=25464 sha256=bd0e76a935b1f2ab33c62b14a85b37665e5038aa89973981a45d551096671151\n",
      "  Stored in directory: /Users/jxu/Library/Caches/pip/wheels/ed/e3/8b/e010282a9fec0667deeb9c6464ef3767e0faf36b8caf659928\n",
      "  Building wheel for spacy-universal-sentence-encoder (setup.py) ... \u001b[?25ldone\n",
      "\u001b[?25h  Created wheel for spacy-universal-sentence-encoder: filename=spacy_universal_sentence_encoder-0.4.6-py3-none-any.whl size=16543 sha256=8a3b681e06858e074866fd7a5b5cb05f2071b37f139419f5081a76e9245531dc\n",
      "  Stored in directory: /Users/jxu/Library/Caches/pip/wheels/65/75/56/7fd780bb5e1f9c74625ccda3c03a1abeb27a2ade5a8946db33\n",
      "Successfully built en-use-lg spacy-universal-sentence-encoder\n",
      "Installing collected packages: cymem, wrapt, wasabi, tf-keras, spacy-loggers, spacy-legacy, shellingham, pyasn1, numpy, murmurhash, markdown, marisa-trie, cloudpathlib, catalogue, tensorflow-hub, srsly, smart-open, pyasn1-modules, preshed, language-data, h5py, blis, typer, langcodes, confection, weasel, thinc, spacy, spacy-universal-sentence-encoder, en-use-lg\n",
      "  Attempting uninstall: numpy\n",
      "    Found existing installation: numpy 1.26.4\n",
      "    Uninstalling numpy-1.26.4:\n",
      "      Successfully uninstalled numpy-1.26.4\n",
      "\u001b[31mERROR: pip's dependency resolver does not currently take into account all the packages that are installed. This behaviour is the source of the following dependency conflicts.\n",
      "alpaca-trade-api 3.0.0 requires msgpack==1.0.3, which is not installed.\n",
      "elegantrl 0.3.6 requires torch, which is not installed.\n",
      "exchange-calendars 4.2.8 requires toolz, which is not installed.\n",
      "jqdatasdk 1.8.11 requires msgpack>=0.4.7, which is not installed.\n",
      "jqdatasdk 1.8.11 requires SQLAlchemy>=1.2.8, which is not installed.\n",
      "netwulf 0.1.5 requires networkx>=2.0, which is not installed.\n",
      "pandas-datareader 0.10.0 requires lxml, which is not installed.\n",
      "pyfolio 0.9.2 requires seaborn>=0.7.1, which is not installed.\n",
      "ray 2.5.0 requires msgpack<2.0.0,>=1.0.0, which is not installed.\n",
      "stable-baselines3 2.0.0a13 requires torch>=1.11, which is not installed.\n",
      "wrds 3.1.6 requires sqlalchemy<2, which is not installed.\n",
      "yfinance 0.2.20 requires appdirs>=1.4.4, which is not installed.\n",
      "yfinance 0.2.20 requires lxml>=4.9.1, which is not installed.\n",
      "alpaca-trade-api 3.0.0 requires PyYAML==6.0, but you have pyyaml 6.0.1 which is incompatible.\n",
      "contourpy 1.2.0 requires numpy<2.0,>=1.20, but you have numpy 2.0.2 which is incompatible.\n",
      "pandas 2.1.4 requires numpy<2,>=1.22.4; python_version < \"3.11\", but you have numpy 2.0.2 which is incompatible.\n",
      "pycaret 3.3.1 requires matplotlib<3.8.0, but you have matplotlib 3.8.4 which is incompatible.\n",
      "pycaret 3.3.1 requires numpy<1.27,>=1.21, but you have numpy 2.0.2 which is incompatible.\n",
      "pyportfolioopt 1.5.5 requires numpy<2.0.0,>=1.22.4, but you have numpy 2.0.2 which is incompatible.\n",
      "scipy 1.11.4 requires numpy<1.28.0,>=1.21.6, but you have numpy 2.0.2 which is incompatible.\n",
      "sktime 0.26.0 requires numpy<1.27,>=1.21, but you have numpy 2.0.2 which is incompatible.\u001b[0m\u001b[31m\n",
      "\u001b[0mSuccessfully installed blis-1.0.1 catalogue-2.0.10 cloudpathlib-0.20.0 confection-0.1.5 cymem-2.0.8 en-use-lg-0.4.6 h5py-3.12.1 langcodes-3.4.1 language-data-1.2.0 marisa-trie-1.2.1 markdown-3.7 murmurhash-1.0.10 numpy-2.0.2 preshed-3.0.9 pyasn1-0.6.1 pyasn1-modules-0.4.1 shellingham-1.5.4 smart-open-7.0.5 spacy-3.8.2 spacy-legacy-3.0.12 spacy-loggers-1.0.5 spacy-universal-sentence-encoder-0.4.6 srsly-2.4.8 tensorflow-hub-0.16.1 tf-keras-2.15.0 thinc-8.3.2 typer-0.12.5 wasabi-1.1.3 weasel-0.4.1 wrapt-1.16.0\n"
     ]
    }
   ],
   "source": [
    "!pip install https://github.com/MartinoMensio/spacy-universal-sentence-encoder/releases/download/v0.4.6/en_use_lg-0.4.6.tar.gz#en_use_lg-0.4.6"
   ]
  },
  {
   "cell_type": "code",
   "execution_count": 38,
   "metadata": {
    "id": "-UueeCJPkywk"
   },
   "outputs": [],
   "source": [
    "import spacy\n",
    "import spacy_universal_sentence_encoder"
   ]
  },
  {
   "cell_type": "code",
   "execution_count": 39,
   "metadata": {
    "id": "qxjXD8p3UFm_"
   },
   "outputs": [],
   "source": [
    "nlp = spacy.load('en_use_lg')"
   ]
  },
  {
   "cell_type": "code",
   "execution_count": 84,
   "metadata": {
    "id": "1IhsI9qQemt3"
   },
   "outputs": [],
   "source": [
    "def vectorize(genres):\n",
    "    return [nlp(genre).vector for genre in genres]"
   ]
  },
  {
   "cell_type": "code",
   "execution_count": 89,
   "metadata": {
    "colab": {
     "base_uri": "https://localhost:8080/",
     "height": 144
    },
    "id": "U5PC9x0HanYr",
    "outputId": "c4f171cd-3d85-4385-9a0a-6c83e5fa2ec9"
   },
   "outputs": [],
   "source": [
    "working_df = modern_feature_films.copy()"
   ]
  },
  {
   "cell_type": "code",
   "execution_count": 133,
   "metadata": {},
   "outputs": [],
   "source": [
    "import ast\n",
    "\n",
    "working_df['genres'] = working_df['genres'].str.lower()\n",
    "\n",
    "# Split the genres by comma and strip any leading/trailing whitespace\n",
    "working_df['genres'] = working_df['genres'].apply(lambda x: [genre.strip() for genre in x.split(',')] if isinstance(x, str) else x)\n",
    "\n",
    "all_genres = working_df['genres'].explode()\n",
    "\n",
    "unique_genres = all_genres.unique().tolist()\n"
   ]
  },
  {
   "cell_type": "code",
   "execution_count": 134,
   "metadata": {},
   "outputs": [
    {
     "data": {
      "text/plain": [
       "nan"
      ]
     },
     "execution_count": 134,
     "metadata": {},
     "output_type": "execute_result"
    }
   ],
   "source": [
    "unique_genres.pop(19)"
   ]
  },
  {
   "cell_type": "code",
   "execution_count": 135,
   "metadata": {},
   "outputs": [
    {
     "data": {
      "text/plain": [
       "['action',\n",
       " 'science fiction',\n",
       " 'adventure',\n",
       " 'drama',\n",
       " 'crime',\n",
       " 'thriller',\n",
       " 'fantasy',\n",
       " 'comedy',\n",
       " 'romance',\n",
       " 'western',\n",
       " 'mystery',\n",
       " 'war',\n",
       " 'animation',\n",
       " 'family',\n",
       " 'horror',\n",
       " 'music',\n",
       " 'history',\n",
       " 'tv movie',\n",
       " 'documentary']"
      ]
     },
     "execution_count": 135,
     "metadata": {},
     "output_type": "execute_result"
    }
   ],
   "source": [
    "unique_genres"
   ]
  },
  {
   "cell_type": "code",
   "execution_count": 142,
   "metadata": {},
   "outputs": [],
   "source": [
    "non_null_working_df = working_df.dropna(subset=['genres'], inplace=False)"
   ]
  },
  {
   "cell_type": "code",
   "execution_count": 91,
   "metadata": {},
   "outputs": [
    {
     "name": "stdout",
     "output_type": "stream",
     "text": [
      "<class 'pandas.core.frame.DataFrame'>\n",
      "Index: 278705 entries, 0 to 832834\n",
      "Data columns (total 21 columns):\n",
      " #   Column                Non-Null Count   Dtype         \n",
      "---  ------                --------------   -----         \n",
      " 0   Unnamed: 0            278705 non-null  int64         \n",
      " 1   id                    278705 non-null  int64         \n",
      " 2   title                 278705 non-null  object        \n",
      " 3   vote_average          193252 non-null  float64       \n",
      " 4   vote_count            278705 non-null  int64         \n",
      " 5   release_date          278705 non-null  datetime64[ns]\n",
      " 6   revenue               278705 non-null  int64         \n",
      " 7   runtime               278705 non-null  float64       \n",
      " 8   adult                 278705 non-null  bool          \n",
      " 9   budget                278705 non-null  int64         \n",
      " 10  imdb_id               278705 non-null  object        \n",
      " 11  original_language     278705 non-null  object        \n",
      " 12  original_title        278705 non-null  object        \n",
      " 13  overview              268871 non-null  object        \n",
      " 14  popularity            278705 non-null  float64       \n",
      " 15  tagline               77233 non-null   object        \n",
      " 16  genres                278705 non-null  object        \n",
      " 17  production_companies  201134 non-null  object        \n",
      " 18  production_countries  237288 non-null  object        \n",
      " 19  spoken_languages      246966 non-null  object        \n",
      " 20  keywords              131519 non-null  object        \n",
      "dtypes: bool(1), datetime64[ns](1), float64(3), int64(5), object(11)\n",
      "memory usage: 44.9+ MB\n"
     ]
    }
   ],
   "source": [
    "non_null_working_df.info()"
   ]
  },
  {
   "cell_type": "code",
   "execution_count": 146,
   "metadata": {},
   "outputs": [],
   "source": [
    "#non_null_working_df.loc[:, 'genres'] = non_null_working_df['genres'].apply(lambda x: x.split(', ') if isinstance(x, str) else x)"
   ]
  },
  {
   "cell_type": "code",
   "execution_count": 147,
   "metadata": {},
   "outputs": [
    {
     "data": {
      "text/plain": [
       "0                  [action, science fiction, adventure]\n",
       "1                   [adventure, drama, science fiction]\n",
       "2                      [drama, action, crime, thriller]\n",
       "3         [action, adventure, fantasy, science fiction]\n",
       "4                  [science fiction, action, adventure]\n",
       "                              ...                      \n",
       "832783                                  [comedy, drama]\n",
       "832797                                    [documentary]\n",
       "832821                                          [drama]\n",
       "832831                           [documentary, history]\n",
       "832834                                  [drama, comedy]\n",
       "Name: genres, Length: 278705, dtype: object"
      ]
     },
     "execution_count": 147,
     "metadata": {},
     "output_type": "execute_result"
    }
   ],
   "source": [
    "non_null_working_df['genres']"
   ]
  },
  {
   "cell_type": "code",
   "execution_count": 111,
   "metadata": {},
   "outputs": [],
   "source": [
    "# Find the length of the genres list for each movie\n",
    "#working_df['num_genres'] = working_df['genres'].apply(lambda x: len(x) if isinstance(x, list) else 0)\n",
    "\n",
    "#max_genres = working_df['num_genres'].max()\n",
    "#min_genres = working_df['num_genres'].min()"
   ]
  },
  {
   "cell_type": "code",
   "execution_count": 112,
   "metadata": {},
   "outputs": [],
   "source": [
    "min_genres = 1"
   ]
  },
  {
   "cell_type": "code",
   "execution_count": 92,
   "metadata": {},
   "outputs": [
    {
     "name": "stdout",
     "output_type": "stream",
     "text": [
      "Requirement already satisfied: matplotlib in /Users/jxu/anaconda3/lib/python3.10/site-packages (3.8.4)\n",
      "Requirement already satisfied: contourpy>=1.0.1 in /Users/jxu/anaconda3/lib/python3.10/site-packages (from matplotlib) (1.2.0)\n",
      "Requirement already satisfied: cycler>=0.10 in /Users/jxu/anaconda3/lib/python3.10/site-packages (from matplotlib) (0.11.0)\n",
      "Requirement already satisfied: fonttools>=4.22.0 in /Users/jxu/anaconda3/lib/python3.10/site-packages (from matplotlib) (4.51.0)\n",
      "Requirement already satisfied: kiwisolver>=1.3.1 in /Users/jxu/anaconda3/lib/python3.10/site-packages (from matplotlib) (1.4.4)\n",
      "Requirement already satisfied: numpy>=1.21 in /Users/jxu/anaconda3/lib/python3.10/site-packages (from matplotlib) (1.26.4)\n",
      "Requirement already satisfied: packaging>=20.0 in /Users/jxu/anaconda3/lib/python3.10/site-packages (from matplotlib) (24.1)\n",
      "Requirement already satisfied: pillow>=8 in /Users/jxu/anaconda3/lib/python3.10/site-packages (from matplotlib) (10.4.0)\n",
      "Requirement already satisfied: pyparsing>=2.3.1 in /Users/jxu/anaconda3/lib/python3.10/site-packages (from matplotlib) (3.0.9)\n",
      "Requirement already satisfied: python-dateutil>=2.7 in /Users/jxu/anaconda3/lib/python3.10/site-packages (from matplotlib) (2.9.0.post0)\n",
      "Requirement already satisfied: six>=1.5 in /Users/jxu/anaconda3/lib/python3.10/site-packages (from python-dateutil>=2.7->matplotlib) (1.16.0)\n",
      "Note: you may need to restart the kernel to use updated packages.\n"
     ]
    }
   ],
   "source": [
    "pip install matplotlib"
   ]
  },
  {
   "cell_type": "code",
   "execution_count": 51,
   "metadata": {},
   "outputs": [],
   "source": [
    "import tensorflow_hub as hub\n",
    "from sklearn.decomposition import PCA"
   ]
  },
  {
   "cell_type": "code",
   "execution_count": 53,
   "metadata": {},
   "outputs": [],
   "source": [
    "embed = hub.load(\"https://tfhub.dev/google/universal-sentence-encoder/4\")"
   ]
  },
  {
   "cell_type": "code",
   "execution_count": 54,
   "metadata": {},
   "outputs": [],
   "source": [
    "embeddings = embed(unique_genres)\n",
    "\n",
    "#reduce to 1 dimension\n",
    "pca = PCA(n_components=1)\n",
    "mappings = pca.fit_transform(embeddings)\n",
    "\n",
    "# Map genres to their corresponding 1D values\n",
    "vectorized_genres = {genre: value for genre, value in zip(unique_genres, mappings)}"
   ]
  },
  {
   "cell_type": "code",
   "execution_count": 139,
   "metadata": {},
   "outputs": [
    {
     "data": {
      "text/plain": [
       "{'action': array([-0.10550172]),\n",
       " 'science fiction': array([0.11262273]),\n",
       " 'adventure': array([-0.16961193]),\n",
       " 'drama': array([0.17274052]),\n",
       " 'crime': array([-0.0995075]),\n",
       " 'thriller': array([0.5790899]),\n",
       " 'fantasy': array([-0.0173265]),\n",
       " 'comedy': array([0.34058345]),\n",
       " 'romance': array([0.09965853]),\n",
       " 'western': array([-0.53399636]),\n",
       " 'mystery': array([0.14538536]),\n",
       " 'war': array([-0.22306778]),\n",
       " 'animation': array([-0.20076975]),\n",
       " 'family': array([-0.33277005]),\n",
       " 'horror': array([0.44501432]),\n",
       " 'music': array([-0.01332231]),\n",
       " 'history': array([-0.17695217]),\n",
       " 'tv movie': array([0.07989143]),\n",
       " 'documentary': array([-0.10216017])}"
      ]
     },
     "execution_count": 139,
     "metadata": {},
     "output_type": "execute_result"
    }
   ],
   "source": [
    "vectorized_genres"
   ]
  },
  {
   "cell_type": "code",
   "execution_count": 56,
   "metadata": {},
   "outputs": [
    {
     "data": {
      "image/png": "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",
      "text/plain": [
       "<Figure size 1200x600 with 1 Axes>"
      ]
     },
     "metadata": {},
     "output_type": "display_data"
    }
   ],
   "source": [
    "import matplotlib.pyplot as plt\n",
    "\n",
    "# Extracting genres and their corresponding 1D values\n",
    "genres = list(vectorized_genres.keys())\n",
    "values = [value[0] for value in vectorized_genres.values()]  # Flatten the 1D values\n",
    "\n",
    "# Plotting the points\n",
    "plt.figure(figsize=(12, 6))\n",
    "plt.scatter(genres, values, color='blue')\n",
    "plt.title('Genre Mappings')\n",
    "plt.xlabel('Genres')\n",
    "plt.ylabel('Value')\n",
    "plt.xticks(rotation=45, ha='right')  # Rotate genre labels for better visibility\n",
    "plt.grid()\n",
    "plt.tight_layout()  # Adjust layout to make room for rotated labels\n",
    "plt.show()"
   ]
  },
  {
   "cell_type": "code",
   "execution_count": 143,
   "metadata": {},
   "outputs": [],
   "source": [
    "vectorirzed_df = non_null_working_df.copy()"
   ]
  },
  {
   "cell_type": "code",
   "execution_count": 144,
   "metadata": {},
   "outputs": [],
   "source": [
    "vectorirzed_df['genres'] = vectorirzed_df['genres'].apply(lambda genre_list: [vectorized_genres[genre] for genre in genre_list] if isinstance(genre_list, list) else genre_list)"
   ]
  },
  {
   "cell_type": "code",
   "execution_count": 145,
   "metadata": {},
   "outputs": [
    {
     "data": {
      "text/html": [
       "<div>\n",
       "<style scoped>\n",
       "    .dataframe tbody tr th:only-of-type {\n",
       "        vertical-align: middle;\n",
       "    }\n",
       "\n",
       "    .dataframe tbody tr th {\n",
       "        vertical-align: top;\n",
       "    }\n",
       "\n",
       "    .dataframe thead th {\n",
       "        text-align: right;\n",
       "    }\n",
       "</style>\n",
       "<table border=\"1\" class=\"dataframe\">\n",
       "  <thead>\n",
       "    <tr style=\"text-align: right;\">\n",
       "      <th></th>\n",
       "      <th>Unnamed: 0</th>\n",
       "      <th>id</th>\n",
       "      <th>title</th>\n",
       "      <th>vote_average</th>\n",
       "      <th>vote_count</th>\n",
       "      <th>release_date</th>\n",
       "      <th>revenue</th>\n",
       "      <th>runtime</th>\n",
       "      <th>adult</th>\n",
       "      <th>budget</th>\n",
       "      <th>...</th>\n",
       "      <th>original_title</th>\n",
       "      <th>overview</th>\n",
       "      <th>popularity</th>\n",
       "      <th>tagline</th>\n",
       "      <th>genres</th>\n",
       "      <th>production_companies</th>\n",
       "      <th>production_countries</th>\n",
       "      <th>spoken_languages</th>\n",
       "      <th>keywords</th>\n",
       "      <th>num_genres</th>\n",
       "    </tr>\n",
       "  </thead>\n",
       "  <tbody>\n",
       "    <tr>\n",
       "      <th>0</th>\n",
       "      <td>0</td>\n",
       "      <td>27205</td>\n",
       "      <td>Inception</td>\n",
       "      <td>8.364</td>\n",
       "      <td>34495</td>\n",
       "      <td>2010-07-15</td>\n",
       "      <td>825532764</td>\n",
       "      <td>148.0</td>\n",
       "      <td>False</td>\n",
       "      <td>160000000</td>\n",
       "      <td>...</td>\n",
       "      <td>Inception</td>\n",
       "      <td>Cobb, a skilled thief who commits corporate es...</td>\n",
       "      <td>83.952</td>\n",
       "      <td>Your mind is the scene of the crime.</td>\n",
       "      <td>[[-0.1055017234478468], [0.11262273444579632],...</td>\n",
       "      <td>Legendary Pictures, Syncopy, Warner Bros. Pict...</td>\n",
       "      <td>United Kingdom, United States of America</td>\n",
       "      <td>English, French, Japanese, Swahili</td>\n",
       "      <td>rescue, mission, dream, airplane, paris, franc...</td>\n",
       "      <td>0</td>\n",
       "    </tr>\n",
       "    <tr>\n",
       "      <th>1</th>\n",
       "      <td>1</td>\n",
       "      <td>157336</td>\n",
       "      <td>Interstellar</td>\n",
       "      <td>8.417</td>\n",
       "      <td>32571</td>\n",
       "      <td>2014-11-05</td>\n",
       "      <td>701729206</td>\n",
       "      <td>169.0</td>\n",
       "      <td>False</td>\n",
       "      <td>165000000</td>\n",
       "      <td>...</td>\n",
       "      <td>Interstellar</td>\n",
       "      <td>The adventures of a group of explorers who mak...</td>\n",
       "      <td>140.241</td>\n",
       "      <td>Mankind was born on Earth. It was never meant ...</td>\n",
       "      <td>[[-0.1696119336204439], [0.17274051760378853],...</td>\n",
       "      <td>Legendary Pictures, Syncopy, Lynda Obst Produc...</td>\n",
       "      <td>United Kingdom, United States of America</td>\n",
       "      <td>English</td>\n",
       "      <td>rescue, future, spacecraft, race against time,...</td>\n",
       "      <td>0</td>\n",
       "    </tr>\n",
       "    <tr>\n",
       "      <th>2</th>\n",
       "      <td>2</td>\n",
       "      <td>155</td>\n",
       "      <td>The Dark Knight</td>\n",
       "      <td>8.512</td>\n",
       "      <td>30619</td>\n",
       "      <td>2008-07-16</td>\n",
       "      <td>1004558444</td>\n",
       "      <td>152.0</td>\n",
       "      <td>False</td>\n",
       "      <td>185000000</td>\n",
       "      <td>...</td>\n",
       "      <td>The Dark Knight</td>\n",
       "      <td>Batman raises the stakes in his war on crime. ...</td>\n",
       "      <td>130.643</td>\n",
       "      <td>Welcome to a world without rules.</td>\n",
       "      <td>[[0.17274051760378853], [-0.1055017234478468],...</td>\n",
       "      <td>DC Comics, Legendary Pictures, Syncopy, Isobel...</td>\n",
       "      <td>United Kingdom, United States of America</td>\n",
       "      <td>English, Mandarin</td>\n",
       "      <td>joker, sadism, chaos, secret identity, crime f...</td>\n",
       "      <td>0</td>\n",
       "    </tr>\n",
       "    <tr>\n",
       "      <th>3</th>\n",
       "      <td>3</td>\n",
       "      <td>19995</td>\n",
       "      <td>Avatar</td>\n",
       "      <td>7.573</td>\n",
       "      <td>29815</td>\n",
       "      <td>2009-12-15</td>\n",
       "      <td>2923706026</td>\n",
       "      <td>162.0</td>\n",
       "      <td>False</td>\n",
       "      <td>237000000</td>\n",
       "      <td>...</td>\n",
       "      <td>Avatar</td>\n",
       "      <td>In the 22nd century, a paraplegic Marine is di...</td>\n",
       "      <td>79.932</td>\n",
       "      <td>Enter the world of Pandora.</td>\n",
       "      <td>[[-0.1055017234478468], [-0.1696119336204439],...</td>\n",
       "      <td>Dune Entertainment, Lightstorm Entertainment, ...</td>\n",
       "      <td>United States of America, United Kingdom</td>\n",
       "      <td>English, Spanish</td>\n",
       "      <td>future, society, culture clash, space travel, ...</td>\n",
       "      <td>0</td>\n",
       "    </tr>\n",
       "    <tr>\n",
       "      <th>4</th>\n",
       "      <td>4</td>\n",
       "      <td>24428</td>\n",
       "      <td>The Avengers</td>\n",
       "      <td>7.710</td>\n",
       "      <td>29166</td>\n",
       "      <td>2012-04-25</td>\n",
       "      <td>1518815515</td>\n",
       "      <td>143.0</td>\n",
       "      <td>False</td>\n",
       "      <td>220000000</td>\n",
       "      <td>...</td>\n",
       "      <td>The Avengers</td>\n",
       "      <td>When an unexpected enemy emerges and threatens...</td>\n",
       "      <td>98.082</td>\n",
       "      <td>Some assembly required.</td>\n",
       "      <td>[[0.11262273444579632], [-0.1055017234478468],...</td>\n",
       "      <td>Marvel Studios</td>\n",
       "      <td>United States of America</td>\n",
       "      <td>English, Hindi, Russian</td>\n",
       "      <td>new york city, superhero, shield, based on com...</td>\n",
       "      <td>0</td>\n",
       "    </tr>\n",
       "  </tbody>\n",
       "</table>\n",
       "<p>5 rows × 22 columns</p>\n",
       "</div>"
      ],
      "text/plain": [
       "   Unnamed: 0      id            title  vote_average  vote_count release_date  \\\n",
       "0           0   27205        Inception         8.364       34495   2010-07-15   \n",
       "1           1  157336     Interstellar         8.417       32571   2014-11-05   \n",
       "2           2     155  The Dark Knight         8.512       30619   2008-07-16   \n",
       "3           3   19995           Avatar         7.573       29815   2009-12-15   \n",
       "4           4   24428     The Avengers         7.710       29166   2012-04-25   \n",
       "\n",
       "      revenue  runtime  adult     budget  ...   original_title  \\\n",
       "0   825532764    148.0  False  160000000  ...        Inception   \n",
       "1   701729206    169.0  False  165000000  ...     Interstellar   \n",
       "2  1004558444    152.0  False  185000000  ...  The Dark Knight   \n",
       "3  2923706026    162.0  False  237000000  ...           Avatar   \n",
       "4  1518815515    143.0  False  220000000  ...     The Avengers   \n",
       "\n",
       "                                            overview popularity  \\\n",
       "0  Cobb, a skilled thief who commits corporate es...     83.952   \n",
       "1  The adventures of a group of explorers who mak...    140.241   \n",
       "2  Batman raises the stakes in his war on crime. ...    130.643   \n",
       "3  In the 22nd century, a paraplegic Marine is di...     79.932   \n",
       "4  When an unexpected enemy emerges and threatens...     98.082   \n",
       "\n",
       "                                             tagline  \\\n",
       "0               Your mind is the scene of the crime.   \n",
       "1  Mankind was born on Earth. It was never meant ...   \n",
       "2                  Welcome to a world without rules.   \n",
       "3                        Enter the world of Pandora.   \n",
       "4                            Some assembly required.   \n",
       "\n",
       "                                              genres  \\\n",
       "0  [[-0.1055017234478468], [0.11262273444579632],...   \n",
       "1  [[-0.1696119336204439], [0.17274051760378853],...   \n",
       "2  [[0.17274051760378853], [-0.1055017234478468],...   \n",
       "3  [[-0.1055017234478468], [-0.1696119336204439],...   \n",
       "4  [[0.11262273444579632], [-0.1055017234478468],...   \n",
       "\n",
       "                                production_companies  \\\n",
       "0  Legendary Pictures, Syncopy, Warner Bros. Pict...   \n",
       "1  Legendary Pictures, Syncopy, Lynda Obst Produc...   \n",
       "2  DC Comics, Legendary Pictures, Syncopy, Isobel...   \n",
       "3  Dune Entertainment, Lightstorm Entertainment, ...   \n",
       "4                                     Marvel Studios   \n",
       "\n",
       "                       production_countries  \\\n",
       "0  United Kingdom, United States of America   \n",
       "1  United Kingdom, United States of America   \n",
       "2  United Kingdom, United States of America   \n",
       "3  United States of America, United Kingdom   \n",
       "4                  United States of America   \n",
       "\n",
       "                     spoken_languages  \\\n",
       "0  English, French, Japanese, Swahili   \n",
       "1                             English   \n",
       "2                   English, Mandarin   \n",
       "3                    English, Spanish   \n",
       "4             English, Hindi, Russian   \n",
       "\n",
       "                                            keywords num_genres  \n",
       "0  rescue, mission, dream, airplane, paris, franc...          0  \n",
       "1  rescue, future, spacecraft, race against time,...          0  \n",
       "2  joker, sadism, chaos, secret identity, crime f...          0  \n",
       "3  future, society, culture clash, space travel, ...          0  \n",
       "4  new york city, superhero, shield, based on com...          0  \n",
       "\n",
       "[5 rows x 22 columns]"
      ]
     },
     "execution_count": 145,
     "metadata": {},
     "output_type": "execute_result"
    }
   ],
   "source": [
    "vectorirzed_df.head()"
   ]
  },
  {
   "cell_type": "code",
   "execution_count": 132,
   "metadata": {},
   "outputs": [],
   "source": [
    "# Reduce to min-D for every genre vector?\n",
    "# Should we use 2D instead of 1D for the genre mappings?\n",
    "# I need the data from the web scrapping"
   ]
  },
  {
   "cell_type": "code",
   "execution_count": 135,
   "metadata": {},
   "outputs": [],
   "source": [
    "# reduce the dimensionality of each genre vector to min_genres dimensions"
   ]
  },
  {
   "cell_type": "code",
   "execution_count": 137,
   "metadata": {},
   "outputs": [],
   "source": [
    "# plot every movie on min_genres-D space (we should be able to recall the movie as well)"
   ]
  },
  {
   "cell_type": "code",
   "execution_count": 138,
   "metadata": {},
   "outputs": [],
   "source": [
    "# when new movie comes in, we get the genre\n",
    "# plot on graph\n",
    "# BOOM -> get the k nearest movies and return those movies"
   ]
  },
  {
   "cell_type": "code",
   "execution_count": 140,
   "metadata": {},
   "outputs": [
    {
     "name": "stdout",
     "output_type": "stream",
     "text": [
      "Collecting torch\n",
      "  Downloading torch-2.5.0-cp310-none-macosx_11_0_arm64.whl.metadata (28 kB)\n",
      "Requirement already satisfied: filelock in /Users/jxu/anaconda3/lib/python3.10/site-packages (from torch) (3.13.1)\n",
      "Requirement already satisfied: typing-extensions>=4.8.0 in /Users/jxu/anaconda3/lib/python3.10/site-packages (from torch) (4.11.0)\n",
      "Collecting networkx (from torch)\n",
      "  Downloading networkx-3.4.2-py3-none-any.whl.metadata (6.3 kB)\n",
      "Requirement already satisfied: jinja2 in /Users/jxu/anaconda3/lib/python3.10/site-packages (from torch) (3.1.4)\n",
      "Requirement already satisfied: fsspec in /Users/jxu/anaconda3/lib/python3.10/site-packages (from torch) (2023.9.2)\n",
      "Collecting sympy==1.13.1 (from torch)\n",
      "  Downloading sympy-1.13.1-py3-none-any.whl.metadata (12 kB)\n",
      "Collecting mpmath<1.4,>=1.1.0 (from sympy==1.13.1->torch)\n",
      "  Downloading mpmath-1.3.0-py3-none-any.whl.metadata (8.6 kB)\n",
      "Requirement already satisfied: MarkupSafe>=2.0 in /Users/jxu/anaconda3/lib/python3.10/site-packages (from jinja2->torch) (2.1.3)\n",
      "Downloading torch-2.5.0-cp310-none-macosx_11_0_arm64.whl (64.3 MB)\n",
      "\u001b[2K   \u001b[90m━━━━━━━━━━━━━━━━━━━━━━━━━━━━━━━━━━━━━━━━\u001b[0m \u001b[32m64.3/64.3 MB\u001b[0m \u001b[31m46.4 MB/s\u001b[0m eta \u001b[36m0:00:00\u001b[0m00:01\u001b[0m00:01\u001b[0m\n",
      "\u001b[?25hDownloading sympy-1.13.1-py3-none-any.whl (6.2 MB)\n",
      "\u001b[2K   \u001b[90m━━━━━━━━━━━━━━━━━━━━━━━━━━━━━━━━━━━━━━━━\u001b[0m \u001b[32m6.2/6.2 MB\u001b[0m \u001b[31m12.0 MB/s\u001b[0m eta \u001b[36m0:00:00\u001b[0m \u001b[36m0:00:01\u001b[0mm\n",
      "\u001b[?25hDownloading networkx-3.4.2-py3-none-any.whl (1.7 MB)\n",
      "\u001b[2K   \u001b[90m━━━━━━━━━━━━━━━━━━━━━━━━━━━━━━━━━━━━━━━━\u001b[0m \u001b[32m1.7/1.7 MB\u001b[0m \u001b[31m29.9 MB/s\u001b[0m eta \u001b[36m0:00:00\u001b[0ma \u001b[36m0:00:01\u001b[0m\n",
      "\u001b[?25hDownloading mpmath-1.3.0-py3-none-any.whl (536 kB)\n",
      "\u001b[2K   \u001b[90m━━━━━━━━━━━━━━━━━━━━━━━━━━━━━━━━━━━━━━━━\u001b[0m \u001b[32m536.2/536.2 kB\u001b[0m \u001b[31m19.7 MB/s\u001b[0m eta \u001b[36m0:00:00\u001b[0m\n",
      "\u001b[?25hInstalling collected packages: mpmath, sympy, networkx, torch\n",
      "Successfully installed mpmath-1.3.0 networkx-3.4.2 sympy-1.13.1 torch-2.5.0\n",
      "Note: you may need to restart the kernel to use updated packages.\n"
     ]
    }
   ],
   "source": [
    "pip install torch"
   ]
  },
  {
   "cell_type": "code",
   "execution_count": 60,
   "metadata": {},
   "outputs": [],
   "source": [
    "import torch\n",
    "import torch.nn as nn"
   ]
  },
  {
   "cell_type": "code",
   "execution_count": 113,
   "metadata": {},
   "outputs": [],
   "source": [
    "class SetTransformer(nn.Module):\n",
    "    def __init__(self, input_dim, output_dim, embed_dim=16, num_heads=4, hidden_dim=128):\n",
    "        super(SetTransformer, self).__init__()\n",
    "        self.embed = nn.Linear(input_dim, embed_dim)\n",
    "        self.self_attention = nn.MultiheadAttention(embed_dim, num_heads)\n",
    "        self.pool = nn.Linear(embed_dim, hidden_dim)\n",
    "        self.output_layer = nn.Linear(hidden_dim, output_dim)\n",
    "\n",
    "    def forward(self, x):\n",
    "        x = self.embed(x)  # Embed the input into a higher-dimensional space\n",
    "        x = x.transpose(0, 1)  # Required shape for MultiheadAttention: [seq_length, batch_size, embed_dim]\n",
    "        attn_output, _ = self.self_attention(x, x, x)\n",
    "        pooled_output = torch.mean(attn_output, dim=0)  # Mean pooling across the set\n",
    "        output = self.output_layer(self.pool(pooled_output))\n",
    "        return output"
   ]
  },
  {
   "cell_type": "code",
   "execution_count": 155,
   "metadata": {},
   "outputs": [],
   "source": [
    "# Parameters\n",
    "input_dim = 1  # Genres in 1d space\n",
    "embed_dim = 16\n",
    "num_heads = 4\n",
    "output_dim = 2\n",
    "\n",
    "set_transformer = SetTransformer(input_dim=input_dim, output_dim=output_dim, embed_dim=embed_dim, num_heads=num_heads)"
   ]
  },
  {
   "cell_type": "code",
   "execution_count": 156,
   "metadata": {},
   "outputs": [],
   "source": [
    "def dimension_reduction(genres):\n",
    "    genre_tensor = torch.tensor(genres, dtype=torch.float).unsqueeze(1)  # Add a dummy dimension for input\n",
    "    return set_transformer(genre_tensor).detach().numpy()"
   ]
  },
  {
   "cell_type": "code",
   "execution_count": 157,
   "metadata": {},
   "outputs": [],
   "source": [
    "vectorirzed_df['reduced_genre_vectors'] = vectorirzed_df['genres'].apply(lambda genres: dimension_reduction(genres))"
   ]
  },
  {
   "cell_type": "code",
   "execution_count": 2,
   "metadata": {},
   "outputs": [],
   "source": [
    "########\n",
    "########\n",
    "#APPLYING TO INPUT MOVIE\n",
    "########\n",
    "########"
   ]
  },
  {
   "cell_type": "code",
   "execution_count": 150,
   "metadata": {},
   "outputs": [],
   "source": [
    "def vectorize_input_genres(genre_list):\n",
    "    genre_list: [vectorized_genres[genre] for genre in genre_list]"
   ]
  },
  {
   "cell_type": "code",
   "execution_count": 162,
   "metadata": {},
   "outputs": [],
   "source": [
    "# EXAMPLE USING INCEPTION\n",
    "\n",
    "input_genres = vectorirzed_df.loc[0, 'genres']"
   ]
  },
  {
   "cell_type": "code",
   "execution_count": 163,
   "metadata": {},
   "outputs": [],
   "source": [
    "vectorize_input_genres(input_genres)"
   ]
  },
  {
   "cell_type": "code",
   "execution_count": 164,
   "metadata": {},
   "outputs": [],
   "source": [
    "input_value = np.stack(input_genres)"
   ]
  },
  {
   "cell_type": "code",
   "execution_count": 170,
   "metadata": {},
   "outputs": [],
   "source": [
    "flat_input = np.concatenate(input_value).tolist()"
   ]
  },
  {
   "cell_type": "code",
   "execution_count": 187,
   "metadata": {},
   "outputs": [],
   "source": [
    "two_d_input = dimension_reduction(flat_input)"
   ]
  },
  {
   "cell_type": "code",
   "execution_count": 188,
   "metadata": {},
   "outputs": [
    {
     "data": {
      "text/plain": [
       "array([[ 0.08361804, -0.08301944],\n",
       "       [ 0.11783218, -0.05621227],\n",
       "       [ 0.073562  , -0.09089849]], dtype=float32)"
      ]
     },
     "execution_count": 188,
     "metadata": {},
     "output_type": "execute_result"
    }
   ],
   "source": [
    "two_d_input"
   ]
  },
  {
   "cell_type": "code",
   "execution_count": 184,
   "metadata": {},
   "outputs": [],
   "source": [
    "########\n",
    "########\n",
    "#FINDING THE MOST SIMILAR MOVIES\n",
    "########\n",
    "########"
   ]
  },
  {
   "cell_type": "code",
   "execution_count": 191,
   "metadata": {},
   "outputs": [],
   "source": [
    "database_values = np.vstack([np.array(vec) for vec in vectorirzed_df['reduced_genre_vectors'].values])"
   ]
  },
  {
   "cell_type": "code",
   "execution_count": 192,
   "metadata": {},
   "outputs": [],
   "source": [
    "k = 3\n",
    "knn = NearestNeighbors(n_neighbors=k)\n",
    "knn.fit(database_values)\n",
    "\n",
    "# Find neighbors for each input vector\n",
    "neighbors = knn.kneighbors(two_d_input, return_distance=False)"
   ]
  },
  {
   "cell_type": "code",
   "execution_count": 193,
   "metadata": {},
   "outputs": [],
   "source": [
    "########\n",
    "########\n",
    "#RETURNING THE TITLES\n",
    "########\n",
    "########"
   ]
  },
  {
   "cell_type": "code",
   "execution_count": 194,
   "metadata": {},
   "outputs": [],
   "source": [
    "titles = vectorirzed_df['title'].to_numpy()\n",
    "\n",
    "nearest_titles = [titles[indices] for indices in neighbors]"
   ]
  },
  {
   "cell_type": "code",
   "execution_count": 195,
   "metadata": {},
   "outputs": [
    {
     "data": {
      "text/plain": [
       "[array(['Forrest Gump', 'Inception', 'Fight Club'], dtype=object),\n",
       " array(['Interstellar', 'The Shawshank Redemption', 'Django Unchained'],\n",
       "       dtype=object),\n",
       " array(['The Matrix', 'Captain America: The First Avenger', 'Spider-Man 3'],\n",
       "       dtype=object)]"
      ]
     },
     "execution_count": 195,
     "metadata": {},
     "output_type": "execute_result"
    }
   ],
   "source": [
    "nearest_titles"
   ]
  },
  {
   "cell_type": "code",
   "execution_count": null,
   "metadata": {},
   "outputs": [],
   "source": []
  },
  {
   "cell_type": "code",
   "execution_count": null,
   "metadata": {},
   "outputs": [],
   "source": []
  },
  {
   "cell_type": "code",
   "execution_count": null,
   "metadata": {},
   "outputs": [],
   "source": []
  }
 ],
 "metadata": {
  "colab": {
   "provenance": [],
   "toc_visible": true
  },
  "kernelspec": {
   "display_name": "Python 3 (ipykernel)",
   "language": "python",
   "name": "python3"
  },
  "language_info": {
   "codemirror_mode": {
    "name": "ipython",
    "version": 3
   },
   "file_extension": ".py",
   "mimetype": "text/x-python",
   "name": "python",
   "nbconvert_exporter": "python",
   "pygments_lexer": "ipython3",
   "version": "3.10.9"
  }
 },
 "nbformat": 4,
 "nbformat_minor": 4
}
