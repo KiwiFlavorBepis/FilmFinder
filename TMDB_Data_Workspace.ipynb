{
 "cells": [
  {
   "cell_type": "markdown",
   "metadata": {
    "id": "PkrvP4IAh4xs"
   },
   "source": [
    "## Initializing and Loading Data"
   ]
  },
  {
   "cell_type": "code",
   "execution_count": 1,
   "metadata": {
    "id": "SsL291wiX-Z7"
   },
   "outputs": [],
   "source": [
    "file_location = \"TMDB_movie_dataset_v11.csv\""
   ]
  },
  {
   "cell_type": "code",
   "execution_count": 2,
   "metadata": {
    "id": "7GfpLylDT_ZF"
   },
   "outputs": [],
   "source": [
    "import pandas as pd\n",
    "import numpy as np"
   ]
  },
  {
   "cell_type": "code",
   "execution_count": 3,
   "metadata": {
    "colab": {
     "base_uri": "https://localhost:8080/",
     "height": 329
    },
    "id": "-BJXygPDWWO2",
    "outputId": "09c31c12-685b-4400-da3e-ae893b8656ec"
   },
   "outputs": [],
   "source": [
    "backup = pd.read_csv(file_location)"
   ]
  },
  {
   "cell_type": "markdown",
   "metadata": {
    "id": "LiK8vvP2HOw1"
   },
   "source": [
    "### Backup"
   ]
  },
  {
   "cell_type": "code",
   "execution_count": 4,
   "metadata": {
    "colab": {
     "base_uri": "https://localhost:8080/",
     "height": 144
    },
    "id": "f-djdyGkwB5L",
    "outputId": "bddff597-1f9c-458e-d4a3-def581437d83"
   },
   "outputs": [],
   "source": [
    "data = backup.copy(deep=True)"
   ]
  },
  {
   "cell_type": "markdown",
   "metadata": {
    "id": "O68yA50_h2su"
   },
   "source": [
    "## Initial Data Cleaning"
   ]
  },
  {
   "cell_type": "code",
   "execution_count": 5,
   "metadata": {
    "colab": {
     "base_uri": "https://localhost:8080/"
    },
    "id": "vrKXPmywfkPh",
    "outputId": "0121bbfd-8bfa-497e-ac06-45411d8351e4"
   },
   "outputs": [
    {
     "data": {
      "text/plain": [
       "1104439"
      ]
     },
     "execution_count": 5,
     "metadata": {},
     "output_type": "execute_result"
    }
   ],
   "source": [
    "initial = len(data)\n",
    "before = initial\n",
    "initial"
   ]
  },
  {
   "cell_type": "markdown",
   "metadata": {
    "id": "S7TwafyOdQPI"
   },
   "source": [
    "### Getting rid of duplicate rows"
   ]
  },
  {
   "cell_type": "code",
   "execution_count": 6,
   "metadata": {
    "colab": {
     "base_uri": "https://localhost:8080/"
    },
    "id": "NOM2iEK5e7BX",
    "outputId": "81bfa4ae-a965-4a3d-e69e-2faf8728cd79"
   },
   "outputs": [
    {
     "name": "stdout",
     "output_type": "stream",
     "text": [
      "Removed 366 duplicate rows. 1104073 rows left.\n"
     ]
    }
   ],
   "source": [
    "data = data.drop_duplicates()\n",
    "after = len(data)\n",
    "print(f\"Removed {(before - after)} duplicate rows. {after} rows left.\")\n",
    "before = after"
   ]
  },
  {
   "cell_type": "markdown",
   "metadata": {
    "id": "6zjf8Aewlh7N"
   },
   "source": [
    "### Removing unreleased movies"
   ]
  },
  {
   "cell_type": "markdown",
   "metadata": {
    "id": "T-oR35rLcGry"
   },
   "source": [
    "The status column shows what stage of production the movie is in. We are only concerned with movies that have been released."
   ]
  },
  {
   "cell_type": "code",
   "execution_count": 7,
   "metadata": {
    "colab": {
     "base_uri": "https://localhost:8080/",
     "height": 304
    },
    "id": "CTNplgQkac4o",
    "outputId": "ba3d6ba5-a734-473d-ed2b-2c75fd703b3c"
   },
   "outputs": [
    {
     "data": {
      "text/plain": [
       "status\n",
       "Released           1080967\n",
       "In Production         8753\n",
       "Post Production       7412\n",
       "Planned               6321\n",
       "Rumored                323\n",
       "Canceled               297\n",
       "Name: count, dtype: int64"
      ]
     },
     "execution_count": 7,
     "metadata": {},
     "output_type": "execute_result"
    }
   ],
   "source": [
    "data.status.value_counts()"
   ]
  },
  {
   "cell_type": "markdown",
   "metadata": {
    "id": "HQPWrd44cbco"
   },
   "source": [
    "Getting rid of unreleased movies:"
   ]
  },
  {
   "cell_type": "code",
   "execution_count": 8,
   "metadata": {
    "colab": {
     "base_uri": "https://localhost:8080/"
    },
    "id": "fypwz5XPca3E",
    "outputId": "c2b1037b-82c8-4ede-bffc-3d71060edf7d"
   },
   "outputs": [
    {
     "name": "stdout",
     "output_type": "stream",
     "text": [
      "Removed 23106 unreleased movies. 1080967 rows left.\n"
     ]
    }
   ],
   "source": [
    "data = data[data['status'] == \"Released\"]\n",
    "after = len(data)\n",
    "print(f\"Removed {before - after} unreleased movies. {after} rows left.\")\n",
    "before = after"
   ]
  },
  {
   "cell_type": "markdown",
   "metadata": {
    "id": "Dv5D7aiQ_nda"
   },
   "source": [
    "\n",
    "The release date of some rows are in the future, even though they are marked as `'Released'`. `release_date` is currently an `object` type and needs to be converted to a `datetime` type to be handled."
   ]
  },
  {
   "cell_type": "code",
   "execution_count": 9,
   "metadata": {
    "colab": {
     "base_uri": "https://localhost:8080/",
     "height": 304
    },
    "id": "9jZj25Gl_w9c",
    "outputId": "954f0096-e9e8-4d3d-f0e9-2af684462fa3"
   },
   "outputs": [
    {
     "data": {
      "text/plain": [
       "count                           924375\n",
       "mean     1999-11-03 19:22:06.237079040\n",
       "min                1800-01-01 00:00:00\n",
       "25%                1989-01-01 00:00:00\n",
       "50%                2010-07-30 00:00:00\n",
       "75%                2018-10-15 00:00:00\n",
       "max                2061-12-07 00:00:00\n",
       "Name: release_date, dtype: object"
      ]
     },
     "execution_count": 9,
     "metadata": {},
     "output_type": "execute_result"
    }
   ],
   "source": [
    "data['release_date'] = pd.to_datetime(data['release_date'])\n",
    "data.release_date.describe()"
   ]
  },
  {
   "cell_type": "markdown",
   "metadata": {
    "id": "souXVtBJAOid"
   },
   "source": [
    "Dropping all movies with a release date in the future:"
   ]
  },
  {
   "cell_type": "code",
   "execution_count": 10,
   "metadata": {
    "colab": {
     "base_uri": "https://localhost:8080/"
    },
    "id": "DBGiXIFBAEza",
    "outputId": "fafd5e41-b7e1-46b4-f146-991c4a13b13e"
   },
   "outputs": [
    {
     "name": "stdout",
     "output_type": "stream",
     "text": [
      "Removed 156706 future movies. 924261 rows left.\n"
     ]
    }
   ],
   "source": [
    "from datetime import date\n",
    "today = pd.to_datetime(date.today())\n",
    "data = data[data['release_date'] < today]\n",
    "after = len(data)\n",
    "print(f\"Removed {before - after} future movies. {after} rows left.\")\n",
    "before = after"
   ]
  },
  {
   "cell_type": "code",
   "execution_count": 11,
   "metadata": {
    "colab": {
     "base_uri": "https://localhost:8080/",
     "height": 304
    },
    "id": "IlOgUKMuI1qW",
    "outputId": "4bb94d44-5d0f-4a2e-f3e0-22594b1ff31d"
   },
   "outputs": [
    {
     "data": {
      "text/plain": [
       "count                           924261\n",
       "mean     1999-11-02 14:47:01.860059904\n",
       "min                1800-01-01 00:00:00\n",
       "25%                1989-01-01 00:00:00\n",
       "50%                2010-07-29 00:00:00\n",
       "75%                2018-10-14 00:00:00\n",
       "max                2024-10-24 00:00:00\n",
       "Name: release_date, dtype: object"
      ]
     },
     "execution_count": 11,
     "metadata": {},
     "output_type": "execute_result"
    }
   ],
   "source": [
    "data.release_date.describe()"
   ]
  },
  {
   "cell_type": "markdown",
   "metadata": {
    "id": "gmxcZYRI4p6G"
   },
   "source": [
    "Now the status column can be dropped."
   ]
  },
  {
   "cell_type": "code",
   "execution_count": 12,
   "metadata": {
    "colab": {
     "base_uri": "https://localhost:8080/"
    },
    "id": "0Z4mO4Gi43eg",
    "outputId": "e35f1c78-bb39-4648-e754-cef1b713b7a1"
   },
   "outputs": [
    {
     "data": {
      "text/plain": [
       "Index(['id', 'title', 'vote_average', 'vote_count', 'release_date', 'revenue',\n",
       "       'runtime', 'adult', 'backdrop_path', 'budget', 'homepage', 'imdb_id',\n",
       "       'original_language', 'original_title', 'overview', 'popularity',\n",
       "       'poster_path', 'tagline', 'genres', 'production_companies',\n",
       "       'production_countries', 'spoken_languages', 'keywords'],\n",
       "      dtype='object')"
      ]
     },
     "execution_count": 12,
     "metadata": {},
     "output_type": "execute_result"
    }
   ],
   "source": [
    "data = data.drop(columns='status')\n",
    "data.columns"
   ]
  },
  {
   "cell_type": "markdown",
   "metadata": {
    "id": "RXdjGGwSpg09"
   },
   "source": [
    "### Removing porn"
   ]
  },
  {
   "cell_type": "markdown",
   "metadata": {
    "id": "Hj02tFlkpqdk"
   },
   "source": [
    "The `adult` column designates if a row is an adult film. These will be dropped:"
   ]
  },
  {
   "cell_type": "code",
   "execution_count": 13,
   "metadata": {
    "colab": {
     "base_uri": "https://localhost:8080/"
    },
    "id": "3-8MfdrupqGQ",
    "outputId": "e710a0c6-0899-4ef7-d4bb-83aff87b2a95"
   },
   "outputs": [
    {
     "name": "stdout",
     "output_type": "stream",
     "text": [
      "Removed 91413 adult films. 832848 rows left.\n"
     ]
    }
   ],
   "source": [
    "data = data[data['adult'] == False]\n",
    "after = len(data)\n",
    "print(f\"Removed {before - after} adult films. {after} rows left.\")\n",
    "before = after"
   ]
  },
  {
   "cell_type": "markdown",
   "metadata": {
    "id": "KoqhwPIliJKd"
   },
   "source": [
    "### Getting rid of duplicate IDs"
   ]
  },
  {
   "cell_type": "code",
   "execution_count": 14,
   "metadata": {
    "colab": {
     "base_uri": "https://localhost:8080/"
    },
    "id": "GCvIP2Bohbo1",
    "outputId": "f29aee8f-2c59-464d-ed76-9285a3cff10a"
   },
   "outputs": [
    {
     "name": "stdout",
     "output_type": "stream",
     "text": [
      "There are 7 rows with a repeated id.\n"
     ]
    }
   ],
   "source": [
    "print(f\"There are {before - data.id.nunique()} rows with a repeated id.\")"
   ]
  },
  {
   "cell_type": "markdown",
   "metadata": {
    "id": "OIoEBeYOnNWo"
   },
   "source": [
    "Lower indexed entries are more up-to-date and more complete. Removing rows with duplicated IDs, only keeping the first occurance."
   ]
  },
  {
   "cell_type": "code",
   "execution_count": 15,
   "metadata": {
    "colab": {
     "base_uri": "https://localhost:8080/"
    },
    "id": "36b_zQUNnjNF",
    "outputId": "9022b252-3445-44be-e550-efbea65030f4"
   },
   "outputs": [
    {
     "name": "stdout",
     "output_type": "stream",
     "text": [
      "Removed 7 duplicate IDs. 832841 rows left.\n"
     ]
    }
   ],
   "source": [
    "data = data.drop_duplicates(subset=['id'], keep='first')\n",
    "after = len(data)\n",
    "print(f\"Removed {before - after} duplicate IDs. {after} rows left.\")\n",
    "before = after"
   ]
  },
  {
   "cell_type": "code",
   "execution_count": 16,
   "metadata": {
    "colab": {
     "base_uri": "https://localhost:8080/"
    },
    "id": "N3tjUth2pOsc",
    "outputId": "0e076fbb-aaca-4d4b-e45f-0f5ba84dc41e"
   },
   "outputs": [
    {
     "data": {
      "text/plain": [
       "832841"
      ]
     },
     "execution_count": 16,
     "metadata": {},
     "output_type": "execute_result"
    }
   ],
   "source": [
    "data.id.nunique()"
   ]
  },
  {
   "cell_type": "markdown",
   "metadata": {
    "id": "iYvLzDqwioCF"
   },
   "source": [
    "### Dropping unnecessary columns"
   ]
  },
  {
   "cell_type": "markdown",
   "metadata": {
    "id": "FAbNKzrjk6u7"
   },
   "source": [
    "Checking columns:"
   ]
  },
  {
   "cell_type": "code",
   "execution_count": 17,
   "metadata": {
    "colab": {
     "base_uri": "https://localhost:8080/"
    },
    "id": "8hNPR-jgXKCj",
    "outputId": "0823aadb-5f08-4b32-84b1-4c3da045ecf6"
   },
   "outputs": [
    {
     "data": {
      "text/plain": [
       "Index(['id', 'title', 'vote_average', 'vote_count', 'release_date', 'revenue',\n",
       "       'runtime', 'adult', 'backdrop_path', 'budget', 'homepage', 'imdb_id',\n",
       "       'original_language', 'original_title', 'overview', 'popularity',\n",
       "       'poster_path', 'tagline', 'genres', 'production_companies',\n",
       "       'production_countries', 'spoken_languages', 'keywords'],\n",
       "      dtype='object')"
      ]
     },
     "execution_count": 17,
     "metadata": {},
     "output_type": "execute_result"
    }
   ],
   "source": [
    "data.columns"
   ]
  },
  {
   "cell_type": "code",
   "execution_count": 18,
   "metadata": {
    "colab": {
     "base_uri": "https://localhost:8080/",
     "height": 175
    },
    "id": "ykMq5YTNtBqe",
    "outputId": "8c77c42b-94b1-421f-9f5a-d75c883e8d60"
   },
   "outputs": [
    {
     "data": {
      "text/html": [
       "<div>\n",
       "<style scoped>\n",
       "    .dataframe tbody tr th:only-of-type {\n",
       "        vertical-align: middle;\n",
       "    }\n",
       "\n",
       "    .dataframe tbody tr th {\n",
       "        vertical-align: top;\n",
       "    }\n",
       "\n",
       "    .dataframe thead th {\n",
       "        text-align: right;\n",
       "    }\n",
       "</style>\n",
       "<table border=\"1\" class=\"dataframe\">\n",
       "  <thead>\n",
       "    <tr style=\"text-align: right;\">\n",
       "      <th></th>\n",
       "      <th>backdrop_path</th>\n",
       "      <th>homepage</th>\n",
       "      <th>imdb_id</th>\n",
       "      <th>poster_path</th>\n",
       "    </tr>\n",
       "  </thead>\n",
       "  <tbody>\n",
       "    <tr>\n",
       "      <th>count</th>\n",
       "      <td>256521</td>\n",
       "      <td>100460</td>\n",
       "      <td>521876</td>\n",
       "      <td>626295</td>\n",
       "    </tr>\n",
       "    <tr>\n",
       "      <th>unique</th>\n",
       "      <td>254408</td>\n",
       "      <td>94834</td>\n",
       "      <td>521641</td>\n",
       "      <td>622903</td>\n",
       "    </tr>\n",
       "    <tr>\n",
       "      <th>top</th>\n",
       "      <td>/3CxwYgqGtJ6UEGfWUT0gMYCIlFP.jpg</td>\n",
       "      <td>https://animation.geidai.ac.jp</td>\n",
       "      <td>tt32094375</td>\n",
       "      <td>/wtoKLMm4UvkwvcSwO3XWcs1gJuF.jpg</td>\n",
       "    </tr>\n",
       "    <tr>\n",
       "      <th>freq</th>\n",
       "      <td>157</td>\n",
       "      <td>147</td>\n",
       "      <td>16</td>\n",
       "      <td>54</td>\n",
       "    </tr>\n",
       "  </tbody>\n",
       "</table>\n",
       "</div>"
      ],
      "text/plain": [
       "                           backdrop_path                        homepage  \\\n",
       "count                             256521                          100460   \n",
       "unique                            254408                           94834   \n",
       "top     /3CxwYgqGtJ6UEGfWUT0gMYCIlFP.jpg  https://animation.geidai.ac.jp   \n",
       "freq                                 157                             147   \n",
       "\n",
       "           imdb_id                       poster_path  \n",
       "count       521876                            626295  \n",
       "unique      521641                            622903  \n",
       "top     tt32094375  /wtoKLMm4UvkwvcSwO3XWcs1gJuF.jpg  \n",
       "freq            16                                54  "
      ]
     },
     "execution_count": 18,
     "metadata": {},
     "output_type": "execute_result"
    }
   ],
   "source": [
    "data[['backdrop_path', 'homepage', 'imdb_id', 'poster_path']].describe()"
   ]
  },
  {
   "cell_type": "markdown",
   "metadata": {
    "id": "RSa_2HdUryQp"
   },
   "source": [
    "The `backdrop_path`,`homepage`, `imdb_id`, and `poster_path` columns do not contain any useful data. These can be dropped."
   ]
  },
  {
   "cell_type": "code",
   "execution_count": 19,
   "metadata": {
    "colab": {
     "base_uri": "https://localhost:8080/"
    },
    "id": "qi-xkEZCrxkm",
    "outputId": "4cc38f58-2607-41d6-8102-4976920cc99c"
   },
   "outputs": [
    {
     "data": {
      "text/plain": [
       "Index(['id', 'title', 'vote_average', 'vote_count', 'release_date', 'revenue',\n",
       "       'runtime', 'adult', 'budget', 'imdb_id', 'original_language',\n",
       "       'original_title', 'overview', 'popularity', 'tagline', 'genres',\n",
       "       'production_companies', 'production_countries', 'spoken_languages',\n",
       "       'keywords'],\n",
       "      dtype='object')"
      ]
     },
     "execution_count": 19,
     "metadata": {},
     "output_type": "execute_result"
    }
   ],
   "source": [
    "data = data.drop(columns=['backdrop_path', 'homepage', 'poster_path'])\n",
    "data.columns"
   ]
  },
  {
   "cell_type": "markdown",
   "metadata": {
    "id": "RU3gFXnT9bL6"
   },
   "source": [
    "## Analyzing columns"
   ]
  },
  {
   "cell_type": "markdown",
   "metadata": {
    "id": "4P8GfQoE9QeZ"
   },
   "source": [
    "### `title`"
   ]
  },
  {
   "cell_type": "code",
   "execution_count": 20,
   "metadata": {
    "colab": {
     "base_uri": "https://localhost:8080/",
     "height": 210
    },
    "id": "yvGNigDn9bsy",
    "outputId": "98d3d0ee-39df-47c4-a393-1498f2e62088"
   },
   "outputs": [
    {
     "data": {
      "text/plain": [
       "count     832837\n",
       "unique    717044\n",
       "top         Home\n",
       "freq         124\n",
       "Name: title, dtype: object"
      ]
     },
     "execution_count": 20,
     "metadata": {},
     "output_type": "execute_result"
    }
   ],
   "source": [
    "data.title.describe()"
   ]
  },
  {
   "cell_type": "markdown",
   "metadata": {
    "id": "GqOTx371IofS"
   },
   "source": [
    "### `vote_average`"
   ]
  },
  {
   "cell_type": "code",
   "execution_count": 21,
   "metadata": {
    "colab": {
     "base_uri": "https://localhost:8080/",
     "height": 335
    },
    "id": "SSmnp8YeT6Xm",
    "outputId": "20c95c6f-a32f-48d1-ed45-45dd2d18f699"
   },
   "outputs": [
    {
     "data": {
      "text/plain": [
       "count    832841.000000\n",
       "mean          2.320404\n",
       "std           3.149025\n",
       "min           0.000000\n",
       "25%           0.000000\n",
       "50%           0.000000\n",
       "75%           5.400000\n",
       "max          10.000000\n",
       "Name: vote_average, dtype: float64"
      ]
     },
     "execution_count": 21,
     "metadata": {},
     "output_type": "execute_result"
    }
   ],
   "source": [
    "data.vote_average.describe()"
   ]
  },
  {
   "cell_type": "code",
   "execution_count": 22,
   "metadata": {
    "colab": {
     "base_uri": "https://localhost:8080/",
     "height": 447
    },
    "id": "xq2he24LIrMA",
    "outputId": "ad718f0d-afd9-42ff-c36e-b2da113a7906"
   },
   "outputs": [
    {
     "data": {
      "text/plain": [
       "<Axes: ylabel='Frequency'>"
      ]
     },
     "execution_count": 22,
     "metadata": {},
     "output_type": "execute_result"
    },
    {
     "data": {
      "image/png": "[encoded data removed]",
      "text/plain": [
       "<Figure size 640x480 with 1 Axes>"
      ]
     },
     "metadata": {},
     "output_type": "display_data"
    }
   ],
   "source": [
    "data.vote_average.plot.hist(bins=100)"
   ]
  },
  {
   "cell_type": "code",
   "execution_count": 23,
   "metadata": {
    "colab": {
     "base_uri": "https://localhost:8080/"
    },
    "id": "-TLXtq1fKuWg",
    "outputId": "bde9f124-aa64-44d5-f191-40f8a8e3707d"
   },
   "outputs": [
    {
     "data": {
      "text/plain": [
       "462"
      ]
     },
     "execution_count": 23,
     "metadata": {},
     "output_type": "execute_result"
    }
   ],
   "source": [
    "len(data.query('vote_count == 0 and vote_average != 0'))"
   ]
  },
  {
   "cell_type": "markdown",
   "metadata": {
    "id": "39GMMj-oI7co"
   },
   "source": [
    "There are an overwhelmingly large amount of $0.0$ vote averages. This is because they have $0$ `vote_count`. It's inappropriate to consider a movie with no votes to be $0.0$ on a $1\\text{-}10$ scale that does not permit 0. These should be replaced with `NaN`."
   ]
  },
  {
   "cell_type": "code",
   "execution_count": 24,
   "metadata": {
    "colab": {
     "base_uri": "https://localhost:8080/",
     "height": 447
    },
    "id": "qzggfHGiKk17",
    "outputId": "ede1e71c-56f8-4754-fa85-a2b5a899fb4c"
   },
   "outputs": [
    {
     "data": {
      "text/plain": [
       "<Axes: ylabel='Frequency'>"
      ]
     },
     "execution_count": 24,
     "metadata": {},
     "output_type": "execute_result"
    },
    {
     "data": {
      "image/png": "[encoded data removed]",
      "text/plain": [
       "<Figure size 640x480 with 1 Axes>"
      ]
     },
     "metadata": {},
     "output_type": "display_data"
    }
   ],
   "source": [
    "data.vote_average.replace(0, np.nan, inplace=True)\n",
    "data.vote_average.plot.hist(bins=90)"
   ]
  },
  {
   "cell_type": "markdown",
   "metadata": {
    "id": "ozPu0gAi-IM5"
   },
   "source": [
    "### `vote_count`"
   ]
  },
  {
   "cell_type": "code",
   "execution_count": 25,
   "metadata": {
    "colab": {
     "base_uri": "https://localhost:8080/",
     "height": 335
    },
    "id": "VdzmKetP-LiH",
    "outputId": "61aa1624-b002-40d4-92a5-41cf4eabde7b"
   },
   "outputs": [
    {
     "data": {
      "text/plain": [
       "count    832841.000000\n",
       "mean         25.701104\n",
       "std         371.859660\n",
       "min           0.000000\n",
       "25%           0.000000\n",
       "50%           0.000000\n",
       "75%           2.000000\n",
       "max       34495.000000\n",
       "Name: vote_count, dtype: float64"
      ]
     },
     "execution_count": 25,
     "metadata": {},
     "output_type": "execute_result"
    }
   ],
   "source": [
    "data.vote_count.describe()"
   ]
  },
  {
   "cell_type": "code",
   "execution_count": 26,
   "metadata": {
    "colab": {
     "base_uri": "https://localhost:8080/",
     "height": 447
    },
    "id": "JQGjQAFe-7PV",
    "outputId": "ae91d334-a77a-4977-9f6d-62f57f9e3bd0"
   },
   "outputs": [
    {
     "data": {
      "text/plain": [
       "<Axes: ylabel='Frequency'>"
      ]
     },
     "execution_count": 26,
     "metadata": {},
     "output_type": "execute_result"
    },
    {
     "data": {
      "image/png": "[encoded data removed]",
      "text/plain": [
       "<Figure size 640x480 with 1 Axes>"
      ]
     },
     "metadata": {},
     "output_type": "display_data"
    }
   ],
   "source": [
    "data.vote_count.plot.hist()"
   ]
  },
  {
   "cell_type": "markdown",
   "metadata": {
    "id": "e3SU-doe_DBn"
   },
   "source": [
    "### `release_date`"
   ]
  },
  {
   "cell_type": "code",
   "execution_count": 27,
   "metadata": {
    "colab": {
     "base_uri": "https://localhost:8080/"
    },
    "id": "pUTU7MThlJNw",
    "outputId": "4433a720-e095-4b5d-ae4c-922c90847029"
   },
   "outputs": [
    {
     "data": {
      "text/plain": [
       "pandas._libs.tslibs.timestamps.Timestamp"
      ]
     },
     "execution_count": 27,
     "metadata": {},
     "output_type": "execute_result"
    }
   ],
   "source": [
    "type(data['release_date'][0])"
   ]
  },
  {
   "cell_type": "code",
   "execution_count": 28,
   "metadata": {
    "colab": {
     "base_uri": "https://localhost:8080/",
     "height": 170
    },
    "id": "8_spcK_T_J6H",
    "outputId": "2e3dcb20-06e9-42b7-dab0-e56ba2ef8a59"
   },
   "outputs": [
    {
     "data": {
      "text/html": [
       "<div>\n",
       "<style scoped>\n",
       "    .dataframe tbody tr th:only-of-type {\n",
       "        vertical-align: middle;\n",
       "    }\n",
       "\n",
       "    .dataframe tbody tr th {\n",
       "        vertical-align: top;\n",
       "    }\n",
       "\n",
       "    .dataframe thead th {\n",
       "        text-align: right;\n",
       "    }\n",
       "</style>\n",
       "<table border=\"1\" class=\"dataframe\">\n",
       "  <thead>\n",
       "    <tr style=\"text-align: right;\">\n",
       "      <th></th>\n",
       "      <th>id</th>\n",
       "      <th>title</th>\n",
       "      <th>vote_average</th>\n",
       "      <th>vote_count</th>\n",
       "      <th>release_date</th>\n",
       "      <th>revenue</th>\n",
       "      <th>runtime</th>\n",
       "      <th>adult</th>\n",
       "      <th>budget</th>\n",
       "      <th>imdb_id</th>\n",
       "      <th>original_language</th>\n",
       "      <th>original_title</th>\n",
       "      <th>overview</th>\n",
       "      <th>popularity</th>\n",
       "      <th>tagline</th>\n",
       "      <th>genres</th>\n",
       "      <th>production_companies</th>\n",
       "      <th>production_countries</th>\n",
       "      <th>spoken_languages</th>\n",
       "      <th>keywords</th>\n",
       "    </tr>\n",
       "  </thead>\n",
       "  <tbody>\n",
       "    <tr>\n",
       "      <th>702570</th>\n",
       "      <td>1294302</td>\n",
       "      <td>בראול סטארס בחיים האמיתיים-אלון קאט</td>\n",
       "      <td>NaN</td>\n",
       "      <td>0</td>\n",
       "      <td>1800-01-01</td>\n",
       "      <td>100000000</td>\n",
       "      <td>0</td>\n",
       "      <td>False</td>\n",
       "      <td>0</td>\n",
       "      <td>NaN</td>\n",
       "      <td>he</td>\n",
       "      <td>בראול סטארס בחיים האמיתיים-אלון קאט</td>\n",
       "      <td>NaN</td>\n",
       "      <td>0.6</td>\n",
       "      <td>NaN</td>\n",
       "      <td>Horror, Drama, Thriller, Mystery, War</td>\n",
       "      <td>Salty Fish</td>\n",
       "      <td>NaN</td>\n",
       "      <td>NaN</td>\n",
       "      <td>NaN</td>\n",
       "    </tr>\n",
       "  </tbody>\n",
       "</table>\n",
       "</div>"
      ],
      "text/plain": [
       "             id                                title  vote_average  \\\n",
       "702570  1294302  בראול סטארס בחיים האמיתיים-אלון קאט           NaN   \n",
       "\n",
       "        vote_count release_date    revenue  runtime  adult  budget imdb_id  \\\n",
       "702570           0   1800-01-01  100000000        0  False       0     NaN   \n",
       "\n",
       "       original_language                       original_title overview  \\\n",
       "702570                he  בראול סטארס בחיים האמיתיים-אלון קאט      NaN   \n",
       "\n",
       "        popularity tagline                                 genres  \\\n",
       "702570         0.6     NaN  Horror, Drama, Thriller, Mystery, War   \n",
       "\n",
       "       production_companies production_countries spoken_languages keywords  \n",
       "702570           Salty Fish                  NaN              NaN      NaN  "
      ]
     },
     "execution_count": 28,
     "metadata": {},
     "output_type": "execute_result"
    }
   ],
   "source": [
    "data[data['release_date'] == data['release_date'].min()]"
   ]
  },
  {
   "cell_type": "code",
   "execution_count": 29,
   "metadata": {
    "colab": {
     "base_uri": "https://localhost:8080/",
     "height": 241
    },
    "id": "aWGTKDO-buPm",
    "outputId": "098aa9e8-e353-4f28-cb05-f33a23c9d0a6"
   },
   "outputs": [
    {
     "data": {
      "text/plain": [
       "702570   1800-01-01\n",
       "605145   1800-09-11\n",
       "640928   1837-10-29\n",
       "289005   1865-01-01\n",
       "570689   1865-01-01\n",
       "Name: release_date, dtype: datetime64[ns]"
      ]
     },
     "execution_count": 29,
     "metadata": {},
     "output_type": "execute_result"
    }
   ],
   "source": [
    "data.release_date.sort_values().head()"
   ]
  },
  {
   "cell_type": "code",
   "execution_count": 30,
   "metadata": {
    "colab": {
     "base_uri": "https://localhost:8080/",
     "height": 837
    },
    "id": "5V_cLlfVcpFA",
    "outputId": "11d738c6-d4ea-49e3-e950-908d13e6f5ce"
   },
   "outputs": [
    {
     "data": {
      "text/plain": [
       "id                                                                 380446\n",
       "title                                                    Taken for a Ride\n",
       "vote_average                                                          NaN\n",
       "vote_count                                                              0\n",
       "release_date                                          1931-01-31 00:00:00\n",
       "revenue                                                                 0\n",
       "runtime                                                                 0\n",
       "adult                                                               False\n",
       "budget                                                                  0\n",
       "imdb_id                                                         tt0152862\n",
       "original_language                                                      en\n",
       "original_title                                           Taken for a Ride\n",
       "overview                After a running gun battle through the streets...\n",
       "popularity                                                            0.6\n",
       "tagline                                                               NaN\n",
       "genres                                                          Animation\n",
       "production_companies                                                  NaN\n",
       "production_countries                             United States of America\n",
       "spoken_languages                                                      NaN\n",
       "keywords                                                              NaN\n",
       "Name: 860518, dtype: object"
      ]
     },
     "execution_count": 30,
     "metadata": {},
     "output_type": "execute_result"
    }
   ],
   "source": [
    "data.iloc[640928]"
   ]
  },
  {
   "cell_type": "code",
   "execution_count": 31,
   "metadata": {
    "colab": {
     "base_uri": "https://localhost:8080/",
     "height": 1000
    },
    "id": "Q24M87H0cPwh",
    "outputId": "f16a90df-3e07-4ffc-a53d-1324be97e11b"
   },
   "outputs": [
    {
     "data": {
      "text/html": [
       "<div>\n",
       "<style scoped>\n",
       "    .dataframe tbody tr th:only-of-type {\n",
       "        vertical-align: middle;\n",
       "    }\n",
       "\n",
       "    .dataframe tbody tr th {\n",
       "        vertical-align: top;\n",
       "    }\n",
       "\n",
       "    .dataframe thead th {\n",
       "        text-align: right;\n",
       "    }\n",
       "</style>\n",
       "<table border=\"1\" class=\"dataframe\">\n",
       "  <thead>\n",
       "    <tr style=\"text-align: right;\">\n",
       "      <th></th>\n",
       "      <th>id</th>\n",
       "      <th>title</th>\n",
       "      <th>vote_average</th>\n",
       "      <th>vote_count</th>\n",
       "      <th>release_date</th>\n",
       "      <th>revenue</th>\n",
       "      <th>runtime</th>\n",
       "      <th>adult</th>\n",
       "      <th>budget</th>\n",
       "      <th>imdb_id</th>\n",
       "      <th>original_language</th>\n",
       "      <th>original_title</th>\n",
       "      <th>overview</th>\n",
       "      <th>popularity</th>\n",
       "      <th>tagline</th>\n",
       "      <th>genres</th>\n",
       "      <th>production_companies</th>\n",
       "      <th>production_countries</th>\n",
       "      <th>spoken_languages</th>\n",
       "      <th>keywords</th>\n",
       "    </tr>\n",
       "  </thead>\n",
       "  <tbody>\n",
       "    <tr>\n",
       "      <th>7186</th>\n",
       "      <td>160</td>\n",
       "      <td>The Arrival of a Train at La Ciotat</td>\n",
       "      <td>7.112</td>\n",
       "      <td>425</td>\n",
       "      <td>1897-10-10</td>\n",
       "      <td>0</td>\n",
       "      <td>1</td>\n",
       "      <td>False</td>\n",
       "      <td>0</td>\n",
       "      <td>tt0000012</td>\n",
       "      <td>fr</td>\n",
       "      <td>L'arrivée d'un train à La Ciotat</td>\n",
       "      <td>Likely in June 1897, a group of people are sta...</td>\n",
       "      <td>10.495</td>\n",
       "      <td>NaN</td>\n",
       "      <td>Documentary</td>\n",
       "      <td>Lumière</td>\n",
       "      <td>France</td>\n",
       "      <td>No Language</td>\n",
       "      <td>france, cinema on cinema, beginning, train, ea...</td>\n",
       "    </tr>\n",
       "    <tr>\n",
       "      <th>9027</th>\n",
       "      <td>774</td>\n",
       "      <td>Workers Leaving the Lumière Factory</td>\n",
       "      <td>6.685</td>\n",
       "      <td>297</td>\n",
       "      <td>1895-03-22</td>\n",
       "      <td>0</td>\n",
       "      <td>1</td>\n",
       "      <td>False</td>\n",
       "      <td>0</td>\n",
       "      <td>tt0000010</td>\n",
       "      <td>fr</td>\n",
       "      <td>La Sortie de l'Usine Lumière à Lyon</td>\n",
       "      <td>Working men and women leave through the main g...</td>\n",
       "      <td>9.641</td>\n",
       "      <td>NaN</td>\n",
       "      <td>Documentary</td>\n",
       "      <td>Lumière</td>\n",
       "      <td>France</td>\n",
       "      <td>No Language</td>\n",
       "      <td>factory worker, factory, lyon, closing time, h...</td>\n",
       "    </tr>\n",
       "    <tr>\n",
       "      <th>10876</th>\n",
       "      <td>82120</td>\n",
       "      <td>The Sprinkler Sprinkled</td>\n",
       "      <td>6.896</td>\n",
       "      <td>225</td>\n",
       "      <td>1895-06-10</td>\n",
       "      <td>0</td>\n",
       "      <td>1</td>\n",
       "      <td>False</td>\n",
       "      <td>0</td>\n",
       "      <td>tt0000014</td>\n",
       "      <td>fr</td>\n",
       "      <td>Arroseur et arrosé</td>\n",
       "      <td>A gardener is watering his flowers, when a mis...</td>\n",
       "      <td>6.428</td>\n",
       "      <td>NaN</td>\n",
       "      <td>Comedy</td>\n",
       "      <td>Lumière, Société des Etablissements L. Gaumont</td>\n",
       "      <td>France</td>\n",
       "      <td>No Language</td>\n",
       "      <td>prank, spanking, gardener, prankster, short film</td>\n",
       "    </tr>\n",
       "    <tr>\n",
       "      <th>12410</th>\n",
       "      <td>16463</td>\n",
       "      <td>Roundhay Garden Scene</td>\n",
       "      <td>6.351</td>\n",
       "      <td>184</td>\n",
       "      <td>1888-10-14</td>\n",
       "      <td>0</td>\n",
       "      <td>1</td>\n",
       "      <td>False</td>\n",
       "      <td>0</td>\n",
       "      <td>tt0392728</td>\n",
       "      <td>xx</td>\n",
       "      <td>Roundhay Garden Scene</td>\n",
       "      <td>The earliest surviving celluloid film, and bel...</td>\n",
       "      <td>7.347</td>\n",
       "      <td>One man will walk harder than he's ever walked...</td>\n",
       "      <td>Documentary</td>\n",
       "      <td>Whitley Partners</td>\n",
       "      <td>United Kingdom</td>\n",
       "      <td>No Language</td>\n",
       "      <td>walking, hat, garden, historical, short film</td>\n",
       "    </tr>\n",
       "    <tr>\n",
       "      <th>12942</th>\n",
       "      <td>104700</td>\n",
       "      <td>The Astronomer's Dream</td>\n",
       "      <td>6.831</td>\n",
       "      <td>172</td>\n",
       "      <td>1898-01-01</td>\n",
       "      <td>0</td>\n",
       "      <td>3</td>\n",
       "      <td>False</td>\n",
       "      <td>0</td>\n",
       "      <td>tt0000211</td>\n",
       "      <td>fr</td>\n",
       "      <td>La lune à un mètre</td>\n",
       "      <td>An astronomer has a terrifying dream.</td>\n",
       "      <td>7.002</td>\n",
       "      <td>NaN</td>\n",
       "      <td>Fantasy</td>\n",
       "      <td>Star Film Company</td>\n",
       "      <td>France</td>\n",
       "      <td>No Language</td>\n",
       "      <td>moon, nightmare, astronomer, silent film, shor...</td>\n",
       "    </tr>\n",
       "    <tr>\n",
       "      <th>...</th>\n",
       "      <td>...</td>\n",
       "      <td>...</td>\n",
       "      <td>...</td>\n",
       "      <td>...</td>\n",
       "      <td>...</td>\n",
       "      <td>...</td>\n",
       "      <td>...</td>\n",
       "      <td>...</td>\n",
       "      <td>...</td>\n",
       "      <td>...</td>\n",
       "      <td>...</td>\n",
       "      <td>...</td>\n",
       "      <td>...</td>\n",
       "      <td>...</td>\n",
       "      <td>...</td>\n",
       "      <td>...</td>\n",
       "      <td>...</td>\n",
       "      <td>...</td>\n",
       "      <td>...</td>\n",
       "      <td>...</td>\n",
       "    </tr>\n",
       "    <tr>\n",
       "      <th>1101066</th>\n",
       "      <td>712203</td>\n",
       "      <td>Fighting the Fire</td>\n",
       "      <td>NaN</td>\n",
       "      <td>0</td>\n",
       "      <td>1898-11-03</td>\n",
       "      <td>0</td>\n",
       "      <td>1</td>\n",
       "      <td>False</td>\n",
       "      <td>0</td>\n",
       "      <td>tt0203498</td>\n",
       "      <td>en</td>\n",
       "      <td>Fighting the Fire</td>\n",
       "      <td>Shows steam fire engine in action. Men scale l...</td>\n",
       "      <td>0.600</td>\n",
       "      <td>NaN</td>\n",
       "      <td>Documentary</td>\n",
       "      <td>Edison Studios</td>\n",
       "      <td>United States of America</td>\n",
       "      <td>NaN</td>\n",
       "      <td>NaN</td>\n",
       "    </tr>\n",
       "    <tr>\n",
       "      <th>1102629</th>\n",
       "      <td>719504</td>\n",
       "      <td>La bandera argentina</td>\n",
       "      <td>NaN</td>\n",
       "      <td>0</td>\n",
       "      <td>1897-01-01</td>\n",
       "      <td>0</td>\n",
       "      <td>3</td>\n",
       "      <td>False</td>\n",
       "      <td>0</td>\n",
       "      <td>tt0199351</td>\n",
       "      <td>es</td>\n",
       "      <td>La bandera argentina</td>\n",
       "      <td>The Argentinian flag waving at the Plaza de Ma...</td>\n",
       "      <td>0.600</td>\n",
       "      <td>NaN</td>\n",
       "      <td>NaN</td>\n",
       "      <td>NaN</td>\n",
       "      <td>Argentina</td>\n",
       "      <td>No Language</td>\n",
       "      <td>NaN</td>\n",
       "    </tr>\n",
       "    <tr>\n",
       "      <th>1103336</th>\n",
       "      <td>715807</td>\n",
       "      <td>The Haverstraw Tunnel</td>\n",
       "      <td>NaN</td>\n",
       "      <td>0</td>\n",
       "      <td>1897-06-15</td>\n",
       "      <td>0</td>\n",
       "      <td>1</td>\n",
       "      <td>False</td>\n",
       "      <td>0</td>\n",
       "      <td>tt0217537</td>\n",
       "      <td>en</td>\n",
       "      <td>The Haverstraw Tunnel</td>\n",
       "      <td>A train travels along the tracks of the West S...</td>\n",
       "      <td>0.600</td>\n",
       "      <td>NaN</td>\n",
       "      <td>Documentary</td>\n",
       "      <td>American Mutoscope &amp; Biograph</td>\n",
       "      <td>United States of America</td>\n",
       "      <td>NaN</td>\n",
       "      <td>NaN</td>\n",
       "    </tr>\n",
       "    <tr>\n",
       "      <th>1104386</th>\n",
       "      <td>717261</td>\n",
       "      <td>Ancoradouro de Pescadores na Baía de Guanabara</td>\n",
       "      <td>NaN</td>\n",
       "      <td>0</td>\n",
       "      <td>1897-01-01</td>\n",
       "      <td>0</td>\n",
       "      <td>0</td>\n",
       "      <td>False</td>\n",
       "      <td>0</td>\n",
       "      <td>tt1743298</td>\n",
       "      <td>pt</td>\n",
       "      <td>Ancoradouro de Pescadores na Baía de Guanabara</td>\n",
       "      <td>First Brazillian film, actuality film showing ...</td>\n",
       "      <td>0.600</td>\n",
       "      <td>NaN</td>\n",
       "      <td>NaN</td>\n",
       "      <td>NaN</td>\n",
       "      <td>Brazil</td>\n",
       "      <td>NaN</td>\n",
       "      <td>NaN</td>\n",
       "    </tr>\n",
       "    <tr>\n",
       "      <th>1104387</th>\n",
       "      <td>717262</td>\n",
       "      <td>Bailado de Crianças no Colégio do Andaraí</td>\n",
       "      <td>NaN</td>\n",
       "      <td>0</td>\n",
       "      <td>1897-05-01</td>\n",
       "      <td>0</td>\n",
       "      <td>0</td>\n",
       "      <td>False</td>\n",
       "      <td>0</td>\n",
       "      <td>tt1735388</td>\n",
       "      <td>pt</td>\n",
       "      <td>Bailado de Crianças no Colégio do Andaraí</td>\n",
       "      <td>Actuality film about kids dancing</td>\n",
       "      <td>0.600</td>\n",
       "      <td>NaN</td>\n",
       "      <td>NaN</td>\n",
       "      <td>NaN</td>\n",
       "      <td>Brazil</td>\n",
       "      <td>NaN</td>\n",
       "      <td>NaN</td>\n",
       "    </tr>\n",
       "  </tbody>\n",
       "</table>\n",
       "<p>2043 rows × 20 columns</p>\n",
       "</div>"
      ],
      "text/plain": [
       "             id                                           title  vote_average  \\\n",
       "7186        160             The Arrival of a Train at La Ciotat         7.112   \n",
       "9027        774             Workers Leaving the Lumière Factory         6.685   \n",
       "10876     82120                         The Sprinkler Sprinkled         6.896   \n",
       "12410     16463                           Roundhay Garden Scene         6.351   \n",
       "12942    104700                          The Astronomer's Dream         6.831   \n",
       "...         ...                                             ...           ...   \n",
       "1101066  712203                               Fighting the Fire           NaN   \n",
       "1102629  719504                            La bandera argentina           NaN   \n",
       "1103336  715807                           The Haverstraw Tunnel           NaN   \n",
       "1104386  717261  Ancoradouro de Pescadores na Baía de Guanabara           NaN   \n",
       "1104387  717262       Bailado de Crianças no Colégio do Andaraí           NaN   \n",
       "\n",
       "         vote_count release_date  revenue  runtime  adult  budget    imdb_id  \\\n",
       "7186            425   1897-10-10        0        1  False       0  tt0000012   \n",
       "9027            297   1895-03-22        0        1  False       0  tt0000010   \n",
       "10876           225   1895-06-10        0        1  False       0  tt0000014   \n",
       "12410           184   1888-10-14        0        1  False       0  tt0392728   \n",
       "12942           172   1898-01-01        0        3  False       0  tt0000211   \n",
       "...             ...          ...      ...      ...    ...     ...        ...   \n",
       "1101066           0   1898-11-03        0        1  False       0  tt0203498   \n",
       "1102629           0   1897-01-01        0        3  False       0  tt0199351   \n",
       "1103336           0   1897-06-15        0        1  False       0  tt0217537   \n",
       "1104386           0   1897-01-01        0        0  False       0  tt1743298   \n",
       "1104387           0   1897-05-01        0        0  False       0  tt1735388   \n",
       "\n",
       "        original_language                                  original_title  \\\n",
       "7186                   fr                L'arrivée d'un train à La Ciotat   \n",
       "9027                   fr             La Sortie de l'Usine Lumière à Lyon   \n",
       "10876                  fr                              Arroseur et arrosé   \n",
       "12410                  xx                           Roundhay Garden Scene   \n",
       "12942                  fr                              La lune à un mètre   \n",
       "...                   ...                                             ...   \n",
       "1101066                en                               Fighting the Fire   \n",
       "1102629                es                            La bandera argentina   \n",
       "1103336                en                           The Haverstraw Tunnel   \n",
       "1104386                pt  Ancoradouro de Pescadores na Baía de Guanabara   \n",
       "1104387                pt       Bailado de Crianças no Colégio do Andaraí   \n",
       "\n",
       "                                                  overview  popularity  \\\n",
       "7186     Likely in June 1897, a group of people are sta...      10.495   \n",
       "9027     Working men and women leave through the main g...       9.641   \n",
       "10876    A gardener is watering his flowers, when a mis...       6.428   \n",
       "12410    The earliest surviving celluloid film, and bel...       7.347   \n",
       "12942                An astronomer has a terrifying dream.       7.002   \n",
       "...                                                    ...         ...   \n",
       "1101066  Shows steam fire engine in action. Men scale l...       0.600   \n",
       "1102629  The Argentinian flag waving at the Plaza de Ma...       0.600   \n",
       "1103336  A train travels along the tracks of the West S...       0.600   \n",
       "1104386  First Brazillian film, actuality film showing ...       0.600   \n",
       "1104387                  Actuality film about kids dancing       0.600   \n",
       "\n",
       "                                                   tagline       genres  \\\n",
       "7186                                                   NaN  Documentary   \n",
       "9027                                                   NaN  Documentary   \n",
       "10876                                                  NaN       Comedy   \n",
       "12410    One man will walk harder than he's ever walked...  Documentary   \n",
       "12942                                                  NaN      Fantasy   \n",
       "...                                                    ...          ...   \n",
       "1101066                                                NaN  Documentary   \n",
       "1102629                                                NaN          NaN   \n",
       "1103336                                                NaN  Documentary   \n",
       "1104386                                                NaN          NaN   \n",
       "1104387                                                NaN          NaN   \n",
       "\n",
       "                                   production_companies  \\\n",
       "7186                                            Lumière   \n",
       "9027                                            Lumière   \n",
       "10876    Lumière, Société des Etablissements L. Gaumont   \n",
       "12410                                  Whitley Partners   \n",
       "12942                                 Star Film Company   \n",
       "...                                                 ...   \n",
       "1101066                                  Edison Studios   \n",
       "1102629                                             NaN   \n",
       "1103336                   American Mutoscope & Biograph   \n",
       "1104386                                             NaN   \n",
       "1104387                                             NaN   \n",
       "\n",
       "             production_countries spoken_languages  \\\n",
       "7186                       France      No Language   \n",
       "9027                       France      No Language   \n",
       "10876                      France      No Language   \n",
       "12410              United Kingdom      No Language   \n",
       "12942                      France      No Language   \n",
       "...                           ...              ...   \n",
       "1101066  United States of America              NaN   \n",
       "1102629                 Argentina      No Language   \n",
       "1103336  United States of America              NaN   \n",
       "1104386                    Brazil              NaN   \n",
       "1104387                    Brazil              NaN   \n",
       "\n",
       "                                                  keywords  \n",
       "7186     france, cinema on cinema, beginning, train, ea...  \n",
       "9027     factory worker, factory, lyon, closing time, h...  \n",
       "10876     prank, spanking, gardener, prankster, short film  \n",
       "12410         walking, hat, garden, historical, short film  \n",
       "12942    moon, nightmare, astronomer, silent film, shor...  \n",
       "...                                                    ...  \n",
       "1101066                                                NaN  \n",
       "1102629                                                NaN  \n",
       "1103336                                                NaN  \n",
       "1104386                                                NaN  \n",
       "1104387                                                NaN  \n",
       "\n",
       "[2043 rows x 20 columns]"
      ]
     },
     "execution_count": 31,
     "metadata": {},
     "output_type": "execute_result"
    }
   ],
   "source": [
    "data[data['release_date'] < pd.to_datetime('1900-01-01')]"
   ]
  },
  {
   "cell_type": "code",
   "execution_count": 32,
   "metadata": {
    "colab": {
     "base_uri": "https://localhost:8080/",
     "height": 465
    },
    "id": "mGNjpMUeKp3Z",
    "outputId": "2168af94-d002-41b7-e060-6d57990babe5"
   },
   "outputs": [
    {
     "data": {
      "text/plain": [
       "<Axes: >"
      ]
     },
     "execution_count": 32,
     "metadata": {},
     "output_type": "execute_result"
    },
    {
     "data": {
      "image/png": "[encoded data removed]",
      "text/plain": [
       "<Figure size 640x480 with 1 Axes>"
      ]
     },
     "metadata": {},
     "output_type": "display_data"
    }
   ],
   "source": [
    "pd.to_numeric(data['release_date']).hist()"
   ]
  },
  {
   "cell_type": "markdown",
   "metadata": {
    "id": "k-p4RaNnq-oW"
   },
   "source": [
    "\n",
    "\n",
    "```\n",
    "# This is formatted as code\n",
    "```\n",
    "\n",
    "# Reducing the scale"
   ]
  },
  {
   "cell_type": "markdown",
   "metadata": {
    "id": "jBrSgHCQqaNY"
   },
   "source": [
    "Reducing the dataset to include modern films (any film released after 1/1/1900) and feature films (defined as any film longer than 40 minutes long)."
   ]
  },
  {
   "cell_type": "code",
   "execution_count": 72,
   "metadata": {},
   "outputs": [],
   "source": [
    "clean_file_location = \"clean.csv\""
   ]
  },
  {
   "cell_type": "code",
   "execution_count": 73,
   "metadata": {},
   "outputs": [],
   "source": [
    "backup_clean = pd.read_csv(clean_file_location)"
   ]
  },
  {
   "cell_type": "code",
   "execution_count": 74,
   "metadata": {},
   "outputs": [],
   "source": [
    "data_clean = backup_clean.copy(deep=True)"
   ]
  },
  {
   "cell_type": "code",
   "execution_count": 78,
   "metadata": {},
   "outputs": [],
   "source": [
    "data_clean['release_date'] = pd.to_datetime(data_clean['release_date'], format=\"%Y-%m-%d\")"
   ]
  },
  {
   "cell_type": "code",
   "execution_count": 79,
   "metadata": {
    "id": "VENt_dTRmXAn"
   },
   "outputs": [],
   "source": [
    "modern_films = data_clean[data_clean['release_date'] > pd.to_datetime('1900-01-01')]"
   ]
  },
  {
   "cell_type": "code",
   "execution_count": 80,
   "metadata": {
    "id": "2CtAbpremg_j"
   },
   "outputs": [],
   "source": [
    "modern_feature_films = modern_films[modern_films['runtime'] > 40]"
   ]
  },
  {
   "cell_type": "code",
   "execution_count": 81,
   "metadata": {
    "id": "TQkHgoesxPc9"
   },
   "outputs": [],
   "source": [
    "modern_feature_films = modern_feature_films.dropna(subset=['imdb_id'])"
   ]
  },
  {
   "cell_type": "code",
   "execution_count": 82,
   "metadata": {
    "colab": {
     "base_uri": "https://localhost:8080/"
    },
    "id": "anGbFcA2omeL",
    "outputId": "704e91f9-5ffd-4b28-9810-a4b1e72a27c4"
   },
   "outputs": [
    {
     "name": "stdout",
     "output_type": "stream",
     "text": [
      "<class 'pandas.core.frame.DataFrame'>\n",
      "Index: 314210 entries, 0 to 832834\n",
      "Data columns (total 21 columns):\n",
      " #   Column                Non-Null Count   Dtype         \n",
      "---  ------                --------------   -----         \n",
      " 0   Unnamed: 0            314210 non-null  int64         \n",
      " 1   id                    314210 non-null  int64         \n",
      " 2   title                 314210 non-null  object        \n",
      " 3   vote_average          206475 non-null  float64       \n",
      " 4   vote_count            314210 non-null  int64         \n",
      " 5   release_date          314210 non-null  datetime64[ns]\n",
      " 6   revenue               314210 non-null  int64         \n",
      " 7   runtime               314210 non-null  float64       \n",
      " 8   adult                 314210 non-null  bool          \n",
      " 9   budget                314210 non-null  int64         \n",
      " 10  imdb_id               314210 non-null  object        \n",
      " 11  original_language     314210 non-null  object        \n",
      " 12  original_title        314210 non-null  object        \n",
      " 13  overview              301607 non-null  object        \n",
      " 14  popularity            314210 non-null  float64       \n",
      " 15  tagline               80477 non-null   object        \n",
      " 16  genres                278705 non-null  object        \n",
      " 17  production_companies  209145 non-null  object        \n",
      " 18  production_countries  251421 non-null  object        \n",
      " 19  spoken_languages      264735 non-null  object        \n",
      " 20  keywords              134904 non-null  object        \n",
      "dtypes: bool(1), datetime64[ns](1), float64(3), int64(5), object(11)\n",
      "memory usage: 50.6+ MB\n"
     ]
    }
   ],
   "source": [
    "modern_feature_films.info()"
   ]
  },
  {
   "cell_type": "code",
   "execution_count": 83,
   "metadata": {},
   "outputs": [
    {
     "data": {
      "text/html": [
       "<div>\n",
       "<style scoped>\n",
       "    .dataframe tbody tr th:only-of-type {\n",
       "        vertical-align: middle;\n",
       "    }\n",
       "\n",
       "    .dataframe tbody tr th {\n",
       "        vertical-align: top;\n",
       "    }\n",
       "\n",
       "    .dataframe thead th {\n",
       "        text-align: right;\n",
       "    }\n",
       "</style>\n",
       "<table border=\"1\" class=\"dataframe\">\n",
       "  <thead>\n",
       "    <tr style=\"text-align: right;\">\n",
       "      <th></th>\n",
       "      <th>Unnamed: 0</th>\n",
       "      <th>id</th>\n",
       "      <th>title</th>\n",
       "      <th>vote_average</th>\n",
       "      <th>vote_count</th>\n",
       "      <th>release_date</th>\n",
       "      <th>revenue</th>\n",
       "      <th>runtime</th>\n",
       "      <th>adult</th>\n",
       "      <th>budget</th>\n",
       "      <th>...</th>\n",
       "      <th>original_language</th>\n",
       "      <th>original_title</th>\n",
       "      <th>overview</th>\n",
       "      <th>popularity</th>\n",
       "      <th>tagline</th>\n",
       "      <th>genres</th>\n",
       "      <th>production_companies</th>\n",
       "      <th>production_countries</th>\n",
       "      <th>spoken_languages</th>\n",
       "      <th>keywords</th>\n",
       "    </tr>\n",
       "  </thead>\n",
       "  <tbody>\n",
       "    <tr>\n",
       "      <th>0</th>\n",
       "      <td>0</td>\n",
       "      <td>27205</td>\n",
       "      <td>Inception</td>\n",
       "      <td>8.364</td>\n",
       "      <td>34495</td>\n",
       "      <td>2010-07-15</td>\n",
       "      <td>825532764</td>\n",
       "      <td>148.0</td>\n",
       "      <td>False</td>\n",
       "      <td>160000000</td>\n",
       "      <td>...</td>\n",
       "      <td>en</td>\n",
       "      <td>Inception</td>\n",
       "      <td>Cobb, a skilled thief who commits corporate es...</td>\n",
       "      <td>83.952</td>\n",
       "      <td>Your mind is the scene of the crime.</td>\n",
       "      <td>Action, Science Fiction, Adventure</td>\n",
       "      <td>Legendary Pictures, Syncopy, Warner Bros. Pict...</td>\n",
       "      <td>United Kingdom, United States of America</td>\n",
       "      <td>English, French, Japanese, Swahili</td>\n",
       "      <td>rescue, mission, dream, airplane, paris, franc...</td>\n",
       "    </tr>\n",
       "    <tr>\n",
       "      <th>1</th>\n",
       "      <td>1</td>\n",
       "      <td>157336</td>\n",
       "      <td>Interstellar</td>\n",
       "      <td>8.417</td>\n",
       "      <td>32571</td>\n",
       "      <td>2014-11-05</td>\n",
       "      <td>701729206</td>\n",
       "      <td>169.0</td>\n",
       "      <td>False</td>\n",
       "      <td>165000000</td>\n",
       "      <td>...</td>\n",
       "      <td>en</td>\n",
       "      <td>Interstellar</td>\n",
       "      <td>The adventures of a group of explorers who mak...</td>\n",
       "      <td>140.241</td>\n",
       "      <td>Mankind was born on Earth. It was never meant ...</td>\n",
       "      <td>Adventure, Drama, Science Fiction</td>\n",
       "      <td>Legendary Pictures, Syncopy, Lynda Obst Produc...</td>\n",
       "      <td>United Kingdom, United States of America</td>\n",
       "      <td>English</td>\n",
       "      <td>rescue, future, spacecraft, race against time,...</td>\n",
       "    </tr>\n",
       "    <tr>\n",
       "      <th>2</th>\n",
       "      <td>2</td>\n",
       "      <td>155</td>\n",
       "      <td>The Dark Knight</td>\n",
       "      <td>8.512</td>\n",
       "      <td>30619</td>\n",
       "      <td>2008-07-16</td>\n",
       "      <td>1004558444</td>\n",
       "      <td>152.0</td>\n",
       "      <td>False</td>\n",
       "      <td>185000000</td>\n",
       "      <td>...</td>\n",
       "      <td>en</td>\n",
       "      <td>The Dark Knight</td>\n",
       "      <td>Batman raises the stakes in his war on crime. ...</td>\n",
       "      <td>130.643</td>\n",
       "      <td>Welcome to a world without rules.</td>\n",
       "      <td>Drama, Action, Crime, Thriller</td>\n",
       "      <td>DC Comics, Legendary Pictures, Syncopy, Isobel...</td>\n",
       "      <td>United Kingdom, United States of America</td>\n",
       "      <td>English, Mandarin</td>\n",
       "      <td>joker, sadism, chaos, secret identity, crime f...</td>\n",
       "    </tr>\n",
       "    <tr>\n",
       "      <th>3</th>\n",
       "      <td>3</td>\n",
       "      <td>19995</td>\n",
       "      <td>Avatar</td>\n",
       "      <td>7.573</td>\n",
       "      <td>29815</td>\n",
       "      <td>2009-12-15</td>\n",
       "      <td>2923706026</td>\n",
       "      <td>162.0</td>\n",
       "      <td>False</td>\n",
       "      <td>237000000</td>\n",
       "      <td>...</td>\n",
       "      <td>en</td>\n",
       "      <td>Avatar</td>\n",
       "      <td>In the 22nd century, a paraplegic Marine is di...</td>\n",
       "      <td>79.932</td>\n",
       "      <td>Enter the world of Pandora.</td>\n",
       "      <td>Action, Adventure, Fantasy, Science Fiction</td>\n",
       "      <td>Dune Entertainment, Lightstorm Entertainment, ...</td>\n",
       "      <td>United States of America, United Kingdom</td>\n",
       "      <td>English, Spanish</td>\n",
       "      <td>future, society, culture clash, space travel, ...</td>\n",
       "    </tr>\n",
       "    <tr>\n",
       "      <th>4</th>\n",
       "      <td>4</td>\n",
       "      <td>24428</td>\n",
       "      <td>The Avengers</td>\n",
       "      <td>7.710</td>\n",
       "      <td>29166</td>\n",
       "      <td>2012-04-25</td>\n",
       "      <td>1518815515</td>\n",
       "      <td>143.0</td>\n",
       "      <td>False</td>\n",
       "      <td>220000000</td>\n",
       "      <td>...</td>\n",
       "      <td>en</td>\n",
       "      <td>The Avengers</td>\n",
       "      <td>When an unexpected enemy emerges and threatens...</td>\n",
       "      <td>98.082</td>\n",
       "      <td>Some assembly required.</td>\n",
       "      <td>Science Fiction, Action, Adventure</td>\n",
       "      <td>Marvel Studios</td>\n",
       "      <td>United States of America</td>\n",
       "      <td>English, Hindi, Russian</td>\n",
       "      <td>new york city, superhero, shield, based on com...</td>\n",
       "    </tr>\n",
       "  </tbody>\n",
       "</table>\n",
       "<p>5 rows × 21 columns</p>\n",
       "</div>"
      ],
      "text/plain": [
       "   Unnamed: 0      id            title  vote_average  vote_count release_date  \\\n",
       "0           0   27205        Inception         8.364       34495   2010-07-15   \n",
       "1           1  157336     Interstellar         8.417       32571   2014-11-05   \n",
       "2           2     155  The Dark Knight         8.512       30619   2008-07-16   \n",
       "3           3   19995           Avatar         7.573       29815   2009-12-15   \n",
       "4           4   24428     The Avengers         7.710       29166   2012-04-25   \n",
       "\n",
       "      revenue  runtime  adult     budget  ... original_language  \\\n",
       "0   825532764    148.0  False  160000000  ...                en   \n",
       "1   701729206    169.0  False  165000000  ...                en   \n",
       "2  1004558444    152.0  False  185000000  ...                en   \n",
       "3  2923706026    162.0  False  237000000  ...                en   \n",
       "4  1518815515    143.0  False  220000000  ...                en   \n",
       "\n",
       "    original_title                                           overview  \\\n",
       "0        Inception  Cobb, a skilled thief who commits corporate es...   \n",
       "1     Interstellar  The adventures of a group of explorers who mak...   \n",
       "2  The Dark Knight  Batman raises the stakes in his war on crime. ...   \n",
       "3           Avatar  In the 22nd century, a paraplegic Marine is di...   \n",
       "4     The Avengers  When an unexpected enemy emerges and threatens...   \n",
       "\n",
       "  popularity                                            tagline  \\\n",
       "0     83.952               Your mind is the scene of the crime.   \n",
       "1    140.241  Mankind was born on Earth. It was never meant ...   \n",
       "2    130.643                  Welcome to a world without rules.   \n",
       "3     79.932                        Enter the world of Pandora.   \n",
       "4     98.082                            Some assembly required.   \n",
       "\n",
       "                                        genres  \\\n",
       "0           Action, Science Fiction, Adventure   \n",
       "1            Adventure, Drama, Science Fiction   \n",
       "2               Drama, Action, Crime, Thriller   \n",
       "3  Action, Adventure, Fantasy, Science Fiction   \n",
       "4           Science Fiction, Action, Adventure   \n",
       "\n",
       "                                production_companies  \\\n",
       "0  Legendary Pictures, Syncopy, Warner Bros. Pict...   \n",
       "1  Legendary Pictures, Syncopy, Lynda Obst Produc...   \n",
       "2  DC Comics, Legendary Pictures, Syncopy, Isobel...   \n",
       "3  Dune Entertainment, Lightstorm Entertainment, ...   \n",
       "4                                     Marvel Studios   \n",
       "\n",
       "                       production_countries  \\\n",
       "0  United Kingdom, United States of America   \n",
       "1  United Kingdom, United States of America   \n",
       "2  United Kingdom, United States of America   \n",
       "3  United States of America, United Kingdom   \n",
       "4                  United States of America   \n",
       "\n",
       "                     spoken_languages  \\\n",
       "0  English, French, Japanese, Swahili   \n",
       "1                             English   \n",
       "2                   English, Mandarin   \n",
       "3                    English, Spanish   \n",
       "4             English, Hindi, Russian   \n",
       "\n",
       "                                            keywords  \n",
       "0  rescue, mission, dream, airplane, paris, franc...  \n",
       "1  rescue, future, spacecraft, race against time,...  \n",
       "2  joker, sadism, chaos, secret identity, crime f...  \n",
       "3  future, society, culture clash, space travel, ...  \n",
       "4  new york city, superhero, shield, based on com...  \n",
       "\n",
       "[5 rows x 21 columns]"
      ]
     },
     "execution_count": 83,
     "metadata": {},
     "output_type": "execute_result"
    }
   ],
   "source": [
    "modern_feature_films.head()"
   ]
  },
  {
   "cell_type": "code",
   "execution_count": 37,
   "metadata": {
    "id": "vnECd2gFuyJV"
   },
   "outputs": [],
   "source": [
    "# Missing attributes to go find\n",
    "# overview\n",
    "# genre\n",
    "# production company\n",
    "# language\n",
    "# keywords"
   ]
  },
  {
   "cell_type": "code",
   "execution_count": 38,
   "metadata": {
    "id": "Of8_OdfpqNjq"
   },
   "outputs": [],
   "source": [
    "# For movies with keywords, I think we don't need to do any web-scrapping"
   ]
  },
  {
   "cell_type": "code",
   "execution_count": 39,
   "metadata": {
    "id": "mEt9RBAGtKnq"
   },
   "outputs": [],
   "source": [
    "# For movies without keywords, we probably need to do some extra work.\n",
    "# We can get more information from online or just rely on the plot.\n",
    "# Maybe we use the plot to get keywords???"
   ]
  },
  {
   "cell_type": "markdown",
   "metadata": {
    "id": "KdoWbMWzbYI_"
   },
   "source": [
    "# NLP (actual)"
   ]
  },
  {
   "cell_type": "markdown",
   "metadata": {
    "id": "LGiGgCFItRyk"
   },
   "source": []
  },
  {
   "cell_type": "markdown",
   "metadata": {
    "id": "vb4dfI8mjUyg"
   },
   "source": [
    "# NLP testing\n"
   ]
  },
  {
   "cell_type": "code",
   "execution_count": null,
   "metadata": {
    "colab": {
     "base_uri": "https://localhost:8080/"
    },
    "collapsed": true,
    "id": "OXF-t75vjc0G",
    "jupyter": {
     "outputs_hidden": true
    },
    "outputId": "bc842641-73bc-4d10-9c67-0ddd0ba9d43f"
   },
   "outputs": [
    {
     "name": "stdout",
     "output_type": "stream",
     "text": [
      "Requirement already satisfied: pip in /usr/local/lib/python3.10/dist-packages (24.2)\n",
      "Requirement already satisfied: setuptools in /usr/local/lib/python3.10/dist-packages (75.2.0)\n",
      "Requirement already satisfied: wheel in /usr/local/lib/python3.10/dist-packages (0.44.0)\n",
      "Requirement already satisfied: spacy in /usr/local/lib/python3.10/dist-packages (3.7.5)\n",
      "Collecting spacy\n",
      "  Downloading spacy-3.8.2-cp310-cp310-manylinux_2_17_x86_64.manylinux2014_x86_64.whl.metadata (27 kB)\n",
      "Requirement already satisfied: spacy-legacy<3.1.0,>=3.0.11 in /usr/local/lib/python3.10/dist-packages (from spacy) (3.0.12)\n",
      "Requirement already satisfied: spacy-loggers<2.0.0,>=1.0.0 in /usr/local/lib/python3.10/dist-packages (from spacy) (1.0.5)\n",
      "Requirement already satisfied: murmurhash<1.1.0,>=0.28.0 in /usr/local/lib/python3.10/dist-packages (from spacy) (1.0.10)\n",
      "Requirement already satisfied: cymem<2.1.0,>=2.0.2 in /usr/local/lib/python3.10/dist-packages (from spacy) (2.0.8)\n",
      "Requirement already satisfied: preshed<3.1.0,>=3.0.2 in /usr/local/lib/python3.10/dist-packages (from spacy) (3.0.9)\n",
      "Collecting thinc<8.4.0,>=8.3.0 (from spacy)\n",
      "  Downloading thinc-8.3.2-cp310-cp310-manylinux_2_17_x86_64.manylinux2014_x86_64.whl.metadata (15 kB)\n",
      "Requirement already satisfied: wasabi<1.2.0,>=0.9.1 in /usr/local/lib/python3.10/dist-packages (from spacy) (1.1.3)\n",
      "Requirement already satisfied: srsly<3.0.0,>=2.4.3 in /usr/local/lib/python3.10/dist-packages (from spacy) (2.4.8)\n",
      "Requirement already satisfied: catalogue<2.1.0,>=2.0.6 in /usr/local/lib/python3.10/dist-packages (from spacy) (2.0.10)\n",
      "Requirement already satisfied: weasel<0.5.0,>=0.1.0 in /usr/local/lib/python3.10/dist-packages (from spacy) (0.4.1)\n",
      "Requirement already satisfied: typer<1.0.0,>=0.3.0 in /usr/local/lib/python3.10/dist-packages (from spacy) (0.12.5)\n",
      "Requirement already satisfied: tqdm<5.0.0,>=4.38.0 in /usr/local/lib/python3.10/dist-packages (from spacy) (4.66.5)\n",
      "Requirement already satisfied: requests<3.0.0,>=2.13.0 in /usr/local/lib/python3.10/dist-packages (from spacy) (2.32.3)\n",
      "Requirement already satisfied: pydantic!=1.8,!=1.8.1,<3.0.0,>=1.7.4 in /usr/local/lib/python3.10/dist-packages (from spacy) (2.9.2)\n",
      "Requirement already satisfied: jinja2 in /usr/local/lib/python3.10/dist-packages (from spacy) (3.1.4)\n",
      "Requirement already satisfied: setuptools in /usr/local/lib/python3.10/dist-packages (from spacy) (75.2.0)\n",
      "Requirement already satisfied: packaging>=20.0 in /usr/local/lib/python3.10/dist-packages (from spacy) (24.1)\n",
      "Requirement already satisfied: langcodes<4.0.0,>=3.2.0 in /usr/local/lib/python3.10/dist-packages (from spacy) (3.4.1)\n",
      "Requirement already satisfied: numpy>=1.19.0 in /usr/local/lib/python3.10/dist-packages (from spacy) (1.26.4)\n",
      "Requirement already satisfied: language-data>=1.2 in /usr/local/lib/python3.10/dist-packages (from langcodes<4.0.0,>=3.2.0->spacy) (1.2.0)\n",
      "Requirement already satisfied: annotated-types>=0.6.0 in /usr/local/lib/python3.10/dist-packages (from pydantic!=1.8,!=1.8.1,<3.0.0,>=1.7.4->spacy) (0.7.0)\n",
      "Requirement already satisfied: pydantic-core==2.23.4 in /usr/local/lib/python3.10/dist-packages (from pydantic!=1.8,!=1.8.1,<3.0.0,>=1.7.4->spacy) (2.23.4)\n",
      "Requirement already satisfied: typing-extensions>=4.6.1 in /usr/local/lib/python3.10/dist-packages (from pydantic!=1.8,!=1.8.1,<3.0.0,>=1.7.4->spacy) (4.12.2)\n",
      "Requirement already satisfied: charset-normalizer<4,>=2 in /usr/local/lib/python3.10/dist-packages (from requests<3.0.0,>=2.13.0->spacy) (3.4.0)\n",
      "Requirement already satisfied: idna<4,>=2.5 in /usr/local/lib/python3.10/dist-packages (from requests<3.0.0,>=2.13.0->spacy) (3.10)\n",
      "Requirement already satisfied: urllib3<3,>=1.21.1 in /usr/local/lib/python3.10/dist-packages (from requests<3.0.0,>=2.13.0->spacy) (2.2.3)\n",
      "Requirement already satisfied: certifi>=2017.4.17 in /usr/local/lib/python3.10/dist-packages (from requests<3.0.0,>=2.13.0->spacy) (2024.8.30)\n",
      "Collecting blis<1.1.0,>=1.0.0 (from thinc<8.4.0,>=8.3.0->spacy)\n",
      "  Downloading blis-1.0.1-cp310-cp310-manylinux_2_17_x86_64.manylinux2014_x86_64.whl.metadata (7.6 kB)\n",
      "Requirement already satisfied: confection<1.0.0,>=0.0.1 in /usr/local/lib/python3.10/dist-packages (from thinc<8.4.0,>=8.3.0->spacy) (0.1.5)\n",
      "Collecting numpy>=1.19.0 (from spacy)\n",
      "  Downloading numpy-2.0.2-cp310-cp310-manylinux_2_17_x86_64.manylinux2014_x86_64.whl.metadata (60 kB)\n",
      "Requirement already satisfied: click>=8.0.0 in /usr/local/lib/python3.10/dist-packages (from typer<1.0.0,>=0.3.0->spacy) (8.1.7)\n",
      "Requirement already satisfied: shellingham>=1.3.0 in /usr/local/lib/python3.10/dist-packages (from typer<1.0.0,>=0.3.0->spacy) (1.5.4)\n",
      "Requirement already satisfied: rich>=10.11.0 in /usr/local/lib/python3.10/dist-packages (from typer<1.0.0,>=0.3.0->spacy) (13.9.2)\n",
      "Requirement already satisfied: cloudpathlib<1.0.0,>=0.7.0 in /usr/local/lib/python3.10/dist-packages (from weasel<0.5.0,>=0.1.0->spacy) (0.19.0)\n",
      "Requirement already satisfied: smart-open<8.0.0,>=5.2.1 in /usr/local/lib/python3.10/dist-packages (from weasel<0.5.0,>=0.1.0->spacy) (7.0.5)\n",
      "Requirement already satisfied: MarkupSafe>=2.0 in /usr/local/lib/python3.10/dist-packages (from jinja2->spacy) (3.0.2)\n",
      "Requirement already satisfied: marisa-trie>=0.7.7 in /usr/local/lib/python3.10/dist-packages (from language-data>=1.2->langcodes<4.0.0,>=3.2.0->spacy) (1.2.1)\n",
      "Requirement already satisfied: markdown-it-py>=2.2.0 in /usr/local/lib/python3.10/dist-packages (from rich>=10.11.0->typer<1.0.0,>=0.3.0->spacy) (3.0.0)\n",
      "Requirement already satisfied: pygments<3.0.0,>=2.13.0 in /usr/local/lib/python3.10/dist-packages (from rich>=10.11.0->typer<1.0.0,>=0.3.0->spacy) (2.18.0)\n",
      "Requirement already satisfied: wrapt in /usr/local/lib/python3.10/dist-packages (from smart-open<8.0.0,>=5.2.1->weasel<0.5.0,>=0.1.0->spacy) (1.16.0)\n",
      "Requirement already satisfied: mdurl~=0.1 in /usr/local/lib/python3.10/dist-packages (from markdown-it-py>=2.2.0->rich>=10.11.0->typer<1.0.0,>=0.3.0->spacy) (0.1.2)\n",
      "Downloading spacy-3.8.2-cp310-cp310-manylinux_2_17_x86_64.manylinux2014_x86_64.whl (29.1 MB)\n",
      "\u001b[2K   \u001b[90m━━━━━━━━━━━━━━━━━━━━━━━━━━━━━━━━━━━━━━━━\u001b[0m \u001b[32m29.1/29.1 MB\u001b[0m \u001b[31m104.8 MB/s\u001b[0m eta \u001b[36m0:00:00\u001b[0m\n",
      "\u001b[?25hDownloading thinc-8.3.2-cp310-cp310-manylinux_2_17_x86_64.manylinux2014_x86_64.whl (3.7 MB)\n",
      "\u001b[2K   \u001b[90m━━━━━━━━━━━━━━━━━━━━━━━━━━━━━━━━━━━━━━━━\u001b[0m \u001b[32m3.7/3.7 MB\u001b[0m \u001b[31m88.8 MB/s\u001b[0m eta \u001b[36m0:00:00\u001b[0m\n",
      "\u001b[?25hDownloading numpy-2.0.2-cp310-cp310-manylinux_2_17_x86_64.manylinux2014_x86_64.whl (19.5 MB)\n",
      "\u001b[2K   \u001b[90m━━━━━━━━━━━━━━━━━━━━━━━━━━━━━━━━━━━━━━━━\u001b[0m \u001b[32m19.5/19.5 MB\u001b[0m \u001b[31m101.9 MB/s\u001b[0m eta \u001b[36m0:00:00\u001b[0m\n",
      "\u001b[?25hDownloading blis-1.0.1-cp310-cp310-manylinux_2_17_x86_64.manylinux2014_x86_64.whl (9.2 MB)\n",
      "\u001b[2K   \u001b[90m━━━━━━━━━━━━━━━━━━━━━━━━━━━━━━━━━━━━━━━━\u001b[0m \u001b[32m9.2/9.2 MB\u001b[0m \u001b[31m104.2 MB/s\u001b[0m eta \u001b[36m0:00:00\u001b[0m\n",
      "\u001b[?25hInstalling collected packages: numpy, blis, thinc, spacy\n",
      "  Attempting uninstall: numpy\n",
      "    Found existing installation: numpy 1.26.4\n",
      "    Uninstalling numpy-1.26.4:\n",
      "      Successfully uninstalled numpy-1.26.4\n",
      "  Attempting uninstall: blis\n",
      "    Found existing installation: blis 0.7.11\n",
      "    Uninstalling blis-0.7.11:\n",
      "      Successfully uninstalled blis-0.7.11\n",
      "  Attempting uninstall: thinc\n",
      "    Found existing installation: thinc 8.2.5\n",
      "    Uninstalling thinc-8.2.5:\n",
      "      Successfully uninstalled thinc-8.2.5\n",
      "  Attempting uninstall: spacy\n",
      "    Found existing installation: spacy 3.7.5\n",
      "    Uninstalling spacy-3.7.5:\n",
      "      Successfully uninstalled spacy-3.7.5\n",
      "\u001b[31mERROR: pip's dependency resolver does not currently take into account all the packages that are installed. This behaviour is the source of the following dependency conflicts.\n",
      "cupy-cuda12x 12.2.0 requires numpy<1.27,>=1.20, but you have numpy 2.0.2 which is incompatible.\n",
      "en-core-web-sm 3.7.1 requires spacy<3.8.0,>=3.7.2, but you have spacy 3.8.2 which is incompatible.\n",
      "gensim 4.3.3 requires numpy<2.0,>=1.18.5, but you have numpy 2.0.2 which is incompatible.\n",
      "pytensor 2.25.5 requires numpy<2,>=1.17.0, but you have numpy 2.0.2 which is incompatible.\n",
      "tensorflow 2.17.0 requires numpy<2.0.0,>=1.23.5; python_version <= \"3.11\", but you have numpy 2.0.2 which is incompatible.\u001b[0m\u001b[31m\n",
      "\u001b[0mSuccessfully installed blis-1.0.1 numpy-2.0.2 spacy-3.8.2 thinc-8.3.2\n",
      "Collecting en-core-web-sm==3.8.0\n",
      "  Downloading https://github.com/explosion/spacy-models/releases/download/en_core_web_sm-3.8.0/en_core_web_sm-3.8.0-py3-none-any.whl (12.8 MB)\n",
      "\u001b[2K     \u001b[90m━━━━━━━━━━━━━━━━━━━━━━━━━━━━━━━━━━━━━━━━\u001b[0m \u001b[32m12.8/12.8 MB\u001b[0m \u001b[31m85.0 MB/s\u001b[0m eta \u001b[36m0:00:00\u001b[0m\n",
      "\u001b[?25hInstalling collected packages: en-core-web-sm\n",
      "  Attempting uninstall: en-core-web-sm\n",
      "    Found existing installation: en-core-web-sm 3.7.1\n",
      "    Uninstalling en-core-web-sm-3.7.1:\n",
      "      Successfully uninstalled en-core-web-sm-3.7.1\n",
      "Successfully installed en-core-web-sm-3.8.0\n",
      "\u001b[38;5;2m✔ Download and installation successful\u001b[0m\n",
      "You can now load the package via spacy.load('en_core_web_sm')\n",
      "\u001b[38;5;3m⚠ Restart to reload dependencies\u001b[0m\n",
      "If you are in a Jupyter or Colab notebook, you may need to restart Python in\n",
      "order to load all the package's dependencies. You can do this by selecting the\n",
      "'Restart kernel' or 'Restart runtime' option.\n"
     ]
    }
   ],
   "source": [
    "!pip install -U pip setuptools wheel\n",
    "!pip install -U spacy\n",
    "!python -m spacy download en_core_web_sm"
   ]
  },
  {
   "cell_type": "code",
   "execution_count": null,
   "metadata": {
    "colab": {
     "base_uri": "https://localhost:8080/"
    },
    "collapsed": true,
    "id": "nw3atsAuXqEm",
    "jupyter": {
     "outputs_hidden": true
    },
    "outputId": "0a51bfc3-890f-43c9-9ce2-092135f94c55"
   },
   "outputs": [
    {
     "name": "stdout",
     "output_type": "stream",
     "text": [
      "Requirement already satisfied: spacy in /usr/local/lib/python3.10/dist-packages (3.8.2)\n",
      "Requirement already satisfied: spacy-universal-sentence-encoder in /usr/local/lib/python3.10/dist-packages (0.4.6)\n",
      "Requirement already satisfied: spacy-legacy<3.1.0,>=3.0.11 in /usr/local/lib/python3.10/dist-packages (from spacy) (3.0.12)\n",
      "Requirement already satisfied: spacy-loggers<2.0.0,>=1.0.0 in /usr/local/lib/python3.10/dist-packages (from spacy) (1.0.5)\n",
      "Requirement already satisfied: murmurhash<1.1.0,>=0.28.0 in /usr/local/lib/python3.10/dist-packages (from spacy) (1.0.10)\n",
      "Requirement already satisfied: cymem<2.1.0,>=2.0.2 in /usr/local/lib/python3.10/dist-packages (from spacy) (2.0.8)\n",
      "Requirement already satisfied: preshed<3.1.0,>=3.0.2 in /usr/local/lib/python3.10/dist-packages (from spacy) (3.0.9)\n",
      "Requirement already satisfied: thinc<8.4.0,>=8.3.0 in /usr/local/lib/python3.10/dist-packages (from spacy) (8.3.2)\n",
      "Requirement already satisfied: wasabi<1.2.0,>=0.9.1 in /usr/local/lib/python3.10/dist-packages (from spacy) (1.1.3)\n",
      "Requirement already satisfied: srsly<3.0.0,>=2.4.3 in /usr/local/lib/python3.10/dist-packages (from spacy) (2.4.8)\n",
      "Requirement already satisfied: catalogue<2.1.0,>=2.0.6 in /usr/local/lib/python3.10/dist-packages (from spacy) (2.0.10)\n",
      "Requirement already satisfied: weasel<0.5.0,>=0.1.0 in /usr/local/lib/python3.10/dist-packages (from spacy) (0.4.1)\n",
      "Requirement already satisfied: typer<1.0.0,>=0.3.0 in /usr/local/lib/python3.10/dist-packages (from spacy) (0.12.5)\n",
      "Requirement already satisfied: tqdm<5.0.0,>=4.38.0 in /usr/local/lib/python3.10/dist-packages (from spacy) (4.66.5)\n",
      "Requirement already satisfied: requests<3.0.0,>=2.13.0 in /usr/local/lib/python3.10/dist-packages (from spacy) (2.32.3)\n",
      "Requirement already satisfied: pydantic!=1.8,!=1.8.1,<3.0.0,>=1.7.4 in /usr/local/lib/python3.10/dist-packages (from spacy) (2.9.2)\n",
      "Requirement already satisfied: jinja2 in /usr/local/lib/python3.10/dist-packages (from spacy) (3.1.4)\n",
      "Requirement already satisfied: setuptools in /usr/local/lib/python3.10/dist-packages (from spacy) (75.2.0)\n",
      "Requirement already satisfied: packaging>=20.0 in /usr/local/lib/python3.10/dist-packages (from spacy) (24.1)\n",
      "Requirement already satisfied: langcodes<4.0.0,>=3.2.0 in /usr/local/lib/python3.10/dist-packages (from spacy) (3.4.1)\n",
      "Requirement already satisfied: numpy>=1.19.0 in /usr/local/lib/python3.10/dist-packages (from spacy) (2.0.2)\n",
      "Requirement already satisfied: tensorflow<3.0.0,>=2.4.0 in /usr/local/lib/python3.10/dist-packages (from spacy-universal-sentence-encoder) (2.14.0)\n",
      "Requirement already satisfied: tensorflow-hub in /usr/local/lib/python3.10/dist-packages (from spacy-universal-sentence-encoder) (0.16.1)\n",
      "Requirement already satisfied: language-data>=1.2 in /usr/local/lib/python3.10/dist-packages (from langcodes<4.0.0,>=3.2.0->spacy) (1.2.0)\n",
      "Requirement already satisfied: annotated-types>=0.6.0 in /usr/local/lib/python3.10/dist-packages (from pydantic!=1.8,!=1.8.1,<3.0.0,>=1.7.4->spacy) (0.7.0)\n",
      "Requirement already satisfied: pydantic-core==2.23.4 in /usr/local/lib/python3.10/dist-packages (from pydantic!=1.8,!=1.8.1,<3.0.0,>=1.7.4->spacy) (2.23.4)\n",
      "Requirement already satisfied: typing-extensions>=4.6.1 in /usr/local/lib/python3.10/dist-packages (from pydantic!=1.8,!=1.8.1,<3.0.0,>=1.7.4->spacy) (4.12.2)\n",
      "Requirement already satisfied: charset-normalizer<4,>=2 in /usr/local/lib/python3.10/dist-packages (from requests<3.0.0,>=2.13.0->spacy) (3.4.0)\n",
      "Requirement already satisfied: idna<4,>=2.5 in /usr/local/lib/python3.10/dist-packages (from requests<3.0.0,>=2.13.0->spacy) (3.10)\n",
      "Requirement already satisfied: urllib3<3,>=1.21.1 in /usr/local/lib/python3.10/dist-packages (from requests<3.0.0,>=2.13.0->spacy) (2.2.3)\n",
      "Requirement already satisfied: certifi>=2017.4.17 in /usr/local/lib/python3.10/dist-packages (from requests<3.0.0,>=2.13.0->spacy) (2024.8.30)\n",
      "Requirement already satisfied: absl-py>=1.0.0 in /usr/local/lib/python3.10/dist-packages (from tensorflow<3.0.0,>=2.4.0->spacy-universal-sentence-encoder) (1.4.0)\n",
      "Requirement already satisfied: astunparse>=1.6.0 in /usr/local/lib/python3.10/dist-packages (from tensorflow<3.0.0,>=2.4.0->spacy-universal-sentence-encoder) (1.6.3)\n",
      "Requirement already satisfied: flatbuffers>=23.5.26 in /usr/local/lib/python3.10/dist-packages (from tensorflow<3.0.0,>=2.4.0->spacy-universal-sentence-encoder) (24.3.25)\n",
      "Requirement already satisfied: gast!=0.5.0,!=0.5.1,!=0.5.2,>=0.2.1 in /usr/local/lib/python3.10/dist-packages (from tensorflow<3.0.0,>=2.4.0->spacy-universal-sentence-encoder) (0.6.0)\n",
      "Requirement already satisfied: google-pasta>=0.1.1 in /usr/local/lib/python3.10/dist-packages (from tensorflow<3.0.0,>=2.4.0->spacy-universal-sentence-encoder) (0.2.0)\n",
      "Requirement already satisfied: h5py>=2.9.0 in /usr/local/lib/python3.10/dist-packages (from tensorflow<3.0.0,>=2.4.0->spacy-universal-sentence-encoder) (3.11.0)\n",
      "Requirement already satisfied: libclang>=13.0.0 in /usr/local/lib/python3.10/dist-packages (from tensorflow<3.0.0,>=2.4.0->spacy-universal-sentence-encoder) (18.1.1)\n",
      "Requirement already satisfied: ml-dtypes==0.2.0 in /usr/local/lib/python3.10/dist-packages (from tensorflow<3.0.0,>=2.4.0->spacy-universal-sentence-encoder) (0.2.0)\n",
      "Requirement already satisfied: opt-einsum>=2.3.2 in /usr/local/lib/python3.10/dist-packages (from tensorflow<3.0.0,>=2.4.0->spacy-universal-sentence-encoder) (3.4.0)\n",
      "Requirement already satisfied: protobuf!=4.21.0,!=4.21.1,!=4.21.2,!=4.21.3,!=4.21.4,!=4.21.5,<5.0.0dev,>=3.20.3 in /usr/local/lib/python3.10/dist-packages (from tensorflow<3.0.0,>=2.4.0->spacy-universal-sentence-encoder) (3.20.3)\n",
      "Requirement already satisfied: six>=1.12.0 in /usr/local/lib/python3.10/dist-packages (from tensorflow<3.0.0,>=2.4.0->spacy-universal-sentence-encoder) (1.16.0)\n",
      "Requirement already satisfied: termcolor>=1.1.0 in /usr/local/lib/python3.10/dist-packages (from tensorflow<3.0.0,>=2.4.0->spacy-universal-sentence-encoder) (2.5.0)\n",
      "Requirement already satisfied: wrapt<1.15,>=1.11.0 in /usr/local/lib/python3.10/dist-packages (from tensorflow<3.0.0,>=2.4.0->spacy-universal-sentence-encoder) (1.14.1)\n",
      "Requirement already satisfied: tensorflow-io-gcs-filesystem>=0.23.1 in /usr/local/lib/python3.10/dist-packages (from tensorflow<3.0.0,>=2.4.0->spacy-universal-sentence-encoder) (0.37.1)\n",
      "Requirement already satisfied: grpcio<2.0,>=1.24.3 in /usr/local/lib/python3.10/dist-packages (from tensorflow<3.0.0,>=2.4.0->spacy-universal-sentence-encoder) (1.64.1)\n",
      "Requirement already satisfied: tensorboard<2.15,>=2.14 in /usr/local/lib/python3.10/dist-packages (from tensorflow<3.0.0,>=2.4.0->spacy-universal-sentence-encoder) (2.14.1)\n",
      "Requirement already satisfied: tensorflow-estimator<2.15,>=2.14.0 in /usr/local/lib/python3.10/dist-packages (from tensorflow<3.0.0,>=2.4.0->spacy-universal-sentence-encoder) (2.14.0)\n",
      "Requirement already satisfied: keras<2.15,>=2.14.0 in /usr/local/lib/python3.10/dist-packages (from tensorflow<3.0.0,>=2.4.0->spacy-universal-sentence-encoder) (2.14.0)\n",
      "Requirement already satisfied: blis<1.1.0,>=1.0.0 in /usr/local/lib/python3.10/dist-packages (from thinc<8.4.0,>=8.3.0->spacy) (1.0.1)\n",
      "Requirement already satisfied: confection<1.0.0,>=0.0.1 in /usr/local/lib/python3.10/dist-packages (from thinc<8.4.0,>=8.3.0->spacy) (0.1.5)\n",
      "Requirement already satisfied: click>=8.0.0 in /usr/local/lib/python3.10/dist-packages (from typer<1.0.0,>=0.3.0->spacy) (8.1.7)\n",
      "Requirement already satisfied: shellingham>=1.3.0 in /usr/local/lib/python3.10/dist-packages (from typer<1.0.0,>=0.3.0->spacy) (1.5.4)\n",
      "Requirement already satisfied: rich>=10.11.0 in /usr/local/lib/python3.10/dist-packages (from typer<1.0.0,>=0.3.0->spacy) (13.9.2)\n",
      "Requirement already satisfied: cloudpathlib<1.0.0,>=0.7.0 in /usr/local/lib/python3.10/dist-packages (from weasel<0.5.0,>=0.1.0->spacy) (0.19.0)\n",
      "Requirement already satisfied: smart-open<8.0.0,>=5.2.1 in /usr/local/lib/python3.10/dist-packages (from weasel<0.5.0,>=0.1.0->spacy) (7.0.5)\n",
      "Requirement already satisfied: MarkupSafe>=2.0 in /usr/local/lib/python3.10/dist-packages (from jinja2->spacy) (3.0.2)\n",
      "Requirement already satisfied: tf-keras>=2.14.1 in /usr/local/lib/python3.10/dist-packages (from tensorflow-hub->spacy-universal-sentence-encoder) (2.15.0)\n",
      "Requirement already satisfied: wheel<1.0,>=0.23.0 in /usr/local/lib/python3.10/dist-packages (from astunparse>=1.6.0->tensorflow<3.0.0,>=2.4.0->spacy-universal-sentence-encoder) (0.44.0)\n",
      "Requirement already satisfied: marisa-trie>=0.7.7 in /usr/local/lib/python3.10/dist-packages (from language-data>=1.2->langcodes<4.0.0,>=3.2.0->spacy) (1.2.1)\n",
      "Requirement already satisfied: markdown-it-py>=2.2.0 in /usr/local/lib/python3.10/dist-packages (from rich>=10.11.0->typer<1.0.0,>=0.3.0->spacy) (3.0.0)\n",
      "Requirement already satisfied: pygments<3.0.0,>=2.13.0 in /usr/local/lib/python3.10/dist-packages (from rich>=10.11.0->typer<1.0.0,>=0.3.0->spacy) (2.18.0)\n",
      "Requirement already satisfied: google-auth<3,>=1.6.3 in /usr/local/lib/python3.10/dist-packages (from tensorboard<2.15,>=2.14->tensorflow<3.0.0,>=2.4.0->spacy-universal-sentence-encoder) (2.27.0)\n",
      "Requirement already satisfied: google-auth-oauthlib<1.1,>=0.5 in /usr/local/lib/python3.10/dist-packages (from tensorboard<2.15,>=2.14->tensorflow<3.0.0,>=2.4.0->spacy-universal-sentence-encoder) (1.0.0)\n",
      "Requirement already satisfied: markdown>=2.6.8 in /usr/local/lib/python3.10/dist-packages (from tensorboard<2.15,>=2.14->tensorflow<3.0.0,>=2.4.0->spacy-universal-sentence-encoder) (3.7)\n",
      "Requirement already satisfied: tensorboard-data-server<0.8.0,>=0.7.0 in /usr/local/lib/python3.10/dist-packages (from tensorboard<2.15,>=2.14->tensorflow<3.0.0,>=2.4.0->spacy-universal-sentence-encoder) (0.7.2)\n",
      "Requirement already satisfied: werkzeug>=1.0.1 in /usr/local/lib/python3.10/dist-packages (from tensorboard<2.15,>=2.14->tensorflow<3.0.0,>=2.4.0->spacy-universal-sentence-encoder) (3.0.4)\n",
      "Requirement already satisfied: cachetools<6.0,>=2.0.0 in /usr/local/lib/python3.10/dist-packages (from google-auth<3,>=1.6.3->tensorboard<2.15,>=2.14->tensorflow<3.0.0,>=2.4.0->spacy-universal-sentence-encoder) (5.5.0)\n",
      "Requirement already satisfied: pyasn1-modules>=0.2.1 in /usr/local/lib/python3.10/dist-packages (from google-auth<3,>=1.6.3->tensorboard<2.15,>=2.14->tensorflow<3.0.0,>=2.4.0->spacy-universal-sentence-encoder) (0.4.1)\n",
      "Requirement already satisfied: rsa<5,>=3.1.4 in /usr/local/lib/python3.10/dist-packages (from google-auth<3,>=1.6.3->tensorboard<2.15,>=2.14->tensorflow<3.0.0,>=2.4.0->spacy-universal-sentence-encoder) (4.9)\n",
      "Requirement already satisfied: requests-oauthlib>=0.7.0 in /usr/local/lib/python3.10/dist-packages (from google-auth-oauthlib<1.1,>=0.5->tensorboard<2.15,>=2.14->tensorflow<3.0.0,>=2.4.0->spacy-universal-sentence-encoder) (1.3.1)\n",
      "Requirement already satisfied: mdurl~=0.1 in /usr/local/lib/python3.10/dist-packages (from markdown-it-py>=2.2.0->rich>=10.11.0->typer<1.0.0,>=0.3.0->spacy) (0.1.2)\n",
      "Requirement already satisfied: pyasn1<0.7.0,>=0.4.6 in /usr/local/lib/python3.10/dist-packages (from pyasn1-modules>=0.2.1->google-auth<3,>=1.6.3->tensorboard<2.15,>=2.14->tensorflow<3.0.0,>=2.4.0->spacy-universal-sentence-encoder) (0.6.1)\n",
      "Requirement already satisfied: oauthlib>=3.0.0 in /usr/local/lib/python3.10/dist-packages (from requests-oauthlib>=0.7.0->google-auth-oauthlib<1.1,>=0.5->tensorboard<2.15,>=2.14->tensorflow<3.0.0,>=2.4.0->spacy-universal-sentence-encoder) (3.2.2)\n"
     ]
    }
   ],
   "source": [
    "!pip install spacy spacy-universal-sentence-encoder"
   ]
  },
  {
   "cell_type": "code",
   "execution_count": 41,
   "metadata": {
    "colab": {
     "base_uri": "https://localhost:8080/"
    },
    "id": "Bc9gu9kJj_Eq",
    "outputId": "5032f019-1bc3-47ee-9c02-10ec97d638e3",
    "scrolled": true
   },
   "outputs": [
    {
     "name": "stdout",
     "output_type": "stream",
     "text": [
      "Collecting https://github.com/MartinoMensio/spacy-universal-sentence-encoder/releases/download/v0.4.6/en_use_lg-0.4.6.tar.gz#en_use_lg-0.4.6\n",
      "  Downloading https://github.com/MartinoMensio/spacy-universal-sentence-encoder/releases/download/v0.4.6/en_use_lg-0.4.6.tar.gz (24 kB)\n",
      "  Preparing metadata (setup.py) ... \u001b[?25ldone\n",
      "\u001b[?25hCollecting spacy<4.0,>=3.0 (from en-use-lg==0.4.6)\n",
      "  Downloading spacy-3.8.2-cp310-cp310-macosx_11_0_arm64.whl.metadata (27 kB)\n",
      "Collecting spacy-universal-sentence-encoder>=0.4.6 (from en-use-lg==0.4.6)\n",
      "  Downloading spacy_universal_sentence_encoder-0.4.6.tar.gz (15 kB)\n",
      "  Preparing metadata (setup.py) ... \u001b[?25ldone\n",
      "\u001b[?25hCollecting spacy-legacy<3.1.0,>=3.0.11 (from spacy<4.0,>=3.0->en-use-lg==0.4.6)\n",
      "  Downloading spacy_legacy-3.0.12-py2.py3-none-any.whl.metadata (2.8 kB)\n",
      "Collecting spacy-loggers<2.0.0,>=1.0.0 (from spacy<4.0,>=3.0->en-use-lg==0.4.6)\n",
      "  Downloading spacy_loggers-1.0.5-py3-none-any.whl.metadata (23 kB)\n",
      "Collecting murmurhash<1.1.0,>=0.28.0 (from spacy<4.0,>=3.0->en-use-lg==0.4.6)\n",
      "  Downloading murmurhash-1.0.10-cp310-cp310-macosx_11_0_arm64.whl.metadata (2.0 kB)\n",
      "Collecting cymem<2.1.0,>=2.0.2 (from spacy<4.0,>=3.0->en-use-lg==0.4.6)\n",
      "  Downloading cymem-2.0.8-cp310-cp310-macosx_11_0_arm64.whl.metadata (8.4 kB)\n",
      "Collecting preshed<3.1.0,>=3.0.2 (from spacy<4.0,>=3.0->en-use-lg==0.4.6)\n",
      "  Downloading preshed-3.0.9-cp310-cp310-macosx_11_0_arm64.whl.metadata (2.2 kB)\n",
      "Collecting thinc<8.4.0,>=8.3.0 (from spacy<4.0,>=3.0->en-use-lg==0.4.6)\n",
      "  Downloading thinc-8.3.2-cp310-cp310-macosx_11_0_arm64.whl.metadata (15 kB)\n",
      "Collecting wasabi<1.2.0,>=0.9.1 (from spacy<4.0,>=3.0->en-use-lg==0.4.6)\n",
      "  Downloading wasabi-1.1.3-py3-none-any.whl.metadata (28 kB)\n",
      "Collecting srsly<3.0.0,>=2.4.3 (from spacy<4.0,>=3.0->en-use-lg==0.4.6)\n",
      "  Downloading srsly-2.4.8-cp310-cp310-macosx_11_0_arm64.whl.metadata (20 kB)\n",
      "Collecting catalogue<2.1.0,>=2.0.6 (from spacy<4.0,>=3.0->en-use-lg==0.4.6)\n",
      "  Downloading catalogue-2.0.10-py3-none-any.whl.metadata (14 kB)\n",
      "Collecting weasel<0.5.0,>=0.1.0 (from spacy<4.0,>=3.0->en-use-lg==0.4.6)\n",
      "  Downloading weasel-0.4.1-py3-none-any.whl.metadata (4.6 kB)\n",
      "Collecting typer<1.0.0,>=0.3.0 (from spacy<4.0,>=3.0->en-use-lg==0.4.6)\n",
      "  Downloading typer-0.12.5-py3-none-any.whl.metadata (15 kB)\n",
      "Requirement already satisfied: tqdm<5.0.0,>=4.38.0 in /Users/jxu/anaconda3/lib/python3.10/site-packages (from spacy<4.0,>=3.0->en-use-lg==0.4.6) (4.66.4)\n",
      "Requirement already satisfied: requests<3.0.0,>=2.13.0 in /Users/jxu/anaconda3/lib/python3.10/site-packages (from spacy<4.0,>=3.0->en-use-lg==0.4.6) (2.32.2)\n",
      "Requirement already satisfied: pydantic!=1.8,!=1.8.1,<3.0.0,>=1.7.4 in /Users/jxu/anaconda3/lib/python3.10/site-packages (from spacy<4.0,>=3.0->en-use-lg==0.4.6) (1.10.9)\n",
      "Requirement already satisfied: jinja2 in /Users/jxu/anaconda3/lib/python3.10/site-packages (from spacy<4.0,>=3.0->en-use-lg==0.4.6) (3.1.4)\n",
      "Requirement already satisfied: setuptools in /Users/jxu/anaconda3/lib/python3.10/site-packages (from spacy<4.0,>=3.0->en-use-lg==0.4.6) (65.6.3)\n",
      "Requirement already satisfied: packaging>=20.0 in /Users/jxu/anaconda3/lib/python3.10/site-packages (from spacy<4.0,>=3.0->en-use-lg==0.4.6) (24.1)\n",
      "Collecting langcodes<4.0.0,>=3.2.0 (from spacy<4.0,>=3.0->en-use-lg==0.4.6)\n",
      "  Downloading langcodes-3.4.1-py3-none-any.whl.metadata (29 kB)\n",
      "Requirement already satisfied: numpy>=1.19.0 in /Users/jxu/anaconda3/lib/python3.10/site-packages (from spacy<4.0,>=3.0->en-use-lg==0.4.6) (1.26.4)\n",
      "Requirement already satisfied: tensorflow<3.0.0,>=2.4.0 in /Users/jxu/anaconda3/lib/python3.10/site-packages (from spacy-universal-sentence-encoder>=0.4.6->en-use-lg==0.4.6) (2.13.0rc1)\n",
      "Collecting tensorflow-hub (from spacy-universal-sentence-encoder>=0.4.6->en-use-lg==0.4.6)\n",
      "  Downloading tensorflow_hub-0.16.1-py2.py3-none-any.whl.metadata (1.3 kB)\n",
      "Collecting language-data>=1.2 (from langcodes<4.0.0,>=3.2.0->spacy<4.0,>=3.0->en-use-lg==0.4.6)\n",
      "  Downloading language_data-1.2.0-py3-none-any.whl.metadata (4.3 kB)\n",
      "Requirement already satisfied: typing-extensions>=4.2.0 in /Users/jxu/anaconda3/lib/python3.10/site-packages (from pydantic!=1.8,!=1.8.1,<3.0.0,>=1.7.4->spacy<4.0,>=3.0->en-use-lg==0.4.6) (4.11.0)\n",
      "Requirement already satisfied: charset-normalizer<4,>=2 in /Users/jxu/anaconda3/lib/python3.10/site-packages (from requests<3.0.0,>=2.13.0->spacy<4.0,>=3.0->en-use-lg==0.4.6) (2.0.4)\n",
      "Requirement already satisfied: idna<4,>=2.5 in /Users/jxu/anaconda3/lib/python3.10/site-packages (from requests<3.0.0,>=2.13.0->spacy<4.0,>=3.0->en-use-lg==0.4.6) (3.7)\n",
      "Requirement already satisfied: urllib3<3,>=1.21.1 in /Users/jxu/anaconda3/lib/python3.10/site-packages (from requests<3.0.0,>=2.13.0->spacy<4.0,>=3.0->en-use-lg==0.4.6) (1.26.19)\n",
      "Requirement already satisfied: certifi>=2017.4.17 in /Users/jxu/anaconda3/lib/python3.10/site-packages (from requests<3.0.0,>=2.13.0->spacy<4.0,>=3.0->en-use-lg==0.4.6) (2024.7.4)\n",
      "Requirement already satisfied: tensorflow-macos==2.13.0-rc1 in /Users/jxu/anaconda3/lib/python3.10/site-packages (from tensorflow<3.0.0,>=2.4.0->spacy-universal-sentence-encoder>=0.4.6->en-use-lg==0.4.6) (2.13.0rc1)\n",
      "Requirement already satisfied: absl-py>=1.0.0 in /Users/jxu/anaconda3/lib/python3.10/site-packages (from tensorflow-macos==2.13.0-rc1->tensorflow<3.0.0,>=2.4.0->spacy-universal-sentence-encoder>=0.4.6->en-use-lg==0.4.6) (1.4.0)\n",
      "Requirement already satisfied: astunparse>=1.6.0 in /Users/jxu/anaconda3/lib/python3.10/site-packages (from tensorflow-macos==2.13.0-rc1->tensorflow<3.0.0,>=2.4.0->spacy-universal-sentence-encoder>=0.4.6->en-use-lg==0.4.6) (1.6.3)\n",
      "Requirement already satisfied: flatbuffers>=23.1.21 in /Users/jxu/anaconda3/lib/python3.10/site-packages (from tensorflow-macos==2.13.0-rc1->tensorflow<3.0.0,>=2.4.0->spacy-universal-sentence-encoder>=0.4.6->en-use-lg==0.4.6) (23.5.26)\n",
      "Requirement already satisfied: gast<=0.4.0,>=0.2.1 in /Users/jxu/anaconda3/lib/python3.10/site-packages (from tensorflow-macos==2.13.0-rc1->tensorflow<3.0.0,>=2.4.0->spacy-universal-sentence-encoder>=0.4.6->en-use-lg==0.4.6) (0.4.0)\n",
      "Requirement already satisfied: google-pasta>=0.1.1 in /Users/jxu/anaconda3/lib/python3.10/site-packages (from tensorflow-macos==2.13.0-rc1->tensorflow<3.0.0,>=2.4.0->spacy-universal-sentence-encoder>=0.4.6->en-use-lg==0.4.6) (0.2.0)\n",
      "Collecting h5py>=2.9.0 (from tensorflow-macos==2.13.0-rc1->tensorflow<3.0.0,>=2.4.0->spacy-universal-sentence-encoder>=0.4.6->en-use-lg==0.4.6)\n",
      "  Downloading h5py-3.12.1-cp310-cp310-macosx_11_0_arm64.whl.metadata (2.5 kB)\n",
      "Requirement already satisfied: libclang>=13.0.0 in /Users/jxu/anaconda3/lib/python3.10/site-packages (from tensorflow-macos==2.13.0-rc1->tensorflow<3.0.0,>=2.4.0->spacy-universal-sentence-encoder>=0.4.6->en-use-lg==0.4.6) (16.0.0)\n",
      "Requirement already satisfied: opt-einsum>=2.3.2 in /Users/jxu/anaconda3/lib/python3.10/site-packages (from tensorflow-macos==2.13.0-rc1->tensorflow<3.0.0,>=2.4.0->spacy-universal-sentence-encoder>=0.4.6->en-use-lg==0.4.6) (3.3.0)\n",
      "Requirement already satisfied: protobuf!=4.21.0,!=4.21.1,!=4.21.2,!=4.21.3,!=4.21.4,!=4.21.5,<5.0.0dev,>=3.20.3 in /Users/jxu/anaconda3/lib/python3.10/site-packages (from tensorflow-macos==2.13.0-rc1->tensorflow<3.0.0,>=2.4.0->spacy-universal-sentence-encoder>=0.4.6->en-use-lg==0.4.6) (3.20.3)\n",
      "Requirement already satisfied: six>=1.12.0 in /Users/jxu/anaconda3/lib/python3.10/site-packages (from tensorflow-macos==2.13.0-rc1->tensorflow<3.0.0,>=2.4.0->spacy-universal-sentence-encoder>=0.4.6->en-use-lg==0.4.6) (1.16.0)\n",
      "Requirement already satisfied: termcolor>=1.1.0 in /Users/jxu/anaconda3/lib/python3.10/site-packages (from tensorflow-macos==2.13.0-rc1->tensorflow<3.0.0,>=2.4.0->spacy-universal-sentence-encoder>=0.4.6->en-use-lg==0.4.6) (2.3.0)\n",
      "Collecting wrapt>=1.11.0 (from tensorflow-macos==2.13.0-rc1->tensorflow<3.0.0,>=2.4.0->spacy-universal-sentence-encoder>=0.4.6->en-use-lg==0.4.6)\n",
      "  Downloading wrapt-1.16.0-cp310-cp310-macosx_11_0_arm64.whl.metadata (6.6 kB)\n",
      "Requirement already satisfied: grpcio<2.0,>=1.24.3 in /Users/jxu/anaconda3/lib/python3.10/site-packages (from tensorflow-macos==2.13.0-rc1->tensorflow<3.0.0,>=2.4.0->spacy-universal-sentence-encoder>=0.4.6->en-use-lg==0.4.6) (1.49.1)\n",
      "Requirement already satisfied: tensorboard<2.14,>=2.13 in /Users/jxu/anaconda3/lib/python3.10/site-packages (from tensorflow-macos==2.13.0-rc1->tensorflow<3.0.0,>=2.4.0->spacy-universal-sentence-encoder>=0.4.6->en-use-lg==0.4.6) (2.13.0)\n",
      "Requirement already satisfied: tensorflow-estimator<2.14,>=2.13.0rc0 in /Users/jxu/anaconda3/lib/python3.10/site-packages (from tensorflow-macos==2.13.0-rc1->tensorflow<3.0.0,>=2.4.0->spacy-universal-sentence-encoder>=0.4.6->en-use-lg==0.4.6) (2.13.0rc0)\n",
      "Requirement already satisfied: keras<2.14,>=2.13.1rc0 in /Users/jxu/anaconda3/lib/python3.10/site-packages (from tensorflow-macos==2.13.0-rc1->tensorflow<3.0.0,>=2.4.0->spacy-universal-sentence-encoder>=0.4.6->en-use-lg==0.4.6) (2.13.1rc0)\n",
      "Collecting blis<1.1.0,>=1.0.0 (from thinc<8.4.0,>=8.3.0->spacy<4.0,>=3.0->en-use-lg==0.4.6)\n",
      "  Downloading blis-1.0.1-cp310-cp310-macosx_11_0_arm64.whl.metadata (7.6 kB)\n",
      "Collecting confection<1.0.0,>=0.0.1 (from thinc<8.4.0,>=8.3.0->spacy<4.0,>=3.0->en-use-lg==0.4.6)\n",
      "  Downloading confection-0.1.5-py3-none-any.whl.metadata (19 kB)\n",
      "Collecting numpy>=1.19.0 (from spacy<4.0,>=3.0->en-use-lg==0.4.6)\n",
      "  Downloading numpy-2.0.2-cp310-cp310-macosx_11_0_arm64.whl.metadata (114 kB)\n",
      "\u001b[2K     \u001b[90m━━━━━━━━━━━━━━━━━━━━━━━━━━━━━━━━━━━━━━━\u001b[0m \u001b[32m114.5/114.5 kB\u001b[0m \u001b[31m3.8 MB/s\u001b[0m eta \u001b[36m0:00:00\u001b[0m\n",
      "\u001b[?25hRequirement already satisfied: click>=8.0.0 in /Users/jxu/anaconda3/lib/python3.10/site-packages (from typer<1.0.0,>=0.3.0->spacy<4.0,>=3.0->en-use-lg==0.4.6) (8.1.7)\n",
      "Collecting shellingham>=1.3.0 (from typer<1.0.0,>=0.3.0->spacy<4.0,>=3.0->en-use-lg==0.4.6)\n",
      "  Downloading shellingham-1.5.4-py2.py3-none-any.whl.metadata (3.5 kB)\n",
      "Requirement already satisfied: rich>=10.11.0 in /Users/jxu/anaconda3/lib/python3.10/site-packages (from typer<1.0.0,>=0.3.0->spacy<4.0,>=3.0->en-use-lg==0.4.6) (13.4.2)\n",
      "Collecting cloudpathlib<1.0.0,>=0.7.0 (from weasel<0.5.0,>=0.1.0->spacy<4.0,>=3.0->en-use-lg==0.4.6)\n",
      "  Downloading cloudpathlib-0.20.0-py3-none-any.whl.metadata (14 kB)\n",
      "Collecting smart-open<8.0.0,>=5.2.1 (from weasel<0.5.0,>=0.1.0->spacy<4.0,>=3.0->en-use-lg==0.4.6)\n",
      "  Downloading smart_open-7.0.5-py3-none-any.whl.metadata (24 kB)\n",
      "Requirement already satisfied: MarkupSafe>=2.0 in /Users/jxu/anaconda3/lib/python3.10/site-packages (from jinja2->spacy<4.0,>=3.0->en-use-lg==0.4.6) (2.1.3)\n",
      "Collecting tf-keras>=2.14.1 (from tensorflow-hub->spacy-universal-sentence-encoder>=0.4.6->en-use-lg==0.4.6)\n",
      "  Downloading tf_keras-2.17.0-py3-none-any.whl.metadata (1.6 kB)\n",
      "Collecting marisa-trie>=0.7.7 (from language-data>=1.2->langcodes<4.0.0,>=3.2.0->spacy<4.0,>=3.0->en-use-lg==0.4.6)\n",
      "  Downloading marisa_trie-1.2.1-cp310-cp310-macosx_11_0_arm64.whl.metadata (9.0 kB)\n",
      "Requirement already satisfied: markdown-it-py>=2.2.0 in /Users/jxu/anaconda3/lib/python3.10/site-packages (from rich>=10.11.0->typer<1.0.0,>=0.3.0->spacy<4.0,>=3.0->en-use-lg==0.4.6) (3.0.0)\n",
      "Requirement already satisfied: pygments<3.0.0,>=2.13.0 in /Users/jxu/anaconda3/lib/python3.10/site-packages (from rich>=10.11.0->typer<1.0.0,>=0.3.0->spacy<4.0,>=3.0->en-use-lg==0.4.6) (2.15.1)\n",
      "Collecting tensorflow<3.0.0,>=2.4.0 (from spacy-universal-sentence-encoder>=0.4.6->en-use-lg==0.4.6)\n",
      "  Downloading tensorflow-2.17.0-cp310-cp310-macosx_12_0_arm64.whl.metadata (4.1 kB)\n",
      "Collecting flatbuffers>=23.1.21 (from tensorflow-macos==2.13.0-rc1->tensorflow<3.0.0,>=2.4.0->spacy-universal-sentence-encoder>=0.4.6->en-use-lg==0.4.6)\n",
      "  Downloading flatbuffers-24.3.25-py2.py3-none-any.whl.metadata (850 bytes)\n",
      "Collecting ml-dtypes<0.5.0,>=0.3.1 (from tensorflow<3.0.0,>=2.4.0->spacy-universal-sentence-encoder>=0.4.6->en-use-lg==0.4.6)\n",
      "  Downloading ml_dtypes-0.4.1-cp310-cp310-macosx_10_9_universal2.whl.metadata (20 kB)\n",
      "INFO: pip is looking at multiple versions of tensorflow to determine which version is compatible with other requirements. This could take a while.\n",
      "Collecting tf-keras>=2.14.1 (from tensorflow-hub->spacy-universal-sentence-encoder>=0.4.6->en-use-lg==0.4.6)\n",
      "  Downloading tf_keras-2.16.0-py3-none-any.whl.metadata (1.6 kB)\n",
      "Requirement already satisfied: google-auth<3,>=1.6.3 in /Users/jxu/anaconda3/lib/python3.10/site-packages (from tensorboard<2.14,>=2.13->tensorflow-macos==2.13.0-rc1->tensorflow<3.0.0,>=2.4.0->spacy-universal-sentence-encoder>=0.4.6->en-use-lg==0.4.6) (2.19.1)\n",
      "Requirement already satisfied: google-auth-oauthlib<1.1,>=0.5 in /Users/jxu/anaconda3/lib/python3.10/site-packages (from tensorboard<2.14,>=2.13->tensorflow-macos==2.13.0-rc1->tensorflow<3.0.0,>=2.4.0->spacy-universal-sentence-encoder>=0.4.6->en-use-lg==0.4.6) (1.0.0)\n",
      "Collecting markdown>=2.6.8 (from tensorboard<2.14,>=2.13->tensorflow-macos==2.13.0-rc1->tensorflow<3.0.0,>=2.4.0->spacy-universal-sentence-encoder>=0.4.6->en-use-lg==0.4.6)\n",
      "  Downloading Markdown-3.7-py3-none-any.whl.metadata (7.0 kB)\n",
      "Requirement already satisfied: tensorboard-data-server<0.8.0,>=0.7.0 in /Users/jxu/anaconda3/lib/python3.10/site-packages (from tensorboard<2.14,>=2.13->tensorflow-macos==2.13.0-rc1->tensorflow<3.0.0,>=2.4.0->spacy-universal-sentence-encoder>=0.4.6->en-use-lg==0.4.6) (0.7.0)\n",
      "Requirement already satisfied: werkzeug>=1.0.1 in /Users/jxu/anaconda3/lib/python3.10/site-packages (from tensorboard<2.14,>=2.13->tensorflow-macos==2.13.0-rc1->tensorflow<3.0.0,>=2.4.0->spacy-universal-sentence-encoder>=0.4.6->en-use-lg==0.4.6) (3.0.3)\n",
      "Requirement already satisfied: wheel>=0.26 in /Users/jxu/anaconda3/lib/python3.10/site-packages (from tensorboard<2.14,>=2.13->tensorflow-macos==2.13.0-rc1->tensorflow<3.0.0,>=2.4.0->spacy-universal-sentence-encoder>=0.4.6->en-use-lg==0.4.6) (0.38.4)\n",
      "Collecting tensorflow<3.0.0,>=2.4.0 (from spacy-universal-sentence-encoder>=0.4.6->en-use-lg==0.4.6)\n",
      "  Downloading tensorflow-2.16.2-cp310-cp310-macosx_12_0_arm64.whl.metadata (4.1 kB)\n",
      "Collecting ml-dtypes~=0.3.1 (from tensorflow<3.0.0,>=2.4.0->spacy-universal-sentence-encoder>=0.4.6->en-use-lg==0.4.6)\n",
      "  Downloading ml_dtypes-0.3.2-cp310-cp310-macosx_10_9_universal2.whl.metadata (20 kB)\n",
      "Collecting tensorflow<3.0.0,>=2.4.0 (from spacy-universal-sentence-encoder>=0.4.6->en-use-lg==0.4.6)\n",
      "  Downloading tensorflow-2.16.1-cp310-cp310-macosx_12_0_arm64.whl.metadata (4.1 kB)\n",
      "Collecting tf-keras>=2.14.1 (from tensorflow-hub->spacy-universal-sentence-encoder>=0.4.6->en-use-lg==0.4.6)\n",
      "  Downloading tf_keras-2.15.1-py3-none-any.whl.metadata (1.7 kB)\n",
      "Collecting tensorflow<3.0.0,>=2.4.0 (from spacy-universal-sentence-encoder>=0.4.6->en-use-lg==0.4.6)\n",
      "  Downloading tensorflow-2.15.1-cp310-cp310-macosx_12_0_arm64.whl.metadata (4.0 kB)\n",
      "  Downloading tensorflow-2.15.0-cp310-cp310-macosx_12_0_arm64.whl.metadata (3.6 kB)\n",
      "Collecting tensorflow-macos==2.15.0 (from tensorflow<3.0.0,>=2.4.0->spacy-universal-sentence-encoder>=0.4.6->en-use-lg==0.4.6)\n",
      "  Downloading tensorflow_macos-2.15.0-cp310-cp310-macosx_12_0_arm64.whl.metadata (4.2 kB)\n",
      "Collecting ml-dtypes~=0.2.0 (from tensorflow-macos==2.15.0->tensorflow<3.0.0,>=2.4.0->spacy-universal-sentence-encoder>=0.4.6->en-use-lg==0.4.6)\n",
      "  Downloading ml_dtypes-0.2.0-cp310-cp310-macosx_10_9_universal2.whl.metadata (20 kB)\n",
      "INFO: pip is looking at multiple versions of tensorflow-macos to determine which version is compatible with other requirements. This could take a while.\n",
      "Collecting tf-keras>=2.14.1 (from tensorflow-hub->spacy-universal-sentence-encoder>=0.4.6->en-use-lg==0.4.6)\n",
      "  Downloading tf_keras-2.15.0-py3-none-any.whl.metadata (1.6 kB)\n",
      "Requirement already satisfied: mdurl~=0.1 in /Users/jxu/anaconda3/lib/python3.10/site-packages (from markdown-it-py>=2.2.0->rich>=10.11.0->typer<1.0.0,>=0.3.0->spacy<4.0,>=3.0->en-use-lg==0.4.6) (0.1.2)\n",
      "Requirement already satisfied: cachetools<6.0,>=2.0.0 in /Users/jxu/anaconda3/lib/python3.10/site-packages (from google-auth<3,>=1.6.3->tensorboard<2.14,>=2.13->tensorflow-macos==2.13.0-rc1->tensorflow<3.0.0,>=2.4.0->spacy-universal-sentence-encoder>=0.4.6->en-use-lg==0.4.6) (5.3.1)\n",
      "Collecting pyasn1-modules>=0.2.1 (from google-auth<3,>=1.6.3->tensorboard<2.14,>=2.13->tensorflow-macos==2.13.0-rc1->tensorflow<3.0.0,>=2.4.0->spacy-universal-sentence-encoder>=0.4.6->en-use-lg==0.4.6)\n",
      "  Downloading pyasn1_modules-0.4.1-py3-none-any.whl.metadata (3.5 kB)\n",
      "Requirement already satisfied: rsa<5,>=3.1.4 in /Users/jxu/anaconda3/lib/python3.10/site-packages (from google-auth<3,>=1.6.3->tensorboard<2.14,>=2.13->tensorflow-macos==2.13.0-rc1->tensorflow<3.0.0,>=2.4.0->spacy-universal-sentence-encoder>=0.4.6->en-use-lg==0.4.6) (4.9)\n",
      "Requirement already satisfied: requests-oauthlib>=0.7.0 in /Users/jxu/anaconda3/lib/python3.10/site-packages (from google-auth-oauthlib<1.1,>=0.5->tensorboard<2.14,>=2.13->tensorflow-macos==2.13.0-rc1->tensorflow<3.0.0,>=2.4.0->spacy-universal-sentence-encoder>=0.4.6->en-use-lg==0.4.6) (1.3.1)\n",
      "Collecting pyasn1<0.7.0,>=0.4.6 (from pyasn1-modules>=0.2.1->google-auth<3,>=1.6.3->tensorboard<2.14,>=2.13->tensorflow-macos==2.13.0-rc1->tensorflow<3.0.0,>=2.4.0->spacy-universal-sentence-encoder>=0.4.6->en-use-lg==0.4.6)\n",
      "  Downloading pyasn1-0.6.1-py3-none-any.whl.metadata (8.4 kB)\n",
      "Requirement already satisfied: oauthlib>=3.0.0 in /Users/jxu/anaconda3/lib/python3.10/site-packages (from requests-oauthlib>=0.7.0->google-auth-oauthlib<1.1,>=0.5->tensorboard<2.14,>=2.13->tensorflow-macos==2.13.0-rc1->tensorflow<3.0.0,>=2.4.0->spacy-universal-sentence-encoder>=0.4.6->en-use-lg==0.4.6) (3.2.2)\n",
      "Downloading spacy-3.8.2-cp310-cp310-macosx_11_0_arm64.whl (6.3 MB)\n",
      "\u001b[2K   \u001b[90m━━━━━━━━━━━━━━━━━━━━━━━━━━━━━━━━━━━━━━━━\u001b[0m \u001b[32m6.3/6.3 MB\u001b[0m \u001b[31m28.1 MB/s\u001b[0m eta \u001b[36m0:00:00\u001b[0ma \u001b[36m0:00:01\u001b[0m\n",
      "\u001b[?25hDownloading catalogue-2.0.10-py3-none-any.whl (17 kB)\n",
      "Downloading cymem-2.0.8-cp310-cp310-macosx_11_0_arm64.whl (41 kB)\n",
      "\u001b[2K   \u001b[90m━━━━━━━━━━━━━━━━━━━━━━━━━━━━━━━━━━━━━━━━\u001b[0m \u001b[32m41.0/41.0 kB\u001b[0m \u001b[31m4.3 MB/s\u001b[0m eta \u001b[36m0:00:00\u001b[0m\n",
      "\u001b[?25hDownloading langcodes-3.4.1-py3-none-any.whl (182 kB)\n",
      "\u001b[2K   \u001b[90m━━━━━━━━━━━━━━━━━━━━━━━━━━━━━━━━━━━━━━━━\u001b[0m \u001b[32m182.4/182.4 kB\u001b[0m \u001b[31m3.3 MB/s\u001b[0m eta \u001b[36m0:00:00\u001b[0ma \u001b[36m0:00:01\u001b[0m\n",
      "\u001b[?25hDownloading murmurhash-1.0.10-cp310-cp310-macosx_11_0_arm64.whl (26 kB)\n",
      "Downloading preshed-3.0.9-cp310-cp310-macosx_11_0_arm64.whl (127 kB)\n",
      "\u001b[2K   \u001b[90m━━━━━━━━━━━━━━━━━━━━━━━━━━━━━━━━━━━━━━━━\u001b[0m \u001b[32m127.8/127.8 kB\u001b[0m \u001b[31m10.5 MB/s\u001b[0m eta \u001b[36m0:00:00\u001b[0m\n",
      "\u001b[?25hDownloading spacy_legacy-3.0.12-py2.py3-none-any.whl (29 kB)\n",
      "Downloading spacy_loggers-1.0.5-py3-none-any.whl (22 kB)\n",
      "Downloading srsly-2.4.8-cp310-cp310-macosx_11_0_arm64.whl (491 kB)\n",
      "\u001b[2K   \u001b[90m━━━━━━━━━━━━━━━━━━━━━━━━━━━━━━━━━━━━━━━━\u001b[0m \u001b[32m491.2/491.2 kB\u001b[0m \u001b[31m20.4 MB/s\u001b[0m eta \u001b[36m0:00:00\u001b[0m\n",
      "\u001b[?25hDownloading thinc-8.3.2-cp310-cp310-macosx_11_0_arm64.whl (779 kB)\n",
      "\u001b[2K   \u001b[90m━━━━━━━━━━━━━━━━━━━━━━━━━━━━━━━━━━━━━━━━\u001b[0m \u001b[32m779.4/779.4 kB\u001b[0m \u001b[31m49.4 MB/s\u001b[0m eta \u001b[36m0:00:00\u001b[0m\n",
      "\u001b[?25hDownloading numpy-2.0.2-cp310-cp310-macosx_11_0_arm64.whl (13.7 MB)\n",
      "\u001b[2K   \u001b[90m━━━━━━━━━━━━━━━━━━━━━━━━━━━━━━━━━━━━━━━━\u001b[0m \u001b[32m13.7/13.7 MB\u001b[0m \u001b[31m29.9 MB/s\u001b[0m eta \u001b[36m0:00:00\u001b[0m00:01\u001b[0m00:01\u001b[0m\n",
      "\u001b[?25hDownloading typer-0.12.5-py3-none-any.whl (47 kB)\n",
      "\u001b[2K   \u001b[90m━━━━━━━━━━━━━━━━━━━━━━━━━━━━━━━━━━━━━━━━\u001b[0m \u001b[32m47.3/47.3 kB\u001b[0m \u001b[31m5.1 MB/s\u001b[0m eta \u001b[36m0:00:00\u001b[0m\n",
      "\u001b[?25hDownloading wasabi-1.1.3-py3-none-any.whl (27 kB)\n",
      "Downloading weasel-0.4.1-py3-none-any.whl (50 kB)\n",
      "\u001b[2K   \u001b[90m━━━━━━━━━━━━━━━━━━━━━━━━━━━━━━━━━━━━━━━━\u001b[0m \u001b[32m50.3/50.3 kB\u001b[0m \u001b[31m7.3 MB/s\u001b[0m eta \u001b[36m0:00:00\u001b[0m\n",
      "\u001b[?25hDownloading tensorflow_hub-0.16.1-py2.py3-none-any.whl (30 kB)\n",
      "Downloading blis-1.0.1-cp310-cp310-macosx_11_0_arm64.whl (1.1 MB)\n",
      "\u001b[2K   \u001b[90m━━━━━━━━━━━━━━━━━━━━━━━━━━━━━━━━━━━━━━━━\u001b[0m \u001b[32m1.1/1.1 MB\u001b[0m \u001b[31m39.9 MB/s\u001b[0m eta \u001b[36m0:00:00\u001b[0m\n",
      "\u001b[?25hDownloading cloudpathlib-0.20.0-py3-none-any.whl (52 kB)\n",
      "\u001b[2K   \u001b[90m━━━━━━━━━━━━━━━━━━━━━━━━━━━━━━━━━━━━━━━━\u001b[0m \u001b[32m52.5/52.5 kB\u001b[0m \u001b[31m5.2 MB/s\u001b[0m eta \u001b[36m0:00:00\u001b[0m\n",
      "\u001b[?25hDownloading confection-0.1.5-py3-none-any.whl (35 kB)\n",
      "Downloading language_data-1.2.0-py3-none-any.whl (5.4 MB)\n",
      "\u001b[2K   \u001b[90m━━━━━━━━━━━━━━━━━━━━━━━━━━━━━━━━━━━━━━━━\u001b[0m \u001b[32m5.4/5.4 MB\u001b[0m \u001b[31m58.3 MB/s\u001b[0m eta \u001b[36m0:00:00\u001b[0ma \u001b[36m0:00:01\u001b[0m\n",
      "\u001b[?25hDownloading shellingham-1.5.4-py2.py3-none-any.whl (9.8 kB)\n",
      "Downloading smart_open-7.0.5-py3-none-any.whl (61 kB)\n",
      "\u001b[2K   \u001b[90m━━━━━━━━━━━━━━━━━━━━━━━━━━━━━━━━━━━━━━━━\u001b[0m \u001b[32m61.4/61.4 kB\u001b[0m \u001b[31m5.1 MB/s\u001b[0m eta \u001b[36m0:00:00\u001b[0m\n",
      "\u001b[?25hDownloading tf_keras-2.15.0-py3-none-any.whl (1.7 MB)\n",
      "\u001b[2K   \u001b[90m━━━━━━━━━━━━━━━━━━━━━━━━━━━━━━━━━━━━━━━━\u001b[0m \u001b[32m1.7/1.7 MB\u001b[0m \u001b[31m55.1 MB/s\u001b[0m eta \u001b[36m0:00:00\u001b[0m\n",
      "\u001b[?25hDownloading h5py-3.12.1-cp310-cp310-macosx_11_0_arm64.whl (2.9 MB)\n",
      "\u001b[2K   \u001b[90m━━━━━━━━━━━━━━━━━━━━━━━━━━━━━━━━━━━━━━━━\u001b[0m \u001b[32m2.9/2.9 MB\u001b[0m \u001b[31m53.9 MB/s\u001b[0m eta \u001b[36m0:00:00\u001b[0ma \u001b[36m0:00:01\u001b[0m\n",
      "\u001b[?25hDownloading marisa_trie-1.2.1-cp310-cp310-macosx_11_0_arm64.whl (174 kB)\n",
      "\u001b[2K   \u001b[90m━━━━━━━━━━━━━━━━━━━━━━━━━━━━━━━━━━━━━━━━\u001b[0m \u001b[32m174.7/174.7 kB\u001b[0m \u001b[31m16.9 MB/s\u001b[0m eta \u001b[36m0:00:00\u001b[0m\n",
      "\u001b[?25hDownloading wrapt-1.16.0-cp310-cp310-macosx_11_0_arm64.whl (38 kB)\n",
      "Downloading Markdown-3.7-py3-none-any.whl (106 kB)\n",
      "\u001b[2K   \u001b[90m━━━━━━━━━━━━━━━━━━━━━━━━━━━━━━━━━━━━━━━━\u001b[0m \u001b[32m106.3/106.3 kB\u001b[0m \u001b[31m13.0 MB/s\u001b[0m eta \u001b[36m0:00:00\u001b[0m\n",
      "\u001b[?25hDownloading pyasn1_modules-0.4.1-py3-none-any.whl (181 kB)\n",
      "\u001b[2K   \u001b[90m━━━━━━━━━━━━━━━━━━━━━━━━━━━━━━━━━━━━━━━━\u001b[0m \u001b[32m181.5/181.5 kB\u001b[0m \u001b[31m18.3 MB/s\u001b[0m eta \u001b[36m0:00:00\u001b[0m\n",
      "\u001b[?25hDownloading pyasn1-0.6.1-py3-none-any.whl (83 kB)\n",
      "\u001b[2K   \u001b[90m━━━━━━━━━━━━━━━━━━━━━━━━━━━━━━━━━━━━━━━━\u001b[0m \u001b[32m83.1/83.1 kB\u001b[0m \u001b[31m7.6 MB/s\u001b[0m eta \u001b[36m0:00:00\u001b[0m\n",
      "\u001b[?25hBuilding wheels for collected packages: en-use-lg, spacy-universal-sentence-encoder\n",
      "  Building wheel for en-use-lg (setup.py) ... \u001b[?25ldone\n",
      "\u001b[?25h  Created wheel for en-use-lg: filename=en_use_lg-0.4.6-py3-none-any.whl size=25464 sha256=bd0e76a935b1f2ab33c62b14a85b37665e5038aa89973981a45d551096671151\n",
      "  Stored in directory: /Users/jxu/Library/Caches/pip/wheels/ed/e3/8b/e010282a9fec0667deeb9c6464ef3767e0faf36b8caf659928\n",
      "  Building wheel for spacy-universal-sentence-encoder (setup.py) ... \u001b[?25ldone\n",
      "\u001b[?25h  Created wheel for spacy-universal-sentence-encoder: filename=spacy_universal_sentence_encoder-0.4.6-py3-none-any.whl size=16543 sha256=8a3b681e06858e074866fd7a5b5cb05f2071b37f139419f5081a76e9245531dc\n",
      "  Stored in directory: /Users/jxu/Library/Caches/pip/wheels/65/75/56/7fd780bb5e1f9c74625ccda3c03a1abeb27a2ade5a8946db33\n",
      "Successfully built en-use-lg spacy-universal-sentence-encoder\n",
      "Installing collected packages: cymem, wrapt, wasabi, tf-keras, spacy-loggers, spacy-legacy, shellingham, pyasn1, numpy, murmurhash, markdown, marisa-trie, cloudpathlib, catalogue, tensorflow-hub, srsly, smart-open, pyasn1-modules, preshed, language-data, h5py, blis, typer, langcodes, confection, weasel, thinc, spacy, spacy-universal-sentence-encoder, en-use-lg\n",
      "  Attempting uninstall: numpy\n",
      "    Found existing installation: numpy 1.26.4\n",
      "    Uninstalling numpy-1.26.4:\n",
      "      Successfully uninstalled numpy-1.26.4\n",
      "\u001b[31mERROR: pip's dependency resolver does not currently take into account all the packages that are installed. This behaviour is the source of the following dependency conflicts.\n",
      "alpaca-trade-api 3.0.0 requires msgpack==1.0.3, which is not installed.\n",
      "elegantrl 0.3.6 requires torch, which is not installed.\n",
      "exchange-calendars 4.2.8 requires toolz, which is not installed.\n",
      "jqdatasdk 1.8.11 requires msgpack>=0.4.7, which is not installed.\n",
      "jqdatasdk 1.8.11 requires SQLAlchemy>=1.2.8, which is not installed.\n",
      "netwulf 0.1.5 requires networkx>=2.0, which is not installed.\n",
      "pandas-datareader 0.10.0 requires lxml, which is not installed.\n",
      "pyfolio 0.9.2 requires seaborn>=0.7.1, which is not installed.\n",
      "ray 2.5.0 requires msgpack<2.0.0,>=1.0.0, which is not installed.\n",
      "stable-baselines3 2.0.0a13 requires torch>=1.11, which is not installed.\n",
      "wrds 3.1.6 requires sqlalchemy<2, which is not installed.\n",
      "yfinance 0.2.20 requires appdirs>=1.4.4, which is not installed.\n",
      "yfinance 0.2.20 requires lxml>=4.9.1, which is not installed.\n",
      "alpaca-trade-api 3.0.0 requires PyYAML==6.0, but you have pyyaml 6.0.1 which is incompatible.\n",
      "contourpy 1.2.0 requires numpy<2.0,>=1.20, but you have numpy 2.0.2 which is incompatible.\n",
      "pandas 2.1.4 requires numpy<2,>=1.22.4; python_version < \"3.11\", but you have numpy 2.0.2 which is incompatible.\n",
      "pycaret 3.3.1 requires matplotlib<3.8.0, but you have matplotlib 3.8.4 which is incompatible.\n",
      "pycaret 3.3.1 requires numpy<1.27,>=1.21, but you have numpy 2.0.2 which is incompatible.\n",
      "pyportfolioopt 1.5.5 requires numpy<2.0.0,>=1.22.4, but you have numpy 2.0.2 which is incompatible.\n",
      "scipy 1.11.4 requires numpy<1.28.0,>=1.21.6, but you have numpy 2.0.2 which is incompatible.\n",
      "sktime 0.26.0 requires numpy<1.27,>=1.21, but you have numpy 2.0.2 which is incompatible.\u001b[0m\u001b[31m\n",
      "\u001b[0mSuccessfully installed blis-1.0.1 catalogue-2.0.10 cloudpathlib-0.20.0 confection-0.1.5 cymem-2.0.8 en-use-lg-0.4.6 h5py-3.12.1 langcodes-3.4.1 language-data-1.2.0 marisa-trie-1.2.1 markdown-3.7 murmurhash-1.0.10 numpy-2.0.2 preshed-3.0.9 pyasn1-0.6.1 pyasn1-modules-0.4.1 shellingham-1.5.4 smart-open-7.0.5 spacy-3.8.2 spacy-legacy-3.0.12 spacy-loggers-1.0.5 spacy-universal-sentence-encoder-0.4.6 srsly-2.4.8 tensorflow-hub-0.16.1 tf-keras-2.15.0 thinc-8.3.2 typer-0.12.5 wasabi-1.1.3 weasel-0.4.1 wrapt-1.16.0\n"
     ]
    }
   ],
   "source": [
    "!pip install https://github.com/MartinoMensio/spacy-universal-sentence-encoder/releases/download/v0.4.6/en_use_lg-0.4.6.tar.gz#en_use_lg-0.4.6"
   ]
  },
  {
   "cell_type": "code",
   "execution_count": 38,
   "metadata": {
    "id": "-UueeCJPkywk"
   },
   "outputs": [],
   "source": [
    "import spacy\n",
    "import spacy_universal_sentence_encoder"
   ]
  },
  {
   "cell_type": "code",
   "execution_count": 39,
   "metadata": {
    "id": "qxjXD8p3UFm_"
   },
   "outputs": [],
   "source": [
    "nlp = spacy.load('en_use_lg')"
   ]
  },
  {
   "cell_type": "code",
   "execution_count": 84,
   "metadata": {
    "id": "1IhsI9qQemt3"
   },
   "outputs": [],
   "source": [
    "def vectorize(genres):\n",
    "    return [nlp(genre).vector for genre in genres]"
   ]
  },
  {
   "cell_type": "code",
   "execution_count": 89,
   "metadata": {
    "colab": {
     "base_uri": "https://localhost:8080/",
     "height": 144
    },
    "id": "U5PC9x0HanYr",
    "outputId": "c4f171cd-3d85-4385-9a0a-6c83e5fa2ec9"
   },
   "outputs": [],
   "source": [
    "working_df = modern_feature_films.copy()"
   ]
  },
  {
   "cell_type": "code",
   "execution_count": 133,
   "metadata": {},
   "outputs": [],
   "source": [
    "import ast\n",
    "\n",
    "working_df['genres'] = working_df['genres'].str.lower()\n",
    "\n",
    "# Split the genres by comma and strip any leading/trailing whitespace\n",
    "working_df['genres'] = working_df['genres'].apply(lambda x: [genre.strip() for genre in x.split(',')] if isinstance(x, str) else x)\n",
    "\n",
    "all_genres = working_df['genres'].explode()\n",
    "\n",
    "unique_genres = all_genres.unique().tolist()\n"
   ]
  },
  {
   "cell_type": "code",
   "execution_count": 134,
   "metadata": {},
   "outputs": [
    {
     "data": {
      "text/plain": [
       "nan"
      ]
     },
     "execution_count": 134,
     "metadata": {},
     "output_type": "execute_result"
    }
   ],
   "source": [
    "unique_genres.pop(19)"
   ]
  },
  {
   "cell_type": "code",
   "execution_count": 135,
   "metadata": {},
   "outputs": [
    {
     "data": {
      "text/plain": [
       "['action',\n",
       " 'science fiction',\n",
       " 'adventure',\n",
       " 'drama',\n",
       " 'crime',\n",
       " 'thriller',\n",
       " 'fantasy',\n",
       " 'comedy',\n",
       " 'romance',\n",
       " 'western',\n",
       " 'mystery',\n",
       " 'war',\n",
       " 'animation',\n",
       " 'family',\n",
       " 'horror',\n",
       " 'music',\n",
       " 'history',\n",
       " 'tv movie',\n",
       " 'documentary']"
      ]
     },
     "execution_count": 135,
     "metadata": {},
     "output_type": "execute_result"
    }
   ],
   "source": [
    "unique_genres"
   ]
  },
  {
   "cell_type": "code",
   "execution_count": 142,
   "metadata": {},
   "outputs": [],
   "source": [
    "non_null_working_df = working_df.dropna(subset=['genres'], inplace=False)"
   ]
  },
  {
   "cell_type": "code",
   "execution_count": 91,
   "metadata": {},
   "outputs": [
    {
     "name": "stdout",
     "output_type": "stream",
     "text": [
      "<class 'pandas.core.frame.DataFrame'>\n",
      "Index: 278705 entries, 0 to 832834\n",
      "Data columns (total 21 columns):\n",
      " #   Column                Non-Null Count   Dtype         \n",
      "---  ------                --------------   -----         \n",
      " 0   Unnamed: 0            278705 non-null  int64         \n",
      " 1   id                    278705 non-null  int64         \n",
      " 2   title                 278705 non-null  object        \n",
      " 3   vote_average          193252 non-null  float64       \n",
      " 4   vote_count            278705 non-null  int64         \n",
      " 5   release_date          278705 non-null  datetime64[ns]\n",
      " 6   revenue               278705 non-null  int64         \n",
      " 7   runtime               278705 non-null  float64       \n",
      " 8   adult                 278705 non-null  bool          \n",
      " 9   budget                278705 non-null  int64         \n",
      " 10  imdb_id               278705 non-null  object        \n",
      " 11  original_language     278705 non-null  object        \n",
      " 12  original_title        278705 non-null  object        \n",
      " 13  overview              268871 non-null  object        \n",
      " 14  popularity            278705 non-null  float64       \n",
      " 15  tagline               77233 non-null   object        \n",
      " 16  genres                278705 non-null  object        \n",
      " 17  production_companies  201134 non-null  object        \n",
      " 18  production_countries  237288 non-null  object        \n",
      " 19  spoken_languages      246966 non-null  object        \n",
      " 20  keywords              131519 non-null  object        \n",
      "dtypes: bool(1), datetime64[ns](1), float64(3), int64(5), object(11)\n",
      "memory usage: 44.9+ MB\n"
     ]
    }
   ],
   "source": [
    "non_null_working_df.info()"
   ]
  },
  {
   "cell_type": "code",
   "execution_count": 146,
   "metadata": {},
   "outputs": [],
   "source": [
    "#non_null_working_df.loc[:, 'genres'] = non_null_working_df['genres'].apply(lambda x: x.split(', ') if isinstance(x, str) else x)"
   ]
  },
  {
   "cell_type": "code",
   "execution_count": 147,
   "metadata": {},
   "outputs": [
    {
     "data": {
      "text/plain": [
       "0                  [action, science fiction, adventure]\n",
       "1                   [adventure, drama, science fiction]\n",
       "2                      [drama, action, crime, thriller]\n",
       "3         [action, adventure, fantasy, science fiction]\n",
       "4                  [science fiction, action, adventure]\n",
       "                              ...                      \n",
       "832783                                  [comedy, drama]\n",
       "832797                                    [documentary]\n",
       "832821                                          [drama]\n",
       "832831                           [documentary, history]\n",
       "832834                                  [drama, comedy]\n",
       "Name: genres, Length: 278705, dtype: object"
      ]
     },
     "execution_count": 147,
     "metadata": {},
     "output_type": "execute_result"
    }
   ],
   "source": [
    "non_null_working_df['genres']"
   ]
  },
  {
   "cell_type": "code",
   "execution_count": 111,
   "metadata": {},
   "outputs": [],
   "source": [
    "# Find the length of the genres list for each movie\n",
    "#working_df['num_genres'] = working_df['genres'].apply(lambda x: len(x) if isinstance(x, list) else 0)\n",
    "\n",
    "#max_genres = working_df['num_genres'].max()\n",
    "#min_genres = working_df['num_genres'].min()"
   ]
  },
  {
   "cell_type": "code",
   "execution_count": 112,
   "metadata": {},
   "outputs": [],
   "source": [
    "min_genres = 1"
   ]
  },
  {
   "cell_type": "code",
   "execution_count": 92,
   "metadata": {},
   "outputs": [
    {
     "name": "stdout",
     "output_type": "stream",
     "text": [
      "Requirement already satisfied: matplotlib in /Users/jxu/anaconda3/lib/python3.10/site-packages (3.8.4)\n",
      "Requirement already satisfied: contourpy>=1.0.1 in /Users/jxu/anaconda3/lib/python3.10/site-packages (from matplotlib) (1.2.0)\n",
      "Requirement already satisfied: cycler>=0.10 in /Users/jxu/anaconda3/lib/python3.10/site-packages (from matplotlib) (0.11.0)\n",
      "Requirement already satisfied: fonttools>=4.22.0 in /Users/jxu/anaconda3/lib/python3.10/site-packages (from matplotlib) (4.51.0)\n",
      "Requirement already satisfied: kiwisolver>=1.3.1 in /Users/jxu/anaconda3/lib/python3.10/site-packages (from matplotlib) (1.4.4)\n",
      "Requirement already satisfied: numpy>=1.21 in /Users/jxu/anaconda3/lib/python3.10/site-packages (from matplotlib) (1.26.4)\n",
      "Requirement already satisfied: packaging>=20.0 in /Users/jxu/anaconda3/lib/python3.10/site-packages (from matplotlib) (24.1)\n",
      "Requirement already satisfied: pillow>=8 in /Users/jxu/anaconda3/lib/python3.10/site-packages (from matplotlib) (10.4.0)\n",
      "Requirement already satisfied: pyparsing>=2.3.1 in /Users/jxu/anaconda3/lib/python3.10/site-packages (from matplotlib) (3.0.9)\n",
      "Requirement already satisfied: python-dateutil>=2.7 in /Users/jxu/anaconda3/lib/python3.10/site-packages (from matplotlib) (2.9.0.post0)\n",
      "Requirement already satisfied: six>=1.5 in /Users/jxu/anaconda3/lib/python3.10/site-packages (from python-dateutil>=2.7->matplotlib) (1.16.0)\n",
      "Note: you may need to restart the kernel to use updated packages.\n"
     ]
    }
   ],
   "source": [
    "pip install matplotlib"
   ]
  },
  {
   "cell_type": "code",
   "execution_count": 51,
   "metadata": {},
   "outputs": [],
   "source": [
    "import tensorflow_hub as hub\n",
    "from sklearn.decomposition import PCA"
   ]
  },
  {
   "cell_type": "code",
   "execution_count": 53,
   "metadata": {},
   "outputs": [],
   "source": [
    "embed = hub.load(\"https://tfhub.dev/google/universal-sentence-encoder/4\")"
   ]
  },
  {
   "cell_type": "code",
   "execution_count": 54,
   "metadata": {},
   "outputs": [],
   "source": [
    "embeddings = embed(unique_genres)\n",
    "\n",
    "#reduce to 1 dimension\n",
    "pca = PCA(n_components=1)\n",
    "mappings = pca.fit_transform(embeddings)\n",
    "\n",
    "# Map genres to their corresponding 1D values\n",
    "vectorized_genres = {genre: value for genre, value in zip(unique_genres, mappings)}"
   ]
  },
  {
   "cell_type": "code",
   "execution_count": 139,
   "metadata": {},
   "outputs": [
    {
     "data": {
      "text/plain": [
       "{'action': array([-0.10550172]),\n",
       " 'science fiction': array([0.11262273]),\n",
       " 'adventure': array([-0.16961193]),\n",
       " 'drama': array([0.17274052]),\n",
       " 'crime': array([-0.0995075]),\n",
       " 'thriller': array([0.5790899]),\n",
       " 'fantasy': array([-0.0173265]),\n",
       " 'comedy': array([0.34058345]),\n",
       " 'romance': array([0.09965853]),\n",
       " 'western': array([-0.53399636]),\n",
       " 'mystery': array([0.14538536]),\n",
       " 'war': array([-0.22306778]),\n",
       " 'animation': array([-0.20076975]),\n",
       " 'family': array([-0.33277005]),\n",
       " 'horror': array([0.44501432]),\n",
       " 'music': array([-0.01332231]),\n",
       " 'history': array([-0.17695217]),\n",
       " 'tv movie': array([0.07989143]),\n",
       " 'documentary': array([-0.10216017])}"
      ]
     },
     "execution_count": 139,
     "metadata": {},
     "output_type": "execute_result"
    }
   ],
   "source": [
    "vectorized_genres"
   ]
  },
  {
   "cell_type": "code",
   "execution_count": 56,
   "metadata": {},
   "outputs": [
    {
     "data": {
      "image/png": "[encoded data removed]",
      "text/plain": [
       "<Figure size 1200x600 with 1 Axes>"
      ]
     },
     "metadata": {},
     "output_type": "display_data"
    }
   ],
   "source": [
    "import matplotlib.pyplot as plt\n",
    "\n",
    "# Extracting genres and their corresponding 1D values\n",
    "genres = list(vectorized_genres.keys())\n",
    "values = [value[0] for value in vectorized_genres.values()]  # Flatten the 1D values\n",
    "\n",
    "# Plotting the points\n",
    "plt.figure(figsize=(12, 6))\n",
    "plt.scatter(genres, values, color='blue')\n",
    "plt.title('Genre Mappings')\n",
    "plt.xlabel('Genres')\n",
    "plt.ylabel('Value')\n",
    "plt.xticks(rotation=45, ha='right')  # Rotate genre labels for better visibility\n",
    "plt.grid()\n",
    "plt.tight_layout()  # Adjust layout to make room for rotated labels\n",
    "plt.show()"
   ]
  },
  {
   "cell_type": "code",
   "execution_count": 143,
   "metadata": {},
   "outputs": [],
   "source": [
    "vectorirzed_df = non_null_working_df.copy()"
   ]
  },
  {
   "cell_type": "code",
   "execution_count": 144,
   "metadata": {},
   "outputs": [],
   "source": [
    "vectorirzed_df['genres'] = vectorirzed_df['genres'].apply(lambda genre_list: [vectorized_genres[genre] for genre in genre_list] if isinstance(genre_list, list) else genre_list)"
   ]
  },
  {
   "cell_type": "code",
   "execution_count": 145,
   "metadata": {},
   "outputs": [
    {
     "data": {
      "text/html": [
       "<div>\n",
       "<style scoped>\n",
       "    .dataframe tbody tr th:only-of-type {\n",
       "        vertical-align: middle;\n",
       "    }\n",
       "\n",
       "    .dataframe tbody tr th {\n",
       "        vertical-align: top;\n",
       "    }\n",
       "\n",
       "    .dataframe thead th {\n",
       "        text-align: right;\n",
       "    }\n",
       "</style>\n",
       "<table border=\"1\" class=\"dataframe\">\n",
       "  <thead>\n",
       "    <tr style=\"text-align: right;\">\n",
       "      <th></th>\n",
       "      <th>Unnamed: 0</th>\n",
       "      <th>id</th>\n",
       "      <th>title</th>\n",
       "      <th>vote_average</th>\n",
       "      <th>vote_count</th>\n",
       "      <th>release_date</th>\n",
       "      <th>revenue</th>\n",
       "      <th>runtime</th>\n",
       "      <th>adult</th>\n",
       "      <th>budget</th>\n",
       "      <th>...</th>\n",
       "      <th>original_title</th>\n",
       "      <th>overview</th>\n",
       "      <th>popularity</th>\n",
       "      <th>tagline</th>\n",
       "      <th>genres</th>\n",
       "      <th>production_companies</th>\n",
       "      <th>production_countries</th>\n",
       "      <th>spoken_languages</th>\n",
       "      <th>keywords</th>\n",
       "      <th>num_genres</th>\n",
       "    </tr>\n",
       "  </thead>\n",
       "  <tbody>\n",
       "    <tr>\n",
       "      <th>0</th>\n",
       "      <td>0</td>\n",
       "      <td>27205</td>\n",
       "      <td>Inception</td>\n",
       "      <td>8.364</td>\n",
       "      <td>34495</td>\n",
       "      <td>2010-07-15</td>\n",
       "      <td>825532764</td>\n",
       "      <td>148.0</td>\n",
       "      <td>False</td>\n",
       "      <td>160000000</td>\n",
       "      <td>...</td>\n",
       "      <td>Inception</td>\n",
       "      <td>Cobb, a skilled thief who commits corporate es...</td>\n",
       "      <td>83.952</td>\n",
       "      <td>Your mind is the scene of the crime.</td>\n",
       "      <td>[[-0.1055017234478468], [0.11262273444579632],...</td>\n",
       "      <td>Legendary Pictures, Syncopy, Warner Bros. Pict...</td>\n",
       "      <td>United Kingdom, United States of America</td>\n",
       "      <td>English, French, Japanese, Swahili</td>\n",
       "      <td>rescue, mission, dream, airplane, paris, franc...</td>\n",
       "      <td>0</td>\n",
       "    </tr>\n",
       "    <tr>\n",
       "      <th>1</th>\n",
       "      <td>1</td>\n",
       "      <td>157336</td>\n",
       "      <td>Interstellar</td>\n",
       "      <td>8.417</td>\n",
       "      <td>32571</td>\n",
       "      <td>2014-11-05</td>\n",
       "      <td>701729206</td>\n",
       "      <td>169.0</td>\n",
       "      <td>False</td>\n",
       "      <td>165000000</td>\n",
       "      <td>...</td>\n",
       "      <td>Interstellar</td>\n",
       "      <td>The adventures of a group of explorers who mak...</td>\n",
       "      <td>140.241</td>\n",
       "      <td>Mankind was born on Earth. It was never meant ...</td>\n",
       "      <td>[[-0.1696119336204439], [0.17274051760378853],...</td>\n",
       "      <td>Legendary Pictures, Syncopy, Lynda Obst Produc...</td>\n",
       "      <td>United Kingdom, United States of America</td>\n",
       "      <td>English</td>\n",
       "      <td>rescue, future, spacecraft, race against time,...</td>\n",
       "      <td>0</td>\n",
       "    </tr>\n",
       "    <tr>\n",
       "      <th>2</th>\n",
       "      <td>2</td>\n",
       "      <td>155</td>\n",
       "      <td>The Dark Knight</td>\n",
       "      <td>8.512</td>\n",
       "      <td>30619</td>\n",
       "      <td>2008-07-16</td>\n",
       "      <td>1004558444</td>\n",
       "      <td>152.0</td>\n",
       "      <td>False</td>\n",
       "      <td>185000000</td>\n",
       "      <td>...</td>\n",
       "      <td>The Dark Knight</td>\n",
       "      <td>Batman raises the stakes in his war on crime. ...</td>\n",
       "      <td>130.643</td>\n",
       "      <td>Welcome to a world without rules.</td>\n",
       "      <td>[[0.17274051760378853], [-0.1055017234478468],...</td>\n",
       "      <td>DC Comics, Legendary Pictures, Syncopy, Isobel...</td>\n",
       "      <td>United Kingdom, United States of America</td>\n",
       "      <td>English, Mandarin</td>\n",
       "      <td>joker, sadism, chaos, secret identity, crime f...</td>\n",
       "      <td>0</td>\n",
       "    </tr>\n",
       "    <tr>\n",
       "      <th>3</th>\n",
       "      <td>3</td>\n",
       "      <td>19995</td>\n",
       "      <td>Avatar</td>\n",
       "      <td>7.573</td>\n",
       "      <td>29815</td>\n",
       "      <td>2009-12-15</td>\n",
       "      <td>2923706026</td>\n",
       "      <td>162.0</td>\n",
       "      <td>False</td>\n",
       "      <td>237000000</td>\n",
       "      <td>...</td>\n",
       "      <td>Avatar</td>\n",
       "      <td>In the 22nd century, a paraplegic Marine is di...</td>\n",
       "      <td>79.932</td>\n",
       "      <td>Enter the world of Pandora.</td>\n",
       "      <td>[[-0.1055017234478468], [-0.1696119336204439],...</td>\n",
       "      <td>Dune Entertainment, Lightstorm Entertainment, ...</td>\n",
       "      <td>United States of America, United Kingdom</td>\n",
       "      <td>English, Spanish</td>\n",
       "      <td>future, society, culture clash, space travel, ...</td>\n",
       "      <td>0</td>\n",
       "    </tr>\n",
       "    <tr>\n",
       "      <th>4</th>\n",
       "      <td>4</td>\n",
       "      <td>24428</td>\n",
       "      <td>The Avengers</td>\n",
       "      <td>7.710</td>\n",
       "      <td>29166</td>\n",
       "      <td>2012-04-25</td>\n",
       "      <td>1518815515</td>\n",
       "      <td>143.0</td>\n",
       "      <td>False</td>\n",
       "      <td>220000000</td>\n",
       "      <td>...</td>\n",
       "      <td>The Avengers</td>\n",
       "      <td>When an unexpected enemy emerges and threatens...</td>\n",
       "      <td>98.082</td>\n",
       "      <td>Some assembly required.</td>\n",
       "      <td>[[0.11262273444579632], [-0.1055017234478468],...</td>\n",
       "      <td>Marvel Studios</td>\n",
       "      <td>United States of America</td>\n",
       "      <td>English, Hindi, Russian</td>\n",
       "      <td>new york city, superhero, shield, based on com...</td>\n",
       "      <td>0</td>\n",
       "    </tr>\n",
       "  </tbody>\n",
       "</table>\n",
       "<p>5 rows × 22 columns</p>\n",
       "</div>"
      ],
      "text/plain": [
       "   Unnamed: 0      id            title  vote_average  vote_count release_date  \\\n",
       "0           0   27205        Inception         8.364       34495   2010-07-15   \n",
       "1           1  157336     Interstellar         8.417       32571   2014-11-05   \n",
       "2           2     155  The Dark Knight         8.512       30619   2008-07-16   \n",
       "3           3   19995           Avatar         7.573       29815   2009-12-15   \n",
       "4           4   24428     The Avengers         7.710       29166   2012-04-25   \n",
       "\n",
       "      revenue  runtime  adult     budget  ...   original_title  \\\n",
       "0   825532764    148.0  False  160000000  ...        Inception   \n",
       "1   701729206    169.0  False  165000000  ...     Interstellar   \n",
       "2  1004558444    152.0  False  185000000  ...  The Dark Knight   \n",
       "3  2923706026    162.0  False  237000000  ...           Avatar   \n",
       "4  1518815515    143.0  False  220000000  ...     The Avengers   \n",
       "\n",
       "                                            overview popularity  \\\n",
       "0  Cobb, a skilled thief who commits corporate es...     83.952   \n",
       "1  The adventures of a group of explorers who mak...    140.241   \n",
       "2  Batman raises the stakes in his war on crime. ...    130.643   \n",
       "3  In the 22nd century, a paraplegic Marine is di...     79.932   \n",
       "4  When an unexpected enemy emerges and threatens...     98.082   \n",
       "\n",
       "                                             tagline  \\\n",
       "0               Your mind is the scene of the crime.   \n",
       "1  Mankind was born on Earth. It was never meant ...   \n",
       "2                  Welcome to a world without rules.   \n",
       "3                        Enter the world of Pandora.   \n",
       "4                            Some assembly required.   \n",
       "\n",
       "                                              genres  \\\n",
       "0  [[-0.1055017234478468], [0.11262273444579632],...   \n",
       "1  [[-0.1696119336204439], [0.17274051760378853],...   \n",
       "2  [[0.17274051760378853], [-0.1055017234478468],...   \n",
       "3  [[-0.1055017234478468], [-0.1696119336204439],...   \n",
       "4  [[0.11262273444579632], [-0.1055017234478468],...   \n",
       "\n",
       "                                production_companies  \\\n",
       "0  Legendary Pictures, Syncopy, Warner Bros. Pict...   \n",
       "1  Legendary Pictures, Syncopy, Lynda Obst Produc...   \n",
       "2  DC Comics, Legendary Pictures, Syncopy, Isobel...   \n",
       "3  Dune Entertainment, Lightstorm Entertainment, ...   \n",
       "4                                     Marvel Studios   \n",
       "\n",
       "                       production_countries  \\\n",
       "0  United Kingdom, United States of America   \n",
       "1  United Kingdom, United States of America   \n",
       "2  United Kingdom, United States of America   \n",
       "3  United States of America, United Kingdom   \n",
       "4                  United States of America   \n",
       "\n",
       "                     spoken_languages  \\\n",
       "0  English, French, Japanese, Swahili   \n",
       "1                             English   \n",
       "2                   English, Mandarin   \n",
       "3                    English, Spanish   \n",
       "4             English, Hindi, Russian   \n",
       "\n",
       "                                            keywords num_genres  \n",
       "0  rescue, mission, dream, airplane, paris, franc...          0  \n",
       "1  rescue, future, spacecraft, race against time,...          0  \n",
       "2  joker, sadism, chaos, secret identity, crime f...          0  \n",
       "3  future, society, culture clash, space travel, ...          0  \n",
       "4  new york city, superhero, shield, based on com...          0  \n",
       "\n",
       "[5 rows x 22 columns]"
      ]
     },
     "execution_count": 145,
     "metadata": {},
     "output_type": "execute_result"
    }
   ],
   "source": [
    "vectorirzed_df.head()"
   ]
  },
  {
   "cell_type": "code",
   "execution_count": 132,
   "metadata": {},
   "outputs": [],
   "source": [
    "# Reduce to min-D for every genre vector?\n",
    "# Should we use 2D instead of 1D for the genre mappings?\n",
    "# I need the data from the web scrapping"
   ]
  },
  {
   "cell_type": "code",
   "execution_count": 135,
   "metadata": {},
   "outputs": [],
   "source": [
    "# reduce the dimensionality of each genre vector to min_genres dimensions"
   ]
  },
  {
   "cell_type": "code",
   "execution_count": 137,
   "metadata": {},
   "outputs": [],
   "source": [
    "# plot every movie on min_genres-D space (we should be able to recall the movie as well)"
   ]
  },
  {
   "cell_type": "code",
   "execution_count": 138,
   "metadata": {},
   "outputs": [],
   "source": [
    "# when new movie comes in, we get the genre\n",
    "# plot on graph\n",
    "# BOOM -> get the k nearest movies and return those movies"
   ]
  },
  {
   "cell_type": "code",
   "execution_count": 140,
   "metadata": {},
   "outputs": [
    {
     "name": "stdout",
     "output_type": "stream",
     "text": [
      "Collecting torch\n",
      "  Downloading torch-2.5.0-cp310-none-macosx_11_0_arm64.whl.metadata (28 kB)\n",
      "Requirement already satisfied: filelock in /Users/jxu/anaconda3/lib/python3.10/site-packages (from torch) (3.13.1)\n",
      "Requirement already satisfied: typing-extensions>=4.8.0 in /Users/jxu/anaconda3/lib/python3.10/site-packages (from torch) (4.11.0)\n",
      "Collecting networkx (from torch)\n",
      "  Downloading networkx-3.4.2-py3-none-any.whl.metadata (6.3 kB)\n",
      "Requirement already satisfied: jinja2 in /Users/jxu/anaconda3/lib/python3.10/site-packages (from torch) (3.1.4)\n",
      "Requirement already satisfied: fsspec in /Users/jxu/anaconda3/lib/python3.10/site-packages (from torch) (2023.9.2)\n",
      "Collecting sympy==1.13.1 (from torch)\n",
      "  Downloading sympy-1.13.1-py3-none-any.whl.metadata (12 kB)\n",
      "Collecting mpmath<1.4,>=1.1.0 (from sympy==1.13.1->torch)\n",
      "  Downloading mpmath-1.3.0-py3-none-any.whl.metadata (8.6 kB)\n",
      "Requirement already satisfied: MarkupSafe>=2.0 in /Users/jxu/anaconda3/lib/python3.10/site-packages (from jinja2->torch) (2.1.3)\n",
      "Downloading torch-2.5.0-cp310-none-macosx_11_0_arm64.whl (64.3 MB)\n",
      "\u001b[2K   \u001b[90m━━━━━━━━━━━━━━━━━━━━━━━━━━━━━━━━━━━━━━━━\u001b[0m \u001b[32m64.3/64.3 MB\u001b[0m \u001b[31m46.4 MB/s\u001b[0m eta \u001b[36m0:00:00\u001b[0m00:01\u001b[0m00:01\u001b[0m\n",
      "\u001b[?25hDownloading sympy-1.13.1-py3-none-any.whl (6.2 MB)\n",
      "\u001b[2K   \u001b[90m━━━━━━━━━━━━━━━━━━━━━━━━━━━━━━━━━━━━━━━━\u001b[0m \u001b[32m6.2/6.2 MB\u001b[0m \u001b[31m12.0 MB/s\u001b[0m eta \u001b[36m0:00:00\u001b[0m \u001b[36m0:00:01\u001b[0mm\n",
      "\u001b[?25hDownloading networkx-3.4.2-py3-none-any.whl (1.7 MB)\n",
      "\u001b[2K   \u001b[90m━━━━━━━━━━━━━━━━━━━━━━━━━━━━━━━━━━━━━━━━\u001b[0m \u001b[32m1.7/1.7 MB\u001b[0m \u001b[31m29.9 MB/s\u001b[0m eta \u001b[36m0:00:00\u001b[0ma \u001b[36m0:00:01\u001b[0m\n",
      "\u001b[?25hDownloading mpmath-1.3.0-py3-none-any.whl (536 kB)\n",
      "\u001b[2K   \u001b[90m━━━━━━━━━━━━━━━━━━━━━━━━━━━━━━━━━━━━━━━━\u001b[0m \u001b[32m536.2/536.2 kB\u001b[0m \u001b[31m19.7 MB/s\u001b[0m eta \u001b[36m0:00:00\u001b[0m\n",
      "\u001b[?25hInstalling collected packages: mpmath, sympy, networkx, torch\n",
      "Successfully installed mpmath-1.3.0 networkx-3.4.2 sympy-1.13.1 torch-2.5.0\n",
      "Note: you may need to restart the kernel to use updated packages.\n"
     ]
    }
   ],
   "source": [
    "pip install torch"
   ]
  },
  {
   "cell_type": "code",
   "execution_count": 60,
   "metadata": {},
   "outputs": [],
   "source": [
    "import torch\n",
    "import torch.nn as nn"
   ]
  },
  {
   "cell_type": "code",
   "execution_count": 113,
   "metadata": {},
   "outputs": [],
   "source": [
    "class SetTransformer(nn.Module):\n",
    "    def __init__(self, input_dim, output_dim, embed_dim=16, num_heads=4, hidden_dim=128):\n",
    "        super(SetTransformer, self).__init__()\n",
    "        self.embed = nn.Linear(input_dim, embed_dim)\n",
    "        self.self_attention = nn.MultiheadAttention(embed_dim, num_heads)\n",
    "        self.pool = nn.Linear(embed_dim, hidden_dim)\n",
    "        self.output_layer = nn.Linear(hidden_dim, output_dim)\n",
    "\n",
    "    def forward(self, x):\n",
    "        x = self.embed(x)  # Embed the input into a higher-dimensional space\n",
    "        x = x.transpose(0, 1)  # Required shape for MultiheadAttention: [seq_length, batch_size, embed_dim]\n",
    "        attn_output, _ = self.self_attention(x, x, x)\n",
    "        pooled_output = torch.mean(attn_output, dim=0)  # Mean pooling across the set\n",
    "        output = self.output_layer(self.pool(pooled_output))\n",
    "        return output"
   ]
  },
  {
   "cell_type": "code",
   "execution_count": 114,
   "metadata": {},
   "outputs": [],
   "source": [
    "# Parameters\n",
    "input_dim = 1  # Genres in 1d space\n",
    "embed_dim = 16\n",
    "num_heads = 4\n",
    "output_dim = min_genres\n",
    "\n",
    "set_transformer = SetTransformer(input_dim=input_dim, output_dim=output_dim, embed_dim=embed_dim, num_heads=num_heads)"
   ]
  },
  {
   "cell_type": "code",
   "execution_count": 115,
   "metadata": {},
   "outputs": [],
   "source": [
    "def dimension_reduction(genres):\n",
    "    genre_tensor = torch.tensor(genres, dtype=torch.float).unsqueeze(1)  # Add a dummy dimension for input\n",
    "    return set_transformer(genre_tensor).detach().numpy()"
   ]
  },
  {
   "cell_type": "code",
   "execution_count": 148,
   "metadata": {},
   "outputs": [],
   "source": [
    "vectorirzed_df['reduced_genre_vectors'] = vectorirzed_df['genres'].apply(lambda genres: dimension_reduction(genres))"
   ]
  },
  {
   "cell_type": "code",
   "execution_count": 2,
   "metadata": {},
   "outputs": [],
   "source": [
    "########\n",
    "########\n",
    "#APPLYING TO INPUT MOVIE\n",
    "########\n",
    "########"
   ]
  },
  {
   "cell_type": "code",
   "execution_count": 150,
   "metadata": {},
   "outputs": [],
   "source": [
    "def vectorize_input_genres(genre_list):\n",
    "    genre_list: [vectorized_genres[genre] for genre in genre_list]"
   ]
  },
  {
   "cell_type": "code",
   "execution_count": 151,
   "metadata": {},
   "outputs": [
    {
     "ename": "NameError",
     "evalue": "name 'input_genres' is not defined",
     "output_type": "error",
     "traceback": [
      "\u001b[0;31m---------------------------------------------------------------------------\u001b[0m",
      "\u001b[0;31mNameError\u001b[0m                                 Traceback (most recent call last)",
      "Cell \u001b[0;32mIn[151], line 1\u001b[0m\n\u001b[0;32m----> 1\u001b[0m vectorize_input_genres(\u001b[43minput_genres\u001b[49m)\n",
      "\u001b[0;31mNameError\u001b[0m: name 'input_genres' is not defined"
     ]
    }
   ],
   "source": [
    "vectorize_input_genres(input_genres)"
   ]
  },
  {
   "cell_type": "code",
   "execution_count": null,
   "metadata": {},
   "outputs": [],
   "source": [
    "########\n",
    "########\n",
    "#FINDING THE MOST SIMILAR MOVIES\n",
    "########\n",
    "########\n",
    "from sklearn.neighbors import NearestNeighbors\n",
    "\n",
    "database_values = vectorirzed_df['reduced_genre_vectors'].values.reshape(-1, 1)  # Reshape for KNN \n",
    "input_value = [[genre] for genre in input_genres]                            # Reshape for KNN \n",
    "\n",
    "k = 3\n",
    "knn = NearestNeighbors(n_neighbors=k)\n",
    "knn.fit(database_values)\n",
    "\n",
    "neighbors = knn.kneighbors(input_value, return_distance=False)\n"
   ]
  },
  {
   "cell_type": "code",
   "execution_count": null,
   "metadata": {},
   "outputs": [],
   "source": [
    "plt.plot(vectorirzed_df['reduced_genre_vectors'], marker='o', linestyle='none', color='black') \n",
    "\n",
    "plt.plot(input_genres, marker='x', linestyle='none', color='red')"
   ]
  },
  {
   "cell_type": "code",
   "execution_count": null,
   "metadata": {},
   "outputs": [],
   "source": [
    "# Highlight k-nearest neighbors\n",
    "for idx, genre in enumerate(input_genres):\n",
    "    neighbor_indices = neighbors[idx]\n",
    "    plt.plot(neighbor_indices, vectorirzed_df['reduced_genre_vectors'].iloc[neighbor_indices], marker='s', linestyle='none', color='green', \n",
    "             label=f'{k} nearest to y' if idx == 0 else \"\")  # Avoid duplicate labels\n",
    "\n",
    "plt.show()"
   ]
  },
  {
   "cell_type": "code",
   "execution_count": 4,
   "metadata": {},
   "outputs": [],
   "source": [
    "########\n",
    "########\n",
    "#RETURNING THE TITLES\n",
    "########\n",
    "########"
   ]
  },
  {
   "cell_type": "code",
   "execution_count": null,
   "metadata": {},
   "outputs": [],
   "source": [
    "titles = vectorirzed_df['title'].to_numpy()\n",
    "\n",
    "nearest_titles = [titles[indices] for indices in neighbors]"
   ]
  },
  {
   "cell_type": "code",
   "execution_count": null,
   "metadata": {},
   "outputs": [],
   "source": []
  },
  {
   "cell_type": "code",
   "execution_count": null,
   "metadata": {},
   "outputs": [],
   "source": []
  },
  {
   "cell_type": "code",
   "execution_count": null,
   "metadata": {},
   "outputs": [],
   "source": []
  },
  {
   "cell_type": "code",
   "execution_count": null,
   "metadata": {},
   "outputs": [],
   "source": []
  }
 ],
 "metadata": {
  "colab": {
   "provenance": [],
   "toc_visible": true
  },
  "kernelspec": {
   "display_name": "Python 3 (ipykernel)",
   "language": "python",
   "name": "python3"
  },
  "language_info": {
   "codemirror_mode": {
    "name": "ipython",
    "version": 3
   },
   "file_extension": ".py",
   "mimetype": "text/x-python",
   "name": "python",
   "nbconvert_exporter": "python",
   "pygments_lexer": "ipython3",
   "version": "3.10.9"
  }
 },
 "nbformat": 4,
 "nbformat_minor": 4
}
