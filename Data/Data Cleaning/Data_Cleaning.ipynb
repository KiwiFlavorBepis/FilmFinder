{
 "cells": [
  {
   "metadata": {},
   "cell_type": "markdown",
   "source": "## Initializing and Loading Data"
  },
  {
   "metadata": {
    "ExecuteTime": {
     "end_time": "2024-12-07T02:40:29.399918Z",
     "start_time": "2024-12-07T02:40:29.395888Z"
    }
   },
   "cell_type": "code",
   "source": "file_location = \"../Datasets/TMDB_movie_dataset_v11.csv\"",
   "outputs": [],
   "execution_count": 1
  },
  {
   "metadata": {
    "ExecuteTime": {
     "end_time": "2024-12-07T02:40:30.059896Z",
     "start_time": "2024-12-07T02:40:29.417803Z"
    }
   },
   "cell_type": "code",
   "source": [
    "import pandas as pd\n",
    "import numpy as np"
   ],
   "outputs": [],
   "execution_count": 2
  },
  {
   "metadata": {
    "ExecuteTime": {
     "end_time": "2024-12-07T02:40:38.423226Z",
     "start_time": "2024-12-07T02:40:30.638236Z"
    }
   },
   "cell_type": "code",
   "source": "backup = pd.read_csv(file_location)",
   "outputs": [],
   "execution_count": 3
  },
  {
   "metadata": {},
   "cell_type": "markdown",
   "source": "### Backup"
  },
  {
   "metadata": {
    "ExecuteTime": {
     "end_time": "2024-12-07T02:40:38.593539Z",
     "start_time": "2024-12-07T02:40:38.437178Z"
    }
   },
   "cell_type": "code",
   "source": "data = backup.copy(deep=True)",
   "outputs": [],
   "execution_count": 4
  },
  {
   "metadata": {},
   "cell_type": "markdown",
   "source": "## Initial Data Cleaning"
  },
  {
   "metadata": {
    "ExecuteTime": {
     "end_time": "2024-12-07T02:40:38.615867Z",
     "start_time": "2024-12-07T02:40:38.608628Z"
    }
   },
   "cell_type": "code",
   "source": [
    "initial = len(data)\n",
    "before = initial\n",
    "initial"
   ],
   "outputs": [
    {
     "data": {
      "text/plain": [
       "1140108"
      ]
     },
     "execution_count": 5,
     "metadata": {},
     "output_type": "execute_result"
    }
   ],
   "execution_count": 5
  },
  {
   "metadata": {},
   "cell_type": "markdown",
   "source": "### Getting rid of duplicate rows"
  },
  {
   "metadata": {
    "ExecuteTime": {
     "end_time": "2024-12-07T02:40:42.893180Z",
     "start_time": "2024-12-07T02:40:38.640178Z"
    }
   },
   "cell_type": "code",
   "source": [
    "data = data.drop_duplicates()\n",
    "after = len(data)\n",
    "print(f\"Removed {(before - after)} duplicate rows. {after} rows left.\")\n",
    "before = after"
   ],
   "outputs": [
    {
     "name": "stdout",
     "output_type": "stream",
     "text": [
      "Removed 368 duplicate rows. 1139740 rows left.\n"
     ]
    }
   ],
   "execution_count": 6
  },
  {
   "metadata": {},
   "cell_type": "markdown",
   "source": "### Removing unreleased movies"
  },
  {
   "metadata": {},
   "cell_type": "markdown",
   "source": "The status column shows what stage of production the movie is in. We are only concerned with movies that have been released."
  },
  {
   "metadata": {
    "ExecuteTime": {
     "end_time": "2024-12-07T02:40:42.973372Z",
     "start_time": "2024-12-07T02:40:42.906962Z"
    }
   },
   "cell_type": "code",
   "source": "data.status.value_counts()",
   "outputs": [
    {
     "data": {
      "text/plain": [
       "status\n",
       "Released           1113554\n",
       "In Production        10491\n",
       "Post Production       8218\n",
       "Planned               6812\n",
       "Rumored                361\n",
       "Canceled               304\n",
       "Name: count, dtype: int64"
      ]
     },
     "execution_count": 7,
     "metadata": {},
     "output_type": "execute_result"
    }
   ],
   "execution_count": 7
  },
  {
   "metadata": {},
   "cell_type": "markdown",
   "source": "Getting rid of unreleased movies:"
  },
  {
   "metadata": {
    "ExecuteTime": {
     "end_time": "2024-12-07T02:40:43.349540Z",
     "start_time": "2024-12-07T02:40:42.989691Z"
    }
   },
   "cell_type": "code",
   "source": [
    "data = data[data['status'] == \"Released\"]\n",
    "after = len(data)\n",
    "print(f\"Removed {before - after} unreleased movies. {after} rows left.\")\n",
    "before = after"
   ],
   "outputs": [
    {
     "name": "stdout",
     "output_type": "stream",
     "text": [
      "Removed 26186 unreleased movies. 1113554 rows left.\n"
     ]
    }
   ],
   "execution_count": 8
  },
  {
   "metadata": {},
   "cell_type": "markdown",
   "source": [
    "\n",
    "The release date of some rows are in the future, even though they are marked as `'Released'`. `release_date` is currently an `object` type and needs to be converted to a `datetime` type to be handled."
   ]
  },
  {
   "metadata": {
    "ExecuteTime": {
     "end_time": "2024-12-07T02:40:44.423831Z",
     "start_time": "2024-12-07T02:40:43.999083Z"
    }
   },
   "cell_type": "code",
   "source": [
    "data['release_date'] = pd.to_datetime(data['release_date'])\n",
    "data.release_date.describe()"
   ],
   "outputs": [
    {
     "data": {
      "text/plain": [
       "count                           942709\n",
       "mean     1999-12-19 06:00:05.476133120\n",
       "min                1800-01-01 00:00:00\n",
       "25%                1989-02-01 00:00:00\n",
       "50%                2010-10-06 00:00:00\n",
       "75%                2018-11-29 00:00:00\n",
       "max                2061-12-07 00:00:00\n",
       "Name: release_date, dtype: object"
      ]
     },
     "execution_count": 9,
     "metadata": {},
     "output_type": "execute_result"
    }
   ],
   "execution_count": 9
  },
  {
   "metadata": {},
   "cell_type": "markdown",
   "source": "Dropping all movies with a release date in the future:"
  },
  {
   "metadata": {
    "ExecuteTime": {
     "end_time": "2024-12-07T02:40:44.748221Z",
     "start_time": "2024-12-07T02:40:44.452460Z"
    }
   },
   "cell_type": "code",
   "source": [
    "from datetime import date\n",
    "today = pd.to_datetime(date.today())\n",
    "data = data[data['release_date'] < today]\n",
    "after = len(data)\n",
    "print(f\"Removed {before - after} future movies. {after} rows left.\")\n",
    "before = after"
   ],
   "outputs": [
    {
     "name": "stdout",
     "output_type": "stream",
     "text": [
      "Removed 170978 future movies. 942576 rows left.\n"
     ]
    }
   ],
   "execution_count": 10
  },
  {
   "metadata": {
    "ExecuteTime": {
     "end_time": "2024-12-07T02:40:44.809133Z",
     "start_time": "2024-12-07T02:40:44.779968Z"
    }
   },
   "cell_type": "code",
   "source": "data.release_date.describe()",
   "outputs": [
    {
     "data": {
      "text/plain": [
       "count                           942576\n",
       "mean     1999-12-17 21:29:43.867189376\n",
       "min                1800-01-01 00:00:00\n",
       "25%                1989-01-31 00:00:00\n",
       "50%                2010-10-04 00:00:00\n",
       "75%                2018-11-29 00:00:00\n",
       "max                2024-12-05 00:00:00\n",
       "Name: release_date, dtype: object"
      ]
     },
     "execution_count": 11,
     "metadata": {},
     "output_type": "execute_result"
    }
   ],
   "execution_count": 11
  },
  {
   "metadata": {},
   "cell_type": "markdown",
   "source": "Now the status column can be dropped."
  },
  {
   "metadata": {
    "ExecuteTime": {
     "end_time": "2024-12-07T02:40:45.139420Z",
     "start_time": "2024-12-07T02:40:44.897809Z"
    }
   },
   "cell_type": "code",
   "source": [
    "data = data.drop(columns='status')\n",
    "data.columns"
   ],
   "outputs": [
    {
     "data": {
      "text/plain": [
       "Index(['id', 'title', 'vote_average', 'vote_count', 'release_date', 'revenue',\n",
       "       'runtime', 'adult', 'backdrop_path', 'budget', 'homepage', 'imdb_id',\n",
       "       'original_language', 'original_title', 'overview', 'popularity',\n",
       "       'poster_path', 'tagline', 'genres', 'production_companies',\n",
       "       'production_countries', 'spoken_languages', 'keywords'],\n",
       "      dtype='object')"
      ]
     },
     "execution_count": 12,
     "metadata": {},
     "output_type": "execute_result"
    }
   ],
   "execution_count": 12
  },
  {
   "metadata": {},
   "cell_type": "markdown",
   "source": "### Removing porn"
  },
  {
   "metadata": {},
   "cell_type": "markdown",
   "source": "The `adult` column designates if a row is an adult film. These will be dropped:"
  },
  {
   "metadata": {
    "ExecuteTime": {
     "end_time": "2024-12-07T02:40:45.450201Z",
     "start_time": "2024-12-07T02:40:45.170063Z"
    }
   },
   "cell_type": "code",
   "source": [
    "data = data[data['adult'] == False]\n",
    "after = len(data)\n",
    "print(f\"Removed {before - after} adult films. {after} rows left.\")\n",
    "before = after"
   ],
   "outputs": [
    {
     "name": "stdout",
     "output_type": "stream",
     "text": [
      "Removed 94598 adult films. 847978 rows left.\n"
     ]
    }
   ],
   "execution_count": 13
  },
  {
   "metadata": {},
   "cell_type": "markdown",
   "source": "### Getting rid of duplicate IDs"
  },
  {
   "metadata": {
    "ExecuteTime": {
     "end_time": "2024-12-07T02:40:45.534044Z",
     "start_time": "2024-12-07T02:40:45.476375Z"
    }
   },
   "cell_type": "code",
   "source": "print(f\"There are {before - data.id.nunique()} rows with a repeated id.\")",
   "outputs": [
    {
     "name": "stdout",
     "output_type": "stream",
     "text": [
      "There are 7 rows with a repeated id.\n"
     ]
    }
   ],
   "execution_count": 14
  },
  {
   "metadata": {},
   "cell_type": "markdown",
   "source": "Lower indexed entries are more up-to-date and more complete. Removing rows with duplicated IDs, only keeping the first occurance."
  },
  {
   "metadata": {
    "ExecuteTime": {
     "end_time": "2024-12-07T02:40:45.840074Z",
     "start_time": "2024-12-07T02:40:45.581384Z"
    }
   },
   "cell_type": "code",
   "source": [
    "data = data.drop_duplicates(subset=['id'], keep='first')\n",
    "after = len(data)\n",
    "print(f\"Removed {before - after} duplicate IDs. {after} rows left.\")\n",
    "before = after"
   ],
   "outputs": [
    {
     "name": "stdout",
     "output_type": "stream",
     "text": [
      "Removed 7 duplicate IDs. 847971 rows left.\n"
     ]
    }
   ],
   "execution_count": 15
  },
  {
   "metadata": {
    "ExecuteTime": {
     "end_time": "2024-12-07T02:40:45.900827Z",
     "start_time": "2024-12-07T02:40:45.855676Z"
    }
   },
   "cell_type": "code",
   "source": "data.id.nunique()",
   "outputs": [
    {
     "data": {
      "text/plain": [
       "847971"
      ]
     },
     "execution_count": 16,
     "metadata": {},
     "output_type": "execute_result"
    }
   ],
   "execution_count": 16
  },
  {
   "metadata": {},
   "cell_type": "markdown",
   "source": "### Dropping unusable columns"
  },
  {
   "metadata": {},
   "cell_type": "markdown",
   "source": "Checking columns:"
  },
  {
   "metadata": {
    "ExecuteTime": {
     "end_time": "2024-12-07T02:40:45.921184Z",
     "start_time": "2024-12-07T02:40:45.917068Z"
    }
   },
   "cell_type": "code",
   "source": "data.columns",
   "outputs": [
    {
     "data": {
      "text/plain": [
       "Index(['id', 'title', 'vote_average', 'vote_count', 'release_date', 'revenue',\n",
       "       'runtime', 'adult', 'backdrop_path', 'budget', 'homepage', 'imdb_id',\n",
       "       'original_language', 'original_title', 'overview', 'popularity',\n",
       "       'poster_path', 'tagline', 'genres', 'production_companies',\n",
       "       'production_countries', 'spoken_languages', 'keywords'],\n",
       "      dtype='object')"
      ]
     },
     "execution_count": 17,
     "metadata": {},
     "output_type": "execute_result"
    }
   ],
   "execution_count": 17
  },
  {
   "metadata": {
    "ExecuteTime": {
     "end_time": "2024-12-07T02:40:46.884500Z",
     "start_time": "2024-12-07T02:40:45.958172Z"
    }
   },
   "cell_type": "code",
   "source": "data[['backdrop_path', 'homepage', 'poster_path']].describe()",
   "outputs": [
    {
     "data": {
      "text/plain": [
       "                           backdrop_path                        homepage  \\\n",
       "count                             259861                          102253   \n",
       "unique                            257702                           96476   \n",
       "top     /3CxwYgqGtJ6UEGfWUT0gMYCIlFP.jpg  https://animation.geidai.ac.jp   \n",
       "freq                                 157                             147   \n",
       "\n",
       "                             poster_path  \n",
       "count                             635067  \n",
       "unique                            631511  \n",
       "top     /wtoKLMm4UvkwvcSwO3XWcs1gJuF.jpg  \n",
       "freq                                  54  "
      ],
      "text/html": [
       "<div>\n",
       "<style scoped>\n",
       "    .dataframe tbody tr th:only-of-type {\n",
       "        vertical-align: middle;\n",
       "    }\n",
       "\n",
       "    .dataframe tbody tr th {\n",
       "        vertical-align: top;\n",
       "    }\n",
       "\n",
       "    .dataframe thead th {\n",
       "        text-align: right;\n",
       "    }\n",
       "</style>\n",
       "<table border=\"1\" class=\"dataframe\">\n",
       "  <thead>\n",
       "    <tr style=\"text-align: right;\">\n",
       "      <th></th>\n",
       "      <th>backdrop_path</th>\n",
       "      <th>homepage</th>\n",
       "      <th>poster_path</th>\n",
       "    </tr>\n",
       "  </thead>\n",
       "  <tbody>\n",
       "    <tr>\n",
       "      <th>count</th>\n",
       "      <td>259861</td>\n",
       "      <td>102253</td>\n",
       "      <td>635067</td>\n",
       "    </tr>\n",
       "    <tr>\n",
       "      <th>unique</th>\n",
       "      <td>257702</td>\n",
       "      <td>96476</td>\n",
       "      <td>631511</td>\n",
       "    </tr>\n",
       "    <tr>\n",
       "      <th>top</th>\n",
       "      <td>/3CxwYgqGtJ6UEGfWUT0gMYCIlFP.jpg</td>\n",
       "      <td>https://animation.geidai.ac.jp</td>\n",
       "      <td>/wtoKLMm4UvkwvcSwO3XWcs1gJuF.jpg</td>\n",
       "    </tr>\n",
       "    <tr>\n",
       "      <th>freq</th>\n",
       "      <td>157</td>\n",
       "      <td>147</td>\n",
       "      <td>54</td>\n",
       "    </tr>\n",
       "  </tbody>\n",
       "</table>\n",
       "</div>"
      ]
     },
     "execution_count": 18,
     "metadata": {},
     "output_type": "execute_result"
    }
   ],
   "execution_count": 18
  },
  {
   "metadata": {},
   "cell_type": "markdown",
   "source": "The `backdrop_path`, `homepage`, and `poster_path` columns do not contain any useful data. These can be dropped."
  },
  {
   "metadata": {
    "ExecuteTime": {
     "end_time": "2024-12-07T02:40:47.138176Z",
     "start_time": "2024-12-07T02:40:46.922315Z"
    }
   },
   "cell_type": "code",
   "source": [
    "data = data.drop(columns=['backdrop_path', 'homepage', 'poster_path'])\n",
    "data.columns"
   ],
   "outputs": [
    {
     "data": {
      "text/plain": [
       "Index(['id', 'title', 'vote_average', 'vote_count', 'release_date', 'revenue',\n",
       "       'runtime', 'adult', 'budget', 'imdb_id', 'original_language',\n",
       "       'original_title', 'overview', 'popularity', 'tagline', 'genres',\n",
       "       'production_companies', 'production_countries', 'spoken_languages',\n",
       "       'keywords'],\n",
       "      dtype='object')"
      ]
     },
     "execution_count": 19,
     "metadata": {},
     "output_type": "execute_result"
    }
   ],
   "execution_count": 19
  },
  {
   "metadata": {},
   "cell_type": "markdown",
   "source": "## Analyzing Columns"
  },
  {
   "metadata": {
    "ExecuteTime": {
     "end_time": "2024-12-07T02:40:47.215905Z",
     "start_time": "2024-12-07T02:40:47.211240Z"
    }
   },
   "cell_type": "code",
   "source": "data.columns",
   "outputs": [
    {
     "data": {
      "text/plain": [
       "Index(['id', 'title', 'vote_average', 'vote_count', 'release_date', 'revenue',\n",
       "       'runtime', 'adult', 'budget', 'imdb_id', 'original_language',\n",
       "       'original_title', 'overview', 'popularity', 'tagline', 'genres',\n",
       "       'production_companies', 'production_countries', 'spoken_languages',\n",
       "       'keywords'],\n",
       "      dtype='object')"
      ]
     },
     "execution_count": 20,
     "metadata": {},
     "output_type": "execute_result"
    }
   ],
   "execution_count": 20
  },
  {
   "metadata": {},
   "cell_type": "markdown",
   "source": "### `title`"
  },
  {
   "metadata": {
    "ExecuteTime": {
     "end_time": "2024-12-07T02:40:48.043478Z",
     "start_time": "2024-12-07T02:40:47.242432Z"
    }
   },
   "cell_type": "code",
   "source": "data.title.describe()",
   "outputs": [
    {
     "data": {
      "text/plain": [
       "count     847967\n",
       "unique    729304\n",
       "top         Home\n",
       "freq         130\n",
       "Name: title, dtype: object"
      ]
     },
     "execution_count": 21,
     "metadata": {},
     "output_type": "execute_result"
    }
   ],
   "execution_count": 21
  },
  {
   "metadata": {
    "ExecuteTime": {
     "end_time": "2024-12-07T02:40:48.106191Z",
     "start_time": "2024-12-07T02:40:48.082057Z"
    }
   },
   "cell_type": "code",
   "source": "data['title'].sample(5)",
   "outputs": [
    {
     "data": {
      "text/plain": [
       "534655                      蛇淫\n",
       "1108671         Cheating Wives\n",
       "287567          Text Videovoid\n",
       "159408     The Day Christ Died\n",
       "110910         Love & Savagery\n",
       "Name: title, dtype: object"
      ]
     },
     "execution_count": 22,
     "metadata": {},
     "output_type": "execute_result"
    }
   ],
   "execution_count": 22
  },
  {
   "metadata": {},
   "cell_type": "markdown",
   "source": "### `vote_average`"
  },
  {
   "metadata": {
    "ExecuteTime": {
     "end_time": "2024-12-07T02:40:48.250135Z",
     "start_time": "2024-12-07T02:40:48.220666Z"
    }
   },
   "cell_type": "code",
   "source": "data.vote_average.describe()",
   "outputs": [
    {
     "data": {
      "text/plain": [
       "count    847971.000000\n",
       "mean          2.286496\n",
       "std           3.141265\n",
       "min           0.000000\n",
       "25%           0.000000\n",
       "50%           0.000000\n",
       "75%           5.341000\n",
       "max          10.000000\n",
       "Name: vote_average, dtype: float64"
      ]
     },
     "execution_count": 23,
     "metadata": {},
     "output_type": "execute_result"
    }
   ],
   "execution_count": 23
  },
  {
   "metadata": {
    "ExecuteTime": {
     "end_time": "2024-12-07T02:40:49.393537Z",
     "start_time": "2024-12-07T02:40:48.370604Z"
    }
   },
   "cell_type": "code",
   "source": "data.vote_average.plot.hist(bins=100)",
   "outputs": [
    {
     "data": {
      "text/plain": [
       "<Axes: ylabel='Frequency'>"
      ]
     },
     "execution_count": 24,
     "metadata": {},
     "output_type": "execute_result"
    },
    {
     "data": {
      "text/plain": [
       "<Figure size 640x480 with 1 Axes>"
      ],
      "image/png": "[encoded data removed]"
     },
     "metadata": {},
     "output_type": "display_data"
    }
   ],
   "execution_count": 24
  },
  {
   "metadata": {},
   "cell_type": "markdown",
   "source": "There are an overwhelmingly large amount of $0.0$ vote averages. This is because they have $0$ `vote_count`. It's inappropriate to consider a movie with no votes to be $0.0$ on a $1\\text{-}10$ scale that does not permit $0$. These should be replaced with `NaN`."
  },
  {
   "metadata": {
    "ExecuteTime": {
     "end_time": "2024-12-07T02:40:49.609837Z",
     "start_time": "2024-12-07T02:40:49.446574Z"
    }
   },
   "cell_type": "code",
   "source": [
    "data.vote_average = data.vote_average.replace(0, np.nan)\n",
    "data.vote_average.plot.hist(bins=90)"
   ],
   "outputs": [
    {
     "data": {
      "text/plain": [
       "<Axes: ylabel='Frequency'>"
      ]
     },
     "execution_count": 25,
     "metadata": {},
     "output_type": "execute_result"
    },
    {
     "data": {
      "text/plain": [
       "<Figure size 640x480 with 1 Axes>"
      ],
      "image/png": "[encoded data removed]"
     },
     "metadata": {},
     "output_type": "display_data"
    }
   ],
   "execution_count": 25
  },
  {
   "metadata": {
    "ExecuteTime": {
     "end_time": "2024-12-07T02:40:49.769883Z",
     "start_time": "2024-12-07T02:40:49.657586Z"
    }
   },
   "cell_type": "code",
   "source": [
    "scoredNoVotes = data.query('vote_count == 0 and vote_average != 0')\n",
    "print(f\"Amount of movies with no votes but have a vote average anyway: {len(scoredNoVotes)}\")\n",
    "scoredNoVotes.sample()"
   ],
   "outputs": [
    {
     "name": "stdout",
     "output_type": "stream",
     "text": [
      "Amount of movies with no votes but have a vote average anyway: 524046\n"
     ]
    },
    {
     "data": {
      "text/plain": [
       "             id              title  vote_average  vote_count release_date  \\\n",
       "522697  1018119  Clara et son juge           NaN           0   1997-03-17   \n",
       "\n",
       "        revenue  runtime  adult  budget    imdb_id original_language  \\\n",
       "522697        0       95  False       0  tt0220365                fr   \n",
       "\n",
       "           original_title                                           overview  \\\n",
       "522697  Clara et son juge  Judge Larcher, who has lost his wife and child...   \n",
       "\n",
       "        popularity tagline         genres production_companies  \\\n",
       "522697         0.6     NaN  Comedy, Drama                  NaN   \n",
       "\n",
       "       production_countries spoken_languages keywords  \n",
       "522697               France           French      NaN  "
      ],
      "text/html": [
       "<div>\n",
       "<style scoped>\n",
       "    .dataframe tbody tr th:only-of-type {\n",
       "        vertical-align: middle;\n",
       "    }\n",
       "\n",
       "    .dataframe tbody tr th {\n",
       "        vertical-align: top;\n",
       "    }\n",
       "\n",
       "    .dataframe thead th {\n",
       "        text-align: right;\n",
       "    }\n",
       "</style>\n",
       "<table border=\"1\" class=\"dataframe\">\n",
       "  <thead>\n",
       "    <tr style=\"text-align: right;\">\n",
       "      <th></th>\n",
       "      <th>id</th>\n",
       "      <th>title</th>\n",
       "      <th>vote_average</th>\n",
       "      <th>vote_count</th>\n",
       "      <th>release_date</th>\n",
       "      <th>revenue</th>\n",
       "      <th>runtime</th>\n",
       "      <th>adult</th>\n",
       "      <th>budget</th>\n",
       "      <th>imdb_id</th>\n",
       "      <th>original_language</th>\n",
       "      <th>original_title</th>\n",
       "      <th>overview</th>\n",
       "      <th>popularity</th>\n",
       "      <th>tagline</th>\n",
       "      <th>genres</th>\n",
       "      <th>production_companies</th>\n",
       "      <th>production_countries</th>\n",
       "      <th>spoken_languages</th>\n",
       "      <th>keywords</th>\n",
       "    </tr>\n",
       "  </thead>\n",
       "  <tbody>\n",
       "    <tr>\n",
       "      <th>522697</th>\n",
       "      <td>1018119</td>\n",
       "      <td>Clara et son juge</td>\n",
       "      <td>NaN</td>\n",
       "      <td>0</td>\n",
       "      <td>1997-03-17</td>\n",
       "      <td>0</td>\n",
       "      <td>95</td>\n",
       "      <td>False</td>\n",
       "      <td>0</td>\n",
       "      <td>tt0220365</td>\n",
       "      <td>fr</td>\n",
       "      <td>Clara et son juge</td>\n",
       "      <td>Judge Larcher, who has lost his wife and child...</td>\n",
       "      <td>0.6</td>\n",
       "      <td>NaN</td>\n",
       "      <td>Comedy, Drama</td>\n",
       "      <td>NaN</td>\n",
       "      <td>France</td>\n",
       "      <td>French</td>\n",
       "      <td>NaN</td>\n",
       "    </tr>\n",
       "  </tbody>\n",
       "</table>\n",
       "</div>"
      ]
     },
     "execution_count": 26,
     "metadata": {},
     "output_type": "execute_result"
    }
   ],
   "execution_count": 26
  },
  {
   "metadata": {},
   "cell_type": "markdown",
   "source": "There are some movies with $0$ `vote_count` but with a real `vote_average`."
  },
  {
   "metadata": {},
   "cell_type": "markdown",
   "source": "### `vote_count`"
  },
  {
   "metadata": {
    "ExecuteTime": {
     "end_time": "2024-12-07T02:40:49.837168Z",
     "start_time": "2024-12-07T02:40:49.811603Z"
    }
   },
   "cell_type": "code",
   "source": "data.vote_count.describe()",
   "outputs": [
    {
     "data": {
      "text/plain": [
       "count    847971.000000\n",
       "mean         25.243428\n",
       "std         368.542900\n",
       "min           0.000000\n",
       "25%           0.000000\n",
       "50%           0.000000\n",
       "75%           2.000000\n",
       "max       34495.000000\n",
       "Name: vote_count, dtype: float64"
      ]
     },
     "execution_count": 27,
     "metadata": {},
     "output_type": "execute_result"
    }
   ],
   "execution_count": 27
  },
  {
   "metadata": {
    "ExecuteTime": {
     "end_time": "2024-12-07T02:40:50.022127Z",
     "start_time": "2024-12-07T02:40:49.896433Z"
    }
   },
   "cell_type": "code",
   "source": "data.vote_count.plot.hist()",
   "outputs": [
    {
     "data": {
      "text/plain": [
       "<Axes: ylabel='Frequency'>"
      ]
     },
     "execution_count": 28,
     "metadata": {},
     "output_type": "execute_result"
    },
    {
     "data": {
      "text/plain": [
       "<Figure size 640x480 with 1 Axes>"
      ],
      "image/png": "[encoded data removed]"
     },
     "metadata": {},
     "output_type": "display_data"
    }
   ],
   "execution_count": 28
  },
  {
   "metadata": {},
   "cell_type": "markdown",
   "source": "Most movies only have a handful of votes, while others can have tens of thousands."
  },
  {
   "metadata": {},
   "cell_type": "markdown",
   "source": "### `release_date`"
  },
  {
   "metadata": {
    "ExecuteTime": {
     "end_time": "2024-12-07T02:40:50.110877Z",
     "start_time": "2024-12-07T02:40:50.089493Z"
    }
   },
   "cell_type": "code",
   "source": "type(data['release_date'][0])",
   "outputs": [
    {
     "data": {
      "text/plain": [
       "pandas._libs.tslibs.timestamps.Timestamp"
      ]
     },
     "execution_count": 29,
     "metadata": {},
     "output_type": "execute_result"
    }
   ],
   "execution_count": 29
  },
  {
   "metadata": {
    "ExecuteTime": {
     "end_time": "2024-12-07T02:40:50.284464Z",
     "start_time": "2024-12-07T02:40:50.168750Z"
    }
   },
   "cell_type": "code",
   "source": "pd.to_numeric(data['release_date']).hist()",
   "outputs": [
    {
     "data": {
      "text/plain": [
       "<Axes: >"
      ]
     },
     "execution_count": 30,
     "metadata": {},
     "output_type": "execute_result"
    },
    {
     "data": {
      "text/plain": [
       "<Figure size 640x480 with 1 Axes>"
      ],
      "image/png": "[encoded data removed]"
     },
     "metadata": {},
     "output_type": "display_data"
    }
   ],
   "execution_count": 30
  },
  {
   "metadata": {},
   "cell_type": "markdown",
   "source": "As expected the majority of movies are recent."
  },
  {
   "metadata": {
    "ExecuteTime": {
     "end_time": "2024-12-07T02:40:50.328401Z",
     "start_time": "2024-12-07T02:40:50.312066Z"
    }
   },
   "cell_type": "code",
   "source": "data[data['release_date'] == data['release_date'].min()]",
   "outputs": [
    {
     "data": {
      "text/plain": [
       "             id                                title  vote_average  \\\n",
       "583141  1294302  בראול סטארס בחיים האמיתיים-אלון קאט           NaN   \n",
       "\n",
       "        vote_count release_date    revenue  runtime  adult  budget imdb_id  \\\n",
       "583141           0   1800-01-01  100000000        0  False       0     NaN   \n",
       "\n",
       "       original_language                       original_title overview  \\\n",
       "583141                he  בראול סטארס בחיים האמיתיים-אלון קאט      NaN   \n",
       "\n",
       "        popularity tagline                                 genres  \\\n",
       "583141         0.6     NaN  Horror, Drama, Thriller, Mystery, War   \n",
       "\n",
       "       production_companies production_countries spoken_languages keywords  \n",
       "583141           Salty Fish                  NaN              NaN      NaN  "
      ],
      "text/html": [
       "<div>\n",
       "<style scoped>\n",
       "    .dataframe tbody tr th:only-of-type {\n",
       "        vertical-align: middle;\n",
       "    }\n",
       "\n",
       "    .dataframe tbody tr th {\n",
       "        vertical-align: top;\n",
       "    }\n",
       "\n",
       "    .dataframe thead th {\n",
       "        text-align: right;\n",
       "    }\n",
       "</style>\n",
       "<table border=\"1\" class=\"dataframe\">\n",
       "  <thead>\n",
       "    <tr style=\"text-align: right;\">\n",
       "      <th></th>\n",
       "      <th>id</th>\n",
       "      <th>title</th>\n",
       "      <th>vote_average</th>\n",
       "      <th>vote_count</th>\n",
       "      <th>release_date</th>\n",
       "      <th>revenue</th>\n",
       "      <th>runtime</th>\n",
       "      <th>adult</th>\n",
       "      <th>budget</th>\n",
       "      <th>imdb_id</th>\n",
       "      <th>original_language</th>\n",
       "      <th>original_title</th>\n",
       "      <th>overview</th>\n",
       "      <th>popularity</th>\n",
       "      <th>tagline</th>\n",
       "      <th>genres</th>\n",
       "      <th>production_companies</th>\n",
       "      <th>production_countries</th>\n",
       "      <th>spoken_languages</th>\n",
       "      <th>keywords</th>\n",
       "    </tr>\n",
       "  </thead>\n",
       "  <tbody>\n",
       "    <tr>\n",
       "      <th>583141</th>\n",
       "      <td>1294302</td>\n",
       "      <td>בראול סטארס בחיים האמיתיים-אלון קאט</td>\n",
       "      <td>NaN</td>\n",
       "      <td>0</td>\n",
       "      <td>1800-01-01</td>\n",
       "      <td>100000000</td>\n",
       "      <td>0</td>\n",
       "      <td>False</td>\n",
       "      <td>0</td>\n",
       "      <td>NaN</td>\n",
       "      <td>he</td>\n",
       "      <td>בראול סטארס בחיים האמיתיים-אלון קאט</td>\n",
       "      <td>NaN</td>\n",
       "      <td>0.6</td>\n",
       "      <td>NaN</td>\n",
       "      <td>Horror, Drama, Thriller, Mystery, War</td>\n",
       "      <td>Salty Fish</td>\n",
       "      <td>NaN</td>\n",
       "      <td>NaN</td>\n",
       "      <td>NaN</td>\n",
       "    </tr>\n",
       "  </tbody>\n",
       "</table>\n",
       "</div>"
      ]
     },
     "execution_count": 31,
     "metadata": {},
     "output_type": "execute_result"
    }
   ],
   "execution_count": 31
  },
  {
   "metadata": {},
   "cell_type": "markdown",
   "source": "There are movies with improperly recorded dates."
  },
  {
   "metadata": {
    "ExecuteTime": {
     "end_time": "2024-12-07T02:40:50.467825Z",
     "start_time": "2024-12-07T02:40:50.449593Z"
    }
   },
   "cell_type": "code",
   "source": "data[data['release_date'] < pd.to_datetime('1900-01-01')].sort_values('release_date').head()",
   "outputs": [
    {
     "data": {
      "text/plain": [
       "             id                                title  vote_average  \\\n",
       "583141  1294302  בראול סטארס בחיים האמיתיים-אלון קאט           NaN   \n",
       "567812  1233885              A Farsa de Inês Pereira           NaN   \n",
       "540414  1314804                    Kaskisavun mailta           NaN   \n",
       "611979  1256924    Felix Nadar Spinning in his Chair           NaN   \n",
       "534500  1244969    Felix Nadar Spinning in his Chair           NaN   \n",
       "\n",
       "        vote_count release_date    revenue  runtime  adult  budget  \\\n",
       "583141           0   1800-01-01  100000000        0  False       0   \n",
       "567812           0   1800-09-11          0       56  False       0   \n",
       "540414           0   1837-10-29          0       14  False       0   \n",
       "611979           0   1865-01-01          0        1  False       0   \n",
       "534500           0   1865-01-01          0        1  False       0   \n",
       "\n",
       "           imdb_id original_language                       original_title  \\\n",
       "583141         NaN                he  בראול סטארס בחיים האמיתיים-אלון קאט   \n",
       "567812         NaN                pt              A Farsa de Inês Pereira   \n",
       "540414         NaN                en                    Kaskisavun mailta   \n",
       "611979         NaN                en    Felix Nadar Spinning in his Chair   \n",
       "534500  tt31150469                fr    Felix Nadar Spinning in his Chair   \n",
       "\n",
       "                                                 overview  popularity  \\\n",
       "583141                                                NaN       0.600   \n",
       "567812  The farsades of ines pereira by the goat of my...       0.600   \n",
       "540414                          Finnish short documentary       0.651   \n",
       "611979                  Felix Nadar Spinning in his Chair       0.000   \n",
       "534500                  Felix Nadar Spinning in his Chair       0.600   \n",
       "\n",
       "                      tagline                                 genres  \\\n",
       "583141                    NaN  Horror, Drama, Thriller, Mystery, War   \n",
       "567812                    NaN                                    NaN   \n",
       "540414                    NaN                                    NaN   \n",
       "611979  The frames that spun!                                    NaN   \n",
       "534500                    NaN                            Documentary   \n",
       "\n",
       "       production_companies production_countries spoken_languages keywords  \n",
       "583141           Salty Fish                  NaN              NaN      NaN  \n",
       "567812                  NaN                  NaN       Portuguese      NaN  \n",
       "540414                  NaN              Finland          Finnish      NaN  \n",
       "611979                  NaN                  NaN              NaN      NaN  \n",
       "534500   Paris Nadar Studio                  NaN      No Language      NaN  "
      ],
      "text/html": [
       "<div>\n",
       "<style scoped>\n",
       "    .dataframe tbody tr th:only-of-type {\n",
       "        vertical-align: middle;\n",
       "    }\n",
       "\n",
       "    .dataframe tbody tr th {\n",
       "        vertical-align: top;\n",
       "    }\n",
       "\n",
       "    .dataframe thead th {\n",
       "        text-align: right;\n",
       "    }\n",
       "</style>\n",
       "<table border=\"1\" class=\"dataframe\">\n",
       "  <thead>\n",
       "    <tr style=\"text-align: right;\">\n",
       "      <th></th>\n",
       "      <th>id</th>\n",
       "      <th>title</th>\n",
       "      <th>vote_average</th>\n",
       "      <th>vote_count</th>\n",
       "      <th>release_date</th>\n",
       "      <th>revenue</th>\n",
       "      <th>runtime</th>\n",
       "      <th>adult</th>\n",
       "      <th>budget</th>\n",
       "      <th>imdb_id</th>\n",
       "      <th>original_language</th>\n",
       "      <th>original_title</th>\n",
       "      <th>overview</th>\n",
       "      <th>popularity</th>\n",
       "      <th>tagline</th>\n",
       "      <th>genres</th>\n",
       "      <th>production_companies</th>\n",
       "      <th>production_countries</th>\n",
       "      <th>spoken_languages</th>\n",
       "      <th>keywords</th>\n",
       "    </tr>\n",
       "  </thead>\n",
       "  <tbody>\n",
       "    <tr>\n",
       "      <th>583141</th>\n",
       "      <td>1294302</td>\n",
       "      <td>בראול סטארס בחיים האמיתיים-אלון קאט</td>\n",
       "      <td>NaN</td>\n",
       "      <td>0</td>\n",
       "      <td>1800-01-01</td>\n",
       "      <td>100000000</td>\n",
       "      <td>0</td>\n",
       "      <td>False</td>\n",
       "      <td>0</td>\n",
       "      <td>NaN</td>\n",
       "      <td>he</td>\n",
       "      <td>בראול סטארס בחיים האמיתיים-אלון קאט</td>\n",
       "      <td>NaN</td>\n",
       "      <td>0.600</td>\n",
       "      <td>NaN</td>\n",
       "      <td>Horror, Drama, Thriller, Mystery, War</td>\n",
       "      <td>Salty Fish</td>\n",
       "      <td>NaN</td>\n",
       "      <td>NaN</td>\n",
       "      <td>NaN</td>\n",
       "    </tr>\n",
       "    <tr>\n",
       "      <th>567812</th>\n",
       "      <td>1233885</td>\n",
       "      <td>A Farsa de Inês Pereira</td>\n",
       "      <td>NaN</td>\n",
       "      <td>0</td>\n",
       "      <td>1800-09-11</td>\n",
       "      <td>0</td>\n",
       "      <td>56</td>\n",
       "      <td>False</td>\n",
       "      <td>0</td>\n",
       "      <td>NaN</td>\n",
       "      <td>pt</td>\n",
       "      <td>A Farsa de Inês Pereira</td>\n",
       "      <td>The farsades of ines pereira by the goat of my...</td>\n",
       "      <td>0.600</td>\n",
       "      <td>NaN</td>\n",
       "      <td>NaN</td>\n",
       "      <td>NaN</td>\n",
       "      <td>NaN</td>\n",
       "      <td>Portuguese</td>\n",
       "      <td>NaN</td>\n",
       "    </tr>\n",
       "    <tr>\n",
       "      <th>540414</th>\n",
       "      <td>1314804</td>\n",
       "      <td>Kaskisavun mailta</td>\n",
       "      <td>NaN</td>\n",
       "      <td>0</td>\n",
       "      <td>1837-10-29</td>\n",
       "      <td>0</td>\n",
       "      <td>14</td>\n",
       "      <td>False</td>\n",
       "      <td>0</td>\n",
       "      <td>NaN</td>\n",
       "      <td>en</td>\n",
       "      <td>Kaskisavun mailta</td>\n",
       "      <td>Finnish short documentary</td>\n",
       "      <td>0.651</td>\n",
       "      <td>NaN</td>\n",
       "      <td>NaN</td>\n",
       "      <td>NaN</td>\n",
       "      <td>Finland</td>\n",
       "      <td>Finnish</td>\n",
       "      <td>NaN</td>\n",
       "    </tr>\n",
       "    <tr>\n",
       "      <th>611979</th>\n",
       "      <td>1256924</td>\n",
       "      <td>Felix Nadar Spinning in his Chair</td>\n",
       "      <td>NaN</td>\n",
       "      <td>0</td>\n",
       "      <td>1865-01-01</td>\n",
       "      <td>0</td>\n",
       "      <td>1</td>\n",
       "      <td>False</td>\n",
       "      <td>0</td>\n",
       "      <td>NaN</td>\n",
       "      <td>en</td>\n",
       "      <td>Felix Nadar Spinning in his Chair</td>\n",
       "      <td>Felix Nadar Spinning in his Chair</td>\n",
       "      <td>0.000</td>\n",
       "      <td>The frames that spun!</td>\n",
       "      <td>NaN</td>\n",
       "      <td>NaN</td>\n",
       "      <td>NaN</td>\n",
       "      <td>NaN</td>\n",
       "      <td>NaN</td>\n",
       "    </tr>\n",
       "    <tr>\n",
       "      <th>534500</th>\n",
       "      <td>1244969</td>\n",
       "      <td>Felix Nadar Spinning in his Chair</td>\n",
       "      <td>NaN</td>\n",
       "      <td>0</td>\n",
       "      <td>1865-01-01</td>\n",
       "      <td>0</td>\n",
       "      <td>1</td>\n",
       "      <td>False</td>\n",
       "      <td>0</td>\n",
       "      <td>tt31150469</td>\n",
       "      <td>fr</td>\n",
       "      <td>Felix Nadar Spinning in his Chair</td>\n",
       "      <td>Felix Nadar Spinning in his Chair</td>\n",
       "      <td>0.600</td>\n",
       "      <td>NaN</td>\n",
       "      <td>Documentary</td>\n",
       "      <td>Paris Nadar Studio</td>\n",
       "      <td>NaN</td>\n",
       "      <td>No Language</td>\n",
       "      <td>NaN</td>\n",
       "    </tr>\n",
       "  </tbody>\n",
       "</table>\n",
       "</div>"
      ]
     },
     "execution_count": 32,
     "metadata": {},
     "output_type": "execute_result"
    }
   ],
   "execution_count": 32
  },
  {
   "metadata": {},
   "cell_type": "markdown",
   "source": "Luckily there are only a handful of these. The first legitimate film is in 1865, anything claiming to be older will be removed."
  },
  {
   "metadata": {
    "ExecuteTime": {
     "end_time": "2024-12-07T02:40:50.744402Z",
     "start_time": "2024-12-07T02:40:50.537080Z"
    }
   },
   "cell_type": "code",
   "source": "data = data[data['release_date'] >= pd.to_datetime('1865-01-01')]",
   "outputs": [],
   "execution_count": 33
  },
  {
   "metadata": {},
   "cell_type": "markdown",
   "source": "### `revenue`"
  },
  {
   "metadata": {
    "ExecuteTime": {
     "end_time": "2024-12-07T02:40:50.906659Z",
     "start_time": "2024-12-07T02:40:50.883390Z"
    }
   },
   "cell_type": "code",
   "source": "data.revenue.describe()",
   "outputs": [
    {
     "data": {
      "text/plain": [
       "count    8.479680e+05\n",
       "mean     8.733336e+05\n",
       "std      1.958223e+07\n",
       "min     -1.200000e+01\n",
       "25%      0.000000e+00\n",
       "50%      0.000000e+00\n",
       "75%      0.000000e+00\n",
       "max      3.000000e+09\n",
       "Name: revenue, dtype: float64"
      ]
     },
     "execution_count": 34,
     "metadata": {},
     "output_type": "execute_result"
    }
   ],
   "execution_count": 34
  },
  {
   "metadata": {
    "ExecuteTime": {
     "end_time": "2024-12-07T02:40:50.993574Z",
     "start_time": "2024-12-07T02:40:50.982204Z"
    }
   },
   "cell_type": "code",
   "source": "data.revenue.info()",
   "outputs": [
    {
     "name": "stdout",
     "output_type": "stream",
     "text": [
      "<class 'pandas.core.series.Series'>\n",
      "Index: 847968 entries, 0 to 1140105\n",
      "Series name: revenue\n",
      "Non-Null Count   Dtype\n",
      "--------------   -----\n",
      "847968 non-null  int64\n",
      "dtypes: int64(1)\n",
      "memory usage: 12.9 MB\n"
     ]
    }
   ],
   "execution_count": 35
  },
  {
   "metadata": {
    "ExecuteTime": {
     "end_time": "2024-12-07T02:40:51.376038Z",
     "start_time": "2024-12-07T02:40:51.143346Z"
    }
   },
   "cell_type": "code",
   "source": [
    "revenue_sorted = data.sort_values('revenue')\n",
    "revenue_sorted.head()"
   ],
   "outputs": [
    {
     "data": {
      "text/plain": [
       "             id                  title  vote_average  vote_count release_date  \\\n",
       "196266   339294             Some Bears           7.0           2   2013-05-15   \n",
       "106513   197955                  Tarok           5.0           6   2013-10-30   \n",
       "1140071  734843        Oh that's bhanu           NaN           0   2019-10-17   \n",
       "1140072  734845  Sasha Seeking Talents           NaN           0   2020-08-21   \n",
       "1140073  734846               Свидание           NaN           0   2019-08-01   \n",
       "\n",
       "         revenue  runtime  adult   budget    imdb_id original_language  \\\n",
       "196266       -12        8  False       12        NaN                en   \n",
       "106513         0      135  False  4800000  tt3263178                da   \n",
       "1140071        0      112  False        0        NaN                en   \n",
       "1140072        0       13  False        0        NaN                ru   \n",
       "1140073        0        0  False        0        NaN                ru   \n",
       "\n",
       "            original_title                                           overview  \\\n",
       "196266          Some Bears  A young man slips into a world of delusion aft...   \n",
       "106513               Tarok  A family saga spanning three decades based on ...   \n",
       "1140071    Oh that's bhanu  Bhanumathi Rao, in her younger days, was a dan...   \n",
       "1140072  Саша ищет таланты  Blogger Sasha makes a video about Mikhail. The...   \n",
       "1140073           Свидание                                                NaN   \n",
       "\n",
       "         popularity                                        tagline  genres  \\\n",
       "196266        0.600  Bears, known in the wild for their cuddliness     NaN   \n",
       "106513        1.009               Follow Your Dreams While You Can   Drama   \n",
       "1140071       0.602                         a film by R. V. Ramani     NaN   \n",
       "1140072       0.626                                            NaN  Comedy   \n",
       "1140073       0.600                                            NaN     NaN   \n",
       "\n",
       "        production_companies      production_countries spoken_languages  \\\n",
       "196266                   NaN  United States of America          English   \n",
       "106513   Regner Grasten Film                   Denmark           Danish   \n",
       "1140071                  NaN                       NaN              NaN   \n",
       "1140072                  NaN                    Russia              NaN   \n",
       "1140073                  NaN                       NaN          Russian   \n",
       "\n",
       "               keywords  \n",
       "196266              NaN  \n",
       "106513   woman director  \n",
       "1140071             NaN  \n",
       "1140072      short film  \n",
       "1140073             NaN  "
      ],
      "text/html": [
       "<div>\n",
       "<style scoped>\n",
       "    .dataframe tbody tr th:only-of-type {\n",
       "        vertical-align: middle;\n",
       "    }\n",
       "\n",
       "    .dataframe tbody tr th {\n",
       "        vertical-align: top;\n",
       "    }\n",
       "\n",
       "    .dataframe thead th {\n",
       "        text-align: right;\n",
       "    }\n",
       "</style>\n",
       "<table border=\"1\" class=\"dataframe\">\n",
       "  <thead>\n",
       "    <tr style=\"text-align: right;\">\n",
       "      <th></th>\n",
       "      <th>id</th>\n",
       "      <th>title</th>\n",
       "      <th>vote_average</th>\n",
       "      <th>vote_count</th>\n",
       "      <th>release_date</th>\n",
       "      <th>revenue</th>\n",
       "      <th>runtime</th>\n",
       "      <th>adult</th>\n",
       "      <th>budget</th>\n",
       "      <th>imdb_id</th>\n",
       "      <th>original_language</th>\n",
       "      <th>original_title</th>\n",
       "      <th>overview</th>\n",
       "      <th>popularity</th>\n",
       "      <th>tagline</th>\n",
       "      <th>genres</th>\n",
       "      <th>production_companies</th>\n",
       "      <th>production_countries</th>\n",
       "      <th>spoken_languages</th>\n",
       "      <th>keywords</th>\n",
       "    </tr>\n",
       "  </thead>\n",
       "  <tbody>\n",
       "    <tr>\n",
       "      <th>196266</th>\n",
       "      <td>339294</td>\n",
       "      <td>Some Bears</td>\n",
       "      <td>7.0</td>\n",
       "      <td>2</td>\n",
       "      <td>2013-05-15</td>\n",
       "      <td>-12</td>\n",
       "      <td>8</td>\n",
       "      <td>False</td>\n",
       "      <td>12</td>\n",
       "      <td>NaN</td>\n",
       "      <td>en</td>\n",
       "      <td>Some Bears</td>\n",
       "      <td>A young man slips into a world of delusion aft...</td>\n",
       "      <td>0.600</td>\n",
       "      <td>Bears, known in the wild for their cuddliness</td>\n",
       "      <td>NaN</td>\n",
       "      <td>NaN</td>\n",
       "      <td>United States of America</td>\n",
       "      <td>English</td>\n",
       "      <td>NaN</td>\n",
       "    </tr>\n",
       "    <tr>\n",
       "      <th>106513</th>\n",
       "      <td>197955</td>\n",
       "      <td>Tarok</td>\n",
       "      <td>5.0</td>\n",
       "      <td>6</td>\n",
       "      <td>2013-10-30</td>\n",
       "      <td>0</td>\n",
       "      <td>135</td>\n",
       "      <td>False</td>\n",
       "      <td>4800000</td>\n",
       "      <td>tt3263178</td>\n",
       "      <td>da</td>\n",
       "      <td>Tarok</td>\n",
       "      <td>A family saga spanning three decades based on ...</td>\n",
       "      <td>1.009</td>\n",
       "      <td>Follow Your Dreams While You Can</td>\n",
       "      <td>Drama</td>\n",
       "      <td>Regner Grasten Film</td>\n",
       "      <td>Denmark</td>\n",
       "      <td>Danish</td>\n",
       "      <td>woman director</td>\n",
       "    </tr>\n",
       "    <tr>\n",
       "      <th>1140071</th>\n",
       "      <td>734843</td>\n",
       "      <td>Oh that's bhanu</td>\n",
       "      <td>NaN</td>\n",
       "      <td>0</td>\n",
       "      <td>2019-10-17</td>\n",
       "      <td>0</td>\n",
       "      <td>112</td>\n",
       "      <td>False</td>\n",
       "      <td>0</td>\n",
       "      <td>NaN</td>\n",
       "      <td>en</td>\n",
       "      <td>Oh that's bhanu</td>\n",
       "      <td>Bhanumathi Rao, in her younger days, was a dan...</td>\n",
       "      <td>0.602</td>\n",
       "      <td>a film by R. V. Ramani</td>\n",
       "      <td>NaN</td>\n",
       "      <td>NaN</td>\n",
       "      <td>NaN</td>\n",
       "      <td>NaN</td>\n",
       "      <td>NaN</td>\n",
       "    </tr>\n",
       "    <tr>\n",
       "      <th>1140072</th>\n",
       "      <td>734845</td>\n",
       "      <td>Sasha Seeking Talents</td>\n",
       "      <td>NaN</td>\n",
       "      <td>0</td>\n",
       "      <td>2020-08-21</td>\n",
       "      <td>0</td>\n",
       "      <td>13</td>\n",
       "      <td>False</td>\n",
       "      <td>0</td>\n",
       "      <td>NaN</td>\n",
       "      <td>ru</td>\n",
       "      <td>Саша ищет таланты</td>\n",
       "      <td>Blogger Sasha makes a video about Mikhail. The...</td>\n",
       "      <td>0.626</td>\n",
       "      <td>NaN</td>\n",
       "      <td>Comedy</td>\n",
       "      <td>NaN</td>\n",
       "      <td>Russia</td>\n",
       "      <td>NaN</td>\n",
       "      <td>short film</td>\n",
       "    </tr>\n",
       "    <tr>\n",
       "      <th>1140073</th>\n",
       "      <td>734846</td>\n",
       "      <td>Свидание</td>\n",
       "      <td>NaN</td>\n",
       "      <td>0</td>\n",
       "      <td>2019-08-01</td>\n",
       "      <td>0</td>\n",
       "      <td>0</td>\n",
       "      <td>False</td>\n",
       "      <td>0</td>\n",
       "      <td>NaN</td>\n",
       "      <td>ru</td>\n",
       "      <td>Свидание</td>\n",
       "      <td>NaN</td>\n",
       "      <td>0.600</td>\n",
       "      <td>NaN</td>\n",
       "      <td>NaN</td>\n",
       "      <td>NaN</td>\n",
       "      <td>NaN</td>\n",
       "      <td>Russian</td>\n",
       "      <td>NaN</td>\n",
       "    </tr>\n",
       "  </tbody>\n",
       "</table>\n",
       "</div>"
      ]
     },
     "execution_count": 36,
     "metadata": {},
     "output_type": "execute_result"
    }
   ],
   "execution_count": 36
  },
  {
   "metadata": {
    "ExecuteTime": {
     "end_time": "2024-12-07T02:40:51.418757Z",
     "start_time": "2024-12-07T02:40:51.406775Z"
    }
   },
   "cell_type": "code",
   "source": "revenue_sorted.tail()",
   "outputs": [
    {
     "data": {
      "text/plain": [
       "             id                     title  vote_average  vote_count  \\\n",
       "282       76600  Avatar: The Way of Water         7.654        9830   \n",
       "15       299534         Avengers: Endgame         8.263       23857   \n",
       "3         19995                    Avatar         7.573       29815   \n",
       "230038  1270893         TikTok Rizz Party        10.000           1   \n",
       "554324  1224207   Adventures in Bora Bora           NaN           0   \n",
       "\n",
       "       release_date     revenue  runtime  adult     budget    imdb_id  \\\n",
       "282      2022-12-14  2320250281      192  False  460000000  tt1630029   \n",
       "15       2019-04-24  2800000000      181  False  356000000  tt4154796   \n",
       "3        2009-12-15  2923706026      162  False  237000000  tt0499549   \n",
       "230038   2024-04-01  3000000000      180  False  250000000        NaN   \n",
       "554324   2023-08-23  3000000000        5  False  800000000        NaN   \n",
       "\n",
       "       original_language            original_title  \\\n",
       "282                   en  Avatar: The Way of Water   \n",
       "15                    en         Avengers: Endgame   \n",
       "3                     en                    Avatar   \n",
       "230038                en         TikTok Rizz Party   \n",
       "554324                en   Adventures in Bora Bora   \n",
       "\n",
       "                                                 overview  popularity  \\\n",
       "282     Set more than a decade after the events of the...     241.285   \n",
       "15      After the devastating events of Avengers: Infi...      91.756   \n",
       "3       In the 22nd century, a paraplegic Marine is di...      79.932   \n",
       "230038  a band of brothers, torn apart by the constant...       0.000   \n",
       "554324  The adventures in Bora Bora, is an astonishing...       0.000   \n",
       "\n",
       "                            tagline  \\\n",
       "282              Return to Pandora.   \n",
       "15               Avenge the fallen.   \n",
       "3       Enter the world of Pandora.   \n",
       "230038                          NaN   \n",
       "554324                    (English)   \n",
       "\n",
       "                                             genres  \\\n",
       "282              Science Fiction, Adventure, Action   \n",
       "15               Adventure, Science Fiction, Action   \n",
       "3       Action, Adventure, Fantasy, Science Fiction   \n",
       "230038                                Drama, Comedy   \n",
       "554324                                  Horror, War   \n",
       "\n",
       "                                     production_companies  \\\n",
       "282        20th Century Studios, Lightstorm Entertainment   \n",
       "15                                         Marvel Studios   \n",
       "3       Dune Entertainment, Lightstorm Entertainment, ...   \n",
       "230038                                       Warner Bros.   \n",
       "554324                                                NaN   \n",
       "\n",
       "                            production_countries          spoken_languages  \\\n",
       "282                     United States of America                   English   \n",
       "15                      United States of America  English, Japanese, Xhosa   \n",
       "3       United States of America, United Kingdom          English, Spanish   \n",
       "230038                  United States of America                       NaN   \n",
       "554324                                       NaN                   English   \n",
       "\n",
       "                                                 keywords  \n",
       "282     dying and death, loss of loved one, alien life...  \n",
       "15      superhero, time travel, space travel, time mac...  \n",
       "3       future, society, culture clash, space travel, ...  \n",
       "230038                                party, tiktok, rizz  \n",
       "554324                                                NaN  "
      ],
      "text/html": [
       "<div>\n",
       "<style scoped>\n",
       "    .dataframe tbody tr th:only-of-type {\n",
       "        vertical-align: middle;\n",
       "    }\n",
       "\n",
       "    .dataframe tbody tr th {\n",
       "        vertical-align: top;\n",
       "    }\n",
       "\n",
       "    .dataframe thead th {\n",
       "        text-align: right;\n",
       "    }\n",
       "</style>\n",
       "<table border=\"1\" class=\"dataframe\">\n",
       "  <thead>\n",
       "    <tr style=\"text-align: right;\">\n",
       "      <th></th>\n",
       "      <th>id</th>\n",
       "      <th>title</th>\n",
       "      <th>vote_average</th>\n",
       "      <th>vote_count</th>\n",
       "      <th>release_date</th>\n",
       "      <th>revenue</th>\n",
       "      <th>runtime</th>\n",
       "      <th>adult</th>\n",
       "      <th>budget</th>\n",
       "      <th>imdb_id</th>\n",
       "      <th>original_language</th>\n",
       "      <th>original_title</th>\n",
       "      <th>overview</th>\n",
       "      <th>popularity</th>\n",
       "      <th>tagline</th>\n",
       "      <th>genres</th>\n",
       "      <th>production_companies</th>\n",
       "      <th>production_countries</th>\n",
       "      <th>spoken_languages</th>\n",
       "      <th>keywords</th>\n",
       "    </tr>\n",
       "  </thead>\n",
       "  <tbody>\n",
       "    <tr>\n",
       "      <th>282</th>\n",
       "      <td>76600</td>\n",
       "      <td>Avatar: The Way of Water</td>\n",
       "      <td>7.654</td>\n",
       "      <td>9830</td>\n",
       "      <td>2022-12-14</td>\n",
       "      <td>2320250281</td>\n",
       "      <td>192</td>\n",
       "      <td>False</td>\n",
       "      <td>460000000</td>\n",
       "      <td>tt1630029</td>\n",
       "      <td>en</td>\n",
       "      <td>Avatar: The Way of Water</td>\n",
       "      <td>Set more than a decade after the events of the...</td>\n",
       "      <td>241.285</td>\n",
       "      <td>Return to Pandora.</td>\n",
       "      <td>Science Fiction, Adventure, Action</td>\n",
       "      <td>20th Century Studios, Lightstorm Entertainment</td>\n",
       "      <td>United States of America</td>\n",
       "      <td>English</td>\n",
       "      <td>dying and death, loss of loved one, alien life...</td>\n",
       "    </tr>\n",
       "    <tr>\n",
       "      <th>15</th>\n",
       "      <td>299534</td>\n",
       "      <td>Avengers: Endgame</td>\n",
       "      <td>8.263</td>\n",
       "      <td>23857</td>\n",
       "      <td>2019-04-24</td>\n",
       "      <td>2800000000</td>\n",
       "      <td>181</td>\n",
       "      <td>False</td>\n",
       "      <td>356000000</td>\n",
       "      <td>tt4154796</td>\n",
       "      <td>en</td>\n",
       "      <td>Avengers: Endgame</td>\n",
       "      <td>After the devastating events of Avengers: Infi...</td>\n",
       "      <td>91.756</td>\n",
       "      <td>Avenge the fallen.</td>\n",
       "      <td>Adventure, Science Fiction, Action</td>\n",
       "      <td>Marvel Studios</td>\n",
       "      <td>United States of America</td>\n",
       "      <td>English, Japanese, Xhosa</td>\n",
       "      <td>superhero, time travel, space travel, time mac...</td>\n",
       "    </tr>\n",
       "    <tr>\n",
       "      <th>3</th>\n",
       "      <td>19995</td>\n",
       "      <td>Avatar</td>\n",
       "      <td>7.573</td>\n",
       "      <td>29815</td>\n",
       "      <td>2009-12-15</td>\n",
       "      <td>2923706026</td>\n",
       "      <td>162</td>\n",
       "      <td>False</td>\n",
       "      <td>237000000</td>\n",
       "      <td>tt0499549</td>\n",
       "      <td>en</td>\n",
       "      <td>Avatar</td>\n",
       "      <td>In the 22nd century, a paraplegic Marine is di...</td>\n",
       "      <td>79.932</td>\n",
       "      <td>Enter the world of Pandora.</td>\n",
       "      <td>Action, Adventure, Fantasy, Science Fiction</td>\n",
       "      <td>Dune Entertainment, Lightstorm Entertainment, ...</td>\n",
       "      <td>United States of America, United Kingdom</td>\n",
       "      <td>English, Spanish</td>\n",
       "      <td>future, society, culture clash, space travel, ...</td>\n",
       "    </tr>\n",
       "    <tr>\n",
       "      <th>230038</th>\n",
       "      <td>1270893</td>\n",
       "      <td>TikTok Rizz Party</td>\n",
       "      <td>10.000</td>\n",
       "      <td>1</td>\n",
       "      <td>2024-04-01</td>\n",
       "      <td>3000000000</td>\n",
       "      <td>180</td>\n",
       "      <td>False</td>\n",
       "      <td>250000000</td>\n",
       "      <td>NaN</td>\n",
       "      <td>en</td>\n",
       "      <td>TikTok Rizz Party</td>\n",
       "      <td>a band of brothers, torn apart by the constant...</td>\n",
       "      <td>0.000</td>\n",
       "      <td>NaN</td>\n",
       "      <td>Drama, Comedy</td>\n",
       "      <td>Warner Bros.</td>\n",
       "      <td>United States of America</td>\n",
       "      <td>NaN</td>\n",
       "      <td>party, tiktok, rizz</td>\n",
       "    </tr>\n",
       "    <tr>\n",
       "      <th>554324</th>\n",
       "      <td>1224207</td>\n",
       "      <td>Adventures in Bora Bora</td>\n",
       "      <td>NaN</td>\n",
       "      <td>0</td>\n",
       "      <td>2023-08-23</td>\n",
       "      <td>3000000000</td>\n",
       "      <td>5</td>\n",
       "      <td>False</td>\n",
       "      <td>800000000</td>\n",
       "      <td>NaN</td>\n",
       "      <td>en</td>\n",
       "      <td>Adventures in Bora Bora</td>\n",
       "      <td>The adventures in Bora Bora, is an astonishing...</td>\n",
       "      <td>0.000</td>\n",
       "      <td>(English)</td>\n",
       "      <td>Horror, War</td>\n",
       "      <td>NaN</td>\n",
       "      <td>NaN</td>\n",
       "      <td>English</td>\n",
       "      <td>NaN</td>\n",
       "    </tr>\n",
       "  </tbody>\n",
       "</table>\n",
       "</div>"
      ]
     },
     "execution_count": 37,
     "metadata": {},
     "output_type": "execute_result"
    }
   ],
   "execution_count": 37
  },
  {
   "metadata": {},
   "cell_type": "markdown",
   "source": "Most films have no revenue, but there are many highly grossing films."
  },
  {
   "metadata": {},
   "cell_type": "markdown",
   "source": "### `runtime`"
  },
  {
   "metadata": {
    "ExecuteTime": {
     "end_time": "2024-12-07T02:40:51.591260Z",
     "start_time": "2024-12-07T02:40:51.554869Z"
    }
   },
   "cell_type": "code",
   "source": "data.runtime.describe()",
   "outputs": [
    {
     "data": {
      "text/plain": [
       "count    847968.000000\n",
       "mean         48.080396\n",
       "std          59.383437\n",
       "min           0.000000\n",
       "25%           3.000000\n",
       "50%          30.000000\n",
       "75%          88.000000\n",
       "max       14400.000000\n",
       "Name: runtime, dtype: float64"
      ]
     },
     "execution_count": 38,
     "metadata": {},
     "output_type": "execute_result"
    }
   ],
   "execution_count": 38
  },
  {
   "metadata": {
    "ExecuteTime": {
     "end_time": "2024-12-07T02:40:51.678950Z",
     "start_time": "2024-12-07T02:40:51.667618Z"
    }
   },
   "cell_type": "code",
   "source": "data.runtime.info()",
   "outputs": [
    {
     "name": "stdout",
     "output_type": "stream",
     "text": [
      "<class 'pandas.core.series.Series'>\n",
      "Index: 847968 entries, 0 to 1140105\n",
      "Series name: runtime\n",
      "Non-Null Count   Dtype\n",
      "--------------   -----\n",
      "847968 non-null  int64\n",
      "dtypes: int64(1)\n",
      "memory usage: 12.9 MB\n"
     ]
    }
   ],
   "execution_count": 39
  },
  {
   "metadata": {
    "ExecuteTime": {
     "end_time": "2024-12-07T02:40:51.953784Z",
     "start_time": "2024-12-07T02:40:51.894539Z"
    }
   },
   "cell_type": "code",
   "source": [
    "zero_runtime = data[data['runtime'] == 0]\n",
    "print(f\"There are {len(zero_runtime)} movies with zero runtime.\")"
   ],
   "outputs": [
    {
     "name": "stdout",
     "output_type": "stream",
     "text": [
      "There are 186005 movies with zero runtime.\n"
     ]
    }
   ],
   "execution_count": 40
  },
  {
   "metadata": {},
   "cell_type": "markdown",
   "source": "Many movies have their runtime listed as zero. These will be considered missing data."
  },
  {
   "metadata": {
    "ExecuteTime": {
     "end_time": "2024-12-07T02:40:52.075481Z",
     "start_time": "2024-12-07T02:40:52.062586Z"
    }
   },
   "cell_type": "code",
   "source": "data.runtime = data.runtime.replace(0, np.nan)",
   "outputs": [],
   "execution_count": 41
  },
  {
   "metadata": {
    "ExecuteTime": {
     "end_time": "2024-12-07T02:40:52.332042Z",
     "start_time": "2024-12-07T02:40:52.142254Z"
    }
   },
   "cell_type": "code",
   "source": "data.runtime.plot.hist(bins=100)",
   "outputs": [
    {
     "data": {
      "text/plain": [
       "<Axes: ylabel='Frequency'>"
      ]
     },
     "execution_count": 42,
     "metadata": {},
     "output_type": "execute_result"
    },
    {
     "data": {
      "text/plain": [
       "<Figure size 640x480 with 1 Axes>"
      ],
      "image/png": "[encoded data removed]"
     },
     "metadata": {},
     "output_type": "display_data"
    }
   ],
   "execution_count": 42
  },
  {
   "metadata": {},
   "cell_type": "markdown",
   "source": "There are a few strong outliers."
  },
  {
   "metadata": {
    "ExecuteTime": {
     "end_time": "2024-12-07T02:40:53.197942Z",
     "start_time": "2024-12-07T02:40:52.337397Z"
    }
   },
   "cell_type": "code",
   "source": "data.runtime.plot.hist(bins=1000, xlim=(0, 360))",
   "outputs": [
    {
     "data": {
      "text/plain": [
       "<Axes: ylabel='Frequency'>"
      ]
     },
     "execution_count": 43,
     "metadata": {},
     "output_type": "execute_result"
    },
    {
     "data": {
      "text/plain": [
       "<Figure size 640x480 with 1 Axes>"
      ],
      "image/png": "[encoded data removed]"
     },
     "metadata": {},
     "output_type": "display_data"
    }
   ],
   "execution_count": 43
  },
  {
   "metadata": {},
   "cell_type": "markdown",
   "source": "### `budget`"
  },
  {
   "metadata": {
    "ExecuteTime": {
     "end_time": "2024-12-07T02:40:53.241373Z",
     "start_time": "2024-12-07T02:40:53.218303Z"
    }
   },
   "cell_type": "code",
   "source": "data.budget.describe()",
   "outputs": [
    {
     "data": {
      "text/plain": [
       "count    8.479680e+05\n",
       "mean     3.324304e+05\n",
       "std      5.222676e+06\n",
       "min      0.000000e+00\n",
       "25%      0.000000e+00\n",
       "50%      0.000000e+00\n",
       "75%      0.000000e+00\n",
       "max      8.880000e+08\n",
       "Name: budget, dtype: float64"
      ]
     },
     "execution_count": 44,
     "metadata": {},
     "output_type": "execute_result"
    }
   ],
   "execution_count": 44
  },
  {
   "metadata": {
    "ExecuteTime": {
     "end_time": "2024-12-07T02:40:53.298447Z",
     "start_time": "2024-12-07T02:40:53.287663Z"
    }
   },
   "cell_type": "code",
   "source": "data.budget.info()",
   "outputs": [
    {
     "name": "stdout",
     "output_type": "stream",
     "text": [
      "<class 'pandas.core.series.Series'>\n",
      "Index: 847968 entries, 0 to 1140105\n",
      "Series name: budget\n",
      "Non-Null Count   Dtype\n",
      "--------------   -----\n",
      "847968 non-null  int64\n",
      "dtypes: int64(1)\n",
      "memory usage: 12.9 MB\n"
     ]
    }
   ],
   "execution_count": 45
  },
  {
   "metadata": {
    "ExecuteTime": {
     "end_time": "2024-12-07T02:40:53.547925Z",
     "start_time": "2024-12-07T02:40:53.365474Z"
    }
   },
   "cell_type": "code",
   "source": "data.budget.plot()",
   "outputs": [
    {
     "data": {
      "text/plain": [
       "<Axes: >"
      ]
     },
     "execution_count": 46,
     "metadata": {},
     "output_type": "execute_result"
    },
    {
     "data": {
      "text/plain": [
       "<Figure size 640x480 with 1 Axes>"
      ],
      "image/png": "[encoded data removed]"
     },
     "metadata": {},
     "output_type": "display_data"
    }
   ],
   "execution_count": 46
  },
  {
   "metadata": {},
   "cell_type": "markdown",
   "source": "## `imdb_id`"
  },
  {
   "metadata": {
    "ExecuteTime": {
     "end_time": "2024-12-07T02:40:54.106359Z",
     "start_time": "2024-12-07T02:40:53.567011Z"
    }
   },
   "cell_type": "code",
   "source": "data.imdb_id.describe()",
   "outputs": [
    {
     "data": {
      "text/plain": [
       "count         526562\n",
       "unique        526239\n",
       "top       tt32094375\n",
       "freq              22\n",
       "Name: imdb_id, dtype: object"
      ]
     },
     "execution_count": 47,
     "metadata": {},
     "output_type": "execute_result"
    }
   ],
   "execution_count": 47
  },
  {
   "metadata": {},
   "cell_type": "markdown",
   "source": "There are some rows with duplicate IMDB IDs."
  },
  {
   "metadata": {
    "ExecuteTime": {
     "end_time": "2024-12-07T02:40:54.305284Z",
     "start_time": "2024-12-07T02:40:54.153376Z"
    }
   },
   "cell_type": "code",
   "source": "data[data.imdb_id.duplicated()]",
   "outputs": [
    {
     "data": {
      "text/plain": [
       "              id                                          title  vote_average  \\\n",
       "5531      836466                                         Return         6.291   \n",
       "7425     1040330              Black Adam: Saviour or Destroyer?         6.998   \n",
       "8870      665399  BTS World Tour: Love Yourself - Japan Edition         9.172   \n",
       "11155    1086372                                         Return         6.599   \n",
       "11301      15257                             Hulk vs. Wolverine         7.099   \n",
       "...          ...                                            ...           ...   \n",
       "1140100   734797      Yui Ogura 1st Live Tour High-Touch☆Summer           NaN   \n",
       "1140101   734799                                  Girls' School           NaN   \n",
       "1140103   734803                                          Lines           NaN   \n",
       "1140104   734804                                 Studio Moments           NaN   \n",
       "1140105   734806                          I Still Want to Drown           NaN   \n",
       "\n",
       "         vote_count release_date  revenue  runtime  adult  budget imdb_id  \\\n",
       "5531            619   2020-06-10        0     12.0  False       0     NaN   \n",
       "7425            404   2022-10-15        0     22.0  False       0     NaN   \n",
       "8870            306   2019-10-09        0    231.0  False       0     NaN   \n",
       "11155           217   1972-07-02        0     82.0  False       0     NaN   \n",
       "11301           213   2009-01-27        0     38.0  False       0     NaN   \n",
       "...             ...          ...      ...      ...    ...     ...     ...   \n",
       "1140100           0   2017-02-08        0    136.0  False       0     NaN   \n",
       "1140101           0   1982-01-01        0     91.0  False       0     NaN   \n",
       "1140103           0   2017-01-01        0     10.0  False       0     NaN   \n",
       "1140104           0   2020-01-01        0      8.0  False       0     NaN   \n",
       "1140105           0   2010-02-09        0      3.0  False       0     NaN   \n",
       "\n",
       "        original_language                                 original_title  \\\n",
       "5531                   en                                         Return   \n",
       "7425                   en              Black Adam: Saviour or Destroyer?   \n",
       "8870                   ko  BTS World Tour: Love Yourself - Japan Edition   \n",
       "11155                  hy                                         Return   \n",
       "11301                  en                             Hulk vs. Wolverine   \n",
       "...                   ...                                            ...   \n",
       "1140100                en      Yui Ogura 1st Live Tour High-Touch☆Summer   \n",
       "1140101                zh                                 Nu zi xue jiao   \n",
       "1140103                en                                          Lines   \n",
       "1140104                en                                 Studio Moments   \n",
       "1140105                en                          I Still Want to Drown   \n",
       "\n",
       "                                                  overview  popularity  \\\n",
       "5531     A single man has worked most of his life in a ...       7.915   \n",
       "7425     Ahead of the release of upcoming fantasy film ...      10.918   \n",
       "8870     BTS perform their Japan concert at Tokyo Dome ...       4.892   \n",
       "11155    The main character of the film is an outstandi...       4.835   \n",
       "11301    Department H sends in Wolverine to track down ...      14.562   \n",
       "...                                                    ...         ...   \n",
       "1140100  This is the first solo live tour for popular v...       0.600   \n",
       "1140101                       Also known as Girls' School.       0.840   \n",
       "1140103  Richard Garet’s moving image work is character...       0.600   \n",
       "1140104  A \"moving image\" work by Richard Garet with mu...       0.600   \n",
       "1140105  The piece is a short lament and meditation on ...       0.600   \n",
       "\n",
       "                         tagline  \\\n",
       "5531                         NaN   \n",
       "7425                         NaN   \n",
       "8870                         NaN   \n",
       "11155                        NaN   \n",
       "11301                        NaN   \n",
       "...                          ...   \n",
       "1140100  Yui Ogura 1st Live Tour   \n",
       "1140101                      NaN   \n",
       "1140103                      NaN   \n",
       "1140104                      NaN   \n",
       "1140105                      NaN   \n",
       "\n",
       "                                                    genres  \\\n",
       "5531                                             Animation   \n",
       "7425                                           Documentary   \n",
       "8870                                    Music, Documentary   \n",
       "11155                                                  NaN   \n",
       "11301    Animation, Action, Science Fiction, Adventure,...   \n",
       "...                                                    ...   \n",
       "1140100                                                NaN   \n",
       "1140101                                                NaN   \n",
       "1140103                                                NaN   \n",
       "1140104                                                NaN   \n",
       "1140105                                                NaN   \n",
       "\n",
       "                production_companies      production_countries  \\\n",
       "5531                             NaN                       NaN   \n",
       "7425                             NaN                       NaN   \n",
       "8870           Big Hit Entertainment               South Korea   \n",
       "11155                            NaN                       NaN   \n",
       "11301    Lionsgate, Marvel Animation  United States of America   \n",
       "...                              ...                       ...   \n",
       "1140100                          NaN                       NaN   \n",
       "1140101                          NaN                       NaN   \n",
       "1140103                          NaN                       NaN   \n",
       "1140104                          NaN                       NaN   \n",
       "1140105                          NaN                       NaN   \n",
       "\n",
       "        spoken_languages                                           keywords  \n",
       "5531                 NaN                                                NaN  \n",
       "7425             English                                  behind the scenes  \n",
       "8870              Korean              making of, concert film, choreography  \n",
       "11155                NaN                                                NaN  \n",
       "11301            English  superhero, mutant, based on comic, norse mytho...  \n",
       "...                  ...                                                ...  \n",
       "1140100         Japanese                                                NaN  \n",
       "1140101              NaN  teen movie, relationship, female sexuality, queer  \n",
       "1140103              NaN                                                NaN  \n",
       "1140104              NaN                                                NaN  \n",
       "1140105              NaN                                                NaN  \n",
       "\n",
       "[321728 rows x 20 columns]"
      ],
      "text/html": [
       "<div>\n",
       "<style scoped>\n",
       "    .dataframe tbody tr th:only-of-type {\n",
       "        vertical-align: middle;\n",
       "    }\n",
       "\n",
       "    .dataframe tbody tr th {\n",
       "        vertical-align: top;\n",
       "    }\n",
       "\n",
       "    .dataframe thead th {\n",
       "        text-align: right;\n",
       "    }\n",
       "</style>\n",
       "<table border=\"1\" class=\"dataframe\">\n",
       "  <thead>\n",
       "    <tr style=\"text-align: right;\">\n",
       "      <th></th>\n",
       "      <th>id</th>\n",
       "      <th>title</th>\n",
       "      <th>vote_average</th>\n",
       "      <th>vote_count</th>\n",
       "      <th>release_date</th>\n",
       "      <th>revenue</th>\n",
       "      <th>runtime</th>\n",
       "      <th>adult</th>\n",
       "      <th>budget</th>\n",
       "      <th>imdb_id</th>\n",
       "      <th>original_language</th>\n",
       "      <th>original_title</th>\n",
       "      <th>overview</th>\n",
       "      <th>popularity</th>\n",
       "      <th>tagline</th>\n",
       "      <th>genres</th>\n",
       "      <th>production_companies</th>\n",
       "      <th>production_countries</th>\n",
       "      <th>spoken_languages</th>\n",
       "      <th>keywords</th>\n",
       "    </tr>\n",
       "  </thead>\n",
       "  <tbody>\n",
       "    <tr>\n",
       "      <th>5531</th>\n",
       "      <td>836466</td>\n",
       "      <td>Return</td>\n",
       "      <td>6.291</td>\n",
       "      <td>619</td>\n",
       "      <td>2020-06-10</td>\n",
       "      <td>0</td>\n",
       "      <td>12.0</td>\n",
       "      <td>False</td>\n",
       "      <td>0</td>\n",
       "      <td>NaN</td>\n",
       "      <td>en</td>\n",
       "      <td>Return</td>\n",
       "      <td>A single man has worked most of his life in a ...</td>\n",
       "      <td>7.915</td>\n",
       "      <td>NaN</td>\n",
       "      <td>Animation</td>\n",
       "      <td>NaN</td>\n",
       "      <td>NaN</td>\n",
       "      <td>NaN</td>\n",
       "      <td>NaN</td>\n",
       "    </tr>\n",
       "    <tr>\n",
       "      <th>7425</th>\n",
       "      <td>1040330</td>\n",
       "      <td>Black Adam: Saviour or Destroyer?</td>\n",
       "      <td>6.998</td>\n",
       "      <td>404</td>\n",
       "      <td>2022-10-15</td>\n",
       "      <td>0</td>\n",
       "      <td>22.0</td>\n",
       "      <td>False</td>\n",
       "      <td>0</td>\n",
       "      <td>NaN</td>\n",
       "      <td>en</td>\n",
       "      <td>Black Adam: Saviour or Destroyer?</td>\n",
       "      <td>Ahead of the release of upcoming fantasy film ...</td>\n",
       "      <td>10.918</td>\n",
       "      <td>NaN</td>\n",
       "      <td>Documentary</td>\n",
       "      <td>NaN</td>\n",
       "      <td>NaN</td>\n",
       "      <td>English</td>\n",
       "      <td>behind the scenes</td>\n",
       "    </tr>\n",
       "    <tr>\n",
       "      <th>8870</th>\n",
       "      <td>665399</td>\n",
       "      <td>BTS World Tour: Love Yourself - Japan Edition</td>\n",
       "      <td>9.172</td>\n",
       "      <td>306</td>\n",
       "      <td>2019-10-09</td>\n",
       "      <td>0</td>\n",
       "      <td>231.0</td>\n",
       "      <td>False</td>\n",
       "      <td>0</td>\n",
       "      <td>NaN</td>\n",
       "      <td>ko</td>\n",
       "      <td>BTS World Tour: Love Yourself - Japan Edition</td>\n",
       "      <td>BTS perform their Japan concert at Tokyo Dome ...</td>\n",
       "      <td>4.892</td>\n",
       "      <td>NaN</td>\n",
       "      <td>Music, Documentary</td>\n",
       "      <td>Big Hit Entertainment</td>\n",
       "      <td>South Korea</td>\n",
       "      <td>Korean</td>\n",
       "      <td>making of, concert film, choreography</td>\n",
       "    </tr>\n",
       "    <tr>\n",
       "      <th>11155</th>\n",
       "      <td>1086372</td>\n",
       "      <td>Return</td>\n",
       "      <td>6.599</td>\n",
       "      <td>217</td>\n",
       "      <td>1972-07-02</td>\n",
       "      <td>0</td>\n",
       "      <td>82.0</td>\n",
       "      <td>False</td>\n",
       "      <td>0</td>\n",
       "      <td>NaN</td>\n",
       "      <td>hy</td>\n",
       "      <td>Return</td>\n",
       "      <td>The main character of the film is an outstandi...</td>\n",
       "      <td>4.835</td>\n",
       "      <td>NaN</td>\n",
       "      <td>NaN</td>\n",
       "      <td>NaN</td>\n",
       "      <td>NaN</td>\n",
       "      <td>NaN</td>\n",
       "      <td>NaN</td>\n",
       "    </tr>\n",
       "    <tr>\n",
       "      <th>11301</th>\n",
       "      <td>15257</td>\n",
       "      <td>Hulk vs. Wolverine</td>\n",
       "      <td>7.099</td>\n",
       "      <td>213</td>\n",
       "      <td>2009-01-27</td>\n",
       "      <td>0</td>\n",
       "      <td>38.0</td>\n",
       "      <td>False</td>\n",
       "      <td>0</td>\n",
       "      <td>NaN</td>\n",
       "      <td>en</td>\n",
       "      <td>Hulk vs. Wolverine</td>\n",
       "      <td>Department H sends in Wolverine to track down ...</td>\n",
       "      <td>14.562</td>\n",
       "      <td>NaN</td>\n",
       "      <td>Animation, Action, Science Fiction, Adventure,...</td>\n",
       "      <td>Lionsgate, Marvel Animation</td>\n",
       "      <td>United States of America</td>\n",
       "      <td>English</td>\n",
       "      <td>superhero, mutant, based on comic, norse mytho...</td>\n",
       "    </tr>\n",
       "    <tr>\n",
       "      <th>...</th>\n",
       "      <td>...</td>\n",
       "      <td>...</td>\n",
       "      <td>...</td>\n",
       "      <td>...</td>\n",
       "      <td>...</td>\n",
       "      <td>...</td>\n",
       "      <td>...</td>\n",
       "      <td>...</td>\n",
       "      <td>...</td>\n",
       "      <td>...</td>\n",
       "      <td>...</td>\n",
       "      <td>...</td>\n",
       "      <td>...</td>\n",
       "      <td>...</td>\n",
       "      <td>...</td>\n",
       "      <td>...</td>\n",
       "      <td>...</td>\n",
       "      <td>...</td>\n",
       "      <td>...</td>\n",
       "      <td>...</td>\n",
       "    </tr>\n",
       "    <tr>\n",
       "      <th>1140100</th>\n",
       "      <td>734797</td>\n",
       "      <td>Yui Ogura 1st Live Tour High-Touch☆Summer</td>\n",
       "      <td>NaN</td>\n",
       "      <td>0</td>\n",
       "      <td>2017-02-08</td>\n",
       "      <td>0</td>\n",
       "      <td>136.0</td>\n",
       "      <td>False</td>\n",
       "      <td>0</td>\n",
       "      <td>NaN</td>\n",
       "      <td>en</td>\n",
       "      <td>Yui Ogura 1st Live Tour High-Touch☆Summer</td>\n",
       "      <td>This is the first solo live tour for popular v...</td>\n",
       "      <td>0.600</td>\n",
       "      <td>Yui Ogura 1st Live Tour</td>\n",
       "      <td>NaN</td>\n",
       "      <td>NaN</td>\n",
       "      <td>NaN</td>\n",
       "      <td>Japanese</td>\n",
       "      <td>NaN</td>\n",
       "    </tr>\n",
       "    <tr>\n",
       "      <th>1140101</th>\n",
       "      <td>734799</td>\n",
       "      <td>Girls' School</td>\n",
       "      <td>NaN</td>\n",
       "      <td>0</td>\n",
       "      <td>1982-01-01</td>\n",
       "      <td>0</td>\n",
       "      <td>91.0</td>\n",
       "      <td>False</td>\n",
       "      <td>0</td>\n",
       "      <td>NaN</td>\n",
       "      <td>zh</td>\n",
       "      <td>Nu zi xue jiao</td>\n",
       "      <td>Also known as Girls' School.</td>\n",
       "      <td>0.840</td>\n",
       "      <td>NaN</td>\n",
       "      <td>NaN</td>\n",
       "      <td>NaN</td>\n",
       "      <td>NaN</td>\n",
       "      <td>NaN</td>\n",
       "      <td>teen movie, relationship, female sexuality, queer</td>\n",
       "    </tr>\n",
       "    <tr>\n",
       "      <th>1140103</th>\n",
       "      <td>734803</td>\n",
       "      <td>Lines</td>\n",
       "      <td>NaN</td>\n",
       "      <td>0</td>\n",
       "      <td>2017-01-01</td>\n",
       "      <td>0</td>\n",
       "      <td>10.0</td>\n",
       "      <td>False</td>\n",
       "      <td>0</td>\n",
       "      <td>NaN</td>\n",
       "      <td>en</td>\n",
       "      <td>Lines</td>\n",
       "      <td>Richard Garet’s moving image work is character...</td>\n",
       "      <td>0.600</td>\n",
       "      <td>NaN</td>\n",
       "      <td>NaN</td>\n",
       "      <td>NaN</td>\n",
       "      <td>NaN</td>\n",
       "      <td>NaN</td>\n",
       "      <td>NaN</td>\n",
       "    </tr>\n",
       "    <tr>\n",
       "      <th>1140104</th>\n",
       "      <td>734804</td>\n",
       "      <td>Studio Moments</td>\n",
       "      <td>NaN</td>\n",
       "      <td>0</td>\n",
       "      <td>2020-01-01</td>\n",
       "      <td>0</td>\n",
       "      <td>8.0</td>\n",
       "      <td>False</td>\n",
       "      <td>0</td>\n",
       "      <td>NaN</td>\n",
       "      <td>en</td>\n",
       "      <td>Studio Moments</td>\n",
       "      <td>A \"moving image\" work by Richard Garet with mu...</td>\n",
       "      <td>0.600</td>\n",
       "      <td>NaN</td>\n",
       "      <td>NaN</td>\n",
       "      <td>NaN</td>\n",
       "      <td>NaN</td>\n",
       "      <td>NaN</td>\n",
       "      <td>NaN</td>\n",
       "    </tr>\n",
       "    <tr>\n",
       "      <th>1140105</th>\n",
       "      <td>734806</td>\n",
       "      <td>I Still Want to Drown</td>\n",
       "      <td>NaN</td>\n",
       "      <td>0</td>\n",
       "      <td>2010-02-09</td>\n",
       "      <td>0</td>\n",
       "      <td>3.0</td>\n",
       "      <td>False</td>\n",
       "      <td>0</td>\n",
       "      <td>NaN</td>\n",
       "      <td>en</td>\n",
       "      <td>I Still Want to Drown</td>\n",
       "      <td>The piece is a short lament and meditation on ...</td>\n",
       "      <td>0.600</td>\n",
       "      <td>NaN</td>\n",
       "      <td>NaN</td>\n",
       "      <td>NaN</td>\n",
       "      <td>NaN</td>\n",
       "      <td>NaN</td>\n",
       "      <td>NaN</td>\n",
       "    </tr>\n",
       "  </tbody>\n",
       "</table>\n",
       "<p>321728 rows × 20 columns</p>\n",
       "</div>"
      ]
     },
     "execution_count": 48,
     "metadata": {},
     "output_type": "execute_result"
    }
   ],
   "execution_count": 48
  },
  {
   "metadata": {},
   "cell_type": "markdown",
   "source": "These are all rows with missing IMDB IDs. They will be dropped."
  },
  {
   "metadata": {
    "ExecuteTime": {
     "end_time": "2024-12-07T02:40:54.578835Z",
     "start_time": "2024-12-07T02:40:54.331908Z"
    }
   },
   "cell_type": "code",
   "source": "data = data.drop_duplicates(subset=['imdb_id'])",
   "outputs": [],
   "execution_count": 49
  },
  {
   "metadata": {
    "ExecuteTime": {
     "end_time": "2024-12-07T02:40:55.108958Z",
     "start_time": "2024-12-07T02:40:54.615615Z"
    }
   },
   "cell_type": "code",
   "source": "data.imdb_id.describe()",
   "outputs": [
    {
     "data": {
      "text/plain": [
       "count        526239\n",
       "unique       526239\n",
       "top       tt3281206\n",
       "freq              1\n",
       "Name: imdb_id, dtype: object"
      ]
     },
     "execution_count": 50,
     "metadata": {},
     "output_type": "execute_result"
    }
   ],
   "execution_count": 50
  },
  {
   "metadata": {
    "ExecuteTime": {
     "end_time": "2024-12-07T02:40:55.186984Z",
     "start_time": "2024-12-07T02:40:55.141088Z"
    }
   },
   "cell_type": "code",
   "source": "data.imdb_id.info()",
   "outputs": [
    {
     "name": "stdout",
     "output_type": "stream",
     "text": [
      "<class 'pandas.core.series.Series'>\n",
      "Index: 526240 entries, 0 to 1140091\n",
      "Series name: imdb_id\n",
      "Non-Null Count   Dtype \n",
      "--------------   ----- \n",
      "526239 non-null  object\n",
      "dtypes: object(1)\n",
      "memory usage: 8.0+ MB\n"
     ]
    }
   ],
   "execution_count": 51
  },
  {
   "metadata": {},
   "cell_type": "markdown",
   "source": "## `original_language`"
  },
  {
   "metadata": {
    "ExecuteTime": {
     "end_time": "2024-12-07T02:40:55.312326Z",
     "start_time": "2024-12-07T02:40:55.262614Z"
    }
   },
   "cell_type": "code",
   "source": "data.original_language.describe()",
   "outputs": [
    {
     "data": {
      "text/plain": [
       "count     526240\n",
       "unique       162\n",
       "top           en\n",
       "freq      268515\n",
       "Name: original_language, dtype: object"
      ]
     },
     "execution_count": 52,
     "metadata": {},
     "output_type": "execute_result"
    }
   ],
   "execution_count": 52
  },
  {
   "metadata": {
    "ExecuteTime": {
     "end_time": "2024-12-07T02:40:55.455026Z",
     "start_time": "2024-12-07T02:40:55.428934Z"
    }
   },
   "cell_type": "code",
   "source": "data.original_language.info()",
   "outputs": [
    {
     "name": "stdout",
     "output_type": "stream",
     "text": [
      "<class 'pandas.core.series.Series'>\n",
      "Index: 526240 entries, 0 to 1140091\n",
      "Series name: original_language\n",
      "Non-Null Count   Dtype \n",
      "--------------   ----- \n",
      "526240 non-null  object\n",
      "dtypes: object(1)\n",
      "memory usage: 8.0+ MB\n"
     ]
    }
   ],
   "execution_count": 53
  },
  {
   "metadata": {
    "ExecuteTime": {
     "end_time": "2024-12-07T02:40:56.006521Z",
     "start_time": "2024-12-07T02:40:55.536332Z"
    }
   },
   "cell_type": "code",
   "source": "data.original_language.value_counts().plot.pie()",
   "outputs": [
    {
     "data": {
      "text/plain": [
       "<Axes: ylabel='count'>"
      ]
     },
     "execution_count": 54,
     "metadata": {},
     "output_type": "execute_result"
    },
    {
     "data": {
      "text/plain": [
       "<Figure size 640x480 with 1 Axes>"
      ],
      "image/png": "[encoded data removed]"
     },
     "metadata": {},
     "output_type": "display_data"
    }
   ],
   "execution_count": 54
  },
  {
   "metadata": {},
   "cell_type": "markdown",
   "source": "## `original_title`"
  },
  {
   "metadata": {
    "ExecuteTime": {
     "end_time": "2024-12-07T02:40:56.496014Z",
     "start_time": "2024-12-07T02:40:56.033318Z"
    }
   },
   "cell_type": "code",
   "source": "data.original_title.describe()",
   "outputs": [
    {
     "data": {
      "text/plain": [
       "count     526240\n",
       "unique    474135\n",
       "top         Home\n",
       "freq          50\n",
       "Name: original_title, dtype: object"
      ]
     },
     "execution_count": 55,
     "metadata": {},
     "output_type": "execute_result"
    }
   ],
   "execution_count": 55
  },
  {
   "metadata": {
    "ExecuteTime": {
     "end_time": "2024-12-07T02:40:56.540115Z",
     "start_time": "2024-12-07T02:40:56.525120Z"
    }
   },
   "cell_type": "code",
   "source": "data.original_title.sample(5)",
   "outputs": [
    {
     "data": {
      "text/plain": [
       "554510                        筑豊のこどもたち\n",
       "466354                 Breaking Social\n",
       "895368    Kasal-Kasalan, Bahay-Bahayan\n",
       "713348                          Espejo\n",
       "35968                        The Badge\n",
       "Name: original_title, dtype: object"
      ]
     },
     "execution_count": 56,
     "metadata": {},
     "output_type": "execute_result"
    }
   ],
   "execution_count": 56
  },
  {
   "metadata": {
    "ExecuteTime": {
     "end_time": "2024-12-07T02:40:56.659193Z",
     "start_time": "2024-12-07T02:40:56.602488Z"
    }
   },
   "cell_type": "code",
   "source": "data.original_title.info()",
   "outputs": [
    {
     "name": "stdout",
     "output_type": "stream",
     "text": [
      "<class 'pandas.core.series.Series'>\n",
      "Index: 526240 entries, 0 to 1140091\n",
      "Series name: original_title\n",
      "Non-Null Count   Dtype \n",
      "--------------   ----- \n",
      "526240 non-null  object\n",
      "dtypes: object(1)\n",
      "memory usage: 8.0+ MB\n"
     ]
    }
   ],
   "execution_count": 57
  },
  {
   "metadata": {},
   "cell_type": "markdown",
   "source": "## `overview`"
  },
  {
   "metadata": {
    "ExecuteTime": {
     "end_time": "2024-12-07T02:40:57.303471Z",
     "start_time": "2024-12-07T02:40:56.727674Z"
    }
   },
   "cell_type": "code",
   "source": "data.overview.describe()",
   "outputs": [
    {
     "data": {
      "text/plain": [
       "count                   462154\n",
       "unique                  456124\n",
       "top       Mexican feature film\n",
       "freq                       897\n",
       "Name: overview, dtype: object"
      ]
     },
     "execution_count": 58,
     "metadata": {},
     "output_type": "execute_result"
    }
   ],
   "execution_count": 58
  },
  {
   "metadata": {
    "ExecuteTime": {
     "end_time": "2024-12-07T02:40:57.343815Z",
     "start_time": "2024-12-07T02:40:57.328944Z"
    }
   },
   "cell_type": "code",
   "source": "data.overview.sample(5)",
   "outputs": [
    {
     "data": {
      "text/plain": [
       "226356    As darkness fell on May 10, 1996, a fast movin...\n",
       "201871    All the qualified men line up to be chosen, as...\n",
       "148173    The story of one of the most important Brazili...\n",
       "854295    Pra Quem Fica, Tchau tells the story of a teen...\n",
       "899365    A domineering,reclusive, and ostentatiously pi...\n",
       "Name: overview, dtype: object"
      ]
     },
     "execution_count": 59,
     "metadata": {},
     "output_type": "execute_result"
    }
   ],
   "execution_count": 59
  },
  {
   "metadata": {
    "ExecuteTime": {
     "end_time": "2024-12-07T02:40:57.530164Z",
     "start_time": "2024-12-07T02:40:57.429805Z"
    }
   },
   "cell_type": "code",
   "source": "data.overview.info()",
   "outputs": [
    {
     "name": "stdout",
     "output_type": "stream",
     "text": [
      "<class 'pandas.core.series.Series'>\n",
      "Index: 526240 entries, 0 to 1140091\n",
      "Series name: overview\n",
      "Non-Null Count   Dtype \n",
      "--------------   ----- \n",
      "462154 non-null  object\n",
      "dtypes: object(1)\n",
      "memory usage: 8.0+ MB\n"
     ]
    }
   ],
   "execution_count": 60
  },
  {
   "metadata": {},
   "cell_type": "markdown",
   "source": "## `popularity`"
  },
  {
   "metadata": {
    "ExecuteTime": {
     "end_time": "2024-12-07T02:40:57.631604Z",
     "start_time": "2024-12-07T02:40:57.608782Z"
    }
   },
   "cell_type": "code",
   "source": "data.popularity.describe()",
   "outputs": [
    {
     "data": {
      "text/plain": [
       "count    526240.000000\n",
       "mean          1.935579\n",
       "std          10.313819\n",
       "min           0.000000\n",
       "25%           0.600000\n",
       "50%           0.710000\n",
       "75%           1.400000\n",
       "max        2994.357000\n",
       "Name: popularity, dtype: float64"
      ]
     },
     "execution_count": 61,
     "metadata": {},
     "output_type": "execute_result"
    }
   ],
   "execution_count": 61
  },
  {
   "metadata": {
    "ExecuteTime": {
     "end_time": "2024-12-07T02:40:57.813908Z",
     "start_time": "2024-12-07T02:40:57.805242Z"
    }
   },
   "cell_type": "code",
   "source": "data.popularity.info()",
   "outputs": [
    {
     "name": "stdout",
     "output_type": "stream",
     "text": [
      "<class 'pandas.core.series.Series'>\n",
      "Index: 526240 entries, 0 to 1140091\n",
      "Series name: popularity\n",
      "Non-Null Count   Dtype  \n",
      "--------------   -----  \n",
      "526240 non-null  float64\n",
      "dtypes: float64(1)\n",
      "memory usage: 8.0 MB\n"
     ]
    }
   ],
   "execution_count": 62
  },
  {
   "metadata": {
    "ExecuteTime": {
     "end_time": "2024-12-07T02:40:58.138236Z",
     "start_time": "2024-12-07T02:40:57.945810Z"
    }
   },
   "cell_type": "code",
   "source": "data.popularity.plot()",
   "outputs": [
    {
     "data": {
      "text/plain": [
       "<Axes: >"
      ]
     },
     "execution_count": 63,
     "metadata": {},
     "output_type": "execute_result"
    },
    {
     "data": {
      "text/plain": [
       "<Figure size 640x480 with 1 Axes>"
      ],
      "image/png": "[encoded data removed]"
     },
     "metadata": {},
     "output_type": "display_data"
    }
   ],
   "execution_count": 63
  },
  {
   "metadata": {},
   "cell_type": "markdown",
   "source": "## `tagline`"
  },
  {
   "metadata": {
    "ExecuteTime": {
     "end_time": "2024-12-07T02:40:58.304762Z",
     "start_time": "2024-12-07T02:40:58.215934Z"
    }
   },
   "cell_type": "code",
   "source": "data.tagline.describe()",
   "outputs": [
    {
     "data": {
      "text/plain": [
       "count                     94968\n",
       "unique                    93541\n",
       "top       Based on a true story\n",
       "freq                         24\n",
       "Name: tagline, dtype: object"
      ]
     },
     "execution_count": 64,
     "metadata": {},
     "output_type": "execute_result"
    }
   ],
   "execution_count": 64
  },
  {
   "metadata": {
    "ExecuteTime": {
     "end_time": "2024-12-07T02:40:58.351085Z",
     "start_time": "2024-12-07T02:40:58.335976Z"
    }
   },
   "cell_type": "code",
   "source": "data.tagline.sample(5)",
   "outputs": [
    {
     "data": {
      "text/plain": [
       "167409                           NaN\n",
       "323971    From the ashes, evil rises\n",
       "248688                           NaN\n",
       "453865                           NaN\n",
       "839341                           NaN\n",
       "Name: tagline, dtype: object"
      ]
     },
     "execution_count": 65,
     "metadata": {},
     "output_type": "execute_result"
    }
   ],
   "execution_count": 65
  },
  {
   "metadata": {
    "ExecuteTime": {
     "end_time": "2024-12-07T02:40:58.442077Z",
     "start_time": "2024-12-07T02:40:58.407803Z"
    }
   },
   "cell_type": "code",
   "source": "data.tagline.info()",
   "outputs": [
    {
     "name": "stdout",
     "output_type": "stream",
     "text": [
      "<class 'pandas.core.series.Series'>\n",
      "Index: 526240 entries, 0 to 1140091\n",
      "Series name: tagline\n",
      "Non-Null Count  Dtype \n",
      "--------------  ----- \n",
      "94968 non-null  object\n",
      "dtypes: object(1)\n",
      "memory usage: 8.0+ MB\n"
     ]
    }
   ],
   "execution_count": 66
  },
  {
   "metadata": {},
   "cell_type": "markdown",
   "source": "## `genres`"
  },
  {
   "metadata": {
    "ExecuteTime": {
     "end_time": "2024-12-07T02:40:58.600566Z",
     "start_time": "2024-12-07T02:40:58.543250Z"
    }
   },
   "cell_type": "code",
   "source": "data.genres.describe()",
   "outputs": [
    {
     "data": {
      "text/plain": [
       "count     429692\n",
       "unique     10916\n",
       "top        Drama\n",
       "freq       74730\n",
       "Name: genres, dtype: object"
      ]
     },
     "execution_count": 67,
     "metadata": {},
     "output_type": "execute_result"
    }
   ],
   "execution_count": 67
  },
  {
   "metadata": {},
   "cell_type": "markdown",
   "source": "The genres in the `genre` column are all in one string. They need to be split up to be own their own."
  },
  {
   "metadata": {
    "ExecuteTime": {
     "end_time": "2024-12-07T02:40:59.319339Z",
     "start_time": "2024-12-07T02:40:58.671008Z"
    }
   },
   "cell_type": "code",
   "source": "data.genres = data.genres.apply(lambda genres: [genre.strip() for genre in genres.split(',')] if isinstance(genres, str) else genres)",
   "outputs": [],
   "execution_count": 68
  },
  {
   "metadata": {},
   "cell_type": "markdown",
   "source": "Now the genres are lists."
  },
  {
   "metadata": {
    "ExecuteTime": {
     "end_time": "2024-12-07T02:41:11.194630Z",
     "start_time": "2024-12-07T02:40:59.346829Z"
    }
   },
   "cell_type": "code",
   "source": "data.genres.describe()",
   "outputs": [
    {
     "data": {
      "text/plain": [
       "count      429692\n",
       "unique      10916\n",
       "top       [Drama]\n",
       "freq        74730\n",
       "Name: genres, dtype: object"
      ]
     },
     "execution_count": 69,
     "metadata": {},
     "output_type": "execute_result"
    }
   ],
   "execution_count": 69
  },
  {
   "metadata": {
    "ExecuteTime": {
     "end_time": "2024-12-07T02:41:11.264379Z",
     "start_time": "2024-12-07T02:41:11.219109Z"
    }
   },
   "cell_type": "code",
   "source": "data.genres.info()",
   "outputs": [
    {
     "name": "stdout",
     "output_type": "stream",
     "text": [
      "<class 'pandas.core.series.Series'>\n",
      "Index: 526240 entries, 0 to 1140091\n",
      "Series name: genres\n",
      "Non-Null Count   Dtype \n",
      "--------------   ----- \n",
      "429692 non-null  object\n",
      "dtypes: object(1)\n",
      "memory usage: 8.0+ MB\n"
     ]
    }
   ],
   "execution_count": 70
  },
  {
   "metadata": {
    "ExecuteTime": {
     "end_time": "2024-12-07T02:41:11.386660Z",
     "start_time": "2024-12-07T02:41:11.300148Z"
    }
   },
   "cell_type": "code",
   "source": [
    "genre_list = data.genres.explode()\n",
    "genre_list.unique()"
   ],
   "outputs": [
    {
     "data": {
      "text/plain": [
       "array(['Action', 'Science Fiction', 'Adventure', 'Drama', 'Crime',\n",
       "       'Thriller', 'Fantasy', 'Comedy', 'Romance', 'Western', 'Mystery',\n",
       "       'War', 'Animation', 'Family', 'Horror', 'Music', 'History',\n",
       "       'TV Movie', 'Documentary', nan], dtype=object)"
      ]
     },
     "execution_count": 71,
     "metadata": {},
     "output_type": "execute_result"
    }
   ],
   "execution_count": 71
  },
  {
   "metadata": {
    "ExecuteTime": {
     "end_time": "2024-12-07T02:41:11.558419Z",
     "start_time": "2024-12-07T02:41:11.411375Z"
    }
   },
   "cell_type": "code",
   "source": "genre_list.value_counts().plot.pie()",
   "outputs": [
    {
     "data": {
      "text/plain": [
       "<Axes: ylabel='count'>"
      ]
     },
     "execution_count": 72,
     "metadata": {},
     "output_type": "execute_result"
    },
    {
     "data": {
      "text/plain": [
       "<Figure size 640x480 with 1 Axes>"
      ],
      "image/png": "[encoded data removed]"
     },
     "metadata": {},
     "output_type": "display_data"
    }
   ],
   "execution_count": 72
  },
  {
   "metadata": {},
   "cell_type": "markdown",
   "source": "## `production_companies`"
  },
  {
   "metadata": {
    "ExecuteTime": {
     "end_time": "2024-12-07T02:41:11.727790Z",
     "start_time": "2024-12-07T02:41:11.563154Z"
    }
   },
   "cell_type": "code",
   "source": "data.production_companies.describe()",
   "outputs": [
    {
     "data": {
      "text/plain": [
       "count                  303692\n",
       "unique                 151054\n",
       "top       Metro-Goldwyn-Mayer\n",
       "freq                     2025\n",
       "Name: production_companies, dtype: object"
      ]
     },
     "execution_count": 73,
     "metadata": {},
     "output_type": "execute_result"
    }
   ],
   "execution_count": 73
  },
  {
   "metadata": {
    "ExecuteTime": {
     "end_time": "2024-12-07T02:41:11.798150Z",
     "start_time": "2024-12-07T02:41:11.778962Z"
    }
   },
   "cell_type": "code",
   "source": "data.production_companies.sample(5)",
   "outputs": [
    {
     "data": {
      "text/plain": [
       "175603           Magic Hour Pictures\n",
       "507636                           NaN\n",
       "60907             RKO Radio Pictures\n",
       "327177    Total Nonstop Action (TNA)\n",
       "35919                            BKM\n",
       "Name: production_companies, dtype: object"
      ]
     },
     "execution_count": 74,
     "metadata": {},
     "output_type": "execute_result"
    }
   ],
   "execution_count": 74
  },
  {
   "metadata": {},
   "cell_type": "markdown",
   "source": "The production companies in the `production_companies` column are all in one string. They need to be split up to be own their own."
  },
  {
   "metadata": {
    "ExecuteTime": {
     "end_time": "2024-12-07T02:41:12.375831Z",
     "start_time": "2024-12-07T02:41:11.855033Z"
    }
   },
   "cell_type": "code",
   "source": "data.production_companies = data.production_companies.apply(lambda companies_list: [company.strip() for company in companies_list.split(',')] if isinstance(companies_list, str) else companies_list)\n",
   "outputs": [],
   "execution_count": 75
  },
  {
   "metadata": {},
   "cell_type": "markdown",
   "source": "Now the companies are in lists."
  },
  {
   "metadata": {
    "ExecuteTime": {
     "end_time": "2024-12-07T02:41:12.453537Z",
     "start_time": "2024-12-07T02:41:12.409916Z"
    }
   },
   "cell_type": "code",
   "source": "data.production_companies.info()",
   "outputs": [
    {
     "name": "stdout",
     "output_type": "stream",
     "text": [
      "<class 'pandas.core.series.Series'>\n",
      "Index: 526240 entries, 0 to 1140091\n",
      "Series name: production_companies\n",
      "Non-Null Count   Dtype \n",
      "--------------   ----- \n",
      "303692 non-null  object\n",
      "dtypes: object(1)\n",
      "memory usage: 8.0+ MB\n"
     ]
    }
   ],
   "execution_count": 76
  },
  {
   "metadata": {
    "ExecuteTime": {
     "end_time": "2024-12-07T02:41:12.648442Z",
     "start_time": "2024-12-07T02:41:12.506571Z"
    }
   },
   "cell_type": "code",
   "source": [
    "companies = data.production_companies.explode()\n",
    "companies.unique()"
   ],
   "outputs": [
    {
     "data": {
      "text/plain": [
       "array(['Legendary Pictures', 'Syncopy', 'Warner Bros. Pictures', ...,\n",
       "       'Encounter Studios', 'Sky Blue Productions',\n",
       "       \"Les Vues de l'Esprit\"], dtype=object)"
      ]
     },
     "execution_count": 77,
     "metadata": {},
     "output_type": "execute_result"
    }
   ],
   "execution_count": 77
  },
  {
   "metadata": {
    "ExecuteTime": {
     "end_time": "2024-12-07T02:41:12.736706Z",
     "start_time": "2024-12-07T02:41:12.656159Z"
    }
   },
   "cell_type": "code",
   "source": "len(companies.unique())",
   "outputs": [
    {
     "data": {
      "text/plain": [
       "120137"
      ]
     },
     "execution_count": 78,
     "metadata": {},
     "output_type": "execute_result"
    }
   ],
   "execution_count": 78
  },
  {
   "metadata": {},
   "cell_type": "markdown",
   "source": "## `production_countries`"
  },
  {
   "metadata": {
    "ExecuteTime": {
     "end_time": "2024-12-07T02:41:12.809019Z",
     "start_time": "2024-12-07T02:41:12.758359Z"
    }
   },
   "cell_type": "code",
   "source": "data.production_countries.describe()",
   "outputs": [
    {
     "data": {
      "text/plain": [
       "count                       386676\n",
       "unique                        8753\n",
       "top       United States of America\n",
       "freq                        107559\n",
       "Name: production_countries, dtype: object"
      ]
     },
     "execution_count": 79,
     "metadata": {},
     "output_type": "execute_result"
    }
   ],
   "execution_count": 79
  },
  {
   "metadata": {
    "ExecuteTime": {
     "end_time": "2024-12-07T02:41:12.873628Z",
     "start_time": "2024-12-07T02:41:12.855981Z"
    }
   },
   "cell_type": "code",
   "source": "data.production_countries.sample(5)",
   "outputs": [
    {
     "data": {
      "text/plain": [
       "197907                         NaN\n",
       "98139               United Kingdom\n",
       "822332    United States of America\n",
       "122444    United States of America\n",
       "158079                   Hong Kong\n",
       "Name: production_countries, dtype: object"
      ]
     },
     "execution_count": 80,
     "metadata": {},
     "output_type": "execute_result"
    }
   ],
   "execution_count": 80
  },
  {
   "metadata": {},
   "cell_type": "markdown",
   "source": "The countries in the `production_countries` column are all in one string. They need to be split up on their own."
  },
  {
   "metadata": {
    "ExecuteTime": {
     "end_time": "2024-12-07T02:41:13.322632Z",
     "start_time": "2024-12-07T02:41:12.963423Z"
    }
   },
   "cell_type": "code",
   "source": "data.production_countries = data.production_countries.apply(lambda countries_list: [country.strip() for country in countries_list.split(',')] if isinstance(countries_list, str) else countries_list)",
   "outputs": [],
   "execution_count": 81
  },
  {
   "metadata": {},
   "cell_type": "markdown",
   "source": "Now the countries are in lists."
  },
  {
   "metadata": {
    "ExecuteTime": {
     "end_time": "2024-12-07T02:41:13.390798Z",
     "start_time": "2024-12-07T02:41:13.350922Z"
    }
   },
   "cell_type": "code",
   "source": "data.production_countries.info()",
   "outputs": [
    {
     "name": "stdout",
     "output_type": "stream",
     "text": [
      "<class 'pandas.core.series.Series'>\n",
      "Index: 526240 entries, 0 to 1140091\n",
      "Series name: production_countries\n",
      "Non-Null Count   Dtype \n",
      "--------------   ----- \n",
      "386676 non-null  object\n",
      "dtypes: object(1)\n",
      "memory usage: 8.0+ MB\n"
     ]
    }
   ],
   "execution_count": 82
  },
  {
   "metadata": {
    "ExecuteTime": {
     "end_time": "2024-12-07T02:41:13.490968Z",
     "start_time": "2024-12-07T02:41:13.420980Z"
    }
   },
   "cell_type": "code",
   "source": [
    "countries = data.production_countries.explode()\n",
    "countries.unique()"
   ],
   "outputs": [
    {
     "data": {
      "text/plain": [
       "array(['United Kingdom', 'United States of America', 'Canada',\n",
       "       'New Zealand', 'Australia', 'South Africa', 'France', 'Germany',\n",
       "       'Hong Kong', 'Taiwan', 'India', 'South Korea', 'Netherlands',\n",
       "       'Japan', 'China', 'Malta', 'Bulgaria', 'Hungary', 'Mexico',\n",
       "       'Spain', 'Italy', 'Brazil', 'Czech Republic',\n",
       "       'United Arab Emirates', 'Switzerland', 'Belgium', 'Ireland',\n",
       "       'Poland', 'Denmark', 'Russia', 'Norway', 'Sweden', 'Slovenia',\n",
       "       'Romania', 'Greece', nan, 'Colombia', 'Iceland', 'Turkey',\n",
       "       'Philippines', 'Luxembourg', 'Austria', 'Morocco', 'Finland',\n",
       "       'Israel', 'Portugal', 'Indonesia', 'Thailand', 'Argentina',\n",
       "       'Chile', 'Serbia', 'Solomon Islands', 'Dominican Republic',\n",
       "       'Guadaloupe', 'Peru', 'Soviet Union', 'Slovakia', 'Puerto Rico',\n",
       "       'Uruguay', 'Paraguay', 'Ghana', 'Iran', 'Cyprus', 'Lebanon',\n",
       "       'Qatar', 'Malawi', 'Singapore', 'Malaysia', 'Botswana',\n",
       "       'Venezuela', 'Czechoslovakia', 'Iraq', 'Yugoslavia', 'Macao',\n",
       "       'Algeria', 'Lithuania', 'Cambodia', 'Jordan', 'Vietnam',\n",
       "       'Kazakhstan', 'Egypt', 'Ethiopia', 'Namibia', 'Saudi Arabia',\n",
       "       'Ukraine', 'Ecuador', 'Kenya', 'Estonia', 'Georgia', 'Croatia',\n",
       "       'Bosnia and Herzegovina', 'Montenegro', 'Liechtenstein',\n",
       "       'Faeroe Islands', 'Panama', 'Belarus', 'Myanmar', 'Bahamas',\n",
       "       'Kuwait', 'Libyan Arab Jamahiriya', 'Bolivia', 'Aruba',\n",
       "       'Guatemala', 'Albania', 'Cuba', 'Monaco', 'East Germany',\n",
       "       'Tunisia', 'Nigeria', 'Jamaica', 'Macedonia',\n",
       "       'Syrian Arab Republic', 'Palestinian Territory', 'Senegal',\n",
       "       'Congo', 'Angola', 'Netherlands Antilles', 'Zimbabwe',\n",
       "       'Serbia and Montenegro', 'Rwanda', 'Bhutan', 'Cameroon', 'Latvia',\n",
       "       'Uganda', 'Mauritius', \"Cote D'Ivoire\", 'Burkina Faso', 'Zambia',\n",
       "       'Afghanistan', 'Mongolia', 'French Polynesia', 'Vanuatu',\n",
       "       'Cayman Islands', 'New Caledonia', 'Tanzania', 'Pakistan', 'Nepal',\n",
       "       'Sri Lanka', 'Azerbaijan', 'Nicaragua', 'Honduras', 'Costa Rica',\n",
       "       'Mali', 'Liberia', 'Armenia', \"Lao People's Democratic Republic\",\n",
       "       'St. Pierre and Miquelon', 'Mozambique', 'Haiti', 'North Korea',\n",
       "       'Uzbekistan', 'Bangladesh', 'Northern Ireland', 'El Salvador',\n",
       "       'Kosovo', 'Antarctica', 'Guinea', 'Timor-Leste', 'Barbados',\n",
       "       'Sudan', 'Tajikistan', 'Greenland', 'Swaziland',\n",
       "       'Turks and Caicos Islands', 'Chad', 'Martinique', 'Lesotho',\n",
       "       'Yemen', 'Andorra', 'Moldova', 'Mauritania', 'Palau', 'Madagascar',\n",
       "       'Belize', 'St. Kitts and Nevis', 'South Sudan', 'Oman', 'Djibouti',\n",
       "       'Somalia', 'Trinidad and Tobago', 'Niger', 'Holy See', 'Fiji',\n",
       "       'British Indian Ocean Territory', 'Kyrgyz Republic', 'Samoa',\n",
       "       'Benin', 'Kiribati', 'Suriname', 'Zaire', 'Anguilla',\n",
       "       'Central African Republic', 'Gibraltar', 'Papua New Guinea',\n",
       "       'Cape Verde', 'Equatorial Guinea', 'Togo', 'Antigua and Barbuda',\n",
       "       'Christmas Island', 'Bermuda', 'Gabon', 'Guinea-Bissau', 'Bahrain',\n",
       "       'Turkmenistan', 'Tuvalu', 'Brunei Darussalam',\n",
       "       'Svalbard & Jan Mayen Islands', 'Guyana', 'Falkland Islands',\n",
       "       'San Marino', 'Eritrea', 'Gambia', 'Sierra Leone',\n",
       "       'United States Minor Outlying Islands', 'St. Helena',\n",
       "       'French Guiana', 'Burundi', 'St. Lucia', 'Cook Islands',\n",
       "       'Western Sahara', 'Dominica', 'Grenada', 'Marshall Islands',\n",
       "       'Nauru', 'Tonga', 'Reunion', 'Comoros', 'American Samoa',\n",
       "       'Cocos  Islands', 'Seychelles', 'Norfolk Island', 'Maldives',\n",
       "       'Micronesia', 'British Virgin Islands', 'Guam',\n",
       "       'US Virgin Islands', 'Mayotte', 'Sao Tome and Principe',\n",
       "       'Northern Mariana Islands', 'East Timor', 'Pitcairn Island',\n",
       "       'Niue', 'St. Vincent and the Grenadines', 'Montserrat',\n",
       "       'South Georgia and the South Sandwich Islands'], dtype=object)"
      ]
     },
     "execution_count": 83,
     "metadata": {},
     "output_type": "execute_result"
    }
   ],
   "execution_count": 83
  },
  {
   "metadata": {
    "ExecuteTime": {
     "end_time": "2024-12-07T02:41:13.547801Z",
     "start_time": "2024-12-07T02:41:13.542419Z"
    }
   },
   "cell_type": "code",
   "source": "countries",
   "outputs": [
    {
     "data": {
      "text/plain": [
       "0                    United Kingdom\n",
       "0          United States of America\n",
       "1                    United Kingdom\n",
       "1          United States of America\n",
       "2                    United Kingdom\n",
       "                     ...           \n",
       "1140084                     Germany\n",
       "1140085                      Canada\n",
       "1140089                         NaN\n",
       "1140090                         NaN\n",
       "1140091                         NaN\n",
       "Name: production_countries, Length: 577387, dtype: object"
      ]
     },
     "execution_count": 84,
     "metadata": {},
     "output_type": "execute_result"
    }
   ],
   "execution_count": 84
  },
  {
   "metadata": {
    "ExecuteTime": {
     "end_time": "2024-12-07T02:41:14.582378Z",
     "start_time": "2024-12-07T02:41:13.579741Z"
    }
   },
   "cell_type": "code",
   "source": "countries.value_counts().plot.pie()",
   "outputs": [
    {
     "data": {
      "text/plain": [
       "<Axes: ylabel='count'>"
      ]
     },
     "execution_count": 85,
     "metadata": {},
     "output_type": "execute_result"
    },
    {
     "data": {
      "text/plain": [
       "<Figure size 640x480 with 1 Axes>"
      ],
      "image/png": "[encoded data removed]"
     },
     "metadata": {},
     "output_type": "display_data"
    }
   ],
   "execution_count": 85
  },
  {
   "metadata": {},
   "cell_type": "markdown",
   "source": "## `spoken_languages`"
  },
  {
   "metadata": {
    "ExecuteTime": {
     "end_time": "2024-12-07T02:41:14.657388Z",
     "start_time": "2024-12-07T02:41:14.609582Z"
    }
   },
   "cell_type": "code",
   "source": "data.spoken_languages.describe()",
   "outputs": [
    {
     "data": {
      "text/plain": [
       "count      387952\n",
       "unique       6207\n",
       "top       English\n",
       "freq       137338\n",
       "Name: spoken_languages, dtype: object"
      ]
     },
     "execution_count": 86,
     "metadata": {},
     "output_type": "execute_result"
    }
   ],
   "execution_count": 86
  },
  {
   "metadata": {
    "ExecuteTime": {
     "end_time": "2024-12-07T02:41:14.710121Z",
     "start_time": "2024-12-07T02:41:14.695719Z"
    }
   },
   "cell_type": "code",
   "source": "data.spoken_languages.sample(5)",
   "outputs": [
    {
     "data": {
      "text/plain": [
       "319794        Spanish\n",
       "655878    No Language\n",
       "273109        English\n",
       "111469            NaN\n",
       "337179         French\n",
       "Name: spoken_languages, dtype: object"
      ]
     },
     "execution_count": 87,
     "metadata": {},
     "output_type": "execute_result"
    }
   ],
   "execution_count": 87
  },
  {
   "metadata": {},
   "cell_type": "markdown",
   "source": "The languages in the `spoken_languages` column are in strings. They need to be split up."
  },
  {
   "metadata": {
    "ExecuteTime": {
     "end_time": "2024-12-07T02:41:15.192902Z",
     "start_time": "2024-12-07T02:41:14.782092Z"
    }
   },
   "cell_type": "code",
   "source": "data.spoken_languages = data.spoken_languages.apply(lambda languages_list: [language.strip() for language in languages_list.split(',')] if isinstance(languages_list, str) else languages_list)",
   "outputs": [],
   "execution_count": 88
  },
  {
   "metadata": {
    "ExecuteTime": {
     "end_time": "2024-12-07T02:41:15.269631Z",
     "start_time": "2024-12-07T02:41:15.226078Z"
    }
   },
   "cell_type": "code",
   "source": "data.spoken_languages.info()",
   "outputs": [
    {
     "name": "stdout",
     "output_type": "stream",
     "text": [
      "<class 'pandas.core.series.Series'>\n",
      "Index: 526240 entries, 0 to 1140091\n",
      "Series name: spoken_languages\n",
      "Non-Null Count   Dtype \n",
      "--------------   ----- \n",
      "387952 non-null  object\n",
      "dtypes: object(1)\n",
      "memory usage: 8.0+ MB\n"
     ]
    }
   ],
   "execution_count": 89
  },
  {
   "metadata": {
    "ExecuteTime": {
     "end_time": "2024-12-07T02:41:15.406804Z",
     "start_time": "2024-12-07T02:41:15.337556Z"
    }
   },
   "cell_type": "code",
   "source": [
    "languages = data.spoken_languages.explode()\n",
    "languages.unique()"
   ],
   "outputs": [
    {
     "data": {
      "text/plain": [
       "array(['English', 'French', 'Japanese', 'Swahili', 'Mandarin', 'Spanish',\n",
       "       'Hindi', 'Russian', 'Xhosa', 'Persian', 'Urdu', 'Arabic', 'German',\n",
       "       'Swedish', 'Italian', 'Romanian', 'Korean', 'Norwegian', 'Latin',\n",
       "       'Tagalog', 'Hungarian', 'Cantonese', 'Turkish', 'Greek', 'Malay',\n",
       "       'Czech', 'Polish', 'Hebrew', 'Dutch', 'Vietnamese', 'Yiddish',\n",
       "       'Tamil', 'Finnish', 'Somali', 'Nepali', 'Tibetan', 'Portuguese',\n",
       "       'Gaelic', 'Albanian', 'Thai', 'Indonesian', 'Danish', 'Irish',\n",
       "       'Estonian', 'Afrikaans', 'Chichewa; Nyanja', 'Sotho', 'Zulu',\n",
       "       'Sinhalese', 'Khmer', 'Bulgarian', 'Icelandic', 'Samoan',\n",
       "       'Bengali', 'Esperanto', 'Haitian; Haitian Creole', 'Ukrainian',\n",
       "       'Breton', 'Croatian', 'Inuktitut', 'Armenian', 'Sanskrit',\n",
       "       'Georgian', 'Pushto', 'Burmese', 'Northern Sami', 'Slovak',\n",
       "       'Quechua', 'Navajo', 'No Language', 'Serbian', 'Serbo-Croatian',\n",
       "       'Welsh', 'Moldavian', nan, 'Cornish', 'Lithuanian', 'Fulah',\n",
       "       'Punjabi', 'Catalan', 'Akan', 'Maltese', 'Amharic', 'Ido', 'Cree',\n",
       "       'Corsican', 'Bambara', 'Marathi', 'Maori', 'Galician', 'Guarani',\n",
       "       'Belarusian', 'Basque', 'Telugu', 'Lingala', 'Tswana', 'Wolof',\n",
       "       'Bosnian', 'Mongolian', 'Tatar', 'Lao', 'Slovenian', 'Aragonese',\n",
       "       'Gujarati', 'Chechen', 'Latvian', 'Malayalam', 'Macedonian',\n",
       "       'Tahitian', 'Azerbaijani', 'Avaric', 'Uzbek', 'Kazakh', 'Occitan',\n",
       "       'Chuvash', 'Igbo', 'Kurdish', 'Hausa', 'Afar', 'Kannada',\n",
       "       'Javanese', 'Raeto-Romance', 'Kashmiri', 'Dzongkha', 'Ewe',\n",
       "       'Ganda', 'Sardinian', 'Letzeburgesch', 'Inupiaq', 'Bislama',\n",
       "       'Bashkir', 'Kinyarwanda', 'Abkhazian', 'Tonga', 'Aymara', 'Sango',\n",
       "       'Yoruba', 'Uighur', 'Assamese', 'Kirghiz', 'Pali', 'Frisian',\n",
       "       'Kongo', 'Tajik', 'Yi', 'Kalaallisut', 'Kikuyu',\n",
       "       'Ossetian; Ossetic', 'Norwegian Bokmål', 'Walloon', 'Malagasy',\n",
       "       'Rundi', 'Sundanese', 'Twi', 'Marshall', 'Shona', 'Limburgish',\n",
       "       'Faroese', 'Sindhi', 'Herero', 'Tigrinya', 'Nauru', 'Hiri Motu',\n",
       "       'Ndebele', 'Ojibwa', 'Turkmen', 'Norwegian Nynorsk', 'Oriya',\n",
       "       'Fijian', 'Slavic', 'Oromo', 'Venda', 'Interlingue', 'Divehi',\n",
       "       'Volapük', 'Interlingua', 'Tsonga', 'Swati', 'Chamorro', 'Ndonga'],\n",
       "      dtype=object)"
      ]
     },
     "execution_count": 90,
     "metadata": {},
     "output_type": "execute_result"
    }
   ],
   "execution_count": 90
  },
  {
   "metadata": {
    "ExecuteTime": {
     "end_time": "2024-12-07T02:41:16.061431Z",
     "start_time": "2024-12-07T02:41:15.471028Z"
    }
   },
   "cell_type": "code",
   "source": "languages.value_counts().plot.pie()",
   "outputs": [
    {
     "data": {
      "text/plain": [
       "<Axes: ylabel='count'>"
      ]
     },
     "execution_count": 91,
     "metadata": {},
     "output_type": "execute_result"
    },
    {
     "data": {
      "text/plain": [
       "<Figure size 640x480 with 1 Axes>"
      ],
      "image/png": "[encoded data removed]"
     },
     "metadata": {},
     "output_type": "display_data"
    }
   ],
   "execution_count": 91
  },
  {
   "metadata": {},
   "cell_type": "markdown",
   "source": "## `keywords`\n"
  },
  {
   "metadata": {
    "ExecuteTime": {
     "end_time": "2024-12-07T02:41:16.197477Z",
     "start_time": "2024-12-07T02:41:16.067634Z"
    }
   },
   "cell_type": "code",
   "source": "data.keywords.describe()",
   "outputs": [
    {
     "data": {
      "text/plain": [
       "count             187192\n",
       "unique            121866\n",
       "top       woman director\n",
       "freq                7301\n",
       "Name: keywords, dtype: object"
      ]
     },
     "execution_count": 92,
     "metadata": {},
     "output_type": "execute_result"
    }
   ],
   "execution_count": 92
  },
  {
   "metadata": {
    "ExecuteTime": {
     "end_time": "2024-12-07T02:41:16.260985Z",
     "start_time": "2024-12-07T02:41:16.244905Z"
    }
   },
   "cell_type": "code",
   "source": "data.keywords.sample(5)",
   "outputs": [
    {
     "data": {
      "text/plain": [
       "717117    slasher, kill count, horror comedy, edmonton, ...\n",
       "790162                                    prison, parenting\n",
       "874242                                cave, treasure hunter\n",
       "782930                                                  NaN\n",
       "112245                                                  NaN\n",
       "Name: keywords, dtype: object"
      ]
     },
     "execution_count": 93,
     "metadata": {},
     "output_type": "execute_result"
    }
   ],
   "execution_count": 93
  },
  {
   "metadata": {},
   "cell_type": "markdown",
   "source": "The keywords in the `keywords` column are all in one string. They need to be split up."
  },
  {
   "metadata": {
    "ExecuteTime": {
     "end_time": "2024-12-07T02:41:16.558143Z",
     "start_time": "2024-12-07T02:41:16.338290Z"
    }
   },
   "cell_type": "code",
   "source": "data.keywords = data.keywords.apply(lambda keywords_list: [keyword.strip() for keyword in keywords_list.split(',')] if isinstance(keywords_list, str) else keywords_list)",
   "outputs": [],
   "execution_count": 94
  },
  {
   "metadata": {
    "ExecuteTime": {
     "end_time": "2024-12-07T02:41:16.644872Z",
     "start_time": "2024-12-07T02:41:16.585655Z"
    }
   },
   "cell_type": "code",
   "source": "data.keywords.info()",
   "outputs": [
    {
     "name": "stdout",
     "output_type": "stream",
     "text": [
      "<class 'pandas.core.series.Series'>\n",
      "Index: 526240 entries, 0 to 1140091\n",
      "Series name: keywords\n",
      "Non-Null Count   Dtype \n",
      "--------------   ----- \n",
      "187192 non-null  object\n",
      "dtypes: object(1)\n",
      "memory usage: 8.0+ MB\n"
     ]
    }
   ],
   "execution_count": 95
  },
  {
   "metadata": {
    "ExecuteTime": {
     "end_time": "2024-12-07T02:41:16.840280Z",
     "start_time": "2024-12-07T02:41:16.672415Z"
    }
   },
   "cell_type": "code",
   "source": [
    "keywords = data.keywords.explode()\n",
    "keywords.unique()"
   ],
   "outputs": [
    {
     "data": {
      "text/plain": [
       "array(['rescue', 'mission', 'dream', ..., 'bhajarangi', 'tapalin',\n",
       "       'ice breaker'], dtype=object)"
      ]
     },
     "execution_count": 96,
     "metadata": {},
     "output_type": "execute_result"
    }
   ],
   "execution_count": 96
  },
  {
   "metadata": {
    "ExecuteTime": {
     "end_time": "2024-12-07T02:41:17.088059Z",
     "start_time": "2024-12-07T02:41:16.958567Z"
    }
   },
   "cell_type": "code",
   "source": "keywords.value_counts()",
   "outputs": [
    {
     "data": {
      "text/plain": [
       "keywords\n",
       "short film                18295\n",
       "woman director            13881\n",
       "based on novel or book     5632\n",
       "murder                     4410\n",
       "lgbt                       3958\n",
       "                          ...  \n",
       "seri indians                  1\n",
       "bhajarangi                    1\n",
       "ske48                         1\n",
       "edgewood                      1\n",
       "قاسم الملاك                   1\n",
       "Name: count, Length: 41986, dtype: int64"
      ]
     },
     "execution_count": 97,
     "metadata": {},
     "output_type": "execute_result"
    }
   ],
   "execution_count": 97
  },
  {
   "metadata": {},
   "cell_type": "markdown",
   "source": "## Exporting"
  },
  {
   "metadata": {
    "ExecuteTime": {
     "end_time": "2024-12-07T02:41:17.336971Z",
     "start_time": "2024-12-07T02:41:17.144775Z"
    }
   },
   "cell_type": "code",
   "source": "data.describe()",
   "outputs": [
    {
     "data": {
      "text/plain": [
       "                 id   vote_average     vote_count  \\\n",
       "count  5.262400e+05  280489.000000  526240.000000   \n",
       "mean   5.278728e+05       5.812233      40.529502   \n",
       "min    2.000000e+00       0.500000       0.000000   \n",
       "25%    2.568688e+05       5.000000       0.000000   \n",
       "50%    4.770170e+05       6.000000       1.000000   \n",
       "75%    7.729982e+05       6.915000       4.000000   \n",
       "max    1.395476e+06      10.000000   34495.000000   \n",
       "std    3.493395e+05       1.774119     467.166819   \n",
       "\n",
       "                        release_date       revenue        runtime  \\\n",
       "count                         526240  5.262400e+05  442204.000000   \n",
       "mean   1993-04-14 02:34:33.584675968  1.356445e+06      70.050970   \n",
       "min              1865-01-01 00:00:00  0.000000e+00       1.000000   \n",
       "25%              1976-06-26 00:00:00  0.000000e+00      26.000000   \n",
       "50%              2005-05-20 00:00:00  0.000000e+00      81.000000   \n",
       "75%              2016-05-20 00:00:00  0.000000e+00      96.000000   \n",
       "max              2024-12-01 00:00:00  2.923706e+09   14400.000000   \n",
       "std                              NaN  2.359956e+07      59.819531   \n",
       "\n",
       "             budget     popularity  \n",
       "count  5.262400e+05  526240.000000  \n",
       "mean   5.229953e+05       1.935579  \n",
       "min    0.000000e+00       0.000000  \n",
       "25%    0.000000e+00       0.600000  \n",
       "50%    0.000000e+00       0.710000  \n",
       "75%    0.000000e+00       1.400000  \n",
       "max    8.880000e+08    2994.357000  \n",
       "std    6.431701e+06      10.313819  "
      ],
      "text/html": [
       "<div>\n",
       "<style scoped>\n",
       "    .dataframe tbody tr th:only-of-type {\n",
       "        vertical-align: middle;\n",
       "    }\n",
       "\n",
       "    .dataframe tbody tr th {\n",
       "        vertical-align: top;\n",
       "    }\n",
       "\n",
       "    .dataframe thead th {\n",
       "        text-align: right;\n",
       "    }\n",
       "</style>\n",
       "<table border=\"1\" class=\"dataframe\">\n",
       "  <thead>\n",
       "    <tr style=\"text-align: right;\">\n",
       "      <th></th>\n",
       "      <th>id</th>\n",
       "      <th>vote_average</th>\n",
       "      <th>vote_count</th>\n",
       "      <th>release_date</th>\n",
       "      <th>revenue</th>\n",
       "      <th>runtime</th>\n",
       "      <th>budget</th>\n",
       "      <th>popularity</th>\n",
       "    </tr>\n",
       "  </thead>\n",
       "  <tbody>\n",
       "    <tr>\n",
       "      <th>count</th>\n",
       "      <td>5.262400e+05</td>\n",
       "      <td>280489.000000</td>\n",
       "      <td>526240.000000</td>\n",
       "      <td>526240</td>\n",
       "      <td>5.262400e+05</td>\n",
       "      <td>442204.000000</td>\n",
       "      <td>5.262400e+05</td>\n",
       "      <td>526240.000000</td>\n",
       "    </tr>\n",
       "    <tr>\n",
       "      <th>mean</th>\n",
       "      <td>5.278728e+05</td>\n",
       "      <td>5.812233</td>\n",
       "      <td>40.529502</td>\n",
       "      <td>1993-04-14 02:34:33.584675968</td>\n",
       "      <td>1.356445e+06</td>\n",
       "      <td>70.050970</td>\n",
       "      <td>5.229953e+05</td>\n",
       "      <td>1.935579</td>\n",
       "    </tr>\n",
       "    <tr>\n",
       "      <th>min</th>\n",
       "      <td>2.000000e+00</td>\n",
       "      <td>0.500000</td>\n",
       "      <td>0.000000</td>\n",
       "      <td>1865-01-01 00:00:00</td>\n",
       "      <td>0.000000e+00</td>\n",
       "      <td>1.000000</td>\n",
       "      <td>0.000000e+00</td>\n",
       "      <td>0.000000</td>\n",
       "    </tr>\n",
       "    <tr>\n",
       "      <th>25%</th>\n",
       "      <td>2.568688e+05</td>\n",
       "      <td>5.000000</td>\n",
       "      <td>0.000000</td>\n",
       "      <td>1976-06-26 00:00:00</td>\n",
       "      <td>0.000000e+00</td>\n",
       "      <td>26.000000</td>\n",
       "      <td>0.000000e+00</td>\n",
       "      <td>0.600000</td>\n",
       "    </tr>\n",
       "    <tr>\n",
       "      <th>50%</th>\n",
       "      <td>4.770170e+05</td>\n",
       "      <td>6.000000</td>\n",
       "      <td>1.000000</td>\n",
       "      <td>2005-05-20 00:00:00</td>\n",
       "      <td>0.000000e+00</td>\n",
       "      <td>81.000000</td>\n",
       "      <td>0.000000e+00</td>\n",
       "      <td>0.710000</td>\n",
       "    </tr>\n",
       "    <tr>\n",
       "      <th>75%</th>\n",
       "      <td>7.729982e+05</td>\n",
       "      <td>6.915000</td>\n",
       "      <td>4.000000</td>\n",
       "      <td>2016-05-20 00:00:00</td>\n",
       "      <td>0.000000e+00</td>\n",
       "      <td>96.000000</td>\n",
       "      <td>0.000000e+00</td>\n",
       "      <td>1.400000</td>\n",
       "    </tr>\n",
       "    <tr>\n",
       "      <th>max</th>\n",
       "      <td>1.395476e+06</td>\n",
       "      <td>10.000000</td>\n",
       "      <td>34495.000000</td>\n",
       "      <td>2024-12-01 00:00:00</td>\n",
       "      <td>2.923706e+09</td>\n",
       "      <td>14400.000000</td>\n",
       "      <td>8.880000e+08</td>\n",
       "      <td>2994.357000</td>\n",
       "    </tr>\n",
       "    <tr>\n",
       "      <th>std</th>\n",
       "      <td>3.493395e+05</td>\n",
       "      <td>1.774119</td>\n",
       "      <td>467.166819</td>\n",
       "      <td>NaN</td>\n",
       "      <td>2.359956e+07</td>\n",
       "      <td>59.819531</td>\n",
       "      <td>6.431701e+06</td>\n",
       "      <td>10.313819</td>\n",
       "    </tr>\n",
       "  </tbody>\n",
       "</table>\n",
       "</div>"
      ]
     },
     "execution_count": 98,
     "metadata": {},
     "output_type": "execute_result"
    }
   ],
   "execution_count": 98
  },
  {
   "metadata": {
    "ExecuteTime": {
     "end_time": "2024-12-07T02:41:17.624261Z",
     "start_time": "2024-12-07T02:41:17.366620Z"
    }
   },
   "cell_type": "code",
   "source": "data.info()",
   "outputs": [
    {
     "name": "stdout",
     "output_type": "stream",
     "text": [
      "<class 'pandas.core.frame.DataFrame'>\n",
      "Index: 526240 entries, 0 to 1140091\n",
      "Data columns (total 20 columns):\n",
      " #   Column                Non-Null Count   Dtype         \n",
      "---  ------                --------------   -----         \n",
      " 0   id                    526240 non-null  int64         \n",
      " 1   title                 526240 non-null  object        \n",
      " 2   vote_average          280489 non-null  float64       \n",
      " 3   vote_count            526240 non-null  int64         \n",
      " 4   release_date          526240 non-null  datetime64[ns]\n",
      " 5   revenue               526240 non-null  int64         \n",
      " 6   runtime               442204 non-null  float64       \n",
      " 7   adult                 526240 non-null  bool          \n",
      " 8   budget                526240 non-null  int64         \n",
      " 9   imdb_id               526239 non-null  object        \n",
      " 10  original_language     526240 non-null  object        \n",
      " 11  original_title        526240 non-null  object        \n",
      " 12  overview              462154 non-null  object        \n",
      " 13  popularity            526240 non-null  float64       \n",
      " 14  tagline               94968 non-null   object        \n",
      " 15  genres                429692 non-null  object        \n",
      " 16  production_companies  303692 non-null  object        \n",
      " 17  production_countries  386676 non-null  object        \n",
      " 18  spoken_languages      387952 non-null  object        \n",
      " 19  keywords              187192 non-null  object        \n",
      "dtypes: bool(1), datetime64[ns](1), float64(3), int64(4), object(11)\n",
      "memory usage: 80.8+ MB\n"
     ]
    }
   ],
   "execution_count": 99
  },
  {
   "metadata": {
    "ExecuteTime": {
     "end_time": "2024-12-07T02:41:24.662860Z",
     "start_time": "2024-12-07T02:41:17.660196Z"
    }
   },
   "cell_type": "code",
   "source": "data.to_csv('../Datasets/clean.csv')",
   "outputs": [],
   "execution_count": 100
  }
 ],
 "metadata": {
  "colab": {
   "provenance": []
  },
  "kernelspec": {
   "display_name": "Python 3 (ipykernel)",
   "name": "python3",
   "language": "python"
  },
  "language_info": {
   "name": "python"
  }
 },
 "nbformat": 4,
 "nbformat_minor": 0
}
