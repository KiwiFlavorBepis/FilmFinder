{
  "nbformat": 4,
  "nbformat_minor": 0,
  "metadata": {
    "colab": {
      "provenance": []
    },
    "kernelspec": {
      "name": "python3",
      "display_name": "Python 3"
    },
    "language_info": {
      "name": "python"
    }
  },
  "cells": [
    {
      "cell_type": "code",
      "source": [
        "import pandas as pd\n",
        "import numpy as np\n",
        "import ast\n",
        "import tensorflow_hub as hub\n",
        "from sklearn.decomposition import PCA\n",
        "import matplotlib.pyplot as plt\n",
        "import torch\n",
        "import torch.nn as nn\n",
        "from sklearn.cluster import KMeans\n",
        "from scipy.spatial.distance import euclidean\n"
      ],
      "metadata": {
        "id": "R0YBtDjEueFd"
      },
      "execution_count": null,
      "outputs": []
    },
    {
      "cell_type": "code",
      "execution_count": null,
      "metadata": {
        "id": "OlVXbZd-w4pJ",
        "colab": {
          "base_uri": "https://localhost:8080/"
        },
        "outputId": "7aad4a00-458e-4a17-aecd-c042538d744d"
      },
      "outputs": [
        {
          "output_type": "stream",
          "name": "stdout",
          "text": [
            "Mounted at /content/drive\n"
          ]
        }
      ],
      "source": [
        "from google.colab import drive\n",
        "drive.mount('/content/drive')"
      ]
    },
    {
      "cell_type": "code",
      "source": [
        "file_location = \"/content/drive/MyDrive/395 Senior Project/Dataset/modern_feature_films.csv\""
      ],
      "metadata": {
        "id": "Lq5Sfs6DuQ0O"
      },
      "execution_count": null,
      "outputs": []
    },
    {
      "cell_type": "markdown",
      "source": [
        "Reducing the dataset to include modern films (any film released after 1/1/1900) and feature films (defined as any film longer than 40 minutes long)."
      ],
      "metadata": {
        "id": "jBrSgHCQqaNY"
      }
    },
    {
      "cell_type": "code",
      "source": [
        "modern_films = data[data['release_date'] > pd.to_datetime('1900-01-01')]"
      ],
      "metadata": {
        "id": "VENt_dTRmXAn"
      },
      "execution_count": null,
      "outputs": []
    },
    {
      "cell_type": "code",
      "source": [
        "modern_feature_films = modern_films[modern_films['runtime'] > 40]"
      ],
      "metadata": {
        "id": "2CtAbpremg_j"
      },
      "execution_count": null,
      "outputs": []
    },
    {
      "cell_type": "code",
      "source": [
        "modern_feature_films = modern_feature_films.dropna(subset=['imdb_id'])"
      ],
      "metadata": {
        "id": "TQkHgoesxPc9"
      },
      "execution_count": null,
      "outputs": []
    },
    {
      "cell_type": "code",
      "source": [
        "backup = pd.read_csv(file_location)"
      ],
      "metadata": {
        "id": "26bWRkrWuXRQ"
      },
      "execution_count": null,
      "outputs": []
    },
    {
      "cell_type": "code",
      "source": [
        "modern_feature_films = backup.copy()"
      ],
      "metadata": {
        "id": "CIB5qDf2u38R"
      },
      "execution_count": null,
      "outputs": []
    },
    {
      "cell_type": "code",
      "source": [
        "modern_feature_films.info()"
      ],
      "metadata": {
        "colab": {
          "base_uri": "https://localhost:8080/"
        },
        "id": "anGbFcA2omeL",
        "outputId": "cc50a6d1-f71a-4be6-8f6a-4b30d3e7686e"
      },
      "execution_count": null,
      "outputs": [
        {
          "output_type": "stream",
          "name": "stdout",
          "text": [
            "<class 'pandas.core.frame.DataFrame'>\n",
            "RangeIndex: 314210 entries, 0 to 314209\n",
            "Data columns (total 22 columns):\n",
            " #   Column                Non-Null Count   Dtype  \n",
            "---  ------                --------------   -----  \n",
            " 0   Unnamed: 0.1          314210 non-null  int64  \n",
            " 1   Unnamed: 0            314210 non-null  int64  \n",
            " 2   id                    314210 non-null  int64  \n",
            " 3   title                 314210 non-null  object \n",
            " 4   vote_average          206475 non-null  float64\n",
            " 5   vote_count            314210 non-null  int64  \n",
            " 6   release_date          314210 non-null  object \n",
            " 7   revenue               314210 non-null  int64  \n",
            " 8   runtime               314210 non-null  float64\n",
            " 9   adult                 314210 non-null  bool   \n",
            " 10  budget                314210 non-null  int64  \n",
            " 11  imdb_id               314210 non-null  object \n",
            " 12  original_language     314210 non-null  object \n",
            " 13  original_title        314210 non-null  object \n",
            " 14  overview              301607 non-null  object \n",
            " 15  popularity            314210 non-null  float64\n",
            " 16  tagline               80477 non-null   object \n",
            " 17  genres                278705 non-null  object \n",
            " 18  production_companies  209145 non-null  object \n",
            " 19  production_countries  251421 non-null  object \n",
            " 20  spoken_languages      264735 non-null  object \n",
            " 21  keywords              134904 non-null  object \n",
            "dtypes: bool(1), float64(3), int64(6), object(12)\n",
            "memory usage: 50.6+ MB\n"
          ]
        }
      ]
    },
    {
      "cell_type": "code",
      "source": [
        "df = pd.read_excel(\"/content/drive/MyDrive/395 Senior Project/Dataset/183_keywords.xlsx\")"
      ],
      "metadata": {
        "id": "q8qXxeDvnkuB"
      },
      "execution_count": null,
      "outputs": []
    },
    {
      "cell_type": "markdown",
      "source": [
        "### `genres`"
      ],
      "metadata": {
        "id": "CXeMYGcJ_1ZC"
      }
    },
    {
      "cell_type": "code",
      "source": [
        "working_df = df.copy()"
      ],
      "metadata": {
        "id": "528-PaEwAEwP"
      },
      "execution_count": null,
      "outputs": []
    },
    {
      "cell_type": "code",
      "source": [
        "working_df['genres'] = working_df['genres'].str.lower()\n",
        "\n",
        "# Split the genres by comma and strip any leading/trailing whitespace\n",
        "working_df['genres'] = working_df['genres'].apply(\n",
        "    lambda x: [genre.strip() for genre in x.split(',')]\n",
        "    if isinstance(x, str) else x)\n",
        "\n",
        "all_genres = working_df['genres'].explode()\n",
        "\n",
        "unique_genres = all_genres.unique().tolist()\n"
      ],
      "metadata": {
        "id": "EWoW0kiQAFql"
      },
      "execution_count": null,
      "outputs": []
    },
    {
      "cell_type": "code",
      "source": [
        "# Remove the nan\n",
        "unique_genres.pop(19)"
      ],
      "metadata": {
        "id": "lZ_DxgX6Arhh",
        "colab": {
          "base_uri": "https://localhost:8080/"
        },
        "outputId": "7145ab42-57b2-4277-dae7-f1aeff7dcd77"
      },
      "execution_count": null,
      "outputs": [
        {
          "output_type": "execute_result",
          "data": {
            "text/plain": [
              "nan"
            ]
          },
          "metadata": {},
          "execution_count": 6
        }
      ]
    },
    {
      "cell_type": "code",
      "source": [
        "unique_genres"
      ],
      "metadata": {
        "id": "a4MX1i23Azn8",
        "colab": {
          "base_uri": "https://localhost:8080/"
        },
        "outputId": "881eb087-4773-4b33-9df2-11286940efa9"
      },
      "execution_count": null,
      "outputs": [
        {
          "output_type": "execute_result",
          "data": {
            "text/plain": [
              "['action',\n",
              " 'science fiction',\n",
              " 'adventure',\n",
              " 'drama',\n",
              " 'crime',\n",
              " 'thriller',\n",
              " 'fantasy',\n",
              " 'comedy',\n",
              " 'romance',\n",
              " 'western',\n",
              " 'mystery',\n",
              " 'war',\n",
              " 'animation',\n",
              " 'family',\n",
              " 'horror',\n",
              " 'music',\n",
              " 'history',\n",
              " 'tv movie',\n",
              " 'documentary']"
            ]
          },
          "metadata": {},
          "execution_count": 7
        }
      ]
    },
    {
      "cell_type": "markdown",
      "source": [
        "## NLP (actual)"
      ],
      "metadata": {
        "id": "KdoWbMWzbYI_"
      }
    },
    {
      "cell_type": "markdown",
      "source": [
        "### Mapping genres to coordinate values"
      ],
      "metadata": {
        "id": "LGiGgCFItRyk"
      }
    },
    {
      "cell_type": "code",
      "source": [
        "embed = hub.load(\"https://tfhub.dev/google/universal-sentence-encoder/4\")"
      ],
      "metadata": {
        "id": "qm1Vt3AsFwGg"
      },
      "execution_count": null,
      "outputs": []
    },
    {
      "cell_type": "code",
      "source": [
        "embeddings = embed(unique_genres)\n",
        "\n",
        "#reduce to 2 dimension\n",
        "pca = PCA(n_components=2)\n",
        "mappings = pca.fit_transform(embeddings)\n",
        "\n",
        "# Map genres to their corresponding 1D values\n",
        "vectorized_genres = {genre: value for genre, value in zip(unique_genres, mappings)}"
      ],
      "metadata": {
        "id": "R0yOUoHYFws2"
      },
      "execution_count": null,
      "outputs": []
    },
    {
      "cell_type": "code",
      "source": [
        "vectorized_genres"
      ],
      "metadata": {
        "id": "6D249a5vFxxO",
        "colab": {
          "base_uri": "https://localhost:8080/"
        },
        "outputId": "8a40352f-5ba5-42d2-e6a0-7d5a67e7b9d7",
        "collapsed": true
      },
      "execution_count": null,
      "outputs": [
        {
          "output_type": "execute_result",
          "data": {
            "text/plain": [
              "{'action': array([ 0.10503006, -0.22630377]),\n",
              " 'science fiction': array([-0.11281167, -0.01321406]),\n",
              " 'adventure': array([ 0.17067921, -0.36141261]),\n",
              " 'drama': array([-0.17215427, -0.07987447]),\n",
              " 'crime': array([ 0.10070013, -0.23088262]),\n",
              " 'thriller': array([-0.57886115,  0.18796826]),\n",
              " 'fantasy': array([ 0.01876107, -0.23833051]),\n",
              " 'comedy': array([-0.33968406, -0.05171436]),\n",
              " 'romance': array([-0.09730741, -0.2550092 ]),\n",
              " 'western': array([0.5336787 , 0.13133064]),\n",
              " 'mystery': array([-0.14818018, -0.16440032]),\n",
              " 'war': array([ 0.22405637, -0.21513898]),\n",
              " 'animation': array([0.19989002, 0.1948903 ]),\n",
              " 'family': array([0.33142904, 0.02066005]),\n",
              " 'horror': array([-0.44614309, -0.13423493]),\n",
              " 'music': array([0.01276481, 0.2763254 ]),\n",
              " 'history': array([0.17583651, 0.0293499 ]),\n",
              " 'tv movie': array([-0.08154874,  0.61285358]),\n",
              " 'documentary': array([0.10386463, 0.51713769])}"
            ]
          },
          "metadata": {},
          "execution_count": 10
        }
      ]
    },
    {
      "cell_type": "code",
      "source": [
        "converted_genres = {key: value.tolist() for key, value in vectorized_genres.items()}"
      ],
      "metadata": {
        "id": "HWx8msKv5XpX"
      },
      "execution_count": null,
      "outputs": []
    },
    {
      "cell_type": "code",
      "source": [
        "converted_genres"
      ],
      "metadata": {
        "colab": {
          "base_uri": "https://localhost:8080/"
        },
        "id": "1lTXl0zx59kL",
        "outputId": "e557b77b-af0b-4134-8f3b-2614203e1904"
      },
      "execution_count": null,
      "outputs": [
        {
          "output_type": "execute_result",
          "data": {
            "text/plain": [
              "{'action': [0.10503006352000731, -0.22630376616776185],\n",
              " 'science fiction': [-0.1128116689904679, -0.0132140575303782],\n",
              " 'adventure': [0.17067921370600247, -0.3614126103799646],\n",
              " 'drama': [-0.17215426774430792, -0.07987446932023397],\n",
              " 'crime': [0.10070013419584972, -0.23088261857051148],\n",
              " 'thriller': [-0.5788611540999842, 0.18796826055869575],\n",
              " 'fantasy': [0.018761070911079463, -0.23833051286038892],\n",
              " 'comedy': [-0.3396840601297845, -0.051714355216244436],\n",
              " 'romance': [-0.09730740600241963, -0.2550091968930574],\n",
              " 'western': [0.5336787021966296, 0.1313306400353549],\n",
              " 'mystery': [-0.14818018073985786, -0.16440032476480063],\n",
              " 'war': [0.22405637287143976, -0.21513898295049574],\n",
              " 'animation': [0.19989002120446991, 0.1948902967303665],\n",
              " 'family': [0.33142904270141993, 0.020660053148039502],\n",
              " 'horror': [-0.44614309379794825, -0.13423493259040176],\n",
              " 'music': [0.01276480761915299, 0.276325404453158],\n",
              " 'history': [0.17583651393774374, 0.02934990234115782],\n",
              " 'tv movie': [-0.08154873964181353, 0.6128535753496364],\n",
              " 'documentary': [0.103864628282789, 0.5171376946278301]}"
            ]
          },
          "metadata": {},
          "execution_count": 12
        }
      ]
    },
    {
      "cell_type": "code",
      "source": [
        "genres = list(converted_genres.keys())\n",
        "x_coords = [coords[0] for coords in converted_genres.values()]\n",
        "y_coords = [coords[1] for coords in converted_genres.values()]"
      ],
      "metadata": {
        "id": "hUJMkopebwbx"
      },
      "execution_count": null,
      "outputs": []
    },
    {
      "cell_type": "code",
      "source": [
        "import matplotlib.pyplot as plt\n",
        "\n",
        "plt.figure(figsize=(10, 8))\n",
        "plt.scatter(x_coords, y_coords, color='blue')\n",
        "\n",
        "for genre, x, y in zip(genres, x_coords, y_coords):\n",
        "    plt.text(x + 0.01, y + 0.01, genre, fontsize=9)\n",
        "\n",
        "plt.title('2D Plot of Genre Vectors')\n",
        "plt.xlabel('Dimension 1')\n",
        "plt.ylabel('Dimension 2')\n",
        "plt.axhline(0, color='grey', linewidth=0.8, linestyle='--')\n",
        "plt.axvline(0, color='grey', linewidth=0.8, linestyle='--')\n",
        "plt.grid(alpha=0.3)\n",
        "plt.show()"
      ],
      "metadata": {
        "id": "ONRvcuksF5AB",
        "colab": {
          "base_uri": "https://localhost:8080/",
          "height": 718
        },
        "outputId": "af3b1576-7eae-4ae1-cc97-1fb1cf2b5fd5"
      },
      "execution_count": null,
      "outputs": [
        {
          "output_type": "display_data",
          "data": {
            "text/plain": [
              "<Figure size 1000x800 with 1 Axes>"
            ],
            "image/png": "[encoded data removed]"
          },
          "metadata": {}
        }
      ]
    },
    {
      "cell_type": "markdown",
      "source": [
        "### Vectorizing each movie's list of genres"
      ],
      "metadata": {
        "id": "Ua1s67ChF63H"
      }
    },
    {
      "cell_type": "code",
      "source": [
        "vectorirzed_df = working_df.copy()"
      ],
      "metadata": {
        "id": "CztPd_2nF5jS"
      },
      "execution_count": null,
      "outputs": []
    },
    {
      "cell_type": "code",
      "source": [
        "# Update the genres column using converted_genres\n",
        "vectorirzed_df['combined_genres'] = vectorirzed_df['genres'].apply(\n",
        "    lambda genre_list: [converted_genres[genre] for genre in genre_list] if isinstance(genre_list, list) else genre_list\n",
        ")\n"
      ],
      "metadata": {
        "id": "3Vvt1wicGCak"
      },
      "execution_count": null,
      "outputs": []
    },
    {
      "cell_type": "code",
      "source": [
        "vectorirzed_df.head()"
      ],
      "metadata": {
        "collapsed": true,
        "colab": {
          "base_uri": "https://localhost:8080/"
        },
        "id": "JqW79svxqiCn",
        "outputId": "d3fd7462-6e9a-4d8f-bca4-928048c5e2af"
      },
      "execution_count": null,
      "outputs": [
        {
          "output_type": "execute_result",
          "data": {
            "text/plain": [
              "   Unnamed: 0.1  Unnamed: 0      id            title  vote_average  \\\n",
              "0             0           0   27205        Inception         8.364   \n",
              "1             1           1  157336     Interstellar         8.417   \n",
              "2             2           2     155  The Dark Knight         8.512   \n",
              "3             3           3   19995           Avatar         7.573   \n",
              "4             4           4   24428     The Avengers         7.710   \n",
              "\n",
              "   vote_count release_date     revenue  runtime  adult  ...   original_title  \\\n",
              "0       34495   2010-07-15   825532764      148  False  ...        Inception   \n",
              "1       32571   2014-11-05   701729206      169  False  ...     Interstellar   \n",
              "2       30619   2008-07-16  1004558444      152  False  ...  The Dark Knight   \n",
              "3       29815   2009-12-15  2923706026      162  False  ...           Avatar   \n",
              "4       29166   2012-04-25  1518815515      143  False  ...     The Avengers   \n",
              "\n",
              "                                            overview popularity  \\\n",
              "0  Cobb, a skilled thief who commits corporate es...     83.952   \n",
              "1  The adventures of a group of explorers who mak...    140.241   \n",
              "2  Batman raises the stakes in his war on crime. ...    130.643   \n",
              "3  In the 22nd century, a paraplegic Marine is di...     79.932   \n",
              "4  When an unexpected enemy emerges and threatens...     98.082   \n",
              "\n",
              "                                             tagline  \\\n",
              "0               Your mind is the scene of the crime.   \n",
              "1  Mankind was born on Earth. It was never meant ...   \n",
              "2                  Welcome to a world without rules.   \n",
              "3                        Enter the world of Pandora.   \n",
              "4                            Some assembly required.   \n",
              "\n",
              "                                          genres  \\\n",
              "0           [action, science fiction, adventure]   \n",
              "1            [adventure, drama, science fiction]   \n",
              "2               [drama, action, crime, thriller]   \n",
              "3  [action, adventure, fantasy, science fiction]   \n",
              "4           [science fiction, action, adventure]   \n",
              "\n",
              "                                production_companies  \\\n",
              "0  Legendary Pictures, Syncopy, Warner Bros. Pict...   \n",
              "1  Legendary Pictures, Syncopy, Lynda Obst Produc...   \n",
              "2  DC Comics, Legendary Pictures, Syncopy, Isobel...   \n",
              "3  Dune Entertainment, Lightstorm Entertainment, ...   \n",
              "4                                     Marvel Studios   \n",
              "\n",
              "                       production_countries  \\\n",
              "0  United Kingdom, United States of America   \n",
              "1  United Kingdom, United States of America   \n",
              "2  United Kingdom, United States of America   \n",
              "3  United States of America, United Kingdom   \n",
              "4                  United States of America   \n",
              "\n",
              "                     spoken_languages  \\\n",
              "0  English, French, Japanese, Swahili   \n",
              "1                             English   \n",
              "2                   English, Mandarin   \n",
              "3                    English, Spanish   \n",
              "4             English, Hindi, Russian   \n",
              "\n",
              "                                            keywords  \\\n",
              "0  rescue, mission, dream, airplane, paris, franc...   \n",
              "1  rescue, future, spacecraft, race against time,...   \n",
              "2  joker, sadism, chaos, secret identity, crime f...   \n",
              "3  future, society, culture clash, space travel, ...   \n",
              "4  new york city, superhero, shield, based on com...   \n",
              "\n",
              "                                     combined_genres  \n",
              "0  [[0.10503006352000731, -0.22630376616776185], ...  \n",
              "1  [[0.17067921370600247, -0.3614126103799646], [...  \n",
              "2  [[-0.17215426774430792, -0.07987446932023397],...  \n",
              "3  [[0.10503006352000731, -0.22630376616776185], ...  \n",
              "4  [[-0.1128116689904679, -0.0132140575303782], [...  \n",
              "\n",
              "[5 rows x 23 columns]"
            ],
            "text/html": [
              "\n",
              "  <div id=\"df-ff020339-f050-4a60-b4ba-888c64674ed5\" class=\"colab-df-container\">\n",
              "    <div>\n",
              "<style scoped>\n",
              "    .dataframe tbody tr th:only-of-type {\n",
              "        vertical-align: middle;\n",
              "    }\n",
              "\n",
              "    .dataframe tbody tr th {\n",
              "        vertical-align: top;\n",
              "    }\n",
              "\n",
              "    .dataframe thead th {\n",
              "        text-align: right;\n",
              "    }\n",
              "</style>\n",
              "<table border=\"1\" class=\"dataframe\">\n",
              "  <thead>\n",
              "    <tr style=\"text-align: right;\">\n",
              "      <th></th>\n",
              "      <th>Unnamed: 0.1</th>\n",
              "      <th>Unnamed: 0</th>\n",
              "      <th>id</th>\n",
              "      <th>title</th>\n",
              "      <th>vote_average</th>\n",
              "      <th>vote_count</th>\n",
              "      <th>release_date</th>\n",
              "      <th>revenue</th>\n",
              "      <th>runtime</th>\n",
              "      <th>adult</th>\n",
              "      <th>...</th>\n",
              "      <th>original_title</th>\n",
              "      <th>overview</th>\n",
              "      <th>popularity</th>\n",
              "      <th>tagline</th>\n",
              "      <th>genres</th>\n",
              "      <th>production_companies</th>\n",
              "      <th>production_countries</th>\n",
              "      <th>spoken_languages</th>\n",
              "      <th>keywords</th>\n",
              "      <th>combined_genres</th>\n",
              "    </tr>\n",
              "  </thead>\n",
              "  <tbody>\n",
              "    <tr>\n",
              "      <th>0</th>\n",
              "      <td>0</td>\n",
              "      <td>0</td>\n",
              "      <td>27205</td>\n",
              "      <td>Inception</td>\n",
              "      <td>8.364</td>\n",
              "      <td>34495</td>\n",
              "      <td>2010-07-15</td>\n",
              "      <td>825532764</td>\n",
              "      <td>148</td>\n",
              "      <td>False</td>\n",
              "      <td>...</td>\n",
              "      <td>Inception</td>\n",
              "      <td>Cobb, a skilled thief who commits corporate es...</td>\n",
              "      <td>83.952</td>\n",
              "      <td>Your mind is the scene of the crime.</td>\n",
              "      <td>[action, science fiction, adventure]</td>\n",
              "      <td>Legendary Pictures, Syncopy, Warner Bros. Pict...</td>\n",
              "      <td>United Kingdom, United States of America</td>\n",
              "      <td>English, French, Japanese, Swahili</td>\n",
              "      <td>rescue, mission, dream, airplane, paris, franc...</td>\n",
              "      <td>[[0.10503006352000731, -0.22630376616776185], ...</td>\n",
              "    </tr>\n",
              "    <tr>\n",
              "      <th>1</th>\n",
              "      <td>1</td>\n",
              "      <td>1</td>\n",
              "      <td>157336</td>\n",
              "      <td>Interstellar</td>\n",
              "      <td>8.417</td>\n",
              "      <td>32571</td>\n",
              "      <td>2014-11-05</td>\n",
              "      <td>701729206</td>\n",
              "      <td>169</td>\n",
              "      <td>False</td>\n",
              "      <td>...</td>\n",
              "      <td>Interstellar</td>\n",
              "      <td>The adventures of a group of explorers who mak...</td>\n",
              "      <td>140.241</td>\n",
              "      <td>Mankind was born on Earth. It was never meant ...</td>\n",
              "      <td>[adventure, drama, science fiction]</td>\n",
              "      <td>Legendary Pictures, Syncopy, Lynda Obst Produc...</td>\n",
              "      <td>United Kingdom, United States of America</td>\n",
              "      <td>English</td>\n",
              "      <td>rescue, future, spacecraft, race against time,...</td>\n",
              "      <td>[[0.17067921370600247, -0.3614126103799646], [...</td>\n",
              "    </tr>\n",
              "    <tr>\n",
              "      <th>2</th>\n",
              "      <td>2</td>\n",
              "      <td>2</td>\n",
              "      <td>155</td>\n",
              "      <td>The Dark Knight</td>\n",
              "      <td>8.512</td>\n",
              "      <td>30619</td>\n",
              "      <td>2008-07-16</td>\n",
              "      <td>1004558444</td>\n",
              "      <td>152</td>\n",
              "      <td>False</td>\n",
              "      <td>...</td>\n",
              "      <td>The Dark Knight</td>\n",
              "      <td>Batman raises the stakes in his war on crime. ...</td>\n",
              "      <td>130.643</td>\n",
              "      <td>Welcome to a world without rules.</td>\n",
              "      <td>[drama, action, crime, thriller]</td>\n",
              "      <td>DC Comics, Legendary Pictures, Syncopy, Isobel...</td>\n",
              "      <td>United Kingdom, United States of America</td>\n",
              "      <td>English, Mandarin</td>\n",
              "      <td>joker, sadism, chaos, secret identity, crime f...</td>\n",
              "      <td>[[-0.17215426774430792, -0.07987446932023397],...</td>\n",
              "    </tr>\n",
              "    <tr>\n",
              "      <th>3</th>\n",
              "      <td>3</td>\n",
              "      <td>3</td>\n",
              "      <td>19995</td>\n",
              "      <td>Avatar</td>\n",
              "      <td>7.573</td>\n",
              "      <td>29815</td>\n",
              "      <td>2009-12-15</td>\n",
              "      <td>2923706026</td>\n",
              "      <td>162</td>\n",
              "      <td>False</td>\n",
              "      <td>...</td>\n",
              "      <td>Avatar</td>\n",
              "      <td>In the 22nd century, a paraplegic Marine is di...</td>\n",
              "      <td>79.932</td>\n",
              "      <td>Enter the world of Pandora.</td>\n",
              "      <td>[action, adventure, fantasy, science fiction]</td>\n",
              "      <td>Dune Entertainment, Lightstorm Entertainment, ...</td>\n",
              "      <td>United States of America, United Kingdom</td>\n",
              "      <td>English, Spanish</td>\n",
              "      <td>future, society, culture clash, space travel, ...</td>\n",
              "      <td>[[0.10503006352000731, -0.22630376616776185], ...</td>\n",
              "    </tr>\n",
              "    <tr>\n",
              "      <th>4</th>\n",
              "      <td>4</td>\n",
              "      <td>4</td>\n",
              "      <td>24428</td>\n",
              "      <td>The Avengers</td>\n",
              "      <td>7.710</td>\n",
              "      <td>29166</td>\n",
              "      <td>2012-04-25</td>\n",
              "      <td>1518815515</td>\n",
              "      <td>143</td>\n",
              "      <td>False</td>\n",
              "      <td>...</td>\n",
              "      <td>The Avengers</td>\n",
              "      <td>When an unexpected enemy emerges and threatens...</td>\n",
              "      <td>98.082</td>\n",
              "      <td>Some assembly required.</td>\n",
              "      <td>[science fiction, action, adventure]</td>\n",
              "      <td>Marvel Studios</td>\n",
              "      <td>United States of America</td>\n",
              "      <td>English, Hindi, Russian</td>\n",
              "      <td>new york city, superhero, shield, based on com...</td>\n",
              "      <td>[[-0.1128116689904679, -0.0132140575303782], [...</td>\n",
              "    </tr>\n",
              "  </tbody>\n",
              "</table>\n",
              "<p>5 rows × 23 columns</p>\n",
              "</div>\n",
              "    <div class=\"colab-df-buttons\">\n",
              "\n",
              "  <div class=\"colab-df-container\">\n",
              "    <button class=\"colab-df-convert\" onclick=\"convertToInteractive('df-ff020339-f050-4a60-b4ba-888c64674ed5')\"\n",
              "            title=\"Convert this dataframe to an interactive table.\"\n",
              "            style=\"display:none;\">\n",
              "\n",
              "  <svg xmlns=\"http://www.w3.org/2000/svg\" height=\"24px\" viewBox=\"0 -960 960 960\">\n",
              "    <path d=\"M120-120v-720h720v720H120Zm60-500h600v-160H180v160Zm220 220h160v-160H400v160Zm0 220h160v-160H400v160ZM180-400h160v-160H180v160Zm440 0h160v-160H620v160ZM180-180h160v-160H180v160Zm440 0h160v-160H620v160Z\"/>\n",
              "  </svg>\n",
              "    </button>\n",
              "\n",
              "  <style>\n",
              "    .colab-df-container {\n",
              "      display:flex;\n",
              "      gap: 12px;\n",
              "    }\n",
              "\n",
              "    .colab-df-convert {\n",
              "      background-color: #E8F0FE;\n",
              "      border: none;\n",
              "      border-radius: 50%;\n",
              "      cursor: pointer;\n",
              "      display: none;\n",
              "      fill: #1967D2;\n",
              "      height: 32px;\n",
              "      padding: 0 0 0 0;\n",
              "      width: 32px;\n",
              "    }\n",
              "\n",
              "    .colab-df-convert:hover {\n",
              "      background-color: #E2EBFA;\n",
              "      box-shadow: 0px 1px 2px rgba(60, 64, 67, 0.3), 0px 1px 3px 1px rgba(60, 64, 67, 0.15);\n",
              "      fill: #174EA6;\n",
              "    }\n",
              "\n",
              "    .colab-df-buttons div {\n",
              "      margin-bottom: 4px;\n",
              "    }\n",
              "\n",
              "    [theme=dark] .colab-df-convert {\n",
              "      background-color: #3B4455;\n",
              "      fill: #D2E3FC;\n",
              "    }\n",
              "\n",
              "    [theme=dark] .colab-df-convert:hover {\n",
              "      background-color: #434B5C;\n",
              "      box-shadow: 0px 1px 3px 1px rgba(0, 0, 0, 0.15);\n",
              "      filter: drop-shadow(0px 1px 2px rgba(0, 0, 0, 0.3));\n",
              "      fill: #FFFFFF;\n",
              "    }\n",
              "  </style>\n",
              "\n",
              "    <script>\n",
              "      const buttonEl =\n",
              "        document.querySelector('#df-ff020339-f050-4a60-b4ba-888c64674ed5 button.colab-df-convert');\n",
              "      buttonEl.style.display =\n",
              "        google.colab.kernel.accessAllowed ? 'block' : 'none';\n",
              "\n",
              "      async function convertToInteractive(key) {\n",
              "        const element = document.querySelector('#df-ff020339-f050-4a60-b4ba-888c64674ed5');\n",
              "        const dataTable =\n",
              "          await google.colab.kernel.invokeFunction('convertToInteractive',\n",
              "                                                    [key], {});\n",
              "        if (!dataTable) return;\n",
              "\n",
              "        const docLinkHtml = 'Like what you see? Visit the ' +\n",
              "          '<a target=\"_blank\" href=https://colab.research.google.com/notebooks/data_table.ipynb>data table notebook</a>'\n",
              "          + ' to learn more about interactive tables.';\n",
              "        element.innerHTML = '';\n",
              "        dataTable['output_type'] = 'display_data';\n",
              "        await google.colab.output.renderOutput(dataTable, element);\n",
              "        const docLink = document.createElement('div');\n",
              "        docLink.innerHTML = docLinkHtml;\n",
              "        element.appendChild(docLink);\n",
              "      }\n",
              "    </script>\n",
              "  </div>\n",
              "\n",
              "\n",
              "<div id=\"df-ea5f882c-1abb-440c-9fea-ba1addbf50ae\">\n",
              "  <button class=\"colab-df-quickchart\" onclick=\"quickchart('df-ea5f882c-1abb-440c-9fea-ba1addbf50ae')\"\n",
              "            title=\"Suggest charts\"\n",
              "            style=\"display:none;\">\n",
              "\n",
              "<svg xmlns=\"http://www.w3.org/2000/svg\" height=\"24px\"viewBox=\"0 0 24 24\"\n",
              "     width=\"24px\">\n",
              "    <g>\n",
              "        <path d=\"M19 3H5c-1.1 0-2 .9-2 2v14c0 1.1.9 2 2 2h14c1.1 0 2-.9 2-2V5c0-1.1-.9-2-2-2zM9 17H7v-7h2v7zm4 0h-2V7h2v10zm4 0h-2v-4h2v4z\"/>\n",
              "    </g>\n",
              "</svg>\n",
              "  </button>\n",
              "\n",
              "<style>\n",
              "  .colab-df-quickchart {\n",
              "      --bg-color: #E8F0FE;\n",
              "      --fill-color: #1967D2;\n",
              "      --hover-bg-color: #E2EBFA;\n",
              "      --hover-fill-color: #174EA6;\n",
              "      --disabled-fill-color: #AAA;\n",
              "      --disabled-bg-color: #DDD;\n",
              "  }\n",
              "\n",
              "  [theme=dark] .colab-df-quickchart {\n",
              "      --bg-color: #3B4455;\n",
              "      --fill-color: #D2E3FC;\n",
              "      --hover-bg-color: #434B5C;\n",
              "      --hover-fill-color: #FFFFFF;\n",
              "      --disabled-bg-color: #3B4455;\n",
              "      --disabled-fill-color: #666;\n",
              "  }\n",
              "\n",
              "  .colab-df-quickchart {\n",
              "    background-color: var(--bg-color);\n",
              "    border: none;\n",
              "    border-radius: 50%;\n",
              "    cursor: pointer;\n",
              "    display: none;\n",
              "    fill: var(--fill-color);\n",
              "    height: 32px;\n",
              "    padding: 0;\n",
              "    width: 32px;\n",
              "  }\n",
              "\n",
              "  .colab-df-quickchart:hover {\n",
              "    background-color: var(--hover-bg-color);\n",
              "    box-shadow: 0 1px 2px rgba(60, 64, 67, 0.3), 0 1px 3px 1px rgba(60, 64, 67, 0.15);\n",
              "    fill: var(--button-hover-fill-color);\n",
              "  }\n",
              "\n",
              "  .colab-df-quickchart-complete:disabled,\n",
              "  .colab-df-quickchart-complete:disabled:hover {\n",
              "    background-color: var(--disabled-bg-color);\n",
              "    fill: var(--disabled-fill-color);\n",
              "    box-shadow: none;\n",
              "  }\n",
              "\n",
              "  .colab-df-spinner {\n",
              "    border: 2px solid var(--fill-color);\n",
              "    border-color: transparent;\n",
              "    border-bottom-color: var(--fill-color);\n",
              "    animation:\n",
              "      spin 1s steps(1) infinite;\n",
              "  }\n",
              "\n",
              "  @keyframes spin {\n",
              "    0% {\n",
              "      border-color: transparent;\n",
              "      border-bottom-color: var(--fill-color);\n",
              "      border-left-color: var(--fill-color);\n",
              "    }\n",
              "    20% {\n",
              "      border-color: transparent;\n",
              "      border-left-color: var(--fill-color);\n",
              "      border-top-color: var(--fill-color);\n",
              "    }\n",
              "    30% {\n",
              "      border-color: transparent;\n",
              "      border-left-color: var(--fill-color);\n",
              "      border-top-color: var(--fill-color);\n",
              "      border-right-color: var(--fill-color);\n",
              "    }\n",
              "    40% {\n",
              "      border-color: transparent;\n",
              "      border-right-color: var(--fill-color);\n",
              "      border-top-color: var(--fill-color);\n",
              "    }\n",
              "    60% {\n",
              "      border-color: transparent;\n",
              "      border-right-color: var(--fill-color);\n",
              "    }\n",
              "    80% {\n",
              "      border-color: transparent;\n",
              "      border-right-color: var(--fill-color);\n",
              "      border-bottom-color: var(--fill-color);\n",
              "    }\n",
              "    90% {\n",
              "      border-color: transparent;\n",
              "      border-bottom-color: var(--fill-color);\n",
              "    }\n",
              "  }\n",
              "</style>\n",
              "\n",
              "  <script>\n",
              "    async function quickchart(key) {\n",
              "      const quickchartButtonEl =\n",
              "        document.querySelector('#' + key + ' button');\n",
              "      quickchartButtonEl.disabled = true;  // To prevent multiple clicks.\n",
              "      quickchartButtonEl.classList.add('colab-df-spinner');\n",
              "      try {\n",
              "        const charts = await google.colab.kernel.invokeFunction(\n",
              "            'suggestCharts', [key], {});\n",
              "      } catch (error) {\n",
              "        console.error('Error during call to suggestCharts:', error);\n",
              "      }\n",
              "      quickchartButtonEl.classList.remove('colab-df-spinner');\n",
              "      quickchartButtonEl.classList.add('colab-df-quickchart-complete');\n",
              "    }\n",
              "    (() => {\n",
              "      let quickchartButtonEl =\n",
              "        document.querySelector('#df-ea5f882c-1abb-440c-9fea-ba1addbf50ae button');\n",
              "      quickchartButtonEl.style.display =\n",
              "        google.colab.kernel.accessAllowed ? 'block' : 'none';\n",
              "    })();\n",
              "  </script>\n",
              "</div>\n",
              "\n",
              "    </div>\n",
              "  </div>\n"
            ],
            "application/vnd.google.colaboratory.intrinsic+json": {
              "type": "dataframe",
              "variable_name": "vectorirzed_df"
            }
          },
          "metadata": {},
          "execution_count": 16
        }
      ]
    },
    {
      "cell_type": "code",
      "source": [
        "vectorirzed_df.to_csv(\"/content/drive/MyDrive/395 Senior Project/Dataset/183_vec_genre.csv\")"
      ],
      "metadata": {
        "id": "hrSd3fcyquEW"
      },
      "execution_count": null,
      "outputs": []
    },
    {
      "cell_type": "code",
      "source": [
        "twod_genre = vectorirzed_df.copy()"
      ],
      "metadata": {
        "id": "TpTKHJJIGDyW"
      },
      "execution_count": null,
      "outputs": []
    },
    {
      "cell_type": "code",
      "source": [
        "no_null = twod_genre.dropna(subset=['genres'], inplace=False)"
      ],
      "metadata": {
        "id": "HhntptttVO3F"
      },
      "execution_count": null,
      "outputs": []
    },
    {
      "cell_type": "code",
      "source": [
        "def combine_genres(genres):\n",
        "    genres_2d = np.array(genres)\n",
        "\n",
        "    # Compute the mean of x and y values\n",
        "    avg_x = np.mean(genres_2d[:, 0])\n",
        "    avg_y = np.mean(genres_2d[:, 1])\n",
        "\n",
        "    return [avg_x, avg_y]"
      ],
      "metadata": {
        "id": "ADTb1aLgVO7z"
      },
      "execution_count": null,
      "outputs": []
    },
    {
      "cell_type": "code",
      "source": [
        "no_null['combined_genres'] = no_null['combined_genres'].apply(combine_genres)"
      ],
      "metadata": {
        "colab": {
          "base_uri": "https://localhost:8080/"
        },
        "id": "og2t78hAVO9u",
        "outputId": "9a9e3713-64b3-4715-913c-626f95303a81"
      },
      "execution_count": null,
      "outputs": [
        {
          "output_type": "stream",
          "name": "stderr",
          "text": [
            "<ipython-input-22-6e526714b52b>:1: SettingWithCopyWarning: \n",
            "A value is trying to be set on a copy of a slice from a DataFrame.\n",
            "Try using .loc[row_indexer,col_indexer] = value instead\n",
            "\n",
            "See the caveats in the documentation: https://pandas.pydata.org/pandas-docs/stable/user_guide/indexing.html#returning-a-view-versus-a-copy\n",
            "  no_null['combined_genres'] = no_null['combined_genres'].apply(combine_genres)\n"
          ]
        }
      ]
    },
    {
      "cell_type": "code",
      "source": [
        "no_null.head()"
      ],
      "metadata": {
        "id": "VPe9ukYuVaMA",
        "colab": {
          "base_uri": "https://localhost:8080/"
        },
        "outputId": "dc2a5fd0-7c5c-4ead-c8be-2f0313c89486"
      },
      "execution_count": null,
      "outputs": [
        {
          "output_type": "execute_result",
          "data": {
            "text/plain": [
              "   Unnamed: 0.1  Unnamed: 0      id            title  vote_average  \\\n",
              "0             0           0   27205        Inception         8.364   \n",
              "1             1           1  157336     Interstellar         8.417   \n",
              "2             2           2     155  The Dark Knight         8.512   \n",
              "3             3           3   19995           Avatar         7.573   \n",
              "4             4           4   24428     The Avengers         7.710   \n",
              "\n",
              "   vote_count release_date     revenue  runtime  adult  ...   original_title  \\\n",
              "0       34495   2010-07-15   825532764      148  False  ...        Inception   \n",
              "1       32571   2014-11-05   701729206      169  False  ...     Interstellar   \n",
              "2       30619   2008-07-16  1004558444      152  False  ...  The Dark Knight   \n",
              "3       29815   2009-12-15  2923706026      162  False  ...           Avatar   \n",
              "4       29166   2012-04-25  1518815515      143  False  ...     The Avengers   \n",
              "\n",
              "                                            overview popularity  \\\n",
              "0  Cobb, a skilled thief who commits corporate es...     83.952   \n",
              "1  The adventures of a group of explorers who mak...    140.241   \n",
              "2  Batman raises the stakes in his war on crime. ...    130.643   \n",
              "3  In the 22nd century, a paraplegic Marine is di...     79.932   \n",
              "4  When an unexpected enemy emerges and threatens...     98.082   \n",
              "\n",
              "                                             tagline  \\\n",
              "0               Your mind is the scene of the crime.   \n",
              "1  Mankind was born on Earth. It was never meant ...   \n",
              "2                  Welcome to a world without rules.   \n",
              "3                        Enter the world of Pandora.   \n",
              "4                            Some assembly required.   \n",
              "\n",
              "                                          genres  \\\n",
              "0           [action, science fiction, adventure]   \n",
              "1            [adventure, drama, science fiction]   \n",
              "2               [drama, action, crime, thriller]   \n",
              "3  [action, adventure, fantasy, science fiction]   \n",
              "4           [science fiction, action, adventure]   \n",
              "\n",
              "                                production_companies  \\\n",
              "0  Legendary Pictures, Syncopy, Warner Bros. Pict...   \n",
              "1  Legendary Pictures, Syncopy, Lynda Obst Produc...   \n",
              "2  DC Comics, Legendary Pictures, Syncopy, Isobel...   \n",
              "3  Dune Entertainment, Lightstorm Entertainment, ...   \n",
              "4                                     Marvel Studios   \n",
              "\n",
              "                       production_countries  \\\n",
              "0  United Kingdom, United States of America   \n",
              "1  United Kingdom, United States of America   \n",
              "2  United Kingdom, United States of America   \n",
              "3  United States of America, United Kingdom   \n",
              "4                  United States of America   \n",
              "\n",
              "                     spoken_languages  \\\n",
              "0  English, French, Japanese, Swahili   \n",
              "1                             English   \n",
              "2                   English, Mandarin   \n",
              "3                    English, Spanish   \n",
              "4             English, Hindi, Russian   \n",
              "\n",
              "                                            keywords  \\\n",
              "0  rescue, mission, dream, airplane, paris, franc...   \n",
              "1  rescue, future, spacecraft, race against time,...   \n",
              "2  joker, sadism, chaos, secret identity, crime f...   \n",
              "3  future, society, culture clash, space travel, ...   \n",
              "4  new york city, superhero, shield, based on com...   \n",
              "\n",
              "                               combined_genres  \n",
              "0  [0.05429920274518063, -0.20031014469270156]  \n",
              "1  [-0.03809557434292445, -0.1515003790768589]  \n",
              "2  [-0.13632130603210876, -0.0872731483749529]  \n",
              "3   [0.04541466978665534, -0.2098152367346234]  \n",
              "4  [0.05429920274518063, -0.20031014469270156]  \n",
              "\n",
              "[5 rows x 23 columns]"
            ],
            "text/html": [
              "\n",
              "  <div id=\"df-01d0c164-6e5a-4b1d-84ba-11b933a7098a\" class=\"colab-df-container\">\n",
              "    <div>\n",
              "<style scoped>\n",
              "    .dataframe tbody tr th:only-of-type {\n",
              "        vertical-align: middle;\n",
              "    }\n",
              "\n",
              "    .dataframe tbody tr th {\n",
              "        vertical-align: top;\n",
              "    }\n",
              "\n",
              "    .dataframe thead th {\n",
              "        text-align: right;\n",
              "    }\n",
              "</style>\n",
              "<table border=\"1\" class=\"dataframe\">\n",
              "  <thead>\n",
              "    <tr style=\"text-align: right;\">\n",
              "      <th></th>\n",
              "      <th>Unnamed: 0.1</th>\n",
              "      <th>Unnamed: 0</th>\n",
              "      <th>id</th>\n",
              "      <th>title</th>\n",
              "      <th>vote_average</th>\n",
              "      <th>vote_count</th>\n",
              "      <th>release_date</th>\n",
              "      <th>revenue</th>\n",
              "      <th>runtime</th>\n",
              "      <th>adult</th>\n",
              "      <th>...</th>\n",
              "      <th>original_title</th>\n",
              "      <th>overview</th>\n",
              "      <th>popularity</th>\n",
              "      <th>tagline</th>\n",
              "      <th>genres</th>\n",
              "      <th>production_companies</th>\n",
              "      <th>production_countries</th>\n",
              "      <th>spoken_languages</th>\n",
              "      <th>keywords</th>\n",
              "      <th>combined_genres</th>\n",
              "    </tr>\n",
              "  </thead>\n",
              "  <tbody>\n",
              "    <tr>\n",
              "      <th>0</th>\n",
              "      <td>0</td>\n",
              "      <td>0</td>\n",
              "      <td>27205</td>\n",
              "      <td>Inception</td>\n",
              "      <td>8.364</td>\n",
              "      <td>34495</td>\n",
              "      <td>2010-07-15</td>\n",
              "      <td>825532764</td>\n",
              "      <td>148</td>\n",
              "      <td>False</td>\n",
              "      <td>...</td>\n",
              "      <td>Inception</td>\n",
              "      <td>Cobb, a skilled thief who commits corporate es...</td>\n",
              "      <td>83.952</td>\n",
              "      <td>Your mind is the scene of the crime.</td>\n",
              "      <td>[action, science fiction, adventure]</td>\n",
              "      <td>Legendary Pictures, Syncopy, Warner Bros. Pict...</td>\n",
              "      <td>United Kingdom, United States of America</td>\n",
              "      <td>English, French, Japanese, Swahili</td>\n",
              "      <td>rescue, mission, dream, airplane, paris, franc...</td>\n",
              "      <td>[0.05429920274518063, -0.20031014469270156]</td>\n",
              "    </tr>\n",
              "    <tr>\n",
              "      <th>1</th>\n",
              "      <td>1</td>\n",
              "      <td>1</td>\n",
              "      <td>157336</td>\n",
              "      <td>Interstellar</td>\n",
              "      <td>8.417</td>\n",
              "      <td>32571</td>\n",
              "      <td>2014-11-05</td>\n",
              "      <td>701729206</td>\n",
              "      <td>169</td>\n",
              "      <td>False</td>\n",
              "      <td>...</td>\n",
              "      <td>Interstellar</td>\n",
              "      <td>The adventures of a group of explorers who mak...</td>\n",
              "      <td>140.241</td>\n",
              "      <td>Mankind was born on Earth. It was never meant ...</td>\n",
              "      <td>[adventure, drama, science fiction]</td>\n",
              "      <td>Legendary Pictures, Syncopy, Lynda Obst Produc...</td>\n",
              "      <td>United Kingdom, United States of America</td>\n",
              "      <td>English</td>\n",
              "      <td>rescue, future, spacecraft, race against time,...</td>\n",
              "      <td>[-0.03809557434292445, -0.1515003790768589]</td>\n",
              "    </tr>\n",
              "    <tr>\n",
              "      <th>2</th>\n",
              "      <td>2</td>\n",
              "      <td>2</td>\n",
              "      <td>155</td>\n",
              "      <td>The Dark Knight</td>\n",
              "      <td>8.512</td>\n",
              "      <td>30619</td>\n",
              "      <td>2008-07-16</td>\n",
              "      <td>1004558444</td>\n",
              "      <td>152</td>\n",
              "      <td>False</td>\n",
              "      <td>...</td>\n",
              "      <td>The Dark Knight</td>\n",
              "      <td>Batman raises the stakes in his war on crime. ...</td>\n",
              "      <td>130.643</td>\n",
              "      <td>Welcome to a world without rules.</td>\n",
              "      <td>[drama, action, crime, thriller]</td>\n",
              "      <td>DC Comics, Legendary Pictures, Syncopy, Isobel...</td>\n",
              "      <td>United Kingdom, United States of America</td>\n",
              "      <td>English, Mandarin</td>\n",
              "      <td>joker, sadism, chaos, secret identity, crime f...</td>\n",
              "      <td>[-0.13632130603210876, -0.0872731483749529]</td>\n",
              "    </tr>\n",
              "    <tr>\n",
              "      <th>3</th>\n",
              "      <td>3</td>\n",
              "      <td>3</td>\n",
              "      <td>19995</td>\n",
              "      <td>Avatar</td>\n",
              "      <td>7.573</td>\n",
              "      <td>29815</td>\n",
              "      <td>2009-12-15</td>\n",
              "      <td>2923706026</td>\n",
              "      <td>162</td>\n",
              "      <td>False</td>\n",
              "      <td>...</td>\n",
              "      <td>Avatar</td>\n",
              "      <td>In the 22nd century, a paraplegic Marine is di...</td>\n",
              "      <td>79.932</td>\n",
              "      <td>Enter the world of Pandora.</td>\n",
              "      <td>[action, adventure, fantasy, science fiction]</td>\n",
              "      <td>Dune Entertainment, Lightstorm Entertainment, ...</td>\n",
              "      <td>United States of America, United Kingdom</td>\n",
              "      <td>English, Spanish</td>\n",
              "      <td>future, society, culture clash, space travel, ...</td>\n",
              "      <td>[0.04541466978665534, -0.2098152367346234]</td>\n",
              "    </tr>\n",
              "    <tr>\n",
              "      <th>4</th>\n",
              "      <td>4</td>\n",
              "      <td>4</td>\n",
              "      <td>24428</td>\n",
              "      <td>The Avengers</td>\n",
              "      <td>7.710</td>\n",
              "      <td>29166</td>\n",
              "      <td>2012-04-25</td>\n",
              "      <td>1518815515</td>\n",
              "      <td>143</td>\n",
              "      <td>False</td>\n",
              "      <td>...</td>\n",
              "      <td>The Avengers</td>\n",
              "      <td>When an unexpected enemy emerges and threatens...</td>\n",
              "      <td>98.082</td>\n",
              "      <td>Some assembly required.</td>\n",
              "      <td>[science fiction, action, adventure]</td>\n",
              "      <td>Marvel Studios</td>\n",
              "      <td>United States of America</td>\n",
              "      <td>English, Hindi, Russian</td>\n",
              "      <td>new york city, superhero, shield, based on com...</td>\n",
              "      <td>[0.05429920274518063, -0.20031014469270156]</td>\n",
              "    </tr>\n",
              "  </tbody>\n",
              "</table>\n",
              "<p>5 rows × 23 columns</p>\n",
              "</div>\n",
              "    <div class=\"colab-df-buttons\">\n",
              "\n",
              "  <div class=\"colab-df-container\">\n",
              "    <button class=\"colab-df-convert\" onclick=\"convertToInteractive('df-01d0c164-6e5a-4b1d-84ba-11b933a7098a')\"\n",
              "            title=\"Convert this dataframe to an interactive table.\"\n",
              "            style=\"display:none;\">\n",
              "\n",
              "  <svg xmlns=\"http://www.w3.org/2000/svg\" height=\"24px\" viewBox=\"0 -960 960 960\">\n",
              "    <path d=\"M120-120v-720h720v720H120Zm60-500h600v-160H180v160Zm220 220h160v-160H400v160Zm0 220h160v-160H400v160ZM180-400h160v-160H180v160Zm440 0h160v-160H620v160ZM180-180h160v-160H180v160Zm440 0h160v-160H620v160Z\"/>\n",
              "  </svg>\n",
              "    </button>\n",
              "\n",
              "  <style>\n",
              "    .colab-df-container {\n",
              "      display:flex;\n",
              "      gap: 12px;\n",
              "    }\n",
              "\n",
              "    .colab-df-convert {\n",
              "      background-color: #E8F0FE;\n",
              "      border: none;\n",
              "      border-radius: 50%;\n",
              "      cursor: pointer;\n",
              "      display: none;\n",
              "      fill: #1967D2;\n",
              "      height: 32px;\n",
              "      padding: 0 0 0 0;\n",
              "      width: 32px;\n",
              "    }\n",
              "\n",
              "    .colab-df-convert:hover {\n",
              "      background-color: #E2EBFA;\n",
              "      box-shadow: 0px 1px 2px rgba(60, 64, 67, 0.3), 0px 1px 3px 1px rgba(60, 64, 67, 0.15);\n",
              "      fill: #174EA6;\n",
              "    }\n",
              "\n",
              "    .colab-df-buttons div {\n",
              "      margin-bottom: 4px;\n",
              "    }\n",
              "\n",
              "    [theme=dark] .colab-df-convert {\n",
              "      background-color: #3B4455;\n",
              "      fill: #D2E3FC;\n",
              "    }\n",
              "\n",
              "    [theme=dark] .colab-df-convert:hover {\n",
              "      background-color: #434B5C;\n",
              "      box-shadow: 0px 1px 3px 1px rgba(0, 0, 0, 0.15);\n",
              "      filter: drop-shadow(0px 1px 2px rgba(0, 0, 0, 0.3));\n",
              "      fill: #FFFFFF;\n",
              "    }\n",
              "  </style>\n",
              "\n",
              "    <script>\n",
              "      const buttonEl =\n",
              "        document.querySelector('#df-01d0c164-6e5a-4b1d-84ba-11b933a7098a button.colab-df-convert');\n",
              "      buttonEl.style.display =\n",
              "        google.colab.kernel.accessAllowed ? 'block' : 'none';\n",
              "\n",
              "      async function convertToInteractive(key) {\n",
              "        const element = document.querySelector('#df-01d0c164-6e5a-4b1d-84ba-11b933a7098a');\n",
              "        const dataTable =\n",
              "          await google.colab.kernel.invokeFunction('convertToInteractive',\n",
              "                                                    [key], {});\n",
              "        if (!dataTable) return;\n",
              "\n",
              "        const docLinkHtml = 'Like what you see? Visit the ' +\n",
              "          '<a target=\"_blank\" href=https://colab.research.google.com/notebooks/data_table.ipynb>data table notebook</a>'\n",
              "          + ' to learn more about interactive tables.';\n",
              "        element.innerHTML = '';\n",
              "        dataTable['output_type'] = 'display_data';\n",
              "        await google.colab.output.renderOutput(dataTable, element);\n",
              "        const docLink = document.createElement('div');\n",
              "        docLink.innerHTML = docLinkHtml;\n",
              "        element.appendChild(docLink);\n",
              "      }\n",
              "    </script>\n",
              "  </div>\n",
              "\n",
              "\n",
              "<div id=\"df-0da09537-e417-4108-bdc0-2802dcaa77f7\">\n",
              "  <button class=\"colab-df-quickchart\" onclick=\"quickchart('df-0da09537-e417-4108-bdc0-2802dcaa77f7')\"\n",
              "            title=\"Suggest charts\"\n",
              "            style=\"display:none;\">\n",
              "\n",
              "<svg xmlns=\"http://www.w3.org/2000/svg\" height=\"24px\"viewBox=\"0 0 24 24\"\n",
              "     width=\"24px\">\n",
              "    <g>\n",
              "        <path d=\"M19 3H5c-1.1 0-2 .9-2 2v14c0 1.1.9 2 2 2h14c1.1 0 2-.9 2-2V5c0-1.1-.9-2-2-2zM9 17H7v-7h2v7zm4 0h-2V7h2v10zm4 0h-2v-4h2v4z\"/>\n",
              "    </g>\n",
              "</svg>\n",
              "  </button>\n",
              "\n",
              "<style>\n",
              "  .colab-df-quickchart {\n",
              "      --bg-color: #E8F0FE;\n",
              "      --fill-color: #1967D2;\n",
              "      --hover-bg-color: #E2EBFA;\n",
              "      --hover-fill-color: #174EA6;\n",
              "      --disabled-fill-color: #AAA;\n",
              "      --disabled-bg-color: #DDD;\n",
              "  }\n",
              "\n",
              "  [theme=dark] .colab-df-quickchart {\n",
              "      --bg-color: #3B4455;\n",
              "      --fill-color: #D2E3FC;\n",
              "      --hover-bg-color: #434B5C;\n",
              "      --hover-fill-color: #FFFFFF;\n",
              "      --disabled-bg-color: #3B4455;\n",
              "      --disabled-fill-color: #666;\n",
              "  }\n",
              "\n",
              "  .colab-df-quickchart {\n",
              "    background-color: var(--bg-color);\n",
              "    border: none;\n",
              "    border-radius: 50%;\n",
              "    cursor: pointer;\n",
              "    display: none;\n",
              "    fill: var(--fill-color);\n",
              "    height: 32px;\n",
              "    padding: 0;\n",
              "    width: 32px;\n",
              "  }\n",
              "\n",
              "  .colab-df-quickchart:hover {\n",
              "    background-color: var(--hover-bg-color);\n",
              "    box-shadow: 0 1px 2px rgba(60, 64, 67, 0.3), 0 1px 3px 1px rgba(60, 64, 67, 0.15);\n",
              "    fill: var(--button-hover-fill-color);\n",
              "  }\n",
              "\n",
              "  .colab-df-quickchart-complete:disabled,\n",
              "  .colab-df-quickchart-complete:disabled:hover {\n",
              "    background-color: var(--disabled-bg-color);\n",
              "    fill: var(--disabled-fill-color);\n",
              "    box-shadow: none;\n",
              "  }\n",
              "\n",
              "  .colab-df-spinner {\n",
              "    border: 2px solid var(--fill-color);\n",
              "    border-color: transparent;\n",
              "    border-bottom-color: var(--fill-color);\n",
              "    animation:\n",
              "      spin 1s steps(1) infinite;\n",
              "  }\n",
              "\n",
              "  @keyframes spin {\n",
              "    0% {\n",
              "      border-color: transparent;\n",
              "      border-bottom-color: var(--fill-color);\n",
              "      border-left-color: var(--fill-color);\n",
              "    }\n",
              "    20% {\n",
              "      border-color: transparent;\n",
              "      border-left-color: var(--fill-color);\n",
              "      border-top-color: var(--fill-color);\n",
              "    }\n",
              "    30% {\n",
              "      border-color: transparent;\n",
              "      border-left-color: var(--fill-color);\n",
              "      border-top-color: var(--fill-color);\n",
              "      border-right-color: var(--fill-color);\n",
              "    }\n",
              "    40% {\n",
              "      border-color: transparent;\n",
              "      border-right-color: var(--fill-color);\n",
              "      border-top-color: var(--fill-color);\n",
              "    }\n",
              "    60% {\n",
              "      border-color: transparent;\n",
              "      border-right-color: var(--fill-color);\n",
              "    }\n",
              "    80% {\n",
              "      border-color: transparent;\n",
              "      border-right-color: var(--fill-color);\n",
              "      border-bottom-color: var(--fill-color);\n",
              "    }\n",
              "    90% {\n",
              "      border-color: transparent;\n",
              "      border-bottom-color: var(--fill-color);\n",
              "    }\n",
              "  }\n",
              "</style>\n",
              "\n",
              "  <script>\n",
              "    async function quickchart(key) {\n",
              "      const quickchartButtonEl =\n",
              "        document.querySelector('#' + key + ' button');\n",
              "      quickchartButtonEl.disabled = true;  // To prevent multiple clicks.\n",
              "      quickchartButtonEl.classList.add('colab-df-spinner');\n",
              "      try {\n",
              "        const charts = await google.colab.kernel.invokeFunction(\n",
              "            'suggestCharts', [key], {});\n",
              "      } catch (error) {\n",
              "        console.error('Error during call to suggestCharts:', error);\n",
              "      }\n",
              "      quickchartButtonEl.classList.remove('colab-df-spinner');\n",
              "      quickchartButtonEl.classList.add('colab-df-quickchart-complete');\n",
              "    }\n",
              "    (() => {\n",
              "      let quickchartButtonEl =\n",
              "        document.querySelector('#df-0da09537-e417-4108-bdc0-2802dcaa77f7 button');\n",
              "      quickchartButtonEl.style.display =\n",
              "        google.colab.kernel.accessAllowed ? 'block' : 'none';\n",
              "    })();\n",
              "  </script>\n",
              "</div>\n",
              "\n",
              "    </div>\n",
              "  </div>\n"
            ],
            "application/vnd.google.colaboratory.intrinsic+json": {
              "type": "dataframe",
              "variable_name": "no_null"
            }
          },
          "metadata": {},
          "execution_count": 23
        }
      ]
    },
    {
      "cell_type": "code",
      "source": [
        "overview_working = no_null.dropna(subset=['overview'], inplace=False)"
      ],
      "metadata": {
        "id": "YkpwzekMVaOX"
      },
      "execution_count": null,
      "outputs": []
    },
    {
      "cell_type": "code",
      "source": [
        "overview_working"
      ],
      "metadata": {
        "colab": {
          "base_uri": "https://localhost:8080/"
        },
        "collapsed": true,
        "id": "K8uDU76NrDxO",
        "outputId": "dbd6ee0b-24ed-4de4-9393-5c25423b9613"
      },
      "execution_count": null,
      "outputs": [
        {
          "output_type": "execute_result",
          "data": {
            "text/plain": [
              "        Unnamed: 0.1  Unnamed: 0      id                 title  vote_average  \\\n",
              "0                  0           0   27205             Inception         8.364   \n",
              "1                  1           1  157336          Interstellar         8.417   \n",
              "2                  2           2     155       The Dark Knight         8.512   \n",
              "3                  3           3   19995                Avatar         7.573   \n",
              "4                  4           4   24428          The Avengers         7.710   \n",
              "...              ...         ...     ...                   ...           ...   \n",
              "314202        832765     1104348  717277                 Signs           NaN   \n",
              "314203        832783     1104368  717273     The Widow's Might           NaN   \n",
              "314204        832797     1104385  717260  Shouting at the Wind           NaN   \n",
              "314206        832821     1104412  717382            Borderline           NaN   \n",
              "314209        832834     1104433  717334  Reemplazo incompleto           NaN   \n",
              "\n",
              "        vote_count release_date     revenue  runtime  adult  ...  \\\n",
              "0            34495   2010-07-15   825532764      148  False  ...   \n",
              "1            32571   2014-11-05   701729206      169  False  ...   \n",
              "2            30619   2008-07-16  1004558444      152  False  ...   \n",
              "3            29815   2009-12-15  2923706026      162  False  ...   \n",
              "4            29166   2012-04-25  1518815515      143  False  ...   \n",
              "...            ...          ...         ...      ...    ...  ...   \n",
              "314202           0   2013-12-12           0       80  False  ...   \n",
              "314203           0   1918-01-28           0       50  False  ...   \n",
              "314204           0   2018-12-19           0       62  False  ...   \n",
              "314206           0   1988-01-01           0      120  False  ...   \n",
              "314209           0   2016-07-07           0       62  False  ...   \n",
              "\n",
              "              original_title  \\\n",
              "0                  Inception   \n",
              "1               Interstellar   \n",
              "2            The Dark Knight   \n",
              "3                     Avatar   \n",
              "4               The Avengers   \n",
              "...                      ...   \n",
              "314202               Isyarat   \n",
              "314203     The Widow's Might   \n",
              "314204    Faryad Roo Be Baad   \n",
              "314206            Borderline   \n",
              "314209  Reemplazo incompleto   \n",
              "\n",
              "                                                 overview popularity  \\\n",
              "0       Cobb, a skilled thief who commits corporate es...     83.952   \n",
              "1       The adventures of a group of explorers who mak...    140.241   \n",
              "2       Batman raises the stakes in his war on crime. ...    130.643   \n",
              "3       In the 22nd century, a paraplegic Marine is di...     79.932   \n",
              "4       When an unexpected enemy emerges and threatens...     98.082   \n",
              "...                                                   ...        ...   \n",
              "314202  'Isyarat' takes the innovative approach of bri...      0.844   \n",
              "314203  Dick Tavish, a young New Yorker, decides that ...      0.710   \n",
              "314204  Meysam, an adolescent from Tehran’s roughest n...      0.600   \n",
              "314206  Story about a young pianist accused of murderi...      0.676   \n",
              "314209  A man loses his dog, his mother dies and his w...      0.600   \n",
              "\n",
              "                                                  tagline  \\\n",
              "0                    Your mind is the scene of the crime.   \n",
              "1       Mankind was born on Earth. It was never meant ...   \n",
              "2                       Welcome to a world without rules.   \n",
              "3                             Enter the world of Pandora.   \n",
              "4                                 Some assembly required.   \n",
              "...                                                   ...   \n",
              "314202                      They see things that we don't   \n",
              "314203                                                NaN   \n",
              "314204                                                NaN   \n",
              "314206                                            Guilty?   \n",
              "314209                                                NaN   \n",
              "\n",
              "                                               genres  \\\n",
              "0                [action, science fiction, adventure]   \n",
              "1                 [adventure, drama, science fiction]   \n",
              "2                    [drama, action, crime, thriller]   \n",
              "3       [action, adventure, fantasy, science fiction]   \n",
              "4                [science fiction, action, adventure]   \n",
              "...                                               ...   \n",
              "314202                     [drama, thriller, mystery]   \n",
              "314203                                [comedy, drama]   \n",
              "314204                                  [documentary]   \n",
              "314206                                        [drama]   \n",
              "314209                                [drama, comedy]   \n",
              "\n",
              "                                     production_companies  \\\n",
              "0       Legendary Pictures, Syncopy, Warner Bros. Pict...   \n",
              "1       Legendary Pictures, Syncopy, Lynda Obst Produc...   \n",
              "2       DC Comics, Legendary Pictures, Syncopy, Isobel...   \n",
              "3       Dune Entertainment, Lightstorm Entertainment, ...   \n",
              "4                                          Marvel Studios   \n",
              "...                                                   ...   \n",
              "314202                         Lingkar Alumni Indie Movie   \n",
              "314203                                                NaN   \n",
              "314204                                                NaN   \n",
              "314206                                           Epo-Film   \n",
              "314209                                            Kligger   \n",
              "\n",
              "                            production_countries  \\\n",
              "0       United Kingdom, United States of America   \n",
              "1       United Kingdom, United States of America   \n",
              "2       United Kingdom, United States of America   \n",
              "3       United States of America, United Kingdom   \n",
              "4                       United States of America   \n",
              "...                                          ...   \n",
              "314202                                       NaN   \n",
              "314203                                       NaN   \n",
              "314204                                      Iran   \n",
              "314206                                   Austria   \n",
              "314209                                 Argentina   \n",
              "\n",
              "                          spoken_languages  \\\n",
              "0       English, French, Japanese, Swahili   \n",
              "1                                  English   \n",
              "2                        English, Mandarin   \n",
              "3                         English, Spanish   \n",
              "4                  English, Hindi, Russian   \n",
              "...                                    ...   \n",
              "314202                          Indonesian   \n",
              "314203                                 NaN   \n",
              "314204                             Persian   \n",
              "314206                              German   \n",
              "314209                             Spanish   \n",
              "\n",
              "                                                 keywords  \\\n",
              "0       rescue, mission, dream, airplane, paris, franc...   \n",
              "1       rescue, future, spacecraft, race against time,...   \n",
              "2       joker, sadism, chaos, secret identity, crime f...   \n",
              "3       future, society, culture clash, space travel, ...   \n",
              "4       new york city, superhero, shield, based on com...   \n",
              "...                                                   ...   \n",
              "314202                                                NaN   \n",
              "314203                                            eurospy   \n",
              "314204                                                NaN   \n",
              "314206                                                NaN   \n",
              "314209                                        silent film   \n",
              "\n",
              "                                     combined_genres  \n",
              "0        [0.05429920274518063, -0.20031014469270156]  \n",
              "1        [-0.03809557434292445, -0.1515003790768589]  \n",
              "2        [-0.13632130603210876, -0.0872731483749529]  \n",
              "3         [0.04541466978665534, -0.2098152367346234]  \n",
              "4        [0.05429920274518063, -0.20031014469270156]  \n",
              "...                                              ...  \n",
              "314202    [-0.29973186752805, -0.018768844508779612]  \n",
              "314203    [-0.2559191639370462, -0.0657944122682392]  \n",
              "314204       [0.103864628282789, 0.5171376946278301]  \n",
              "314206  [-0.17215426774430792, -0.07987446932023397]  \n",
              "314209    [-0.2559191639370462, -0.0657944122682392]  \n",
              "\n",
              "[268870 rows x 23 columns]"
            ],
            "text/html": [
              "\n",
              "  <div id=\"df-dcd86e77-7d74-42e8-8a19-d3432eb0e5a1\" class=\"colab-df-container\">\n",
              "    <div>\n",
              "<style scoped>\n",
              "    .dataframe tbody tr th:only-of-type {\n",
              "        vertical-align: middle;\n",
              "    }\n",
              "\n",
              "    .dataframe tbody tr th {\n",
              "        vertical-align: top;\n",
              "    }\n",
              "\n",
              "    .dataframe thead th {\n",
              "        text-align: right;\n",
              "    }\n",
              "</style>\n",
              "<table border=\"1\" class=\"dataframe\">\n",
              "  <thead>\n",
              "    <tr style=\"text-align: right;\">\n",
              "      <th></th>\n",
              "      <th>Unnamed: 0.1</th>\n",
              "      <th>Unnamed: 0</th>\n",
              "      <th>id</th>\n",
              "      <th>title</th>\n",
              "      <th>vote_average</th>\n",
              "      <th>vote_count</th>\n",
              "      <th>release_date</th>\n",
              "      <th>revenue</th>\n",
              "      <th>runtime</th>\n",
              "      <th>adult</th>\n",
              "      <th>...</th>\n",
              "      <th>original_title</th>\n",
              "      <th>overview</th>\n",
              "      <th>popularity</th>\n",
              "      <th>tagline</th>\n",
              "      <th>genres</th>\n",
              "      <th>production_companies</th>\n",
              "      <th>production_countries</th>\n",
              "      <th>spoken_languages</th>\n",
              "      <th>keywords</th>\n",
              "      <th>combined_genres</th>\n",
              "    </tr>\n",
              "  </thead>\n",
              "  <tbody>\n",
              "    <tr>\n",
              "      <th>0</th>\n",
              "      <td>0</td>\n",
              "      <td>0</td>\n",
              "      <td>27205</td>\n",
              "      <td>Inception</td>\n",
              "      <td>8.364</td>\n",
              "      <td>34495</td>\n",
              "      <td>2010-07-15</td>\n",
              "      <td>825532764</td>\n",
              "      <td>148</td>\n",
              "      <td>False</td>\n",
              "      <td>...</td>\n",
              "      <td>Inception</td>\n",
              "      <td>Cobb, a skilled thief who commits corporate es...</td>\n",
              "      <td>83.952</td>\n",
              "      <td>Your mind is the scene of the crime.</td>\n",
              "      <td>[action, science fiction, adventure]</td>\n",
              "      <td>Legendary Pictures, Syncopy, Warner Bros. Pict...</td>\n",
              "      <td>United Kingdom, United States of America</td>\n",
              "      <td>English, French, Japanese, Swahili</td>\n",
              "      <td>rescue, mission, dream, airplane, paris, franc...</td>\n",
              "      <td>[0.05429920274518063, -0.20031014469270156]</td>\n",
              "    </tr>\n",
              "    <tr>\n",
              "      <th>1</th>\n",
              "      <td>1</td>\n",
              "      <td>1</td>\n",
              "      <td>157336</td>\n",
              "      <td>Interstellar</td>\n",
              "      <td>8.417</td>\n",
              "      <td>32571</td>\n",
              "      <td>2014-11-05</td>\n",
              "      <td>701729206</td>\n",
              "      <td>169</td>\n",
              "      <td>False</td>\n",
              "      <td>...</td>\n",
              "      <td>Interstellar</td>\n",
              "      <td>The adventures of a group of explorers who mak...</td>\n",
              "      <td>140.241</td>\n",
              "      <td>Mankind was born on Earth. It was never meant ...</td>\n",
              "      <td>[adventure, drama, science fiction]</td>\n",
              "      <td>Legendary Pictures, Syncopy, Lynda Obst Produc...</td>\n",
              "      <td>United Kingdom, United States of America</td>\n",
              "      <td>English</td>\n",
              "      <td>rescue, future, spacecraft, race against time,...</td>\n",
              "      <td>[-0.03809557434292445, -0.1515003790768589]</td>\n",
              "    </tr>\n",
              "    <tr>\n",
              "      <th>2</th>\n",
              "      <td>2</td>\n",
              "      <td>2</td>\n",
              "      <td>155</td>\n",
              "      <td>The Dark Knight</td>\n",
              "      <td>8.512</td>\n",
              "      <td>30619</td>\n",
              "      <td>2008-07-16</td>\n",
              "      <td>1004558444</td>\n",
              "      <td>152</td>\n",
              "      <td>False</td>\n",
              "      <td>...</td>\n",
              "      <td>The Dark Knight</td>\n",
              "      <td>Batman raises the stakes in his war on crime. ...</td>\n",
              "      <td>130.643</td>\n",
              "      <td>Welcome to a world without rules.</td>\n",
              "      <td>[drama, action, crime, thriller]</td>\n",
              "      <td>DC Comics, Legendary Pictures, Syncopy, Isobel...</td>\n",
              "      <td>United Kingdom, United States of America</td>\n",
              "      <td>English, Mandarin</td>\n",
              "      <td>joker, sadism, chaos, secret identity, crime f...</td>\n",
              "      <td>[-0.13632130603210876, -0.0872731483749529]</td>\n",
              "    </tr>\n",
              "    <tr>\n",
              "      <th>3</th>\n",
              "      <td>3</td>\n",
              "      <td>3</td>\n",
              "      <td>19995</td>\n",
              "      <td>Avatar</td>\n",
              "      <td>7.573</td>\n",
              "      <td>29815</td>\n",
              "      <td>2009-12-15</td>\n",
              "      <td>2923706026</td>\n",
              "      <td>162</td>\n",
              "      <td>False</td>\n",
              "      <td>...</td>\n",
              "      <td>Avatar</td>\n",
              "      <td>In the 22nd century, a paraplegic Marine is di...</td>\n",
              "      <td>79.932</td>\n",
              "      <td>Enter the world of Pandora.</td>\n",
              "      <td>[action, adventure, fantasy, science fiction]</td>\n",
              "      <td>Dune Entertainment, Lightstorm Entertainment, ...</td>\n",
              "      <td>United States of America, United Kingdom</td>\n",
              "      <td>English, Spanish</td>\n",
              "      <td>future, society, culture clash, space travel, ...</td>\n",
              "      <td>[0.04541466978665534, -0.2098152367346234]</td>\n",
              "    </tr>\n",
              "    <tr>\n",
              "      <th>4</th>\n",
              "      <td>4</td>\n",
              "      <td>4</td>\n",
              "      <td>24428</td>\n",
              "      <td>The Avengers</td>\n",
              "      <td>7.710</td>\n",
              "      <td>29166</td>\n",
              "      <td>2012-04-25</td>\n",
              "      <td>1518815515</td>\n",
              "      <td>143</td>\n",
              "      <td>False</td>\n",
              "      <td>...</td>\n",
              "      <td>The Avengers</td>\n",
              "      <td>When an unexpected enemy emerges and threatens...</td>\n",
              "      <td>98.082</td>\n",
              "      <td>Some assembly required.</td>\n",
              "      <td>[science fiction, action, adventure]</td>\n",
              "      <td>Marvel Studios</td>\n",
              "      <td>United States of America</td>\n",
              "      <td>English, Hindi, Russian</td>\n",
              "      <td>new york city, superhero, shield, based on com...</td>\n",
              "      <td>[0.05429920274518063, -0.20031014469270156]</td>\n",
              "    </tr>\n",
              "    <tr>\n",
              "      <th>...</th>\n",
              "      <td>...</td>\n",
              "      <td>...</td>\n",
              "      <td>...</td>\n",
              "      <td>...</td>\n",
              "      <td>...</td>\n",
              "      <td>...</td>\n",
              "      <td>...</td>\n",
              "      <td>...</td>\n",
              "      <td>...</td>\n",
              "      <td>...</td>\n",
              "      <td>...</td>\n",
              "      <td>...</td>\n",
              "      <td>...</td>\n",
              "      <td>...</td>\n",
              "      <td>...</td>\n",
              "      <td>...</td>\n",
              "      <td>...</td>\n",
              "      <td>...</td>\n",
              "      <td>...</td>\n",
              "      <td>...</td>\n",
              "      <td>...</td>\n",
              "    </tr>\n",
              "    <tr>\n",
              "      <th>314202</th>\n",
              "      <td>832765</td>\n",
              "      <td>1104348</td>\n",
              "      <td>717277</td>\n",
              "      <td>Signs</td>\n",
              "      <td>NaN</td>\n",
              "      <td>0</td>\n",
              "      <td>2013-12-12</td>\n",
              "      <td>0</td>\n",
              "      <td>80</td>\n",
              "      <td>False</td>\n",
              "      <td>...</td>\n",
              "      <td>Isyarat</td>\n",
              "      <td>'Isyarat' takes the innovative approach of bri...</td>\n",
              "      <td>0.844</td>\n",
              "      <td>They see things that we don't</td>\n",
              "      <td>[drama, thriller, mystery]</td>\n",
              "      <td>Lingkar Alumni Indie Movie</td>\n",
              "      <td>NaN</td>\n",
              "      <td>Indonesian</td>\n",
              "      <td>NaN</td>\n",
              "      <td>[-0.29973186752805, -0.018768844508779612]</td>\n",
              "    </tr>\n",
              "    <tr>\n",
              "      <th>314203</th>\n",
              "      <td>832783</td>\n",
              "      <td>1104368</td>\n",
              "      <td>717273</td>\n",
              "      <td>The Widow's Might</td>\n",
              "      <td>NaN</td>\n",
              "      <td>0</td>\n",
              "      <td>1918-01-28</td>\n",
              "      <td>0</td>\n",
              "      <td>50</td>\n",
              "      <td>False</td>\n",
              "      <td>...</td>\n",
              "      <td>The Widow's Might</td>\n",
              "      <td>Dick Tavish, a young New Yorker, decides that ...</td>\n",
              "      <td>0.710</td>\n",
              "      <td>NaN</td>\n",
              "      <td>[comedy, drama]</td>\n",
              "      <td>NaN</td>\n",
              "      <td>NaN</td>\n",
              "      <td>NaN</td>\n",
              "      <td>eurospy</td>\n",
              "      <td>[-0.2559191639370462, -0.0657944122682392]</td>\n",
              "    </tr>\n",
              "    <tr>\n",
              "      <th>314204</th>\n",
              "      <td>832797</td>\n",
              "      <td>1104385</td>\n",
              "      <td>717260</td>\n",
              "      <td>Shouting at the Wind</td>\n",
              "      <td>NaN</td>\n",
              "      <td>0</td>\n",
              "      <td>2018-12-19</td>\n",
              "      <td>0</td>\n",
              "      <td>62</td>\n",
              "      <td>False</td>\n",
              "      <td>...</td>\n",
              "      <td>Faryad Roo Be Baad</td>\n",
              "      <td>Meysam, an adolescent from Tehran’s roughest n...</td>\n",
              "      <td>0.600</td>\n",
              "      <td>NaN</td>\n",
              "      <td>[documentary]</td>\n",
              "      <td>NaN</td>\n",
              "      <td>Iran</td>\n",
              "      <td>Persian</td>\n",
              "      <td>NaN</td>\n",
              "      <td>[0.103864628282789, 0.5171376946278301]</td>\n",
              "    </tr>\n",
              "    <tr>\n",
              "      <th>314206</th>\n",
              "      <td>832821</td>\n",
              "      <td>1104412</td>\n",
              "      <td>717382</td>\n",
              "      <td>Borderline</td>\n",
              "      <td>NaN</td>\n",
              "      <td>0</td>\n",
              "      <td>1988-01-01</td>\n",
              "      <td>0</td>\n",
              "      <td>120</td>\n",
              "      <td>False</td>\n",
              "      <td>...</td>\n",
              "      <td>Borderline</td>\n",
              "      <td>Story about a young pianist accused of murderi...</td>\n",
              "      <td>0.676</td>\n",
              "      <td>Guilty?</td>\n",
              "      <td>[drama]</td>\n",
              "      <td>Epo-Film</td>\n",
              "      <td>Austria</td>\n",
              "      <td>German</td>\n",
              "      <td>NaN</td>\n",
              "      <td>[-0.17215426774430792, -0.07987446932023397]</td>\n",
              "    </tr>\n",
              "    <tr>\n",
              "      <th>314209</th>\n",
              "      <td>832834</td>\n",
              "      <td>1104433</td>\n",
              "      <td>717334</td>\n",
              "      <td>Reemplazo incompleto</td>\n",
              "      <td>NaN</td>\n",
              "      <td>0</td>\n",
              "      <td>2016-07-07</td>\n",
              "      <td>0</td>\n",
              "      <td>62</td>\n",
              "      <td>False</td>\n",
              "      <td>...</td>\n",
              "      <td>Reemplazo incompleto</td>\n",
              "      <td>A man loses his dog, his mother dies and his w...</td>\n",
              "      <td>0.600</td>\n",
              "      <td>NaN</td>\n",
              "      <td>[drama, comedy]</td>\n",
              "      <td>Kligger</td>\n",
              "      <td>Argentina</td>\n",
              "      <td>Spanish</td>\n",
              "      <td>silent film</td>\n",
              "      <td>[-0.2559191639370462, -0.0657944122682392]</td>\n",
              "    </tr>\n",
              "  </tbody>\n",
              "</table>\n",
              "<p>268870 rows × 23 columns</p>\n",
              "</div>\n",
              "    <div class=\"colab-df-buttons\">\n",
              "\n",
              "  <div class=\"colab-df-container\">\n",
              "    <button class=\"colab-df-convert\" onclick=\"convertToInteractive('df-dcd86e77-7d74-42e8-8a19-d3432eb0e5a1')\"\n",
              "            title=\"Convert this dataframe to an interactive table.\"\n",
              "            style=\"display:none;\">\n",
              "\n",
              "  <svg xmlns=\"http://www.w3.org/2000/svg\" height=\"24px\" viewBox=\"0 -960 960 960\">\n",
              "    <path d=\"M120-120v-720h720v720H120Zm60-500h600v-160H180v160Zm220 220h160v-160H400v160Zm0 220h160v-160H400v160ZM180-400h160v-160H180v160Zm440 0h160v-160H620v160ZM180-180h160v-160H180v160Zm440 0h160v-160H620v160Z\"/>\n",
              "  </svg>\n",
              "    </button>\n",
              "\n",
              "  <style>\n",
              "    .colab-df-container {\n",
              "      display:flex;\n",
              "      gap: 12px;\n",
              "    }\n",
              "\n",
              "    .colab-df-convert {\n",
              "      background-color: #E8F0FE;\n",
              "      border: none;\n",
              "      border-radius: 50%;\n",
              "      cursor: pointer;\n",
              "      display: none;\n",
              "      fill: #1967D2;\n",
              "      height: 32px;\n",
              "      padding: 0 0 0 0;\n",
              "      width: 32px;\n",
              "    }\n",
              "\n",
              "    .colab-df-convert:hover {\n",
              "      background-color: #E2EBFA;\n",
              "      box-shadow: 0px 1px 2px rgba(60, 64, 67, 0.3), 0px 1px 3px 1px rgba(60, 64, 67, 0.15);\n",
              "      fill: #174EA6;\n",
              "    }\n",
              "\n",
              "    .colab-df-buttons div {\n",
              "      margin-bottom: 4px;\n",
              "    }\n",
              "\n",
              "    [theme=dark] .colab-df-convert {\n",
              "      background-color: #3B4455;\n",
              "      fill: #D2E3FC;\n",
              "    }\n",
              "\n",
              "    [theme=dark] .colab-df-convert:hover {\n",
              "      background-color: #434B5C;\n",
              "      box-shadow: 0px 1px 3px 1px rgba(0, 0, 0, 0.15);\n",
              "      filter: drop-shadow(0px 1px 2px rgba(0, 0, 0, 0.3));\n",
              "      fill: #FFFFFF;\n",
              "    }\n",
              "  </style>\n",
              "\n",
              "    <script>\n",
              "      const buttonEl =\n",
              "        document.querySelector('#df-dcd86e77-7d74-42e8-8a19-d3432eb0e5a1 button.colab-df-convert');\n",
              "      buttonEl.style.display =\n",
              "        google.colab.kernel.accessAllowed ? 'block' : 'none';\n",
              "\n",
              "      async function convertToInteractive(key) {\n",
              "        const element = document.querySelector('#df-dcd86e77-7d74-42e8-8a19-d3432eb0e5a1');\n",
              "        const dataTable =\n",
              "          await google.colab.kernel.invokeFunction('convertToInteractive',\n",
              "                                                    [key], {});\n",
              "        if (!dataTable) return;\n",
              "\n",
              "        const docLinkHtml = 'Like what you see? Visit the ' +\n",
              "          '<a target=\"_blank\" href=https://colab.research.google.com/notebooks/data_table.ipynb>data table notebook</a>'\n",
              "          + ' to learn more about interactive tables.';\n",
              "        element.innerHTML = '';\n",
              "        dataTable['output_type'] = 'display_data';\n",
              "        await google.colab.output.renderOutput(dataTable, element);\n",
              "        const docLink = document.createElement('div');\n",
              "        docLink.innerHTML = docLinkHtml;\n",
              "        element.appendChild(docLink);\n",
              "      }\n",
              "    </script>\n",
              "  </div>\n",
              "\n",
              "\n",
              "<div id=\"df-6e7facb2-d129-438c-8060-139aa2d13db8\">\n",
              "  <button class=\"colab-df-quickchart\" onclick=\"quickchart('df-6e7facb2-d129-438c-8060-139aa2d13db8')\"\n",
              "            title=\"Suggest charts\"\n",
              "            style=\"display:none;\">\n",
              "\n",
              "<svg xmlns=\"http://www.w3.org/2000/svg\" height=\"24px\"viewBox=\"0 0 24 24\"\n",
              "     width=\"24px\">\n",
              "    <g>\n",
              "        <path d=\"M19 3H5c-1.1 0-2 .9-2 2v14c0 1.1.9 2 2 2h14c1.1 0 2-.9 2-2V5c0-1.1-.9-2-2-2zM9 17H7v-7h2v7zm4 0h-2V7h2v10zm4 0h-2v-4h2v4z\"/>\n",
              "    </g>\n",
              "</svg>\n",
              "  </button>\n",
              "\n",
              "<style>\n",
              "  .colab-df-quickchart {\n",
              "      --bg-color: #E8F0FE;\n",
              "      --fill-color: #1967D2;\n",
              "      --hover-bg-color: #E2EBFA;\n",
              "      --hover-fill-color: #174EA6;\n",
              "      --disabled-fill-color: #AAA;\n",
              "      --disabled-bg-color: #DDD;\n",
              "  }\n",
              "\n",
              "  [theme=dark] .colab-df-quickchart {\n",
              "      --bg-color: #3B4455;\n",
              "      --fill-color: #D2E3FC;\n",
              "      --hover-bg-color: #434B5C;\n",
              "      --hover-fill-color: #FFFFFF;\n",
              "      --disabled-bg-color: #3B4455;\n",
              "      --disabled-fill-color: #666;\n",
              "  }\n",
              "\n",
              "  .colab-df-quickchart {\n",
              "    background-color: var(--bg-color);\n",
              "    border: none;\n",
              "    border-radius: 50%;\n",
              "    cursor: pointer;\n",
              "    display: none;\n",
              "    fill: var(--fill-color);\n",
              "    height: 32px;\n",
              "    padding: 0;\n",
              "    width: 32px;\n",
              "  }\n",
              "\n",
              "  .colab-df-quickchart:hover {\n",
              "    background-color: var(--hover-bg-color);\n",
              "    box-shadow: 0 1px 2px rgba(60, 64, 67, 0.3), 0 1px 3px 1px rgba(60, 64, 67, 0.15);\n",
              "    fill: var(--button-hover-fill-color);\n",
              "  }\n",
              "\n",
              "  .colab-df-quickchart-complete:disabled,\n",
              "  .colab-df-quickchart-complete:disabled:hover {\n",
              "    background-color: var(--disabled-bg-color);\n",
              "    fill: var(--disabled-fill-color);\n",
              "    box-shadow: none;\n",
              "  }\n",
              "\n",
              "  .colab-df-spinner {\n",
              "    border: 2px solid var(--fill-color);\n",
              "    border-color: transparent;\n",
              "    border-bottom-color: var(--fill-color);\n",
              "    animation:\n",
              "      spin 1s steps(1) infinite;\n",
              "  }\n",
              "\n",
              "  @keyframes spin {\n",
              "    0% {\n",
              "      border-color: transparent;\n",
              "      border-bottom-color: var(--fill-color);\n",
              "      border-left-color: var(--fill-color);\n",
              "    }\n",
              "    20% {\n",
              "      border-color: transparent;\n",
              "      border-left-color: var(--fill-color);\n",
              "      border-top-color: var(--fill-color);\n",
              "    }\n",
              "    30% {\n",
              "      border-color: transparent;\n",
              "      border-left-color: var(--fill-color);\n",
              "      border-top-color: var(--fill-color);\n",
              "      border-right-color: var(--fill-color);\n",
              "    }\n",
              "    40% {\n",
              "      border-color: transparent;\n",
              "      border-right-color: var(--fill-color);\n",
              "      border-top-color: var(--fill-color);\n",
              "    }\n",
              "    60% {\n",
              "      border-color: transparent;\n",
              "      border-right-color: var(--fill-color);\n",
              "    }\n",
              "    80% {\n",
              "      border-color: transparent;\n",
              "      border-right-color: var(--fill-color);\n",
              "      border-bottom-color: var(--fill-color);\n",
              "    }\n",
              "    90% {\n",
              "      border-color: transparent;\n",
              "      border-bottom-color: var(--fill-color);\n",
              "    }\n",
              "  }\n",
              "</style>\n",
              "\n",
              "  <script>\n",
              "    async function quickchart(key) {\n",
              "      const quickchartButtonEl =\n",
              "        document.querySelector('#' + key + ' button');\n",
              "      quickchartButtonEl.disabled = true;  // To prevent multiple clicks.\n",
              "      quickchartButtonEl.classList.add('colab-df-spinner');\n",
              "      try {\n",
              "        const charts = await google.colab.kernel.invokeFunction(\n",
              "            'suggestCharts', [key], {});\n",
              "      } catch (error) {\n",
              "        console.error('Error during call to suggestCharts:', error);\n",
              "      }\n",
              "      quickchartButtonEl.classList.remove('colab-df-spinner');\n",
              "      quickchartButtonEl.classList.add('colab-df-quickchart-complete');\n",
              "    }\n",
              "    (() => {\n",
              "      let quickchartButtonEl =\n",
              "        document.querySelector('#df-6e7facb2-d129-438c-8060-139aa2d13db8 button');\n",
              "      quickchartButtonEl.style.display =\n",
              "        google.colab.kernel.accessAllowed ? 'block' : 'none';\n",
              "    })();\n",
              "  </script>\n",
              "</div>\n",
              "\n",
              "  <div id=\"id_b0391ea0-dd45-40cc-ae25-64ed3af1d68a\">\n",
              "    <style>\n",
              "      .colab-df-generate {\n",
              "        background-color: #E8F0FE;\n",
              "        border: none;\n",
              "        border-radius: 50%;\n",
              "        cursor: pointer;\n",
              "        display: none;\n",
              "        fill: #1967D2;\n",
              "        height: 32px;\n",
              "        padding: 0 0 0 0;\n",
              "        width: 32px;\n",
              "      }\n",
              "\n",
              "      .colab-df-generate:hover {\n",
              "        background-color: #E2EBFA;\n",
              "        box-shadow: 0px 1px 2px rgba(60, 64, 67, 0.3), 0px 1px 3px 1px rgba(60, 64, 67, 0.15);\n",
              "        fill: #174EA6;\n",
              "      }\n",
              "\n",
              "      [theme=dark] .colab-df-generate {\n",
              "        background-color: #3B4455;\n",
              "        fill: #D2E3FC;\n",
              "      }\n",
              "\n",
              "      [theme=dark] .colab-df-generate:hover {\n",
              "        background-color: #434B5C;\n",
              "        box-shadow: 0px 1px 3px 1px rgba(0, 0, 0, 0.15);\n",
              "        filter: drop-shadow(0px 1px 2px rgba(0, 0, 0, 0.3));\n",
              "        fill: #FFFFFF;\n",
              "      }\n",
              "    </style>\n",
              "    <button class=\"colab-df-generate\" onclick=\"generateWithVariable('overview_working')\"\n",
              "            title=\"Generate code using this dataframe.\"\n",
              "            style=\"display:none;\">\n",
              "\n",
              "  <svg xmlns=\"http://www.w3.org/2000/svg\" height=\"24px\"viewBox=\"0 0 24 24\"\n",
              "       width=\"24px\">\n",
              "    <path d=\"M7,19H8.4L18.45,9,17,7.55,7,17.6ZM5,21V16.75L18.45,3.32a2,2,0,0,1,2.83,0l1.4,1.43a1.91,1.91,0,0,1,.58,1.4,1.91,1.91,0,0,1-.58,1.4L9.25,21ZM18.45,9,17,7.55Zm-12,3A5.31,5.31,0,0,0,4.9,8.1,5.31,5.31,0,0,0,1,6.5,5.31,5.31,0,0,0,4.9,4.9,5.31,5.31,0,0,0,6.5,1,5.31,5.31,0,0,0,8.1,4.9,5.31,5.31,0,0,0,12,6.5,5.46,5.46,0,0,0,6.5,12Z\"/>\n",
              "  </svg>\n",
              "    </button>\n",
              "    <script>\n",
              "      (() => {\n",
              "      const buttonEl =\n",
              "        document.querySelector('#id_b0391ea0-dd45-40cc-ae25-64ed3af1d68a button.colab-df-generate');\n",
              "      buttonEl.style.display =\n",
              "        google.colab.kernel.accessAllowed ? 'block' : 'none';\n",
              "\n",
              "      buttonEl.onclick = () => {\n",
              "        google.colab.notebook.generateWithVariable('overview_working');\n",
              "      }\n",
              "      })();\n",
              "    </script>\n",
              "  </div>\n",
              "\n",
              "    </div>\n",
              "  </div>\n"
            ],
            "application/vnd.google.colaboratory.intrinsic+json": {
              "type": "dataframe",
              "variable_name": "overview_working"
            }
          },
          "metadata": {},
          "execution_count": 25
        }
      ]
    },
    {
      "cell_type": "code",
      "source": [
        "def encode_overview(overview):\n",
        "    if isinstance(overview, str):\n",
        "        return embed([overview]).numpy()[0]"
      ],
      "metadata": {
        "id": "8w1mA4WtXbMx"
      },
      "execution_count": null,
      "outputs": []
    },
    {
      "cell_type": "code",
      "source": [
        "overview_working['embedded_overview'] = overview_working['overview'].apply(encode_overview)"
      ],
      "metadata": {
        "id": "g08OlnarXbO5",
        "colab": {
          "base_uri": "https://localhost:8080/"
        },
        "outputId": "0fecdc57-c192-4739-b8df-c394d18025e6"
      },
      "execution_count": null,
      "outputs": [
        {
          "output_type": "stream",
          "name": "stderr",
          "text": [
            "<ipython-input-27-177565d2adcd>:1: SettingWithCopyWarning: \n",
            "A value is trying to be set on a copy of a slice from a DataFrame.\n",
            "Try using .loc[row_indexer,col_indexer] = value instead\n",
            "\n",
            "See the caveats in the documentation: https://pandas.pydata.org/pandas-docs/stable/user_guide/indexing.html#returning-a-view-versus-a-copy\n",
            "  overview_working['embedded_overview'] = overview_working['overview'].apply(encode_overview)\n"
          ]
        }
      ]
    },
    {
      "cell_type": "code",
      "source": [
        "embedding_matrix = np.stack(overview_working['embedded_overview'].values)"
      ],
      "metadata": {
        "id": "IVoM9jotXbRA"
      },
      "execution_count": null,
      "outputs": []
    },
    {
      "cell_type": "code",
      "source": [
        "pca = PCA(n_components=100)"
      ],
      "metadata": {
        "id": "-lfaTx-_bG6t"
      },
      "execution_count": null,
      "outputs": []
    },
    {
      "cell_type": "code",
      "source": [
        "reduced_embeddings = pca.fit_transform(embedding_matrix)"
      ],
      "metadata": {
        "id": "l7K2sFGLbG9n"
      },
      "execution_count": null,
      "outputs": []
    },
    {
      "cell_type": "code",
      "source": [
        "overview_working['embedded_overview'] = list(reduced_embeddings)"
      ],
      "metadata": {
        "colab": {
          "base_uri": "https://localhost:8080/"
        },
        "id": "P84aKhC_bI88",
        "outputId": "ae2cb40e-1f75-431f-cdd6-572d94d7ff30"
      },
      "execution_count": null,
      "outputs": [
        {
          "output_type": "stream",
          "name": "stderr",
          "text": [
            "<ipython-input-31-301d70b7c96c>:1: SettingWithCopyWarning: \n",
            "A value is trying to be set on a copy of a slice from a DataFrame.\n",
            "Try using .loc[row_indexer,col_indexer] = value instead\n",
            "\n",
            "See the caveats in the documentation: https://pandas.pydata.org/pandas-docs/stable/user_guide/indexing.html#returning-a-view-versus-a-copy\n",
            "  overview_working['embedded_overview'] = list(reduced_embeddings)\n"
          ]
        }
      ]
    },
    {
      "cell_type": "code",
      "source": [
        "keys = overview_working.copy()"
      ],
      "metadata": {
        "id": "3RLBlwBdwZvr"
      },
      "execution_count": null,
      "outputs": []
    },
    {
      "cell_type": "code",
      "source": [
        "keys['keywords'] = keys['keywords'].str.lower()\n",
        "\n",
        "# Split the genres by comma and strip any leading/trailing whitespace\n",
        "keys['keywords'] = keys['keywords'].apply(lambda x: [key.strip() for key in x.split(',')] if isinstance(x, str) else x)\n",
        "\n",
        "all_keys = keys['keywords'].explode()\n",
        "\n",
        "unique_keys = all_keys.unique().tolist()\n"
      ],
      "metadata": {
        "colab": {
          "base_uri": "https://localhost:8080/"
        },
        "id": "-FUoLpwRwaD-",
        "outputId": "f6408e56-7003-4c9c-fde5-de08810406a9"
      },
      "execution_count": null,
      "outputs": [
        {
          "output_type": "stream",
          "name": "stderr",
          "text": [
            "Exception ignored in: <function ZipFile.__del__ at 0x7aa782b528c0>\n",
            "Traceback (most recent call last):\n",
            "  File \"/usr/lib/python3.10/zipfile.py\", line 1834, in __del__\n",
            "    self.close()\n",
            "  File \"/usr/lib/python3.10/zipfile.py\", line 1851, in close\n",
            "    self.fp.seek(self.start_dir)\n",
            "ValueError: seek of closed file\n"
          ]
        }
      ]
    },
    {
      "cell_type": "code",
      "source": [
        "len(unique_keys)"
      ],
      "metadata": {
        "colab": {
          "base_uri": "https://localhost:8080/"
        },
        "id": "TxL5JTFhwlEq",
        "outputId": "2c7f42a2-d775-4ef3-a8d9-3950bb0d799b"
      },
      "execution_count": null,
      "outputs": [
        {
          "output_type": "execute_result",
          "data": {
            "text/plain": [
              "49788"
            ]
          },
          "metadata": {},
          "execution_count": 40
        }
      ]
    },
    {
      "cell_type": "code",
      "source": [
        "test = keys.copy()\n",
        "test['keywords'] = keys['keywords'].dropna()\n",
        "list_lengths = test['keywords'].dropna().apply(len)\n",
        "\n",
        "avg_length = list_lengths.mean()"
      ],
      "metadata": {
        "id": "uWppMZRAxW26"
      },
      "execution_count": null,
      "outputs": []
    },
    {
      "cell_type": "code",
      "source": [
        "print(avg_length)"
      ],
      "metadata": {
        "colab": {
          "base_uri": "https://localhost:8080/"
        },
        "id": "2k5qizn0xW44",
        "outputId": "d3cc5969-7119-4b98-fa72-14042d7e63b3"
      },
      "execution_count": null,
      "outputs": [
        {
          "output_type": "stream",
          "name": "stdout",
          "text": [
            "4.1412799345750635\n"
          ]
        }
      ]
    },
    {
      "cell_type": "code",
      "source": [
        "target_type = float\n",
        "indices = [index for index, item in enumerate(unique_keys) if isinstance(item, target_type)]\n",
        "indices"
      ],
      "metadata": {
        "colab": {
          "base_uri": "https://localhost:8080/"
        },
        "id": "lUhxU8PCzMOg",
        "outputId": "0dafeee0-7eaf-454b-8c7b-8cb7ef21fd43"
      },
      "execution_count": null,
      "outputs": [
        {
          "output_type": "execute_result",
          "data": {
            "text/plain": [
              "[6563]"
            ]
          },
          "metadata": {},
          "execution_count": 65
        }
      ]
    },
    {
      "cell_type": "code",
      "source": [
        "unique_keys[6563]"
      ],
      "metadata": {
        "colab": {
          "base_uri": "https://localhost:8080/"
        },
        "id": "DCAkGBvBzayr",
        "outputId": "c13b3d51-32c2-4766-81ce-f65900e65157"
      },
      "execution_count": null,
      "outputs": [
        {
          "output_type": "execute_result",
          "data": {
            "text/plain": [
              "nan"
            ]
          },
          "metadata": {},
          "execution_count": 66
        }
      ]
    },
    {
      "cell_type": "code",
      "source": [
        "unique_keys.pop(6563)"
      ],
      "metadata": {
        "colab": {
          "base_uri": "https://localhost:8080/"
        },
        "id": "a2yJyGwbzrXz",
        "outputId": "b30f1bd9-831f-49d2-e6f2-8342402e21b9"
      },
      "execution_count": null,
      "outputs": [
        {
          "output_type": "execute_result",
          "data": {
            "text/plain": [
              "nan"
            ]
          },
          "metadata": {},
          "execution_count": 69
        }
      ]
    },
    {
      "cell_type": "code",
      "source": [
        "embeddings_keys = embed(unique_keys)"
      ],
      "metadata": {
        "id": "Or5augdlyxBB"
      },
      "execution_count": null,
      "outputs": []
    },
    {
      "cell_type": "code",
      "source": [
        "pca_key = PCA(n_components=4)\n",
        "mappings = pca_key.fit_transform(embeddings_keys)\n",
        "\n",
        "# Map genres to their corresponding 4D values\n",
        "vectorized_keys = {key: value for key, value in zip(unique_keys, mappings)}"
      ],
      "metadata": {
        "id": "2xGJss4RxW7U"
      },
      "execution_count": null,
      "outputs": []
    },
    {
      "cell_type": "code",
      "source": [
        "converted_keys = {key: value.tolist() for key, value in vectorized_keys.items()}"
      ],
      "metadata": {
        "id": "ztbZICEu0tdN"
      },
      "execution_count": null,
      "outputs": []
    },
    {
      "cell_type": "code",
      "source": [
        "working_keys = keys.copy()"
      ],
      "metadata": {
        "id": "BcRBHgPYxW9Y"
      },
      "execution_count": null,
      "outputs": []
    },
    {
      "cell_type": "code",
      "source": [
        "working_keys['combined_keywords'] = working_keys['keywords'].apply(\n",
        "    lambda key_list: [converted_keys[key] for key in key_list] if isinstance(key_list, list) else key_list\n",
        ")\n"
      ],
      "metadata": {
        "id": "1MIj1jH2z4dl"
      },
      "execution_count": null,
      "outputs": []
    },
    {
      "cell_type": "code",
      "source": [
        "fourd_keys = working_keys.copy()"
      ],
      "metadata": {
        "id": "V_s1xt9zz4hl"
      },
      "execution_count": null,
      "outputs": []
    },
    {
      "cell_type": "code",
      "source": [
        "fourd_keys['combined_keywords'] = fourd_keys['combined_keywords'].fillna(0)"
      ],
      "metadata": {
        "id": "Or2LFJbTwlGu"
      },
      "execution_count": null,
      "outputs": []
    },
    {
      "cell_type": "code",
      "source": [
        "def combine_keys(keys):\n",
        "  if keys == 0:\n",
        "    return [0, 0, 0, 0]\n",
        "  keys_4d = np.array(keys)\n",
        "  avg_values = np.mean(keys_4d, axis=0)\n",
        "  return avg_values.tolist()"
      ],
      "metadata": {
        "id": "D9vC7aivwlI7"
      },
      "execution_count": null,
      "outputs": []
    },
    {
      "cell_type": "code",
      "source": [
        "fourd_keys['combined_keywords'] = fourd_keys['combined_keywords'].apply(combine_keys)"
      ],
      "metadata": {
        "id": "OQItMPq8wlK_"
      },
      "execution_count": null,
      "outputs": []
    },
    {
      "cell_type": "code",
      "source": [
        "fourd_keys['combined_keywords']"
      ],
      "metadata": {
        "colab": {
          "base_uri": "https://localhost:8080/",
          "height": 458
        },
        "id": "4JU5yetA2ksz",
        "outputId": "116bab8f-db27-4948-9c23-365c3651f1b4"
      },
      "execution_count": null,
      "outputs": [
        {
          "output_type": "execute_result",
          "data": {
            "text/plain": [
              "0         [0.10666070140459552, 0.005285985846792842, 0....\n",
              "1         [0.04693729888059995, 0.0398580394088417, 0.04...\n",
              "2         [-0.048707715853301546, 0.09678675289309485, 0...\n",
              "3         [0.03329644683367816, 0.010015189572965346, 0....\n",
              "4         [0.026345259554478428, -0.05073259881779638, 0...\n",
              "                                ...                        \n",
              "314202                                         [0, 0, 0, 0]\n",
              "314203    [0.364593004045941, -0.013341888590771761, -0....\n",
              "314204                                         [0, 0, 0, 0]\n",
              "314206                                         [0, 0, 0, 0]\n",
              "314209    [-0.12154179231259862, 0.06858728138652266, -0...\n",
              "Name: combined_keywords, Length: 268870, dtype: object"
            ],
            "text/html": [
              "<div>\n",
              "<style scoped>\n",
              "    .dataframe tbody tr th:only-of-type {\n",
              "        vertical-align: middle;\n",
              "    }\n",
              "\n",
              "    .dataframe tbody tr th {\n",
              "        vertical-align: top;\n",
              "    }\n",
              "\n",
              "    .dataframe thead th {\n",
              "        text-align: right;\n",
              "    }\n",
              "</style>\n",
              "<table border=\"1\" class=\"dataframe\">\n",
              "  <thead>\n",
              "    <tr style=\"text-align: right;\">\n",
              "      <th></th>\n",
              "      <th>combined_keywords</th>\n",
              "    </tr>\n",
              "  </thead>\n",
              "  <tbody>\n",
              "    <tr>\n",
              "      <th>0</th>\n",
              "      <td>[0.10666070140459552, 0.005285985846792842, 0....</td>\n",
              "    </tr>\n",
              "    <tr>\n",
              "      <th>1</th>\n",
              "      <td>[0.04693729888059995, 0.0398580394088417, 0.04...</td>\n",
              "    </tr>\n",
              "    <tr>\n",
              "      <th>2</th>\n",
              "      <td>[-0.048707715853301546, 0.09678675289309485, 0...</td>\n",
              "    </tr>\n",
              "    <tr>\n",
              "      <th>3</th>\n",
              "      <td>[0.03329644683367816, 0.010015189572965346, 0....</td>\n",
              "    </tr>\n",
              "    <tr>\n",
              "      <th>4</th>\n",
              "      <td>[0.026345259554478428, -0.05073259881779638, 0...</td>\n",
              "    </tr>\n",
              "    <tr>\n",
              "      <th>...</th>\n",
              "      <td>...</td>\n",
              "    </tr>\n",
              "    <tr>\n",
              "      <th>314202</th>\n",
              "      <td>[0, 0, 0, 0]</td>\n",
              "    </tr>\n",
              "    <tr>\n",
              "      <th>314203</th>\n",
              "      <td>[0.364593004045941, -0.013341888590771761, -0....</td>\n",
              "    </tr>\n",
              "    <tr>\n",
              "      <th>314204</th>\n",
              "      <td>[0, 0, 0, 0]</td>\n",
              "    </tr>\n",
              "    <tr>\n",
              "      <th>314206</th>\n",
              "      <td>[0, 0, 0, 0]</td>\n",
              "    </tr>\n",
              "    <tr>\n",
              "      <th>314209</th>\n",
              "      <td>[-0.12154179231259862, 0.06858728138652266, -0...</td>\n",
              "    </tr>\n",
              "  </tbody>\n",
              "</table>\n",
              "<p>268870 rows × 1 columns</p>\n",
              "</div><br><label><b>dtype:</b> object</label>"
            ]
          },
          "metadata": {},
          "execution_count": 100
        }
      ]
    },
    {
      "cell_type": "code",
      "source": [
        "########### CLUSTERING"
      ],
      "metadata": {
        "id": "B6Rpq_1wwaIn"
      },
      "execution_count": null,
      "outputs": []
    },
    {
      "cell_type": "code",
      "source": [
        "cluster_working = fourd_keys.copy()"
      ],
      "metadata": {
        "id": "eqFrcQYn3_Wz"
      },
      "execution_count": null,
      "outputs": []
    },
    {
      "cell_type": "code",
      "source": [
        "overview_points = np.array(cluster_working['embedded_overview'].tolist(), dtype=np.float64)"
      ],
      "metadata": {
        "id": "Lj2LXjDG7lgT"
      },
      "execution_count": null,
      "outputs": []
    },
    {
      "cell_type": "code",
      "source": [
        "num_clusters = 10 # we return the top ten list\n",
        "kmeans = KMeans(n_clusters=num_clusters, random_state=42)"
      ],
      "metadata": {
        "id": "4MiJxZ9rbJBN"
      },
      "execution_count": null,
      "outputs": []
    },
    {
      "cell_type": "code",
      "source": [
        "cluster_working['overview_cluster'] = kmeans.fit_predict(overview_points)"
      ],
      "metadata": {
        "id": "iSlW6YC8XbTQ"
      },
      "execution_count": null,
      "outputs": []
    },
    {
      "cell_type": "code",
      "source": [
        "genre_points = np.array(cluster_working['combined_genres'].tolist(), dtype=np.float64)"
      ],
      "metadata": {
        "id": "Iv863yOy7L2m"
      },
      "execution_count": null,
      "outputs": []
    },
    {
      "cell_type": "code",
      "source": [
        "cluster_working['genre_cluster'] = kmeans.fit_predict(genre_points)"
      ],
      "metadata": {
        "id": "DPE69AM97L45"
      },
      "execution_count": null,
      "outputs": []
    },
    {
      "cell_type": "code",
      "source": [
        "keywords_points = np.array(cluster_working['combined_keywords'].tolist(), dtype=np.float64)"
      ],
      "metadata": {
        "id": "QNXKlhkx7L6_"
      },
      "execution_count": null,
      "outputs": []
    },
    {
      "cell_type": "code",
      "source": [
        "cluster_working['keyword_cluster'] = kmeans.fit_predict(keywords_points)"
      ],
      "metadata": {
        "id": "i6UH_SJm7MSq"
      },
      "execution_count": null,
      "outputs": []
    },
    {
      "cell_type": "code",
      "source": [
        "cluster_working.to_csv(\"/content/drive/MyDrive/395 Senior Project/Dataset/movie_database.csv\")"
      ],
      "metadata": {
        "id": "SfykBtR77Mf8"
      },
      "execution_count": null,
      "outputs": []
    },
    {
      "cell_type": "code",
      "source": [
        "cluster_working.to_pickle(\"/content/drive/MyDrive/395 Senior Project/Dataset/movie_pickle.pkl\")"
      ],
      "metadata": {
        "id": "Xlmo7izwCOlD"
      },
      "execution_count": null,
      "outputs": []
    },
    {
      "cell_type": "code",
      "source": [
        "cluster_working.head()"
      ],
      "metadata": {
        "colab": {
          "base_uri": "https://localhost:8080/",
          "height": 707
        },
        "id": "CGOpYwGw95I9",
        "outputId": "925927a0-5bb0-4a70-e700-29f644b40f5b"
      },
      "execution_count": null,
      "outputs": [
        {
          "output_type": "execute_result",
          "data": {
            "text/plain": [
              "   Unnamed: 0.1  Unnamed: 0      id            title  vote_average  \\\n",
              "0             0           0   27205        Inception         8.364   \n",
              "1             1           1  157336     Interstellar         8.417   \n",
              "2             2           2     155  The Dark Knight         8.512   \n",
              "3             3           3   19995           Avatar         7.573   \n",
              "4             4           4   24428     The Avengers         7.710   \n",
              "\n",
              "   vote_count release_date     revenue  runtime  adult  ...  \\\n",
              "0       34495   2010-07-15   825532764      148  False  ...   \n",
              "1       32571   2014-11-05   701729206      169  False  ...   \n",
              "2       30619   2008-07-16  1004558444      152  False  ...   \n",
              "3       29815   2009-12-15  2923706026      162  False  ...   \n",
              "4       29166   2012-04-25  1518815515      143  False  ...   \n",
              "\n",
              "                                production_companies  \\\n",
              "0  Legendary Pictures, Syncopy, Warner Bros. Pict...   \n",
              "1  Legendary Pictures, Syncopy, Lynda Obst Produc...   \n",
              "2  DC Comics, Legendary Pictures, Syncopy, Isobel...   \n",
              "3  Dune Entertainment, Lightstorm Entertainment, ...   \n",
              "4                                     Marvel Studios   \n",
              "\n",
              "                       production_countries  \\\n",
              "0  United Kingdom, United States of America   \n",
              "1  United Kingdom, United States of America   \n",
              "2  United Kingdom, United States of America   \n",
              "3  United States of America, United Kingdom   \n",
              "4                  United States of America   \n",
              "\n",
              "                     spoken_languages  \\\n",
              "0  English, French, Japanese, Swahili   \n",
              "1                             English   \n",
              "2                   English, Mandarin   \n",
              "3                    English, Spanish   \n",
              "4             English, Hindi, Russian   \n",
              "\n",
              "                                            keywords  \\\n",
              "0  [rescue, mission, dream, airplane, paris, fran...   \n",
              "1  [rescue, future, spacecraft, race against time...   \n",
              "2  [joker, sadism, chaos, secret identity, crime ...   \n",
              "3  [future, society, culture clash, space travel,...   \n",
              "4  [new york city, superhero, shield, based on co...   \n",
              "\n",
              "                               combined_genres  \\\n",
              "0  [0.05429920274518063, -0.20031014469270156]   \n",
              "1  [-0.03809557434292445, -0.1515003790768589]   \n",
              "2  [-0.13632130603210876, -0.0872731483749529]   \n",
              "3   [0.04541466978665534, -0.2098152367346234]   \n",
              "4  [0.05429920274518063, -0.20031014469270156]   \n",
              "\n",
              "                                   embedded_overview  \\\n",
              "0  [0.0009236187, 0.07435533, -0.19195612, -0.020...   \n",
              "1  [0.1643474, 0.09066084, -0.0048870444, -0.2954...   \n",
              "2  [0.012529895, 0.1529288, -0.33974195, 0.065222...   \n",
              "3  [0.0095594525, 0.12724766, -0.13946123, -0.134...   \n",
              "4  [0.036552325, 0.09881613, -0.2245693, -0.11613...   \n",
              "\n",
              "                                   combined_keywords overview_cluster  \\\n",
              "0  [0.10666070140459552, 0.005285985846792842, 0....                4   \n",
              "1  [0.04693729888059995, 0.0398580394088417, 0.04...                9   \n",
              "2  [-0.048707715853301546, 0.09678675289309485, 0...                4   \n",
              "3  [0.03329644683367816, 0.010015189572965346, 0....                9   \n",
              "4  [0.026345259554478428, -0.05073259881779638, 0...                9   \n",
              "\n",
              "  genre_cluster keyword_cluster  \n",
              "0             2               2  \n",
              "1             0               2  \n",
              "2             5               8  \n",
              "3             2               2  \n",
              "4             2               3  \n",
              "\n",
              "[5 rows x 28 columns]"
            ],
            "text/html": [
              "\n",
              "  <div id=\"df-d9faff9b-489f-4378-84e4-7513e85fb3c4\" class=\"colab-df-container\">\n",
              "    <div>\n",
              "<style scoped>\n",
              "    .dataframe tbody tr th:only-of-type {\n",
              "        vertical-align: middle;\n",
              "    }\n",
              "\n",
              "    .dataframe tbody tr th {\n",
              "        vertical-align: top;\n",
              "    }\n",
              "\n",
              "    .dataframe thead th {\n",
              "        text-align: right;\n",
              "    }\n",
              "</style>\n",
              "<table border=\"1\" class=\"dataframe\">\n",
              "  <thead>\n",
              "    <tr style=\"text-align: right;\">\n",
              "      <th></th>\n",
              "      <th>Unnamed: 0.1</th>\n",
              "      <th>Unnamed: 0</th>\n",
              "      <th>id</th>\n",
              "      <th>title</th>\n",
              "      <th>vote_average</th>\n",
              "      <th>vote_count</th>\n",
              "      <th>release_date</th>\n",
              "      <th>revenue</th>\n",
              "      <th>runtime</th>\n",
              "      <th>adult</th>\n",
              "      <th>...</th>\n",
              "      <th>production_companies</th>\n",
              "      <th>production_countries</th>\n",
              "      <th>spoken_languages</th>\n",
              "      <th>keywords</th>\n",
              "      <th>combined_genres</th>\n",
              "      <th>embedded_overview</th>\n",
              "      <th>combined_keywords</th>\n",
              "      <th>overview_cluster</th>\n",
              "      <th>genre_cluster</th>\n",
              "      <th>keyword_cluster</th>\n",
              "    </tr>\n",
              "  </thead>\n",
              "  <tbody>\n",
              "    <tr>\n",
              "      <th>0</th>\n",
              "      <td>0</td>\n",
              "      <td>0</td>\n",
              "      <td>27205</td>\n",
              "      <td>Inception</td>\n",
              "      <td>8.364</td>\n",
              "      <td>34495</td>\n",
              "      <td>2010-07-15</td>\n",
              "      <td>825532764</td>\n",
              "      <td>148</td>\n",
              "      <td>False</td>\n",
              "      <td>...</td>\n",
              "      <td>Legendary Pictures, Syncopy, Warner Bros. Pict...</td>\n",
              "      <td>United Kingdom, United States of America</td>\n",
              "      <td>English, French, Japanese, Swahili</td>\n",
              "      <td>[rescue, mission, dream, airplane, paris, fran...</td>\n",
              "      <td>[0.05429920274518063, -0.20031014469270156]</td>\n",
              "      <td>[0.0009236187, 0.07435533, -0.19195612, -0.020...</td>\n",
              "      <td>[0.10666070140459552, 0.005285985846792842, 0....</td>\n",
              "      <td>4</td>\n",
              "      <td>2</td>\n",
              "      <td>2</td>\n",
              "    </tr>\n",
              "    <tr>\n",
              "      <th>1</th>\n",
              "      <td>1</td>\n",
              "      <td>1</td>\n",
              "      <td>157336</td>\n",
              "      <td>Interstellar</td>\n",
              "      <td>8.417</td>\n",
              "      <td>32571</td>\n",
              "      <td>2014-11-05</td>\n",
              "      <td>701729206</td>\n",
              "      <td>169</td>\n",
              "      <td>False</td>\n",
              "      <td>...</td>\n",
              "      <td>Legendary Pictures, Syncopy, Lynda Obst Produc...</td>\n",
              "      <td>United Kingdom, United States of America</td>\n",
              "      <td>English</td>\n",
              "      <td>[rescue, future, spacecraft, race against time...</td>\n",
              "      <td>[-0.03809557434292445, -0.1515003790768589]</td>\n",
              "      <td>[0.1643474, 0.09066084, -0.0048870444, -0.2954...</td>\n",
              "      <td>[0.04693729888059995, 0.0398580394088417, 0.04...</td>\n",
              "      <td>9</td>\n",
              "      <td>0</td>\n",
              "      <td>2</td>\n",
              "    </tr>\n",
              "    <tr>\n",
              "      <th>2</th>\n",
              "      <td>2</td>\n",
              "      <td>2</td>\n",
              "      <td>155</td>\n",
              "      <td>The Dark Knight</td>\n",
              "      <td>8.512</td>\n",
              "      <td>30619</td>\n",
              "      <td>2008-07-16</td>\n",
              "      <td>1004558444</td>\n",
              "      <td>152</td>\n",
              "      <td>False</td>\n",
              "      <td>...</td>\n",
              "      <td>DC Comics, Legendary Pictures, Syncopy, Isobel...</td>\n",
              "      <td>United Kingdom, United States of America</td>\n",
              "      <td>English, Mandarin</td>\n",
              "      <td>[joker, sadism, chaos, secret identity, crime ...</td>\n",
              "      <td>[-0.13632130603210876, -0.0872731483749529]</td>\n",
              "      <td>[0.012529895, 0.1529288, -0.33974195, 0.065222...</td>\n",
              "      <td>[-0.048707715853301546, 0.09678675289309485, 0...</td>\n",
              "      <td>4</td>\n",
              "      <td>5</td>\n",
              "      <td>8</td>\n",
              "    </tr>\n",
              "    <tr>\n",
              "      <th>3</th>\n",
              "      <td>3</td>\n",
              "      <td>3</td>\n",
              "      <td>19995</td>\n",
              "      <td>Avatar</td>\n",
              "      <td>7.573</td>\n",
              "      <td>29815</td>\n",
              "      <td>2009-12-15</td>\n",
              "      <td>2923706026</td>\n",
              "      <td>162</td>\n",
              "      <td>False</td>\n",
              "      <td>...</td>\n",
              "      <td>Dune Entertainment, Lightstorm Entertainment, ...</td>\n",
              "      <td>United States of America, United Kingdom</td>\n",
              "      <td>English, Spanish</td>\n",
              "      <td>[future, society, culture clash, space travel,...</td>\n",
              "      <td>[0.04541466978665534, -0.2098152367346234]</td>\n",
              "      <td>[0.0095594525, 0.12724766, -0.13946123, -0.134...</td>\n",
              "      <td>[0.03329644683367816, 0.010015189572965346, 0....</td>\n",
              "      <td>9</td>\n",
              "      <td>2</td>\n",
              "      <td>2</td>\n",
              "    </tr>\n",
              "    <tr>\n",
              "      <th>4</th>\n",
              "      <td>4</td>\n",
              "      <td>4</td>\n",
              "      <td>24428</td>\n",
              "      <td>The Avengers</td>\n",
              "      <td>7.710</td>\n",
              "      <td>29166</td>\n",
              "      <td>2012-04-25</td>\n",
              "      <td>1518815515</td>\n",
              "      <td>143</td>\n",
              "      <td>False</td>\n",
              "      <td>...</td>\n",
              "      <td>Marvel Studios</td>\n",
              "      <td>United States of America</td>\n",
              "      <td>English, Hindi, Russian</td>\n",
              "      <td>[new york city, superhero, shield, based on co...</td>\n",
              "      <td>[0.05429920274518063, -0.20031014469270156]</td>\n",
              "      <td>[0.036552325, 0.09881613, -0.2245693, -0.11613...</td>\n",
              "      <td>[0.026345259554478428, -0.05073259881779638, 0...</td>\n",
              "      <td>9</td>\n",
              "      <td>2</td>\n",
              "      <td>3</td>\n",
              "    </tr>\n",
              "  </tbody>\n",
              "</table>\n",
              "<p>5 rows × 28 columns</p>\n",
              "</div>\n",
              "    <div class=\"colab-df-buttons\">\n",
              "\n",
              "  <div class=\"colab-df-container\">\n",
              "    <button class=\"colab-df-convert\" onclick=\"convertToInteractive('df-d9faff9b-489f-4378-84e4-7513e85fb3c4')\"\n",
              "            title=\"Convert this dataframe to an interactive table.\"\n",
              "            style=\"display:none;\">\n",
              "\n",
              "  <svg xmlns=\"http://www.w3.org/2000/svg\" height=\"24px\" viewBox=\"0 -960 960 960\">\n",
              "    <path d=\"M120-120v-720h720v720H120Zm60-500h600v-160H180v160Zm220 220h160v-160H400v160Zm0 220h160v-160H400v160ZM180-400h160v-160H180v160Zm440 0h160v-160H620v160ZM180-180h160v-160H180v160Zm440 0h160v-160H620v160Z\"/>\n",
              "  </svg>\n",
              "    </button>\n",
              "\n",
              "  <style>\n",
              "    .colab-df-container {\n",
              "      display:flex;\n",
              "      gap: 12px;\n",
              "    }\n",
              "\n",
              "    .colab-df-convert {\n",
              "      background-color: #E8F0FE;\n",
              "      border: none;\n",
              "      border-radius: 50%;\n",
              "      cursor: pointer;\n",
              "      display: none;\n",
              "      fill: #1967D2;\n",
              "      height: 32px;\n",
              "      padding: 0 0 0 0;\n",
              "      width: 32px;\n",
              "    }\n",
              "\n",
              "    .colab-df-convert:hover {\n",
              "      background-color: #E2EBFA;\n",
              "      box-shadow: 0px 1px 2px rgba(60, 64, 67, 0.3), 0px 1px 3px 1px rgba(60, 64, 67, 0.15);\n",
              "      fill: #174EA6;\n",
              "    }\n",
              "\n",
              "    .colab-df-buttons div {\n",
              "      margin-bottom: 4px;\n",
              "    }\n",
              "\n",
              "    [theme=dark] .colab-df-convert {\n",
              "      background-color: #3B4455;\n",
              "      fill: #D2E3FC;\n",
              "    }\n",
              "\n",
              "    [theme=dark] .colab-df-convert:hover {\n",
              "      background-color: #434B5C;\n",
              "      box-shadow: 0px 1px 3px 1px rgba(0, 0, 0, 0.15);\n",
              "      filter: drop-shadow(0px 1px 2px rgba(0, 0, 0, 0.3));\n",
              "      fill: #FFFFFF;\n",
              "    }\n",
              "  </style>\n",
              "\n",
              "    <script>\n",
              "      const buttonEl =\n",
              "        document.querySelector('#df-d9faff9b-489f-4378-84e4-7513e85fb3c4 button.colab-df-convert');\n",
              "      buttonEl.style.display =\n",
              "        google.colab.kernel.accessAllowed ? 'block' : 'none';\n",
              "\n",
              "      async function convertToInteractive(key) {\n",
              "        const element = document.querySelector('#df-d9faff9b-489f-4378-84e4-7513e85fb3c4');\n",
              "        const dataTable =\n",
              "          await google.colab.kernel.invokeFunction('convertToInteractive',\n",
              "                                                    [key], {});\n",
              "        if (!dataTable) return;\n",
              "\n",
              "        const docLinkHtml = 'Like what you see? Visit the ' +\n",
              "          '<a target=\"_blank\" href=https://colab.research.google.com/notebooks/data_table.ipynb>data table notebook</a>'\n",
              "          + ' to learn more about interactive tables.';\n",
              "        element.innerHTML = '';\n",
              "        dataTable['output_type'] = 'display_data';\n",
              "        await google.colab.output.renderOutput(dataTable, element);\n",
              "        const docLink = document.createElement('div');\n",
              "        docLink.innerHTML = docLinkHtml;\n",
              "        element.appendChild(docLink);\n",
              "      }\n",
              "    </script>\n",
              "  </div>\n",
              "\n",
              "\n",
              "<div id=\"df-d8ddb1ec-5ce2-49b5-846e-7aa738bf6ad9\">\n",
              "  <button class=\"colab-df-quickchart\" onclick=\"quickchart('df-d8ddb1ec-5ce2-49b5-846e-7aa738bf6ad9')\"\n",
              "            title=\"Suggest charts\"\n",
              "            style=\"display:none;\">\n",
              "\n",
              "<svg xmlns=\"http://www.w3.org/2000/svg\" height=\"24px\"viewBox=\"0 0 24 24\"\n",
              "     width=\"24px\">\n",
              "    <g>\n",
              "        <path d=\"M19 3H5c-1.1 0-2 .9-2 2v14c0 1.1.9 2 2 2h14c1.1 0 2-.9 2-2V5c0-1.1-.9-2-2-2zM9 17H7v-7h2v7zm4 0h-2V7h2v10zm4 0h-2v-4h2v4z\"/>\n",
              "    </g>\n",
              "</svg>\n",
              "  </button>\n",
              "\n",
              "<style>\n",
              "  .colab-df-quickchart {\n",
              "      --bg-color: #E8F0FE;\n",
              "      --fill-color: #1967D2;\n",
              "      --hover-bg-color: #E2EBFA;\n",
              "      --hover-fill-color: #174EA6;\n",
              "      --disabled-fill-color: #AAA;\n",
              "      --disabled-bg-color: #DDD;\n",
              "  }\n",
              "\n",
              "  [theme=dark] .colab-df-quickchart {\n",
              "      --bg-color: #3B4455;\n",
              "      --fill-color: #D2E3FC;\n",
              "      --hover-bg-color: #434B5C;\n",
              "      --hover-fill-color: #FFFFFF;\n",
              "      --disabled-bg-color: #3B4455;\n",
              "      --disabled-fill-color: #666;\n",
              "  }\n",
              "\n",
              "  .colab-df-quickchart {\n",
              "    background-color: var(--bg-color);\n",
              "    border: none;\n",
              "    border-radius: 50%;\n",
              "    cursor: pointer;\n",
              "    display: none;\n",
              "    fill: var(--fill-color);\n",
              "    height: 32px;\n",
              "    padding: 0;\n",
              "    width: 32px;\n",
              "  }\n",
              "\n",
              "  .colab-df-quickchart:hover {\n",
              "    background-color: var(--hover-bg-color);\n",
              "    box-shadow: 0 1px 2px rgba(60, 64, 67, 0.3), 0 1px 3px 1px rgba(60, 64, 67, 0.15);\n",
              "    fill: var(--button-hover-fill-color);\n",
              "  }\n",
              "\n",
              "  .colab-df-quickchart-complete:disabled,\n",
              "  .colab-df-quickchart-complete:disabled:hover {\n",
              "    background-color: var(--disabled-bg-color);\n",
              "    fill: var(--disabled-fill-color);\n",
              "    box-shadow: none;\n",
              "  }\n",
              "\n",
              "  .colab-df-spinner {\n",
              "    border: 2px solid var(--fill-color);\n",
              "    border-color: transparent;\n",
              "    border-bottom-color: var(--fill-color);\n",
              "    animation:\n",
              "      spin 1s steps(1) infinite;\n",
              "  }\n",
              "\n",
              "  @keyframes spin {\n",
              "    0% {\n",
              "      border-color: transparent;\n",
              "      border-bottom-color: var(--fill-color);\n",
              "      border-left-color: var(--fill-color);\n",
              "    }\n",
              "    20% {\n",
              "      border-color: transparent;\n",
              "      border-left-color: var(--fill-color);\n",
              "      border-top-color: var(--fill-color);\n",
              "    }\n",
              "    30% {\n",
              "      border-color: transparent;\n",
              "      border-left-color: var(--fill-color);\n",
              "      border-top-color: var(--fill-color);\n",
              "      border-right-color: var(--fill-color);\n",
              "    }\n",
              "    40% {\n",
              "      border-color: transparent;\n",
              "      border-right-color: var(--fill-color);\n",
              "      border-top-color: var(--fill-color);\n",
              "    }\n",
              "    60% {\n",
              "      border-color: transparent;\n",
              "      border-right-color: var(--fill-color);\n",
              "    }\n",
              "    80% {\n",
              "      border-color: transparent;\n",
              "      border-right-color: var(--fill-color);\n",
              "      border-bottom-color: var(--fill-color);\n",
              "    }\n",
              "    90% {\n",
              "      border-color: transparent;\n",
              "      border-bottom-color: var(--fill-color);\n",
              "    }\n",
              "  }\n",
              "</style>\n",
              "\n",
              "  <script>\n",
              "    async function quickchart(key) {\n",
              "      const quickchartButtonEl =\n",
              "        document.querySelector('#' + key + ' button');\n",
              "      quickchartButtonEl.disabled = true;  // To prevent multiple clicks.\n",
              "      quickchartButtonEl.classList.add('colab-df-spinner');\n",
              "      try {\n",
              "        const charts = await google.colab.kernel.invokeFunction(\n",
              "            'suggestCharts', [key], {});\n",
              "      } catch (error) {\n",
              "        console.error('Error during call to suggestCharts:', error);\n",
              "      }\n",
              "      quickchartButtonEl.classList.remove('colab-df-spinner');\n",
              "      quickchartButtonEl.classList.add('colab-df-quickchart-complete');\n",
              "    }\n",
              "    (() => {\n",
              "      let quickchartButtonEl =\n",
              "        document.querySelector('#df-d8ddb1ec-5ce2-49b5-846e-7aa738bf6ad9 button');\n",
              "      quickchartButtonEl.style.display =\n",
              "        google.colab.kernel.accessAllowed ? 'block' : 'none';\n",
              "    })();\n",
              "  </script>\n",
              "</div>\n",
              "\n",
              "    </div>\n",
              "  </div>\n"
            ],
            "application/vnd.google.colaboratory.intrinsic+json": {
              "type": "dataframe",
              "variable_name": "cluster_working"
            }
          },
          "metadata": {},
          "execution_count": 124
        }
      ]
    },
    {
      "cell_type": "code",
      "source": [
        "####### SEARCHING"
      ],
      "metadata": {
        "id": "basz9O3w9lXd"
      },
      "execution_count": null,
      "outputs": []
    },
    {
      "cell_type": "code",
      "source": [
        "def find_similar_movies(query_point, k=20):\n",
        "    query_point = np.array(query_point, dtype=np.float64)\n",
        "\n",
        "    query_cluster = kmeans.predict([query_point])[0]\n",
        "\n",
        "    cluster_movies = overview_working[overview_working['cluster'] == query_cluster]\n",
        "\n",
        "    cluster_movies['distance'] = cluster_movies['embedded_overview'].apply(\n",
        "        lambda x: euclidean(query_point, x)\n",
        "    )\n",
        "\n",
        "    similar_movies = cluster_movies.nsmallest(k, 'distance')\n",
        "    return similar_movies[['title', 'embedded_overview', 'distance']]"
      ],
      "metadata": {
        "id": "wVmAEY9ZWgO5"
      },
      "execution_count": null,
      "outputs": []
    },
    {
      "cell_type": "code",
      "source": [
        "Inception = overview_working[overview_working['title'] == \"Inception\"].iloc[0]['embedded_overview']"
      ],
      "metadata": {
        "id": "VzSqFMFn9I_8"
      },
      "execution_count": null,
      "outputs": []
    },
    {
      "cell_type": "code",
      "source": [
        "Hacksaw_Ridge = overview_working[overview_working['title'] == \"Hacksaw Ridge\"].iloc[0]['embedded_overview']"
      ],
      "metadata": {
        "id": "QjRxbHmG86jn"
      },
      "execution_count": null,
      "outputs": []
    },
    {
      "cell_type": "code",
      "source": [
        "hacksaw_input = Hacksaw_Ridge.tolist()"
      ],
      "metadata": {
        "id": "MnnJ_qA3Ajop"
      },
      "execution_count": null,
      "outputs": []
    },
    {
      "cell_type": "code",
      "source": [
        "similar_hacksaw = find_similar_movies(hacksaw_input)"
      ],
      "metadata": {
        "id": "uHLRBkHu8ggZ",
        "colab": {
          "base_uri": "https://localhost:8080/"
        },
        "outputId": "2a9eb4cd-e067-41b4-b1a1-d723910114dc"
      },
      "execution_count": null,
      "outputs": [
        {
          "output_type": "stream",
          "name": "stderr",
          "text": [
            "<ipython-input-68-97e48458067a>:8: SettingWithCopyWarning: \n",
            "A value is trying to be set on a copy of a slice from a DataFrame.\n",
            "Try using .loc[row_indexer,col_indexer] = value instead\n",
            "\n",
            "See the caveats in the documentation: https://pandas.pydata.org/pandas-docs/stable/user_guide/indexing.html#returning-a-view-versus-a-copy\n",
            "  cluster_movies['distance'] = cluster_movies['embedded_overview'].apply(\n"
          ]
        }
      ]
    },
    {
      "cell_type": "code",
      "source": [
        "print(similar_hacksaw)"
      ],
      "metadata": {
        "id": "wbE8LwAP8gis",
        "colab": {
          "base_uri": "https://localhost:8080/"
        },
        "outputId": "0a39b1b7-0786-4d97-98e0-b773e58faddd"
      },
      "execution_count": null,
      "outputs": [
        {
          "output_type": "stream",
          "name": "stdout",
          "text": [
            "                                                    title  \\\n",
            "166                                         Hacksaw Ridge   \n",
            "2552                                 Flags of Our Fathers   \n",
            "242938                                      Baltic Spirit   \n",
            "301919                                    Going for Broke   \n",
            "208708            From Mexico to Vietnam: a Chicano story   \n",
            "7386                                The Last Full Measure   \n",
            "71769                          The Conscientious Objector   \n",
            "204041             442: Live with Honor, Die with Dignity   \n",
            "290218                                 Most Honorable Son   \n",
            "24142                                Farewell to the King   \n",
            "227275  761st Tank Battalion: The Original Black Panthers   \n",
            "81906                                   The Iron Triangle   \n",
            "39778                                They Came to Cordura   \n",
            "299058                                     Honor Deferred   \n",
            "276615                                                Ike   \n",
            "87390                                        The Outsider   \n",
            "193462                             International Squadron   \n",
            "81761                                      Women of Valor   \n",
            "191874                            To Award (Posthumously)   \n",
            "59668                     The Execution of Private Slovik   \n",
            "\n",
            "                                        embedded_overview  distance  \n",
            "166     [0.18255673, 0.0787689, -0.16102326, 0.0844173...  0.000000  \n",
            "2552    [0.29792917, -0.0698916, -0.19593376, 0.064544...  0.646111  \n",
            "242938  [0.0829525, 0.0340136, -0.21501869, 0.11154458...  0.655131  \n",
            "301919  [0.25901258, -0.10674432, -0.19806606, -0.0768...  0.656045  \n",
            "208708  [0.27207708, -0.038255975, -0.099686734, 0.105...  0.684193  \n",
            "7386    [0.04300213, -0.009284377, -0.22151297, 0.1945...  0.698072  \n",
            "71769   [0.06867293, -0.15868878, -0.22004211, -0.0060...  0.698137  \n",
            "204041  [0.10140042, -0.05805704, -0.19221926, -0.1345...  0.699102  \n",
            "290218  [0.2012026, -0.10703018, -0.1829921, 0.0022732...  0.706497  \n",
            "24142   [0.087222606, -0.030397832, -0.30729264, 0.091...  0.707794  \n",
            "227275  [0.38872188, 0.030362189, -0.1916787, 0.017423...  0.710762  \n",
            "81906   [0.1607966, -0.033349127, -0.21626493, 0.15915...  0.713340  \n",
            "39778   [0.19047993, 0.25615108, -0.15349638, 0.074426...  0.717395  \n",
            "299058  [0.21871373, -0.029228985, -0.16135138, 0.0570...  0.717509  \n",
            "276615  [0.25051484, -0.07480797, -0.12688488, 0.10070...  0.718774  \n",
            "87390   [0.12850001, -0.073336124, -0.19612518, 0.0061...  0.721143  \n",
            "193462  [0.22184923, 0.038871795, -0.17339134, -0.0195...  0.722324  \n",
            "81761   [0.09672713, -0.03919372, -0.15323997, 0.06064...  0.726874  \n",
            "191874  [0.056265168, 0.21520717, -0.11801324, 0.14394...  0.728823  \n",
            "59668   [0.17756605, 0.09545832, -0.16343465, 0.148977...  0.733254  \n"
          ]
        }
      ]
    },
    {
      "cell_type": "code",
      "source": [
        "overview_working.info()"
      ],
      "metadata": {
        "id": "vsQfwRnTVaQm",
        "colab": {
          "base_uri": "https://localhost:8080/"
        },
        "outputId": "dde8cd6e-55e8-4fd5-8eff-b207d0cbe98d"
      },
      "execution_count": null,
      "outputs": [
        {
          "output_type": "stream",
          "name": "stdout",
          "text": [
            "<class 'pandas.core.frame.DataFrame'>\n",
            "Index: 301607 entries, 0 to 314209\n",
            "Data columns (total 24 columns):\n",
            " #   Column                Non-Null Count   Dtype  \n",
            "---  ------                --------------   -----  \n",
            " 0   Unnamed: 0.1          301607 non-null  int64  \n",
            " 1   Unnamed: 0            301607 non-null  int64  \n",
            " 2   id                    301607 non-null  int64  \n",
            " 3   title                 301607 non-null  object \n",
            " 4   vote_average          200552 non-null  float64\n",
            " 5   vote_count            301607 non-null  int64  \n",
            " 6   release_date          301607 non-null  object \n",
            " 7   revenue               301607 non-null  int64  \n",
            " 8   runtime               301607 non-null  float64\n",
            " 9   adult                 301607 non-null  bool   \n",
            " 10  budget                301607 non-null  int64  \n",
            " 11  imdb_id               301607 non-null  object \n",
            " 12  original_language     301607 non-null  object \n",
            " 13  original_title        301607 non-null  object \n",
            " 14  overview              301607 non-null  object \n",
            " 15  popularity            301607 non-null  float64\n",
            " 16  tagline               80277 non-null   object \n",
            " 17  genres                268871 non-null  object \n",
            " 18  production_companies  202001 non-null  object \n",
            " 19  production_countries  240806 non-null  object \n",
            " 20  spoken_languages      254440 non-null  object \n",
            " 21  keywords              132498 non-null  object \n",
            " 22  embedded_overview     301607 non-null  object \n",
            " 23  cluster               301607 non-null  int32  \n",
            "dtypes: bool(1), float64(3), int32(1), int64(6), object(13)\n",
            "memory usage: 54.4+ MB\n"
          ]
        }
      ]
    },
    {
      "cell_type": "code",
      "source": [],
      "metadata": {
        "id": "E5zUXZ1eFMdy"
      },
      "execution_count": null,
      "outputs": []
    },
    {
      "cell_type": "code",
      "source": [],
      "metadata": {
        "id": "UIWQdVWzFMgC"
      },
      "execution_count": null,
      "outputs": []
    },
    {
      "cell_type": "code",
      "source": [],
      "metadata": {
        "id": "9T49hlJ8FMiG"
      },
      "execution_count": null,
      "outputs": []
    },
    {
      "cell_type": "code",
      "source": [],
      "metadata": {
        "id": "YuI_UnYgFMj7"
      },
      "execution_count": null,
      "outputs": []
    },
    {
      "cell_type": "code",
      "source": [],
      "metadata": {
        "id": "mIz4hCn3FMmH"
      },
      "execution_count": null,
      "outputs": []
    },
    {
      "cell_type": "code",
      "source": [],
      "metadata": {
        "id": "9I7y7ZL1FMoG"
      },
      "execution_count": null,
      "outputs": []
    },
    {
      "cell_type": "markdown",
      "source": [
        "### Dimensionality reduction"
      ],
      "metadata": {
        "id": "jYYPW9iWGGOV"
      }
    },
    {
      "cell_type": "code",
      "source": [
        "non_null = vectorirzed_df[vectorirzed_df['genres'].notnull()]\n",
        "\n",
        "# Find the length of the genres list for each movie\n",
        "non_null['num_genres'] = non_null['genres'].apply(lambda x: len(x) if isinstance(x, list) else 0)\n",
        "\n",
        "max_genres = non_null['num_genres'].max()\n",
        "min_genres = non_null['num_genres'].min()\n",
        "\n",
        "print(f\"Max number of genres: {max_genres}\")\n",
        "print(f\"Min number of genres: {min_genres}\")"
      ],
      "metadata": {
        "id": "8MlAAE8tGGhj",
        "colab": {
          "base_uri": "https://localhost:8080/"
        },
        "outputId": "9393d773-4d67-44af-d320-6c9da19adc67"
      },
      "execution_count": null,
      "outputs": [
        {
          "output_type": "stream",
          "name": "stdout",
          "text": [
            "Max number of genres: 11\n",
            "Min number of genres: 1\n"
          ]
        },
        {
          "output_type": "stream",
          "name": "stderr",
          "text": [
            "<ipython-input-22-cfd7dd0bf5c5>:4: SettingWithCopyWarning: \n",
            "A value is trying to be set on a copy of a slice from a DataFrame.\n",
            "Try using .loc[row_indexer,col_indexer] = value instead\n",
            "\n",
            "See the caveats in the documentation: https://pandas.pydata.org/pandas-docs/stable/user_guide/indexing.html#returning-a-view-versus-a-copy\n",
            "  non_null['num_genres'] = non_null['genres'].apply(lambda x: len(x) if isinstance(x, list) else 0)\n"
          ]
        }
      ]
    },
    {
      "cell_type": "code",
      "source": [
        "# Using a Set Transformer instead of sklearn's PCA because PCA requires all\n",
        "# input vectors to be in the same dimensions.\n",
        "# I don't want to pad the genre vectors, as I think it's unnecessary within\n",
        "# the context using genres as the similarity measure.\n",
        "class SetTransformer(nn.Module):\n",
        "    def __init__(self, input_dim, output_dim, embed_dim=16, num_heads=4, hidden_dim=128):\n",
        "        super(SetTransformer, self).__init__()\n",
        "        self.embed = nn.Linear(input_dim, embed_dim)\n",
        "        self.self_attention = nn.MultiheadAttention(embed_dim, num_heads)\n",
        "        self.pool = nn.Linear(embed_dim, hidden_dim)\n",
        "        self.output_layer = nn.Linear(hidden_dim, output_dim)\n",
        "\n",
        "    def forward(self, x):\n",
        "      x = self.embed(x)  # Shape: [batch_size, embed_dim]\n",
        "      x = x.unsqueeze(0)  # Add seq_length dimension, making shape [1, batch_size, embed_dim]\n",
        "      x = x.transpose(0, 1)  # Shape: [seq_length, batch_size, embed_dim]\n",
        "      attn_output, _ = self.self_attention(x, x, x)  # Attention mechanism\n",
        "      pooled_output = torch.mean(attn_output, dim=0)  # Mean pooling across the sequence\n",
        "      output = self.output_layer(self.pool(pooled_output))  # Final output\n",
        "      return output"
      ],
      "metadata": {
        "id": "he5N1AFqGQJ6"
      },
      "execution_count": null,
      "outputs": []
    },
    {
      "cell_type": "code",
      "source": [
        "def dimension_reduction(genres):\n",
        "    genre_tensor = torch.tensor(genres, dtype=torch.float).unsqueeze(1)\n",
        "    return set_transformer(genre_tensor).detach().numpy()"
      ],
      "metadata": {
        "id": "Rkyx-FWHHB1z"
      },
      "execution_count": null,
      "outputs": []
    },
    {
      "cell_type": "code",
      "source": [
        "# Parameters\n",
        "input_dim = 1  # Genres in 1d space\n",
        "embed_dim = 16\n",
        "num_heads = 4\n",
        "output_dim = min_genres\n",
        "\n",
        "set_transformer = SetTransformer(input_dim=input_dim, output_dim=output_dim, embed_dim=embed_dim, num_heads=num_heads)"
      ],
      "metadata": {
        "id": "opoTcd96GUOh",
        "colab": {
          "base_uri": "https://localhost:8080/"
        },
        "outputId": "4724b7bc-855b-407e-c753-c1eb89ce1f41"
      },
      "execution_count": null,
      "outputs": [
        {
          "output_type": "stream",
          "name": "stderr",
          "text": [
            "/usr/local/lib/python3.10/dist-packages/torch/nn/init.py:511: UserWarning: Initializing zero-element tensors is a no-op\n",
            "  warnings.warn(\"Initializing zero-element tensors is a no-op\")\n"
          ]
        }
      ]
    },
    {
      "cell_type": "code",
      "source": [
        "vectorirzed_df['reduced_genre_vectors'] = vectorirzed_df['genres'].apply(lambda genres: dimension_reduction(eval(genres)))"
      ],
      "metadata": {
        "id": "MECjdxsZHAmW",
        "colab": {
          "base_uri": "https://localhost:8080/",
          "height": 287
        },
        "outputId": "883de7a5-0501-4fa8-dd03-858526f3ca83"
      },
      "execution_count": null,
      "outputs": [
        {
          "output_type": "error",
          "ename": "IndexError",
          "evalue": "Dimension out of range (expected to be in range of [-1, 0], but got 1)",
          "traceback": [
            "\u001b[0;31m---------------------------------------------------------------------------\u001b[0m",
            "\u001b[0;31mIndexError\u001b[0m                                Traceback (most recent call last)",
            "\u001b[0;32m<ipython-input-86-cfdde05956d8>\u001b[0m in \u001b[0;36m<cell line: 1>\u001b[0;34m()\u001b[0m\n\u001b[0;32m----> 1\u001b[0;31m \u001b[0mvectorirzed_df\u001b[0m\u001b[0;34m[\u001b[0m\u001b[0;34m'reduced_genre_vectors'\u001b[0m\u001b[0;34m]\u001b[0m \u001b[0;34m=\u001b[0m \u001b[0mvectorirzed_df\u001b[0m\u001b[0;34m[\u001b[0m\u001b[0;34m'genres'\u001b[0m\u001b[0;34m]\u001b[0m\u001b[0;34m.\u001b[0m\u001b[0mapply\u001b[0m\u001b[0;34m(\u001b[0m\u001b[0;32mlambda\u001b[0m \u001b[0mgenres\u001b[0m\u001b[0;34m:\u001b[0m \u001b[0mdimension_reduction\u001b[0m\u001b[0;34m(\u001b[0m\u001b[0mgenres\u001b[0m\u001b[0;34m)\u001b[0m\u001b[0;34m)\u001b[0m\u001b[0;34m\u001b[0m\u001b[0;34m\u001b[0m\u001b[0m\n\u001b[0m",
            "\u001b[0;32m/usr/local/lib/python3.10/dist-packages/pandas/core/series.py\u001b[0m in \u001b[0;36mapply\u001b[0;34m(self, func, convert_dtype, args, by_row, **kwargs)\u001b[0m\n\u001b[1;32m   4922\u001b[0m             \u001b[0margs\u001b[0m\u001b[0;34m=\u001b[0m\u001b[0margs\u001b[0m\u001b[0;34m,\u001b[0m\u001b[0;34m\u001b[0m\u001b[0;34m\u001b[0m\u001b[0m\n\u001b[1;32m   4923\u001b[0m             \u001b[0mkwargs\u001b[0m\u001b[0;34m=\u001b[0m\u001b[0mkwargs\u001b[0m\u001b[0;34m,\u001b[0m\u001b[0;34m\u001b[0m\u001b[0;34m\u001b[0m\u001b[0m\n\u001b[0;32m-> 4924\u001b[0;31m         ).apply()\n\u001b[0m\u001b[1;32m   4925\u001b[0m \u001b[0;34m\u001b[0m\u001b[0m\n\u001b[1;32m   4926\u001b[0m     def _reindex_indexer(\n",
            "\u001b[0;32m/usr/local/lib/python3.10/dist-packages/pandas/core/apply.py\u001b[0m in \u001b[0;36mapply\u001b[0;34m(self)\u001b[0m\n\u001b[1;32m   1425\u001b[0m \u001b[0;34m\u001b[0m\u001b[0m\n\u001b[1;32m   1426\u001b[0m         \u001b[0;31m# self.func is Callable\u001b[0m\u001b[0;34m\u001b[0m\u001b[0;34m\u001b[0m\u001b[0m\n\u001b[0;32m-> 1427\u001b[0;31m         \u001b[0;32mreturn\u001b[0m \u001b[0mself\u001b[0m\u001b[0;34m.\u001b[0m\u001b[0mapply_standard\u001b[0m\u001b[0;34m(\u001b[0m\u001b[0;34m)\u001b[0m\u001b[0;34m\u001b[0m\u001b[0;34m\u001b[0m\u001b[0m\n\u001b[0m\u001b[1;32m   1428\u001b[0m \u001b[0;34m\u001b[0m\u001b[0m\n\u001b[1;32m   1429\u001b[0m     \u001b[0;32mdef\u001b[0m \u001b[0magg\u001b[0m\u001b[0;34m(\u001b[0m\u001b[0mself\u001b[0m\u001b[0;34m)\u001b[0m\u001b[0;34m:\u001b[0m\u001b[0;34m\u001b[0m\u001b[0;34m\u001b[0m\u001b[0m\n",
            "\u001b[0;32m/usr/local/lib/python3.10/dist-packages/pandas/core/apply.py\u001b[0m in \u001b[0;36mapply_standard\u001b[0;34m(self)\u001b[0m\n\u001b[1;32m   1505\u001b[0m         \u001b[0;31m#  Categorical (GH51645).\u001b[0m\u001b[0;34m\u001b[0m\u001b[0;34m\u001b[0m\u001b[0m\n\u001b[1;32m   1506\u001b[0m         \u001b[0maction\u001b[0m \u001b[0;34m=\u001b[0m \u001b[0;34m\"ignore\"\u001b[0m \u001b[0;32mif\u001b[0m \u001b[0misinstance\u001b[0m\u001b[0;34m(\u001b[0m\u001b[0mobj\u001b[0m\u001b[0;34m.\u001b[0m\u001b[0mdtype\u001b[0m\u001b[0;34m,\u001b[0m \u001b[0mCategoricalDtype\u001b[0m\u001b[0;34m)\u001b[0m \u001b[0;32melse\u001b[0m \u001b[0;32mNone\u001b[0m\u001b[0;34m\u001b[0m\u001b[0;34m\u001b[0m\u001b[0m\n\u001b[0;32m-> 1507\u001b[0;31m         mapped = obj._map_values(\n\u001b[0m\u001b[1;32m   1508\u001b[0m             \u001b[0mmapper\u001b[0m\u001b[0;34m=\u001b[0m\u001b[0mcurried\u001b[0m\u001b[0;34m,\u001b[0m \u001b[0mna_action\u001b[0m\u001b[0;34m=\u001b[0m\u001b[0maction\u001b[0m\u001b[0;34m,\u001b[0m \u001b[0mconvert\u001b[0m\u001b[0;34m=\u001b[0m\u001b[0mself\u001b[0m\u001b[0;34m.\u001b[0m\u001b[0mconvert_dtype\u001b[0m\u001b[0;34m\u001b[0m\u001b[0;34m\u001b[0m\u001b[0m\n\u001b[1;32m   1509\u001b[0m         )\n",
            "\u001b[0;32m/usr/local/lib/python3.10/dist-packages/pandas/core/base.py\u001b[0m in \u001b[0;36m_map_values\u001b[0;34m(self, mapper, na_action, convert)\u001b[0m\n\u001b[1;32m    919\u001b[0m             \u001b[0;32mreturn\u001b[0m \u001b[0marr\u001b[0m\u001b[0;34m.\u001b[0m\u001b[0mmap\u001b[0m\u001b[0;34m(\u001b[0m\u001b[0mmapper\u001b[0m\u001b[0;34m,\u001b[0m \u001b[0mna_action\u001b[0m\u001b[0;34m=\u001b[0m\u001b[0mna_action\u001b[0m\u001b[0;34m)\u001b[0m\u001b[0;34m\u001b[0m\u001b[0;34m\u001b[0m\u001b[0m\n\u001b[1;32m    920\u001b[0m \u001b[0;34m\u001b[0m\u001b[0m\n\u001b[0;32m--> 921\u001b[0;31m         \u001b[0;32mreturn\u001b[0m \u001b[0malgorithms\u001b[0m\u001b[0;34m.\u001b[0m\u001b[0mmap_array\u001b[0m\u001b[0;34m(\u001b[0m\u001b[0marr\u001b[0m\u001b[0;34m,\u001b[0m \u001b[0mmapper\u001b[0m\u001b[0;34m,\u001b[0m \u001b[0mna_action\u001b[0m\u001b[0;34m=\u001b[0m\u001b[0mna_action\u001b[0m\u001b[0;34m,\u001b[0m \u001b[0mconvert\u001b[0m\u001b[0;34m=\u001b[0m\u001b[0mconvert\u001b[0m\u001b[0;34m)\u001b[0m\u001b[0;34m\u001b[0m\u001b[0;34m\u001b[0m\u001b[0m\n\u001b[0m\u001b[1;32m    922\u001b[0m \u001b[0;34m\u001b[0m\u001b[0m\n\u001b[1;32m    923\u001b[0m     \u001b[0;34m@\u001b[0m\u001b[0mfinal\u001b[0m\u001b[0;34m\u001b[0m\u001b[0;34m\u001b[0m\u001b[0m\n",
            "\u001b[0;32m/usr/local/lib/python3.10/dist-packages/pandas/core/algorithms.py\u001b[0m in \u001b[0;36mmap_array\u001b[0;34m(arr, mapper, na_action, convert)\u001b[0m\n\u001b[1;32m   1741\u001b[0m     \u001b[0mvalues\u001b[0m \u001b[0;34m=\u001b[0m \u001b[0marr\u001b[0m\u001b[0;34m.\u001b[0m\u001b[0mastype\u001b[0m\u001b[0;34m(\u001b[0m\u001b[0mobject\u001b[0m\u001b[0;34m,\u001b[0m \u001b[0mcopy\u001b[0m\u001b[0;34m=\u001b[0m\u001b[0;32mFalse\u001b[0m\u001b[0;34m)\u001b[0m\u001b[0;34m\u001b[0m\u001b[0;34m\u001b[0m\u001b[0m\n\u001b[1;32m   1742\u001b[0m     \u001b[0;32mif\u001b[0m \u001b[0mna_action\u001b[0m \u001b[0;32mis\u001b[0m \u001b[0;32mNone\u001b[0m\u001b[0;34m:\u001b[0m\u001b[0;34m\u001b[0m\u001b[0;34m\u001b[0m\u001b[0m\n\u001b[0;32m-> 1743\u001b[0;31m         \u001b[0;32mreturn\u001b[0m \u001b[0mlib\u001b[0m\u001b[0;34m.\u001b[0m\u001b[0mmap_infer\u001b[0m\u001b[0;34m(\u001b[0m\u001b[0mvalues\u001b[0m\u001b[0;34m,\u001b[0m \u001b[0mmapper\u001b[0m\u001b[0;34m,\u001b[0m \u001b[0mconvert\u001b[0m\u001b[0;34m=\u001b[0m\u001b[0mconvert\u001b[0m\u001b[0;34m)\u001b[0m\u001b[0;34m\u001b[0m\u001b[0;34m\u001b[0m\u001b[0m\n\u001b[0m\u001b[1;32m   1744\u001b[0m     \u001b[0;32melse\u001b[0m\u001b[0;34m:\u001b[0m\u001b[0;34m\u001b[0m\u001b[0;34m\u001b[0m\u001b[0m\n\u001b[1;32m   1745\u001b[0m         return lib.map_infer_mask(\n",
            "\u001b[0;32mlib.pyx\u001b[0m in \u001b[0;36mpandas._libs.lib.map_infer\u001b[0;34m()\u001b[0m\n",
            "\u001b[0;32m<ipython-input-86-cfdde05956d8>\u001b[0m in \u001b[0;36m<lambda>\u001b[0;34m(genres)\u001b[0m\n\u001b[0;32m----> 1\u001b[0;31m \u001b[0mvectorirzed_df\u001b[0m\u001b[0;34m[\u001b[0m\u001b[0;34m'reduced_genre_vectors'\u001b[0m\u001b[0;34m]\u001b[0m \u001b[0;34m=\u001b[0m \u001b[0mvectorirzed_df\u001b[0m\u001b[0;34m[\u001b[0m\u001b[0;34m'genres'\u001b[0m\u001b[0;34m]\u001b[0m\u001b[0;34m.\u001b[0m\u001b[0mapply\u001b[0m\u001b[0;34m(\u001b[0m\u001b[0;32mlambda\u001b[0m \u001b[0mgenres\u001b[0m\u001b[0;34m:\u001b[0m \u001b[0mdimension_reduction\u001b[0m\u001b[0;34m(\u001b[0m\u001b[0mgenres\u001b[0m\u001b[0;34m)\u001b[0m\u001b[0;34m)\u001b[0m\u001b[0;34m\u001b[0m\u001b[0;34m\u001b[0m\u001b[0m\n\u001b[0m",
            "\u001b[0;32m<ipython-input-85-9883c2e4a126>\u001b[0m in \u001b[0;36mdimension_reduction\u001b[0;34m(genres)\u001b[0m\n\u001b[1;32m      1\u001b[0m \u001b[0;32mdef\u001b[0m \u001b[0mdimension_reduction\u001b[0m\u001b[0;34m(\u001b[0m\u001b[0mgenres\u001b[0m\u001b[0;34m)\u001b[0m\u001b[0;34m:\u001b[0m\u001b[0;34m\u001b[0m\u001b[0;34m\u001b[0m\u001b[0m\n\u001b[0;32m----> 2\u001b[0;31m     \u001b[0mgenre_tensor\u001b[0m \u001b[0;34m=\u001b[0m \u001b[0mtorch\u001b[0m\u001b[0;34m.\u001b[0m\u001b[0mtensor\u001b[0m\u001b[0;34m(\u001b[0m\u001b[0mgenres\u001b[0m\u001b[0;34m,\u001b[0m \u001b[0mdtype\u001b[0m\u001b[0;34m=\u001b[0m\u001b[0mtorch\u001b[0m\u001b[0;34m.\u001b[0m\u001b[0mfloat\u001b[0m\u001b[0;34m)\u001b[0m\u001b[0;34m.\u001b[0m\u001b[0munsqueeze\u001b[0m\u001b[0;34m(\u001b[0m\u001b[0;36m1\u001b[0m\u001b[0;34m)\u001b[0m\u001b[0;34m\u001b[0m\u001b[0;34m\u001b[0m\u001b[0m\n\u001b[0m\u001b[1;32m      3\u001b[0m     \u001b[0;32mreturn\u001b[0m \u001b[0mset_transformer\u001b[0m\u001b[0;34m(\u001b[0m\u001b[0mgenre_tensor\u001b[0m\u001b[0;34m)\u001b[0m\u001b[0;34m.\u001b[0m\u001b[0mdetach\u001b[0m\u001b[0;34m(\u001b[0m\u001b[0;34m)\u001b[0m\u001b[0;34m.\u001b[0m\u001b[0mnumpy\u001b[0m\u001b[0;34m(\u001b[0m\u001b[0;34m)\u001b[0m\u001b[0;34m\u001b[0m\u001b[0;34m\u001b[0m\u001b[0m\n",
            "\u001b[0;31mIndexError\u001b[0m: Dimension out of range (expected to be in range of [-1, 0], but got 1)"
          ]
        }
      ]
    },
    {
      "cell_type": "markdown",
      "source": [
        "## NLP testing\n"
      ],
      "metadata": {
        "id": "vb4dfI8mjUyg"
      }
    },
    {
      "cell_type": "code",
      "source": [
        "!pip install -U pip setuptools wheel\n",
        "!pip install -U spacy\n",
        "!python -m spacy download en_core_web_sm"
      ],
      "metadata": {
        "id": "OXF-t75vjc0G",
        "collapsed": true
      },
      "execution_count": null,
      "outputs": []
    },
    {
      "cell_type": "code",
      "source": [
        "!pip install https://github.com/MartinoMensio/spacy-universal-sentence-encoder/releases/download/v0.4.6/en_use_lg-0.4.6.tar.gz#en_use_lg-0.4.6"
      ],
      "metadata": {
        "id": "Bc9gu9kJj_Eq",
        "collapsed": true
      },
      "execution_count": null,
      "outputs": []
    },
    {
      "cell_type": "code",
      "source": [
        "import spacy\n",
        "import spacy_universal_sentence_encoder"
      ],
      "metadata": {
        "id": "-UueeCJPkywk"
      },
      "execution_count": null,
      "outputs": []
    },
    {
      "cell_type": "code",
      "source": [
        "!pip install spacy spacy-universal-sentence-encoder"
      ],
      "metadata": {
        "collapsed": true,
        "id": "nw3atsAuXqEm"
      },
      "execution_count": null,
      "outputs": []
    },
    {
      "cell_type": "code",
      "source": [
        "nlp = spacy.load('en_use_lg')"
      ],
      "metadata": {
        "id": "qxjXD8p3UFm_"
      },
      "execution_count": null,
      "outputs": []
    },
    {
      "cell_type": "code",
      "source": [
        "doc_1 = nlp('Hi there, how are you?')\n",
        "print(doc_1.vector.shape) # the full document representation"
      ],
      "metadata": {
        "id": "P6pE7JYBS8Hf"
      },
      "execution_count": null,
      "outputs": []
    },
    {
      "cell_type": "code",
      "source": [
        "doc_2 = nlp('What\\'s up?')"
      ],
      "metadata": {
        "id": "5-bPifxzTTrx"
      },
      "execution_count": null,
      "outputs": []
    },
    {
      "cell_type": "code",
      "source": [
        "print(doc_1.similarity(doc_2[0:7]))"
      ],
      "metadata": {
        "id": "riVGOAfSVi8J"
      },
      "execution_count": null,
      "outputs": []
    },
    {
      "cell_type": "code",
      "source": [
        "doc_2.vector"
      ],
      "metadata": {
        "collapsed": true,
        "id": "vwExpYOtYNbn"
      },
      "execution_count": null,
      "outputs": []
    },
    {
      "cell_type": "code",
      "source": [
        "genres = {\"Horror\", \"Science Fiction\", \"Action\"}"
      ],
      "metadata": {
        "id": "XLy7b3zfZB2V"
      },
      "execution_count": null,
      "outputs": []
    },
    {
      "cell_type": "code",
      "source": [
        "word_vectors = {genre: nlp(genre).vector for genre in genres}"
      ],
      "metadata": {
        "id": "noa2bp4paeFW"
      },
      "execution_count": null,
      "outputs": []
    },
    {
      "cell_type": "code",
      "source": [
        "len(word_vectors['Action'])"
      ],
      "metadata": {
        "id": "NMZ8BV-DalBY"
      },
      "execution_count": null,
      "outputs": []
    },
    {
      "cell_type": "code",
      "source": [
        "working_df = modern_feature_films.copy()"
      ],
      "metadata": {
        "id": "U5PC9x0HanYr"
      },
      "execution_count": null,
      "outputs": []
    },
    {
      "cell_type": "code",
      "source": [
        "def vectorize(genres):\n",
        "    return [nlp(genre).vector for genre in genres]"
      ],
      "metadata": {
        "id": "1IhsI9qQemt3"
      },
      "execution_count": null,
      "outputs": []
    },
    {
      "cell_type": "code",
      "source": [
        "working_df['genre_vectors'] = working_df['genres'].apply(vectorize)"
      ],
      "metadata": {
        "id": "Eq3TIqJhl2Em"
      },
      "execution_count": null,
      "outputs": []
    },
    {
      "cell_type": "code",
      "source": [
        "# get all the genres that exist in our list of movies\n",
        "# get the max number of genres that a movie can have (basically whatever movie\n",
        "# has the max)\n",
        "# this max is the number of dimensions we work in\n",
        "\n",
        "# for each movie, convert the list of genres to a list of vectors\n"
      ],
      "metadata": {
        "id": "Q9p-eG95mIIZ"
      },
      "execution_count": null,
      "outputs": []
    }
  ]
}